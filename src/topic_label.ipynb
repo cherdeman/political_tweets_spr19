{
 "cells": [
  {
   "cell_type": "code",
   "execution_count": 21,
   "metadata": {},
   "outputs": [],
   "source": [
    "from db_client import DBClient\n",
    "from analysis.data_clean import DataClean\n",
    "import pandas as pd\n",
    "import ast\n",
    "from nltk.util import ngrams"
   ]
  },
  {
   "cell_type": "code",
   "execution_count": 3,
   "metadata": {
    "collapsed": true
   },
   "outputs": [],
   "source": [
    "def get_word_counts(bow_corpus):\n",
    "    counts = {}\n",
    "    for bow in bow_corpus:\n",
    "        for word in bow:\n",
    "            if word[0] not in counts.keys():\n",
    "                counts[word[0]] = 0\n",
    "            counts[word[0]] += word[1]\n",
    "    return [(k, counts[k]) for k in sorted(counts, key=counts.get, reverse=True)]\n",
    "\n",
    "def print_word_counts(word_counts, num_words, word_dict):\n",
    "    for tup in word_counts[0:num_words]:\n",
    "        print(f\"{word_dict[tup[0]]}, {tup[1]} times\")"
   ]
  },
  {
   "cell_type": "code",
   "execution_count": 4,
   "metadata": {},
   "outputs": [
    {
     "name": "stdout",
     "output_type": "stream",
     "text": [
      "Connected to political tweets DB\n",
      "db write committed\n"
     ]
    }
   ],
   "source": [
    "# create db client and set seed\n",
    "db = DBClient()\n",
    "db.write([\"SELECT setseed(0.5)\"])"
   ]
  },
  {
   "cell_type": "code",
   "execution_count": 12,
   "metadata": {},
   "outputs": [],
   "source": [
    "select_hash_dem = [\"#bluewave2018\", \"#bluewave18\", \"#bluewave\", \"#democrats\", \"#resist\", \"#resistance\", \"#voteblue\", \n",
    "\"#Votethemout\", \"#WinBlue\", \"#YesWeCan\", \"#FlipItBlue\"]\n",
    "\n",
    "select_hash_rep = [\"#trump\", \"#maga\", \"#gop\", \"#republican\", \"#trumptrain\", \"#kag\", \"#LeadRight\", \"#VoteRed\", \n",
    "\"#RedWave\", \"#VoteDemsOut\"]\n",
    "\n",
    "select_hash = select_hash_dem + select_hash_rep\n",
    "dc = DataClean(select_hash)"
   ]
  },
  {
   "cell_type": "code",
   "execution_count": 5,
   "metadata": {
    "collapsed": true
   },
   "outputs": [],
   "source": [
    "data_query = \"\"\"\n",
    "with random_tweets as (\n",
    "    select tweet_text_clean, Random() from staging.{}\n",
    "    where tweet_date between '2018-01-01' and '2019-01-01'\n",
    "    order by Random()\n",
    "    limit 50000)\n",
    "select tweet_text_clean \n",
    "from random_tweets;\n",
    "\"\"\""
   ]
  },
  {
   "cell_type": "code",
   "execution_count": 19,
   "metadata": {},
   "outputs": [],
   "source": [
    "docs = []\n",
    "for table in [\"democrat\", \"republican\", \"house\", \"senate\"]:\n",
    "    tweets = pd.DataFrame(db.read(data_query.format(table)))\n",
    "    docs = docs + [ast.literal_eval(doc) for doc in tweets[0].tolist()]\n",
    "    "
   ]
  },
  {
   "cell_type": "code",
   "execution_count": 24,
   "metadata": {},
   "outputs": [
    {
     "data": {
      "text/plain": [
       "['@knoone413',\n",
       " '@superstimpy',\n",
       " '@nbcolympics',\n",
       " 'insult',\n",
       " '#socialism',\n",
       " '#feelthebern',\n",
       " 'folk',\n",
       " 'know',\n",
       " 'ask',\n",
       " 'also',\n",
       " '#imwithher',\n",
       " '#democrats',\n",
       " 'also',\n",
       " 'pull',\n",
       " '#fakenews',\n",
       " 'especially',\n",
       " '@cnn',\n",
       " '@nytimes',\n",
       " '#maga',\n",
       " '#trumptrain']"
      ]
     },
     "execution_count": 24,
     "metadata": {},
     "output_type": "execute_result"
    }
   ],
   "source": []
  },
  {
   "cell_type": "code",
   "execution_count": 13,
   "metadata": {
    "collapsed": true
   },
   "outputs": [],
   "source": []
  },
  {
   "cell_type": "code",
   "execution_count": null,
   "metadata": {},
   "outputs": [],
   "source": []
  },
  {
   "cell_type": "code",
   "execution_count": 20,
   "metadata": {
    "collapsed": true
   },
   "outputs": [],
   "source": [
    "def bigrams(tweet):\n",
    "    return [\"_\".join(w) for w in ngrams(tweet, 2)]"
   ]
  },
  {
   "cell_type": "code",
   "execution_count": 25,
   "metadata": {},
   "outputs": [
    {
     "name": "stderr",
     "output_type": "stream",
     "text": [
      "/Users/alenastern/anaconda3/lib/python3.6/site-packages/ipykernel_launcher.py:2: DeprecationWarning: generator 'ngrams' raised StopIteration\n",
      "  \n"
     ]
    }
   ],
   "source": [
    "bigrams = list(map(bigrams, docs))"
   ]
  },
  {
   "cell_type": "code",
   "execution_count": 32,
   "metadata": {},
   "outputs": [],
   "source": [
    "bigrams =[tweet for tweet in bigrams if len(tweet) > 0]"
   ]
  },
  {
   "cell_type": "code",
   "execution_count": 33,
   "metadata": {},
   "outputs": [
    {
     "data": {
      "text/plain": [
       "192580"
      ]
     },
     "execution_count": 33,
     "metadata": {},
     "output_type": "execute_result"
    }
   ],
   "source": [
    "len(bigrams)"
   ]
  },
  {
   "cell_type": "code",
   "execution_count": null,
   "metadata": {
    "collapsed": true
   },
   "outputs": [],
   "source": []
  }
 ],
 "metadata": {
  "kernelspec": {
   "display_name": "Python 3",
   "language": "python",
   "name": "python3"
  },
  "language_info": {
   "codemirror_mode": {
    "name": "ipython",
    "version": 3
   },
   "file_extension": ".py",
   "mimetype": "text/x-python",
   "name": "python",
   "nbconvert_exporter": "python",
   "pygments_lexer": "ipython3",
   "version": "3.6.3"
  }
 },
 "nbformat": 4,
 "nbformat_minor": 2
}
