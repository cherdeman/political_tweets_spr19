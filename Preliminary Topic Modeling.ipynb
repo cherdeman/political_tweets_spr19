{
 "cells": [
  {
   "cell_type": "markdown",
   "metadata": {},
   "source": [
    "# Preliminary \"Base\" Topic Modeling\n",
    "Citation:\n",
    "https://towardsdatascience.com/topic-modeling-and-latent-dirichlet-allocation-in-python-9bf156893c24"
   ]
  },
  {
   "cell_type": "code",
   "execution_count": 1,
   "metadata": {},
   "outputs": [
    {
     "name": "stderr",
     "output_type": "stream",
     "text": [
      "/Users/alenastern/anaconda3/lib/python3.6/site-packages/psycopg2/__init__.py:144: UserWarning: The psycopg2 wheel package will be renamed from release 2.8; in order to keep installing from binary please use \"pip install psycopg2-binary\" instead. For details see: <http://initd.org/psycopg/docs/install.html#binary-install-from-pypi>.\n",
      "  \"\"\")\n"
     ]
    }
   ],
   "source": [
    "from src.db_client import DBClient\n",
    "import pandas as pd\n",
    "from gensim import corpora, models\n",
    "import ast"
   ]
  },
  {
   "cell_type": "code",
   "execution_count": 2,
   "metadata": {},
   "outputs": [
    {
     "name": "stdout",
     "output_type": "stream",
     "text": [
      "Connected to political tweets DB\n"
     ]
    }
   ],
   "source": [
    "db = DBClient(secrets_path = \"configs/db_secrets.json\")"
   ]
  },
  {
   "cell_type": "code",
   "execution_count": 3,
   "metadata": {
    "collapsed": true
   },
   "outputs": [],
   "source": [
    "data_query = \"\"\"\n",
    "with random_tweets as (\n",
    "    select tweet_text_clean, Random() from staging.{}\n",
    "    where tweet_date between '2018-01-01' and '2019-01-01'\n",
    "    order by Random()\n",
    "    limit 10000)\n",
    "select tweet_text_clean \n",
    "from random_tweets;\n",
    "\"\"\""
   ]
  },
  {
   "cell_type": "code",
   "execution_count": 75,
   "metadata": {
    "collapsed": true
   },
   "outputs": [],
   "source": [
    "tax_query = \"\"\"\n",
    "select tweet_text_clean from staging.{}\n",
    "where tweet_date between '2018-01-01' and '2019-01-01'\n",
    "and tweet_text_clean like '%health%'\n",
    "limit 10000  \n",
    "\"\"\""
   ]
  },
  {
   "cell_type": "code",
   "execution_count": 3,
   "metadata": {
    "collapsed": true
   },
   "outputs": [],
   "source": [
    "def get_word_counts(bow_corpus):\n",
    "    counts = {}\n",
    "    for bow in bow_corpus:\n",
    "        for word in bow:\n",
    "            if word[0] not in counts.keys():\n",
    "                counts[word[0]] = 0\n",
    "            counts[word[0]] += word[1]\n",
    "    return [(k, counts[k]) for k in sorted(counts, key=counts.get, reverse=True)]\n",
    "\n",
    "def print_word_counts(word_counts, num_words):\n",
    "    for tup in word_counts[0:num_words]:\n",
    "        print(f\"{dem_dict[tup[0]]}, {tup[1]} times\")"
   ]
  },
  {
   "cell_type": "markdown",
   "metadata": {},
   "source": [
    "## Democrats"
   ]
  },
  {
   "cell_type": "code",
   "execution_count": 76,
   "metadata": {
    "collapsed": true
   },
   "outputs": [],
   "source": [
    "dem_tax_tweets = pd.DataFrame(db.read(tax_query.format(\"democrat\")))"
   ]
  },
  {
   "cell_type": "code",
   "execution_count": 77,
   "metadata": {},
   "outputs": [
    {
     "data": {
      "text/html": [
       "<div>\n",
       "<style scoped>\n",
       "    .dataframe tbody tr th:only-of-type {\n",
       "        vertical-align: middle;\n",
       "    }\n",
       "\n",
       "    .dataframe tbody tr th {\n",
       "        vertical-align: top;\n",
       "    }\n",
       "\n",
       "    .dataframe thead th {\n",
       "        text-align: right;\n",
       "    }\n",
       "</style>\n",
       "<table border=\"1\" class=\"dataframe\">\n",
       "  <thead>\n",
       "    <tr style=\"text-align: right;\">\n",
       "      <th></th>\n",
       "      <th>0</th>\n",
       "    </tr>\n",
       "  </thead>\n",
       "  <tbody>\n",
       "    <tr>\n",
       "      <th>0</th>\n",
       "      <td>['omg', '#barbaric', 'amp', '#fiendish', '#cor...</td>\n",
       "    </tr>\n",
       "    <tr>\n",
       "      <th>1</th>\n",
       "      <td>['@housedemocrats', '@gop', 'go', 'stop', 'pot...</td>\n",
       "    </tr>\n",
       "    <tr>\n",
       "      <th>2</th>\n",
       "      <td>['@tedlieu', '@speakerryan', 'might', 'nice', ...</td>\n",
       "    </tr>\n",
       "    <tr>\n",
       "      <th>3</th>\n",
       "      <td>['#democraticagenda', 'affordable', 'healthcar...</td>\n",
       "    </tr>\n",
       "    <tr>\n",
       "      <th>4</th>\n",
       "      <td>['@foxnews', '@gregabbotttx', 'stop', 'take', ...</td>\n",
       "    </tr>\n",
       "    <tr>\n",
       "      <th>5</th>\n",
       "      <td>['@pelucachick46', '@tomperez', '@nancypelosi'...</td>\n",
       "    </tr>\n",
       "    <tr>\n",
       "      <th>6</th>\n",
       "      <td>['healthcare', 'immigration', 'tax', 'reform',...</td>\n",
       "    </tr>\n",
       "    <tr>\n",
       "      <th>7</th>\n",
       "      <td>['@realdonaldtrump', '@momsdemand', '@corapunz...</td>\n",
       "    </tr>\n",
       "    <tr>\n",
       "      <th>8</th>\n",
       "      <td>['@realdonaldtrump', 'hey', '#oh12', '#gotv', ...</td>\n",
       "    </tr>\n",
       "    <tr>\n",
       "      <th>9</th>\n",
       "      <td>['im', 'sure', 'im', 'happy', 'result', 'study...</td>\n",
       "    </tr>\n",
       "    <tr>\n",
       "      <th>10</th>\n",
       "      <td>['chuck', 'norris', 'approves', 'get', 'fit', ...</td>\n",
       "    </tr>\n",
       "    <tr>\n",
       "      <th>11</th>\n",
       "      <td>['please', 'take', 'time', 'get', 'involved', ...</td>\n",
       "    </tr>\n",
       "    <tr>\n",
       "      <th>12</th>\n",
       "      <td>['nasty', 'woman', 'earring', '#handmade', 'sa...</td>\n",
       "    </tr>\n",
       "    <tr>\n",
       "      <th>13</th>\n",
       "      <td>['@cacountryman', '#rethinkalabama', '#neweraf...</td>\n",
       "    </tr>\n",
       "    <tr>\n",
       "      <th>14</th>\n",
       "      <td>['extremist', 'pick', 'scotus', 'could', 'pret...</td>\n",
       "    </tr>\n",
       "    <tr>\n",
       "      <th>15</th>\n",
       "      <td>['@mamarose2017', '@keanothedog', '@troublingt...</td>\n",
       "    </tr>\n",
       "    <tr>\n",
       "      <th>16</th>\n",
       "      <td>['paycheck', '8181', 'month', '@gop', 'tax', '...</td>\n",
       "    </tr>\n",
       "    <tr>\n",
       "      <th>17</th>\n",
       "      <td>['wake', 'call', 'think', 'vote', 'doesnt', 'm...</td>\n",
       "    </tr>\n",
       "    <tr>\n",
       "      <th>18</th>\n",
       "      <td>['rt', '#election2018', 'cd22', '#winblue', 's...</td>\n",
       "    </tr>\n",
       "    <tr>\n",
       "      <th>19</th>\n",
       "      <td>['@pajjr2016', '@bornabrit1', 'hell', 'see', '...</td>\n",
       "    </tr>\n",
       "    <tr>\n",
       "      <th>20</th>\n",
       "      <td>['leave', 'another', 'evening', '@flipitblue',...</td>\n",
       "    </tr>\n",
       "    <tr>\n",
       "      <th>21</th>\n",
       "      <td>['new', '#healthcare', 'sabotage', 'trump', 'o...</td>\n",
       "    </tr>\n",
       "    <tr>\n",
       "      <th>22</th>\n",
       "      <td>['@aquilasuperbia', '@nutritionbee', '@eatheal...</td>\n",
       "    </tr>\n",
       "    <tr>\n",
       "      <th>23</th>\n",
       "      <td>['havent', 'voted', 'vote', 'danny', 'oconnor'...</td>\n",
       "    </tr>\n",
       "    <tr>\n",
       "      <th>24</th>\n",
       "      <td>['thank', 'everyone', 'march', 'calledpostcard...</td>\n",
       "    </tr>\n",
       "    <tr>\n",
       "      <th>25</th>\n",
       "      <td>['body', 'never', 'compare', 'halfeaten', 'foo...</td>\n",
       "    </tr>\n",
       "    <tr>\n",
       "      <th>26</th>\n",
       "      <td>['mad', '@barackobama', 'didnt', 'sign', 'bill...</td>\n",
       "    </tr>\n",
       "    <tr>\n",
       "      <th>27</th>\n",
       "      <td>['big', 'thanks', '@coloradodems', 'endorsemen...</td>\n",
       "    </tr>\n",
       "    <tr>\n",
       "      <th>28</th>\n",
       "      <td>['@heyyou2486', 'hi', 'im', 'sorry', 'miss', '...</td>\n",
       "    </tr>\n",
       "    <tr>\n",
       "      <th>29</th>\n",
       "      <td>['@kharyp', '#grabyourwallet', '@cvspharmacy',...</td>\n",
       "    </tr>\n",
       "    <tr>\n",
       "      <th>...</th>\n",
       "      <td>...</td>\n",
       "    </tr>\n",
       "    <tr>\n",
       "      <th>976</th>\n",
       "      <td>['#jeffflake', 'permanently', 'go', 'away', 'd...</td>\n",
       "    </tr>\n",
       "    <tr>\n",
       "      <th>977</th>\n",
       "      <td>['florida', 'friend', 'family', 'gotv', 'yall'...</td>\n",
       "    </tr>\n",
       "    <tr>\n",
       "      <th>978</th>\n",
       "      <td>['@jamesmpope', '@cspanwj', '@mkazin', '@georg...</td>\n",
       "    </tr>\n",
       "    <tr>\n",
       "      <th>979</th>\n",
       "      <td>['thank', 'continued', 'support', 'amp', 'stro...</td>\n",
       "    </tr>\n",
       "    <tr>\n",
       "      <th>980</th>\n",
       "      <td>['resistance', 'need', 'rightwing', 'judge', '...</td>\n",
       "    </tr>\n",
       "    <tr>\n",
       "      <th>981</th>\n",
       "      <td>['im', '#teampelosi', 'freshman', 'newbie', 'o...</td>\n",
       "    </tr>\n",
       "    <tr>\n",
       "      <th>982</th>\n",
       "      <td>['@markknoller', '@presssec', '@kellyannepolls...</td>\n",
       "    </tr>\n",
       "    <tr>\n",
       "      <th>983</th>\n",
       "      <td>['#voteblue', 'say', 'yes', 'affordable', 'hea...</td>\n",
       "    </tr>\n",
       "    <tr>\n",
       "      <th>984</th>\n",
       "      <td>['worker', 'stage', '1day', 'protest', 'southe...</td>\n",
       "    </tr>\n",
       "    <tr>\n",
       "      <th>985</th>\n",
       "      <td>['yes', 'congrats', '@andykimnj', 'amp', '#nj0...</td>\n",
       "    </tr>\n",
       "    <tr>\n",
       "      <th>986</th>\n",
       "      <td>['keep', '#bluewave', 'go', 'write', '#postcar...</td>\n",
       "    </tr>\n",
       "    <tr>\n",
       "      <th>987</th>\n",
       "      <td>['@resetamer2018', '@gypsyinca', '@rosewoo1509...</td>\n",
       "    </tr>\n",
       "    <tr>\n",
       "      <th>988</th>\n",
       "      <td>['#smartdissent', 'database', 'action', '#trum...</td>\n",
       "    </tr>\n",
       "    <tr>\n",
       "      <th>989</th>\n",
       "      <td>['add', 'name', 'dont', 'let', 'trump', 'steal...</td>\n",
       "    </tr>\n",
       "    <tr>\n",
       "      <th>990</th>\n",
       "      <td>['@cameronkgvi', '@sruhle', 'join', '#ivoted',...</td>\n",
       "    </tr>\n",
       "    <tr>\n",
       "      <th>991</th>\n",
       "      <td>['@mimiwaltersca', 'seeeing', 'smile', 'laugh'...</td>\n",
       "    </tr>\n",
       "    <tr>\n",
       "      <th>992</th>\n",
       "      <td>['@abc', 'republican', 'still', 'try', 'kill',...</td>\n",
       "    </tr>\n",
       "    <tr>\n",
       "      <th>993</th>\n",
       "      <td>['ironyhypocrisy', 'alert', 'ppl', 'crowdfundi...</td>\n",
       "    </tr>\n",
       "    <tr>\n",
       "      <th>994</th>\n",
       "      <td>['shame', 'anyone', 'tear', '#petedavidson', '...</td>\n",
       "    </tr>\n",
       "    <tr>\n",
       "      <th>995</th>\n",
       "      <td>['mercury', 'emission', 'rollback', 'vengeful'...</td>\n",
       "    </tr>\n",
       "    <tr>\n",
       "      <th>996</th>\n",
       "      <td>['@wvjoe911', 'old', 'asshole', 'fl', 'worry',...</td>\n",
       "    </tr>\n",
       "    <tr>\n",
       "      <th>997</th>\n",
       "      <td>['@heaven526', '@individualone19', '#fbr', '#r...</td>\n",
       "    </tr>\n",
       "    <tr>\n",
       "      <th>998</th>\n",
       "      <td>['im', 'affordable', 'care', 'act', 'like', 'a...</td>\n",
       "    </tr>\n",
       "    <tr>\n",
       "      <th>999</th>\n",
       "      <td>['instead', 'bitch', '@nancypelosi', 'try', 'c...</td>\n",
       "    </tr>\n",
       "    <tr>\n",
       "      <th>1000</th>\n",
       "      <td>['@outnumberedot', '@noellenikpour', '@realdoc...</td>\n",
       "    </tr>\n",
       "    <tr>\n",
       "      <th>1001</th>\n",
       "      <td>['health', 'america', 'via', 'passle', '@axcoi...</td>\n",
       "    </tr>\n",
       "    <tr>\n",
       "      <th>1002</th>\n",
       "      <td>['@gopchairwoman', '@hawleymo', '@realdonaldtr...</td>\n",
       "    </tr>\n",
       "    <tr>\n",
       "      <th>1003</th>\n",
       "      <td>['vote', 'vote', 'vote', 'health', 'child', 'u...</td>\n",
       "    </tr>\n",
       "    <tr>\n",
       "      <th>1004</th>\n",
       "      <td>['@gop', 'amp', '@realdonaldtrump', 'afraid', ...</td>\n",
       "    </tr>\n",
       "    <tr>\n",
       "      <th>1005</th>\n",
       "      <td>['#smartdissent', 'database', 'action', '#trum...</td>\n",
       "    </tr>\n",
       "  </tbody>\n",
       "</table>\n",
       "<p>1006 rows × 1 columns</p>\n",
       "</div>"
      ],
      "text/plain": [
       "                                                      0\n",
       "0     ['omg', '#barbaric', 'amp', '#fiendish', '#cor...\n",
       "1     ['@housedemocrats', '@gop', 'go', 'stop', 'pot...\n",
       "2     ['@tedlieu', '@speakerryan', 'might', 'nice', ...\n",
       "3     ['#democraticagenda', 'affordable', 'healthcar...\n",
       "4     ['@foxnews', '@gregabbotttx', 'stop', 'take', ...\n",
       "5     ['@pelucachick46', '@tomperez', '@nancypelosi'...\n",
       "6     ['healthcare', 'immigration', 'tax', 'reform',...\n",
       "7     ['@realdonaldtrump', '@momsdemand', '@corapunz...\n",
       "8     ['@realdonaldtrump', 'hey', '#oh12', '#gotv', ...\n",
       "9     ['im', 'sure', 'im', 'happy', 'result', 'study...\n",
       "10    ['chuck', 'norris', 'approves', 'get', 'fit', ...\n",
       "11    ['please', 'take', 'time', 'get', 'involved', ...\n",
       "12    ['nasty', 'woman', 'earring', '#handmade', 'sa...\n",
       "13    ['@cacountryman', '#rethinkalabama', '#neweraf...\n",
       "14    ['extremist', 'pick', 'scotus', 'could', 'pret...\n",
       "15    ['@mamarose2017', '@keanothedog', '@troublingt...\n",
       "16    ['paycheck', '8181', 'month', '@gop', 'tax', '...\n",
       "17    ['wake', 'call', 'think', 'vote', 'doesnt', 'm...\n",
       "18    ['rt', '#election2018', 'cd22', '#winblue', 's...\n",
       "19    ['@pajjr2016', '@bornabrit1', 'hell', 'see', '...\n",
       "20    ['leave', 'another', 'evening', '@flipitblue',...\n",
       "21    ['new', '#healthcare', 'sabotage', 'trump', 'o...\n",
       "22    ['@aquilasuperbia', '@nutritionbee', '@eatheal...\n",
       "23    ['havent', 'voted', 'vote', 'danny', 'oconnor'...\n",
       "24    ['thank', 'everyone', 'march', 'calledpostcard...\n",
       "25    ['body', 'never', 'compare', 'halfeaten', 'foo...\n",
       "26    ['mad', '@barackobama', 'didnt', 'sign', 'bill...\n",
       "27    ['big', 'thanks', '@coloradodems', 'endorsemen...\n",
       "28    ['@heyyou2486', 'hi', 'im', 'sorry', 'miss', '...\n",
       "29    ['@kharyp', '#grabyourwallet', '@cvspharmacy',...\n",
       "...                                                 ...\n",
       "976   ['#jeffflake', 'permanently', 'go', 'away', 'd...\n",
       "977   ['florida', 'friend', 'family', 'gotv', 'yall'...\n",
       "978   ['@jamesmpope', '@cspanwj', '@mkazin', '@georg...\n",
       "979   ['thank', 'continued', 'support', 'amp', 'stro...\n",
       "980   ['resistance', 'need', 'rightwing', 'judge', '...\n",
       "981   ['im', '#teampelosi', 'freshman', 'newbie', 'o...\n",
       "982   ['@markknoller', '@presssec', '@kellyannepolls...\n",
       "983   ['#voteblue', 'say', 'yes', 'affordable', 'hea...\n",
       "984   ['worker', 'stage', '1day', 'protest', 'southe...\n",
       "985   ['yes', 'congrats', '@andykimnj', 'amp', '#nj0...\n",
       "986   ['keep', '#bluewave', 'go', 'write', '#postcar...\n",
       "987   ['@resetamer2018', '@gypsyinca', '@rosewoo1509...\n",
       "988   ['#smartdissent', 'database', 'action', '#trum...\n",
       "989   ['add', 'name', 'dont', 'let', 'trump', 'steal...\n",
       "990   ['@cameronkgvi', '@sruhle', 'join', '#ivoted',...\n",
       "991   ['@mimiwaltersca', 'seeeing', 'smile', 'laugh'...\n",
       "992   ['@abc', 'republican', 'still', 'try', 'kill',...\n",
       "993   ['ironyhypocrisy', 'alert', 'ppl', 'crowdfundi...\n",
       "994   ['shame', 'anyone', 'tear', '#petedavidson', '...\n",
       "995   ['mercury', 'emission', 'rollback', 'vengeful'...\n",
       "996   ['@wvjoe911', 'old', 'asshole', 'fl', 'worry',...\n",
       "997   ['@heaven526', '@individualone19', '#fbr', '#r...\n",
       "998   ['im', 'affordable', 'care', 'act', 'like', 'a...\n",
       "999   ['instead', 'bitch', '@nancypelosi', 'try', 'c...\n",
       "1000  ['@outnumberedot', '@noellenikpour', '@realdoc...\n",
       "1001  ['health', 'america', 'via', 'passle', '@axcoi...\n",
       "1002  ['@gopchairwoman', '@hawleymo', '@realdonaldtr...\n",
       "1003  ['vote', 'vote', 'vote', 'health', 'child', 'u...\n",
       "1004  ['@gop', 'amp', '@realdonaldtrump', 'afraid', ...\n",
       "1005  ['#smartdissent', 'database', 'action', '#trum...\n",
       "\n",
       "[1006 rows x 1 columns]"
      ]
     },
     "execution_count": 77,
     "metadata": {},
     "output_type": "execute_result"
    }
   ],
   "source": [
    "dem_tax_tweets"
   ]
  },
  {
   "cell_type": "markdown",
   "metadata": {},
   "source": [
    "### Preparation"
   ]
  },
  {
   "cell_type": "code",
   "execution_count": null,
   "metadata": {
    "collapsed": true
   },
   "outputs": [],
   "source": [
    "dem_tweets = pd.DataFrame(db.read(tax_query.format(\"democrat\")))\n",
    "dem_docs = [ast.literal_eval(doc) for doc in  dem_tweets[0].tolist()]\n",
    "dem_dict = corpora.Dictionary(dem_docs)"
   ]
  },
  {
   "cell_type": "code",
   "execution_count": null,
   "metadata": {
    "collapsed": true
   },
   "outputs": [],
   "source": [
    "# Alter no_above to filter out frequently occuring words\n",
    "dem_dict.filter_extremes(no_below=15, no_above=1, keep_n=10000)\n",
    "dem_bow_corpus = [dem_dict.doc2bow(doc) for doc in dem_docs]"
   ]
  },
  {
   "cell_type": "markdown",
   "metadata": {},
   "source": [
    "### Top Word Counts"
   ]
  },
  {
   "cell_type": "code",
   "execution_count": null,
   "metadata": {},
   "outputs": [],
   "source": [
    "dem_counts = get_word_counts(dem_bow_corpus)\n",
    "print_word_counts(dem_counts, 50)"
   ]
  },
  {
   "cell_type": "markdown",
   "metadata": {},
   "source": [
    "### Train Models"
   ]
  },
  {
   "cell_type": "code",
   "execution_count": null,
   "metadata": {
    "collapsed": true
   },
   "outputs": [],
   "source": [
    "dem_tfidf = models.TfidfModel(dem_bow_corpus)\n",
    "dem_corpus_tfidf = dem_tfidf[dem_bow_corpus]"
   ]
  },
  {
   "cell_type": "code",
   "execution_count": null,
   "metadata": {
    "collapsed": true
   },
   "outputs": [],
   "source": [
    "dem_lda_model = models.LdaMulticore(dem_bow_corpus, num_topics=10, id2word=dem_dict, passes=2, workers=2)\n",
    "dem_lda_model_tfidf = models.LdaMulticore(dem_corpus_tfidf, num_topics=10, id2word=dem_dict, passes=2, workers=4)"
   ]
  },
  {
   "cell_type": "markdown",
   "metadata": {},
   "source": [
    "### Print Categories"
   ]
  },
  {
   "cell_type": "code",
   "execution_count": null,
   "metadata": {},
   "outputs": [],
   "source": [
    "for idx, topic in dem_lda_model.print_topics(-1):\n",
    "    print('Topic: {} \\nWords: {}'.format(idx, topic))"
   ]
  },
  {
   "cell_type": "code",
   "execution_count": 105,
   "metadata": {},
   "outputs": [
    {
     "name": "stdout",
     "output_type": "stream",
     "text": [
      "Topic: 0 \n",
      "Words: 0.045*\"#voteblue2018\" + 0.039*\"#bluewave2018\" + 0.037*\"#healthcarevoter\" + 0.025*\"#democrats\" + 0.023*\"#atomicveterans\" + 0.023*\"#enewetak\" + 0.023*\"parity\" + 0.023*\"#gop\" + 0.022*\"#potus\" + 0.021*\"#healthcare\"\n",
      "Topic: 1 \n",
      "Words: 0.024*\"healthy\" + 0.024*\"healthcare\" + 0.021*\"right\" + 0.020*\"protect\" + 0.019*\"people\" + 0.019*\"#voteblue\" + 0.019*\"take\" + 0.017*\"amp\" + 0.016*\"#resist\" + 0.016*\"kill\"\n",
      "Topic: 2 \n",
      "Words: 0.041*\"#democrats\" + 0.027*\"#healthcare\" + 0.025*\"#voteblue\" + 0.025*\"healthcare\" + 0.024*\"#votebluetosaveamerica\" + 0.020*\"care\" + 0.020*\"democrat\" + 0.019*\"need\" + 0.018*\"must\" + 0.016*\"like\"\n",
      "Topic: 3 \n",
      "Words: 0.038*\"#voteblue\" + 0.030*\"healthcare\" + 0.019*\"woman\" + 0.018*\"amp\" + 0.016*\"#womenshealth\" + 0.016*\"country\" + 0.015*\"#metoo\" + 0.015*\"#flipitblue\" + 0.015*\"#resist\" + 0.015*\"issue\"\n",
      "Topic: 4 \n",
      "Words: 0.058*\"#resist\" + 0.032*\"#health\" + 0.029*\"health\" + 0.025*\"care\" + 0.024*\"#bluewave\" + 0.022*\"#healthcare\" + 0.020*\"#voteblue\" + 0.019*\"#maga\" + 0.018*\"#resistance\" + 0.018*\"gun\"\n",
      "Topic: 5 \n",
      "Words: 0.054*\"vote\" + 0.020*\"child\" + 0.020*\"#voteblue\" + 0.019*\"want\" + 0.019*\"social\" + 0.018*\"security\" + 0.017*\"healthcare\" + 0.016*\"amp\" + 0.016*\"#healthcare\" + 0.015*\"make\"\n",
      "Topic: 6 \n",
      "Words: 0.024*\"#healthcare\" + 0.023*\"preexist\" + 0.023*\"condition\" + 0.022*\"#maga\" + 0.021*\"lie\" + 0.019*\"#medicare\" + 0.019*\"use\" + 0.019*\"amp\" + 0.017*\"end\" + 0.017*\"#voteblue\"\n",
      "Topic: 7 \n",
      "Words: 0.027*\"health\" + 0.024*\"trump\" + 0.022*\"#resist\" + 0.021*\"vote\" + 0.021*\"mental\" + 0.020*\"#bluewave\" + 0.019*\"@realdonaldtrump\" + 0.019*\"amp\" + 0.019*\"healthcare\" + 0.018*\"cut\"\n",
      "Topic: 8 \n",
      "Words: 0.034*\"need\" + 0.026*\"amp\" + 0.025*\"im\" + 0.023*\"take\" + 0.021*\"away\" + 0.020*\"#resistance\" + 0.020*\"one\" + 0.020*\"dont\" + 0.018*\"try\" + 0.017*\"insurance\"\n",
      "Topic: 9 \n",
      "Words: 0.037*\"#resistance\" + 0.030*\"amp\" + 0.021*\"come\" + 0.021*\"#bluewave\" + 0.020*\"#healthcare\" + 0.018*\"#bluewave2018\" + 0.015*\"dems\" + 0.015*\"healthcare\" + 0.014*\"#economy\" + 0.014*\"#trump\"\n"
     ]
    }
   ],
   "source": [
    "for idx, topic in dem_lda_model_tfidf.print_topics(-1):\n",
    "    print('Topic: {} \\nWords: {}'.format(idx, topic))"
   ]
  },
  {
   "cell_type": "markdown",
   "metadata": {},
   "source": [
    "## Republicans"
   ]
  },
  {
   "cell_type": "markdown",
   "metadata": {},
   "source": [
    "### Preparation"
   ]
  },
  {
   "cell_type": "code",
   "execution_count": 106,
   "metadata": {
    "collapsed": true
   },
   "outputs": [],
   "source": [
    "rep_tweets = pd.DataFrame(db.read(tax_query.format(\"republican\")))\n",
    "rep_docs = [ast.literal_eval(doc) for doc in  rep_tweets[0].tolist()]\n",
    "rep_dict = corpora.Dictionary(dem_docs)"
   ]
  },
  {
   "cell_type": "code",
   "execution_count": 107,
   "metadata": {
    "collapsed": true
   },
   "outputs": [],
   "source": [
    "# Adjust no_above to filter frequently occuring words\n",
    "rep_dict.filter_extremes(no_below=15, no_above=1, keep_n=10000)"
   ]
  },
  {
   "cell_type": "code",
   "execution_count": 108,
   "metadata": {
    "collapsed": true
   },
   "outputs": [],
   "source": [
    "rep_bow_corpus = [rep_dict.doc2bow(doc) for doc in rep_docs]"
   ]
  },
  {
   "cell_type": "markdown",
   "metadata": {},
   "source": [
    "### Top Word Counts"
   ]
  },
  {
   "cell_type": "code",
   "execution_count": 109,
   "metadata": {},
   "outputs": [
    {
     "name": "stdout",
     "output_type": "stream",
     "text": [
      "#maga, 277 times\n",
      "health, 243 times\n",
      "#trump, 201 times\n",
      "amp, 169 times\n",
      "healthcare, 129 times\n",
      "#gop, 118 times\n",
      "#healthcare, 104 times\n",
      "care, 85 times\n",
      "@realdonaldtrump, 84 times\n",
      "trump, 68 times\n",
      "mental, 67 times\n",
      "get, 59 times\n",
      "people, 58 times\n",
      "make, 56 times\n",
      "dont, 53 times\n",
      "need, 52 times\n",
      "vote, 47 times\n",
      "want, 45 times\n",
      "tax, 45 times\n",
      "take, 44 times\n",
      "go, 42 times\n",
      "gun, 40 times\n",
      "#health, 39 times\n",
      "insurance, 38 times\n",
      "give, 37 times\n",
      "right, 36 times\n",
      "like, 36 times\n",
      "america, 35 times\n",
      "back, 34 times\n",
      "good, 34 times\n",
      "cut, 33 times\n",
      "pay, 33 times\n",
      "issue, 32 times\n",
      "say, 32 times\n",
      "would, 32 times\n",
      "@gop, 30 times\n",
      "healthy, 29 times\n",
      "american, 29 times\n",
      "child, 28 times\n",
      "one, 28 times\n",
      "let, 28 times\n",
      "please, 27 times\n",
      "know, 27 times\n",
      "work, 26 times\n",
      "country, 25 times\n",
      "talk, 24 times\n",
      "stop, 24 times\n",
      "job, 24 times\n",
      "time, 23 times\n",
      "try, 23 times\n"
     ]
    }
   ],
   "source": [
    "rep_counts = get_word_counts(rep_bow_corpus)\n",
    "print_word_counts(rep_counts, 50)"
   ]
  },
  {
   "cell_type": "markdown",
   "metadata": {},
   "source": [
    "### Train Models"
   ]
  },
  {
   "cell_type": "code",
   "execution_count": 110,
   "metadata": {
    "collapsed": true
   },
   "outputs": [],
   "source": [
    "rep_tfidf = models.TfidfModel(rep_bow_corpus)\n",
    "rep_corpus_tfidf = rep_tfidf[rep_bow_corpus]"
   ]
  },
  {
   "cell_type": "code",
   "execution_count": 111,
   "metadata": {
    "collapsed": true
   },
   "outputs": [],
   "source": [
    "rep_lda_model = models.LdaMulticore(rep_bow_corpus, num_topics=10, id2word=rep_dict, passes=2, workers=2)\n",
    "rep_lda_model_tfidf = models.LdaMulticore(rep_corpus_tfidf, num_topics=10, id2word=rep_dict, passes=2, workers=4)"
   ]
  },
  {
   "cell_type": "markdown",
   "metadata": {},
   "source": [
    "### Print Categories"
   ]
  },
  {
   "cell_type": "code",
   "execution_count": 112,
   "metadata": {},
   "outputs": [
    {
     "name": "stdout",
     "output_type": "stream",
     "text": [
      "Topic: 0 \n",
      "Words: 0.087*\"#trump\" + 0.077*\"health\" + 0.058*\"mental\" + 0.057*\"#maga\" + 0.049*\"amp\" + 0.035*\"#health\" + 0.033*\"gun\" + 0.031*\"talk\" + 0.022*\"trump\" + 0.019*\"well\"\n",
      "Topic: 1 \n",
      "Words: 0.111*\"health\" + 0.097*\"#maga\" + 0.033*\"make\" + 0.029*\"mental\" + 0.028*\"get\" + 0.023*\"insurance\" + 0.023*\"amp\" + 0.021*\"@realdonaldtrump\" + 0.021*\"#gop\" + 0.021*\"dont\"\n",
      "Topic: 2 \n",
      "Words: 0.187*\"#maga\" + 0.067*\"healthcare\" + 0.043*\"like\" + 0.038*\"back\" + 0.030*\"need\" + 0.030*\"@realdonaldtrump\" + 0.026*\"#healthcare\" + 0.021*\"vote\" + 0.019*\"make\" + 0.018*\"trump\"\n",
      "Topic: 3 \n",
      "Words: 0.065*\"amp\" + 0.062*\"#maga\" + 0.057*\"health\" + 0.041*\"#gop\" + 0.030*\"care\" + 0.030*\"@realdonaldtrump\" + 0.028*\"healthcare\" + 0.028*\"healthy\" + 0.021*\"tax\" + 0.019*\"give\"\n",
      "Topic: 4 \n",
      "Words: 0.079*\"amp\" + 0.062*\"#healthcare\" + 0.060*\"#trump\" + 0.033*\"#gop\" + 0.023*\"take\" + 0.023*\"#medicare\" + 0.022*\"vote\" + 0.021*\"healthcare\" + 0.018*\"#socialsecurity\" + 0.018*\"#aca\"\n",
      "Topic: 5 \n",
      "Words: 0.080*\"healthcare\" + 0.066*\"#trump\" + 0.051*\"#gop\" + 0.032*\"health\" + 0.028*\"tax\" + 0.025*\"@realdonaldtrump\" + 0.024*\"pay\" + 0.022*\"#maga\" + 0.021*\"cut\" + 0.018*\"country\"\n",
      "Topic: 6 \n",
      "Words: 0.064*\"health\" + 0.043*\"#gop\" + 0.042*\"care\" + 0.041*\"want\" + 0.035*\"amp\" + 0.031*\"#healthcare\" + 0.029*\"america\" + 0.028*\"vote\" + 0.025*\"take\" + 0.024*\"@realdonaldtrump\"\n",
      "Topic: 7 \n",
      "Words: 0.082*\"health\" + 0.074*\"#trump\" + 0.059*\"care\" + 0.049*\"#maga\" + 0.039*\"amp\" + 0.039*\"trump\" + 0.030*\"people\" + 0.028*\"right\" + 0.028*\"would\" + 0.026*\"dont\"\n",
      "Topic: 8 \n",
      "Words: 0.056*\"#trump\" + 0.055*\"#healthcare\" + 0.035*\"life\" + 0.035*\"#gop\" + 0.034*\"#potus\" + 0.031*\"#democrats\" + 0.030*\"health\" + 0.026*\"#atomicveterans\" + 0.026*\"#enewetak\" + 0.026*\"parity\"\n",
      "Topic: 9 \n",
      "Words: 0.088*\"#trump\" + 0.051*\"#healthcare\" + 0.042*\"#health\" + 0.037*\"amp\" + 0.029*\"#maga\" + 0.028*\"#education\" + 0.025*\"#gop\" + 0.025*\"make\" + 0.025*\"@gop\" + 0.024*\"#environment\"\n"
     ]
    }
   ],
   "source": [
    "for idx, topic in rep_lda_model.print_topics(-1):\n",
    "    print('Topic: {} \\nWords: {}'.format(idx, topic))"
   ]
  },
  {
   "cell_type": "code",
   "execution_count": 113,
   "metadata": {},
   "outputs": [
    {
     "name": "stdout",
     "output_type": "stream",
     "text": [
      "Topic: 0 \n",
      "Words: 0.102*\"#health\" + 0.036*\"#trump\" + 0.032*\"#maga\" + 0.031*\"need\" + 0.027*\"want\" + 0.026*\"people\" + 0.026*\"think\" + 0.023*\"#education\" + 0.022*\"#environment\" + 0.020*\"state\"\n",
      "Topic: 1 \n",
      "Words: 0.070*\"mental\" + 0.046*\"health\" + 0.028*\"#trump\" + 0.027*\"gun\" + 0.027*\"trump\" + 0.023*\"say\" + 0.022*\"tax\" + 0.020*\"country\" + 0.018*\"people\" + 0.018*\"care\"\n",
      "Topic: 2 \n",
      "Words: 0.044*\"#mentalhealth\" + 0.031*\"#trump\" + 0.025*\"want\" + 0.024*\"via\" + 0.024*\"health\" + 0.023*\"amp\" + 0.022*\"#obamacare\" + 0.022*\"#gop\" + 0.021*\"talk\" + 0.020*\"#healthcare\"\n",
      "Topic: 3 \n",
      "Words: 0.071*\"#maga\" + 0.057*\"#trump\" + 0.049*\"@realdonaldtrump\" + 0.048*\"back\" + 0.032*\"trump\" + 0.025*\"get\" + 0.023*\"health\" + 0.022*\"vote\" + 0.022*\"#potus\" + 0.021*\"#healthcare\"\n",
      "Topic: 4 \n",
      "Words: 0.043*\"care\" + 0.038*\"would\" + 0.037*\"thanks\" + 0.029*\"work\" + 0.028*\"healthcare\" + 0.028*\"#maga\" + 0.026*\"control\" + 0.026*\"make\" + 0.025*\"health\" + 0.023*\"people\"\n",
      "Topic: 5 \n",
      "Words: 0.049*\"#healthcare\" + 0.034*\"amp\" + 0.030*\"#trump\" + 0.027*\"lie\" + 0.023*\"healthy\" + 0.023*\"via\" + 0.023*\"make\" + 0.021*\"try\" + 0.019*\"youre\" + 0.019*\"#maga\"\n",
      "Topic: 6 \n",
      "Words: 0.031*\"good\" + 0.027*\"#health\" + 0.026*\"healthcare\" + 0.022*\"let\" + 0.022*\"america\" + 0.021*\"amp\" + 0.020*\"#maga\" + 0.019*\"health\" + 0.019*\"effect\" + 0.019*\"great\"\n",
      "Topic: 7 \n",
      "Words: 0.062*\"#maga\" + 0.037*\"healthcare\" + 0.036*\"health\" + 0.027*\"like\" + 0.024*\"insurance\" + 0.022*\"amp\" + 0.021*\"good\" + 0.020*\"know\" + 0.017*\"woman\" + 0.017*\"dont\"\n",
      "Topic: 8 \n",
      "Words: 0.039*\"child\" + 0.037*\"#gop\" + 0.030*\"#healthcare\" + 0.029*\"amp\" + 0.021*\"healthcare\" + 0.020*\"make\" + 0.020*\"take\" + 0.019*\"life\" + 0.018*\"#medicare\" + 0.017*\"real\"\n",
      "Topic: 9 \n",
      "Words: 0.038*\"one\" + 0.027*\"america\" + 0.023*\"care\" + 0.022*\"#gop\" + 0.021*\"say\" + 0.021*\"#trump\" + 0.021*\"come\" + 0.019*\"try\" + 0.018*\"health\" + 0.018*\"@realdonaldtrump\"\n"
     ]
    }
   ],
   "source": [
    "for idx, topic in rep_lda_model_tfidf.print_topics(-1):\n",
    "    print('Topic: {} \\nWords: {}'.format(idx, topic))"
   ]
  },
  {
   "cell_type": "markdown",
   "metadata": {
    "collapsed": true
   },
   "source": [
    "# House"
   ]
  },
  {
   "cell_type": "code",
   "execution_count": 93,
   "metadata": {
    "collapsed": true
   },
   "outputs": [],
   "source": [
    "house_tweets = pd.DataFrame(db.read(tax_query.format(\"house\")))\n",
    "house_docs = [ast.literal_eval(doc) for doc in  house_tweets[0].tolist()]\n",
    "house_dict = corpora.Dictionary(house_docs)"
   ]
  },
  {
   "cell_type": "code",
   "execution_count": 94,
   "metadata": {
    "collapsed": true
   },
   "outputs": [],
   "source": [
    "house_dict.filter_extremes(no_below=15, no_above=1, keep_n=10000)\n",
    "house_bow_corpus = [house_dict.doc2bow(doc) for doc in house_docs]"
   ]
  },
  {
   "cell_type": "markdown",
   "metadata": {},
   "source": [
    "### Top Word Counts"
   ]
  },
  {
   "cell_type": "code",
   "execution_count": 95,
   "metadata": {},
   "outputs": [
    {
     "name": "stdout",
     "output_type": "stream",
     "text": [
      "save, 5470 times\n",
      "amp, 3821 times\n",
      "stop, 3043 times\n",
      "family, 2365 times\n",
      "#trump, 1363 times\n",
      "protect, 1330 times\n",
      "#vote, 1228 times\n",
      "voter, 1154 times\n",
      "healthcare, 1122 times\n",
      "#gotv, 1106 times\n",
      "#immigration, 1086 times\n"
     ]
    },
    {
     "ename": "KeyError",
     "evalue": "336",
     "output_type": "error",
     "traceback": [
      "\u001b[0;31m---------------------------------------------------------------------------\u001b[0m",
      "\u001b[0;31mKeyError\u001b[0m                                  Traceback (most recent call last)",
      "\u001b[0;32m<ipython-input-95-f45f8532ab6b>\u001b[0m in \u001b[0;36m<module>\u001b[0;34m()\u001b[0m\n\u001b[1;32m      1\u001b[0m \u001b[0mhouse_counts\u001b[0m \u001b[0;34m=\u001b[0m \u001b[0mget_word_counts\u001b[0m\u001b[0;34m(\u001b[0m\u001b[0mhouse_bow_corpus\u001b[0m\u001b[0;34m)\u001b[0m\u001b[0;34m\u001b[0m\u001b[0m\n\u001b[0;32m----> 2\u001b[0;31m \u001b[0mprint_word_counts\u001b[0m\u001b[0;34m(\u001b[0m\u001b[0mhouse_counts\u001b[0m\u001b[0;34m,\u001b[0m \u001b[0;36m50\u001b[0m\u001b[0;34m)\u001b[0m\u001b[0;34m\u001b[0m\u001b[0m\n\u001b[0m",
      "\u001b[0;32m<ipython-input-4-a50365da46d0>\u001b[0m in \u001b[0;36mprint_word_counts\u001b[0;34m(word_counts, num_words)\u001b[0m\n\u001b[1;32m     10\u001b[0m \u001b[0;32mdef\u001b[0m \u001b[0mprint_word_counts\u001b[0m\u001b[0;34m(\u001b[0m\u001b[0mword_counts\u001b[0m\u001b[0;34m,\u001b[0m \u001b[0mnum_words\u001b[0m\u001b[0;34m)\u001b[0m\u001b[0;34m:\u001b[0m\u001b[0;34m\u001b[0m\u001b[0m\n\u001b[1;32m     11\u001b[0m     \u001b[0;32mfor\u001b[0m \u001b[0mtup\u001b[0m \u001b[0;32min\u001b[0m \u001b[0mword_counts\u001b[0m\u001b[0;34m[\u001b[0m\u001b[0;36m0\u001b[0m\u001b[0;34m:\u001b[0m\u001b[0mnum_words\u001b[0m\u001b[0;34m]\u001b[0m\u001b[0;34m:\u001b[0m\u001b[0;34m\u001b[0m\u001b[0m\n\u001b[0;32m---> 12\u001b[0;31m         \u001b[0mprint\u001b[0m\u001b[0;34m(\u001b[0m\u001b[0;34mf\"{dem_dict[tup[0]]}, {tup[1]} times\"\u001b[0m\u001b[0;34m)\u001b[0m\u001b[0;34m\u001b[0m\u001b[0m\n\u001b[0m",
      "\u001b[0;32m/usr/local/lib/python3.6/site-packages/gensim/corpora/dictionary.py\u001b[0m in \u001b[0;36m__getitem__\u001b[0;34m(self, tokenid)\u001b[0m\n\u001b[1;32m    107\u001b[0m             \u001b[0;31m# recompute id->word accordingly\u001b[0m\u001b[0;34m\u001b[0m\u001b[0;34m\u001b[0m\u001b[0m\n\u001b[1;32m    108\u001b[0m             \u001b[0mself\u001b[0m\u001b[0;34m.\u001b[0m\u001b[0mid2token\u001b[0m \u001b[0;34m=\u001b[0m \u001b[0mutils\u001b[0m\u001b[0;34m.\u001b[0m\u001b[0mrevdict\u001b[0m\u001b[0;34m(\u001b[0m\u001b[0mself\u001b[0m\u001b[0;34m.\u001b[0m\u001b[0mtoken2id\u001b[0m\u001b[0;34m)\u001b[0m\u001b[0;34m\u001b[0m\u001b[0m\n\u001b[0;32m--> 109\u001b[0;31m         \u001b[0;32mreturn\u001b[0m \u001b[0mself\u001b[0m\u001b[0;34m.\u001b[0m\u001b[0mid2token\u001b[0m\u001b[0;34m[\u001b[0m\u001b[0mtokenid\u001b[0m\u001b[0;34m]\u001b[0m  \u001b[0;31m# will throw for non-existent ids\u001b[0m\u001b[0;34m\u001b[0m\u001b[0m\n\u001b[0m\u001b[1;32m    110\u001b[0m \u001b[0;34m\u001b[0m\u001b[0m\n\u001b[1;32m    111\u001b[0m     \u001b[0;32mdef\u001b[0m \u001b[0m__iter__\u001b[0m\u001b[0;34m(\u001b[0m\u001b[0mself\u001b[0m\u001b[0;34m)\u001b[0m\u001b[0;34m:\u001b[0m\u001b[0;34m\u001b[0m\u001b[0m\n",
      "\u001b[0;31mKeyError\u001b[0m: 336"
     ]
    }
   ],
   "source": [
    "house_counts = get_word_counts(house_bow_corpus)\n",
    "print_word_counts(house_counts, 50)"
   ]
  },
  {
   "cell_type": "markdown",
   "metadata": {},
   "source": [
    "### Train Models"
   ]
  },
  {
   "cell_type": "code",
   "execution_count": 96,
   "metadata": {
    "collapsed": true
   },
   "outputs": [],
   "source": [
    "house_tfidf = models.TfidfModel(house_bow_corpus)\n",
    "house_corpus_tfidf = house_tfidf[house_bow_corpus]"
   ]
  },
  {
   "cell_type": "code",
   "execution_count": 97,
   "metadata": {
    "collapsed": true
   },
   "outputs": [],
   "source": [
    "house_lda_model = models.LdaMulticore(house_bow_corpus, num_topics=10, id2word=house_dict, passes=2, workers=2)\n",
    "house_lda_model_tfidf = models.LdaMulticore(house_corpus_tfidf, num_topics=10, id2word=house_dict, passes=2, workers=4)"
   ]
  },
  {
   "cell_type": "markdown",
   "metadata": {},
   "source": [
    "### Print Categories"
   ]
  },
  {
   "cell_type": "code",
   "execution_count": 98,
   "metadata": {},
   "outputs": [
    {
     "name": "stdout",
     "output_type": "stream",
     "text": [
      "Topic: 0 \n",
      "Words: 0.033*\"healthcare\" + 0.032*\"amp\" + 0.018*\"health\" + 0.017*\"woman\" + 0.013*\"people\" + 0.011*\"family\" + 0.011*\"stand\" + 0.010*\"right\" + 0.009*\"care\" + 0.009*\"insurance\"\n",
      "Topic: 1 \n",
      "Words: 0.030*\"healthcare\" + 0.021*\"health\" + 0.017*\"people\" + 0.013*\"care\" + 0.012*\"work\" + 0.011*\"get\" + 0.010*\"congress\" + 0.010*\"vote\" + 0.008*\"take\" + 0.008*\"want\"\n",
      "Topic: 2 \n",
      "Words: 0.066*\"health\" + 0.034*\"care\" + 0.014*\"need\" + 0.013*\"insurance\" + 0.011*\"affordable\" + 0.011*\"american\" + 0.009*\"healthcare\" + 0.009*\"trump\" + 0.008*\"people\" + 0.008*\"coverage\"\n",
      "Topic: 3 \n",
      "Words: 0.028*\"health\" + 0.027*\"healthcare\" + 0.019*\"care\" + 0.011*\"american\" + 0.011*\"fight\" + 0.009*\"family\" + 0.009*\"amp\" + 0.009*\"affordable\" + 0.008*\"job\" + 0.008*\"make\"\n",
      "Topic: 4 \n",
      "Words: 0.023*\"health\" + 0.020*\"amp\" + 0.020*\"care\" + 0.017*\"healthcare\" + 0.016*\"vote\" + 0.010*\"support\" + 0.010*\"access\" + 0.009*\"healthy\" + 0.009*\"take\" + 0.009*\"help\"\n",
      "Topic: 5 \n",
      "Words: 0.031*\"health\" + 0.023*\"healthcare\" + 0.017*\"right\" + 0.017*\"care\" + 0.014*\"american\" + 0.013*\"year\" + 0.012*\"need\" + 0.012*\"healthy\" + 0.010*\"work\" + 0.010*\"amp\"\n",
      "Topic: 6 \n",
      "Words: 0.032*\"health\" + 0.021*\"healthcare\" + 0.013*\"vote\" + 0.013*\"care\" + 0.012*\"make\" + 0.012*\"fight\" + 0.010*\"amp\" + 0.010*\"good\" + 0.008*\"support\" + 0.008*\"congress\"\n",
      "Topic: 7 \n",
      "Words: 0.035*\"healthcare\" + 0.030*\"health\" + 0.017*\"care\" + 0.013*\"work\" + 0.013*\"people\" + 0.012*\"access\" + 0.010*\"american\" + 0.009*\"affordable\" + 0.009*\"condition\" + 0.009*\"right\"\n",
      "Topic: 8 \n",
      "Words: 0.041*\"health\" + 0.031*\"amp\" + 0.024*\"care\" + 0.021*\"healthcare\" + 0.011*\"need\" + 0.010*\"fight\" + 0.009*\"support\" + 0.009*\"access\" + 0.008*\"affordable\" + 0.008*\"vote\"\n",
      "Topic: 9 \n",
      "Words: 0.033*\"health\" + 0.020*\"healthcare\" + 0.020*\"work\" + 0.014*\"care\" + 0.014*\"amp\" + 0.012*\"fight\" + 0.011*\"congress\" + 0.010*\"make\" + 0.009*\"need\" + 0.009*\"school\"\n"
     ]
    }
   ],
   "source": [
    "for idx, topic in house_lda_model.print_topics(-1):\n",
    "    print('Topic: {} \\nWords: {}'.format(idx, topic))"
   ]
  },
  {
   "cell_type": "code",
   "execution_count": 99,
   "metadata": {},
   "outputs": [
    {
     "name": "stdout",
     "output_type": "stream",
     "text": [
      "Topic: 0 \n",
      "Words: 0.007*\"healthcare\" + 0.006*\"right\" + 0.006*\"health\" + 0.006*\"care\" + 0.005*\"woman\" + 0.005*\"get\" + 0.005*\"amp\" + 0.004*\"affordable\" + 0.004*\"people\" + 0.004*\"insurance\"\n",
      "Topic: 1 \n",
      "Words: 0.008*\"healthcare\" + 0.007*\"care\" + 0.006*\"make\" + 0.006*\"amp\" + 0.006*\"health\" + 0.006*\"vote\" + 0.006*\"work\" + 0.005*\"support\" + 0.005*\"congress\" + 0.005*\"affordable\"\n",
      "Topic: 2 \n",
      "Words: 0.007*\"care\" + 0.007*\"health\" + 0.006*\"amp\" + 0.006*\"healthcare\" + 0.005*\"work\" + 0.005*\"american\" + 0.005*\"woman\" + 0.005*\"fight\" + 0.004*\"need\" + 0.004*\"vote\"\n",
      "Topic: 3 \n",
      "Words: 0.008*\"healthcare\" + 0.007*\"care\" + 0.006*\"health\" + 0.006*\"amp\" + 0.005*\"condition\" + 0.005*\"work\" + 0.005*\"family\" + 0.005*\"need\" + 0.005*\"support\" + 0.005*\"american\"\n",
      "Topic: 4 \n",
      "Words: 0.007*\"amp\" + 0.006*\"healthcare\" + 0.006*\"care\" + 0.006*\"health\" + 0.005*\"vote\" + 0.005*\"insurance\" + 0.004*\"need\" + 0.004*\"make\" + 0.004*\"everyone\" + 0.004*\"work\"\n",
      "Topic: 5 \n",
      "Words: 0.006*\"amp\" + 0.006*\"healthcare\" + 0.006*\"health\" + 0.005*\"care\" + 0.005*\"insurance\" + 0.005*\"work\" + 0.004*\"healthy\" + 0.004*\"people\" + 0.004*\"family\" + 0.004*\"support\"\n",
      "Topic: 6 \n",
      "Words: 0.007*\"care\" + 0.007*\"health\" + 0.007*\"amp\" + 0.007*\"healthcare\" + 0.006*\"need\" + 0.005*\"mental\" + 0.005*\"people\" + 0.005*\"access\" + 0.004*\"work\" + 0.004*\"community\"\n",
      "Topic: 7 \n",
      "Words: 0.008*\"care\" + 0.007*\"healthcare\" + 0.007*\"fight\" + 0.006*\"health\" + 0.006*\"access\" + 0.005*\"affordable\" + 0.005*\"right\" + 0.005*\"amp\" + 0.005*\"american\" + 0.005*\"need\"\n",
      "Topic: 8 \n",
      "Words: 0.007*\"amp\" + 0.007*\"care\" + 0.006*\"health\" + 0.006*\"healthcare\" + 0.005*\"condition\" + 0.005*\"protect\" + 0.005*\"people\" + 0.005*\"fight\" + 0.005*\"american\" + 0.005*\"need\"\n",
      "Topic: 9 \n",
      "Words: 0.008*\"amp\" + 0.006*\"healthcare\" + 0.006*\"need\" + 0.006*\"care\" + 0.006*\"health\" + 0.005*\"vote\" + 0.004*\"people\" + 0.004*\"year\" + 0.004*\"family\" + 0.004*\"program\"\n"
     ]
    }
   ],
   "source": [
    "for idx, topic in house_lda_model_tfidf.print_topics(-1):\n",
    "    print('Topic: {} \\nWords: {}'.format(idx, topic))"
   ]
  },
  {
   "cell_type": "markdown",
   "metadata": {
    "collapsed": true
   },
   "source": [
    "### Remove Selection Hashtags"
   ]
  },
  {
   "cell_type": "code",
   "execution_count": 4,
   "metadata": {
    "collapsed": true
   },
   "outputs": [],
   "source": [
    "data_query = \"\"\"\n",
    "with random_tweets as (\n",
    "    select tweet_text_clean, Random() from staging.{}\n",
    "    where tweet_date between '2018-01-01' and '2019-01-01'\n",
    "    order by Random()\n",
    "    limit 10000)\n",
    "select tweet_text_clean \n",
    "from random_tweets;\n",
    "\"\"\""
   ]
  },
  {
   "cell_type": "code",
   "execution_count": null,
   "metadata": {
    "collapsed": true
   },
   "outputs": [],
   "source": []
  },
  {
   "cell_type": "code",
   "execution_count": 6,
   "metadata": {},
   "outputs": [],
   "source": [
    "dem_tweets = pd.DataFrame(db.read(data_query.format(\"democrat_select\")))\n",
    "dem_docs = [ast.literal_eval(doc) for doc in  dem_tweets[0].tolist()]\n",
    "dem_dict = corpora.Dictionary(dem_docs)"
   ]
  },
  {
   "cell_type": "code",
   "execution_count": 9,
   "metadata": {
    "collapsed": true
   },
   "outputs": [],
   "source": [
    "# Alter no_above to filter out frequently occuring words\n",
    "dem_dict.filter_extremes(no_below=15, no_above=.8, keep_n=10000)\n",
    "dem_bow_corpus = [dem_dict.doc2bow(doc) for doc in dem_docs]"
   ]
  },
  {
   "cell_type": "markdown",
   "metadata": {},
   "source": [
    "### Top Word Counts"
   ]
  },
  {
   "cell_type": "code",
   "execution_count": 10,
   "metadata": {},
   "outputs": [
    {
     "name": "stdout",
     "output_type": "stream",
     "text": [
      "vote, 1033 times\n",
      "amp, 998 times\n",
      "@realdonaldtrump, 955 times\n",
      "trump, 899 times\n",
      "get, 719 times\n",
      "#theresistance, 585 times\n",
      "like, 565 times\n",
      "go, 556 times\n",
      "#maga, 535 times\n",
      "people, 489 times\n",
      "dont, 451 times\n",
      "make, 422 times\n",
      "#votethemout, 419 times\n",
      "follow, 409 times\n",
      "#trump, 408 times\n",
      "need, 401 times\n",
      "know, 396 times\n",
      "one, 381 times\n",
      "say, 361 times\n",
      "time, 359 times\n",
      "#fbr, 353 times\n",
      "take, 352 times\n",
      "let, 343 times\n",
      "want, 339 times\n",
      "#impeachtrump, 321 times\n",
      "back, 302 times\n",
      "right, 299 times\n",
      "please, 289 times\n",
      "see, 288 times\n",
      "think, 287 times\n",
      "im, 282 times\n",
      "come, 279 times\n",
      "good, 277 times\n",
      "america, 267 times\n",
      "@gop, 264 times\n",
      "day, 262 times\n",
      "would, 246 times\n",
      "democrat, 245 times\n",
      "lie, 243 times\n",
      "#vote, 242 times\n",
      "country, 241 times\n",
      "via, 240 times\n",
      "must, 234 times\n",
      "#trumprussia, 234 times\n",
      "work, 229 times\n",
      "president, 226 times\n",
      "gop, 224 times\n",
      "american, 222 times\n",
      "republican, 218 times\n",
      "stop, 211 times\n"
     ]
    }
   ],
   "source": [
    "dem_counts = get_word_counts(dem_bow_corpus)\n",
    "print_word_counts(dem_counts, 50)"
   ]
  },
  {
   "cell_type": "markdown",
   "metadata": {},
   "source": [
    "### Train Models"
   ]
  },
  {
   "cell_type": "code",
   "execution_count": 11,
   "metadata": {
    "collapsed": true
   },
   "outputs": [],
   "source": [
    "dem_tfidf = models.TfidfModel(dem_bow_corpus)\n",
    "dem_corpus_tfidf = dem_tfidf[dem_bow_corpus]"
   ]
  },
  {
   "cell_type": "code",
   "execution_count": 12,
   "metadata": {
    "collapsed": true
   },
   "outputs": [],
   "source": [
    "dem_lda_model = models.LdaMulticore(dem_bow_corpus, num_topics=10, id2word=dem_dict, passes=2, workers=2)\n",
    "dem_lda_model_tfidf = models.LdaMulticore(dem_corpus_tfidf, num_topics=10, id2word=dem_dict, passes=2, workers=4)"
   ]
  },
  {
   "cell_type": "code",
   "execution_count": 15,
   "metadata": {
    "collapsed": true
   },
   "outputs": [],
   "source": [
    "dem_lda_model_20 = models.LdaMulticore(dem_bow_corpus, num_topics=20, id2word=dem_dict, passes=20, workers=2)\n",
    "dem_lda_model_tfidf_20 = models.LdaMulticore(dem_corpus_tfidf, num_topics=20, id2word=dem_dict, passes=20, workers=4)"
   ]
  },
  {
   "cell_type": "code",
   "execution_count": 18,
   "metadata": {
    "collapsed": true
   },
   "outputs": [],
   "source": [
    "dem_lda_model_20 = models.LdaMulticore(dem_bow_corpus, num_topics=20, id2word=dem_dict, passes=40, workers=2)\n",
    "dem_lda_model_tfidf_20 = models.LdaMulticore(dem_corpus_tfidf, num_topics=20, id2word=dem_dict, passes=40, workers=4)"
   ]
  },
  {
   "cell_type": "code",
   "execution_count": 13,
   "metadata": {},
   "outputs": [
    {
     "name": "stdout",
     "output_type": "stream",
     "text": [
      "Topic: 0 \n",
      "Words: 0.012*\"blue\" + 0.010*\"@realdonaldtrump\" + 0.009*\"#electionday\" + 0.009*\"vote\" + 0.009*\"#trump\" + 0.008*\"#votedem\" + 0.007*\"wave\" + 0.007*\"#maga\" + 0.006*\"go\" + 0.006*\"need\"\n",
      "Topic: 1 \n",
      "Words: 0.011*\"please\" + 0.009*\"trump\" + 0.007*\"right\" + 0.007*\"amp\" + 0.007*\"vote\" + 0.007*\"like\" + 0.006*\"im\" + 0.006*\"retweet\" + 0.006*\"know\" + 0.006*\"#stopkavanaugh\"\n",
      "Topic: 2 \n",
      "Words: 0.020*\"@realdonaldtrump\" + 0.011*\"like\" + 0.010*\"trump\" + 0.007*\"go\" + 0.006*\"amp\" + 0.006*\"let\" + 0.005*\"#fbrparty\" + 0.005*\"think\" + 0.005*\"send\" + 0.005*\"already\"\n",
      "Topic: 3 \n",
      "Words: 0.010*\"go\" + 0.008*\"trump\" + 0.007*\"#bluetsunami\" + 0.007*\"dont\" + 0.007*\"gop\" + 0.007*\"#theresistance\" + 0.006*\"party\" + 0.006*\"tweet\" + 0.005*\"@realdonaldtrump\" + 0.005*\"get\"\n",
      "Topic: 4 \n",
      "Words: 0.026*\"#theresistance\" + 0.009*\"good\" + 0.009*\"#maga\" + 0.007*\"#resisters\" + 0.007*\"#trumprussia\" + 0.007*\"#trump\" + 0.007*\"#impeachtrump\" + 0.006*\"amp\" + 0.006*\"vote\" + 0.006*\"day\"\n",
      "Topic: 5 \n",
      "Words: 0.026*\"letter\" + 0.026*\"#resistbot\" + 0.025*\"open\" + 0.013*\"amp\" + 0.012*\"say\" + 0.012*\"@realdonaldtrump\" + 0.010*\"#votethemout\" + 0.007*\"vote\" + 0.007*\"one\" + 0.007*\"thank\"\n",
      "Topic: 6 \n",
      "Words: 0.010*\"de\" + 0.009*\"#maga\" + 0.008*\"amp\" + 0.007*\"via\" + 0.007*\"@realdonaldtrump\" + 0.006*\"get\" + 0.006*\"@credomobile\" + 0.006*\"fuck\" + 0.006*\"vote\" + 0.005*\"must\"\n",
      "Topic: 7 \n",
      "Words: 0.017*\"vote\" + 0.012*\"#vote\" + 0.012*\"#votebluetosaveamerica\" + 0.010*\"#votethemout\" + 0.008*\"@realdonaldtrump\" + 0.007*\"#fbr\" + 0.007*\"welcome\" + 0.007*\"amp\" + 0.006*\"america\" + 0.005*\"take\"\n",
      "Topic: 8 \n",
      "Words: 0.015*\"get\" + 0.009*\"time\" + 0.008*\"vote\" + 0.008*\"people\" + 0.008*\"@realdonaldtrump\" + 0.007*\"come\" + 0.007*\"trump\" + 0.006*\"@gop\" + 0.006*\"keep\" + 0.006*\"great\"\n",
      "Topic: 9 \n",
      "Words: 0.011*\"follow\" + 0.010*\"vote\" + 0.009*\"yes\" + 0.008*\"#theresistance\" + 0.008*\"people\" + 0.007*\"via\" + 0.006*\"love\" + 0.006*\"hate\" + 0.006*\"#vote\" + 0.006*\"get\"\n"
     ]
    }
   ],
   "source": [
    "for idx, topic in dem_lda_model_tfidf.print_topics(-1):\n",
    "    print('Topic: {} \\nWords: {}'.format(idx, topic))"
   ]
  },
  {
   "cell_type": "code",
   "execution_count": 14,
   "metadata": {},
   "outputs": [
    {
     "name": "stdout",
     "output_type": "stream",
     "text": [
      "Topic: 0 \n",
      "Words: 0.019*\"@realdonaldtrump\" + 0.016*\"let\" + 0.015*\"via\" + 0.015*\"trump\" + 0.015*\"must\" + 0.012*\"know\" + 0.011*\"@credomobile\" + 0.009*\"go\" + 0.008*\"amp\" + 0.008*\"#maga\"\n",
      "Topic: 1 \n",
      "Words: 0.032*\"@realdonaldtrump\" + 0.021*\"#theresistance\" + 0.021*\"open\" + 0.020*\"letter\" + 0.019*\"#resistbot\" + 0.018*\"amp\" + 0.015*\"@gop\" + 0.010*\"#maga\" + 0.010*\"say\" + 0.010*\"de\"\n",
      "Topic: 2 \n",
      "Words: 0.017*\"#maga\" + 0.015*\"trump\" + 0.013*\"#trumpresign\" + 0.013*\"#theresistance\" + 0.012*\"another\" + 0.010*\"get\" + 0.009*\"good\" + 0.008*\"like\" + 0.008*\"need\" + 0.008*\"party\"\n",
      "Topic: 3 \n",
      "Words: 0.018*\"get\" + 0.017*\"#theresistance\" + 0.011*\"go\" + 0.010*\"#vote\" + 0.010*\"@realdonaldtrump\" + 0.009*\"take\" + 0.008*\"#maga\" + 0.008*\"make\" + 0.008*\"vote\" + 0.007*\"man\"\n",
      "Topic: 4 \n",
      "Words: 0.019*\"follow\" + 0.016*\"#fbr\" + 0.016*\"trump\" + 0.012*\"@realdonaldtrump\" + 0.012*\"make\" + 0.011*\"time\" + 0.011*\"let\" + 0.010*\"like\" + 0.009*\"dont\" + 0.009*\"back\"\n",
      "Topic: 5 \n",
      "Words: 0.021*\"go\" + 0.019*\"want\" + 0.017*\"@realdonaldtrump\" + 0.015*\"trump\" + 0.014*\"dont\" + 0.011*\"amp\" + 0.009*\"like\" + 0.009*\"keep\" + 0.009*\"people\" + 0.009*\"say\"\n",
      "Topic: 6 \n",
      "Words: 0.016*\"#trump\" + 0.016*\"#maga\" + 0.014*\"people\" + 0.013*\"one\" + 0.011*\"say\" + 0.010*\"see\" + 0.010*\"amp\" + 0.010*\"would\" + 0.009*\"@realdonaldtrump\" + 0.008*\"vote\"\n",
      "Topic: 7 \n",
      "Words: 0.028*\"#votethemout\" + 0.017*\"please\" + 0.016*\"follow\" + 0.015*\"#impeachtrump\" + 0.013*\"@realdonaldtrump\" + 0.013*\"trump\" + 0.011*\"#fbr\" + 0.011*\"#trumprussia\" + 0.011*\"#fbrparty\" + 0.010*\"like\"\n",
      "Topic: 8 \n",
      "Words: 0.038*\"amp\" + 0.017*\"trump\" + 0.015*\"people\" + 0.014*\"get\" + 0.013*\"vote\" + 0.012*\"lie\" + 0.010*\"@realdonaldtrump\" + 0.009*\"make\" + 0.008*\"like\" + 0.008*\"country\"\n",
      "Topic: 9 \n",
      "Words: 0.080*\"vote\" + 0.017*\"get\" + 0.013*\"right\" + 0.011*\"gop\" + 0.008*\"election\" + 0.008*\"poll\" + 0.008*\"blue\" + 0.008*\"know\" + 0.008*\"like\" + 0.007*\"amp\"\n"
     ]
    }
   ],
   "source": [
    "for idx, topic in dem_lda_model.print_topics(-1):\n",
    "    print('Topic: {} \\nWords: {}'.format(idx, topic))"
   ]
  },
  {
   "cell_type": "code",
   "execution_count": 19,
   "metadata": {},
   "outputs": [
    {
     "name": "stdout",
     "output_type": "stream",
     "text": [
      "Topic: 0 \n",
      "Words: 0.029*\"#vote\" + 0.016*\"block\" + 0.014*\"voter\" + 0.013*\"talk\" + 0.013*\"fl\" + 0.012*\"vote\" + 0.012*\"#registertovote\" + 0.012*\"racist\" + 0.011*\"white\" + 0.010*\"murder\"\n",
      "Topic: 1 \n",
      "Words: 0.018*\"thank\" + 0.016*\"much\" + 0.015*\"trump\" + 0.013*\"mean\" + 0.013*\"ready\" + 0.012*\"vote\" + 0.011*\"get\" + 0.010*\"count\" + 0.010*\"go\" + 0.009*\"god\"\n",
      "Topic: 2 \n",
      "Words: 0.049*\"#votethemout\" + 0.039*\"#fbr\" + 0.039*\"#fbrparty\" + 0.023*\"#bluetsunami\" + 0.021*\"#neveragain\" + 0.019*\"#protectmueller\" + 0.017*\"#marchforourlives\" + 0.014*\"great\" + 0.012*\"fellow\" + 0.011*\"name\"\n",
      "Topic: 3 \n",
      "Words: 0.064*\"#theresistance\" + 0.026*\"#trumprussia\" + 0.022*\"#impeachtrump\" + 0.016*\"#trumptreason\" + 0.016*\"love\" + 0.015*\"#traitortrump\" + 0.014*\"#theresistance2018\" + 0.014*\"#muellertime\" + 0.013*\"#resisters\" + 0.012*\"#trumpcrimefamily\"\n",
      "Topic: 4 \n",
      "Words: 0.042*\"@realdonaldtrump\" + 0.017*\"late\" + 0.013*\"want\" + 0.013*\"youre\" + 0.013*\"true\" + 0.012*\"wait\" + 0.012*\"money\" + 0.011*\"speak\" + 0.011*\"#familiesbelongtogether\" + 0.011*\"one\"\n",
      "Topic: 5 \n",
      "Words: 0.018*\"shit\" + 0.014*\"#liberals\" + 0.012*\"#maga\" + 0.012*\"#resistência\" + 0.011*\"trump\" + 0.011*\"act\" + 0.011*\"free\" + 0.011*\"#cnn\" + 0.010*\"#msnbc\" + 0.010*\"#foxnews\"\n",
      "Topic: 6 \n",
      "Words: 0.014*\"people\" + 0.013*\"send\" + 0.013*\"la\" + 0.013*\"let\" + 0.012*\"break\" + 0.011*\"awesome\" + 0.011*\"resist\" + 0.011*\"trump\" + 0.011*\"russian\" + 0.011*\"anything\"\n",
      "Topic: 7 \n",
      "Words: 0.018*\"keep\" + 0.014*\"watch\" + 0.012*\"#draintheswamp\" + 0.011*\"well\" + 0.010*\"im\" + 0.010*\"amp\" + 0.010*\"maybe\" + 0.009*\"#maga\" + 0.009*\"attack\" + 0.009*\"service\"\n",
      "Topic: 8 \n",
      "Words: 0.030*\"#votebluetosaveamerica\" + 0.027*\"blue\" + 0.020*\"vote\" + 0.020*\"go\" + 0.017*\"wave\" + 0.017*\"amp\" + 0.012*\"voting\" + 0.011*\"democracy\" + 0.011*\"day\" + 0.011*\"election\"\n",
      "Topic: 9 \n",
      "Words: 0.052*\"follow\" + 0.028*\"please\" + 0.023*\"retweet\" + 0.015*\"back\" + 0.015*\"like\" + 0.013*\"#fbr\" + 0.013*\"truth\" + 0.011*\"strong\" + 0.011*\"post\" + 0.010*\"vote\"\n",
      "Topic: 10 \n",
      "Words: 0.033*\"#maga\" + 0.028*\"#electionday\" + 0.027*\"#qanon\" + 0.026*\"#midterms2018\" + 0.023*\"#walkaway\" + 0.017*\"@gop\" + 0.017*\"protest\" + 0.015*\"@potus\" + 0.015*\"@realdonaldtrump\" + 0.015*\"@foxnews\"\n",
      "Topic: 11 \n",
      "Words: 0.031*\"#trumpresign\" + 0.024*\"yes\" + 0.023*\"thanks\" + 0.020*\"#dumptrump\" + 0.019*\"#strongertogether\" + 0.016*\"@1voiceforme\" + 0.016*\"#stopkavanaugh\" + 0.016*\"#impeach45\" + 0.016*\"ever\" + 0.015*\"#votethemallout\"\n",
      "Topic: 12 \n",
      "Words: 0.020*\"like\" + 0.015*\"remember\" + 0.012*\"vote\" + 0.011*\"depend\" + 0.011*\"hell\" + 0.010*\"flip\" + 0.010*\"look\" + 0.010*\"rt\" + 0.009*\"life\" + 0.009*\"stop\"\n",
      "Topic: 13 \n",
      "Words: 0.039*\"via\" + 0.031*\"@credomobile\" + 0.026*\"sign\" + 0.022*\"#votedem\" + 0.017*\"fuck\" + 0.014*\"#election2018\" + 0.011*\"must\" + 0.011*\"mueller\" + 0.011*\"#fakenews\" + 0.011*\"reason\"\n",
      "Topic: 14 \n",
      "Words: 0.086*\"open\" + 0.084*\"letter\" + 0.081*\"#resistbot\" + 0.021*\"american\" + 0.017*\"de\" + 0.017*\"register\" + 0.015*\"#wiunion\" + 0.014*\"#lockhimup\" + 0.013*\"#resistancerises\" + 0.013*\"general\"\n",
      "Topic: 15 \n",
      "Words: 0.027*\"#bluetsunami2018\" + 0.019*\"win\" + 0.015*\"get\" + 0.014*\"right\" + 0.014*\"november\" + 0.012*\"woman\" + 0.011*\"#bluewavecoming2018\" + 0.011*\"vote\" + 0.011*\"midterm\" + 0.010*\"ask\"\n",
      "Topic: 16 \n",
      "Words: 0.016*\"#trump\" + 0.015*\"#notmypresident\" + 0.015*\"#fucktrump\" + 0.015*\"president\" + 0.014*\"#impeachtrump\" + 0.014*\"#voteblue2018\" + 0.013*\"hey\" + 0.012*\"someone\" + 0.012*\"#impeachtrumpnow\" + 0.011*\"@betoorourke\"\n",
      "Topic: 17 \n",
      "Words: 0.027*\"welcome\" + 0.026*\"say\" + 0.026*\"@gop\" + 0.015*\"#bluewave2020\" + 0.013*\"@thedemocrats\" + 0.013*\"#theresistance\" + 0.012*\"@realdonaldtrump\" + 0.012*\"nra\" + 0.012*\"#indivisible\" + 0.011*\"#independents\"\n",
      "Topic: 18 \n",
      "Words: 0.033*\"vote\" + 0.029*\"good\" + 0.015*\"one\" + 0.014*\"human\" + 0.013*\"get\" + 0.012*\"next\" + 0.012*\"lol\" + 0.011*\"poll\" + 0.011*\"feel\" + 0.010*\"never\"\n",
      "Topic: 19 \n",
      "Words: 0.019*\"really\" + 0.012*\"see\" + 0.012*\"nice\" + 0.011*\"wow\" + 0.011*\"@thehill\" + 0.011*\"country\" + 0.011*\"play\" + 0.010*\"trump\" + 0.010*\"message\" + 0.010*\"amp\"\n"
     ]
    }
   ],
   "source": [
    "for idx, topic in dem_lda_model_tfidf_20.print_topics(-1):\n",
    "    print('Topic: {} \\nWords: {}'.format(idx, topic))"
   ]
  },
  {
   "cell_type": "code",
   "execution_count": 17,
   "metadata": {},
   "outputs": [
    {
     "name": "stdout",
     "output_type": "stream",
     "text": [
      "Topic: 0 \n",
      "Words: 0.034*\"trump\" + 0.032*\"great\" + 0.018*\"house\" + 0.017*\"#electionday\" + 0.017*\"amp\" + 0.015*\"time\" + 0.014*\"senate\" + 0.013*\"investigation\" + 0.012*\"get\" + 0.011*\"thats\"\n",
      "Topic: 1 \n",
      "Words: 0.033*\"#trump\" + 0.026*\"#maga\" + 0.026*\"watch\" + 0.026*\"@cnn\" + 0.022*\"#midterms2018\" + 0.022*\"#qanon\" + 0.022*\"#impeachtrump\" + 0.017*\"know\" + 0.016*\"speak\" + 0.015*\"trump\"\n",
      "Topic: 2 \n",
      "Words: 0.146*\"@realdonaldtrump\" + 0.070*\"@gop\" + 0.034*\"@potus\" + 0.027*\"president\" + 0.020*\"@foxnews\" + 0.019*\"@senategop\" + 0.019*\"@housegop\" + 0.016*\"welcome\" + 0.015*\"@speakerryan\" + 0.015*\"@senatemajldr\"\n",
      "Topic: 3 \n",
      "Words: 0.119*\"#maga\" + 0.049*\"#trump\" + 0.047*\"#gop\" + 0.024*\"@realdonaldtrump\" + 0.022*\"#republicans\" + 0.022*\"#trumprussia\" + 0.017*\"#mueller\" + 0.016*\"#tcot\" + 0.015*\"#americafirst\" + 0.014*\"#liberals\"\n",
      "Topic: 4 \n",
      "Words: 0.040*\"trump\" + 0.039*\"party\" + 0.027*\"state\" + 0.025*\"#theresistance\" + 0.023*\"republican\" + 0.023*\"gop\" + 0.019*\"run\" + 0.016*\"thanks\" + 0.015*\"candidate\" + 0.014*\"turn\"\n",
      "Topic: 5 \n",
      "Words: 0.085*\"#theresistance\" + 0.064*\"#votethemout\" + 0.054*\"#fbr\" + 0.052*\"follow\" + 0.037*\"#impeachtrump\" + 0.037*\"#bluetsunami\" + 0.033*\"#fbrparty\" + 0.029*\"#trumprussia\" + 0.024*\"#votebluetosaveamerica\" + 0.023*\"#notmypresident\"\n",
      "Topic: 6 \n",
      "Words: 0.034*\"american\" + 0.023*\"tax\" + 0.021*\"year\" + 0.020*\"must\" + 0.019*\"amp\" + 0.019*\"want\" + 0.016*\"trump\" + 0.013*\"family\" + 0.013*\"pay\" + 0.012*\"america\"\n",
      "Topic: 7 \n",
      "Words: 0.039*\"see\" + 0.026*\"say\" + 0.020*\"love\" + 0.017*\"dont\" + 0.017*\"word\" + 0.015*\"know\" + 0.013*\"believe\" + 0.013*\"tweet\" + 0.013*\"make\" + 0.012*\"fact\"\n",
      "Topic: 8 \n",
      "Words: 0.030*\"dont\" + 0.026*\"#walkaway\" + 0.024*\"let\" + 0.023*\"need\" + 0.022*\"im\" + 0.020*\"much\" + 0.017*\"stop\" + 0.017*\"get\" + 0.015*\"amp\" + 0.013*\"free\"\n",
      "Topic: 9 \n",
      "Words: 0.023*\"people\" + 0.020*\"god\" + 0.019*\"never\" + 0.017*\"get\" + 0.014*\"@realdonaldtrump\" + 0.014*\"come\" + 0.014*\"thing\" + 0.013*\"say\" + 0.012*\"liar\" + 0.012*\"stand\"\n",
      "Topic: 10 \n",
      "Words: 0.182*\"vote\" + 0.035*\"#vote\" + 0.018*\"election\" + 0.017*\"november\" + 0.016*\"get\" + 0.015*\"poll\" + 0.015*\"blue\" + 0.014*\"voter\" + 0.013*\"take\" + 0.012*\"dont\"\n",
      "Topic: 11 \n",
      "Words: 0.036*\"know\" + 0.029*\"right\" + 0.026*\"america\" + 0.020*\"wave\" + 0.017*\"@realdonaldtrump\" + 0.015*\"get\" + 0.013*\"blue\" + 0.013*\"everything\" + 0.013*\"nothing\" + 0.012*\"think\"\n",
      "Topic: 12 \n",
      "Words: 0.103*\"amp\" + 0.069*\"open\" + 0.055*\"letter\" + 0.052*\"#resistbot\" + 0.017*\"lie\" + 0.015*\"#demforce\" + 0.014*\"march\" + 0.013*\"#bluewaveiscoming\" + 0.012*\"america\" + 0.011*\"call\"\n",
      "Topic: 13 \n",
      "Words: 0.080*\"via\" + 0.041*\"#trumpresign\" + 0.040*\"@credomobile\" + 0.034*\"sign\" + 0.032*\"people\" + 0.027*\"news\" + 0.023*\"#trump\" + 0.019*\"fake\" + 0.019*\"#trumpshutdown\" + 0.016*\"#msnbc\"\n",
      "Topic: 14 \n",
      "Words: 0.030*\"thank\" + 0.025*\"amp\" + 0.021*\"even\" + 0.019*\"still\" + 0.019*\"#neveragain\" + 0.018*\"last\" + 0.016*\"work\" + 0.015*\"kid\" + 0.013*\"day\" + 0.012*\"im\"\n",
      "Topic: 15 \n",
      "Words: 0.020*\"one\" + 0.018*\"every\" + 0.015*\"save\" + 0.015*\"trump\" + 0.014*\"lie\" + 0.013*\"happen\" + 0.011*\"maybe\" + 0.011*\"@realdonaldtrump\" + 0.011*\"need\" + 0.011*\"#guncontrolnow\"\n",
      "Topic: 16 \n",
      "Words: 0.035*\"yes\" + 0.029*\"de\" + 0.026*\"money\" + 0.022*\"la\" + 0.018*\"#women\" + 0.016*\"mueller\" + 0.015*\"senator\" + 0.015*\"@realdonaldtrump\" + 0.014*\"amp\" + 0.014*\"hell\"\n",
      "Topic: 17 \n",
      "Words: 0.093*\"like\" + 0.040*\"follow\" + 0.029*\"please\" + 0.026*\"retweet\" + 0.019*\"get\" + 0.018*\"look\" + 0.017*\"tweet\" + 0.017*\"dont\" + 0.015*\"well\" + 0.014*\"let\"\n",
      "Topic: 18 \n",
      "Words: 0.039*\"let\" + 0.030*\"trump\" + 0.030*\"win\" + 0.026*\"keep\" + 0.024*\"go\" + 0.023*\"good\" + 0.022*\"get\" + 0.021*\"way\" + 0.019*\"time\" + 0.016*\"another\"\n",
      "Topic: 19 \n",
      "Words: 0.046*\"go\" + 0.031*\"amp\" + 0.029*\"get\" + 0.024*\"take\" + 0.019*\"need\" + 0.017*\"back\" + 0.017*\"country\" + 0.016*\"people\" + 0.015*\"next\" + 0.014*\"trump\"\n"
     ]
    }
   ],
   "source": [
    "for idx, topic in dem_lda_model_20.print_topics(-1):\n",
    "    print('Topic: {} \\nWords: {}'.format(idx, topic))"
   ]
  },
  {
   "cell_type": "markdown",
   "metadata": {},
   "source": [
    "### Remove all hashtags"
   ]
  },
  {
   "cell_type": "code",
   "execution_count": 20,
   "metadata": {
    "collapsed": true
   },
   "outputs": [],
   "source": [
    "dem_tweets = pd.DataFrame(db.read(data_query.format(\"democrat_all\")))\n",
    "dem_docs = [ast.literal_eval(doc) for doc in  dem_tweets[0].tolist()]\n",
    "dem_dict = corpora.Dictionary(dem_docs)"
   ]
  },
  {
   "cell_type": "code",
   "execution_count": 21,
   "metadata": {
    "collapsed": true
   },
   "outputs": [],
   "source": [
    "# Alter no_above to filter out frequently occuring words\n",
    "dem_dict.filter_extremes(no_below=15, no_above=.8, keep_n=10000)\n",
    "dem_bow_corpus = [dem_dict.doc2bow(doc) for doc in dem_docs]"
   ]
  },
  {
   "cell_type": "markdown",
   "metadata": {},
   "source": [
    "### Top Word Counts"
   ]
  },
  {
   "cell_type": "code",
   "execution_count": 22,
   "metadata": {},
   "outputs": [
    {
     "name": "stdout",
     "output_type": "stream",
     "text": [
      "@realdonaldtrump, 1037 times\n",
      "vote, 946 times\n",
      "trump, 891 times\n",
      "get, 769 times\n",
      "like, 563 times\n",
      "go, 545 times\n",
      "people, 501 times\n",
      "make, 457 times\n",
      "dont, 438 times\n",
      "follow, 434 times\n",
      "need, 427 times\n",
      "say, 409 times\n",
      "time, 407 times\n",
      "know, 398 times\n",
      "one, 373 times\n",
      "take, 370 times\n",
      "want, 349 times\n",
      "good, 319 times\n",
      "america, 315 times\n",
      "let, 313 times\n",
      "think, 301 times\n",
      "back, 292 times\n",
      "please, 287 times\n",
      "see, 281 times\n",
      "day, 270 times\n",
      "im, 269 times\n",
      "country, 268 times\n",
      "american, 267 times\n",
      "right, 266 times\n",
      "come, 262 times\n",
      "@gop, 261 times\n",
      "democrat, 246 times\n",
      "republican, 245 times\n",
      "would, 243 times\n",
      "must, 236 times\n",
      "president, 235 times\n",
      "house, 234 times\n",
      "election, 234 times\n",
      "work, 234 times\n",
      "state, 221 times\n",
      "via, 219 times\n",
      "lie, 217 times\n",
      "every, 212 times\n",
      "keep, 211 times\n",
      "win, 210 times\n",
      "help, 208 times\n",
      "call, 206 times\n",
      "gop, 202 times\n",
      "party, 201 times\n",
      "stop, 199 times\n"
     ]
    }
   ],
   "source": [
    "dem_counts = get_word_counts(dem_bow_corpus)\n",
    "print_word_counts(dem_counts, 50)"
   ]
  },
  {
   "cell_type": "markdown",
   "metadata": {},
   "source": [
    "### Train Models"
   ]
  },
  {
   "cell_type": "code",
   "execution_count": 23,
   "metadata": {
    "collapsed": true
   },
   "outputs": [],
   "source": [
    "dem_tfidf = models.TfidfModel(dem_bow_corpus)\n",
    "dem_corpus_tfidf = dem_tfidf[dem_bow_corpus]"
   ]
  },
  {
   "cell_type": "code",
   "execution_count": 24,
   "metadata": {
    "collapsed": true
   },
   "outputs": [],
   "source": [
    "dem_lda_model_40_all = models.LdaMulticore(dem_bow_corpus, num_topics=20, id2word=dem_dict, passes=40, workers=2)\n",
    "dem_lda_model_tfidf_40_all = models.LdaMulticore(dem_corpus_tfidf, num_topics=20, id2word=dem_dict, passes=40, workers=4)"
   ]
  },
  {
   "cell_type": "code",
   "execution_count": 25,
   "metadata": {},
   "outputs": [
    {
     "name": "stdout",
     "output_type": "stream",
     "text": [
      "Topic: 0 \n",
      "Words: 0.039*\"youre\" + 0.039*\"november\" + 0.028*\"republican\" + 0.026*\"wait\" + 0.024*\"rt\" + 0.022*\"true\" + 0.020*\"cant\" + 0.019*\"candidate\" + 0.017*\"man\" + 0.016*\"talk\"\n",
      "Topic: 1 \n",
      "Words: 0.083*\"let\" + 0.063*\"open\" + 0.050*\"letter\" + 0.037*\"yes\" + 0.032*\"2018\" + 0.024*\"go\" + 0.020*\"wall\" + 0.017*\"hear\" + 0.014*\"others\" + 0.013*\"forget\"\n",
      "Topic: 2 \n",
      "Words: 0.066*\"love\" + 0.035*\"call\" + 0.033*\"hope\" + 0.025*\"would\" + 0.021*\"check\" + 0.018*\"like\" + 0.018*\"hold\" + 0.018*\"ever\" + 0.017*\"also\" + 0.017*\"best\"\n",
      "Topic: 3 \n",
      "Words: 0.044*\"trump\" + 0.043*\"house\" + 0.042*\"know\" + 0.039*\"white\" + 0.036*\"dont\" + 0.030*\"take\" + 0.019*\"would\" + 0.017*\"think\" + 0.017*\"nothing\" + 0.015*\"believe\"\n",
      "Topic: 4 \n",
      "Words: 0.243*\"vote\" + 0.043*\"please\" + 0.032*\"poll\" + 0.026*\"get\" + 0.021*\"dont\" + 0.018*\"part\" + 0.018*\"matter\" + 0.018*\"today\" + 0.017*\"every\" + 0.017*\"count\"\n",
      "Topic: 5 \n",
      "Words: 0.050*\"see\" + 0.049*\"people\" + 0.044*\"american\" + 0.036*\"come\" + 0.031*\"new\" + 0.024*\"year\" + 0.019*\"stand\" + 0.016*\"one\" + 0.014*\"good\" + 0.013*\"never\"\n",
      "Topic: 6 \n",
      "Words: 0.111*\"@gop\" + 0.097*\"@realdonaldtrump\" + 0.065*\"@potus\" + 0.025*\"@senatemajldr\" + 0.022*\"@speakerryan\" + 0.022*\"reply\" + 0.021*\"@senategop\" + 0.019*\"@housegop\" + 0.017*\"@whitehouse\" + 0.017*\"@1voiceforme\"\n",
      "Topic: 7 \n",
      "Words: 0.087*\"america\" + 0.029*\"country\" + 0.028*\"save\" + 0.022*\"administration\" + 0.020*\"happen\" + 0.020*\"great\" + 0.020*\"de\" + 0.020*\"need\" + 0.019*\"make\" + 0.017*\"people\"\n",
      "Topic: 8 \n",
      "Words: 0.045*\"win\" + 0.036*\"good\" + 0.030*\"time\" + 0.025*\"@cnn\" + 0.023*\"keep\" + 0.022*\"lose\" + 0.020*\"house\" + 0.019*\"@msnbc\" + 0.016*\"@realdonaldtrump\" + 0.016*\"trump\"\n",
      "Topic: 9 \n",
      "Words: 0.211*\"@realdonaldtrump\" + 0.039*\"president\" + 0.034*\"state\" + 0.030*\"trump\" + 0.025*\"say\" + 0.025*\"know\" + 0.023*\"real\" + 0.018*\"united\" + 0.017*\"@foxnews\" + 0.015*\"run\"\n",
      "Topic: 10 \n",
      "Words: 0.044*\"get\" + 0.038*\"like\" + 0.030*\"look\" + 0.027*\"cant\" + 0.022*\"start\" + 0.019*\"make\" + 0.018*\"bad\" + 0.017*\"trump\" + 0.015*\"money\" + 0.014*\"would\"\n",
      "Topic: 11 \n",
      "Words: 0.076*\"make\" + 0.045*\"vote\" + 0.044*\"blue\" + 0.042*\"im\" + 0.036*\"sure\" + 0.029*\"get\" + 0.019*\"go\" + 0.017*\"wave\" + 0.017*\"gop\" + 0.016*\"voting\"\n",
      "Topic: 12 \n",
      "Words: 0.055*\"thank\" + 0.046*\"news\" + 0.031*\"fuck\" + 0.031*\"well\" + 0.024*\"end\" + 0.023*\"speak\" + 0.020*\"week\" + 0.020*\"oh\" + 0.017*\"good\" + 0.016*\"moron\"\n",
      "Topic: 13 \n",
      "Words: 0.070*\"work\" + 0.038*\"law\" + 0.024*\"thats\" + 0.022*\"hard\" + 0.021*\"gun\" + 0.020*\"right\" + 0.019*\"war\" + 0.019*\"turn\" + 0.017*\"pay\" + 0.017*\"trump\"\n",
      "Topic: 14 \n",
      "Words: 0.082*\"need\" + 0.037*\"stop\" + 0.035*\"go\" + 0.032*\"read\" + 0.018*\"im\" + 0.017*\"midterm\" + 0.016*\"someone\" + 0.015*\"maybe\" + 0.015*\"agree\" + 0.014*\"old\"\n",
      "Topic: 15 \n",
      "Words: 0.128*\"follow\" + 0.075*\"back\" + 0.056*\"like\" + 0.037*\"tweet\" + 0.036*\"fight\" + 0.032*\"please\" + 0.030*\"retweet\" + 0.030*\"help\" + 0.021*\"im\" + 0.020*\"follower\"\n",
      "Topic: 16 \n",
      "Words: 0.084*\"day\" + 0.037*\"election\" + 0.036*\"every\" + 0.033*\"today\" + 0.033*\"think\" + 0.028*\"get\" + 0.014*\"time\" + 0.014*\"ready\" + 0.014*\"guy\" + 0.014*\"@thehill\"\n",
      "Topic: 17 \n",
      "Words: 0.082*\"trump\" + 0.068*\"say\" + 0.050*\"party\" + 0.031*\"gop\" + 0.018*\"many\" + 0.018*\"think\" + 0.017*\"republican\" + 0.017*\"fire\" + 0.017*\"become\" + 0.014*\"believe\"\n",
      "Topic: 18 \n",
      "Words: 0.057*\"want\" + 0.041*\"woman\" + 0.032*\"dont\" + 0.031*\"hate\" + 0.027*\"care\" + 0.019*\"get\" + 0.018*\"voter\" + 0.017*\"child\" + 0.016*\"continue\" + 0.016*\"elect\"\n",
      "Topic: 19 \n",
      "Words: 0.095*\"via\" + 0.042*\"thanks\" + 0.036*\"@credomobile\" + 0.036*\"must\" + 0.034*\"sign\" + 0.031*\"hey\" + 0.027*\"world\" + 0.025*\"trump\" + 0.020*\"racist\" + 0.018*\"late\"\n"
     ]
    }
   ],
   "source": [
    "for idx, topic in dem_lda_model_40_all.print_topics(-1):\n",
    "    print('Topic: {} \\nWords: {}'.format(idx, topic))"
   ]
  },
  {
   "cell_type": "code",
   "execution_count": 26,
   "metadata": {},
   "outputs": [
    {
     "name": "stdout",
     "output_type": "stream",
     "text": [
      "Topic: 0 \n",
      "Words: 0.147*\"@realdonaldtrump\" + 0.047*\"@potus\" + 0.038*\"@gop\" + 0.023*\"rt\" + 0.023*\"@senatemajldr\" + 0.023*\"hell\" + 0.023*\"@foxnews\" + 0.019*\"hand\" + 0.019*\"@housegop\" + 0.018*\"@senategop\"\n",
      "Topic: 1 \n",
      "Words: 0.049*\"thank\" + 0.017*\"already\" + 0.016*\"win\" + 0.015*\"another\" + 0.015*\"sad\" + 0.015*\"ok\" + 0.014*\"blame\" + 0.014*\"stay\" + 0.013*\"feed\" + 0.013*\"@politico\"\n",
      "Topic: 2 \n",
      "Words: 0.105*\"follow\" + 0.042*\"please\" + 0.030*\"tweet\" + 0.026*\"back\" + 0.022*\"retweet\" + 0.021*\"like\" + 0.019*\"hey\" + 0.019*\"follower\" + 0.019*\"week\" + 0.018*\"twitter\"\n",
      "Topic: 3 \n",
      "Words: 0.017*\"want\" + 0.016*\"law\" + 0.016*\"sure\" + 0.014*\"im\" + 0.014*\"@thedemocrats\" + 0.013*\"vote\" + 0.012*\"middle\" + 0.012*\"@washingtonpost\" + 0.011*\"liberal\" + 0.011*\"criminal\"\n",
      "Topic: 4 \n",
      "Words: 0.042*\"good\" + 0.022*\"fire\" + 0.022*\"fuck\" + 0.019*\"would\" + 0.018*\"lol\" + 0.017*\"happy\" + 0.016*\"agree\" + 0.016*\"read\" + 0.016*\"presidency\" + 0.015*\"congratulation\"\n",
      "Topic: 5 \n",
      "Words: 0.025*\"work\" + 0.024*\"hear\" + 0.019*\"thread\" + 0.017*\"report\" + 0.015*\"must\" + 0.014*\"black\" + 0.014*\"resistance\" + 0.013*\"use\" + 0.013*\"shame\" + 0.012*\"@betoorourke\"\n",
      "Topic: 6 \n",
      "Words: 0.039*\"yes\" + 0.027*\"real\" + 0.018*\"news\" + 0.016*\"people\" + 0.015*\"chance\" + 0.014*\"send\" + 0.014*\"@abc\" + 0.013*\"true\" + 0.013*\"call\" + 0.013*\"wall\"\n",
      "Topic: 7 \n",
      "Words: 0.024*\"hate\" + 0.022*\"welcome\" + 0.021*\"@1voiceforme\" + 0.020*\"ready\" + 0.019*\"@realdonaldtrump\" + 0.017*\"liar\" + 0.015*\"@hillaryclinton\" + 0.015*\"mueller\" + 0.015*\"end\" + 0.012*\"donald\"\n",
      "Topic: 8 \n",
      "Words: 0.050*\"vote\" + 0.015*\"everyone\" + 0.014*\"democrat\" + 0.014*\"dont\" + 0.013*\"start\" + 0.013*\"go\" + 0.013*\"blue\" + 0.012*\"beautiful\" + 0.012*\"get\" + 0.011*\"count\"\n",
      "Topic: 9 \n",
      "Words: 0.046*\"love\" + 0.034*\"party\" + 0.021*\"go\" + 0.020*\"@cnn\" + 0.016*\"remember\" + 0.016*\"nov\" + 0.015*\"issue\" + 0.014*\"2018\" + 0.014*\"@funder\" + 0.013*\"throw\"\n",
      "Topic: 10 \n",
      "Words: 0.030*\"register\" + 0.022*\"@thehill\" + 0.021*\"putin\" + 0.018*\"human\" + 0.017*\"corruption\" + 0.017*\"usa\" + 0.016*\"trump\" + 0.016*\"wave\" + 0.015*\"vote\" + 0.014*\"blue\"\n",
      "Topic: 11 \n",
      "Words: 0.025*\"thanks\" + 0.023*\"late\" + 0.021*\"time\" + 0.017*\"proud\" + 0.017*\"make\" + 0.017*\"daily\" + 0.017*\"flip\" + 0.016*\"@krassenstein\" + 0.015*\"man\" + 0.014*\"young\"\n",
      "Topic: 12 \n",
      "Words: 0.101*\"open\" + 0.098*\"letter\" + 0.030*\"hope\" + 0.022*\"exactly\" + 0.017*\"keep\" + 0.016*\"video\" + 0.016*\"boy\" + 0.015*\"give\" + 0.012*\"paul\" + 0.012*\"promise\"\n",
      "Topic: 13 \n",
      "Words: 0.034*\"via\" + 0.026*\"@credomobile\" + 0.021*\"trump\" + 0.018*\"white\" + 0.017*\"sign\" + 0.016*\"house\" + 0.015*\"resist\" + 0.014*\"traitor\" + 0.013*\"continue\" + 0.010*\"lock\"\n",
      "Topic: 14 \n",
      "Words: 0.029*\"check\" + 0.018*\"share\" + 0.018*\"obama\" + 0.016*\"change\" + 0.016*\"hold\" + 0.016*\"job\" + 0.015*\"play\" + 0.014*\"president\" + 0.012*\"office\" + 0.012*\"wow\"\n",
      "Topic: 15 \n",
      "Words: 0.024*\"de\" + 0.020*\"happen\" + 0.019*\"woman\" + 0.018*\"today\" + 0.015*\"morning\" + 0.015*\"always\" + 0.014*\"voting\" + 0.013*\"la\" + 0.013*\"stop\" + 0.012*\"friend\"\n",
      "Topic: 16 \n",
      "Words: 0.020*\"vote\" + 0.018*\"save\" + 0.017*\"senate\" + 0.016*\"well\" + 0.016*\"bring\" + 0.014*\"democracy\" + 0.014*\"live\" + 0.013*\"matter\" + 0.013*\"state\" + 0.012*\"america\"\n",
      "Topic: 17 \n",
      "Words: 0.025*\"know\" + 0.022*\"doesnt\" + 0.020*\"god\" + 0.018*\"stand\" + 0.017*\"support\" + 0.014*\"nothing\" + 0.014*\"speak\" + 0.014*\"@dnc\" + 0.013*\"whats\" + 0.013*\"fund\"\n",
      "Topic: 18 \n",
      "Words: 0.020*\"oh\" + 0.015*\"medium\" + 0.014*\"point\" + 0.013*\"cant\" + 0.013*\"@barackobama\" + 0.012*\"government\" + 0.012*\"wont\" + 0.011*\"problem\" + 0.011*\"cheat\" + 0.010*\"stupid\"\n",
      "Topic: 19 \n",
      "Words: 0.018*\"america\" + 0.017*\"never\" + 0.016*\"big\" + 0.015*\"great\" + 0.014*\"part\" + 0.014*\"become\" + 0.014*\"ever\" + 0.012*\"far\" + 0.012*\"texas\" + 0.012*\"way\"\n"
     ]
    }
   ],
   "source": [
    "for idx, topic in dem_lda_model_tfidf_40_all.print_topics(-1):\n",
    "    print('Topic: {} \\nWords: {}'.format(idx, topic))"
   ]
  },
  {
   "cell_type": "code",
   "execution_count": 27,
   "metadata": {
    "collapsed": true
   },
   "outputs": [],
   "source": [
    "dem_lda_model_80_all = models.LdaMulticore(dem_bow_corpus, num_topics=40, id2word=dem_dict, passes=80, workers=2)\n",
    "dem_lda_model_tfidf_80_all = models.LdaMulticore(dem_corpus_tfidf, num_topics=40, id2word=dem_dict, passes=80, workers=4)"
   ]
  },
  {
   "cell_type": "code",
   "execution_count": 28,
   "metadata": {},
   "outputs": [
    {
     "name": "stdout",
     "output_type": "stream",
     "text": [
      "Topic: 0 \n",
      "Words: 0.053*\"well\" + 0.038*\"know\" + 0.035*\"voter\" + 0.029*\"could\" + 0.027*\"immigrant\" + 0.026*\"fire\" + 0.025*\"racist\" + 0.025*\"list\" + 0.021*\"illegal\" + 0.021*\"top\"\n",
      "Topic: 1 \n",
      "Words: 0.050*\"real\" + 0.046*\"hell\" + 0.037*\"liar\" + 0.035*\"support\" + 0.035*\"@betoorourke\" + 0.033*\"act\" + 0.028*\"@politico\" + 0.026*\"wow\" + 0.025*\"medium\" + 0.022*\"young\"\n",
      "Topic: 2 \n",
      "Words: 0.060*\"rt\" + 0.055*\"hear\" + 0.037*\"@dnc\" + 0.036*\"@gop\" + 0.036*\"@donaldjtrumpjr\" + 0.034*\"continue\" + 0.032*\"@nra\" + 0.028*\"chance\" + 0.023*\"send\" + 0.023*\"worth\"\n",
      "Topic: 3 \n",
      "Words: 0.041*\"wait\" + 0.036*\"god\" + 0.031*\"wave\" + 0.031*\"obama\" + 0.025*\"reason\" + 0.025*\"lose\" + 0.025*\"red\" + 0.024*\"gun\" + 0.023*\"run\" + 0.022*\"sad\"\n",
      "Topic: 4 \n",
      "Words: 0.035*\"lie\" + 0.030*\"stand\" + 0.027*\"shit\" + 0.025*\"buy\" + 0.024*\"@funder\" + 0.024*\"mean\" + 0.022*\"live\" + 0.021*\"want\" + 0.021*\"write\" + 0.021*\"ask\"\n",
      "Topic: 5 \n",
      "Words: 0.057*\"work\" + 0.042*\"nothing\" + 0.038*\"hard\" + 0.036*\"men\" + 0.036*\"word\" + 0.036*\"speak\" + 0.029*\"push\" + 0.024*\"low\" + 0.024*\"call\" + 0.023*\"interest\"\n",
      "Topic: 6 \n",
      "Words: 0.027*\"tax\" + 0.025*\"@senschumer\" + 0.022*\"politics\" + 0.022*\"democrat\" + 0.021*\"@nancypelosi\" + 0.019*\"national\" + 0.019*\"help\" + 0.019*\"head\" + 0.018*\"@senatedems\" + 0.018*\"@davidhogg111\"\n",
      "Topic: 7 \n",
      "Words: 0.265*\"@realdonaldtrump\" + 0.050*\"youre\" + 0.036*\"old\" + 0.028*\"@flotus\" + 0.024*\"beautiful\" + 0.024*\"already\" + 0.023*\"youve\" + 0.022*\"fall\" + 0.022*\"definitely\" + 0.022*\"kid\"\n",
      "Topic: 8 \n",
      "Words: 0.112*\"yes\" + 0.080*\"oh\" + 0.054*\"de\" + 0.042*\"find\" + 0.034*\"la\" + 0.032*\"agree\" + 0.031*\"absolutely\" + 0.025*\"may\" + 0.019*\"complicit\" + 0.018*\"entire\"\n",
      "Topic: 9 \n",
      "Words: 0.037*\"late\" + 0.037*\"poll\" + 0.034*\"news\" + 0.032*\"two\" + 0.029*\"really\" + 0.028*\"donate\" + 0.027*\"daily\" + 0.026*\"fund\" + 0.024*\"depend\" + 0.023*\"100\"\n",
      "Topic: 10 \n",
      "Words: 0.057*\"vote\" + 0.043*\"happen\" + 0.028*\"anyone\" + 0.027*\"never\" + 0.026*\"report\" + 0.021*\"count\" + 0.018*\"florida\" + 0.017*\"people\" + 0.017*\"great\" + 0.016*\"remember\"\n",
      "Topic: 11 \n",
      "Words: 0.042*\"proud\" + 0.041*\"job\" + 0.032*\"resist\" + 0.031*\"happy\" + 0.030*\"week\" + 0.026*\"war\" + 0.023*\"senator\" + 0.021*\"@youtube\" + 0.020*\"create\" + 0.019*\"via\"\n",
      "Topic: 12 \n",
      "Words: 0.041*\"government\" + 0.026*\"come\" + 0.026*\"idiot\" + 0.025*\"seem\" + 0.022*\"resistance\" + 0.020*\"name\" + 0.019*\"need\" + 0.018*\"realize\" + 0.018*\"rule\" + 0.017*\"tear\"\n",
      "Topic: 13 \n",
      "Words: 0.036*\"bill\" + 0.034*\"face\" + 0.030*\"flip\" + 0.029*\"theyre\" + 0.028*\"protest\" + 0.028*\"im\" + 0.020*\"@alyssamilano\" + 0.019*\"prove\" + 0.018*\"actually\" + 0.017*\"class\"\n",
      "Topic: 14 \n",
      "Words: 0.032*\"violence\" + 0.032*\"office\" + 0.032*\"much\" + 0.030*\"sick\" + 0.025*\"wake\" + 0.024*\"video\" + 0.024*\"watch\" + 0.021*\"line\" + 0.020*\"guess\" + 0.020*\"person\"\n",
      "Topic: 15 \n",
      "Words: 0.056*\"@foxnews\" + 0.035*\"stupid\" + 0.031*\"@abc\" + 0.030*\"fail\" + 0.029*\"rise\" + 0.026*\"@msnbc\" + 0.023*\"liberal\" + 0.022*\"crazy\" + 0.022*\"@presssec\" + 0.021*\"@seanhannity\"\n",
      "Topic: 16 \n",
      "Words: 0.042*\"fuck\" + 0.038*\"ever\" + 0.034*\"friend\" + 0.026*\"bad\" + 0.026*\"best\" + 0.024*\"wont\" + 0.024*\"presidency\" + 0.022*\"might\" + 0.022*\"silence\" + 0.021*\"family\"\n",
      "Topic: 17 \n",
      "Words: 0.057*\"register\" + 0.044*\"go\" + 0.039*\"party\" + 0.038*\"lock\" + 0.035*\"time\" + 0.029*\"little\" + 0.022*\"vote\" + 0.022*\"nice\" + 0.019*\"tonight\" + 0.019*\"@thedemocrats\"\n",
      "Topic: 18 \n",
      "Words: 0.038*\"child\" + 0.033*\"woman\" + 0.032*\"become\" + 0.032*\"human\" + 0.028*\"@lindseygrahamsc\" + 0.028*\"damn\" + 0.027*\"shame\" + 0.027*\"way\" + 0.026*\"kill\" + 0.024*\"blame\"\n",
      "Topic: 19 \n",
      "Words: 0.053*\"hate\" + 0.032*\"matter\" + 0.031*\"2020\" + 0.024*\"rest\" + 0.023*\"trust\" + 0.021*\"maybe\" + 0.021*\"free\" + 0.021*\"ballot\" + 0.020*\"leave\" + 0.020*\"official\"\n",
      "Topic: 20 \n",
      "Words: 0.038*\"hope\" + 0.032*\"ready\" + 0.025*\"ive\" + 0.022*\"plan\" + 0.021*\"door\" + 0.019*\"get\" + 0.019*\"throw\" + 0.018*\"disgust\" + 0.018*\"prison\" + 0.018*\"yall\"\n",
      "Topic: 21 \n",
      "Words: 0.038*\"another\" + 0.038*\"lol\" + 0.031*\"didnt\" + 0.028*\"russia\" + 0.026*\"voice\" + 0.022*\"member\" + 0.021*\"make\" + 0.020*\"everything\" + 0.020*\"congressional\" + 0.019*\"allow\"\n",
      "Topic: 22 \n",
      "Words: 0.038*\"today\" + 0.036*\"future\" + 0.036*\"exactly\" + 0.025*\"man\" + 0.024*\"truth\" + 0.023*\"angry\" + 0.022*\"value\" + 0.021*\"@teapainusa\" + 0.021*\"lead\" + 0.020*\"fact\"\n",
      "Topic: 23 \n",
      "Words: 0.053*\"fight\" + 0.041*\"@thehill\" + 0.028*\"last\" + 0.024*\"lot\" + 0.022*\"6th\" + 0.022*\"money\" + 0.019*\"afraid\" + 0.019*\"die\" + 0.019*\"governor\" + 0.018*\"force\"\n",
      "Topic: 24 \n",
      "Words: 0.069*\"love\" + 0.046*\"@1voiceforme\" + 0.039*\"end\" + 0.035*\"true\" + 0.031*\"black\" + 0.030*\"everyone\" + 0.029*\"@barackobama\" + 0.029*\"bring\" + 0.028*\"keep\" + 0.025*\"dems\"\n",
      "Topic: 25 \n",
      "Words: 0.040*\"ok\" + 0.036*\"democracy\" + 0.035*\"long\" + 0.030*\"hold\" + 0.029*\"whats\" + 0.027*\"anything\" + 0.025*\"sure\" + 0.023*\"sit\" + 0.023*\"congress\" + 0.021*\"feed\"\n",
      "Topic: 26 \n",
      "Words: 0.042*\"something\" + 0.039*\"always\" + 0.034*\"@hillaryclinton\" + 0.022*\"texas\" + 0.021*\"play\" + 0.020*\"hurt\" + 0.020*\"@edkrassen\" + 0.019*\"wrong\" + 0.018*\"@devinnunes\" + 0.016*\"@tedcruz\"\n",
      "Topic: 27 \n",
      "Words: 0.045*\"post\" + 0.043*\"@krassenstein\" + 0.032*\"right\" + 0.030*\"get\" + 0.030*\"without\" + 0.027*\"wouldnt\" + 0.026*\"court\" + 0.026*\"@maddow\" + 0.026*\"number\" + 0.026*\"saw\"\n",
      "Topic: 28 \n",
      "Words: 0.050*\"2018\" + 0.037*\"forget\" + 0.033*\"november\" + 0.033*\"nov\" + 0.030*\"thread\" + 0.029*\"@senategop\" + 0.029*\"@housegop\" + 0.024*\"vote\" + 0.022*\"em\" + 0.022*\"problem\"\n",
      "Topic: 29 \n",
      "Words: 0.066*\"via\" + 0.048*\"@credomobile\" + 0.041*\"save\" + 0.041*\"must\" + 0.036*\"sign\" + 0.031*\"america\" + 0.031*\"stay\" + 0.028*\"id\" + 0.020*\"order\" + 0.020*\"judge\"\n",
      "Topic: 30 \n",
      "Words: 0.032*\"@senatemajldr\" + 0.032*\"next\" + 0.026*\"midterm\" + 0.023*\"loser\" + 0.023*\"refuse\" + 0.022*\"baby\" + 0.021*\"respect\" + 0.019*\"focus\" + 0.019*\"parent\" + 0.018*\"20\"\n",
      "Topic: 31 \n",
      "Words: 0.091*\"@potus\" + 0.042*\"putin\" + 0.042*\"congratulation\" + 0.034*\"new\" + 0.030*\"message\" + 0.026*\"usa\" + 0.025*\"hand\" + 0.025*\"district\" + 0.024*\"@realdonaldtrump\" + 0.022*\"paul\"\n",
      "Topic: 32 \n",
      "Words: 0.091*\"thank\" + 0.058*\"thanks\" + 0.041*\"hey\" + 0.026*\"change\" + 0.025*\"fellow\" + 0.024*\"story\" + 0.024*\"learn\" + 0.022*\"follow\" + 0.019*\"swamp\" + 0.018*\"shut\"\n",
      "Topic: 33 \n",
      "Words: 0.037*\"win\" + 0.035*\"donald\" + 0.034*\"state\" + 0.031*\"united\" + 0.025*\"house\" + 0.024*\"senate\" + 0.024*\"dem\" + 0.023*\"trump\" + 0.021*\"democratic\" + 0.021*\"control\"\n",
      "Topic: 34 \n",
      "Words: 0.141*\"follow\" + 0.051*\"please\" + 0.042*\"tweet\" + 0.039*\"back\" + 0.036*\"like\" + 0.032*\"retweet\" + 0.025*\"good\" + 0.024*\"twitter\" + 0.023*\"let\" + 0.022*\"follower\"\n",
      "Topic: 35 \n",
      "Words: 0.029*\"@cnn\" + 0.029*\"share\" + 0.022*\"fox\" + 0.020*\"listen\" + 0.020*\"election\" + 0.018*\"moron\" + 0.018*\"@nbcnews\" + 0.017*\"news\" + 0.017*\"action\" + 0.015*\"vote\"\n",
      "Topic: 36 \n",
      "Words: 0.040*\"start\" + 0.036*\"welcome\" + 0.034*\"read\" + 0.028*\"voting\" + 0.027*\"believe\" + 0.026*\"early\" + 0.026*\"book\" + 0.023*\"investigation\" + 0.022*\"morning\" + 0.020*\"10\"\n",
      "Topic: 37 \n",
      "Words: 0.040*\"corruption\" + 0.034*\"cant\" + 0.034*\"put\" + 0.030*\"part\" + 0.023*\"threat\" + 0.021*\"evil\" + 0.021*\"profile\" + 0.020*\"ur\" + 0.020*\"jail\" + 0.019*\"constitution\"\n",
      "Topic: 38 \n",
      "Words: 0.194*\"open\" + 0.188*\"letter\" + 0.056*\"blue\" + 0.039*\"doesnt\" + 0.033*\"traitor\" + 0.027*\"victory\" + 0.027*\"care\" + 0.022*\"death\" + 0.022*\"vote\" + 0.021*\"un\"\n",
      "Topic: 39 \n",
      "Words: 0.058*\"check\" + 0.027*\"understand\" + 0.025*\"cheat\" + 0.025*\"street\" + 0.022*\"white\" + 0.021*\"bitch\" + 0.020*\"@speakerryan\" + 0.019*\"gonna\" + 0.018*\"impeach\" + 0.017*\"think\"\n"
     ]
    }
   ],
   "source": [
    "for idx, topic in dem_lda_model_tfidf_80_all.print_topics(-1):\n",
    "    print('Topic: {} \\nWords: {}'.format(idx, topic))"
   ]
  },
  {
   "cell_type": "code",
   "execution_count": null,
   "metadata": {
    "collapsed": true
   },
   "outputs": [],
   "source": []
  }
 ],
 "metadata": {
  "kernelspec": {
   "display_name": "Python 3",
   "language": "python",
   "name": "python3"
  },
  "language_info": {
   "codemirror_mode": {
    "name": "ipython",
    "version": 3
   },
   "file_extension": ".py",
   "mimetype": "text/x-python",
   "name": "python",
   "nbconvert_exporter": "python",
   "pygments_lexer": "ipython3",
   "version": "3.6.3"
  }
 },
 "nbformat": 4,
 "nbformat_minor": 2
}
