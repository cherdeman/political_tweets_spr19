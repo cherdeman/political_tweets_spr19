{
 "cells": [
  {
   "cell_type": "markdown",
   "metadata": {},
   "source": [
    "# Preliminary \"Base\" Topic Modeling\n",
    "Citation:\n",
    "https://towardsdatascience.com/topic-modeling-and-latent-dirichlet-allocation-in-python-9bf156893c24"
   ]
  },
  {
   "cell_type": "code",
   "execution_count": 1,
   "metadata": {},
   "outputs": [
    {
     "name": "stdout",
     "output_type": "stream",
     "text": [
      "Here's the client!\n"
     ]
    }
   ],
   "source": [
    "from src.db_client import DBClient\n",
    "import pandas as pd\n",
    "from gensim import corpora, models\n",
    "import ast"
   ]
  },
  {
   "cell_type": "code",
   "execution_count": 2,
   "metadata": {},
   "outputs": [
    {
     "name": "stdout",
     "output_type": "stream",
     "text": [
      "Connected to political tweets DB\n"
     ]
    }
   ],
   "source": [
    "db = DBClient(secrets_path = \"configs/db_secrets.json\")"
   ]
  },
  {
   "cell_type": "code",
   "execution_count": 3,
   "metadata": {
    "collapsed": true
   },
   "outputs": [],
   "source": [
    "data_query = \"\"\"\n",
    "with random_tweets as (\n",
    "    select tweet_text_clean, Random() from staging.{}\n",
    "    where tweet_date between '2018-01-01' and '2019-01-01'\n",
    "    order by Random()\n",
    "    limit 10000)\n",
    "select tweet_text_clean \n",
    "from random_tweets;\n",
    "\"\"\""
   ]
  },
  {
   "cell_type": "code",
   "execution_count": 4,
   "metadata": {},
   "outputs": [],
   "source": [
    "def get_word_counts(bow_corpus):\n",
    "    counts = {}\n",
    "    for bow in bow_corpus:\n",
    "        for word in bow:\n",
    "            if word[0] not in counts.keys():\n",
    "                counts[word[0]] = 0\n",
    "            counts[word[0]] += word[1]\n",
    "    return [(k, counts[k]) for k in sorted(counts, key=counts.get, reverse=True)]\n",
    "\n",
    "def print_word_counts(word_counts, num_words):\n",
    "    for tup in word_counts[0:num_words]:\n",
    "        print(f\"{dem_dict[tup[0]]}, {tup[1]} times\")"
   ]
  },
  {
   "cell_type": "markdown",
   "metadata": {},
   "source": [
    "## Democrats"
   ]
  },
  {
   "cell_type": "markdown",
   "metadata": {},
   "source": [
    "### Preparation"
   ]
  },
  {
   "cell_type": "code",
   "execution_count": 5,
   "metadata": {},
   "outputs": [],
   "source": [
    "dem_tweets = pd.DataFrame(db.read(data_query.format(\"democrat\")))\n",
    "dem_docs = [ast.literal_eval(doc) for doc in  dem_tweets[0].tolist()]\n",
    "dem_dict = corpora.Dictionary(dem_docs)"
   ]
  },
  {
   "cell_type": "code",
   "execution_count": 6,
   "metadata": {
    "collapsed": true
   },
   "outputs": [],
   "source": [
    "# Alter no_above to filter out frequently occuring words\n",
    "dem_dict.filter_extremes(no_below=15, no_above=1, keep_n=10000)\n",
    "dem_bow_corpus = [dem_dict.doc2bow(doc) for doc in dem_docs]"
   ]
  },
  {
   "cell_type": "markdown",
   "metadata": {},
   "source": [
    "### Top Word Counts"
   ]
  },
  {
   "cell_type": "code",
   "execution_count": 7,
   "metadata": {},
   "outputs": [
    {
     "name": "stdout",
     "output_type": "stream",
     "text": [
      "#resist, 3490 times\n",
      "#resistance, 1308 times\n",
      "#bluewave, 1208 times\n",
      "#voteblue, 1190 times\n",
      "#democrats, 1188 times\n",
      "#bluewave2018, 1101 times\n",
      "vote, 993 times\n",
      "@realdonaldtrump, 979 times\n",
      "amp, 904 times\n",
      "trump, 903 times\n",
      "get, 756 times\n",
      "go, 580 times\n",
      "like, 575 times\n",
      "#theresistance, 550 times\n",
      "people, 526 times\n",
      "dont, 473 times\n",
      "#maga, 473 times\n",
      "make, 444 times\n",
      "#votethemout, 431 times\n",
      "need, 422 times\n",
      "follow, 419 times\n",
      "#trump, 409 times\n",
      "say, 385 times\n",
      "one, 378 times\n",
      "want, 373 times\n",
      "know, 362 times\n",
      "time, 360 times\n",
      "#fbr, 341 times\n",
      "good, 340 times\n",
      "take, 333 times\n",
      "let, 328 times\n",
      "#impeachtrump, 325 times\n",
      "back, 316 times\n",
      "right, 308 times\n",
      "come, 294 times\n",
      "think, 288 times\n",
      "see, 286 times\n",
      "#vote, 280 times\n",
      "please, 263 times\n",
      "america, 262 times\n",
      "democrat, 260 times\n",
      "day, 259 times\n",
      "would, 256 times\n",
      "country, 250 times\n",
      "lie, 248 times\n",
      "#trumprussia, 248 times\n",
      "@gop, 243 times\n",
      "im, 243 times\n",
      "election, 224 times\n",
      "party, 221 times\n"
     ]
    }
   ],
   "source": [
    "dem_counts = get_word_counts(dem_bow_corpus)\n",
    "print_word_counts(dem_counts, 50)"
   ]
  },
  {
   "cell_type": "markdown",
   "metadata": {},
   "source": [
    "### Train Models"
   ]
  },
  {
   "cell_type": "code",
   "execution_count": 8,
   "metadata": {
    "collapsed": true
   },
   "outputs": [],
   "source": [
    "dem_tfidf = models.TfidfModel(dem_bow_corpus)\n",
    "dem_corpus_tfidf = dem_tfidf[dem_bow_corpus]"
   ]
  },
  {
   "cell_type": "code",
   "execution_count": 9,
   "metadata": {
    "collapsed": true
   },
   "outputs": [],
   "source": [
    "dem_lda_model = models.LdaMulticore(dem_bow_corpus, num_topics=10, id2word=dem_dict, passes=2, workers=2)\n",
    "dem_lda_model_tfidf = models.LdaMulticore(dem_corpus_tfidf, num_topics=10, id2word=dem_dict, passes=2, workers=4)"
   ]
  },
  {
   "cell_type": "markdown",
   "metadata": {},
   "source": [
    "### Print Categories"
   ]
  },
  {
   "cell_type": "code",
   "execution_count": 10,
   "metadata": {},
   "outputs": [
    {
     "name": "stdout",
     "output_type": "stream",
     "text": [
      "Topic: 0 \n",
      "Words: 0.032*\"#resist\" + 0.024*\"#democrats\" + 0.023*\"#voteblue\" + 0.021*\"@realdonaldtrump\" + 0.019*\"#vote\" + 0.015*\"vote\" + 0.013*\"#bluewave\" + 0.011*\"say\" + 0.011*\"#resistance\" + 0.009*\"amp\"\n",
      "Topic: 1 \n",
      "Words: 0.064*\"#resist\" + 0.044*\"#resistance\" + 0.027*\"#theresistance\" + 0.019*\"#trumprussia\" + 0.015*\"#bluewave2018\" + 0.014*\"@realdonaldtrump\" + 0.013*\"#democrats\" + 0.011*\"#impeachtrump\" + 0.011*\"#maga\" + 0.010*\"trump\"\n",
      "Topic: 2 \n",
      "Words: 0.058*\"#resist\" + 0.029*\"@realdonaldtrump\" + 0.023*\"trump\" + 0.019*\"#democrats\" + 0.012*\"#bluewave2018\" + 0.007*\"vote\" + 0.007*\"time\" + 0.006*\"dont\" + 0.006*\"#bluewave\" + 0.006*\"lie\"\n",
      "Topic: 3 \n",
      "Words: 0.039*\"#resist\" + 0.030*\"#resistance\" + 0.024*\"#bluewave2018\" + 0.019*\"amp\" + 0.014*\"follow\" + 0.013*\"#voteblue\" + 0.012*\"#democrats\" + 0.010*\"#fbr\" + 0.010*\"trump\" + 0.009*\"#impeachtrump\"\n",
      "Topic: 4 \n",
      "Words: 0.103*\"#resist\" + 0.022*\"amp\" + 0.016*\"#maga\" + 0.015*\"trump\" + 0.014*\"open\" + 0.012*\"letter\" + 0.012*\"#voteblue\" + 0.012*\"@realdonaldtrump\" + 0.012*\"#resistbot\" + 0.011*\"vote\"\n",
      "Topic: 5 \n",
      "Words: 0.042*\"#bluewave\" + 0.039*\"#resist\" + 0.024*\"get\" + 0.022*\"vote\" + 0.021*\"follow\" + 0.014*\"people\" + 0.014*\"like\" + 0.014*\"please\" + 0.013*\"@realdonaldtrump\" + 0.012*\"#voteblue\"\n",
      "Topic: 6 \n",
      "Words: 0.032*\"vote\" + 0.024*\"#democrats\" + 0.021*\"#resist\" + 0.015*\"make\" + 0.013*\"like\" + 0.012*\"amp\" + 0.011*\"trump\" + 0.010*\"would\" + 0.009*\"#voteblue\" + 0.009*\"good\"\n",
      "Topic: 7 \n",
      "Words: 0.032*\"#resist\" + 0.026*\"#voteblue\" + 0.022*\"people\" + 0.016*\"#democrats\" + 0.014*\"dont\" + 0.013*\"#bluewave\" + 0.012*\"#resistance\" + 0.012*\"amp\" + 0.011*\"like\" + 0.011*\"go\"\n",
      "Topic: 8 \n",
      "Words: 0.040*\"#bluewave2018\" + 0.033*\"#bluewave\" + 0.019*\"#resist\" + 0.019*\"#democrats\" + 0.018*\"#votethemout\" + 0.015*\"#resistance\" + 0.014*\"#voteblue\" + 0.011*\"need\" + 0.009*\"vote\" + 0.008*\"#bluetsunami\"\n",
      "Topic: 9 \n",
      "Words: 0.023*\"#voteblue\" + 0.018*\"#bluewave\" + 0.018*\"amp\" + 0.016*\"#resist\" + 0.015*\"get\" + 0.015*\"#resistance\" + 0.015*\"go\" + 0.012*\"vote\" + 0.010*\"#democrats\" + 0.009*\"really\"\n"
     ]
    }
   ],
   "source": [
    "for idx, topic in dem_lda_model.print_topics(-1):\n",
    "    print('Topic: {} \\nWords: {}'.format(idx, topic))"
   ]
  },
  {
   "cell_type": "code",
   "execution_count": 11,
   "metadata": {},
   "outputs": [
    {
     "name": "stdout",
     "output_type": "stream",
     "text": [
      "Topic: 0 \n",
      "Words: 0.011*\"#resist\" + 0.009*\"#democrats\" + 0.008*\"poll\" + 0.006*\"#voteblue\" + 0.006*\"country\" + 0.006*\"thank\" + 0.006*\"vote\" + 0.006*\"trump\" + 0.006*\"#bluewave\" + 0.005*\"must\"\n",
      "Topic: 1 \n",
      "Words: 0.085*\"#resist\" + 0.013*\"#resistbot\" + 0.013*\"letter\" + 0.013*\"open\" + 0.012*\"#bluewave2018\" + 0.009*\"#bluewave\" + 0.008*\"@realdonaldtrump\" + 0.007*\"get\" + 0.007*\"#resistência\" + 0.007*\"#resistance\"\n",
      "Topic: 2 \n",
      "Words: 0.014*\"vote\" + 0.012*\"#resist\" + 0.011*\"#trumpresign\" + 0.010*\"#resistance\" + 0.009*\"#democrats\" + 0.008*\"#trump\" + 0.007*\"#bluewave\" + 0.007*\"@realdonaldtrump\" + 0.006*\"amp\" + 0.006*\"#bluewave2018\"\n",
      "Topic: 3 \n",
      "Words: 0.018*\"#democrats\" + 0.011*\"#resistance\" + 0.010*\"#bluewave\" + 0.010*\"#resist\" + 0.009*\"please\" + 0.008*\"@realdonaldtrump\" + 0.007*\"vote\" + 0.007*\"#voteblue\" + 0.007*\"#walkaway\" + 0.007*\"via\"\n",
      "Topic: 4 \n",
      "Words: 0.017*\"#votethemout\" + 0.016*\"#voteblue\" + 0.013*\"#resist\" + 0.010*\"#maga\" + 0.010*\"@realdonaldtrump\" + 0.009*\"#resistance\" + 0.009*\"yes\" + 0.009*\"#fbr\" + 0.008*\"#bluewave\" + 0.008*\"#democrats\"\n",
      "Topic: 5 \n",
      "Words: 0.043*\"#voteblue\" + 0.028*\"#bluewave2018\" + 0.019*\"#bluewave\" + 0.010*\"#resist\" + 0.009*\"#democrats\" + 0.008*\"vote\" + 0.008*\"trump\" + 0.008*\"day\" + 0.007*\"people\" + 0.007*\"@realdonaldtrump\"\n",
      "Topic: 6 \n",
      "Words: 0.012*\"#resistance\" + 0.010*\"#resist\" + 0.009*\"#vote\" + 0.008*\"#bluewave\" + 0.008*\"@realdonaldtrump\" + 0.008*\"vote\" + 0.007*\"great\" + 0.007*\"#bluewave2018\" + 0.007*\"follow\" + 0.007*\"#democrats\"\n",
      "Topic: 7 \n",
      "Words: 0.018*\"@realdonaldtrump\" + 0.012*\"#bluewave2018\" + 0.011*\"#resist\" + 0.008*\"trump\" + 0.008*\"#resistance\" + 0.007*\"#democrats\" + 0.007*\"#voteblue\" + 0.007*\"#impeachtrump\" + 0.006*\"#bluetsunami2018\" + 0.006*\"get\"\n",
      "Topic: 8 \n",
      "Words: 0.037*\"#resistance\" + 0.025*\"#resist\" + 0.014*\"#bluewave\" + 0.010*\"amp\" + 0.008*\"follow\" + 0.007*\"know\" + 0.007*\"go\" + 0.007*\"#bluewave2018\" + 0.007*\"get\" + 0.006*\"#democrats\"\n",
      "Topic: 9 \n",
      "Words: 0.020*\"#voteblue\" + 0.018*\"#theresistance\" + 0.014*\"vote\" + 0.013*\"#bluewave\" + 0.012*\"#resist\" + 0.010*\"#bluewave2018\" + 0.009*\"go\" + 0.009*\"need\" + 0.008*\"@realdonaldtrump\" + 0.008*\"thanks\"\n"
     ]
    }
   ],
   "source": [
    "for idx, topic in dem_lda_model_tfidf.print_topics(-1):\n",
    "    print('Topic: {} \\nWords: {}'.format(idx, topic))"
   ]
  },
  {
   "cell_type": "markdown",
   "metadata": {},
   "source": [
    "## Republicans"
   ]
  },
  {
   "cell_type": "markdown",
   "metadata": {},
   "source": [
    "### Preparation"
   ]
  },
  {
   "cell_type": "code",
   "execution_count": 12,
   "metadata": {
    "collapsed": true
   },
   "outputs": [],
   "source": [
    "rep_tweets = pd.DataFrame(db.read(data_query.format(\"republican\")))\n",
    "rep_docs = [ast.literal_eval(doc) for doc in  rep_tweets[0].tolist()]\n",
    "rep_dict = corpora.Dictionary(dem_docs)"
   ]
  },
  {
   "cell_type": "code",
   "execution_count": 13,
   "metadata": {
    "collapsed": true
   },
   "outputs": [],
   "source": [
    "# Adjust no_above to filter frequently occuring words\n",
    "rep_dict.filter_extremes(no_below=15, no_above=1, keep_n=10000)"
   ]
  },
  {
   "cell_type": "code",
   "execution_count": 14,
   "metadata": {
    "collapsed": true
   },
   "outputs": [],
   "source": [
    "rep_bow_corpus = [rep_dict.doc2bow(doc) for doc in rep_docs]"
   ]
  },
  {
   "cell_type": "markdown",
   "metadata": {},
   "source": [
    "### Top Word Counts"
   ]
  },
  {
   "cell_type": "code",
   "execution_count": 15,
   "metadata": {},
   "outputs": [
    {
     "name": "stdout",
     "output_type": "stream",
     "text": [
      "#maga, 5080 times\n",
      "#trump, 2742 times\n",
      "@realdonaldtrump, 1453 times\n",
      "trump, 1035 times\n",
      "amp, 925 times\n",
      "get, 627 times\n",
      "@potus, 575 times\n",
      "#gop, 570 times\n",
      "#qanon, 555 times\n",
      "go, 530 times\n",
      "president, 489 times\n",
      "say, 474 times\n",
      "people, 450 times\n",
      "like, 444 times\n",
      "know, 430 times\n",
      "vote, 422 times\n",
      "make, 413 times\n",
      "follow, 403 times\n",
      "one, 383 times\n",
      "dont, 366 times\n",
      "#kag, 359 times\n",
      "america, 356 times\n",
      "time, 353 times\n",
      "want, 332 times\n",
      "need, 319 times\n",
      "back, 316 times\n",
      "think, 305 times\n",
      "take, 292 times\n",
      "would, 292 times\n",
      "see, 283 times\n",
      "#trumptrain, 281 times\n",
      "great, 277 times\n",
      "good, 276 times\n",
      "american, 276 times\n",
      "#wwg1wga, 266 times\n",
      "right, 259 times\n",
      "country, 257 times\n",
      "keep, 242 times\n",
      "im, 240 times\n",
      "come, 235 times\n",
      "let, 230 times\n",
      "de, 227 times\n",
      "lie, 222 times\n",
      "via, 219 times\n",
      "thank, 215 times\n",
      "work, 212 times\n",
      "#walkaway, 211 times\n",
      "please, 211 times\n",
      "#tcot, 210 times\n",
      "well, 209 times\n"
     ]
    }
   ],
   "source": [
    "rep_counts = get_word_counts(rep_bow_corpus)\n",
    "print_word_counts(rep_counts, 50)"
   ]
  },
  {
   "cell_type": "markdown",
   "metadata": {},
   "source": [
    "### Train Models"
   ]
  },
  {
   "cell_type": "code",
   "execution_count": 16,
   "metadata": {
    "collapsed": true
   },
   "outputs": [],
   "source": [
    "rep_tfidf = models.TfidfModel(rep_bow_corpus)\n",
    "rep_corpus_tfidf = rep_tfidf[rep_bow_corpus]"
   ]
  },
  {
   "cell_type": "code",
   "execution_count": 17,
   "metadata": {
    "collapsed": true
   },
   "outputs": [],
   "source": [
    "rep_lda_model = models.LdaMulticore(rep_bow_corpus, num_topics=10, id2word=rep_dict, passes=2, workers=2)\n",
    "rep_lda_model_tfidf = models.LdaMulticore(rep_corpus_tfidf, num_topics=10, id2word=rep_dict, passes=2, workers=4)"
   ]
  },
  {
   "cell_type": "markdown",
   "metadata": {},
   "source": [
    "### Print Categories"
   ]
  },
  {
   "cell_type": "code",
   "execution_count": 18,
   "metadata": {},
   "outputs": [
    {
     "name": "stdout",
     "output_type": "stream",
     "text": [
      "Topic: 0 \n",
      "Words: 0.137*\"#maga\" + 0.035*\"@realdonaldtrump\" + 0.028*\"follow\" + 0.020*\"#qanon\" + 0.016*\"#votered\" + 0.015*\"vote\" + 0.012*\"back\" + 0.012*\"#kag\" + 0.011*\"#greatawakening\" + 0.010*\"patriot\"\n",
      "Topic: 1 \n",
      "Words: 0.060*\"#maga\" + 0.024*\"amp\" + 0.021*\"make\" + 0.021*\"#trump\" + 0.016*\"@realdonaldtrump\" + 0.013*\"lie\" + 0.010*\"trump\" + 0.009*\"get\" + 0.008*\"great\" + 0.008*\"time\"\n",
      "Topic: 2 \n",
      "Words: 0.066*\"#maga\" + 0.029*\"#trump\" + 0.016*\"trump\" + 0.015*\"america\" + 0.011*\"amp\" + 0.011*\"come\" + 0.010*\"keep\" + 0.009*\"know\" + 0.009*\"@realdonaldtrump\" + 0.008*\"would\"\n",
      "Topic: 3 \n",
      "Words: 0.063*\"#maga\" + 0.023*\"amp\" + 0.022*\"#trump\" + 0.022*\"get\" + 0.014*\"@realdonaldtrump\" + 0.013*\"want\" + 0.010*\"let\" + 0.010*\"follow\" + 0.009*\"trump\" + 0.009*\"say\"\n",
      "Topic: 4 \n",
      "Words: 0.057*\"#trump\" + 0.028*\"#maga\" + 0.026*\"amp\" + 0.017*\"trump\" + 0.016*\"#gop\" + 0.015*\"people\" + 0.014*\"take\" + 0.014*\"get\" + 0.011*\"one\" + 0.008*\"news\"\n",
      "Topic: 5 \n",
      "Words: 0.095*\"#trump\" + 0.048*\"#maga\" + 0.029*\"@realdonaldtrump\" + 0.025*\"de\" + 0.014*\"la\" + 0.013*\"president\" + 0.011*\"trump\" + 0.010*\"@potus\" + 0.010*\"go\" + 0.010*\"know\"\n",
      "Topic: 6 \n",
      "Words: 0.042*\"#maga\" + 0.031*\"@realdonaldtrump\" + 0.025*\"trump\" + 0.011*\"#trump\" + 0.011*\"go\" + 0.011*\"dont\" + 0.010*\"good\" + 0.010*\"amp\" + 0.010*\"@gop\" + 0.010*\"president\"\n",
      "Topic: 7 \n",
      "Words: 0.065*\"#trump\" + 0.045*\"#maga\" + 0.028*\"trump\" + 0.026*\"@potus\" + 0.020*\"@realdonaldtrump\" + 0.019*\"#gop\" + 0.013*\"#qanon\" + 0.011*\"via\" + 0.011*\"say\" + 0.008*\"like\"\n",
      "Topic: 8 \n",
      "Words: 0.105*\"#maga\" + 0.017*\"@realdonaldtrump\" + 0.014*\"#trump\" + 0.011*\"#wwg1wga\" + 0.011*\"#qanon\" + 0.011*\"love\" + 0.011*\"#trumptrain\" + 0.010*\"say\" + 0.010*\"#buildthewall\" + 0.009*\"#americafirst\"\n",
      "Topic: 9 \n",
      "Words: 0.043*\"#maga\" + 0.026*\"#trump\" + 0.022*\"like\" + 0.014*\"time\" + 0.013*\"#gop\" + 0.012*\"say\" + 0.011*\"amp\" + 0.011*\"vote\" + 0.010*\"@realdonaldtrump\" + 0.010*\"one\"\n"
     ]
    }
   ],
   "source": [
    "for idx, topic in rep_lda_model.print_topics(-1):\n",
    "    print('Topic: {} \\nWords: {}'.format(idx, topic))"
   ]
  },
  {
   "cell_type": "code",
   "execution_count": 19,
   "metadata": {},
   "outputs": [
    {
     "name": "stdout",
     "output_type": "stream",
     "text": [
      "Topic: 0 \n",
      "Words: 0.036*\"#maga\" + 0.014*\"#trump\" + 0.013*\"right\" + 0.010*\"dont\" + 0.009*\"trump\" + 0.009*\"@realdonaldtrump\" + 0.009*\"via\" + 0.008*\"im\" + 0.007*\"#americafirst\" + 0.007*\"watch\"\n",
      "Topic: 1 \n",
      "Words: 0.040*\"#trump\" + 0.028*\"#maga\" + 0.022*\"#kag\" + 0.012*\"@realdonaldtrump\" + 0.009*\"#buildthewall\" + 0.008*\"amp\" + 0.008*\"#trumptrain\" + 0.007*\"get\" + 0.007*\"#draintheswamp\" + 0.007*\"president\"\n",
      "Topic: 2 \n",
      "Words: 0.034*\"#trump\" + 0.023*\"de\" + 0.012*\"trump\" + 0.010*\"que\" + 0.009*\"#news\" + 0.009*\"la\" + 0.008*\"#maga\" + 0.007*\"think\" + 0.007*\"#gop\" + 0.006*\"one\"\n",
      "Topic: 3 \n",
      "Words: 0.017*\"#maga\" + 0.015*\"#trump\" + 0.014*\"@realdonaldtrump\" + 0.012*\"#wwg1wga\" + 0.010*\"#walkaway\" + 0.010*\"la\" + 0.009*\"#qanon\" + 0.009*\"#kag\" + 0.008*\"@potus\" + 0.008*\"job\"\n",
      "Topic: 4 \n",
      "Words: 0.027*\"#maga\" + 0.022*\"@realdonaldtrump\" + 0.017*\"#trumptrain\" + 0.011*\"#trump\" + 0.010*\"@foxnews\" + 0.010*\"trump\" + 0.009*\"amp\" + 0.008*\"get\" + 0.008*\"de\" + 0.007*\"#redwave\"\n",
      "Topic: 5 \n",
      "Words: 0.046*\"#trump\" + 0.012*\"#gop\" + 0.009*\"want\" + 0.009*\"#maga\" + 0.008*\"trump\" + 0.007*\"go\" + 0.007*\"amp\" + 0.006*\"president\" + 0.006*\"state\" + 0.005*\"get\"\n",
      "Topic: 6 \n",
      "Words: 0.024*\"@realdonaldtrump\" + 0.023*\"follow\" + 0.015*\"thanks\" + 0.015*\"#maga\" + 0.011*\"#trump\" + 0.009*\"patriot\" + 0.008*\"#gop\" + 0.008*\"late\" + 0.008*\"trump\" + 0.008*\"back\"\n",
      "Topic: 7 \n",
      "Words: 0.085*\"#maga\" + 0.035*\"#qanon\" + 0.017*\"#greatawakening\" + 0.017*\"@realdonaldtrump\" + 0.015*\"love\" + 0.012*\"@potus\" + 0.011*\"#wwg1wga\" + 0.010*\"#trump\" + 0.009*\"thank\" + 0.008*\"#wethepeople\"\n",
      "Topic: 8 \n",
      "Words: 0.016*\"#votered\" + 0.012*\"amp\" + 0.012*\"#trump\" + 0.010*\"@potus\" + 0.010*\"vote\" + 0.009*\"#maga\" + 0.008*\"like\" + 0.008*\"@realdonaldtrump\" + 0.007*\"god\" + 0.007*\"trump\"\n",
      "Topic: 9 \n",
      "Words: 0.014*\"#trump\" + 0.014*\"#maga\" + 0.009*\"time\" + 0.008*\"#kag\" + 0.007*\"president\" + 0.007*\"#trump2020\" + 0.007*\"say\" + 0.006*\"#walkaway\" + 0.006*\"trump\" + 0.006*\"amp\"\n"
     ]
    }
   ],
   "source": [
    "for idx, topic in rep_lda_model_tfidf.print_topics(-1):\n",
    "    print('Topic: {} \\nWords: {}'.format(idx, topic))"
   ]
  },
  {
   "cell_type": "markdown",
   "metadata": {
    "collapsed": true
   },
   "source": [
    "# House"
   ]
  },
  {
   "cell_type": "code",
   "execution_count": 20,
   "metadata": {
    "collapsed": true
   },
   "outputs": [],
   "source": [
    "house_tweets = pd.DataFrame(db.read(data_query.format(\"house\")))\n",
    "house_docs = [ast.literal_eval(doc) for doc in  house_tweets[0].tolist()]\n",
    "house_dict = corpora.Dictionary(house_docs)"
   ]
  },
  {
   "cell_type": "code",
   "execution_count": 21,
   "metadata": {
    "collapsed": true
   },
   "outputs": [],
   "source": [
    "house_dict.filter_extremes(no_below=15, no_above=1, keep_n=10000)\n",
    "house_bow_corpus = [house_dict.doc2bow(doc) for doc in house_docs]"
   ]
  },
  {
   "cell_type": "markdown",
   "metadata": {},
   "source": [
    "### Top Word Counts"
   ]
  },
  {
   "cell_type": "code",
   "execution_count": 22,
   "metadata": {},
   "outputs": [
    {
     "name": "stdout",
     "output_type": "stream",
     "text": [
      "@senategop, 1243 times\n",
      "win, 874 times\n",
      "@jimjordan, 822 times\n",
      "line, 821 times\n",
      "session, 802 times\n",
      "@donaldjtrumpjr, 796 times\n",
      "@realdonaldtrump, 754 times\n",
      "#trump, 748 times\n",
      "many, 744 times\n",
      "mean, 671 times\n",
      "#trumpcrimefamily, 670 times\n",
      "let, 646 times\n",
      "problem, 599 times\n",
      "new, 585 times\n",
      "social, 567 times\n",
      "#winblue, 549 times\n",
      "create, 539 times\n",
      "con, 532 times\n",
      "#impeachtrump, 528 times\n",
      "old, 513 times\n",
      "wrong, 499 times\n",
      "@sensanders, 475 times\n",
      "resignation, 474 times\n",
      "job, 464 times\n",
      "tonight, 436 times\n",
      "dont, 433 times\n",
      "#theresistance, 430 times\n",
      "thing, 425 times\n",
      "july, 424 times\n",
      "bring, 422 times\n",
      "#women, 416 times\n",
      "reach, 401 times\n",
      "complicit, 394 times\n",
      "trump, 394 times\n",
      "volunteer, 382 times\n",
      "@gop, 378 times\n",
      "hope, 377 times\n",
      "guess, 375 times\n",
      "#liarinchief, 366 times\n",
      "#democrats, 359 times\n",
      "chance, 344 times\n",
      "trust, 335 times\n",
      "follow, 332 times\n",
      "give, 332 times\n",
      "even, 330 times\n",
      "@repadamschiff, 324 times\n",
      "#p2, 318 times\n",
      "reply, 310 times\n",
      "really, 310 times\n",
      "thank, 306 times\n"
     ]
    }
   ],
   "source": [
    "house_counts = get_word_counts(house_bow_corpus)\n",
    "print_word_counts(house_counts, 50)"
   ]
  },
  {
   "cell_type": "markdown",
   "metadata": {},
   "source": [
    "### Train Models"
   ]
  },
  {
   "cell_type": "code",
   "execution_count": 23,
   "metadata": {
    "collapsed": true
   },
   "outputs": [],
   "source": [
    "house_tfidf = models.TfidfModel(house_bow_corpus)\n",
    "house_corpus_tfidf = house_tfidf[house_bow_corpus]"
   ]
  },
  {
   "cell_type": "code",
   "execution_count": 24,
   "metadata": {},
   "outputs": [],
   "source": [
    "house_lda_model = models.LdaMulticore(house_bow_corpus, num_topics=10, id2word=house_dict, passes=2, workers=2)\n",
    "house_lda_model_tfidf = models.LdaMulticore(house_corpus_tfidf, num_topics=10, id2word=house_dict, passes=2, workers=4)"
   ]
  },
  {
   "cell_type": "markdown",
   "metadata": {},
   "source": [
    "### Print Categories"
   ]
  },
  {
   "cell_type": "code",
   "execution_count": 25,
   "metadata": {},
   "outputs": [
    {
     "name": "stdout",
     "output_type": "stream",
     "text": [
      "Topic: 0 \n",
      "Words: 0.021*\"amp\" + 0.014*\"work\" + 0.013*\"today\" + 0.009*\"good\" + 0.009*\"make\" + 0.008*\"time\" + 0.008*\"one\" + 0.008*\"great\" + 0.008*\"tax\" + 0.007*\"call\"\n",
      "Topic: 1 \n",
      "Words: 0.022*\"amp\" + 0.020*\"people\" + 0.013*\"need\" + 0.011*\"go\" + 0.011*\"im\" + 0.011*\"family\" + 0.008*\"work\" + 0.008*\"campaign\" + 0.008*\"must\" + 0.008*\"continue\"\n",
      "Topic: 2 \n",
      "Words: 0.019*\"need\" + 0.014*\"get\" + 0.011*\"time\" + 0.011*\"day\" + 0.011*\"election\" + 0.009*\"today\" + 0.009*\"trump\" + 0.008*\"thank\" + 0.008*\"make\" + 0.008*\"work\"\n",
      "Topic: 3 \n",
      "Words: 0.034*\"thank\" + 0.020*\"vote\" + 0.011*\"help\" + 0.010*\"today\" + 0.010*\"get\" + 0.009*\"day\" + 0.009*\"support\" + 0.008*\"take\" + 0.008*\"go\" + 0.008*\"time\"\n",
      "Topic: 4 \n",
      "Words: 0.021*\"great\" + 0.017*\"work\" + 0.010*\"thanks\" + 0.010*\"get\" + 0.009*\"right\" + 0.009*\"support\" + 0.008*\"american\" + 0.007*\"president\" + 0.007*\"amp\" + 0.007*\"woman\"\n",
      "Topic: 5 \n",
      "Words: 0.013*\"happy\" + 0.010*\"day\" + 0.008*\"make\" + 0.008*\"vote\" + 0.008*\"get\" + 0.007*\"district\" + 0.007*\"today\" + 0.007*\"president\" + 0.007*\"thank\" + 0.007*\"amp\"\n",
      "Topic: 6 \n",
      "Words: 0.015*\"support\" + 0.012*\"amp\" + 0.011*\"join\" + 0.010*\"people\" + 0.009*\"thank\" + 0.008*\"make\" + 0.008*\"act\" + 0.007*\"american\" + 0.007*\"change\" + 0.007*\"fight\"\n",
      "Topic: 7 \n",
      "Words: 0.010*\"vote\" + 0.010*\"year\" + 0.009*\"today\" + 0.009*\"im\" + 0.008*\"amp\" + 0.007*\"congress\" + 0.007*\"gun\" + 0.007*\"keep\" + 0.006*\"health\" + 0.006*\"law\"\n",
      "Topic: 8 \n",
      "Words: 0.012*\"make\" + 0.011*\"know\" + 0.011*\"dont\" + 0.010*\"like\" + 0.010*\"get\" + 0.009*\"congress\" + 0.008*\"would\" + 0.008*\"want\" + 0.008*\"work\" + 0.008*\"fight\"\n",
      "Topic: 9 \n",
      "Words: 0.019*\"amp\" + 0.012*\"one\" + 0.011*\"vote\" + 0.011*\"right\" + 0.010*\"trump\" + 0.009*\"need\" + 0.008*\"life\" + 0.007*\"community\" + 0.007*\"make\" + 0.007*\"election\"\n"
     ]
    }
   ],
   "source": [
    "for idx, topic in house_lda_model.print_topics(-1):\n",
    "    print('Topic: {} \\nWords: {}'.format(idx, topic))"
   ]
  },
  {
   "cell_type": "code",
   "execution_count": 26,
   "metadata": {},
   "outputs": [
    {
     "name": "stdout",
     "output_type": "stream",
     "text": [
      "Topic: 0 \n",
      "Words: 0.014*\"thank\" + 0.006*\"year\" + 0.005*\"great\" + 0.005*\"love\" + 0.005*\"proud\" + 0.005*\"morning\" + 0.005*\"community\" + 0.005*\"go\" + 0.004*\"today\" + 0.004*\"say\"\n",
      "Topic: 1 \n",
      "Words: 0.008*\"get\" + 0.007*\"make\" + 0.007*\"vote\" + 0.006*\"sure\" + 0.006*\"happy\" + 0.005*\"new\" + 0.005*\"right\" + 0.005*\"go\" + 0.005*\"thank\" + 0.004*\"great\"\n",
      "Topic: 2 \n",
      "Words: 0.016*\"thanks\" + 0.007*\"get\" + 0.006*\"need\" + 0.006*\"amp\" + 0.005*\"president\" + 0.005*\"help\" + 0.005*\"great\" + 0.005*\"family\" + 0.005*\"never\" + 0.004*\"state\"\n",
      "Topic: 3 \n",
      "Words: 0.009*\"thank\" + 0.006*\"get\" + 0.006*\"support\" + 0.006*\"people\" + 0.006*\"like\" + 0.006*\"let\" + 0.005*\"much\" + 0.005*\"join\" + 0.005*\"work\" + 0.005*\"woman\"\n",
      "Topic: 4 \n",
      "Words: 0.007*\"@realdonaldtrump\" + 0.007*\"year\" + 0.006*\"right\" + 0.006*\"im\" + 0.005*\"make\" + 0.005*\"amp\" + 0.005*\"vote\" + 0.005*\"read\" + 0.005*\"last\" + 0.004*\"congress\"\n",
      "Topic: 5 \n",
      "Words: 0.034*\"thank\" + 0.008*\"today\" + 0.008*\"support\" + 0.007*\"good\" + 0.007*\"vote\" + 0.006*\"family\" + 0.006*\"work\" + 0.005*\"amp\" + 0.005*\"day\" + 0.005*\"american\"\n",
      "Topic: 6 \n",
      "Words: 0.010*\"vote\" + 0.007*\"go\" + 0.006*\"amp\" + 0.006*\"see\" + 0.005*\"get\" + 0.005*\"like\" + 0.005*\"student\" + 0.004*\"make\" + 0.004*\"work\" + 0.004*\"great\"\n",
      "Topic: 7 \n",
      "Words: 0.007*\"yes\" + 0.006*\"amp\" + 0.005*\"want\" + 0.005*\"like\" + 0.005*\"im\" + 0.005*\"one\" + 0.004*\"thank\" + 0.004*\"great\" + 0.004*\"american\" + 0.004*\"year\"\n",
      "Topic: 8 \n",
      "Words: 0.006*\"great\" + 0.006*\"county\" + 0.006*\"day\" + 0.005*\"support\" + 0.005*\"time\" + 0.005*\"need\" + 0.005*\"work\" + 0.005*\"amp\" + 0.005*\"take\" + 0.005*\"congress\"\n",
      "Topic: 9 \n",
      "Words: 0.007*\"people\" + 0.007*\"go\" + 0.006*\"help\" + 0.006*\"today\" + 0.006*\"amp\" + 0.006*\"work\" + 0.005*\"dont\" + 0.005*\"thanks\" + 0.005*\"need\" + 0.004*\"im\"\n"
     ]
    }
   ],
   "source": [
    "for idx, topic in house_lda_model_tfidf.print_topics(-1):\n",
    "    print('Topic: {} \\nWords: {}'.format(idx, topic))"
   ]
  },
  {
   "cell_type": "code",
   "execution_count": null,
   "metadata": {
    "collapsed": true
   },
   "outputs": [],
   "source": []
  }
 ],
 "metadata": {
  "kernelspec": {
   "display_name": "Python 3",
   "language": "python",
   "name": "python3"
  },
  "language_info": {
   "codemirror_mode": {
    "name": "ipython",
    "version": 3
   },
   "file_extension": ".py",
   "mimetype": "text/x-python",
   "name": "python",
   "nbconvert_exporter": "python",
   "pygments_lexer": "ipython3",
   "version": "3.6.3"
  }
 },
 "nbformat": 4,
 "nbformat_minor": 2
}
