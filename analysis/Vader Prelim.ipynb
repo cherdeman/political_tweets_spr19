{
 "cells": [
  {
   "cell_type": "markdown",
   "metadata": {},
   "source": [
    "# Vader"
   ]
  },
  {
   "cell_type": "code",
   "execution_count": 1,
   "metadata": {
    "collapsed": true
   },
   "outputs": [],
   "source": [
    "# Uncomment and run this cell if the relative imports are not working\n",
    "import sys\n",
    "sys.path.append('..')"
   ]
  },
  {
   "cell_type": "code",
   "execution_count": 2,
   "metadata": {
    "collapsed": true
   },
   "outputs": [],
   "source": [
    "%matplotlib inline\n",
    "\n",
    "from utils.db_client import DBClient\n",
    "from utils.vader import VADER_Analyzer\n",
    "import pandas as pd\n",
    "import numpy as np\n",
    "import seaborn as sns\n",
    "import matplotlib.pyplot as plt"
   ]
  },
  {
   "cell_type": "code",
   "execution_count": 3,
   "metadata": {
    "collapsed": true
   },
   "outputs": [],
   "source": [
    "topics = ['civil_rights', 'courts', 'criminal_justice', 'drugs', \n",
    "          'econ_inequality', 'econ_jobs', 'education', 'environment', \n",
    "          'foreign_policy', 'governance', 'guns', 'health', 'immigration', \n",
    "          'puerto_rico', 'rural', 'russia', 'shutdown', 'social_security', \n",
    "          'taxes', 'technology', 'women_rights']\n"
   ]
  },
  {
   "cell_type": "code",
   "execution_count": 4,
   "metadata": {
    "collapsed": true
   },
   "outputs": [],
   "source": [
    "def run_vader(topic):\n",
    "    v = VADER_Analyzer(topic)\n",
    "    v.get_data()\n",
    "    v.run_vader()\n",
    "    v.outcome_by_group()\n",
    "    v.results_for_plotting()\n",
    "    v.plot()\n",
    "    return v"
   ]
  },
  {
   "cell_type": "code",
   "execution_count": 5,
   "metadata": {
    "collapsed": true
   },
   "outputs": [],
   "source": [
    "def print_samples(vader_analyzer, group):\n",
    "    for index, value in vader_analyzer.df[vader_analyzer.df.group == group].sample(10)[\"tweet_text_raw\"].iteritems():\n",
    "        print(f\"{index}: \", value)"
   ]
  },
  {
   "cell_type": "code",
   "execution_count": 6,
   "metadata": {
    "collapsed": true
   },
   "outputs": [],
   "source": [
    "def print_samples_all_groups(vader_analyzer):\n",
    "    groups = ['dem-base', 'rep-base', 'dem-lead', 'rep-lead']\n",
    "    for group in groups:\n",
    "        print(group)\n",
    "        print(\"\")\n",
    "        print_samples(vader_analyzer, group)\n",
    "        print(\"\")"
   ]
  },
  {
   "cell_type": "markdown",
   "metadata": {},
   "source": [
    "## Vader by Topic"
   ]
  },
  {
   "cell_type": "markdown",
   "metadata": {},
   "source": [
    "### Civil Rights"
   ]
  },
  {
   "cell_type": "code",
   "execution_count": 7,
   "metadata": {},
   "outputs": [
    {
     "name": "stdout",
     "output_type": "stream",
     "text": [
      "I'm trying\n",
      "Connected to political tweets DB\n"
     ]
    },
    {
     "data": {
      "image/png": "[encoded data removed]",
      "text/plain": [
       "<Figure size 432x288 with 1 Axes>"
      ]
     },
     "metadata": {
      "needs_background": "light"
     },
     "output_type": "display_data"
    }
   ],
   "source": [
    "cr = run_vader(\"civil_rights\")"
   ]
  },
  {
   "cell_type": "code",
   "execution_count": 8,
   "metadata": {},
   "outputs": [
    {
     "name": "stdout",
     "output_type": "stream",
     "text": [
      "dem-base\n",
      "\n",
      "4148:  Add your name: Democrats can and must subpoena and release Trump's tax returns https://t.co/dxq1KdyuEL via @CREDOMobile #resist https://t.co/dxq1KdyuEL via @CREDOMobile #resist\n",
      "4055:  @0bamamarxist @MylandBurke @cspanwj Nothing free about #Democracy \n",
      "You have to pay your taxes and not be a sleazy tax cheat. \n",
      "\n",
      "Like someone you know....\n",
      "\n",
      "@NewDay #VoteBlue  #CNN  @cspanwj #humor #satire @SenateDems @SenateGOP \n",
      "@HouseGOP\n",
      "4701:  #Resist #VetsResistSquadron #TheResistance #WeThePeople ICE did not pay the 🇺🇸Tax Payer PAID ! https://t.co/VT5dwUatze\n",
      "2104:  Sign the petition: Stop 'Round 2' of the failed Trump Tax Scam https://t.co/yw0xIHrEhY via @CREDOMobile #resist\n",
      "12348:  Even a better tax cut then we’re receiving now, following Trump’s tax reform? https://t.co/Fc6vYROGXM\n",
      "3588:  The #Democrats have promised to abolish the 1st, 2nd, 4th, 5th and 6th Amendments, the Senate, Electoral College, Supreme Court, our borders, ICE, Tax Cuts, Due Process.\n",
      "\n",
      "Trump: End #BirthrightCitizenship \n",
      "\n",
      "#Democrats: Whoa, whoa, whoa!\n",
      "296:  #NVPrimary. Remember to #VoteRed2018 in #November and Boot Out #Liberals #Dems who will Raise Taxes &amp; Kill #Jobs \n",
      "\n",
      "We Want a #SuperMajority in #Senate to kill #Democrats #Obstructionism \n",
      "\n",
      "#MAGA #Trump #TrumpKimSummit #AmericaFirst #NVPrimary #DemExit #2018\n",
      "1834:  Once elected State Representative, I will fight to:\n",
      "\n",
      "✔️Expand affordable healthcare coverage that covers pre-existing conditions\n",
      "✔️Protect workers rights to unionize\n",
      "✔️Implement real property tax reform\n",
      "\n",
      "RT if you’re with me! #Election2018 #Democrats #FlipThe138th\n",
      "3112:  #DrainTheSwamp #VoteRed #Democrats RAISE taxes, #Republicans CUT taxes.  #Republicans want YOU to KEEP more of YOUR money; #Democrats want to  TAKE more of YOUR money. #Say_NO_TO_MARXIST_SOCIALIST_DEMOCRATS, #Texas, #VoteCruz_For_The_American_Way_Of_Life 🇺🇸 #VOTE #NOVEMBER2018\n",
      "4724:  After instituting a $1.5 trillion tax cut Senate Majority Leader Mitch McConnell said Tuesday that the only way to lower the record-high federal deficit would be to cut programs like Medicare, Medicaid and Social Security.\n",
      "#VoteBlue \n",
      "#VoteThemOut\n",
      "\n",
      "rep-base\n",
      "\n",
      "12755:  #GOP senator says it’s hard to fund $14 billion children’s health care program — then advocates for $1 trillion tax cut https://t.co/VFPKXj3Zap via @voxdotcom\n",
      "#Republican\n",
      "12061:  Democrats are losing their followers. The constant parade of hate and lies is wearing out their constituents. The Trump tax cut \"crumbs\" are pretty nice as is law and order. Good luck Chuck and Nancy. People are tired of your corruption,&amp; incompetence. https://t.co/24AE934jby\n",
      "441:  @JCMarcy31 @charliekirk11 J.C. Fail!  President Trump was creating jobs before he was even elected. Americans clearly see the cause and effect of the ptreident’s policies, regardless of your prattle.  \n",
      "Especially obvious is the response to tax cuts and deregulation.\n",
      "#MAGA.   #TrimpTrain\n",
      "1459:  Come WITH us! Vote Red in midterms.  Let's #MAGA  together!\n",
      "Democrats want to open border, take away tax cuts, put the govt in contr of everything you do, and don't think you've got sense enough to get an ID. Show them they are wrong!\n",
      "4465:  @TheRReport @realDonadlTrump PRIVATE CITIZEN Take awayb #PUSSYGRABBER 2yrs turning @WHITEHOUSE @potus into #putin  #mbs #CESSPOOL  get MONEY IN CASH UP FRONT  #116thcongress PROTECT #Mueller #ACA BARGAIN PART D prices MUCH MORE #CLIMATECHANGE WAGES TAX reform THEN BUY NEW improve #COFFINNAILS #trump #COHORTS\n",
      "11317:  If this is Armageddon, I say bring it on!\n",
      "\n",
      "#Gutfeld #TaxCuts #Trump @CoryBooker #CNNisFakeNews #TaxReform #TaxCutsandJobsAct \n",
      "#FoxNews #AmericaFirst \n",
      "\n",
      "Trump's tax bill is besieging workers — with cash https://t.co/MWDuut4qnL #nypost\n",
      "11866:  Tax cut will widen the #racialwagegap  https://t.co/es6OtoUlwK #Getwoke #Politics #Trump #Repubs\n",
      "1616:  The federal budget deficit has grown 16 percent this fiscal year, the result of a combination of Trump-supported tax cuts and military spending. The national debt has increased nearly $1.6 trillion over the past year, to $21.4 trillion. #MAGA\n",
      "12305:  *** The same people who want to ban guns always want to raise your taxes! They can never take away enough guns to be satisfied, not are they ever satisfied that enough taxes have been paid! @ElderLansing  @larryelder @ScottPresler @ScottPresler @PamelaGeller @AmyMek @LouDobbs https://t.co/HEKpcZVTQj\n",
      "99:  @FoxBusiness Tariff = Tax   Import Tariffs are taxes paid by the citizens of the country imposing the tax. #MAGA  Trump is raising your taxes\n",
      "\n",
      "dem-lead\n",
      "\n",
      "10266:  How skewed is the #GOPTaxScam? For every $100 in tax cuts, less than $1 goes to the bottom 95% of Americans. This isn’t tax reform — it’s highway robbery! https://t.co/g8DWu15CGy\n",
      "8963:  While @realDonaldTrump tries to distract on twitter, Senate Republicans are hoping to pass a bill that raises taxes on 82 million Americans. Stay focused. https://t.co/EHYtfDjfau\n",
      "9580:  Important read: Nonpartisan experts conclude that the Republican tax bill will increase the deficit. Instead of changing the bill, Republicans have attacked those nonpartisan experts. Terrible. https://t.co/ukvo61NZ7D #GOPTaxPlan\n",
      "11139:  Packed house in our Senate Transportation committee for @ssurovell's SB621 to allow Virginia to issue driver privilege cards to immigrants who live in and pay taxes in Virginia. Collisions and hit &amp; runs decreased in states that adopted this legislation. I'm supporting the bill. https://t.co/bIIdVsf6W1\n",
      "1145:  @HughMungusBear I don't know of a single Democrat proposing open borders. \n",
      "\n",
      "Trump is lying - again. \n",
      "\n",
      "Like he lied about: \n",
      "Tax returns\n",
      "Trump tower meeting\n",
      "Repealing tax loopholes\n",
      "Raising taxes on the rich\n",
      "Collusion\n",
      "Crowd size\n",
      "#Infrastructure\n",
      "Pulling out of #Afghanistan\n",
      "Lowering drug prices...\n",
      "6141:  The Republican \"health care\" plan is a disgrace. It has nothing to do with health care. It's a $275 billion tax break for the top 2%.\n",
      "6384:  This isn’t a tax reform proposal, this a wish list that favors the wealthiest 1 % and squeezes the middle class. https://t.co/u1cWlzxBxx\n",
      "11656:  The #GOPTaxScam is an environmental disaster, too. Big Oil companies are getting huge tax cuts, and the Arctic National Wildlife Refuge is getting opened up for drilling.\n",
      "https://t.co/eL6ICWBdA3\n",
      "1487:  Americans have a right to know if their President is a crook. Seeing Trump’s tax returns will help us determine if he is one. #CongressMustRequest https://t.co/35Gr1zmsFZ\n",
      "8116:  Who are the Americans paying more under @HouseGOP’s tax bill? Middle-class families, teachers, Americans paying off student loans, small businesses &amp; homeowners. https://t.co/GmdBxUQXSn\n",
      "\n",
      "rep-lead\n",
      "\n",
      "8345:  ICYMI: @taxreformer on #taxreform bill → \"The evidence is clear – this legislation cuts taxes on Americans of all income levels rather than picking winners and losers as many tax plans have done in the past.\" https://t.co/EmPnUmraKs\n",
      "944:  Deregulation and tax cuts are working to grow the economy. From April to June, our economy grew at a rate of 4.1% - the quickest in four years! We need to maintain our Republican majority in November to keep up this momentum. https://t.co/Eqp6ED0JOB https://t.co/ideDXJBKAx\n",
      "3977:  We cut taxes to put American businesses on a level playing field with the rest of the world. I know that nobody can compete with American resilience and ingenuity, and I’ll continue working to help our businesses thrive. I’m honored to be endorsed by small business. #NE02 https://t.co/LvXvpilPZ5\n",
      "1922:  Great story and one I hear echoed in #TX08 every time I talk to a #smallbiz owner. #TaxReform works! Looking forward to marking up Tax Reform 2.0 today in committee. Thank you for your leadership @realDonaldTrump https://t.co/6MiQvOYycX\n",
      "5885:  My bill helps #smallbiz lower their taxes: IL Named 1 of Worst States to Live in for Taxes https://t.co/ihStW6x6ur https://t.co/qLpUcQKwwy\n",
      "5928:  @dougreynolds16 this is laughable. @MorriseyWV lives in WV, pays taxes in WV - has never been a resident of VA. #DesperateDoug #LyingLiberal\n",
      "10155:  GOP Tax Reform Plan will put more Americans back 2 work, lessen govt spending, create more taxpayers, increasing revenues from new taxpayers\n",
      "445:  When West Virginia and President Trump needed Joe Manchin's support for tax cuts, Joe voted NO. Joe Manchin sided with Chuck Schumer and Nancy Pelosi when West Virginia needed him most. #WVsen #JoeVotedNO\n",
      "6573:  #TrumpCuts take aim at working families &amp; women, gutting basic living programs to give tax break to rich &amp; Wall Street\n",
      "2515:  Unemployment for Hispanic Americans has hit its lowest level since tracking began in 1973.  This in spite of @SenWarren’s vote against tax cuts and pledge to raise taxes 50-90%.  On November 6, vote your wallet.  Vote Geoff Diehl for U.S. Senate.  #mapoli #masen #masen2018 #magop\n",
      "\n"
     ]
    }
   ],
   "source": [
    "print_samples_all_groups(cr)"
   ]
  },
  {
   "cell_type": "markdown",
   "metadata": {},
   "source": [
    "### Courts"
   ]
  },
  {
   "cell_type": "code",
   "execution_count": 9,
   "metadata": {},
   "outputs": [
    {
     "name": "stdout",
     "output_type": "stream",
     "text": [
      "I'm trying\n",
      "Connected to political tweets DB\n"
     ]
    },
    {
     "data": {
      "image/png": "[encoded data removed]",
      "text/plain": [
       "<Figure size 432x288 with 1 Axes>"
      ]
     },
     "metadata": {
      "needs_background": "light"
     },
     "output_type": "display_data"
    }
   ],
   "source": [
    "courts = run_vader(\"courts\")"
   ]
  },
  {
   "cell_type": "code",
   "execution_count": 10,
   "metadata": {},
   "outputs": [
    {
     "name": "stdout",
     "output_type": "stream",
     "text": [
      "dem-base\n",
      "\n",
      "2147:  @sum_peace @Beverly86418528 @ElderLansing #Democrats #Liberals #Resist #NeverTrump #Resistance\n",
      "\n",
      "𝙏𝙝𝙞𝙨 𝙞𝙨 𝙬𝙝𝙤 𝙮𝙤𝙪 𝙖𝙧𝙚...\n",
      "𝙏𝙝𝙞𝙨 𝙞𝙨 𝙬𝙝𝙖𝙩 𝙮𝙤𝙪 𝙥𝙧𝙤𝙢𝙤𝙩𝙚...\n",
      "OPEN BORDERS: 13-year-old Girl Raped By a Dozen illegals as They Film it and Cheer in Austin, TX \n",
      "#DemExit #WalkAway\n",
      "https://t.co/9sldknmpAE\n",
      "5871:  Where was the manufactured outrage when Obama's Border Patrol did the same thing? #Democrats and the #FakeNewsMedia are being partisan #hypocrites, as usual.  #MediaBias\n",
      "Flashback: Obama Administration’s Border Patrol Shot Pepper Balls At Migrants In 2013 https://t.co/2lOG8oKofr\n",
      "5916:  @RealDonaldTrump Fights to Protect the American Workers While #Democrats Protect Illegal Aliens Taking #Jobs From Americans Pass Mandatory E-Verfy Now! \n",
      "#WalkAway #BLEXIT #ImmigrationReform #RedNationRising #Trump #MAGA #RedNationRising https://t.co/tBKVBOm9C7 via @100percFEDUP\n",
      "6799:  I can only assume Trump's next step once #TrumpShutdown begins will be to insist that \"a wall\" be built around every Internet-connected device—so as to attack Dems for \"not taking #cybersecurity seriously.\"\n",
      "(Would be about as effective as a border wall.)\n",
      "#TrumpResign\n",
      "#p2 #Resist\n",
      "12216:  yes, we must speak out about illegal aliens being criminals,\n",
      "and thus #Democrats protecting criminals https://t.co/UYwUPy05EP\n",
      "2075:  @bbfreak2008 @ABC Rights Conservatives will take away from us #resist\n",
      "--Free speech i.e. Berkeley\n",
      "--Religious freedom\n",
      "--2nd amendment\n",
      "--Tax cuts\n",
      "--Make us join unions\n",
      "--Make us buy health insurance\n",
      "--Mandate wages businesses \n",
      "must pay\n",
      "-forcing  taxpayers to pay for illegal alien benefits \n",
      "#sarcasm\n",
      "2372:  What kind of monster separates children from their parents to strong arm them to not seek asylum without any plan on how to return those children to their parents? Oh that’s right, the United States currently has that monster sitting in the White House. #BlueWave2018 #No2Fascism\n",
      "5054:  Oh,  but they HAVE been working for illegal aliens look how California funds have been diverted https://t.co/h5RmagHAEE\n",
      "7328:  @apollotsg @KatieHill4CA The Democrats especially #socialist #Democrats like @KatieHill4CA don’t want border security they want actually want open borders and when you ask that to socialist especially clueless @KatieHill4CA they have no answer , the question did you get an answer from her yet? 🤔\n",
      "5321:  @GOPChairwoman @FaceTheNation   the Republicans, including Sheriff Arapaio let the illegal immigrant Luis Bracamontes in. I can’t believe the RNC chair approved up that message #BlueWave2018 !!\n",
      "\n",
      "rep-base\n",
      "\n",
      "11353:  #Trump Suggests US #Military Pay for Border Wall Since Its Now 'Rich' #Breaking #News https://t.co/kP9dpfR1sd via @dahboo7\n",
      "7566:  @maga_model If #Trump can shut down the southern border without a wall, why the fuck does he need a wall to shut down the southern border?\n",
      "\n",
      "#MAGA\n",
      "https://t.co/KlCoIQzM8M\n",
      "3712:  Illegal immigrants bring more than crime with them! Measles cases hit record high in Europe - BBC News https://t.co/uecqYzWzrn\n",
      "#BuildTheWall #IllegalImmigration #MAGA #KAG #WalkAway\n",
      "5595:  I’m #MAGA through and through, but exactly this. @POTUS promised to drain the swamp, but it’s only getting more full by the day. Release FISA. #stopthesteal. Build the wall. We’re actively *allowing* ourselves to be undone by the dems. https://t.co/M74OlyXaJW\n",
      "5417:  Put the emphasis on not having open borders Geraldo. We want a lot of immigrants, but only legal ones. https://t.co/uezXOjkkMX\n",
      "6678:  I have a couple of serious questions.  Why does Chuck Schumer want America to be invaded on the southern border?  Why would this inevitable invasion be something he's trying to induce?  Obviously Chuck Schumer is not an American but a globalist.  He's another Soros I guess. https://t.co/YvScag6PI3\n",
      "1480:  Children should be separated from human trafficking illegal aliens.  #DeportFamiliesTogether Asylum Shoppers have no case #NeverDACA #NeverAmnesty #MAGA @POTUS @VP @PressSec @MickMulvaneyOMB @KellyannePolls #AmericansHaveDreamsToo #BuildTheWall https://t.co/BvDlxIDzFB\n",
      "6964:  WHAT KIND OF PERSON HESITATES AT ALL TO VOTE TO BUILD A WALL TO PROTECT AMERICANS &amp; KEEP OUT CHILD TRAFFICKERS WHO SELL 3 YEAR OLDS TO BE TORTURED &amp; RAPED? #MitchMcConnell #DonaldJTrump #BuildTheWall #MAGA https://t.co/d6VlOGuIvV\n",
      "11922:  It sickens me to see all these illegal immigrants hanging around the US border just waiting to come into our country and ruin it! https://t.co/ETKrFCXi1f\n",
      "11941:  @jadapa I’m curious if you are aware that Cox didn’t even vote for Trumps agenda to #maga Cox has flip flopped on the border wall and isn’t even from #california he’s a IL transplant. #VoteTravisAllen #CAGOP #cagop2018\n",
      "\n",
      "dem-lead\n",
      "\n",
      "10912:  I’m relieved to see the Supreme Court stop Trump’s potential deportation of hundreds of thousands of Dreamers, at least for now.  Our fight continues and we cannot lose sight of the need for comprehensive immigration reform!https://t.co/OYfMpWoOen\n",
      "7832:  The #TimeIsNow for Congress to take action and pass commonsense immigration reform\n",
      "10542:  @CaptainsLog2O18 @1IronMan2018 @AynRandPaulRyan @StormResist @exoticgamora @AdamParkhomenko @DavidYankovich @DemWrite @LunaLuvgood2017 @1WarMachine2018 @1Jedi_Rey @SteveKingIA @ScarletAvengers @natasharesists @WomanResistorNC @EzraBridger2018 @Elastigirl2018 @JynErso_2017 @ezralevin @TrinityResists @KidCasteel @PinkRavenRoth @TheSWPrincess @JCTheResistance @mystcole @TuscaloosaDems @ybbkaren @meg_Y12 @morethanmySLE @porpentina2017 @mayflower_gal @DanaScottLO @StephH_AZ @SusanGlamMom @SDIndivisible @Doctor12Resists @DonnaNoble10th @OnlyRealFred @didikins4life @KudzuFrannie @funder @2HawkEye2018 @AgentHillResist @AgentCarter_SSR @JevinforAZ @OriginalJLP @CaptJaneway2017 @CMDR_Paylor @SnowBiAuthor We need to do all we can to protect DACA recipients and push for common sense comprehensive immigration reform. People shouldn’t be used as political bargaining chips. /1\n",
      "7961:  I'm running on my record as an activist, an advocate for tenants, an advocate for immigration reform &amp; with a vision of opportunity for all\n",
      "788:  There is no legitimate reason to separate families at the border. None. This needs to stop. I have called on the Trump administration to end this inhumane policy immediately! https://t.co/f6Q6lEBVpv\n",
      "498:  Dear @PressSec Sarah Sanders: Your statement below doesn't seem in line with the #BeBest initiative announced at a big press conference by @FLOTUS. \n",
      "\n",
      "Also, can you please cite the mysterious law that no one has seen that requires children to be separated from parents? https://t.co/e3EWVLUQvy\n",
      "8178:  My staff met with @RepMcCaul and others to discuss border security and funding on Jan. 25 in Mission, Texas. http://t.co/V8XLcvJDpV\n",
      "2857:  Grateful that these Border Patrol agents were able to save one person from drowning. Quickly and courageously jumping into the current shows that the hard work of our agents and law enforcement officers across the southern border is like no other.\n",
      "https://t.co/2C9gSQgDWk\n",
      "9130:  #HR3003 and #HR3004 gives sanctuary to discrimination and Trump’s xenophobic immigration policies.\n",
      "5786:  We must have humane immigration reform. Closing the southern border at one of the busiest land border crossings and sending our military is not the solution. #Congress must make #comprehensive #immigration reform a top priority. https://t.co/XBU9VGVKQx\n",
      "\n",
      "rep-lead\n",
      "\n",
      "2941:  The NY Post hits the nail on the head- Socialist healthcare is nothing more than a pipe dream. Legislation @ABrindisiNY voted for creates state-sponsored care for every person in New York, even illegal immigrants, while taxpayers foot the bill. Reckless. \n",
      "https://t.co/C2AAvWSVTF\n",
      "9006:  Local officials who ignore Federal Immigration law and push for sanctuary cities should be in jail. Retweet if you agree. @mitchellvii https://t.co/9VgkfzdiLA\n",
      "11818:  As your Senator, I’ll build the wall, ban sanctuary cities, and put an end to chain migration. #INSEN\n",
      "10336:  .@POTUS @realDonaldTrump is right. DACA fix without effective enforcement makes zero sense. Will kick the political can down the road allowing for opportunistic politicians to pit illegal immigrants against American citizens. We need solutions. https://t.co/G5O67unOi6\n",
      "8118:  Despite @andrewromanoff's attacks, Democratic Congressman Luis Gutierrez has praised me as a \"leader\" on immigration reform.\n",
      "\n",
      "#COpolitics\n",
      "2667:  Today, I met with the Luzerne County District Attorney Stefanie Salavantis. We spoke about the crime coming to our area out of sanctuary cities like Philadelphia, and the devastating opioid epidemic affecting our local communities. #PA8 https://t.co/YjrMqGuhUi\n",
      "5118:  With a caravan of thousands of people are coming toward our country, border security is more important than ever.  This topic was covered during the recent debate. You can hear my views. https://t.co/o0MwPX4yGD\n",
      "2752:  Martha is working to secure our border &amp; keep Arizona families safe. But there's more to do. &gt;&gt; https://t.co/dFFKTyaYEl #AZSen https://t.co/8vIv4JKflh\n",
      "3050:  I agree with President Trump, this is a disgrace. As liberals want to open our borders to illegal immigrants, I think we should focus more on cleaning up our streets and protecting our communities. https://t.co/kzMqQawvao\n",
      "7946:  Gov Brewer and I agree addressing border security is the critical first step in fixing problem of illegal immigration http://t.co/i4PZ5RYLi3\n",
      "\n"
     ]
    }
   ],
   "source": [
    "print_samples_all_groups(courts)"
   ]
  },
  {
   "cell_type": "markdown",
   "metadata": {},
   "source": [
    "### Criminal Justice"
   ]
  },
  {
   "cell_type": "code",
   "execution_count": 11,
   "metadata": {},
   "outputs": [
    {
     "name": "stdout",
     "output_type": "stream",
     "text": [
      "I'm trying\n",
      "Connected to political tweets DB\n"
     ]
    },
    {
     "data": {
      "image/png": "[encoded data removed]",
      "text/plain": [
       "<Figure size 432x288 with 1 Axes>"
      ]
     },
     "metadata": {
      "needs_background": "light"
     },
     "output_type": "display_data"
    }
   ],
   "source": [
    "cj = run_vader(\"criminal_justice\")"
   ]
  },
  {
   "cell_type": "code",
   "execution_count": 12,
   "metadata": {},
   "outputs": [
    {
     "name": "stdout",
     "output_type": "stream",
     "text": [
      "dem-base\n",
      "\n",
      "751:  The average Tennessean has over $25,000 in student loan debt. @PhilBredesen will simplify the application process and lower interest rates on loans, making college more accessible for all.  @Tennessean @6news @wsmv @wkrn @nc5 #TW #BLUEWAVE #FixItPhil https://t.co/xabHx3yMBL\n",
      "769:  @RichardCordray for governor. Please join me in supporting his candidacy. ✔ He is a person of great integrity! He supports public education. Endorsed by @OEA_oficial #ohiovotes #schoolsmatter #VoteBlue https://t.co/qd2tc06Cdf\n",
      "889:  California Teachers Unions Oppose Paying Teachers More Because It Would Introduce Too Much Competition Into Public Schools?\n",
      "\n",
      "https://t.co/5dZKyXeCXF #TeaParty #TCOT #MAGA #WinBlue #UniteBlue\n",
      "\n",
      "Despite the naysaying, every successful enterprise is, to some degree, competitive. https://t.co/fVy63mJQXm\n",
      "2567:  @buffaloon @esquire No more unbelievable Trump is still Pres, our head of EPA doesn't believe in the environment or head of education who doesn't believe in public school. Morals, ethics and the rule of law is gone and our govt is in shambles. \n",
      "#Resist\n",
      "368:  Student loan watchdog pens scathing rebuke of the Trump administration as he resigns in protest https://t.co/8YwwweDsni  #p2 #tcot #ImpeachTrump #VoteBlue #GOPCrimeWave #RESIST\n",
      "496:  Do you have student loans? Do your kids? If so, read up on your ballot choices - they will impact your student debt! Vote @RichCordray &amp; @SherrodBrown for effective oversight of student loans! #CordraySuttonforOhio For actual governance, #VoteDemocratic #BlueWave2018 https://t.co/c79SRZzETt\n",
      "2162:  Salcido, you are a worthless guy. You are a shame to the gay community. Many of these guys ( gays, I think you are part of this community) are proudly part of the armed forces. A great many has a higher education than you will ever have. Shame on you. https://t.co/h7mOUjxHon\n",
      "489:  If you like having public schools and libraries, if you believe in the work of the police and fire brigades, if you support the branches of the military, if you like having safe roads and airports, then you my friend are socialist. Just saying. #BlueWave #SocialGood #Progressives\n",
      "516:  A healthy, thriving public education system nationwide is essential to a healthy economy.  It will also ensure that we have a more equitable educational system. #FlynnBroadyForCongress #changethenarrative #BlueWave https://t.co/OqJmzTuqUz https://t.co/mFqDg03Lil\n",
      "2742:  Supplemental posting from Author &amp; Web Pastor Paul J. Bern; How to walk away from your student loans https://t.co/AEfIv6TSUw #resist #badlenders #revolt https://t.co/kQXp2brm0x\n",
      "\n",
      "rep-base\n",
      "\n",
      "2269:  @MayorLevine Hey Phil: When are you going to rally to bring God and the Ten Commandments back into public schools? Remember Thou Shalt Not Kill. #MAGA #StonemanDouglas #GunReformNow\n",
      "517:  No mention of CAIR, but considering their corrupt involvement in the public school system, it sounds like the teacher is working w/ them, if not the silent Superintendent. #MAGA #RedWave https://t.co/vE8BPw7Dz4\n",
      "2195:  #Trump #Devos &gt; new version of Scandalous #TrumpUniversity as #Vouchers ? for Public School Replacement &gt; #Colbert &gt; #Bondi https://t.co/KlOFsXegKc\n",
      "2149:  Florida lawmakers consider bill requiring public schools to display 'In God We Trust' #TCOT #MAGA https://t.co/dkp7dFFueY\n",
      "2586:  This needs to change folks!!  Look at how 'pig' boy turned out from our current public education system.  Parents..... PAY ATTENTION!  STAND UP FOR BALANCED, TRUTHFUL EDUCATION! #MAGA https://t.co/Pej1VH4ruA\n",
      "2244:  Waiting for #Trump to implement the #NationalGuard at all public schools\n",
      "\n",
      "I mean...they want to install fear in the public, so I'd expect it\n",
      "2297:  @realDonaldTrump @WhiteHouse If teachers choose to be armed in a school, please consider giving these teachers the following incentives:\n",
      "1) Student loan forgiveness\n",
      "2) Paid continuing education for their entire teaching career\n",
      "3) Yearly bonus \n",
      "4) Paid firearms training \n",
      "\n",
      "#MAGA\n",
      "2213:  Glad to hear my fellow brothers-in-arms are willing to stand-up against this BS. Fund the hungry in America - fund the 50 public schools that were shutdown in Chicago - not parades that stroke your ego.\n",
      "#Trump #TrumpParade #military #economy #america #usa\n",
      "\n",
      "https://t.co/TJAXweoE6h\n",
      "2468:  @RodStryker Teach #History \n",
      "American Public Schools\n",
      "Are No Longer\n",
      "AMERICAN 🇺🇸\n",
      "@realDonaldTrump \n",
      "@POTUS. @VP\n",
      "Teach American\n",
      "History.  Offer a Writting\n",
      "Grant on The American Crisis\n",
      "How to Change Hearts,\n",
      "Because Guns don't kill people,\n",
      "People kill people.\n",
      "#MAGA\n",
      "#EmpowerTheKids\n",
      "#GiveThemAVoice https://t.co/wCnDnlV4SJ\n",
      "928:  Cut all govt funding and fed student loans to all institutions that do not support and protect free speech https://t.co/otiuMXcgB8\n",
      "\n",
      "dem-lead\n",
      "\n",
      "2803:  America’s teachers are underpaid. Our schools are underfunded. And it all builds up to mean our children are too often denied the good, public education they need to succeed. They deserve #ABetterDeal. https://t.co/4o4XMUWGz2\n",
      "235:  As families begin to prepare to send kids back to school, we need to remember the challenges our public schools and teachers face every day. We can and must do more to strengthen our public education system and support our teachers. #TX32 Read more: https://t.co/y6ZX57FjGG https://t.co/tMb566vMvu\n",
      "2516:  O-K-L-A-H-O-M-A! YOU’RE NOT OK!\n",
      "\n",
      "Public education is a great egalitarian experiment. All children of all races, religions, socioeconomic backgrounds, and of varying abilities have access to a... https://t.co/YuZ3UgUR3U\n",
      "2584:  Improving access to technology in public education allows students and educators to experiment and innovate. But, an important side effect is that young women have equal access and encouragement to become tomorrow’s technologists, which we sorely need. https://t.co/JawodbAco7\n",
      "1856:  Currently, public education is a major concern for Americans and Oklahomans. I am a lifelong educator with 30... https://t.co/x9JYjmzXsu\n",
      "940:  10,000s of people in the streets of downtown LA for the March for Public Education. The love of public education—and our commitment to fight for its survival—is reflected in every step we take and every sign we... https://t.co/2pgApKhIqC\n",
      "1212:  Share your story – Rates on federal student loans set to double by Monday. How does this affect you &amp; loved ones? http://t.co/7gxRwrWGKo\n",
      "1356:  Student loan debt is preventing young people from a #fairshot. @SenateDems bill will help cut loan debt http://t.co/Gu0RoLFe5c\n",
      "2388:  After hearing from thousands of North Dakotans, this is why I voted NO on Betsy DeVos. It's disturbing for our Sec. of Education to know so little about public schools. I'll always stand up for North Dakota students, families &amp; work to strengthen our schools. https://t.co/1wqugEmHhy\n",
      "708:  We need to ensure our young people get the right start to achieve big things in CT. I’ve got a plan to make higher education more affordable and help students give back to their communities and the country! Read my plan here: https://t.co/qlG7R3Fd9b https://t.co/XwB6i2GDOw\n",
      "\n",
      "rep-lead\n",
      "\n",
      "1870:  We as a nation can afford to send our youth to institutions of higher  education without breaking their spirits, without mortgaging their  futures, and acting as financial predators upon their future happiness.\n",
      "1092:  \"Higher education is an economic necessity.\" -@arneduncan #DNC2012\n",
      "1201:  FACT: The House is the only body to have acted on student loans. http://t.co/w1O9Inh1NG #DontDoubleMyRate\n",
      "1442:  Growing number of student loan borrowers in financial trouble - highlights need for #BankOnStudents refinancing bill http://t.co/UsPJ4dtRjV\n",
      "1985:  “Our generation is saddled with tremendous amounts of student loan debt,” Brakey said. “So many of the millennials I know have student loans the size of a mortgage without an actual physical asset to show for it.” https://t.co/E9dAWcvE0y\n",
      "1377:  Toured #Springfield Public School's 2014 StarTalk Chinese Immersion Summer Camp w/ 90 students in grades 1-8 http://t.co/ztO2qE2Uxm\n",
      "115:  Training workers for 21st century jobs here in San Bernardino County begins with high-quality public schools. We need to help our teachers and schools provide a world-class education to each and every child!\n",
      "565:  The program represents our commitment to making sure the federally-connected children of our military service members &amp; Native families are provided with a quality public education without forcing local taxpayers to foot the bill.\n",
      "1505:  Lots of work to be done to ensure affordable higher education.  https://t.co/zIlq8hohfm\n",
      "1378:  Today, I spoke on the House floor in support of the Strengthening Transparency in Higher Education Act. VIDEO: https://t.co/P12bx9PibZ\n",
      "\n"
     ]
    }
   ],
   "source": [
    "print_samples_all_groups(cj)"
   ]
  },
  {
   "cell_type": "markdown",
   "metadata": {},
   "source": [
    "### Drugs"
   ]
  },
  {
   "cell_type": "code",
   "execution_count": 13,
   "metadata": {},
   "outputs": [
    {
     "name": "stdout",
     "output_type": "stream",
     "text": [
      "I'm trying\n",
      "Connected to political tweets DB\n"
     ]
    },
    {
     "data": {
      "image/png": "[encoded data removed]",
      "text/plain": [
       "<Figure size 432x288 with 1 Axes>"
      ]
     },
     "metadata": {
      "needs_background": "light"
     },
     "output_type": "display_data"
    }
   ],
   "source": [
    "drugs = run_vader(\"drugs\")"
   ]
  },
  {
   "cell_type": "code",
   "execution_count": 14,
   "metadata": {},
   "outputs": [
    {
     "name": "stdout",
     "output_type": "stream",
     "text": [
      "dem-base\n",
      "\n",
      "1447:  Republican administration doesn't get it. The longer they take to deal with hurricane damage in Puerto Rico, the more Puerto Rican people will relocate to the mainland where they will be able to vote in the next elections. #PuertoRico #maddow #TheLastWord #BlueWave2018\n",
      "1327:  Shame on Trump. Shame on the Republican Party governing both houses of Congress. They’ve failed the the millions of American citizens who live in Puerto Rico. #VoteThemOut #BlueWave2018 https://t.co/TqyzaTcLzS\n",
      "515:  Oh...you have bridges General?\n",
      "I thought I said that last year.\n",
      "No one used them in Puerto Rico.\n",
      "#MSNBC #CNN #Resist #VetsResistSquadron #VetsResistSupportSquadron https://t.co/5T06fFnkb4\n",
      "82:  New York #Democrats call for 911-style commission to investigate deaths caused by Hurricane Maria in #PuertoRico https://t.co/hQECLxvYQ0\n",
      "338:  Puerto Rico response was a disaster. @realDonaldTrump #GOPRussia #FBR #TrumpRussia #Mueller #Resist #MAGA #VoteBlue #2A #1A #GOP #tcot #ccot #Patriot #AmericaFirst https://t.co/A6SOFazqLl\n",
      "449:  Denying the death of 3000 victims in Hurricane Maria is like denying the Holocaust even happened. What an absolute sociopathic psychotic nightmare we have in Trump. OMG Trump &amp; the entire GOP needs to be removed ASAP! @funder #DworkinReport #NotMyPresident #Resist #MAGA\n",
      "342:  Irate Democratic Congressman Blasts Lazy Trump For Killing People In Puerto Rico #Resist #ResistTrump #Cult45 #FuckTrump https://t.co/2sU8CKrBI8\n",
      "224:  Stop Wall Street vultures from exploiting Puerto Rico. Pass debt relief now. https://t.co/req71A1WCN via @CREDOMobile #resist\n",
      "639:  @realDonaldTrump Puerto Rico. Flint. Children in cages. #VOTEBLUE\n",
      "106:  BREAKING NEWS: Puerto Rico to install live streams of areas without electricity and it's two main morgues, hoping to get as much attention as a raccoon. Body cams for immigrant children also considered. #AlternativeFacts #mprraccoon #PuertoRico #WhereAreTheChildren #MAGA #Resist https://t.co/FBUdO1OUWA\n",
      "\n",
      "rep-base\n",
      "\n",
      "445:  RT LouDobbs: #FakeNews- The Hurricane Maria death tolls have been inflated &amp; President realDonaldTrump was right to call out organizations who threw out science and statistics to try to discredit his administration. #MAGA #TrumpTrain #Dobbs https://t.co/pd5cM2gD1g\n",
      "440:  RT LouDobbs: #FakeNews- The Hurricane Maria death tolls have been inflated &amp; President realDonaldTrump was right to call out organizations who threw out science and statistics to try to discredit his administration. #MAGA #TrumpTrain #Dobbs https://t.co/glB0UWawtO\n",
      "255:  @realDonaldTrump Is Puerto Rico in your thoughts too???????\n",
      "\n",
      "https://t.co/IbAh3QtIar\n",
      "\n",
      "#VoteThemOut\n",
      "#FakeMAGA\n",
      "#MAGA\n",
      "#TrumpLies\n",
      "#GOPBS\n",
      "#GOPLies\n",
      "#GOPTraitors\n",
      "#NRALies\n",
      "#NRABS\n",
      "#NRATerrorists\n",
      "#BoycottSinclairAdverts \n",
      "#BoycottSinclair\n",
      "#FireHannity\n",
      "#TheResistance \n",
      "#FoxNews \n",
      "#FOXVIEWSNOTMYNEWS\n",
      "1386:  A lot of people crying about Puerto Rico right now. What you won't hear in the news is how line men are being held at gun point and having their wallets and phones stolen. \n",
      "I say leave them in the dark. \n",
      "\n",
      "#MAGA \n",
      "#USA \n",
      "#AmericaFirst\n",
      "352:  Oh I had another freakout! #trump #trumpfreakout realDonaldTrump: We got A Pluses for our recent hurricane work in Texas and Florida (and did an unappreciated great job in Puerto Rico, even though an inaccessible island with very poor electricity and a totally incompetent Ma…\n",
      "1409:  Nice to see @realDonaldTrump's decisive and strong stance on Russia's new nuclear armaments. #Trump would let them nuke Puerto Rico and not say a thing about it. He's a danger to us all.\n",
      "71:  White House Silence Over Puerto Rico Speaks Volumes https://t.co/fufSdSyoyg #Trump #GOP #Republican #Racism #MSM #CorporateMedia #EstablishmentMedia #AmericanCitizens\n",
      "441:  Mama said RT LouDobbs: #FakeNews- The Hurricane Maria death tolls have been inflated &amp; President realDonaldTrump was right to call out organizations who threw out science and statistics to try to discredit his administration. #MAGA #TrumpTrain #Dobbs https://t.co/v7mBzoYNiZ https://t.co/wtnpxKmImt\n",
      "448:  Just a reminder to the dregs watching #FakeNewsCNN -- they continue to exploit #PuertoRico. Shocking racism! Official #PuertoRicoDeathToll is 64. This bogus #Harvard study suggests just about anyone that died in Puerto Rico in the last year did so bc of poor #Trump response.\n",
      "480:  Looks like @RepDeSantis, who just became a turncoat to @POTUS is now suffering the consequences- down -6 to his opponent. He just had to agree with the Fake News about Puerto Rico, good luck Ronny, you’re done. Lost my respect &amp; your voters.\n",
      "#MAGA\n",
      "\n",
      "dem-lead\n",
      "\n",
      "1289:  Every day brings new distractions and controversies, but it should shock all our consciences that HALF of Puerto Rico remains without electricity, four months later. These Americans need additional disaster relief, and it’s way past time to get it done. https://t.co/cZsd3cY2vZ\n",
      "1255:  Great to hear from so many people in Tampa helping with the recovery efforts in Puerto Rico. I’m grateful for their support and the people of Puerto Rico are grateful for their support. Now Congress needs to get its act together. https://t.co/TfWcFvcro9\n",
      "853:  Supporting federal relief efforts in Puerto Rico following #HurricaneMaria. For more info on response visit @FEMA: https://t.co/66gDyORiWH\n",
      "1504:  Puerto Rico’s ongoing power woes are simply unacceptable – and another reason why FEMA needs to extend its Transitional Shelter Assistance program for the thousands of displaced Puerto Rican families who are still unable to return home. https://t.co/zRXQiXPjJR\n",
      "1119:  I voted for the Disaster Relief funding bill, but I want to be clear that it is not enough to help with Puerto Rico &amp; USVI's recovery.\n",
      "822:  Spoke with Gov. of Puerto Rico yesterday. Offered to help however we can, as our thoughts and prayers are with the people of Puerto Rico. https://t.co/TIz9Vf4C7C\n",
      "207:  I will continue working closely with @NydiaVelazquez &amp; other advocates for Puerto Rico in Congress to ensure that the commonwealth, along with the #USVI &amp; affected parts of the mainland, have all the resources needed to rebuild stronger.\n",
      "990:  Puerto Rico &amp; the U.S. Virgin Islands are in crisis and need their fellow Americans, especially their president, to remember the Golden Rule\n",
      "470:  It started w a 1901 Supreme Court case saying Puerto Rico deserved second class status bc it was “inhabited by alien races”. And it continues today, w Trump’s denial of hurricane deaths. Give this a watch. https://t.co/2puP5hQUGL\n",
      "140:  Rick Scott continúa cortando los fondos necesarios para viviendas económicas año tras año (este año ya van 185 millones) ocasionando una crisis que impacta a las familias trabajadoras de Florida, y a las familias que vinieron desde Puerto Rico.\n",
      "\n",
      "rep-lead\n",
      "\n",
      "1559:  @marcorubio has put forward an important initiative to help Puerto Rico. Florida stands with Puerto Rico and we will keep fighting to make sure the island recovers from Maria.\n",
      "\n",
      "https://t.co/nNGqMsNWoS\n",
      "1509:  I am proud of the work we have done in Florida to support Puerto Rican families following Hurricane Maria. I will continue to fight for this community in D.C. Thank you to everyone who came out to our roundtable today! https://t.co/ThjLeYRRTG\n",
      "791:  Fantastic Orlando Puerto Rico Parade yesterday - Viva Boricua! @HispanicCaucus #Sayfie @larumba1069 @HispanicFed  https://t.co/lFkW7kXkiH\n",
      "646:  Yesterday, I spent the day with   @RepJenniffer Gonzalez-Colon traveling across the state discussing issues that effect the people of Puerto Rico and New Jerseyans alike. I’m honored to have earned her support, and I’m working hard to earn yours. https://t.co/tlVbX93mSA\n",
      "785:  GOP warns every minute counts! Even EPA &amp; CDC agree Puerto Rico needs aerial spraying to kill mosquitoes. https://t.co/cEAw2hmaQd #AZ01\n",
      "1089:  ICYMI: We secured funds for Harvey victims, and aid to Puerto Rico, Virgin Islands, Florida, California, &amp; Texas. https://t.co/jnIusYX2QC https://t.co/FmpdwnT96y\n",
      "829:  My heart is with all in Puerto Rico contending with #HurricaneMaria. Be safe. Your fellow Americans are with you.\n",
      "1341:  As @realDonaldTrump tells the people of Puerto Rico at #SOTU “we love you &amp; we stand with you,” he is allowing FEMA to stop providing food and water aid overnight! \n",
      "\n",
      "https://t.co/VOubMtVjXe\n",
      "904:  Our hearts are with Puerto Rico and the U.S. Virgin Islands during this devastating time. We are with you - resources are on the way. https://t.co/cTuxNtH4dX\n",
      "183:  NOW: The Bipartisan Congressional Delegation to Puerto Rico speaks to reporters in Yubucoa.\n",
      "\n",
      "https://t.co/UVIzLsoft2\n",
      "\n"
     ]
    }
   ],
   "source": [
    "print_samples_all_groups(drugs)"
   ]
  },
  {
   "cell_type": "markdown",
   "metadata": {},
   "source": [
    "### Economic Inequality"
   ]
  },
  {
   "cell_type": "code",
   "execution_count": 15,
   "metadata": {},
   "outputs": [
    {
     "name": "stdout",
     "output_type": "stream",
     "text": [
      "I'm trying\n",
      "Connected to political tweets DB\n"
     ]
    },
    {
     "data": {
      "image/png": "[encoded data removed]",
      "text/plain": [
       "<Figure size 432x288 with 1 Axes>"
      ]
     },
     "metadata": {
      "needs_background": "light"
     },
     "output_type": "display_data"
    }
   ],
   "source": [
    "ei = run_vader(\"econ_inequality\")"
   ]
  },
  {
   "cell_type": "code",
   "execution_count": 16,
   "metadata": {},
   "outputs": [
    {
     "name": "stdout",
     "output_type": "stream",
     "text": [
      "dem-base\n",
      "\n",
      "985:  Vox: #Trump is threatening to shut down the government — and blame #Democrats for #DACA . https://t.co/PHWcrtYFXK\n",
      "430:  So let me get this straight, we have a government shutdown &amp; the incoming speaker of the house, #NancyPelosi is in Hawaii? As an #IndependentVoter I find this repulsive. #Democrats never seem to learn, and continue to have hideous leadership who do nothing but obstruct.\n",
      "\n",
      "#msnbc https://t.co/2VsuRd2Iwc\n",
      "457:  RT EmeraldRobinson: I don't know about you, but I always like to lead the anti-wall open borders #resistance from behind the gates of $1k per night Hawaii 5-star resorts in the midst of the government shutdown. Shows the common folks that you care. https://t.co/UY5uUE31eJ\n",
      "460:  @SteveScalise Tell me again why you said it was @TheDemocrats that shut down the government? #FactsMatter #TrumpShutdown #GovernmentShutdown #TrumpIsADisgrace #ImpeachTrump #LockHimUp #PowertothePolls #BlueWave2020 #FBR #Resist https://t.co/gwow6OLbUr\n",
      "190:  White House closer to partial shutdown with wall demand\n",
      "\n",
      "Shutting down the government to \"protect border security\" makes total sense! Especially seeing that one of the 17 agencies that will shut down would be @DHSgov #TrumpShutdown #FBR #Resist \n",
      "\n",
      "https://t.co/FswaF9Pl3h\n",
      "486:  @RawStory “I am proud to shut down the government … I will take the mantle. I will be the one to shut it down. I’m not going to blame you for it.” #Resist #TrumpResign \n",
      "\n",
      "We made a deck of political playing cards. #KnowYourDeplorables \n",
      "\n",
      "https://t.co/tKvaRSaUbU\n",
      "124:  @bennyjohnson @benshapiro @NancyPelosi got her crowds confused. “Christmas at home, Holidays in public”. She is a spineless moron whose only interest is #resist. @realDonaldTrump, Shut down the government, keep paying our military &amp; #BuildTheWallNow.Libs are anti American, pandering 4 illegal votes. #maga\n",
      "210:  The @freedomcaucus is trying to persuade the weak lame ducks and the weak @POTUS to reject the #CR and shut down the government. \n",
      "\n",
      "Time to dial ☎️\n",
      "\n",
      "US representatives 202-225-3121\n",
      "US senators 202-224-3121\n",
      "\n",
      "This is how we #Resist \n",
      "#ConstantVigilance https://t.co/BkruTvsGZ7\n",
      "245:  So the coming wave of illegals would the direct fault of the idiot who shut down government funding for border security, namely, Trump?\n",
      "\n",
      "#SaveOurCountry #resist #theresistance #trumpcorruption #trumprussia #collusion #GOPcorruption #dems #trumpcrimefamily #TrumpLies https://t.co/g4KHCHoaCz\n",
      "479:  @Slate @realDonaldTrump should shut the government until the wall is funded. Fed employees are useless anyway. She #democRATS support illegal aliens, NEGLIGENT PARENTS, child abusers, drug and human traffickers.\n",
      "\n",
      "rep-base\n",
      "\n",
      "116:  https://t.co/LUtQAU99dT\n",
      "A...whaaaaaa; #GOP tantrum leader to shut down government and Shyte all over #elderly, #sick, #Veterans, #GovernmentWorkers and their families during the holidays...\n",
      "JUST A REMINDER TO SAY THANKS TO  #GOP!\n",
      "96:  @realDonaldTrump Let’s shut down the Government to protect this Country!! Don’t you agree @dbongino #fundthewall #MAGA\n",
      "415:  First, it's a government shutdown over his wall, then a threat to close the entire border. Next it'll be nuking California. What other hostages can Trump take in his desperation to appease his racist base? #MAGA https://t.co/994lm2qMIP\n",
      "350:  RT Echinanews \"#Trump said Saturday that he was negotiating with the Democrats to end a  partial government shutdown, but \"it could be a long stay\" due to continued discrepancy on his long-time demand for a border wall. https://t.co/pOF0Q6Gfid https://t.co/46Vrb7C3Qe\"\n",
      "366:  Donald Trump is responsible for this Government shutdown as well as that huge #TaxScam that he perpetrated on the US people so his other companies could stay afloat!!! #CrookedtRump https://t.co/bVY1orN7c6\n",
      "402:  Well, this explains a lot.  #MAGA Trump supporters. @realdonaldtrump thinks Dems are the people most suffering from the government shutdown. \n",
      "\n",
      "He wants to let the gov't stay shut down because he thinks it only hurts Dems. \n",
      "\n",
      "You might want to let him know he's mistaken. https://t.co/G0DtXf7hME\n",
      "382:  How the partial government shutdown is playing out #CNN #News #Trump #Democrat #FakeNews https://t.co/eRzAkQs140\n",
      "132:  Yet if he doesn't get his way he will shut down the government today, such an idiot and not fit to be a president!!! https://t.co/snE9ca8jgQ\n",
      "151:  @SenSchumer shut down the government because he wanted to help ILLEGAL immigrants. @realDonaldTrump will shut down the government to protect ACTUAL Americans. Let that sink in. #MAGA #WhyIVotedForHim\n",
      "971:  Four Signs That President #Trump Is Becoming More Dangerous\n",
      "\n",
      "1. He Wants a \"Parade\"\n",
      "\n",
      "2. He's Pushing for a Government Shutdown\n",
      "\n",
      "3. He's Usin the Word \"Treason\" Lightly\n",
      "\n",
      "4. He's Stereotyping Undocumented Immigrants as Hurting \"Real Americans\"\n",
      " https://t.co/80URwCKTni via @truthout\n",
      "\n",
      "dem-lead\n",
      "\n",
      "767:  A government shutdown threatens our economy, our families’ well-being, our national security and our confidence in a government of the people, by the people and for the people. A government shutdown does not reflect our values. #ForOurValues\n",
      "608:  Government Shutdown: Will U.S. See Repeat Of 2013? - https://t.co/HZF10x608M\n",
      "\n",
      "#VangieforCongress\n",
      "195:  Trump's threats to shut down the government are more befitting of The Apprentice than the presidency. He can't force the American public to pay for his wall, and we won't let him. https://t.co/0dsyPZmUs8\n",
      "716:  A government shutdown is not inevitable. If President Trump and my Republican colleagues join me in rejecting another pass the buck spending bill and instead decide to come to the table, willing to negotiate in good faith—they’ll find earnest partners in me &amp; my fellow Democrats.\n",
      "18:  .@realdonaldtrump threatens to once again force a government shutdown.\n",
      "\n",
      "Government shutdowns do not make America great. They are damaging to our country, and they hurt Americans.\n",
      "947:  Looks like Donald Trump got the government shutdown that he so eagerly lobbied for yesterday. This is no way to... https://t.co/5z6wZkSpTJ\n",
      "805:  President Trump says \"our country needs a good shutdown.\" His own Budget Director Mick Mulvaney says it is \"kind of cool\" he gets to personally shut down the government. And they say Democrats wanted this shutdown?\n",
      "253:  Trump can throw tantrums on Twitter all he wants, but we all know who's shutting down the government. https://t.co/lE254jt3Nv\n",
      "334:  Art of the Deal+ Republican complete control=3 government shutdowns in one year. \n",
      "Unanimous Senate support deal on Wednesday, only 47 support the  “deal maker’s” plan yesterday after he reneged on what he agreed to. And it literally took hours to get to 47.\n",
      "901:  .@RealDonaldTrump forced a government shutdown because he refused to negotiate in good faith.\n",
      "\n",
      "rep-lead\n",
      "\n",
      "853:  Thank you to @RussellBlairCT for covering the story of @ChrisMurphyCT hypocrisy on shutting down the government.  @NRSC @CTGOP @ctcapitolreport    https://t.co/02VWTAzINP\n",
      "544:  The story behind the Senate Democrats and their government shutdown: http://t.co/cKH4hX8TDr\n",
      "521:  My latest thoughts on Obamacare &amp; the government shutdown: http://t.co/Op5DoTQS7a\n",
      "737:  We passed CHIP in November, passed it again in December and passed a 6 year CHIP reauthorization Thursday night in this funding bill.  Shutting down government is never a good idea. #ShutdownSchumer #VA10\n",
      "845:  I’m glad to see Senate Democrats join with Republicans to end the government shutdown. Over the weekend, we’ve come to an agreement that secures a 6-year reauthorization of the Children’s Health Insurance Program (CHIP) and critical support for our military personnel.\n",
      "468:  The President is using the #TrumpShutdown to try to force an expensive &amp; ineffective wall upon the American people, but Democrats have offered two bills which separate the arguments over the wall from the government shutdown.\n",
      "519:  So proud of our #Iowa vets right now! My father fought in WWII and barriers during a government shutdown wouldn't have stopped him either.\n",
      "603:  .@CNN: Congress passes bill to avoid government shutdown https://t.co/Q0h5Z0NHxz #WRDA #Flint #Zika #GreatLakes\n",
      "280:  The American people gave us a clear mandate: secure the border and build the wall. @SenSchumer &amp; Democrats have a decision to make: shut down the government or put party politics aside &amp; work with us to defend America’s borders. #SchumerShutdown https://t.co/DjvzIlOzdT\n",
      "92:  .#BREAKINGNEWS: ⁦@realDonaldTrump⁩ threatens to shut down the government as he argues with ⁦@NancyPelosi⁩ … via @POLITICO for iOS https://t.co/YGV8E7Q2gs\n",
      "\n"
     ]
    }
   ],
   "source": [
    "print_samples_all_groups(ei)"
   ]
  },
  {
   "cell_type": "markdown",
   "metadata": {},
   "source": [
    "### Economy/Jobs"
   ]
  },
  {
   "cell_type": "code",
   "execution_count": 17,
   "metadata": {},
   "outputs": [
    {
     "name": "stdout",
     "output_type": "stream",
     "text": [
      "I'm trying\n",
      "Connected to political tweets DB\n"
     ]
    },
    {
     "data": {
      "image/png": "[encoded data removed]",
      "text/plain": [
       "<Figure size 432x288 with 1 Axes>"
      ]
     },
     "metadata": {
      "needs_background": "light"
     },
     "output_type": "display_data"
    }
   ],
   "source": [
    "ej = run_vader(\"econ_jobs\")"
   ]
  },
  {
   "cell_type": "code",
   "execution_count": 18,
   "metadata": {},
   "outputs": [
    {
     "name": "stdout",
     "output_type": "stream",
     "text": [
      "dem-base\n",
      "\n",
      "270:  But hey, if already born children die, then let them die, and decrease the surplus population.\n",
      "\n",
      "GOP governor cuts health care budget to prevent Planned Parenthood funding https://t.co/Zrp7zBvM9h\n",
      "\n",
      "#FamilyValues, my ass.\n",
      "#ChildrenUnderAttack \n",
      "#FridayMotivation \n",
      "#BlueWave https://t.co/q6KYGDDIl3\n",
      "872:  Heller and GOP don't care about women's rights and healthcare, it's time to vote Heller out! #NVSen #VoteRosen #VoteBlue https://t.co/a3yEMjeOUR\n",
      "1455:  👏🏽💕Every purchase is a donation to Planned Parenthood Pussy Hats for SALE &amp; Free Shipping (US only) #womensrights #metoo #resist #pussyhat #etsybuyer #hooak #nadiahandmade #thisisnotokay #retweet #pussyhatproject #womenswave #democrat #republican #vote https://t.co/XvyTUNYSVC\n",
      "3387:  Our fellow sister @Jensuberawesome hosts this dance party and it is on friday @SugarCityBflo ! All proceeds go to Haven House who helps victims of domestic violence! This is an all ages event! #buffalo #buffalony #Resistance #danceparty #allagesfun #domesticviolence https://t.co/SMbt5ybsNH\n",
      "1451:  Israeli women’s protest leaders demand 250 million shekels budget to fight domestic violence – Israel News - https://t.co/EyLBprZ2IY #Government #Guns #Israel #Resist\n",
      "1378:  ✨💕Every purchase is a donation to Planned Parenthood Pussy Hats for SALE &amp; Free Shipping (US only) #womensrights #metoo #resist #pussyhat #etsybuyer #hooak #nadiahandmade #protest #thisisnotokay #retweet https://t.co/OcgHMpz9Zj\n",
      "810:  I’d love to see more women in the US Congress, but not these women. We have the chance to elect women who’ll fight for issues we care about, like Reproductive Healthcare, Paid Family Leave, Universal pre-K, &amp; protect Roe v Wade. So #VoteBlue #ResistanceUnited https://t.co/QGaiE4BQrn\n",
      "496:  @Lylaj @danney_williams @jkadams29 @BillClinton Wow.  What an ignorant hateful thing to say. Let me guess, you’re a #Resist #I’mWithHer #Nasty woman. Am I right?\n",
      "1377:  @JeffHarperArt @DaddyJim52 @ATerecki @HatwomanRescues @deaconcruise @HSchouten @WeStandWithEvan @robertbland14 @MikeRegan2112 @FactCheckU @nocovfefehere @waconia3 @DaniScotchIrish @Las4Liberty @just_old_joe @Trenaway11 @WalterLapp @sweetlyfeirce @UnimpressedTX @BBackerman1 @txsguy09 @GodEmperor1138 @KarenPe95911585 @HockeyFanGirl12 @solomongrundy6 @gaagee0406 @KakiMiller1 @icerinkmomma @egunlady @rebeccaturmo @brendap1949 @COConstitution1 @MarilynCapps @daymightbzombie @suziferg0806 @TxsleuthUSA @republicinexile @FaustKnowsBest @JamieW1776 @msgoddessrises @MrsPerrin @ftknoxdrill @dccra @Yakekoge @jeebling Trump isn't a Christian.\n",
      "Reagan &amp; Bush: not Christian either.\n",
      "Reagan regularly consulted an astrologist.\n",
      "Bush never allowed states to defund Planned Parenthood and allowed experiments on fertilized embryos.\n",
      "#VoteBlue #Resist are helping:\n",
      "#PlannedParenthood #Antifa #Socialism https://t.co/G5zcolDxcj\n",
      "3327:  @RBReich @blucollarbud Establish now what we expect from our #BlueWave:\n",
      "1) Protectect Social Security - no more loans\n",
      "2) Pay back, plus interest, what was taken by @GOP from SS\n",
      "3) Automatic voter registration\n",
      "4) Women's right to choose\n",
      "5) Legal marijuana\n",
      "6) Trump and crew behind bars\n",
      "\n",
      "rep-base\n",
      "\n",
      "1340:  You mean like Planned Parenthood? https://t.co/eG55fWSgHr\n",
      "1272:  What us wrong with #Texas How can you go for Cruz over O'Rourke #BeAVoter for democracy, for healthcare, for living wage, for women's rights, for ending rampant #GOP corruption &amp; hateful rhetoric fomenting violence #VoteBetoForTexas #FlipTheSenate to get the truth abt Russia\n",
      "875:  #GOP #Resist #realDonaldTrump Obviously Republicans and deplorable’s don’t believe in rape.  They prefer to think of it as an opportunity to deny another woman a right to choice.  Un-enthusiastic sort of consensual sex.  Boys just being drunken boys. Just Truth and Courage WINK\n",
      "3073:  @benshapiro Planned parenthood is where I used to send my affairs with hookers to get checked for STDs and to have abortions because I never use condoms, they’re for losers, and I always bust my billion dollar load in them. Greatest 30 seconds of their lives!!!  #MAGA\n",
      "1371:  @Jim_Jordan Today's Right:\n",
      "\n",
      "- Protect a complete Fraud - #Trump\n",
      "- Disrupt the #Mueller Investigation\n",
      "- Repeal #ACA\n",
      "- #Gerrymander \n",
      "- Install Conservative Judges\n",
      "- De-fund Planned Parenthood\n",
      "- Ignore Climate Change\n",
      "\n",
      "@GOP @GOPLeader @senatemajldr #FridayFeeling\n",
      "729:  Where was planned parenthood for your mom before she gave birth to your nasty ass#MAGA🇺🇸🇺🇸🇺🇸🇺🇸🇺🇸🇺🇸🇺🇸🇺🇸🇺🇸🇺🇸🇺🇸🇺🇸🇺🇸🇺🇸🇺🇸 https://t.co/4qyyFeesZ5\n",
      "941:  @PPact @tedcruz @SenTedCruz #ConfirmKavanaughNow ....\n",
      "Planned Parenthood murders millions of babies, they have no moral high ground! #MAGA #TrumpTrain https://t.co/RfrjwjwL2w\n",
      "3072:  @realDonaldTrump Make sure PTSD is not on the neo-Bolsheviks list.\n",
      "\n",
      "Our veterans deserve to be armed. There are no greater Patriots than those who put their lives on the line already.\n",
      "#MAGA\n",
      "2982:  I wonder why #gop is so quiet about sexual abuse and domestic violence WHAT are they hiding themselves. Same reason @realdonaldteump is supporting abusers HE IS AN ABUSER HIMSELF What do you say @speakerryan @SenateMajLdr  too close to home?\n",
      "1489:  🙌🏽⭐️Get your RESIST #fingerlessgloves before they’re gone! Every purchase I donate to Planned Parenthood #womensrights #metoo #resist #pussyhat #etsybuyer #hooak #nadiahandmade #retweet #pussyhatproject #womenswave #democrat #republican #vote https://t.co/E26W2fDmE6\n",
      "\n",
      "dem-lead\n",
      "\n",
      "3313:  Wyoming has always been ahead of the times. One hundred and twenty-eight years ago, Wyoming became the first state to give women the right to vote. We didn’t wait for DC to tell us it was okay.\n",
      "219:  Make no mistake, this Supreme Court vacancy is vital for the right of women to control their own health care. The president has a clear litmus test for his nominees, and that means the deciding vote against Roe v. Wade. #SaveSCOTUS #WhatsAtStake\n",
      "1175:  Thank you @RepGutierrez for coming in to support #TeamMenendez in Newark today! Rep. Gutierrez knows that Bob Menendez will never stop fighting for NJ. We can't have greedy @BobHugin and the GOP roll back the clock on civil rights, voting rights, and women's rights. https://t.co/7BPUTQEkSr\n",
      "674:  Today we celebrate #WomensEqualityDay, commemorating the Nineteenth Amendment, which affirmed women’s right to vote in 1920. While we celebrate the progress we’ve made, we have to speak out to defend our rights. Add your name to help me send that message: https://t.co/cRFs7Nlrf9 https://t.co/kAaXnD5FYS\n",
      "3268:  Our veterans have put their lives on the line. We must do everything possible to ensure they receive the benefits they deserve – not privatize the VA. Thank you to those who met in White River Junction today. https://t.co/y3YzEoJhj0\n",
      "881:  It’s #nationalpowmiaday &amp; I’m making sure to spend time reflecting on soldiers who have been imprisoned overseas or have never been found. Freedom comes at a price — 1 that’s all too real to those patriots who put their lives on the line protecting us. To all of them: Thank you.\n",
      "98:  Let’s not dance around it: By denying asylum to domestic violence victims fleeing their abusers, the administration will cost women their lives. It shows how little this administration cares about people who are suffering. This is an attack on our most fundamental values. https://t.co/9NEi7JMHbB\n",
      "117:  Our own community spent days on edge. The shooter? There was a history of red flags, even a past arrest for domestic violence. He was still able to legally own the gun that took 6 lives. The time for #GunReform is now. #Enough #AZ06 #Scottsdale https://t.co/6ge5csiSka\n",
      "817:  The June 11th decision by AG Sessions prevents victims of violence in some of the world’s most dangerous countries from seeking safety in the United States &amp; could condemn thousands of asylum-seekers to deportation, putting their lives in grave danger: https://t.co/97WbMcGgl7\n",
      "146:  From 9/11 to Sandy, Ron Spadafora was a hero who put his life on the line to protect New Yorkers. I am deeply saddened by his death and send my thoughts and gratitude to the brave men and women who served alongside him and to all his loved ones. https://t.co/SfGPdA8QMz\n",
      "\n",
      "rep-lead\n",
      "\n",
      "1181:  At Planned Parenthood this morning.\n",
      "Thank you to all the volunteers that take....(click on link)\n",
      "*early voting begins Mon., Oct.22\n",
      "\n",
      "Be a true warrior for women and vote #ProLife #AvaforCongress #District18HTX\n",
      "\n",
      "https://t.co/RlSEoA5vhJ\n",
      "3549:  We are so fortunate to have such courageous men and women who are willing to put their life on the line to keep our communities safe. I'm glad I had an opportunity to express my sincere appreciation for their service today. https://t.co/0bwZw00Oi5\n",
      "807:  #VAWA has been reauthorized on a #bipartisan basis in the past &amp; it is important we do so again. We must continue to support victims of domestic violence &amp; sexual assault. Proud to join my colleagues in sending a letter urging House leadership to reauthorize VAWA before Sept. 30. https://t.co/Pl8O28l8XB\n",
      "1169:  While the extensive and well substantiated allegations and court records detailing Sherrod Brown’s long history of engaging in acts of domestic violence have already disqualified him from continuing to serve in the United States Senate...\n",
      "3266:  The omnibus bill was a Democrat bill.\n",
      "\n",
      "Funded Planned Parenthood &amp; Sanctuary cities &amp; didn't fund the wall.\n",
      "\n",
      "We have to take McConnell &amp; Chuck Schumer down. \n",
      "\n",
      "Senators who voted against the budget but didn't speak up &amp; call on McConnell to step down failed GOP voters.\n",
      "\n",
      "#VASen\n",
      "1604:  Any day that a Planned Parenthood clinic closes down is a good day. States have the right to defund this group and... http://t.co/xyYdu0sr\n",
      "883:  We will never forget those brave American men &amp; women who have made the ultimate sacrifice. #POWMIARecognitionDay https://t.co/ruvsEho5xo\n",
      "424:  WATCH: I’m not afraid to stand up to Planned Parenthood and their assault on human life. We must do all that we can to protect these precious lives and I pledge to continue the fight to respect life. https://t.co/Yc0MPirthQ\n",
      "2035:  \"GOP promises House vote to repeal Obamacare, defund Planned Parenthood\" via @CBSNews: https://t.co/20L2j9w4PM\n",
      "3481:  Thankful to the Trump Administration for this great step forward and I would push legislation to completely defund Planned Parenthood when I get elected to Congress. I am 100 percent pro-life. https://t.co/JyX3HeXEjs\n",
      "\n"
     ]
    }
   ],
   "source": [
    "print_samples_all_groups(ej)"
   ]
  },
  {
   "cell_type": "markdown",
   "metadata": {},
   "source": [
    "### Education"
   ]
  },
  {
   "cell_type": "code",
   "execution_count": 19,
   "metadata": {},
   "outputs": [
    {
     "name": "stdout",
     "output_type": "stream",
     "text": [
      "I'm trying\n",
      "Connected to political tweets DB\n"
     ]
    },
    {
     "data": {
      "image/png": "[encoded data removed]",
      "text/plain": [
       "<Figure size 432x288 with 1 Axes>"
      ]
     },
     "metadata": {
      "needs_background": "light"
     },
     "output_type": "display_data"
    }
   ],
   "source": [
    "edu = run_vader(\"education\")"
   ]
  },
  {
   "cell_type": "code",
   "execution_count": 20,
   "metadata": {},
   "outputs": [
    {
     "name": "stdout",
     "output_type": "stream",
     "text": [
      "dem-base\n",
      "\n",
      "3501:  @realDonaldTrump Translation:   @GOP Are Stepping Up Their Voter Suppression!!!  #VoteTuesday  #VoteBlue     AND DON'T LET ANYONE STOP YOU!!!\n",
      "CALL FOR HELP IF NEEDED!!   @ACLU  Is A Good One To Call\n",
      "3319:  And when we elect @KathleenClyde as our next SOS we won’t have to depend on courts to prevent #OHGOP from stealing our right to vote. #VoteBlueToSaveAmerica #VoteBlue @RichCordray @BettySutton @BetsyRaderOH @SteveDettelbach @ZackSpaceOhio @Janet4OH @RachelforOhio @dannyoconnor1 https://t.co/GNUeF0AH2D\n",
      "7245:  @Truthhandler1 @maramcewin We resist Trump's subversion of the rule of law, civil rights, &amp; the US Constitution. We resist the many ways Trump is harming our environment, economy, alliances, social safety net, &amp; world standing. These are worthy, patriotic causes. We aren't powerless--we vote. #Resistance https://t.co/q43XWHZkRV\n",
      "3079:  @Stonekettle Does @JeffFlake mean that scary leftist rhetoric of wanting affordable health care, a living wage and equal rights? That rhetoric? #MorallyBankrupt #ProudLeftist #AngryOldWhiteLady #Resist\n",
      "8267:  @FDRLST #Democrats claim they protect #LGBT rights yet are promising Sharia to Muslims in the U.S. Democrats won't call out the Ideologies far-right virulent homophobia &amp; if you do they'll call you Islamophobic. Democrats are not helping gays in Islam or reform.\n",
      "\n",
      "https://t.co/epzp542rvL\n",
      "4269:  RT @ACLU: Dissent is patriotic — we can't let the president roll back protest rights outside of our White House. Speak up before it's too late: https://t.co/YGHSquEleB https://t.co/FdDqfb5giz\n",
      "#Resist\n",
      "#ImpeachTrump\n",
      "#HateLiberalsBiteMe\n",
      "1850:  Its sad children’s rights are human rights that’s why we all need to rise up and defend as well as #resist such notions! https://t.co/X1RLo4ecYP\n",
      "842:  That the US remains withdrawn from the UN Human Rights Council after they called Trump on his brutally abusive policy towards immigrant children shows that Trump does not care about human rights.\n",
      "\n",
      "#FamiliesBelongTogetherMarch #KeepFamiliesTogether #resist #trump\n",
      "7794:  Donald Trump’s civil rights office for housing has found the real problem: pets    https://t.co/WtRoP8aycl by @rmc031  #ows #occupy #1u #greens #resist #p2b #p2 #p2p\n",
      "796:  @AjitPaiFCC : how long will you allow this -it’s not free speech or freedom of the press it’s Sedition. It’s calling to have Americans hurt https://t.co/FBfxPMohIy\n",
      "\n",
      "rep-base\n",
      "\n",
      "8225:  @FoxBusiness @deneenborelli Riiiiiight. Because, like Trump pointed out, the Lincoln Republicans freed the slaves in 1863. And then helped pass the Civil Right Act in 1964. And then, ummm, well...since then they have mostly been racist.\n",
      "#racism #GOP\n",
      "3284:  @keithboykin Everyone needs to understand what happened in 1964. The “party of Lincoln” decided to embrace the Dixiecrats alienated by Democrats over the civil rights act. The #GOP became white nationalists\n",
      "498:  Nikki Haley withdraws US from UN Human Rights Council, slamming it for ‘chronic bias’ and 'appalling disrespect for the most basic rights'#MAGA https://t.co/GLY3kTn3Rr\n",
      "7260:  The 10 worst college offenders for 1A Free Speech.  Where should your tuition $$$ go?\n",
      "The 10 worst colleges for free speech: 2018 https://t.co/wjIrZDvFOA via @TheFIREorg\n",
      "\n",
      "@POTUS #Q #QAnon #MAGA #WeThePeople #FakeNews #GreatAwakening #ReleaseTheCures #Treason #OBAMAGATE\n",
      "200:  @Nilkski_ Her tainted genes of our rights as human beings? Our rights of the US Amendments? Sorry but your statement is triggering. We shouldn’t believe in sterilization over basic human rights as a nauion and society. #MAGA #POTUS\n",
      "2431:  @krassenstein @realDonaldTrump You know about due process, holding an allegation for 6 weeks so it can be released at the 11th hour.  Guess who your President is.\n",
      "PRESIDENT DONALD J TRUMP \n",
      "#MAGA \n",
      "#POTUS\n",
      "7701:  @Mansteinvi @GartrellLinda @UTChargerTom I’ve Wonderful Followers who Value Their Voting Rights ~ I’m sure they’ll help spread the word👍🏼😄❤️🇺🇸💙 #MAGA    \n",
      "\n",
      "🇺🇸🇺🇸Ask for #VoterID 🇺🇸🇺🇸\n",
      "         STOP #VoterFraud\n",
      "3926:  WATCH: Mississippi #GOP Senator who joked about 'public hanging' appears to promote voter suppression of 'liberals' https://t.co/tXJPJcqAoL\n",
      "6972:  @POTUS @realDonaldTrump  Apparently there is a FREE SPEECH alternative to Twitter. I'm going to try &amp; find out more about this!\n",
      "\n",
      "#ReleaseTheMemo \n",
      "\n",
      "#FlushSewerDC \n",
      "\n",
      "🇺🇸🇺🇸🇺🇸🇺🇸🇺🇸🇺🇸🇺🇸🇺🇸🇺🇸🇺🇸🇺🇸🇺🇸🇺🇸🇺🇸🇺🇸 https://t.co/uT6OmtULd1\n",
      "2451:  --&gt; @realDonaldTrump \n",
      "\n",
      "IT'S TIME TO \n",
      "MIGRATE ALL YOUR SOCIAL MEDIA  COMMUNICATIONS TO  PLATFORMS THAT DO NOT CENSOR YOUR SUPPORTERS OR SMOTHER FREE SPEECH!\n",
      "\n",
      "WE WILL MIGRATE WITH YOU\n",
      "\n",
      "#MAGA\n",
      "#QAnon\n",
      "#WalkAway\n",
      "#StopTheBias\n",
      "#media\n",
      "#NewRules\n",
      "#WAR\n",
      "\n",
      "https://t.co/r4Vr5cDALh\n",
      "\n",
      "dem-lead\n",
      "\n",
      "1005:  14th Amdt was ratified 150 yrs ago, correcting a serious blight on our Nation’s history recognizing all Americans as citizens w/ equal rights &amp; protections. We must persist in defending these rights. As my friend &amp; colleague @repjohnlewis says, let's make #goodtrouble.\n",
      "865:  The Civil Rights movement was built on organizing.\n",
      "\n",
      "It's a testament to the fact that real change starts in church basements and living rooms and local community meetings.\n",
      "\n",
      "We have to continue speaking out, marching, calling, rallying until the progress we seek becomes a reality.\n",
      "4929:  We all know, far too well, the struggle for equal rights continues - in #VA08 and communities across the country. This fight isn't over.\n",
      "2034:  While DC sits on the sidelines and @realDonaldTrump tries to roll back our clean air standards, California has been busy writing 100% clean energy into our future.\n",
      "\n",
      "Proud to have fought shoulder-to-shoulder with so many incredible Californians to achieve this victory. #SB100 https://t.co/KS7msvtWMD\n",
      "6219:  A free and open internet is the foundation of free speech. Trump's @FCC wants to take that away. #NetNeutrality\n",
      "4218:  I challenged Trump decision to shrink protected natural lands. Now, the Trump Admin is trying to block Congress from weighing in on these harmful conservation roll backs. Instead of addressing our criticism, he seeks to silence his critics.  https://t.co/jrvTOEkm8N\n",
      "8374:  Commemorating Vietnam Human Rights Day: “the jailers back in Hanoi need to know that we’re watching” https://t.co/wgoPfB0zDc\n",
      "5654:  We mourn the loss of South Bend’s Barbara Vance Brandy, a role model in the region’s civil rights movement. -Joe https://t.co/I89sFHtwe9\n",
      "679:  There’s nothing more important than our right to vote. But that right is under attack because of gerrymandering, voter ID laws, voter purges and more. We need action to #RestoreTheVOTE https://t.co/8yPZBBiRdH\n",
      "5734:  I intend to carefully scrutinize Judge Gorsuch's temperament and record, particularly on civil rights and other Constitutional guarantees\n",
      "\n",
      "rep-lead\n",
      "\n",
      "1164:  Democrats have been hammering the current administration for over a year on foreign influence in our elections, yet San Francisco Democrats are now allowing illegal aliens to vote in local elections? We must elect officials who are going to protect our rights and our border!\n",
      "6865:  Today, we honor the life and accomplishments of one of the most prominent civil rights activists of our time. Martin Luther King Jr.'s contributions to our society are unprecedented and we thank him for his legacy of peace and progress. https://t.co/VIJqluOXT0\n",
      "1312:  Even Democratic donors are turning on @SenGillibrand for her shameless grandstanding. One called her a “ruthless opportunist” for denying Sen Al Franken due process. Real scandal: Gillibrand refused to return 800K dirty #Weinstein money. #FireGillibrand #PutNYFirst #Farley4NY\n",
      "5406:  @HouseCommerce Passing HR 5053 is a victory for free speech. Keeps @IRS from knowing names of non-profit donors. https://t.co/i8G95SxyNg\n",
      "4856:  Outdated #NDAA fails to protect human rights &amp; taxpayer money. Check out my statement about why we need to #StopNDAA: http://t.co/kZBlCnwyc8\n",
      "8484:  Proud to support another pro-growth solution to unleash the free enterprise system and create more opportunities for American job creators. Pleased that the package to roll back #DoddFrank is heading to the President’s desk.\n",
      "3073:  Proposed bill would release information about civil rights cold cases https://t.co/akqUDKWBbj\n",
      "5516:  Honored to have the endorsement of @NRAPVF and their confidence that I will fight to protect our right to bear arms. https://t.co/XhNUzm4sEs\n",
      "5543:  @yurko40a @jayo304 OK U don’t believe in self determination. No reason to BS. People living in Crimea have right to vote on their future\n",
      "4690:  I hated the Equal Rights Amendment, so what makes you think I'd vote for VAWA?\n",
      "\n"
     ]
    }
   ],
   "source": [
    "print_samples_all_groups(edu)"
   ]
  },
  {
   "cell_type": "markdown",
   "metadata": {},
   "source": [
    "### Environment"
   ]
  },
  {
   "cell_type": "code",
   "execution_count": 21,
   "metadata": {},
   "outputs": [
    {
     "name": "stdout",
     "output_type": "stream",
     "text": [
      "I'm trying\n",
      "Connected to political tweets DB\n"
     ]
    },
    {
     "data": {
      "image/png": "[encoded data removed]",
      "text/plain": [
       "<Figure size 432x288 with 1 Axes>"
      ]
     },
     "metadata": {
      "needs_background": "light"
     },
     "output_type": "display_data"
    }
   ],
   "source": [
    "env = run_vader(\"environment\")"
   ]
  },
  {
   "cell_type": "code",
   "execution_count": 22,
   "metadata": {},
   "outputs": [
    {
     "name": "stdout",
     "output_type": "stream",
     "text": [
      "dem-base\n",
      "\n",
      "2878:  Brett Kavanaugh and pals accused of gang rapes in high school, says lawyer Michael Avenatti https://t.co/oWCM9MZgs7 #MondayMotivation #Trump #TrumpRussia #TrumpColluded #FlipItBlue #ImpeachTrump #BlueTsunami #FBR #p2\n",
      "1748:  @MichaelRCaputo In a more respectful time, there would be a Justice named Merrick Garland on the Supreme Court. But Garland never got so much as a hearing or courtesy visit so it's time to step up, step in and take control back. #VOTEBLUE #BetheStand #NIKE #ColinKapernick\n",
      "2603:  A sitting US Senator just described an allegation of sexual assault by a nominee for the Supreme Court as a “hiccup”.   @ChuckGrassley do you see the problem here? I’m guessing this is what @maziehirono was talking about.  #flipitblue @dscc @SenatorCollins https://t.co/4L84I0J4Uu\n",
      "1255:  @KamalaHarris RED ALERT #RESISTANCE! Sinclair Media TV-Radio stations have now aired four “must-run” segments pushing 4 Fascist @realDonaldTrump SCOTUS NOMINEE Brett Kavanaugh’s confirmation w/out the paperwork.  I Told U #SINCLAIR IS WORSE THAN @FoxNews https://t.co/RHQvFdvhuT …\n",
      "486:  This will be the worst Supreme Court in over 70 years if this happens!!! #Resist https://t.co/ZgP4IQDBjs\n",
      "3964:  @AllisonRFloyd It's also to protect trump from the russia investigation, which involves republicans in Congress.\n",
      "\n",
      "Orrin Hatch is involved in a case that'll go before the supreme court to do away with state charges...\n",
      "\n",
      "Extending trumps pardoning power too.\n",
      "\n",
      "#StopKavanaugh #trumputin #VoteBlue\n",
      "4340:  Get over it #liberals #progressives #socialists #Democrats Trump is president! Judge Kavanaugh will become the next SCOTUS! And Trump will appoint at least one more SUpreme Court Justice!\n",
      "6736:  Register to vote. Confirm your registration is complete with no issues. No surprises at the booth. And EVERYONE must vote. Our votes are our voices. #BeHeard #GOTV #VoteThemOut2018 #VoteBlue #BlueTsunami #BlueWave2018 https://t.co/5iZWqCDyne\n",
      "4719:  @TwitterMoments supreme court judge should have term limit, this one wrong decision is going to last for decades ...not fair!! #voteblue in November\n",
      "2562:  You wonder if Kavanaugh could rape a teen-age girl in Time Square and old white men's GOP Judiciary Committee would vote to confirm.\n",
      "#Resist #KremlinAnnex https://t.co/GW7LTOceJh\n",
      "\n",
      "rep-base\n",
      "\n",
      "4212:  @realDonaldTrump We have a factual liar president and a soon to be factual liar drunk as Supreme Court justice. Boy are we making America great again.#liars #kavanaugh #TRUMP #flake #senatorcollins\n",
      "5345:  Jim #Jordan just withdrew his bid to become ranking #GOP member of the House Judiciary Committee.\n",
      "6776:  @ananavarro @HenriFordMD Immigrants and the children of immigrants from so-called \"s-hole\" countries stand up!  Someone remind #Trump that people like Dr. Ford are who make this country great...\n",
      "4145:  @Alyssa_Milano @lisamurkowski Your story has no bearing on whether judge Kavanaugh is confirmed or not. He is innocent. There is no evidence what so ever.  Two door ford is lying it’s already been proven multiple times.  Go trump. #MAGA\n",
      "6934:  #GOP The #TheStupidParty--&gt;&gt;With Grassley Support, Judiciary Committee Passes Bipartisan Bill to Protect Mueller https://t.co/BBb3JIm110 #NewsandPolitics via @pjmedia_com\n",
      "5366:  People on their high horse on #KareemHunt banishment from #NFL &amp; others piggybacking. @EAMaddenNFL erased him from the game while the President &amp; a Supreme Court judge were both accused of sexual assault and #Trump bragged about sexually assaulting women. Both still have jobs\n",
      "2193:  @senorrinhatch @Susiefranklin1 Trump picked the right man for the next Supreme Court Justice. Judge Kavanaugh, never give up, never surrender! #MAGA #KAG #ObamaGate 🇺🇸🙏\n",
      "2014:  UPDATE: Here's What the Left Doesn't Want America to Know About Brett Kavanaugh.  https://t.co/eze9qeuFXd #veterans #bluelivesmatter #hillaryemails #latinos #MAGA https://t.co/TedLKgVFcY\n",
      "6976:  Watch @TheRealHublife's broadcast: Supreme Court says we can gamble, the left defends...McCain? and Monday Motivation w/Author Brenden Dilley. #MondayMotivation #LiberalLogic #MAGA \n",
      "https://t.co/5TDoMFD063\n",
      "4296:  @SenFeinstein We DON'T need the supreme court to MOMMY US ALL like a bunch of irresponsible socialist twits in your world of monoculturist mediocrity! #2A #ConfirmKavanaughNow #CONFIRMKAVANAUGH #MAGA #QAnon #WWG1WGA #TheGreatAwakening #TheStorm #DoItQ #Dems https://t.co/KF4D9FgbZH\n",
      "\n",
      "dem-lead\n",
      "\n",
      "5839:  Love Wins! Join me in applauding the Supreme Court’s decision and share it with your friends. http://t.co/EPeotl4sZb\n",
      "6502:  I want to welcome @SenKamalaHarris and @SenBooker to the Judiciary Committee. The committee has jurisdiction over many critical issues facing our country, from immigration to criminal justice to voting rights, and they couldn’t be better suited to tackle them.\n",
      "1285:  Democrats are requesting Brett Kavanaugh’s records as has always been done. Why? Because he’s been nominated to a lifetime appointment. The public deserves a thorough review of this nominee. He could affect all Americans for generations. Every Senator should be fully informed. https://t.co/apvYk5cCjD\n",
      "408:  At the House Judiciary Committee hearing with Deputy AG Rod Rosenstein and @FBI Director Christopher Wray. https://t.co/moz4Ov1Y0Q\n",
      "1942:  Only a small fraction of Judge Kavanaugh's record is public. With something as serious as a lifetime appointment, the American people deserve to have all the information – not just what the Trump administration wants us to see. #StopKavanaugh\n",
      "6258:  Senator Orin Hatch (R-UT) appears to be nodding off during the Gorsuch Supreme Court hearings. He must be resting... https://t.co/ESjc8KfDxV\n",
      "5856:  Remembering today Rep. Howard Coble. Honored to have worked with a great champion of American #innovation on the House Judiciary Committee.\n",
      "887:  The next Justice on #SCOTUS will rule on landmark decisions that affect health care access &amp; protections for 133 million Americans with pre-existing conditions. Judge Kavanaugh has made clear he would rule against the #ACA. #WhatsAtStake #StopKavanaugh\n",
      "1857:  Women are paying attention. America is in the midst of a maternal mortality crisis -- low-income women and women of color are dying during childbirth in horrifying numbers. Voting to confirm Kavanaugh is dangerous for women. https://t.co/HPEAcimdMo\n",
      "2124:  At Supreme Court hearing: Former Nixon counsel John Dean testifying.  He just said: If Judge Kavanaugh gets confirmed, it will the the most “presidential power friendly court in the modern era.”\n",
      "\n",
      "rep-lead\n",
      "\n",
      "3608:  I found Dr. Ford’s testimony convincing, and my heart goes out to her. I also found Judge Kavanaugh’s testimony convincing, and he’s correct that his character has been smeared. I think both these people have been used and abused as pawns in partisan Washington political theater\n",
      "6895:  I will vote to confirm Mike Pompeo as Secretary of State, and I urge my fellow Senators to do the same. He is a dedicated, serious public servant who will advance American security and reinvigorate the @StateDept.\n",
      "1930:  Judge Brett Kavanaugh is the constitutional conservative voice we need on the Supreme Court—and he has the record to prove it! LIKE if you support Judge Kavanaugh’s confirmation. #SCOTUS #gapol https://t.co/aWVScx8Muf\n",
      "6047:  To Nassau Supreme Court to swear in Terry Murphy as District Court Judge.\n",
      "5181:  Speaking of divisiveness, throwback to Tina Smith opposing Justice Brett Kavanaugh before his name had even been announced https://t.co/rb7Q29hEdj #MPRdebate #mnsen\n",
      "5493:  Kudos to the Supreme Court on their 2nd Amendment ruling yesterday. This will really heat up the debate on citizens rights vs. Govt! #tcot\n",
      "964:  I strongly support President Trump's choice for the Supreme Court, Judge Brett Kavanaugh. As someone who thinks the Court must uphold the Constitution as it is written, I think the Court will be greatly improved with the addition of Judge Kavanaugh.... https://t.co/IW44h64Px9\n",
      "5030:  .@LindsayGrahamSC has had a really good month of October. The Left has lost the House, the Senate, the Presidency, &amp; the Supreme Court. All they have left is the Media, cyberBullies, intimidation, &amp; street violence. https://t.co/kYb5f5Wtjs\n",
      "5831:  Elected officials can go home, the Supreme Court now governs the country. Full 'bonus' commentary coming soon with Power Divided audio book.\n",
      "1064:  A vote to confirm Brett Kavanaugh is a vote to deny millions of American women the pre-existing condition protections they deserve. RT if you think that’s unacceptable.\n",
      "\n"
     ]
    }
   ],
   "source": [
    "print_samples_all_groups(env)"
   ]
  },
  {
   "cell_type": "markdown",
   "metadata": {},
   "source": [
    "### Foreign Policy"
   ]
  },
  {
   "cell_type": "code",
   "execution_count": 23,
   "metadata": {},
   "outputs": [
    {
     "name": "stdout",
     "output_type": "stream",
     "text": [
      "I'm trying\n",
      "Connected to political tweets DB\n"
     ]
    },
    {
     "data": {
      "image/png": "[encoded data removed]",
      "text/plain": [
       "<Figure size 432x288 with 1 Axes>"
      ]
     },
     "metadata": {
      "needs_background": "light"
     },
     "output_type": "display_data"
    }
   ],
   "source": [
    "fp = run_vader(\"foreign_policy\")"
   ]
  },
  {
   "cell_type": "code",
   "execution_count": 24,
   "metadata": {},
   "outputs": [
    {
     "name": "stdout",
     "output_type": "stream",
     "text": [
      "dem-base\n",
      "\n",
      "16:  Obstruction #InPlainSight\n",
      "\n",
      "More High Crimes by #Trump &amp; #TrumpCrimeFamily\n",
      "\n",
      "Bad Motives near daily\n",
      "\n",
      "Now Pardons &amp; more attacks on Justice system ⚖️\n",
      "\n",
      "Disgusting &amp; UnAmerican 🇺🇸 https://t.co/TgS1hkqMJk\n",
      "98:  #WhyStatesMatter\n",
      "Our 2017 candidates have already had an impact on education, health care, criminal justice reform, and workers' rights in their states.\n",
      "\n",
      "And join us in working to elect even more candidates in 2018 who'll make an impact. https://t.co/BzxIhuwUVJ #BlueWave\n",
      "211:  Pakistan: Journalists should not be harassed or intimidated through criminal justice system\n",
      "\n",
      "#amnesty #humanrights #trump #democrats #people\n",
      "https://t.co/cvNHybo3Oz\n",
      "761:  Republicans are thumbing their nose at the “rule of law” because they don’t agree with the out come. NO one is above the law, not even @realDonaldTrump Our Justice System must be protected,respected and obeyed. #BlueWave2018  https://t.co/WN3Fzp2iDj\n",
      "829:  With the announcement  from the #NFL today . We should all hear @RepJoeKennedy  in our head \"A justice system rolling back civil rights by the day \"  \n",
      "Guys peaceful protest is an American right .You can't bully people into the #anthem that is not FREEDOM! #Resist➡#TrumpWorld https://t.co/bQGImavM4s\n",
      "431:  Only reason Republicans passed criminal justice reform caller because more white people going to prison because of drugs especially opioids. They are robbing,burglarizing,and killing people for drug money. @cspanwj #ResignTrump #Resistance #BlueWave2020 #QAnon #Trump2020\n",
      "101:  @peterdaou I guess you haven’t noticed the 2.1 million juvenile justice system &amp; for-profit prison population lobbyists who donated to Democrats. #forprofitprisons #Democrats #Progressives\n",
      "178:  As long as the #Police consider themselves #AboveTheLaw and not just enforcers of the law then there will be #Resistance to this catastrophically horrible ‘Justice’ System ... Never tell me how great this system is ... It #IsGarbage\n",
      "102:  The TRUTH? Trump may succeed in making History. If, after the American Justice System is finished with Trump, he could be the first American turned over to the Hague. #HumanRightViolation #TrumpConcentrationCamps #RESISTANCE\n",
      "308:  @SallyQYates The American Justice System might be the last stronghold to stop #Trump's Authoritarianism. Congress won't do it, because the @GOP is complicit. These times are the toughest challenge for the American Democracy. #BeVigilant #Resistance\n",
      "\n",
      "rep-base\n",
      "\n",
      "167:  @ABC @GOP @HouseGOP @SenateGOP @OrrinHatch @realDonaldTrump @SenWhitehouse @GeraldoRivera @WhiteHouse @AnnCoulter @IngrahamAngle @tedlieu @FoxNews @foxandfriends @LindseyGrahamSC @JohnKasich @Twitter @FedSoc Thanked us for taking the oath of poverty. We went into the justice system not because of money and power, but because of a great idea we believed in called America. It’s our job to protect and serve America. Your job it seems is to capitalize on the justice system. #Shame #MAGA\n",
      "205:  @SenatorCollins @real_farmacist You better be concerned, you better protect him and our justice system. #Trump is corrupt and needs to be leashed in.\n",
      "\n",
      "#TrumpCorruption\n",
      "#TrumpRussia\n",
      "709:  I hate to be the bearer of bad news BUT our JUSTICE System has already collapsed. https://t.co/mSW2ElgBkg\n",
      "665:  #ReleaseTheMemo and lock these bastards up forever! Treason &amp; Sedition right in front of us. Enough with 2 tier justice system. #MAGA https://t.co/eQZmPLPNXH\n",
      "773:  @jessprince66 @AriFleischer @jaketapper That whole sequence is ridiculous. He never thought he’d say it was unlikely but possible. It’s exactly because of drivel like this that our justice system puts the burden of proof on the accuser. #comey #stephanopoulos #nonsense #Trump #MAGA\n",
      "317:  @JillWineBanks @TheLastWord @11thHour @FrankFigliuzzi1 That folks like #Manafort and #Trump can rise to the highest positions of influence in the land is clear evidence how broken our 'justice' system is.\n",
      "273:  She really needs to go to jail and learn a hard lesson but because he's famous and we have a two-tiered justice system he will not see any jail time.\n",
      "So he will make a settlement with his victims it should be five million dollars or half of his net worth. https://t.co/9vtBTTkAlg\n",
      "763:  If Trump and the GOP respected our justice system, they'd say \"We will not do anything to interfere in or undermine the investigation and will give Mueller our full cooperation.\"\n",
      "\n",
      "#resist #trump #trumprussia #mueller\n",
      "696:  #MAGA The American Bar Association is challenging Jeff Sessions's draconian stance on criminal justice https://t.co/otr9rBB3f6 @dailykos #WednesdayWisdom\n",
      "152:  It’s quite obvious #LindseyGraham is implicated in the Russian state capture of the #TrumpRegime. He’s backing #Trump cow that the AG is his personal attorney and not an independent justice system rep. This is dictatorship in the making https://t.co/2OdEqdtqaa\n",
      "\n",
      "dem-lead\n",
      "\n",
      "521:  #DemDebate 1st hour: Serious issues. Immigration, health care, Wall Street, criminal justice reform. World of difference from any GOP debate\n",
      "567:  \"I have a real concern regarding criminal justice reform. I will stand up w/ any administration for reforming criminal justice system.\"\n",
      "800:  As a pediatrician, I understand that a 15-year-old child’s brain is not fully developed. Treating children like adults and sending them to adult prisons is cruel, immoral, &amp; unjust. Many children caught in the criminal justice system are victims of abuse themselves.\n",
      "539:  Raising awareness of International Criminal Justice Day. Stop genocide &amp; crimes against humanity #JusticeMatters https://t.co/3JXy8t5pXM\n",
      "456:  @PragmaticObot @PragObots @Kennymack1971 @waltb31 most everybody is for criminal justice reform including Gov Deal and ALEC\n",
      "262:  @fredvoros @Patbagley @RepChrisStewart I’ve held three and there’s another one next week hosted by @betterutah. The Representative was invited to the three I held (education, healthcare, and criminal justice reform) and declined.\n",
      "571:  On this anniversary of unrest in #Baltimore, I'm still pushing for criminal justice reform. I'm still dedicated to lessons learned 2 yrs ago https://t.co/mqg68k6pRs\n",
      "782:  Law enforcement asks Congress to support my bipartisan criminal justice reform bill because modernizing outdated and ineffective drug sentencing laws will make our communities safer. https://t.co/gzSyKv4RDU\n",
      "483:  We're leading the way on finding bipartisan solutions for criminal justice reform.  http://t.co/Xm5LLb08zU\n",
      "766:  First Sheriff Arpaio. Now Trump pardons Scooter Libby. A perversion of the pardon power and an instrument for clear obstruction of justice. He is sending a clear signal to others that he will reward obstruction of justice. Sad moment for our democracy and justice system.\n",
      "\n",
      "rep-lead\n",
      "\n",
      "510:  #ISIS will not be defeated by Pres. #Obama's half-hearted criminal justice effort against this ruthless enemy: https://t.co/wTqfnwgG3w\n",
      "126:  @RealRossU @realDonaldTrump @POTUS Hey Ross — I’ve signed your petition. \n",
      "\n",
      "You have very clearly been treated unfairly by our criminal justice system and my heart is with you and your family.\n",
      "\n",
      "Next time I am in Colorado, I’d like to come visit and help if I can.\n",
      "333:  Our ally Canada must stand strong and extradite her to the United States, where she will face something China does not have: a fair, impartial justice system. --&gt; https://t.co/jyqqaCxgNo\n",
      "125:  Elizabeth Warren should do an apology tour:  \n",
      "\n",
      "“Instead of lecturing the people of #Eastham, Warren should be apologizing for calling for the abolishment of ICE and saying that the entire criminal justice system is racist.” \n",
      "https://t.co/Vdaq0B76Di  #mapoli #masen #magop 1/2 https://t.co/ATcuzVAE1S\n",
      "118:  “.@SenWarren was shamefully wrong to call the entire criminal justice system racist. It was a grossly irresponsible statement. Warren should be supporting our law enforcement officers who put their lives on the line to keep our streets safe.” 1/2 #mapoli \n",
      "\n",
      "https://t.co/5AWMnHq2pq https://t.co/VteE2YEWR6\n",
      "634:  I’m disappointed with the justice system. Today was injustice to many who have lost family by Illegal Unvetted Criminals. #KateSteinle will have her peace.\n",
      "180:  @PardonRoss @RealRossU @realDonaldTrump @POTUS Terrible to learn that the judge considered pending charges during sentencing that were later dismissed due to corruption by federal investigators — and his appeal was still dismissed.\n",
      "\n",
      "This is not how our criminal justice system is supposed to work.\n",
      "439:  Criminal Justice Reform Ideas Coming http://t.co/VpLudve7 #gapol #gagop\n",
      "598:  @MCmuckraker Thanks for asking. We discussed criminal justice reform &amp; unfair sentencing, ending civil asset forfeiture, and stopping corporate welfare.\n",
      "124:  “Her call to abolish ICE and painting the entire criminal justice system racists are reckless and dangerous. She needs to both retract and apologize immediately.”  2/2  https://t.co/VqBBlLcSaC  #mapoli #masen #masen2018 #magop https://t.co/DmuGL21bLg\n",
      "\n"
     ]
    }
   ],
   "source": [
    "print_samples_all_groups(fp)"
   ]
  },
  {
   "cell_type": "markdown",
   "metadata": {},
   "source": [
    "### Governance"
   ]
  },
  {
   "cell_type": "code",
   "execution_count": 25,
   "metadata": {},
   "outputs": [
    {
     "name": "stdout",
     "output_type": "stream",
     "text": [
      "I'm trying\n",
      "Connected to political tweets DB\n"
     ]
    },
    {
     "data": {
      "image/png": "[encoded data removed]",
      "text/plain": [
       "<Figure size 432x288 with 1 Axes>"
      ]
     },
     "metadata": {
      "needs_background": "light"
     },
     "output_type": "display_data"
    }
   ],
   "source": [
    "gov = run_vader(\"governance\")"
   ]
  },
  {
   "cell_type": "code",
   "execution_count": 26,
   "metadata": {},
   "outputs": [
    {
     "name": "stdout",
     "output_type": "stream",
     "text": [
      "dem-base\n",
      "\n",
      "6415:  Ted Cruz supports an age tax. This tax will force seniors to give up their homes, and their independence. Say 'NO' to Ted Cruz and his insurance company friends. Vote for Beto O'Rourke. #BetoForSenate #VoteBlue #BetoForTexas https://t.co/CIAppPgJVs\n",
      "4124:  #Democrats Joe Donnelly and Mel Hall hope pre-existing condition coverage wins votes https://t.co/8TtEO3Zw97 via @SBTribune\n",
      "2092:  “Climate change isn’t an “issue” to add to the list of things to worry about, next to health care and taxes. It is a civilizational wake-up call...—spoken in the language of fires, floods, droughts, and extinctions...\"\n",
      " --Naomi Klein\n",
      "\n",
      "#QOTD #RESIST\n",
      "https://t.co/wQuT60GuzA https://t.co/20iSZgVwN8\n",
      "7319:  @braun4indiana This dude will kill your healthcare. Medicare. Social security.  #VoteDem #VoteBlue #ElectionDay\n",
      "7946:  @murgatr0id @voxdotcom Why aren't Chuck Schumer &amp; Nancy Pelosi pushing 4 #MedicareForAll?\n",
      "They're Neoliberal #Democrats choosing insurance companies over people's affordable healthcare !!! https://t.co/gGHfnPBTyU\n",
      "5617:  Wow.... She obviously has some mental health issues and possibly drug addiction but under that is pure hate and racism coming out...  #Resist #BlueWave https://t.co/UJHijWsPXm\n",
      "6169:  @realDonaldTrump Republicans are fired up to end protections for persons with preexisting conditions. Republicans are fried up to rob from your Social Security &amp; Medicare to pay for tax cuts for the top 1%. Republicans are fired up to lie, cheat, &amp; steal to get what they want! #VoteBlue\n",
      "4921:  Walker makes campaign-only promises to get re-elected.\n",
      "He started the lawsuit to eliminate the ACA.\n",
      "He has NO INTENTION of protecting pre-existing conditions.\n",
      "#VoteBlue to elect Tony Evers! https://t.co/ycMJyp1TAR\n",
      "1940:  Similarities between prison and inpatient mental health hospital:\n",
      "1. Police escort\n",
      "2. Strip search\n",
      "3. Use of restraints\n",
      "4. Inhumane treatment by staff\n",
      "5. Stigmatized by record of admissions\n",
      "6. Locked unit\n",
      "7. Held against will\n",
      "\n",
      "We need to change the whole system! #Resist\n",
      "8118:  Defend the Affordable Care Act in the Lame Duck https://t.co/vnq0bMUEW5 via @CREDOMobile #resist\n",
      "\n",
      "rep-base\n",
      "\n",
      "18086:  Trump's Credibility Gap: Trump says he'll visit Florida, emphasize \"mental health\" after school shooting #ParklandSchoolShooting #TheResistance #CNN #GOP https://t.co/PJgg6kjFvl\n",
      "19542:  #TomPrice on the effect of repealing the health care mandate in the tax bill: it will drive up COSTS https://t.co/NH3hdlNsZk #maga\n",
      "17695:  Good news! Thanks to @realDonaldTrump tax plan I’m making an extra $1,612!\n",
      "\n",
      "EVEN BETTER NEWS: Because of Trumps great handling of health care reform, that $1,612 goes completely away due to my premiums rising!\n",
      "\n",
      "#MAGA #SOTU #ReleaseTheMemo\n",
      "5619:  @Acosta Note to #MAGA -if you vote republican, your Medicare, Social Security &amp; healthcare will be cut to pay for the tax cut they gave the wealthy.\n",
      "17707:  @realDonaldTrump ...I KNOW YOUR SPEECH IS READY TO GO, BUT DO NOT SKIP OVER HEALTH CARE TONIGHT!!!!  VERY IMPORTANT FOR AMERICANS TO HEAR!!!  REMEMBER YOUR THEME...MAGA!!! #MAGA\n",
      "18283:  @Oprah America's 'gun problem' is also a mental one! A country run by gun lobbyists, who blame regular school shootings, on the mental health of the shooters: And not the availability of automatic weapons! #guns #GunReformNow #trump #schoolshooting #Americans https://t.co/liuU19hIVk\n",
      "3978:  #MAGA #CCOT #TCOT, are you okay with the @GOP gutting Social Security, Medicare, and Medicaid by $2 Trillion? That's TRILLION, with a T.\n",
      "\n",
      "You all must be millionaires with perfect health guaranteed for life. If not, call your reps: 202-224-3121 https://t.co/ajD7eERVRM\n",
      "18269:  Trump @potus pushes insurance that doesn't cover pre-existing conditions https://t.co/3Xq9Amx7XG via @gop #maga #obamacare\n",
      "238:  #MAGA @realDonaldTrump administration believes Obamacare’s preexisting conditions protections are now unconstitutional.  How do you support this policy?\n",
      "7843:  The healthcare insurance companies wants to put the brakes on losing their profits with the help of some friendly Democrats.  Health Insurance Lobbyists Team Up with Centrist Democrats to Crush Medicare for All https://t.co/ZDAvKjnJOs #medicare #GOP #Democrats #healthcare\n",
      "\n",
      "dem-lead\n",
      "\n",
      "15788:  They have a maniacal obsession with repealing the Affordable Care Act. That obsession is harming families across the nation.\n",
      "15378:  Now more than ever, our veterans need our help! We need to support increased funding for mental health &amp; other programs. @votevets #PTSD -AJ https://t.co/PlyQvAKKJO\n",
      "13301:  Trump’s budget says if you’re a Trump you get up to a $4 billion tax break, but if you’re working class you could lose your health care.\n",
      "11950:  The Affordable Care Act has helped millions of American families gain access to affordable #health care. I will fight to protect their care. https://t.co/VQCkkRYAiG\n",
      "1810:  Help send a whole slate of @justicedems to Congress to join the #MedicareForAllCaucus and help fight for health care for every American! https://t.co/80kUtWliyz\n",
      "12992:  It's Thursday, Mr. President, and your party is trying to throw 24 million people off of health care today. Are you still concerned? https://t.co/OSTJkw8XyC\n",
      "9897:  Thank you Pres. Obama @WhiteHouse for proclaiming May as National Mental Health Awareness Month #mhm2014 #EndStigma http://t.co/X3D592ToOO\n",
      "8880:  Tammy has a strong record of fighting for health care reform &amp; strengthening retirement security for WI seniors http://t.co/YFsZPnAR #WISen\n",
      "8537:  Jon voted to protect women's health care and individual freedom this morning by voting against the \"Blunt Amendment.\"\n",
      "16922:  In the name of handouts to corporations and the wealthiest Americans, the #GOPTaxScam\n",
      "\n",
      "• blows a hole in our deficit\n",
      "• raises the cost of health insurance \n",
      "• could raise taxes on the middle class \n",
      "• could make drastic cuts to Medicare and Social Security\n",
      "\n",
      "rep-lead\n",
      "\n",
      "2637:  Access to health and human services is essential for healthy communities. Thanks to @UnitedWay for helping more people in Wilkes County connect with local service providers through NC 2-1-1! https://t.co/0XeZ3pNqiT\n",
      "15945:  Thank you to NC Attorney General @JoshStein_  for fighting for affordable healthcare for all North Carolinians. https://t.co/gEU7vuZW6t\n",
      "2593:  @hatefakenews @ThomasWictor @steph93065 @MikeStefan66 Back in early 2017, Steph and I got into a huge dust-up over the merits of the Republican health care plan. She supported, I opposed. This was the Paul Ryan plan that never made it out of the House. It makes sense that she's a fake, in retrospect.\n",
      "16091:  Great to join @POTUS today at his announcement declaring the #opioidcrisis a public health emergency. https://t.co/GMGBYpsbhP https://t.co/GUFpoT1qmK\n",
      "16077:  Every day more than 1K Americans are treated for #opioid abuse. Appreciate @POTUS declaring this #OpioidEpidemic a public health emergency. https://t.co/zTTo4513EP\n",
      "8947:  ObamaCare must be repealed.  RT @politico Admin admits seniors may have to pay more for health care - http://politi.co/dus4n7\n",
      "7559:  Incidents of violence against workers in the industries health care &amp; social service appear at a rate 12X higher than the rates for the overall workforce. Proud to introduce this bill alongside my @edworkforcedems colleagues, which promotes a safer workplace for these men &amp; women https://t.co/q6eughgpv5\n",
      "19525:  Tammy Baldwin wants government to run everybody’s health care, but she won’t even answer when asked about what the British government’s decisions meant for poor Alfie Evans. Just wrong. #wisen #prolife https://t.co/uK98H8VXws\n",
      "17542:  Yesterday when @POTUS signed the Continuing Resolution into law, relief was delivered to countless businesses who were required to pay the Health Insurance Tax. Repealing the HIT tax will decrease monthly premiums and deliver more relief from #Obamacare taxes. @WaysandMeansGOP\n",
      "11223:  Rangel: Health Care Talks Stalled, Facing ‘Serious Problem’  --- We can only hope!\n",
      "\n"
     ]
    }
   ],
   "source": [
    "print_samples_all_groups(gov)"
   ]
  },
  {
   "cell_type": "markdown",
   "metadata": {},
   "source": [
    "### Guns"
   ]
  },
  {
   "cell_type": "code",
   "execution_count": 27,
   "metadata": {},
   "outputs": [
    {
     "name": "stdout",
     "output_type": "stream",
     "text": [
      "I'm trying\n",
      "Connected to political tweets DB\n"
     ]
    },
    {
     "data": {
      "image/png": "[encoded data removed]",
      "text/plain": [
       "<Figure size 432x288 with 1 Axes>"
      ]
     },
     "metadata": {
      "needs_background": "light"
     },
     "output_type": "display_data"
    }
   ],
   "source": [
    "guns = run_vader(\"guns\")"
   ]
  },
  {
   "cell_type": "code",
   "execution_count": 28,
   "metadata": {},
   "outputs": [
    {
     "name": "stdout",
     "output_type": "stream",
     "text": [
      "dem-base\n",
      "\n",
      "1819:  If you're looking for new ways to #Resist, check out https://t.co/aoCxf6XHQj. You can volunteer to help scientists with climate change and conservation projects!\n",
      "1795:  People don’t forget 53% of white women voted 4 trump in 2016. They put him in! After 656 days of tyranny against women, poor, immigrants, seniors, children, preexisting conditions, climate change etc.\n",
      "I hope 🤞🏼 &amp; pray 🙏🏼 many of those women have the guts to\n",
      "#VoteBlue 2 #GetHimOut\n",
      "1317:  #Kanye\n",
      "#resist\n",
      "#TheResistance \n",
      "#BlueWave2018 \n",
      "\n",
      "‼️‼️DON'T BE DISTRACTED!! by #kanyetrump ‼️‼️\n",
      "\n",
      "Climate change and the midterms are worthy of our focus right now.\n",
      "1151:  @dkw56ky @JennyDinVa @columlynch @clevergalCA Thanks for the reminder that @gop policies created #redtide - exactly what we don't want here in Florida.  We want clean air and water and a healthy tourism industry, not more dead fish and manatees. #VoteBlue\n",
      "\n",
      "https://t.co/GLMEq8iB9F\n",
      "5733:  @realDonaldTrump Deny science.\n",
      "\n",
      "Deny climate change.\n",
      "\n",
      "Deny gun laws.\n",
      "\n",
      "Deny facts.\n",
      "\n",
      "Deny clean energy.\n",
      "\n",
      "Deny healthcare.\n",
      "\n",
      "Deny multilateralism.\n",
      "\n",
      "Deny the world and its children a beautiful green Earth where people of all colors and creed will smile together.THIS IS AMERICA.\n",
      "#Resist #Deplorables\n",
      "1400:  #StopTrump #resist I just signed a @theactionnet petition: Sign this petition: Demand Congress hold Secretary Ryan Zinke accountable for working to destroy our public lands and waters. Sign here: https://t.co/ZbI7dRvk0K\n",
      "1428:  Dems want to talk health care, deficits, and climate change. GOP wants to talk porn stars and racial purity tests. Don’t ever say they’re the same party. #TuesdayMotivation #VoteBlue\n",
      "2384:  @CNN 🗣Stop the #Democrats now before they legislate spraying chemicals into the atmosphere to slow climate change‼️\n",
      "🗣🗣#CarbonTaxScam\n",
      "#GlobalWarmingScam\n",
      "Liberal left is out-of-control😖\n",
      "349:  \"#Kavanaugh has overruled federal regulators 75 times on cases involving clean air, consumer protections, net neutrality and other issues.\"\n",
      "\n",
      "#p2 #resist #climate https://t.co/5coC6pMH0Y\n",
      "282:  You would think elected officials, no matter how greedy they are, would care about things like clean air, water, livability for their kids and their kids. Amazing how much greed and power control people. \n",
      "\n",
      "Thus we MUST continue to #Resist\n",
      "\n",
      "rep-base\n",
      "\n",
      "5304:  Americans are demanding clean energy, better vehicles — #Trump is pushing the opposite: The Hill https://t.co/ypB9Atqxl3 #renewable #environment\n",
      "4878:  Climate change threatens future of golf: report - Sad weekends for Trump! https://t.co/H5xsrBemPR via @physorg_com #climatechange #climatechangeIsReal #ActOnClimate #climateaction #Trump #Golf\n",
      "1386:  #Trump says climate change not a hoax, not sure of its source: News-Times https://t.co/q3ss8DT9xo | More on Facebook: https://t.co/WQMe9UtP9l\n",
      "1341:  The #1 thing you can do about climate change is to vote the #GOP out of our government!!!!!\n",
      "2308:  @Samantha__V__ @p1gsfly @ShepRose What a hypocrite u r not to mention spreading lies.Don’t know what kind of bible u read ,filled with hate. #Trump spent $100 M to save this country donating his salary to National parks, Veterans Cemetery&amp;Vets small businesses.U should take ur nose out of ur fake bible.\n",
      "4781:  Climate Change Deniers should be forced 2 only buy Beachfront properties. \n",
      "\n",
      "These R the same people who think Smoking is good 4 your health.\n",
      "\n",
      "They do not believe Seat Belts or Air Bags Save Lives. \n",
      "\n",
      "Or that Medical Waste on Beaches is bad\n",
      "\n",
      "#FBR #FBResistance #TheResistance #MAGA https://t.co/gy63EmDHAg\n",
      "5422:  @swcrisis @irkantska @toll_gordon @NikolovScience @PMS280153 @caerbannog666 @tjtjgeol @SookyBlessingtn @NovStormbringer @StormSignalSA @Mcschweety @helen_poppet @JamesAbbott2013 @priscian @GillesnFio @cbfool @kmpetersson @SapiensCato @cmcateer3 @craigthomler @scotpolitik @EthonRaptor @redforged42 @SConwaySmith @SturmLLiouville @ClimateAudit @Michael_D_Crow @JaggerMickOZ @RogTallbloke @Ike_Kiefer @KatyDuke @GYFHAS @readthelight @Gladfly1 @Bill963 @EstBrahphet @Bronowskiite @mrbinnion @terrymorse @johnosullpsi @EcoSenseNow @3GHtweets @FactFascist @trippfunderburk @chaamjamal @lunartom @nicolasDenver @BestStephen @Zerilos @Canberroo Recently taken at a #ClimateDeniers annual meeting to discuss the effect of sunspots, earth's rotation, and magic heat have on climate change... #VoodooScience theories cheerily exchanged.. 😂 #MAGA is an STD https://t.co/J4Ri8Cro1A\n",
      "4937:  @FoxNews does Trump understand the future is clean energy? Or does he only want to line the pockets of his rich oil buddies? https://t.co/25SxWHgbpn\n",
      "1403:  “Within several decades after Trump’s presidency has ended, the looming effects of ecological disaster due to human-caused climate change—which Trump not only denies but is doing so much to accelerate—will be inescapable.” https://t.co/eyeJvLwqNR #climatechange #Trump\n",
      "5606:  The same dirtbags that are taking away education for our kids are the same one taking away clean air and clean water.\n",
      "In other words, Fuck the next generation. Why should the old and rich care if your kids survive?\n",
      "\n",
      "#FoxNews?stateTV #MAGA?nope\n",
      "#CNN #MSNBC\n",
      "\n",
      "dem-lead\n",
      "\n",
      "3615:  Climate change is real. We ignore it at our peril. What Donald Trump is doing will set us back YEARS in this fight. https://t.co/UxjvtWCxhc\n",
      "4241:  President Trump talks about bringing back fossil fuels. It’s not going to happen. Solar is the future. https://t.co/tTo6bXJReu\n",
      "3053:  Celebrating 45 years of the Clean Air Act. We must continue to protect our planet and Americans’ health. https://t.co/NaBt6g32EK\n",
      "3710:  Join me tomorrow on Facebook Live at 11:30 a.m. EST for a conversation about the movement to combat climate change with @billmckibben. https://t.co/N6wLr29Sxt\n",
      "5521:  Today in National Park Week: 4 miles &amp; 1000 vertical feet of the 2180+ mile long Appalachian Trail winds through #WV, mostly in historic Harper’s Fairy, a National Historic Landmark. This makes it easy &amp; fun to explore 2 parks at once! #FindYourPark https://t.co/Xza360Abjn\n",
      "4726:  @ciaparo @HippeeDipeeChic I agree with nature healing itself. However it doesn't happen in a vacuum. We must have responsible and strong environmental protections. There are alternatives for farmers that would protect the environment and keep farmers production strong.\n",
      "436:  CA is leading the way on protecting the environment. We cannot let President Trump take away all of the progress we've made. https://t.co/aL7SLZP04H\n",
      "5539:  I will always work toward more affordable, accessible healthcare, quality education, workplace development and technical training, better jobs and protecting our environment. If you support that, support me! #HaganForHouse #BlueWave2018 #PowerToThePeople\n",
      "\n",
      "https://t.co/6g8GvQ3ABo\n",
      "3431:  These aren’t “alternative facts.” Norfolk and DoD are already facing the effects of climate change. #climatefacts\n",
      "\n",
      "https://t.co/G77m8EEhDY\n",
      "2774:  Since improvements to Clean Air Act were enacted in ‘90, USA saved $22 trillion in health care costs. #ActOnClimate http://t.co/Bj6hL7DN3O\n",
      "\n",
      "rep-lead\n",
      "\n",
      "2386:  @JeffFlake @ChrisCoons Climate change is a phenomenon that predates humans.  In fact, the Earth is much cooler today than her historical average.  \n",
      "\n",
      "Humans are insignificant in the greater scheme of the universe.\n",
      "2943:  We can protect our environment without a massive regulatory bureaucracy in Washington, DC.\n",
      "1614:  Discussions surrounding clean energy and advanced manufacturing took center stage yesterday at @ORNL's Innovation Crossroads program. This program creates a platform for participants to foster the strong entrepreneurial spirit harbored\n",
      "4286:  #GOPBudget will slash America’s commitment to:\n",
      "\n",
      "-infrastructure\n",
      "\n",
      "-job training\n",
      "\n",
      "-clean energy\n",
      "\n",
      "-research &amp; development\n",
      "3326:  Grateful to have @denverpost endorse my bipartisan bill (HR 2663) the Public Land Renewable Energy Development Act. https://t.co/l0x0ZXav24\n",
      "4942:  Our children deserve clean air, water, and public lands. Yet instead of committing himself to protecting public health, all @realDonaldTrump has to offer is a #DirtyBudget that puts corporations first – and our children last. #TrumpBudget\n",
      "4451:  Big money is stealing our country. Our political leaders are handing it off to them while we argue with one another. The president wants to shrink our national monuments (currently Bears Ears and Grand Staircase) and open up 2 million acres to fossil fuel extraction.\n",
      "2871:  On Floor to discuss failed #Obama national #security strategy that goes as far to identify climate change as a threat on par with terrorism\n",
      "3838:  The facts and science are clear: climate change and pollution harms our planet, and we need to act. \n",
      " \n",
      "Instead,... https://t.co/LH8V7UeQay\n",
      "3659:  National Parks are not only beautiful, they bolster our nation’s economy. #NationalParkWeek #FindYourPark https://t.co/K4O28d55DQ\n",
      "\n"
     ]
    }
   ],
   "source": [
    "print_samples_all_groups(guns)"
   ]
  },
  {
   "cell_type": "markdown",
   "metadata": {},
   "source": [
    "### Health"
   ]
  },
  {
   "cell_type": "code",
   "execution_count": 29,
   "metadata": {},
   "outputs": [
    {
     "name": "stdout",
     "output_type": "stream",
     "text": [
      "I'm trying\n",
      "Connected to political tweets DB\n"
     ]
    },
    {
     "data": {
      "image/png": "[encoded data removed]",
      "text/plain": [
       "<Figure size 432x288 with 1 Axes>"
      ]
     },
     "metadata": {
      "needs_background": "light"
     },
     "output_type": "display_data"
    }
   ],
   "source": [
    "health = run_vader(\"health\")"
   ]
  },
  {
   "cell_type": "code",
   "execution_count": 30,
   "metadata": {},
   "outputs": [
    {
     "name": "stdout",
     "output_type": "stream",
     "text": [
      "dem-base\n",
      "\n",
      "2998:  Expose hypocrisy: Trump wants to let Wall Street exploit troops (sign now) https://t.co/Rzodk5tVsE via @CREDOMobile #resist #TrumpParade\n",
      "21472:  @Cbehler2112 @fostercoburn @realDonaldTrump If the economy is doing so great, why has the Dow trended downward for the last 3 months. Not long after the threat of a trade war. Hmmm...\n",
      "\n",
      "#VeryStableGenius #Resist #CohenTapes #NixonTapes #CadetSpankyBonespurs\n",
      "5467:  @SteveKingIA Pot Bellied Noodle Armed Hunchbacked Hairless Dwarf Nazi #SovietStevie is complaining about our low unemployment rate? \n",
      "\n",
      "Lil #StupidStevie needs to go.\n",
      "\n",
      "#25Days2Midterms \n",
      "#BlueWave\n",
      "884:  Children, James. Remember what they are? I know you’ve probably retired to living under a bridge by now, &amp; the new job entails trying to eat them, but the rest of us are trying to care for them. You know...like human fucking beings. https://t.co/JnI1so8BEi\n",
      "7993:  Why is it that Republicans waited until the last minute to #FUNDTHEWALL Why is it that #Democrats #Republicans are getting paid during the #ShutDown https://t.co/dnVX7tox9b\n",
      "391:  Good Job ! And Right On ! #Resist #ImpeachTrump https://t.co/2n0CeaSspL\n",
      "21775:  @larryelder @tneeb475 🤣😂Presstitute! TRUTH! \n",
      "\n",
      "NBC's Chuck Todd Asks Porn Star's Lawyer: 'Are You Trying to Win [a case or take down a President...how were you harmed?]  \n",
      "\n",
      "She wasn't ...just playing #DemocRATs narrative and getting PAID!!\n",
      "https://t.co/w8Ct1rxZjI) https://t.co/w8Ct1rxZjI\n",
      "8090:  @realDonaldTrump such incompetence that we are headed for the WORST December for the stock market all the way back to the Great Depression......😳 doesn’t feel like winning! AND January 3rd is coming up fast! #resist #persist #notonemoreMDS #LockHimUp  😳  oh shift!\n",
      "7392:  GM to cut 15% of its workforce and close iconic US plants\n",
      "https://t.co/Nriv3Vyufv ⁦@realDonaldTrump⁩ ⁦@SpeakerRyan⁩ ⁦@SenMajLdr⁩ EXPLAIN how the #GOPTaxScam and the $M in tax breaks are great for middle class? You are FILTHY LIARS. #VoteBlue #NeverAgain #GOPlies\n",
      "2606:  Stop Wall Street vultures from exploiting Puerto Rico. Pass debt relief now. https://t.co/wmnksDEry8 via @CREDOMobile #resist\n",
      "\n",
      "rep-base\n",
      "\n",
      "17821:  DaShanne Stokes, “Thou shall not bear false witness.”  You sound like a nitwit trying to discredit our beloved president.\n",
      "Educate yourself to POTUS’ great works for Americans. https://t.co/1JqURu0HfL\n",
      "18193:  Our President doesn't have enough problems with our crap msm? He has to face abuse from the Germans, too?--Nice! Good job, Germany. What an ally you are. (NOT) May God bless President Trump. #MAGA!! https://t.co/1JKTscPJy5\n",
      "5703:  ATTN FL Voters: Andrew Gillum wants to raise FL Business taxes 40%\n",
      "\n",
      "Gillum is Bad for Business, Bad for Business owners, Bad for Florida\n",
      "\n",
      "Vote for @RonDeSantisFL Gov of Florida on Nov 6th\n",
      "\n",
      "RT and Follow these Patriots #MAGA https://t.co/w0tced9q1h\n",
      "18744:  Stock market sell-off: Dow futures tumble over 400 points https://t.co/385PhkWre9 via @CNNMoney worst down since 2011 #MAGA\n",
      "18406:  Which SLOGAN works for @TheView @MeghanMcCain #MAGA NO AMERICANS allowed --&gt;  https://t.co/wwn4WigBjE   #deplorables\n",
      "22002:  The Man is getting the Job DONE !! https://t.co/yTkD0fr9FZ\n",
      "4052:  @realDonaldTrump Spot on President Trump, main street is coming back and the middle class will Be Back! #MAGA is happening everyday!\n",
      "7715:  @senatemajldr Mr. McConnell, let all the donors know that The @GOP @GOPChairwoman is the party of the middle class .. the American workers and small business .. We support Responsible Big Business and not big government .. its that simple .. let this message be known .. \n",
      "#WeThePeople \n",
      "#MAGA\n",
      "603:  TRUMP SAYS HE IS WORKING FOR THE PEOPLE?\n",
      "\n",
      "HE’S A GD EVIL BULLY - WE DO NOT NEED HIM.\n",
      "\n",
      "NEXT THE A-HOLE WILL BE TAKING OUR 401Ks &amp; MONEY FROM OUR BANKS.\n",
      "\n",
      "#Trump 🐷\n",
      "#NetNeutrality\n",
      "\n",
      "Net Neutrality Is Officially Dead. Here’s How You’ll Notice It’s Gone. - Slate https://t.co/80YkwjXULb\n",
      "2720:  @freedom_moates Goodbye and good riddance. And would wish West Virginia better luck next time, except it takes more than luck. The legislature has to do a better job of vetting Candidates!!Consider Republicans. #GOP #VoteRed\n",
      "\n",
      "dem-lead\n",
      "\n",
      "5669:  Oregon City is undergoing a transformation, and I appreciated the opportunity to meet with many of the business owners who are doing that work today at “Good Morning Oregon City.” Big thanks to the @oc_chamber of Commerce and @CitizensBank for hosting. https://t.co/bVooGeuXm5\n",
      "12074:  The 2016 candidates should say: We don't run this country for Wall Street - we run it for people. Watch: https://t.co/oMQzvcMspV #nn15\n",
      "14168:  Joe always stood up for the Range &amp; middle class families in MN leg. Great way to honor this fighter. https://t.co/ycTBRUIkFw\n",
      "15090:  On this Labor Day, a reminder we must continue to do better to support workers' rights and fair pay: https://t.co/wHbjRwXMfY\n",
      "16966:  Repealing #NetNeutrality will be a disaster for #CA04 consumers &amp; small businesses, especially in our Sierra communities. McClintock's response: [crickets chirping]. This is a failure of leadership. As MOC, I won't stay silent - I'll fight for a free &amp; open internet.\n",
      "10563:  Another day, another #ACA repeal attempt and another vote that doesn't create jobs, #RaiseTheWage, or #RenewUI. #50GOPFAILS\n",
      "14513:  Instead of working to protect American families, Congress would allow Wall St. to gamble w/ hard-earned paychecks. https://t.co/qXVvqDQ3Zm\n",
      "13392:  .@KamalaHarris will be a champion for the middle class in the U.S. Senate and a strong voice for moving our country forward.\n",
      "2805:  I’m advocating for those workers who want our infrastructure rebuilt with American steel, American iron, and American workers. 9/ https://t.co/rlHs5JzfS0\n",
      "9832:  Post-#SOTU, Jon speaks of creating jobs &amp; moving our economy fwd \"in a way where our kids &amp; grandkids can be proud.\" http://t.co/X3b0awQu\n",
      "\n",
      "rep-lead\n",
      "\n",
      "3439:  This comes on top of recent news that consumer confidence has hit an 18-year high, the stock market is setting new records, and jobless claims are hovering near their lowest level in half a century.\n",
      "14642:  Informative convo w community members &amp; business owners at roundtable in Columbus, NE this afternoon. #LoveNE #EconomicDevelopment https://t.co/bTn4q6SyOw\n",
      "21169:  Don’t tell American steel and aluminum manufacturers they cannot meet demand.  Targeted tariffs along with smart deregulation will put Americans back to work.  Americans want to work!  Who would have believed the U.S. would be crowned “King of Oil” in the 70’s &amp; 80’s.\n",
      "5619:  What an honor to welcome President Donald J. Trump to the 6th District on Saturday!\n",
      "\n",
      "I'm proud of the work we are doing for the American people, and what an overwhelming show of support for an agenda of results over resistance.\n",
      "#KY06 https://t.co/RCLU0vSxDd\n",
      "3755:  Spent some quality time talking w/ Bob Smith, the owner of one of RI's great small businesses, the RI Clam Company, learning as much as I could about the clam trade. Proud to have this great company here in #RhodeIsland. As U.S. Senator, I will do more to support small business! https://t.co/NpZLV0vA9M\n",
      "13174:  The @NFIB has helped many #smallbiz to succeed. I'm grateful to have received NFIB Guardian of Small Business award. https://t.co/F6Oypx3huR\n",
      "19416:  The numbers speak for themselves. Deregulation, tax reform, and pro-business policies are growing our economy. Getting big government out of the way the American people and hardworking families helps our nation thrive. https://t.co/7IvYsPutJu\n",
      "15067:  A complete tax overhaul will allow families to thrive and employers to create jobs: https://t.co/iXdGxZXVzC https://t.co/HTwJL2wM9S\n",
      "6695:  Lots of enthusiastic support at the Ballard Craft Fair in Wilton - Thank you to so many small businesses for your continued support! #NY21 #GOTV https://t.co/kVTvmLwIYA\n",
      "5016:  Wages are increasing, unemployment is decreasing, and there are more jobs for the people of Missouri! I fought for this economic growth in Congress, and now we’re better off. We cannot risk a return to the Obama era. https://t.co/yxgUN5lFZG\n",
      "\n"
     ]
    }
   ],
   "source": [
    "print_samples_all_groups(health)"
   ]
  },
  {
   "cell_type": "markdown",
   "metadata": {},
   "source": [
    "### Immigration"
   ]
  },
  {
   "cell_type": "code",
   "execution_count": 31,
   "metadata": {},
   "outputs": [
    {
     "name": "stdout",
     "output_type": "stream",
     "text": [
      "I'm trying\n",
      "Connected to political tweets DB\n"
     ]
    },
    {
     "data": {
      "image/png": "[encoded data removed]",
      "text/plain": [
       "<Figure size 432x288 with 1 Axes>"
      ]
     },
     "metadata": {
      "needs_background": "light"
     },
     "output_type": "display_data"
    }
   ],
   "source": [
    "imm = run_vader(\"immigration\")"
   ]
  },
  {
   "cell_type": "code",
   "execution_count": 32,
   "metadata": {},
   "outputs": [
    {
     "name": "stdout",
     "output_type": "stream",
     "text": [
      "dem-base\n",
      "\n",
      "2977:  Republicans in Congress are planning major cuts to Medicare, Medicaid and Social Security. Sign the petition now to say #NoCuts: https://t.co/M2HnKrb8CU @CREDOMobile #p2 #resist #HandsOff\n",
      "1984:  Democrats need a united front to block McConnell and Trump from effectively abolishing Social Security, Medicare, and Medicaid.\n",
      "\n",
      "If the GOP has its way in 2020, it will soon be Medicare for None\n",
      "\n",
      "#Resist https://t.co/5t9xYafmv3\n",
      "1423:  @realDonaldTrump HEALTHCARE — PRE-EXISTING CONDITIONS —\n",
      "You continuously try to strip them from us.\n",
      "Now @senatemajldr says you will try to take our Social Security and Medicare to cover your huge deficit brought on by tax cuts for the rich.\n",
      "\n",
      "#IMPEACH #BLUEWAVE https://t.co/m7BMUaPez9\n",
      "3053:  Ohio isn't going to fall for the empty promises from @RepSteveChabot again. Chabot ran on protecting senior's social security and Medicare. So, far he has rubber=stamped Trump and laughed in the faces of the people who voted for him. Ohio won't be fooled again. https://t.co/2hsn2NxuCH\n",
      "1842:  @Denver4VA @Denver4VA:\n",
      "👉supports #GOPTaxScam that saved him lots of money &amp; gives 83% of the benefits to wealthy &amp; corporations, adding $1.9 trillion to the national debt\n",
      "👉supports an “age tax,” to increase seniors’ healthcare premiums\n",
      "👉wants to cut Social Security &amp; Medicare\n",
      "#VoteBlue\n",
      "1197:  #VoteBlue All of the social programs and civil rights listed are supported by Democratic values and will be limited by the Republicans. Note that Republicans are saying Medicare &amp; Social Security must be cut to make up for the deficits created by the new tax laws. Vote smart https://t.co/PCkT2uzTSE\n",
      "1275:  If Dems could obstruct, the tax scam would never have passed, kav would be unemployed, and we would not be fearing losing our healthcare, social security or medicare!  Truth is Dems currently have no opportunity to obstruct. We need a check on trump!  VOTEBLUENO MATTERWHO!! https://t.co/irHpI3iPYd\n",
      "1813:  @CNN Republicans are still trying to kill eveyone's healthcare / social security / medicare so they can get richer! #GOPVotingBlue\n",
      "#VoteBlue #VoteDem\n",
      "https://t.co/5xGJooZxS4\n",
      "1658:  @GOP want to STEAL our SOCIAL SECURITY \n",
      "MEDICARE\n",
      "\n",
      "#Trumpers #TheResistance\n",
      "\n",
      "#VoteBlue https://t.co/8iKNAasVzK\n",
      "900:  My Arizona early voting mail-in ballot came today. In the next hours, I will be voting to preserve women's rights, LGBTQ rights, healthcare, Social Security, our environment, our public schools. But that won't mean I'm done. I'll still be working. This is too important. #VoteBlue https://t.co/H95S6bXWZs\n",
      "\n",
      "rep-base\n",
      "\n",
      "1025:  @SenatorDurbin @gollum1419_g How long will the #GOP keep this up? They blow up the deficit with tax cuts then blame something that has nothing at all to do with the deficit. Social Security &amp; Medicare are self funded. Let's face it. The #GOP hates the social safety net. #VoteThemOut\n",
      "515:  #MAGA, we are NOT raiding Medicare for \"Socialism\"\n",
      "Medicare is a form of Govt socialism...but thats not the issue...\n",
      "Ryan &amp; McConnell want Soc Security &amp; Medicare \"reformed\", which means they will take the money you put into Soc Sec for 35 years.\n",
      "@GOP wants YOUR $$\n",
      "Trumps wrong https://t.co/INXehiIjyf\n",
      "1955:  Social Security going up???  Imagine that!!!\n",
      "Some people absolutely\n",
      "AMAZE me :)\n",
      "#MAGA\n",
      "626:  What about \"retired\" folks like me, now receiving benefits from Medicare and Social Security into which we've paid for many decades, who are hearing all the #GOP talk about reducing benefits in both programs? What about those students with crushing college loan debt?\n",
      "2663:  OMG, thanks to tax cuts working tax payers will have to pay $1,500,000,000,000 in new national debt that went to fund tax cuts for the Rich.  Pay attention #MAGA, the @GOP is coming to take your Medicare, Obamacare, Medicaid and Social Security to pay off the debt. https://t.co/iqRz8f7ypQ\n",
      "2784:  @michaelbeatty3 Law, get rid of them after 2 x 3years max.??? voting fingerprints&amp; social security no?? Avoid corruption that way??? @realDonaldTrump @WhiteHouse @JudicialWatch @DonaldJTrumpJr @FiveRights @FoxNews @seanhannity @bbusa617 @SebGorka @StockMonsterVIP #MAGA\n",
      "2779:  Run the debt and deficit up to unsustainable levels, then blame it on the Social Security\n",
      "\n",
      "The #GOP sucks.\n",
      "\n",
      "#ReturnTheMoney \n",
      "#NeverAgain #ccot #dems #GOP #libcrib #news #maga #MSM #ocra #ofa #p2 #resist #TCOT #TLOTW #trending #UniteBlue @cspanwj\n",
      "1617:  Passing a #TaxScam for billionaires, taking healthcare away from millions of Americans, planning to cut Medicare and Social Security to pay for tax cuts. Deficit up 18% in the last year. Endless scandals, lies and corruption. The 2018 @GOP https://t.co/lpmCn6r5wB\n",
      "2951:  *Misplaced Credit*\n",
      "\n",
      "The Democrats are the ones who brought in the FDA, worker’s rights, workman’s compensation. They’re the ones who put in Medicare. They’re the ones who put in Social Security. \n",
      "\n",
      "https://t.co/qTyvx3ooKs #Trump #CultureWar #ClassWar\n",
      "564:  @Bevleslie1 @BillyBaldwin I saw so many older folks with 4O1ks under 25k.  They will be totally screwed if #GOP messes with Social Security and medicare.  A lot of ppl invested in employer stock of now-gone companies, and planned on pensions, retiree insurance that didn't happen.\n",
      "\n",
      "dem-lead\n",
      "\n",
      "758:  23/ My PROPOSITION agenda includes: a country that expands social security, which is an EARNED benefit program that showcases the best of all of us taking care of all of us;\n",
      "3076:  Met some great folks in Lake Mary who are concerned about protecting Social Security and our environment. There’s so much at stake in this election and we all need to work together to ensure the people of Florida have someone fighting for them in the Senate. #NelsonsNeighbors https://t.co/pk8njnn4yW\n",
      "326:  On this day in 1935, FDR signed Social Security into law as an insurance program and a promise to American workers. No one should retire into poverty after a lifetime of work.  This is the insurance that YOU have paid for and the benefits that you have EARNED. https://t.co/Z3EhbcJFej\n",
      "6:  Love seeing our ad in @RoanokeTribune - come out and vote June 12th! \n",
      "\n",
      "The message:\n",
      "\n",
      "Fight racism, protect voting rights, and reform our broken criminal justice system. \n",
      "\n",
      "Stop Congress from cutting Social Security, Medicare, and Medicaid. https://t.co/gVll6aXRBI\n",
      "1296:  I am fully committed to the preservation of Social Security. \n",
      "It is one of the most successful government programs in our history and may well be the most popular. https://t.co/jv8GXquAd7\n",
      "2056:  Happy 77th birthday, Social Security! #masen #mapoli http://t.co/teNPH0Z6\n",
      "491:  Grateful to receive the endorsement of the White Springs Town Council. They’ve entrusted me with their support, because whether it’s fighting to protect Medicare and Social Security to investing in education and our future, I will always put Florida first. https://t.co/7wULlyF1rU\n",
      "2560:  We need to keep the promises we've made to Americans who worked hard and paid into Medicare &amp; Social Security. This is one reason why the #GOPTaxPlan is so dangerous - we can’t let Medicare and Social Security be next up on the chopping block! https://t.co/BgYdMP0ax2\n",
      "774:  Social Security and Medicare have given generations of Arizonans the financial and health security they need in retirement. I will always work to protect these critical programs from cuts. #AZ01 https://t.co/kaH3rLuWZF\n",
      "2068:  Proud to be endorsed by the National Committee to Preserve Social Security and Medicare!  We must protect these... http://t.co/tGvn2NAL\n",
      "\n",
      "rep-lead\n",
      "\n",
      "2100:  FYI: 7 New Social Security Rules for 2013 http://t.co/66iGgnFz\n",
      "3048:  J-1 has no prevailing wage requirement, employers can pay the visa  holders lower wages than those U.S. workers earn in similar occupations . Employers are exempt  from paying the Social Security, Medicare, federal and state  unemployment taxes on J-1visa holders.\n",
      "2982:  In @SenatorMenendez’s first year in Congress, he voted to raise taxes on Medicare &amp; Social Security recipients #TaxDay #MenendezTaxHikes #NJSen https://t.co/xxluqPgLwl\n",
      "26:  The #GOPTaxScam for the rich is doing even more damage than we expected. According to @USCBO, it’s creating even more debt than expected – further endangering Medicare, Medicaid &amp; Social Security.\n",
      "2112:  One of my highest priorities is ensuring Social Security is solvent long into the future. Today in the Ways and... http://t.co/R23MQHO91j\n",
      "2119:  Sure - I will call my staff tomorrow and have them scan in my coverage - without my social security numbers, policy number etc -\n",
      "2673:  Let's look back on a #AYearOfTrump: Candidate Trump promised he wouldn’t touch Medicare and Social Security. President Trump blew a $1.5 trillion hole in the deficit that he’ll use to go after our earned benefits. We must protect these critical programs.\n",
      "2658:  I want to assure people I will not stop working until a solution is  found. In the meantime, our office will remain open, accessible and able  to help as many people as possible with the things they need such as  social security checks, Medicare, or veterans issues.\n",
      "2888:  Great round table this afternoon at the Harrison County Seniors Center where we talked about our efforts to protect social security and enhance seniors’ food security. https://t.co/C9TlieILO7\n",
      "1609:  #ElizabethWarren’s big lie about cutting Social Security and Medicare is as false as her tax filings.  The only scam is that she is running for Senate.  She only has eyes for The White House.  #WCVBDebate\n",
      "\n"
     ]
    }
   ],
   "source": [
    "print_samples_all_groups(imm)"
   ]
  },
  {
   "cell_type": "markdown",
   "metadata": {},
   "source": [
    "### Puerto Rico"
   ]
  },
  {
   "cell_type": "code",
   "execution_count": 33,
   "metadata": {},
   "outputs": [
    {
     "name": "stdout",
     "output_type": "stream",
     "text": [
      "I'm trying\n",
      "Connected to political tweets DB\n"
     ]
    },
    {
     "data": {
      "image/png": "[encoded data removed]",
      "text/plain": [
       "<Figure size 432x288 with 1 Axes>"
      ]
     },
     "metadata": {
      "needs_background": "light"
     },
     "output_type": "display_data"
    }
   ],
   "source": [
    "pr = run_vader(\"puerto_rico\")"
   ]
  },
  {
   "cell_type": "code",
   "execution_count": 34,
   "metadata": {},
   "outputs": [
    {
     "name": "stdout",
     "output_type": "stream",
     "text": [
      "dem-base\n",
      "\n",
      "660:  @senatemajldr Is this Mitch McConnell parody account? Or has the opioid crisis in Appalachia found its way to your doorstep? You are a disgrace to America and all she represents.\n",
      "#Resist\n",
      "568:  OH LORD! Trump has Melania addressing the press about the #MAGABomber What the actual Fuck. What an actual joke. Then, the opioid crisis?? Her scripted “speech” is SO NOT CREDIBLE. This is our first family?? #VoteThemOut\n",
      "1663:  May we be so lucky. It looks like Dr. #RonnyJackson is #DoctorFeelGood in more ways then just reportedly dispensing uppers &amp; downers like candy. The #CandyMan knows what it takes to make #Trump feel good. Just what we need with the opioid  crisis killing our vets,. https://t.co/F5bAv50DoW\n",
      "1432:  @MattGertz How much longer can we accept this? Such an epic embarrassment. Now we have an arms race, mass shootings, opioid crisis, stock market dollar coaster....he's watching TV. This is reality. It's Friday, he dips out about noon and hits the links. #AlexBaldwin #IdiotPresident #Resist\n",
      "1339:  So I hear that during the #SOTU trump talked about the opioid epidemic for a sec or two..was 'sympathetic'..this crisis does not need sympathy..if there was an 'empathetic' cell in your body you would know what 2 do..but we see what your cells are made from &amp; soon, iron. #resist\n",
      "137:  @Stardusty0407 @realJadesdream @ARAdultImmDoc @DariusTrimble19 @realDonaldTrump He HAS turned on his base! Soybean farmers hurt by China tariffs, ditto small manufacturers, opioid crisis not declared national emergency/no new funds, etc etc etc! #BlueWave2018 desperately needed!\n",
      "628:  Proudly cast my ballot today for @NHDems including @NHMollyKelly and @AnnMcLaneKuster! This is the team that will fight for our health care, infrastructure, ending the opioid crisis, gun safety, defending human rights, and so many other important issues. #NHPoli #BlueWave https://t.co/yvVrjMhnwh\n",
      "663:  @KellyannePolls The nation's opioid epidemic is the 'crisis next door' And where is tRump? Taking orders from  @Bully wife, #fear and #hate #votethemout https://t.co/lo79QKmUHA\n",
      "1345:  Bernie Sanders wants pharma CEOs to testify on opioid crisis\n",
      "\n",
      "NO UNITY If DNC Keeps 'ANY' SUPERDELEGATES\n",
      "#BERNIE2020\n",
      "#p2 #PDA #1u #OurRevolution #ctl #uniteblue #resist #theResistance #resistance #COpolitics #COpols #COleg\n",
      "https://t.co/NsKMSAx2y5\n",
      "1384:  @realDonaldTrump @foxandfriends You put #KellyanneConway in charge of the National response. At best, it akin to doing nothing. Or, worse, it’s like putting Kellyanne Conway in charge of the National response the opioid crisis. #TrumpLies #FakePresident #ImpeachTrump #Resist\n",
      "\n",
      "rep-base\n",
      "\n",
      "686:  [(4/4) Dems r mostly 2 blame 4 t collective American Citizen Opioid Epidemic massacre, as a result of NOT being 4 #BorderSecurityWithTheWall. They own this, they were 4 it b4, but not now. Meanwhile, (#DavidBowie’s) ‘#TheYoungAmerican[’s] keep dying] #MAGA https://t.co/lQqQxCs5gD https://t.co/1Zk9IpBFaU\n",
      "1461:  @RepMimiWalters @IvankaTrump @realDonaldTrump @WhiteHouse @SenateGOP @HouseGOP @SenateMajLdr @SpeakerRyan @GOP\n",
      "\n",
      "Jump In Overdoses Shows Opioid Epidemic Has Worsened.\n",
      "#Trump &amp; the #GOP refuse to face Big Pharma Opioid Pushers killing us for profit!\n",
      "#TrumpCrimeFamily\n",
      "#RIPGOP\n",
      "#RIPAmerica\n",
      "https://t.co/TcceqOZkHg\n",
      "1382:  @EricHolder Uh #numbnutts what did your administration do for the opioid epidemic.  Word is your justice department made it easier for drug companies to offload opiates to the American people. I pray @POTUS does something and your butt gets what you deserve you #Traitor #LockThemAllUp #MAGA\n",
      "1389:  Focusing on deporting tax-paying parents and catering to corporations is way more humane and logical than resolving to reduce gun violence and the opioid crisis said no one ever. \n",
      "\n",
      "Oh...ummm....sigh. Yup, 45.\n",
      "#gop #nra #CommonSense\n",
      "236:  #MAGA #OHIO DEMs really are working to solve the opioid crisis! ##VoteBlueforOurLives #VoteBlue https://t.co/FIodXuc0EP\n",
      "1329:  @SenSchumer and @NancyPelosi cannot bear the thought that Americans are doing better or that ISIS is on the run or the price of prescription drugs is lowered, or that the Opioid crisis is on the front burner to save American lives. https://t.co/rkN89vEWbn\n",
      "1325:  FACT CHECK\n",
      "\n",
      "#Trump Has Done VIRTUALLY NOTHING to Combat the Opioid Epidemic\n",
      "\n",
      "WHERE IS THE MONEY?\n",
      " https://t.co/EZRWyf6HQk\n",
      "1525:  @RepMattGaetz @SebGorka Mr. President,\n",
      "Please use part of the Omnibus Bill's 500+ Billion slated to fight the opioid crisis to BUILD THE WALL!!!\n",
      "#buildthewall #MAGA #PresidentTrump\n",
      "1400:  @OliverMcGee President Donald J. Trump!  He’s saving America from the liberals, Planned Parenthood, the swamp, illegal aliens, ISIS, violent gangs, opioid crisis, poverty and unemployment, fake news! 🇺🇸 #MAGA\n",
      "1535:  @realDonaldTrump \n",
      "Sir I believe you when you say you want to fight the opioid crisis and to you I ask why not legalize cannabis or at the very least medical cannabis? Doing so would more than likely decrease those dependent on opioids by half. Also would like to thank you #MAGA !\n",
      "\n",
      "dem-lead\n",
      "\n",
      "1317:  As someone who sees the impacts the opioid epidemic is having on @huntingtoncity every day I’m glad @POTUS pledged to continue fighting! #SOTU\n",
      "1271:  I could not support today’s CR bc it was another missed opportunity for #DACA, the opioid crisis, disaster relief to PR/USVI, and more. While there was funding for #CHIP, we should never play politics with children’s health.(1/2)\n",
      "1458:  The opioid epidemic claims 116 lives per day, and the use of internationally manufactured synthetic opioids have sharply increased over the last five years. https://t.co/gNBgAqi3i0\n",
      "23:  We must do more to combat opioid addiction in our communities. Glad to have secured much-needed funding to support those on the front lines of this crisis. \n",
      "\n",
      "https://t.co/hpm0Stb8lx\n",
      "607:  The differences between me and my opponent on healthcare could not be more clear. \n",
      "\n",
      "My opponent has failed our district on preexisting conditions, the opioid crisis, and on supporting our seniors. I will fight for a healthcare system that works for everyone in this district. https://t.co/2VZ9fTqhvM\n",
      "26:  We're at a crossroads when it comes to the opioid crisis, and we need to do more to ensure that people struggling with addiction have access to resources. With efforts like Project Connect, we have made strides in Suffolk, and I believe this model will work across the country. https://t.co/eFJxApqwkV\n",
      "328:  Thanks for a terrific visit and for the help on how to fight the awful opioid crisis. https://t.co/gWYN6eGImM\n",
      "1288:  I supported the continuing resolution to give Republicans time to make good on their promise to hold a vote on the #DREAMAct. These continuing resolutions have been a disaster for our military, health care system, &amp; communities fighting the opioid epidemic. #Trumpshutdown\n",
      "59:  Part of my plan to address the opioid epidemic includes holding drug companies responsible. Congress must force these companies, who misled us about the harmful effects of opioids for decades, to reform, pay up, and be brought to justice. https://t.co/ispkjaTvxd\n",
      "1425:  Combating the opioid crisis is an important priority. Today @HouseCommerce's #SubHealth will hear from a number of witnesses as we consider how best to help communities balance enforcement and patient safety. Watch here at 1pm ET: https://t.co/GwlhjeKl9y\n",
      "\n",
      "rep-lead\n",
      "\n",
      "52:  The opioid crisis hits close to home for so many in Michigan. Working with @RepDebDingell, the House passed two of our bipartisan bills to tackle this crisis. ➡️ https://t.co/Z0RyJmKiRX https://t.co/7bBoAMiPQB\n",
      "872:  Continuing the conversation about how to combat opioid abuse today at @MedicalCollege with the Gov's Taskforce. #HopeActLiveWI https://t.co/MYw1UqScGq\n",
      "517:  ICYMI -&gt; Stryker shows U.S. Rep. Upton devices targeting opioid epidemic https://t.co/qd01RqjwTu #MI06\n",
      "1190:  ICYMI Yesterday my colleague @RepMarkMeadows &amp; I joined @Varneyco  on @FoxBusiness  to introduce our bill to fight the #OpioidEpidemic - the Opioid Abuse Deterrence, Research, and Recovery Act. Watch the segment here: https://t.co/D3EV8kYuGV  #OHGov\n",
      "930:  New grant funding promotes all-hands-on-deck approach to fighting the opioid crisis in our nation &amp; our communities. https://t.co/ylC3LXCMUg\n",
      "539:  🥂 Tina Smith made tens of thousands of dollars from her stock in the same ‘Big Pharma’ responsible for the opioid epidemic https://t.co/UHDOhwX4k4 https://t.co/gPJHsLeGsf\n",
      "573:  .@POTUS just signed #HR6 into law. For those combating opioid abuse in our communities, this law delivers more resources to the front lines of the battle. We're not done yet, and to end this scourge, we need to keep working together. https://t.co/mVRAeFtaWU https://t.co/oqpUxiVSon\n",
      "757:  Introduced Jessie's Law to help save lives and combat the opioid epidemic. Watch this @WLNS report: https://t.co/dBwCXqfkeP #MI07\n",
      "1484:  In the past year alone 11.8 million Americans have misused prescription opioids or heroin. Click on the link below for a valuable resource from the @WhiteHouse highlighting efforts to combat the opioid epidemic→ https://t.co/PV25KEGPLh\n",
      "160:  Results not rhetoric. #MI06 knows that's what I've always been about. \n",
      "\n",
      "We have made significant investments to combat the opioid crisis, end human trafficking, target dangerous criminals, improve our economy, &amp; much more.\n",
      "\n",
      "Check it out -&gt; https://t.co/KKBbg4qdLj #betteroffnow https://t.co/dz4b9EuCHY\n",
      "\n"
     ]
    }
   ],
   "source": [
    "print_samples_all_groups(pr)"
   ]
  },
  {
   "cell_type": "markdown",
   "metadata": {},
   "source": [
    "### Rural"
   ]
  },
  {
   "cell_type": "code",
   "execution_count": 35,
   "metadata": {},
   "outputs": [
    {
     "name": "stdout",
     "output_type": "stream",
     "text": [
      "I'm trying\n",
      "Connected to political tweets DB\n"
     ]
    },
    {
     "data": {
      "image/png": "[encoded data removed]",
      "text/plain": [
       "<Figure size 432x288 with 1 Axes>"
      ]
     },
     "metadata": {
      "needs_background": "light"
     },
     "output_type": "display_data"
    }
   ],
   "source": [
    "rural = run_vader(\"rural\")"
   ]
  },
  {
   "cell_type": "code",
   "execution_count": 36,
   "metadata": {},
   "outputs": [
    {
     "name": "stdout",
     "output_type": "stream",
     "text": [
      "dem-base\n",
      "\n",
      "2497:  US foreign policy in the Middle East is, has been and always will be a monumental disaster\n",
      "It has continuously fed the voracious appetite of the US military-industrial complex\n",
      "The time has been past due to leave the Middle East to their selves\n",
      "https://t.co/PJcckZXHZe  \n",
      "#Resist https://t.co/pbbD9Cn1ox\n",
      "893:  @realDonaldTrump Why I #RESIST\n",
      "\n",
      "Tax Scam Bill\n",
      "Net Neutrality\n",
      "Trade Wars\n",
      "Pre-Existing Conditions\n",
      "SCOTUS\n",
      "Russia\n",
      "March For Our Lives\n",
      "No Tolerance ICE\n",
      "Environment\n",
      "Paris Agreement\n",
      "Artic/Offshore Drilling\n",
      "CFPB\n",
      "Dodd Frank\n",
      "Medical Marijuana\n",
      "StandWithPP\n",
      "Iran Deal\n",
      "Military Parade\n",
      "Trans Ban\n",
      "MeToo\n",
      "Taxes\n",
      "2558:  @normcoleman Are you still collecting $125,000 per month to lobby for Saudi Arabia, while children in #Yemen die of starvation? GOP Purse Strings Held by #Saudi Lobbyist https://t.co/snEcMQeBYm \n",
      "#YemenWar #Khashoggi #MBS #Minnesota #VoteBlue #Resist\n",
      "2918:  DISGRACEFUL😡@NancyPelosi @SenSchumer DOES NOT CARE THAT OUR CITIZENS R BEING MURDERED&gt;RAPED&gt;DRUGS POURING N &gt;CHILDREN BEING SEX TRAFFICKED!  THIS IS A NATIONAL SECURITY ISSUE #DemocratsRplayingGAMES WITH OUR LIVES THEY R USING THERE #RESIST ESCAPADE 4 POLITICAL STUNT @POTUS https://t.co/dElX6jZzuy\n",
      "2669:  #maga #trump2020 #trumptrain #tcot #ccot #AmericaFirst #Resist\n",
      "\n",
      "Ha!  This blows up the tiny shred left of Trump's North Korea summit \"success.\" https://t.co/t8XcVFjrku\n",
      "5609:  Such hypocrisy @MikePenceVP aren’t they the same? Our military has a parade...yay!!! Their military parade...bad! What a crock of shit! #BlueWave2018 #TheResistance #ImpeachTrumpNow bashes North Korea's military parade, endorses Trump's parade - ABC News  https://t.co/Mw8jHmtqxx\n",
      "2147:  We won a majority in the House so 45 attacked Journalists/Free Press. We need to keep fighting for America 🇺🇸\n",
      "\n",
      "This is my FIRST #FBRParty\n",
      "\n",
      "I WILL FOLLOW BACK. \n",
      "\n",
      "1 Like\n",
      "2 Retweet\n",
      "3 Follow\n",
      "4 Reply\n",
      "5. Copy this tweet to your own \n",
      "\n",
      "#VoteThemOut\n",
      "#BlueWave \n",
      "#FBR\n",
      "#RESISTANCE\n",
      "#VoteBlue\n",
      "2463:  Trump is more scared of Vladimir Putin than Robert Mueller: national security expert https://t.co/jYSry03Plc #Treason @realDonaldTrump #GOPRussia #FBR #TrumpRussia #Mueller #Resist #MAGA #VoteBlue #tcot #ccot #Patriot #AmericaFirst\n",
      "1101:  @realDonaldTrump @DianeHarkey @MikeLevinCA Why I #RESIST\n",
      "\n",
      "Tax Scam Bill\n",
      "Net Neutrality\n",
      "Trade Wars\n",
      "Pre-Existing Conditions\n",
      "SCOTUS\n",
      "Russia\n",
      "March For Our Lives\n",
      "No Tolerance ICE\n",
      "Environment\n",
      "Paris Agreement\n",
      "Artic/Offshore Drilling\n",
      "CFPB\n",
      "Dodd Frank\n",
      "Medical Marijuana\n",
      "StandWithPP\n",
      "Iran Deal\n",
      "Military Parade\n",
      "Trans Ban\n",
      "MeToo\n",
      "Taxes\n",
      "5833:  This is not just a matter of opinion: it's a question of national security. Has there ever before been a president who turned his back while America was under attack? How will history judge? @Morning_Joe @morningmika @realDonaldTrump #resist #Resistance https://t.co/je5AjuHWsz\n",
      "\n",
      "rep-base\n",
      "\n",
      "5404:  Russia warns of 'war' if oil to North Korea is cut  Kim Jong-Un Wins again! @realDonaldTrump https://t.co/YVwIn2f5jr OK. We don't have to worry about war with North Korea anymore. #Resist #MAGA #2A #1A #GOP #tcot #ccot #Patriot #AmericaFirst\n",
      "6677:  # #In #Comey #memos, #Trump #talks #of #jailed #journalists, #'hookers' #News #DailyNews: President Donald Trump told former FBI Director James Comey that he had serious concerns about his first national security adviser, Michael Flynn https://t.co/Pd1HhEetsJ\n",
      "7156:  🛑 Daily Caller News 🛑 \n",
      "\n",
      "👉 ‘Incredible News’ — Sarah Sanders Responds To North Korea Releasing American Prisoners With Pure Heart \n",
      "\n",
      "https://t.co/g7Vvb8vLFk\n",
      "\n",
      " #MAGA 🇺🇸 ￼￼#2A #Prolife\n",
      "5835:  George W. Bush was as bad at national security &amp; he hurt the police almost as much as @realDonaldTrump is doing - he just disguised it better. CONSERVATISM empowers America's enemies &amp; attackers, leading to 9/11 events, because it weakens &amp; rots us away from within. SHAME! #MAGA\n",
      "1628:  This former U.S. Army deputy under secretary is an expert on national security issues, but Amie Hoeber also relates to the citizens of Maryland's sixth district -- through a heartfelt spirit of empathy, cooperation and community. https://t.co/Q6jn6kwQ5K … #NFRW #GOPWomen #MAGA https://t.co/yWATB7AaJK\n",
      "6679:  @NancyPelosi OH NANCY....PLEASE TELL US MORE ABOUT YOUR TRIP TO NORTH KOREA.. I THINK WE WOULD LOVE TO HEAR! HOW DID YOUR NET WORTH GO FROM $10 MILLION TO $30 MILLION RIGHT ABOUT THE SAME TIME? BUY/SELL MISSILES?  #FootInMouth #IveStartedTalkingAndICantShutUp #MAGA\n",
      "2764:  #HillaryClinton slams Trump's Syria withdrawal: ‘This President is putting our national security at grave risk’ | TheHill #Indivisible #Democrats #Progressives #Independents #TheResistance #Resist #BlueWave #IndividualNumber1 #MAGA #MakeAmericaGreatAgain \n",
      " https://t.co/0MsZMTuPJY\n",
      "100:  BREAKING NEWS: Samantha Bee willing to step down over using \"CUNT\" if @POTUS #TRUMP will step down for using \"PUSSY,\" SHIT HOLE, SON of BITCH, etc. Kim willing to give up Nukes if Israel denuclearize Middle East and America gives up Nuclear Weapons it used on Japan! https://t.co/b6AInqF1Cb\n",
      "5809:  @SaysHummingbird AZ patriots. You need to recall this traitor and replace him with someone who puts America first.  Our great nation is being brought down by those who scream #maga\n",
      "7552:  North Korea blows up tunnels at Punggye-ri nuclear test site #Trump @CNN https://t.co/Va8zGnqP5U\n",
      "\n",
      "dem-lead\n",
      "\n",
      "1507:  This is an issue where we need leadership, not a Congressman who takes a back seat on foreign policy. #mtpol #mtal https://t.co/yOb8W7phx7\n",
      "6226:  FARMING IS A NATIONAL SECURITY ISSUE: Lots of smiles in this picture at the Cornell Cooperative Extension office. But t’s as simple as this: We can either figure out a way to make farmers successful here or we can become dependent on food from other countries. https://t.co/DICRvNV2NO\n",
      "648:  Protecting our elections from foreign meddling is a national security imperative. https://t.co/cegb6FhpzG\n",
      "4246:  @GeorgeTakei @MarchForTruth17 He is a threat to national security, after all.\n",
      "6148:  I'm hopeful that after his time at the CIA, Director Pompeo has a greater appreciation for the balance between national security and civil rights. I look forward to a robust hearing in the near future.\n",
      "3307:  Enjoyed meeting students + staff @START_UMD @BraniffBill yesterday - fascinating national security research underway! http://t.co/0MTH4iGrU2\n",
      "4869:  @marcthiessen And then what? How do you know North Korea won't escalate or go berserk, and start an all out war? Oh, and reports are that it was a mobile launcher. So are you going to hit an empty piece of dirt?\n",
      "2225:  Under no circumstances should the Administration extradite one U.S. resident to appease Turkey over the murder of another U.S. resident by Saudi Arabia. Nor should it be done to assist in a cover up. U.S. residents should be protected, not bartered. https://t.co/Ve20BHb5jb\n",
      "4971:  If this President is in any way serious about national security, he should start by embracing the basic tenets of American leadership: uniting rather than dividing, &amp; defending our democratic ideals abroad and at home. 3/3\n",
      "1373:  23 GOP members of the House Foreign Affairs Committee voted to keep the Helsinki summit documents hidden from the public. \n",
      "\n",
      "Rohrabacher opposes a National Security move by Democrats to release communications between Trump and Putin to members of Congress.\n",
      "https://t.co/hxbVs1WxLS\n",
      "\n",
      "rep-lead\n",
      "\n",
      "86:  Ensuring that coal fired power remains available in the eastern US is a national security priority.  Our military is dependent upon the commercial power grid. Pleased that @realDonaldTrump is always looking at ways to protect the homeland.  We’ll keep working w/WH on this issue.\n",
      "5712:  I have been a Christian activist with AIPAC (American Israel Public Affairs Committee) for years and have a record of standing with Israel in Washington D.C. and Texas. Israel serves as the number one ally of the US in the Middle East. I am #proisrael https://t.co/6IT7pqGhcI https://t.co/JfPRebkhl5\n",
      "3467:  @jasperhutchings history of Middle East countries:Despotism, squandering wealth, blood feuds, religious persecution, subjugation of women\n",
      "1575:  \"Senator Donnelly is wrong on Obamacare, wrong on the Iran deal, wrong on Justice Kavanaugh.\" #INSen #IBackBraun https://t.co/MXzOYv11jf\n",
      "3775:  Congress voted to allow 9/11 victims &amp; family to sue Saudi Arabia - they deserve the opportunity to seek justice! https://t.co/2mXBOYEDEI\n",
      "5753:  #ICYMI Along with a bipartisan group of Senators and House members, I sat down with @POTUS at the White House for a meeting to discuss how Chinese overcapacity and unfair trading practices threaten our national security and aluminum and steel jobs here at home. https://t.co/3ZEMndpgCe\n",
      "3330:  Now in #NR Subcom on Energy/Mineral Resources will hold a hearing on a discussion draft titled the “National #Energy Security Corridors Act\"\n",
      "7030:  My statement on @POTUS’ announcement to end U.S. participation in the Obama administration’s flawed ‘Iran Deal’.\n",
      "\n",
      "I’ve said all along that it doesn’t adequately stop the Iranian regime from obtaining or developing a nuclear weapon. https://t.co/cd5LYLmda1\n",
      "5939:  Our grassroots army is MARCHING into MARCH w/ a clear mission: Spread John James's conservative outsider message, focused on economic opportunity &amp; national security, from the Keweenaw Peninsula to Luna Pier &amp; everywhere in between &gt; https://t.co/1luj86YhhJ 🇺🇸 #LetsFlyMI #MISen https://t.co/yruh36aZm3\n",
      "4462:  @POTUS signed the bipartisan bill that imposes new sanctions on Russia, Iran, and North Korea, this morning. https://t.co/MHQotGDiDL\n",
      "\n"
     ]
    }
   ],
   "source": [
    "print_samples_all_groups(rural)"
   ]
  },
  {
   "cell_type": "markdown",
   "metadata": {},
   "source": [
    "### Russia"
   ]
  },
  {
   "cell_type": "code",
   "execution_count": 37,
   "metadata": {},
   "outputs": [
    {
     "name": "stdout",
     "output_type": "stream",
     "text": [
      "I'm trying\n",
      "Connected to political tweets DB\n"
     ]
    },
    {
     "data": {
      "image/png": "[encoded data removed]",
      "text/plain": [
       "<Figure size 432x288 with 1 Axes>"
      ]
     },
     "metadata": {
      "needs_background": "light"
     },
     "output_type": "display_data"
    }
   ],
   "source": [
    "russia = run_vader(\"russia\")"
   ]
  },
  {
   "cell_type": "code",
   "execution_count": 38,
   "metadata": {},
   "outputs": [
    {
     "name": "stdout",
     "output_type": "stream",
     "text": [
      "dem-base\n",
      "\n",
      "2543:  3) If that fails, voter fraud.\n",
      "4) If that fails, #RESIST!\n",
      "5) If that fails, harass conservatives in public.\n",
      "6) If that fails, violence in the streets.\n",
      "\n",
      "Democrats are no longer liberal.\n",
      "\n",
      "#QAnon #MAGA #REDOCTOBER #OneNation #WalkAway\n",
      "NO #BlueWave #NOBLUEWAVE #REDWALL https://t.co/kR8kEJQH6s\n",
      "5218:  @MzShay_99 @KyleKashuv @kurteichenwald Yeah nothing seems to matter anymore, since we let the Clown In Chief become President! Everything we were taught moral values, integrity, and class has gone down the drain!! That's what he meant by Draining The Swamp!🤷🏽‍♀️#SoSad #Covfefe  #Resist\n",
      "1335:  @1pissedPolack I would gladly take a back seat to the ladies, those who truly care and don't take money from criminal organizations. #VoteBlue #Resist\n",
      "5697:  @VP @CIA Asshat, if you really cared about the safety and security of the American people, you would support #GunControlNow rather than taking money from the @NRA to ignore #GunViolence. Your lies are getting old and tired. A #BlueWave is coming.\n",
      "1505:  This shows whats truly important to the racist, misogynist pig in the WH. Taking money from important programs to house immigration children like prisoners is way beyond unacceptable. Nov.6th we MUST vote to take control of Congress.  We must #VoteBlue #VoteBlueToSaveAmerica https://t.co/uoasxmkROl\n",
      "900:  @realDonaldTrump ... Why are you so obsessed with Cuomo?  All the tweets about Cuomo make you look silly.  You are the one who doubted Americas greatness, with your MAGA foolishness.   #voteblue and Keep America Great. #voteblue and drain the swamp in the WH. #voteblue for self respect.\n",
      "3029:  Tired of #Democrats promoting stealing the house and NOBODY pushing back with the evidence of voter fraud publicly available.  \n",
      "\n",
      "Broward fiasco, Porject Veritas exposing illegals voting, ballot harvesting, impossible anomalies in race tallies, rally turnouts...\n",
      "\n",
      "#MAGA #VoterFraud\n",
      "2175:  #IllegalImmigrants #IllegalAliens #Refugees #AsylumSeekers are your enemies. They take your #tax money, #Government resources, #medical resources, #school resources. #Democrats would rather help them and further bury us in debt than help #Americans.\n",
      "1643:  Add #BrettKavanuagh to this list. Why are fast tracking due process @LindseyGrahamSC What are you afraid of. The #BlueWave is coming for you other's who have been bought and paid for by special interests. #KavanaughHearings #LindseyGraham https://t.co/aO77JT5kG4\n",
      "1096:  \"He also admitted to having been instructed by Trump to pay off adult-film actress Stormy Daniels. Both payments involved felony violations of campaign finance law.\" #LockHimUp #TrumpIsATraitor #Resist #FBR https://t.co/qxpgnAWBwQ\n",
      "\n",
      "rep-base\n",
      "\n",
      "5378:  @DNC @CNN @MSNBC @nytimes @washingtonpost @chuckschumer @NancyPelosi @JeffFlake @SenJohnMcCain @seanhannity @IngrahamAngle @realDonaldTrump now #AppointJoeDiGenovaSpecialProsecutor you can’t drain the swamp alone. #MuellerisADirtyCop #FireRosensteinNow @jeffsessions https://t.co/wS4USsK5ss\n",
      "4493:  @FoxNews @AlanDersh @FBI @MariaBartiromo stop being apologist for Top Dog's wrecking ball. attacks on FBI and DOJ dangerous end game to discredit Russian investigation and destroy democracy #Foxnews fake news never asks the hard questions. #MAGA bark impeach and drain swamp lying Top Dog\n",
      "5680:  Seriously #MAGA you said drain the swamp but you put THIS in office. 👇👇👇👇 https://t.co/ndms3Utc7E\n",
      "5477:  Add these voter fraud cases to the growing list. This is probably just the tip of America’s election fraud iceberg. https://t.co/e4ncSCR7TK via @jasonwsnead @DailySignal #VoterFraud #tcot #ccot #VoteRed2018 #RedWave2018 #RedWaveRising2018 #WakeUpAmerica #KAG\n",
      "1553:  @ACLU N Every Midterm debate This is What I want Moderators 2 Challenge each Candidate with=Things the #Trump Administration has taken money from 2 Fund Jailing Immigrant Families: Ask,Do U Agree Yes/No?&amp; Why? orWhy Not? There's No Debate That THEY R Doing It =Anti-AmericanVALUE https://t.co/J5j7U8azw4\n",
      "5657:  #BREAKING #Avenatti has proof #Trump committed campaign finance violation: https://t.co/WR9l1AzR8Z via @YouTube\n",
      "981:  Join us Wed, 8/15, from 4:30-6 pm in Westfield, NJ outside @RepLanceNJ7's  office to ask where are the children and to tell him that it's time to drain the swamp! #FamiliesBelongTogether #DrainTheSwamp #GOP #LockThemAllUp Learn more: https://t.co/lxlg0PfhUt #NJ7Forward\n",
      "5237:  #MAGA will never happen until we stop the rich, special interest groups, from buying and controlling our Representatives. \n",
      "#Vote2018 for true leaders that work for the people and not for special interest groups. https://t.co/OuojnIL3U3\n",
      "824:  @MichaelCohen212 @OMAROSA @POTUS @realDonaldTrump Mr President, keep doing what you were elected to do.  Don’t let these losers distract you from what’s right.  Drain the swamp!  Omarosa?  Who really cares?  She is a lying hoe.  Stay focused on #MAGA!  DOING GREAT!\n",
      "5097:  @CB618444 I sure don't! I care that @realDonaldTrump is #MAGA and draining the swamp of losers who have been destroying America! \n",
      "#IStandWithTrump!\n",
      "\n",
      "dem-lead\n",
      "\n",
      "149:  “If she weren’t such a force speaking for working families... [special interests] wouldn’t be putting the millions of dollars they’re putting in.” —@KamalaHarris https://t.co/rAev3Ptn9u\n",
      "4009:  Once again, the Trump administration sides with big money and against democracy. If this passes, the internet and its free exchange of information as we have come to know it will cease to exist.  #NetNeutrality https://t.co/1oKLkWOpYn\n",
      "4721:  5. Can’t we take the money and special interests out of this and work together to figure out how to reduce the carnage? Can’t we support responsible gun ownership while taking common-sense and reasonable steps to protect the public’s safety?\n",
      "4597:  In the wake of Citizens United, it is imperative that we increase the transparency of money in politics.  Peter Roskam introduced a bill to limit disclosure today. This is a man with something to hide. #IL06 https://t.co/qgEwaBbm3C\n",
      "5466:  Shady GOP Super PACs are already spending money to influence Ohio's elections. This is why we must overturn Citizens United. RT you agree we have to fight big money in 2018! https://t.co/spGSLqHgnV\n",
      "3796:  Big money Koch network bought the Republican party, some judges, and brainwashed many of their voters. See how it's a threat to democracy: https://t.co/0UubsKGnwK\n",
      "1182:  Side note: @TuckerCarlson had me up til he accused corporations of “being the backbone of the left.” They are actually the cause for the corruption and greed endemic within BOTH parties. We can only tackle these issues w/ campaign finance reform &amp; tougher trust-busting measures.\n",
      "738:  I’m not running for the corporate special interests, just their interests. We’re going to make history in #CA50 #TogetherWeCan 🇺🇸 https://t.co/TWrb6fO4Eq\n",
      "2796:  Really makes you wonder about potential voter fraud in the state that has deliberately cooked up a massive recipe for Voter Fraud:   https://t.co/aJwsZc2saU https://t.co/39q1VFcnqB\n",
      "3488:  We're working to get secret money out of politics &amp; fix a broken Washington. Sign up 2 help https://t.co/3x6YT3nAUc https://t.co/6d13iInv8a\n",
      "\n",
      "rep-lead\n",
      "\n",
      "3386:  Hmm: Clinton is expected to run one of the most expensive campaigns in history but calls for campaign finance reform. http://t.co/2ZNfLzmX3p\n",
      "1404:  By choosing to rescind the rule, @BetsyDeVosED is abdicating her duty to regulate colleges in the best interests of students and taxpayers. This move benefits no-one other than stakeholders and special interests aligned w/ predatory for-profit colleges ripping off students.\n",
      "179:  .@RobersonforNV is just who we need as our Lt. Governor to help fight against special interest groups and for what’s right for Nevada.\n",
      "3785:  The growth of special interests in Washington is undeniable, and it is wrong. It is time we return the government back to the people. https://t.co/tOs6reKoqz\n",
      "3823:  Tell liberal special interest groups (like Bloomberg's) to get their hands off our guns: https://t.co/pJjzhCqDbD\n",
      "1482:  The two millionaires in the race for U.S. Senate want Washington DC to take more of your money and your liberties.\n",
      "\n",
      "The only non-millionaire in the race for U.S. Senate wants you to keep your money and your liberties. #mepolitics\n",
      "2436:  VOTER FRAUD. I have spoken to several election commission officials about this fraud. Steve Cohen has intimidated them!  Cohen Exposed! https://t.co/K07TJNjxpA\n",
      "70:  \"We voted to drain the swamp.  We can't have another two years of swamp here in South Carolina.\"  #sc01 #gopdebatesc1\n",
      "529:  Rep. @KarenHandel defeated the big money of the D.C. Democrats in ‘17 and she’ll do it again this year. In November, voters across the country will again make the right choices — we are on your side! #NV03 #AmericaFirst https://t.co/h3M6szP1Gd\n",
      "68:  More big-government central planning. You can’t drain the swamp when you keep refilling it with cronyism and corporate welfare. https://t.co/puVXMK2VeI\n",
      "\n"
     ]
    }
   ],
   "source": [
    "print_samples_all_groups(russia)"
   ]
  },
  {
   "cell_type": "markdown",
   "metadata": {},
   "source": [
    "### Shutdown"
   ]
  },
  {
   "cell_type": "code",
   "execution_count": 39,
   "metadata": {},
   "outputs": [
    {
     "name": "stdout",
     "output_type": "stream",
     "text": [
      "I'm trying\n",
      "Connected to political tweets DB\n"
     ]
    },
    {
     "data": {
      "image/png": "[encoded data removed]",
      "text/plain": [
       "<Figure size 432x288 with 1 Axes>"
      ]
     },
     "metadata": {
      "needs_background": "light"
     },
     "output_type": "display_data"
    }
   ],
   "source": [
    "sd = run_vader(\"shutdown\")"
   ]
  },
  {
   "cell_type": "code",
   "execution_count": 40,
   "metadata": {},
   "outputs": [
    {
     "name": "stdout",
     "output_type": "stream",
     "text": [
      "dem-base\n",
      "\n",
      "619:  Paranoid GOP passes Farm Bill to Claim Any win and Now Hug the Hemp Cause \n",
      "Big Win for CBD\n",
      "#cannabidiol #cbdoil #dispensary #golfer #bocaraton #farmer #farming #resist #boston #worcester #mapoli #rhodeisland #hempoil #kentucky #southcarolina #florida  #thc\n",
      "https://t.co/TH6tscFMNO\n",
      "1527:  House conservatives sink farm bill over immigration, joining #Democrats opposed to food stamps cuts | Politics - https://t.co/Myqd0pyA7L\n",
      "322:  I know it is probably unfair to place all of the burden on you but I have little choice. I live in Ky. @RepJohnYarmuth Would you pls begin working on a bill to reverse this farm bill.  I hope to send you some assistance in November. TY. #Vote #VoteBlue #VoteBlue2018 https://t.co/cUIyLgcPRc\n",
      "586:  @connorobrienNH Led by Chair Pete Sessions (R Tx) the GOP House Rules Committee slipped the resolution banning the 115th Congress from debating US role in MBS' #YemenCantWait war into the popular Farm Bill. The Committee has 9 Rs vs only 4 Ds. @SpeakerRyan supports this subterfuge.\n",
      "#Resist\n",
      "639:  Trump posts video of himself singing in overalls ahead of farm bill signing #Resist #ResistTrump #FuckTrump https://t.co/ey7kIkOK37\n",
      "88:  Hey Resisters! This is my 1st FBR party! Blue living in a red rural community. Almost gave up, then I found YOU! \n",
      "#RightSideOfHistory\n",
      "Resist, Stand up &amp; Fight.                    \n",
      "1. Like.\n",
      "2. Retweet.\n",
      "3. Follow.\n",
      "4. I'll follow back  \n",
      "#Resisters\n",
      "#BlueWave2018 \n",
      "#FBR \n",
      "#FBRParty\n",
      "1396:  House Agriculture Committee Advances Farm Bill Attacking Environment, Endangered Species. #wildlife #environment #forests #animals #EndangeredSpecies #Resist https://t.co/0T7zXO4BnO\n",
      "1536:  House GOP limping to Election Day as farm bill implodes #Resist #FuckTrump https://t.co/9RcUz28Ijy\n",
      "275:  @LeahVukmir Our rural areas need hospitals, a fair market to trade with fair prices. I’m afraid that Vukmir’s tariffs only destroy small farmers and rural communities. Say no to the trickle down fiasco. #wispolitics @indivisiblewi06 @spudlover #BlueWave2018 @WisconsinStrong\n",
      "523:  .@BGOV Wall Funding, Taxes, Farm Bill: What to Watch in the Lame Duck https://t.co/uUkcWB2E53 @NOgnanovich #Healthcare #LameDuck #Congress #Democrats #Republicans #FederalBudget #Committees\n",
      "\n",
      "rep-base\n",
      "\n",
      "75:  House passes farm bill including work requirements for food stamp recipients #Welfare #WakeUpAmerica #QAnon #MAGA https://t.co/F2JW1WyqNB\n",
      "1203:  #Trump\n",
      "#Foodstamps\n",
      "Trump’s 2018 Farm Bill: ‘Work Is Pathway to Self-Sufficiency’ for Food Stamp Recipients\n",
      "https://t.co/6WavAk1jWf\n",
      "641:  On his way to the cackle factory. \"#Trump Uses Emmy Awards ‘Green Acres’ Song to Promote Farm Bill Signing\" https://t.co/bO622adetn via @thedailybeast\n",
      "305:  Just got the email from Trump campaign for the #MAGA rally in Billings 9/6 7PM. He's expected to chat newest indicators of econ growth, job creation he says are reviving families, communities in MT + new U.S.-Mexico Trade Agreement he says will help farmers, ranchers in MT #mtpol\n",
      "573:  RT JxhnBinder: Non-college educated white men, white evangelical Christians, and Americans living in rural communities are the most supportive of shutting down the government to fund a border wall. https://t.co/HVj1HwBvT5 #MAGA\n",
      "1512:  Tomorrow, the House will vote on a strong Farm Bill, which includes work requirements. We must support our Nation’s great farmers! #MAGA\n",
      "647:  NC dispensary selling hemp-based products saw a spike in business over the holidays. Owner attributes the rise to folks buying gifts/stocking stuffers and President Trump signing the Farm Bill.\n",
      "@SpecNewsTriad #hemp #CBD #FarmBill #Trump #holidays #holidaze\n",
      "https://t.co/al88ZkIVTk\n",
      "1204:  #Trump's 2018 Farm Bill: 'Work Is Pathway to Self-Sufficiency' for #FoodStamp Recipients\n",
      "https://t.co/r1bNIBPokA\n",
      "Hey, look a work requirement for #Welfare.\n",
      "Just like #Reagen and #Clinton passed, but disappeared over time.\n",
      "Need to look at the whole @axios. https://t.co/LE9LpECIZY\n",
      "294:  SNAP food program at risk in House Farm Bill https://t.co/cN7XXQ2Bg0\n",
      "#SNAP #Foodstamps must be saved. #FarmBill. #US #Senate &amp; #Congress must save SNAP for #elderly, #disable, #women, #children, #veterans, #poor. #HandsOffSNAP #SNAPMatters #Trump should not hurt folks in #poverty\n",
      "364:  $HIPH BREAKING NEWS: 2018 Farm Bill About to Pass – Legalization of Hemp and CBD could grow consumer market to $22 Billion #trader #CBD #MAGA #trading #investor #finances\n",
      "\n",
      "Read More: https://t.co/KicQCBnlnI https://t.co/Uw7z1emZvO\n",
      "\n",
      "dem-lead\n",
      "\n",
      "375:  House Ag Farm Bill Conferee Highlight: Rep. Ted Yoho (FL-03) https://t.co/DImd4i8LMQ\n",
      "442:  Tipton voted to remove SNAP funding from the Farm Bill for the first time in 30 years, a move that directly hurts poor children and families.\n",
      "\n",
      "CHECK THE FACTS: HR 2642, Vote #353, 7/11/13 https://t.co/UptE6UplMr\n",
      "12:  The doctor shortage for our rural communities continues, and we need to fight that. We have counties in our state that have 4,000 people and no access to #healthcare. We’ve got to do better.\n",
      "\n",
      "https://t.co/41IXtI97iG\n",
      "406:  Last night the Farm Bill expired, but @KevinCramer and the House have already given up on work for the year. With the trade war raging, we should provide our farmers with certainty by passing a strong, bipartisan Farm Bill. That’s what we succeeded in crafting in the Senate. https://t.co/WPFUJIpyGc\n",
      "1472:  Thanks @peeterscsv for reaching out. I agree – H.R. 2 completely fails America’s families and farmers. I will absolutely oppose this bad, hyperpartisan bill. I support a bipartisan Farm Bill that actually works for Illinois farmers and families. https://t.co/Q0dbRyLmOn\n",
      "391:  We want a Farm Bill that helps #farmers , protects our #environment and does not punish those seeking to feed their family with punitive work requirements. #FarmAid2018 #agriculture https://t.co/DcjJKkOVi3\n",
      "515:  Rugby is at the center of North America, and I’m in the center of the Senate. By building relationships on both sides of the aisle, I’ve been able to get real results for ND — ending the oil export ban, helping shut down human trafficking sites, &amp; passing a strong Farm Bill. https://t.co/HgiRT12dDB\n",
      "1281:  The #FarmBill will be the biggest climate change bill we consider this year. We need a FOOD &amp; Farm bill that will help farmers invest in regenerative farming practices to provide more value with less environmental disruption and carbon pollution. #FixTheFarmBill https://t.co/0IwxGKeyck\n",
      "1370:  The writers behind this Farm Bill sure are doing everything they can to make sure the poor can’t eat. \n",
      "I will stand up to this kind of hateful legislating when I get to D.C. in November. Children are going hungry because of bill’s new proposed changes...\n",
      " https://t.co/BtT9JrUvcU\n",
      "746:  In Washington, Heidi will work to make sure we get a fair Farm Bill passed for North Dakotans http://t.co/JbXjBZtp #ndsen\n",
      "\n",
      "rep-lead\n",
      "\n",
      "1475:  #HR2 is about standing w/ our farmers &amp; ranchers. It protects crop insurance, includes programs to protect trade, &amp; helps farmers w/ projects to improve conservation. Learn more about the #2018FarmBill here: https://t.co/V3RC7uE3WU https://t.co/unI5WVFVGi\n",
      "536:  Today on #NationalRuralHealthDay, we recognize the nearly 375,000 North Dakotans living in rural communities w/ unique healthcare needs. Grateful for care providers at EMS, critical access hospitals, &amp; rural health clinics to serve these areas. #PowerofRural\n",
      "1388:  U.S. House Committee's proposed farm bill provides safety net for producers, but cuts safety net for consumers. Everyone needs a little help sometimes, whether farmers or working families https://t.co/p1FWFTQzSG\n",
      "1123:  Thanks to all of our farmers &amp; ranchers who provide us with safe, affordable food. \n",
      "#NationalFarmersDay https://t.co/rSTmpfY9ZZ\n",
      "620:  Working to quickly pass the Farm Bill, sure to be a great package for agribusiness everywhere.\n",
      "460:  On #NationalFarmersDay, make sure and thank our hardworking, God-fearing farmers who feed and clothe the American people. I’m honored to serve our District and be a voice for our region’s farmers and ranchers. https://t.co/s4iXLVtCBN\n",
      "506:  Agriculture is the cornerstone of Minnesota's economy. Farmers rely on a comprehensive farm bill for certainty in planning, and they're counting on us to cut through the gridlock and get a farm bill done.\n",
      "1401:  Pleased that Chair @ConawayTX11 led the @HouseAgNews to passage of a #FarmBill that keeps America’s farmers and ranchers — like those at home in Eastern Washington — at the top of mind. https://t.co/yWi2qb0bRA\n",
      "494:  “For the Farm Bill my priorities of crop insurance and research are reflected and we will get a Farm Bill done by the end of the year.”\n",
      "1479:  Access to high speed internet service is much more than a quality of life issue, it’s also an economic issue. The #2018FarmBill seeks to strengthen #ruralbroadband to help bridge the digital divide between our rural communities and 21st century technology. https://t.co/2Bk3F1d5QP\n",
      "\n"
     ]
    }
   ],
   "source": [
    "print_samples_all_groups(sd)"
   ]
  },
  {
   "cell_type": "markdown",
   "metadata": {},
   "source": [
    "### Social Security"
   ]
  },
  {
   "cell_type": "code",
   "execution_count": 41,
   "metadata": {},
   "outputs": [
    {
     "name": "stdout",
     "output_type": "stream",
     "text": [
      "I'm trying\n",
      "Connected to political tweets DB\n"
     ]
    },
    {
     "data": {
      "image/png": "[encoded data removed]",
      "text/plain": [
       "<Figure size 432x288 with 1 Axes>"
      ]
     },
     "metadata": {
      "needs_background": "light"
     },
     "output_type": "display_data"
    }
   ],
   "source": [
    "ss = run_vader(\"social_security\")"
   ]
  },
  {
   "cell_type": "code",
   "execution_count": 42,
   "metadata": {},
   "outputs": [
    {
     "name": "stdout",
     "output_type": "stream",
     "text": [
      "dem-base\n",
      "\n",
      "700:  If  you think ·Women’s Rights ·Civil Rights ·LGBTQ Rights ·Voting Rights  ·Higher Wages ·Equal Pay ·Environment ·Consumer Protections ·Affordable  Healthcare ·Saving Social Security ·DACA ·SCOTUS Are important - then  VOTE! #UniteBlue and #FlipItBlue! https://t.co/6yJQ70Nhu7\n",
      "814:  @SenTedCruz   Question. Was it worth it?\n",
      "\n",
      "PROMISING TAX BREAKS FOR MIDDLE CLASS?\n",
      "Then pillaging country by giving the breaks to big corporations.\n",
      "All while knowing they would NOT put it back into the economy!\n",
      "\n",
      "#KARMA “Whatever you give to life, it gives you back.”\n",
      "\n",
      "#Resist\n",
      "186:  #DEMOCRATS The @GOP is backed by Dark Money &amp; big corporations. It's hard to give money so let's give our candidates our support by speaking out. Get out &amp; vote for #DEMS @realDonaldTrump = Russian sympathizer WE NEED REAL TRUE AMERICANS!!!\n",
      "427:  Force billionaires to pay a living wage https://t.co/cvW035SAv1 via @CREDOMobile #resist\n",
      "721:  Actually putting workers first means higher wages, affordable housing and decent healthcare, especially covering pre-existing conditions. \n",
      "What exactly has been done for the working class? Our tax “cuts” end in 61 days. \n",
      "\n",
      "Vote #BlueWave for new leadership. https://t.co/ymw7rb3BdS\n",
      "555:  @CBSEveningNews Pres Trump is insulting and disrespectful in telling this reporter she 'never thinks'......His tone is rude and belittling.  Sexism loud and proud from the highest office in the land.  Think the GOP will EVER pass 'equal pay' when this is their attitude?   #VoteBlue\n",
      "608:  Roby also voted to cut food assistance for veterans and the Alliance for Retired Americans gives her a zero rating for refusing to protect Medicare, Social Security, pension funds, and affordable housing.\n",
      "#VoteBlue  #NewEraforAlabama \n",
      "#BlueWave2018\n",
      "661:  Only the @WVGOP could say that teachers working for a living and educating our young people are asking for a hand-out. They wanted a decent living wage for doing a thankless job. Feel the shame you've earned, stop playing political games, and server the people of WV. https://t.co/uERCMA6B99\n",
      "587:  Yes, we #Progressives will again restore US respect globally, expand fair HC, restore environmental refs, restore a living wage, break up banks, &amp; stop a fascist wave mirroring America’s decline under #CorruptTrump &amp; deplorable, frightened, &amp; hypocritical followers! #Bluewave\n",
      "434:  Force billionaires to pay a living wage https://t.co/GVOV0NWFNL via @CREDOMobile #resist\n",
      "\n",
      "rep-base\n",
      "\n",
      "2190:  #MAGA #TrumpTrain #Trump #TrumpPence #Trump2020  A huge win for big corporations on top of their huge tax cuts... so much for the forgotten man.. but hey at least you can be a racist asshole in public now #Winning https://t.co/b07fD3XxTX\n",
      "494:  Yes I've lived in AZ. CA. &amp; FL. Most of California problems; poverty suffering Homeless is Democrats waste of Billions of $, &amp; gving everything FREE to Illegals. NOT focusing on Job Training, Placement &amp; Affordable Housing @SoCal4Trump @DrMartyFox @BillPeriman @kwilli1046 @GOP https://t.co/sxW6hQz3tA\n",
      "512:  If people could belong to a union, and earn a decent living, both parents wouldn’t have to work.\n",
      "\n",
      "If the wealthy, and big corporations paid taxes, you could provide subsidized childcare.\n",
      "\n",
      "Poor people often don’t make enough to take advantage of a tax credit.\n",
      "\n",
      "#tcot #maga https://t.co/cdtnyc6Mie\n",
      "530:  @Esteeb0582 @DanCovfefe1 @ouchinagirl @RealMAGASteve @GavinNewsom @AppSame @AngeleStar11 @VetWithACause @ChooseToBFree @birdman8272 @CaliConsrvative @SandraTXAS @DutyOfAPatriot @Trump454545 Many America First candidates are not funded by big corporations and therefore do not have the money for vast advertising. We must support them at the Grassroots level so that we can take back California @RealErinCruz #MAGA ☑️☑️💖🇺🇸\n",
      "2205:  #MAGAs need to wake up and realize #GOP doesnt want people to have Rights, Healthcare or a Living Wage. They worry most about Bankers @RepFrenchHill and #Corporations They prove it Every Day. @AFLCIO @UAW @ArkansasBlog #VoteBlue https://t.co/pfETv4kkZO\n",
      "1768:  @realDonaldTrump This is how you MAGA?\n",
      "#NameCalling #Bully\n",
      "All you do is:\n",
      "#MAGA 4 The White Man\n",
      "#MAGA 4 Big Corporation\n",
      "#MAGA 4 Billionaires \n",
      "\n",
      "What about #WeThePeople ? Whose looking out for us?\n",
      "1880:  HUGELY important sign of #MAGA progress. The U6=Participation Rate reflects rising optimism that people feel they can actually find a job if they start pounding the pavement again. During Obama era, many gave up all hope of finding a living wage job, so they simply quit trying. https://t.co/sMAPFsBb9c\n",
      "2150:  Iran is like Cuba in the sense that most nations, UNLIKE America, don’t put values over economic opportunities! But, in the case of Iran, these morally bankrupt, secular, Leftist nations would build Iran up, &amp; then expect the US to protect them later from Iranian aggression! #KAG https://t.co/43Slc28ULy\n",
      "380:  All this talk of raising minimum wage and “living wage”. \n",
      "I just seen a gas station in suburban Georgia pays $17/hr plus bonuses. \n",
      "Thanks @realDonaldTrump #MAGA https://t.co/OiJpoxo8bl\n",
      "1794:  Why would Trump protect Medicare &amp; Medicaid?  Crippling or eliminating both provides economic opportunities for him and his friends.  It also helps kill off populations he disrespects in the first place. Plus, HE doesn't need either of these programs! https://t.co/aDfjSYONIs\n",
      "\n",
      "dem-lead\n",
      "\n",
      "1071:  When we vote, we win! Equal pay for equal work, better jobs, and fighting for a stronger middle class are... http://t.co/ozUAdXgX64\n",
      "445:  It's time to get Jeff Bezos, the Waltons and other billionaires who won't pay a living wage off of welfare. Today I'm introducing legislation to give them a choice: pay workers a living wage, or pay for the public assistance your low-wage workers rely on.\n",
      "https://t.co/0MA7DZ7ALC\n",
      "1436:  I stand w @AustinHabitat @FoundCom &amp; the many affordable housing groups that rallied in #ATX against #TrumpBudget. https://t.co/ugxQBCJejO\n",
      "1548:  And on this #VeteransDay, we must recognize that our gratitude for veterans must go beyond our words of thanks. We need to work to ensure every veteran's health, education, &amp; economic opportunity is a top priority.\n",
      "885:  Agree w/ @miaflcio's Karla Swift, \"@BarackObama has made it clear he is the candidate that stands for equal pay.\" #womendecide2012 #MI05\n",
      "835:  Great meeting today with Joe Canizaro.  We had a great discussion about some major economic opportunities here on the Gulf Coast and ways to bring in more high paying jobs. #OneCoast https://t.co/xw3pf1sMRn\n",
      "2062:  Tax cuts don’t pay for themselves, so how does @HouseGOP want to pay for the #GOPTaxScam? By slashing Medicaid, Medicare &amp; Social Security. \n",
      "\n",
      "Forcing working families to pay for giveaways to big corporations &amp; billionaires is indefensible. #TaxDay https://t.co/RJwhYh8rUr\n",
      "1823:  After giving away billions of dollars in tax breaks to big corporations, President Trump wants to cut #Medicaid through block grants as the only solution. I just don’t agree.\n",
      "https://t.co/8IUDRwnGBX\n",
      "1975:  Great visit with folks at Melao Bakery in Kissimmee, talked about the delay in getting help to our fellow American citizens in Puerto Rico. Also a need for affordable housing here where many folks came after their homes were destroyed. https://t.co/wD9ZiCmFdw\n",
      "1352:  “Compassion” from Trump for this single mother means $6.2 billion in cuts to affordable housing, which could force her out of her apartment.\n",
      "\n",
      "rep-lead\n",
      "\n",
      "547:  Did you know? The #TaxCutsandJobsAct gives families and small businesses more economic opportunity and freedom. Check out more about how people are #BetterOffNow thanks to our pro-growth policies → https://t.co/Lw2C4RDZ3m\n",
      "821:  Americans are working harder than ever, but wages aren't keeping up with the rising costs of living. We need policies that expand access to long-term economic opportunity so more hard working families can get ahead. #JobsandJustice  https://t.co/7K2ttH6xbF\n",
      "1997:  Today is #EqualPayDay2018. It has been 55 years since the Equal Pay Act was  signed into law, yet women still earn an average of only 80 cents for every dollar earned by men. In Indiana, that gap is even worse. I will continue to support equal pay for equal work. https://t.co/LDAOE48R9k\n",
      "1029:  Women are on a roll fighting for equal pay for equal work! #womensucceed @ninaturner http://t.co/7xdK5v4IYC\n",
      "1138:  52 years ago today Congress enacted the Equal Pay Act.  It's time we finally closed the #wagegap http://t.co/rsLTxZkSQF\n",
      "1822:  Talking w/ @pdoocy of @FoxNews @ #CPAC2018 about our conservative outsider message focused on economic opportunity and national security &amp; why we need to elect Republican senators in states like Michigan! #LetsFlyMI #TeamJohnJames #MISen @CPAC https://t.co/FSgg6JVFLJ\n",
      "1813:  We're taking our conservative outsider message, based on economic opportunity and national security, to #CPAC2018. Join #TeamJohnJames and catch John at @CPAC today, where he's discussing \"#Trumponomics vs. #Obamanomics\" at 4 pm ET: https://t.co/1luj86YhhJ 🇺🇸 #MISen #LetsFlyMI https://t.co/gx5dteCftz\n",
      "1278:  Like @HillaryClinton I agree that the time is now for equal pay for equal work. #Debates2016\n",
      "605:  Thank you, @OneToughNerd &amp; @RPA_PAC for supporting our mission of protecting the American Dream for future generations!💪 I look forwarding to working to bring economic opportunity and national security to everyone across Michigan! 🇺🇸 #LetsFlyMI https://t.co/pZsZvIwdcP\n",
      "758:  Tomorrow’s election is about your family’s economic opportunity. It’s about your ability to choose the best health insurance option that works for you. It’s about better jobs, higher wages, lower unemployment, fewer regulations, and lower taxes.\n",
      "\n"
     ]
    }
   ],
   "source": [
    "print_samples_all_groups(ss)"
   ]
  },
  {
   "cell_type": "markdown",
   "metadata": {},
   "source": [
    "### Taxes"
   ]
  },
  {
   "cell_type": "code",
   "execution_count": 43,
   "metadata": {},
   "outputs": [
    {
     "name": "stdout",
     "output_type": "stream",
     "text": [
      "I'm trying\n",
      "Connected to political tweets DB\n"
     ]
    },
    {
     "data": {
      "image/png": "[encoded data removed]",
      "text/plain": [
       "<Figure size 432x288 with 1 Axes>"
      ]
     },
     "metadata": {
      "needs_background": "light"
     },
     "output_type": "display_data"
    }
   ],
   "source": [
    "tax = run_vader(\"taxes\")"
   ]
  },
  {
   "cell_type": "code",
   "execution_count": 44,
   "metadata": {},
   "outputs": [
    {
     "name": "stdout",
     "output_type": "stream",
     "text": [
      "dem-base\n",
      "\n",
      "170:  Benczkowski has never tried a case, worked for the Russian Alfa Bank and was top aide to Jeff Sessions. \n",
      "\n",
      "The Mueller investigation must be able to proceed without any further obstruction. Benczkowski should not be confirmed as Assistant Attorney General. #resist #stayfocused\n",
      "340:  #RESIST #REMOVE #trumpSYCOPHANTS\n",
      "#VoteThemOut\n",
      "Graham calls for special counsel to investigate FBI's handling of Clinton emails, FISA warrant https://t.co/hfAVcBUy8P\n",
      "750:  Well. They say that correlation doesn't = causation. Yet, we have a president w/his 'distraction game' to change headlines, as the House was won by Democrats; so be aware of other crazy Trump @#*^ as @WSJ exposes the Mueller investigation. Don't believe #NixonOnSteroids! #Resist\n",
      "1939:  You know who's afraid of witch hunts?\n",
      "\n",
      "Witches.\n",
      "\n",
      "#Resist https://t.co/tQKWuYMdH8\n",
      "532:  #RonDeSantis Manafort pays for Mueller Investigation.\n",
      "                         Trump golfs on the tax payers.  #VoteBlue https://t.co/hbRe4QaWkT\n",
      "689:  Donald Trump Jr. Expecting to be Indicted by Mueller Soon (hopefully, this will happen before Whitaker does any permanent damage to the Mueller investigation) #p2 #TNTweeters #resist #impeachtrump #TrumpRussiaa  https://t.co/ybv4Ax0gRn\n",
      "1499:  @realDonaldTrump Special counsel indicts 13 Russians, details foreign efforts to boost Trump. https://t.co/x1mFSRKQ8a #Resist #TheResistance #TrumpRussia #ImpeachTrump\n",
      "760:  @george_capen The smart move would be to embrace the Mueller investigation and if it leads to impeachable offenses, then impeach Trump. However, he's not very bright. Kentucky is going to wake up and remove him, too. I just can't believe that  Americans are going to let democracy die. #Resist\n",
      "302:  Sounds like Donald Trump knew Special counsel Robert Mueller ready to ask him about obstruction of justice. https://t.co/Z3nBBABo6K #Treason @realDonaldTrump #GOPRussia #FBR #TrumpRussia #Mueller #Resist #MAGA #2A #1A #GOP #tcot #ccot #Patriot #AmericaFirst\n",
      "1580:  https://t.co/o9WTL93RZG … Sessions #onemorevote #ThisIsUs WITCH HUNT Wages Rubio #BoycottNRA @jpw643 #BBCeleb Schiff #RESIST Trump's Russian #NunesMustResign Hope Hicks #BREAKING #REVOLT One By One END THE NRA Manafort #trump Dick's Sporting Goods #UnrigTheSystem Ring #SDLive https://t.co/eSxwA5SsjP\n",
      "\n",
      "rep-base\n",
      "\n",
      "1972:  The Mueller investigation is illegitimate, launched on false pretenses by a piece of partisan propaganda filled with Russian misinformation and by the illegally leaked memos of a disgruntled former employee of the Executive Branch seeking revenge. #MAGA #tcot\n",
      "1526:  The criminal treasonous coup attempt called the \"Mueller investigation\" needs to end, &amp; Mueller, aka the \"Deep State fixer,\" needs to be investigated. Book 'im, Dano. #EndTheCoup #DrainTheSwamp #MAGA @realDonaldTrump @seanhannity @TuckerCarlson @RealAlexJones https://t.co/RplfZSuh0r\n",
      "2109:  This God darned WITCH HUNT!\n",
      "\n",
      "#MAGA you got conned. https://t.co/z4Yo9YNFov\n",
      "1841:  @PoliticalPossum @sldsands @ZIPPY4451 @DeplorableAuntB @cazam_c @cydruc @JohnCooper0610 @Mofrodo @clasimpmv @DCarver1018 @Patriotmom2one @SuePickles80 @BostonPatriot @1angryhillbilly @FernBrackens @America1sted @Mikeproudvet @ryteouswretch @mtebert84 @realDonaldTrump NOBODY EVER FORGET IF IT WASNT FOR THAT COWARD &amp; LIAR SESSIONS- THERE WOULD BE NO MUELLER WITCH HUNT. ALL THIS IS ON SLIME SESSIONS THE SPINELESS ONE #KAG #Mueller #DonaldTrump #MAGA #Trump #TrumpTrain #TrumpsArmy #FAKEMEDIA #MuellerWitchHunt #DeepState @realDonaldTrump #POTUS https://t.co/cYIqjUDEx4\n",
      "419:  Congress didn't appoint Mueller as special counsel. Deputy Attny General Rod Rosenstein did. And that's another reason Mueller's #WitchHunt is illegal. He'd have to've been appointed by Congress to have the power he's (illegally) welding. @SenatorBurr @DevinNunes #MAGA #KAG https://t.co/QwF1l6Wf5x\n",
      "1671:  IS IT POSSIBLE MUELLER INVESTIGATION WILLEND WITH MCCABE FIRING? https://t.co/Y2ZaFZ8MU7\n",
      "72:  @realDonaldTrump President #Trump. It is also necessary to abolish the witch hunting of #Russia, but we need to abolish witch hunting in #China as well. The most necessary thing is witch hunting in the United States.👏👏👏👍😜🇺🇸 https://t.co/rOO4w6gORh\n",
      "70:  Aaaand...another witch is found.  The witch hunt just keeps finding more and more witches.  \n",
      "#Manafort #Russia #Trump #Russiagate #WitchHunt https://t.co/pU9VU4tGh2\n",
      "2127:  @esaagar Of course they're \"working on it\". No doubt he surprised a majority of people with the proclamation. \n",
      "\n",
      "If #Trump believes the #DOJ is corrupted, maybe he'll institute is own special counsel to investigate the #Mueller special counsel. This is #ObstructionOfJustice \n",
      "\n",
      "#MAGA?\n",
      "1818:  Be ready to show your support behind the Mueller investigation. #Mueller #Rosenstein #LockHimUp #Trump #MyAttorneyGotArrestedMAGA https://t.co/4zqdn2zojJ\n",
      "\n",
      "dem-lead\n",
      "\n",
      "1481:  @EddieZipperer Papadopoulos and Don Jr both tried to collude. Were there others? I don't know and neither do you. But Special Counsel Mueller knows.\n",
      "1104:  A Special Counsel is NOT enough and is NOT independent, they are part of @POTUS's team. We need an #independentProsecutor NOW!\n",
      "150:  Trump wants to fire Rosenstein so he can appoint a DepAG that will shut down the Mueller investigation. Devin Nunes thinks this resolution will give Trump political cover to do that. Nunes was on Trump’s transition team. What is Nunes afraid DOJ will find? https://t.co/sSYjFuUvi8\n",
      "243:  1. @HurdontheHill voted to release the Nunes Memo that alleged the FBI abused its surveillance tools. The memo was highly misleading, omitted key facts, and aimed to discredit the Mueller investigation.\n",
      "1058:  As w/ Benghazi Committee, GOP is not seeking out truth or better policy. They want to use taxpayer resources for a witch hunt. #StandWithPP\n",
      "413:  Americans deserve to know the truth about the 2016 election. Any attempt by the president to interfere with Special Counsel Robert Mueller’s investigation or pardon Cohen or Manafort would be a very serious offense.\n",
      "569:  The Senate must step up to protect the Special Counsel immediately. We must pass the bipartisan bill to protect the Mueller investigation. The American people deserve answers about Russian interference in our democracy.\n",
      "731:  In our democracy, NO ONE is above the law, including the President of the United States.  \n",
      "\n",
      "We must protect the independence and integrity of Special Counsel Mueller’s investigation.\n",
      "925:  On Rachel @maddow last night for a lively interview that covered everything from the Mueller investigation to what just happened in our election. Finding common ground in America is how we get to higher ground. Check out the handoff to Lawrence O’Donnell! https://t.co/ML3dIoxlfM\n",
      "81:  We must allow the Mueller investigation to continue (uncontested) #debatenight #NY21\n",
      "\n",
      "rep-lead\n",
      "\n",
      "1731:  Added my name to legislation today that would protect Special Counsel Mueller. This is not about politics, but it is about the rule of law.\n",
      "1142:  I'm being FORCED to pay for this witch hunt. @POTUS https://t.co/cPaJxJ8hcO\n",
      "1143:  NO WONDER THE SLIME BALL WAS FIRED. Comey acknowledged he'd leaked memos of his meetings w/ Trump to media to get special counsel appointed. https://t.co/hPvfe6SNq9\n",
      "1110:  Special Counsel Will Take Over FBI Russia Campaign Interference Investigation  https://t.co/GCplIODmCk\n",
      "1604:  The DOJ and FBI cannot investigate themselves—that’s why we need a second Special Counsel. Glad to @RepGoodlatte and @TGowdySC join the call. https://t.co/QmiFk3l09K\n",
      "2121:  @_VachelLindsay_ @RealDocBrent Mueller interviews with Trump and Rosenstein for four hours and is appointed special counsel almost immediately thereafter? He's working for Trump. I have zero doubt.\n",
      "2142:  Tune in to @FoxBusiness at 3:15PM CENTRAL. Will talk to @AftertheBell re: House Republicans calling for second special counsel to investigate alleged FISA abuse, Hillary Clinton probe. https://t.co/XQWVXZp9fC\n",
      "1719:  Every member of Congress should be speaking up to protect Special Counsel Mueller’s investigation. He must be allowed to do his job without fear of an unjust removal spurred by partisan motivation. https://t.co/exbVpP46if\n",
      "1533:  STOP SPREADING FAKE NEWS FOR A WITCH HUNT!  The President was within his rights to fire Comey...NO collusion,... https://t.co/eyKxf3XnS3\n",
      "587:  Congress comes back into session this week for what could be the last time until after the election. \n",
      "\n",
      "The FIRST VOTE we take tomorrow should be to protect Robert Mueller and his investigation. \n",
      "\n",
      "https://t.co/wfV9SrkobH\n",
      "\n"
     ]
    }
   ],
   "source": [
    "print_samples_all_groups(tax)"
   ]
  },
  {
   "cell_type": "markdown",
   "metadata": {},
   "source": [
    "### Technology"
   ]
  },
  {
   "cell_type": "code",
   "execution_count": 45,
   "metadata": {},
   "outputs": [
    {
     "name": "stdout",
     "output_type": "stream",
     "text": [
      "I'm trying\n",
      "Connected to political tweets DB\n"
     ]
    },
    {
     "data": {
      "image/png": "[encoded data removed]",
      "text/plain": [
       "<Figure size 432x288 with 1 Axes>"
      ]
     },
     "metadata": {
      "needs_background": "light"
     },
     "output_type": "display_data"
    }
   ],
   "source": [
    "tech = run_vader(\"technology\")"
   ]
  },
  {
   "cell_type": "code",
   "execution_count": 46,
   "metadata": {},
   "outputs": [
    {
     "name": "stdout",
     "output_type": "stream",
     "text": [
      "dem-base\n",
      "\n",
      "1037:  Sign now: @JanSchakowsky and @SenWarren are out to break Big Pharma monopolies https://t.co/UHyRnon3Py via @CREDOMobile #resist\n",
      "892:  Support the bold progressive proposal to lower Rx drug prices https://t.co/fe5uSyH1ye via @CREDOMobile #resist cc @RoKhanna @SenSanders\n",
      "1633:  Great NYT diagnosis article and a pox on all of the big Pharma corporations that continue to expand while Americans suffer from unaffordable but necessary drugs AND the opiod epidemic. #NCresists #resist #theresistance https://t.co/ePPPCNq92E\n",
      "966:  Sign now: @JanSchakowsky and @SenWarren are out to break Big Pharma monopolies https://t.co/Ha0G7hk869 via @CREDOMobile #resist\n",
      "1042:  Add your name: Donald Trump lied. Big Pharma just announced price hikes. https://t.co/KYVVjwPQoa via @CREDOMobile #resist\n",
      "1947:  #Democrats @NancyPelosi &amp; @chuckschumer you realize it is President #Trump putting the pressure on drug companies &amp; this company just reduced its prices by 30% to us regular working Americans?\n",
      "\n",
      "All you Democrats do is support animals like #MS13 &amp; block good things for Americans. https://t.co/CiOa0HT86F\n",
      "1007:  Sign now: @JanSchakowsky and @SenWarren are out to break Big Pharma monopolies https://t.co/uVslBavi9Q via @CREDOMobile #resist\n",
      "1024:  Act now: Break up Big Pharma monopolies on generic drugs https://t.co/MeCcdwVwKU via @CREDOMobile #resist\n",
      "322:  Pretty hard to get New Jersey to vote for a big Pharma who makes millions upon millions of dollars off of the medication for cancer patients. #VoteBlue https://t.co/YlsaSRN7Yb\n",
      "839:  Support the bold progressive proposal to lower Rx drug prices https://t.co/BOdgvTg3fC via @CREDOMobile #resist cc @RoKhanna @SenSanders\n",
      "\n",
      "rep-base\n",
      "\n",
      "19:  Be very careful who you follow. Seek God for the answers, not man and big pharma. Big pharma has been slowly killing us for decades. https://t.co/Jh5jJGB6G4\n",
      "1689:  So he is not invested in Big Pharma then. \n",
      "#BigPharma #MAGA #opioidcrisis https://t.co/eoUyjH28hN\n",
      "11:  Right to Try Act = a giant FU to big pharma. #maga\n",
      "1639:  @chelseahandler FULL OF SH*T COMMENT...AGAIN... LET US INSTEAD ADDRESS THE BIG PHARMA THAT WARPS AND MANIPULATES THESE KIDS.. YOU ARE NOT LOOKING FOR A SOLUTION CHELSE, JUST  DIVIDING THE PEOPLE.. #LockThemAllUp #MAGA #Obamagate\n",
      "1825:  The opioids grown in Afghanistan are for Big Pharma moron, which the proceeds are used to fund Wahhabist mercenaries in the ME, you Zionist cuck. Lol. #MAGA https://t.co/8wd9uzBLcE\n",
      "1574:  POTUS says taking prescription drug prices down is a priority this year. More great news for the American people. #MAGA #SOTU https://t.co/Xw1LPC4DRR\n",
      "804:  So just read big pharma now holds the CBD/THC patents for cancer treatment. Who owns patents?\n",
      "Serco... Fun day of research right there if you dont know who or what that is.... Dig dig dig!!! \n",
      "#canpoli \n",
      "#MAGA\n",
      "1555:  Trump is railing against drug companies that gouge patients in an introduction of his new HHS secretary: a guy who gouged patients at Eli Lilly #populism #heartland #MAGA #TCOT\n",
      "480:  #trump's trade deal addresses the disparity in drug prices between US and Canada.... by helping #BigPharma raise prices in Canada\n",
      "923:  YES!!! Italy shows the way with anti-vaccine move. Vaccines are poison. Period. They are used to make us sick so they can sell us more poison disguised as \"cures\"--which only treat symptoms and prolong disease. Big Pharma is pure EVIL. #ThesePeopleAreSick #MAGA #TheGreatAwakening https://t.co/5iIIioO47e\n",
      "\n",
      "dem-lead\n",
      "\n",
      "41:  Mr. President, remember May 30th? When you said that within 2 weeks “big drug companies”  would announce “voluntary massive drops in prices” because of your Rx drug plan?   I do. \n",
      "\n",
      "Well, it's been 2 weeks.  Talk may be cheap but drug prices aren’t.  #WheresTheBeef? https://t.co/nNv6m0CYt6\n",
      "365:  I sent a letter in support of this provision with a bipartisan group of house members, and the Pharma lobby still managed to make it go away. Prescription drug prices are a crisis that must be dealt with ASAP https://t.co/gi7UpZ2CLb\n",
      "501:  We had more than 100 people come out last night to ask questions about protecting Medicare and Social Security, lowering the cost of life-saving prescription drugs, and building an economy that allows the next generation to thrive in #WA03's rural communities. https://t.co/KarrdcRVFO\n",
      "61:  Prescription drugs are critical to the health of so many Americans. It is time that we start seeing life-saving prescription drugs as human rights, not items for profit.\n",
      "42:  Part of my plan to address the opioid epidemic includes holding drug companies responsible. Congress must force these companies, who misled us about the harmful effects of opioids for decades, to reform, pay up, and be brought to justice. https://t.co/ispkjaTvxd\n",
      "184:  The Trump administration is loosening the restrictions on short term health plans that undercut the Affordable Care Act. Short term plans are cheap and often shoddy alternatives that don’t have to cover maternity, mental health, prescription drugs and pre-existing conditions.\n",
      "1139:  Prescription Drug Take-Back Day was a success! ICYMI: Why it's important to clean out your medicine cabinet http://t.co/sKieIVwQDj #mapoli\n",
      "732:  Costs of health care are outrageous &amp; they’ve been increasing exponentially. We have so many people who literally can’t afford to fill their medication &amp; eat or pay their rent while our Congress is letting big pharma profiteer off of the American people.  https://t.co/KtQFwYCVlR\n",
      "517:  The cost of health care is a huge burden for families across Minnesota. I hear you. That’s why I’m fighting to lower the cost of health care, protect people with pre-existing conditions, and bring down the cost of prescription drugs. https://t.co/8yMmtrzqz8\n",
      "266:  Our health care system isn't designed to provide quality, cost-effective care for all. It exists to make profits for insurance companies, drug companies and medical equipment suppliers. That must change. #MedicareForAll https://t.co/QYRZggdJIV\n",
      "\n",
      "rep-lead\n",
      "\n",
      "1238:  Tomorrow is National Prescription Drug Take Back Day with drop off locations across #MI07. https://t.co/4B20nYOFGa https://t.co/KWew3QFbC1\n",
      "262:  .@clairecmc let her partisanship get in the way of healthcare solutions. She sided with Big Pharma, the insurance lobby over MO families. The current system is indefensible. Let’s fix it. #MOSen\n",
      "1497:  Across the border of SW Arkansas lies NE Texas. A multitude of Texas counties have launched lawsuits against Big Pharma and Big Insurance for predation upon vulnerable patients in these communities. https://t.co/15reVlz8ZZ\n",
      "149:  No one should have to choose between putting food on the table &amp; paying for prescription drugs. #ABetterDeal #ForThePeople https://t.co/HNkybxmBF9\n",
      "1125:  New labeling reqs are a good first step but we need more to curb the prescription drug epidemic. http://t.co/y3fGeqgdt6\n",
      "1235:  Prescription Drug Take-Back Day is this Saturday. Turn in your unwanted medication to prevent abuse &amp; accidents. https://t.co/s52peYJffp\n",
      "273:  Great meeting with L.I. @AARP advocates. Focused on preserving medical expense tax deduction and Medicare prescription drug formula. Full agreement! https://t.co/jqZYMshXPs\n",
      "30:  Americans have been calling for Congress to act on slowing the rise of prescription drugs – yet the @HouseGOP refuses to act. Americans deserve #ABetterDeal: https://t.co/7ODuBopObn\n",
      "1395:  Prescription drug prices went up 12.6% in 2014 and 10% in 2015. This isn’t sustainable. Time for #ABetterDeal\n",
      "1478:  #NationalDrugTakeBackDay prevents prescription drug abuse, but also keeps our environment &amp; water clean. FAQs here: https://t.co/Wo1LMZ8mF4\n",
      "\n"
     ]
    }
   ],
   "source": [
    "print_samples_all_groups(tech)"
   ]
  },
  {
   "cell_type": "markdown",
   "metadata": {},
   "source": [
    "### Women's Rights"
   ]
  },
  {
   "cell_type": "code",
   "execution_count": 47,
   "metadata": {
    "scrolled": true
   },
   "outputs": [
    {
     "name": "stdout",
     "output_type": "stream",
     "text": [
      "I'm trying\n",
      "Connected to political tweets DB\n"
     ]
    },
    {
     "data": {
      "image/png": "[encoded data removed]",
      "text/plain": [
       "<Figure size 432x288 with 1 Axes>"
      ]
     },
     "metadata": {
      "needs_background": "light"
     },
     "output_type": "display_data"
    }
   ],
   "source": [
    "wr = run_vader(\"women_rights\")"
   ]
  },
  {
   "cell_type": "code",
   "execution_count": 48,
   "metadata": {},
   "outputs": [
    {
     "name": "stdout",
     "output_type": "stream",
     "text": [
      "dem-base\n",
      "\n",
      "1984:  @fred_guttenberg @lacunalingua Vote for American decency to return. Vote for all the kids who have died from gun violence. Vote so that no one in our country goes hungry or can’t get healthcare. \n",
      "#VoteBlue\n",
      "#ReturnChecksAndBalances\n",
      "7627:  Yes gun nuts. “Assault weapons” DO include AR-15s. \n",
      "#BanAssaultWeapons \n",
      "#MarchForOurLives \n",
      "#VoteThemOut \n",
      "#BlueWave2018 https://t.co/32PFfz8mcq\n",
      "8208:  @emilyannkaban #Together I’m Approaching gun reform from a heartfelt artistic standpoint. Parkland shooting victim Hip Hop song from the heart. https://t.co/IvPJqz68a0 lets all work together! #neveragain #MarchForOurLives #resistance #TheResistance #NorthWesternWalkout\n",
      "8225:  @SchrbrM #Together I’m Approaching gun reform from a heartfelt artistic standpoint. Parkland shooting victim Hip Hop song from the heart. https://t.co/IvPJqz68a0 lets all work together! #neveragain #MarchForOurLives #resistance #TheResistance\n",
      "8341:  3 seconds in and already a line demanding a fight for gun control ✊🏾✊🏾#ScandalFinale #RESIST\n",
      "1836:  @FiveRights is SO right! #NationalSocialism/#Fascism is exactly what #Democrats are promoting. \n",
      "*Sacrifice ALL for the state--including all your freedoms\n",
      "*Abuse those who disagree with you-especially through control of media\n",
      "*Nonstop Propaganda\n",
      "*Gun Control\n",
      "*HealthcareControl https://t.co/pEt6ASh7IW\n",
      "5854:  @williamlegate A background check does not disclose if you're a terrorist or mentally ill!  Ban automatic weapons! #ENOUGH #WeCallBS #resistance 💙🌊🇺🇸💙🌊\n",
      "1994:  @realDonaldTrump If you are VOTING for the 1st time tomorrow just remember when you go into the booth how this president did ABSOLUTELY NOTHING about gun control &amp; has NO SPINE to stand up to the NRA. Let's put him in check &amp; send him a message tomorrow! #VoteBlue #VOTE\n",
      "5989:  If Trump is truly serious about saving lives, he will direct the GOP and NRA to stop blocking gun violence research. You can't claim to value life while you supply and profit from murder and death.\n",
      "\n",
      "#ParklandStudentsSpeak #GunControl #NeverAgain \n",
      "#MarchForOurLives #resist #trump\n",
      "6593:  By offering discounts to NRA members @FedEx is taking a political position supporting no changes to gun laws including the rights of anyone to buy weapons of war without thorough background checks. #BoycottFedEx #NeverAgain #resist https://t.co/GJcRy9GKbb\n",
      "\n",
      "rep-base\n",
      "\n",
      "2295:  @Manniefield Idc when it was all I know is they lacked gun control. #maga\n",
      "8933:  There was a time our educational system taught #Patriotism, love of country, respect for the #USConstitution &amp; pledged allegiance. Guess how many school shootings then? ZERO #MSM #POTUS #Democrat #Republican #US #NEAHigherEd #NEAFoundation #NEAToday #NEA #America #MAGA #QAnon\n",
      "5142:  Amazing: every #GOP politician, from the Florida contingency right up to @realDonaldTrump, parrots the same #mentalillness line.\n",
      "No-one, not a single one, mentions banning assault weapons.\n",
      "It's almost as though they got a memo or something.\n",
      "Talking points!\n",
      "#BanAssaultWeaponsNow\n",
      "7678:  @GarrisonTrump @kazweida Banning \"assault weapons\" is not the best answer.  A BETTER answer would be banning all handguns and semi-automatic weapons.  But it is going to take the end of the #NRA and their bribery of the #GOP before that can happen. https://t.co/zNKeQ8EFEW\n",
      "5850:  BONGINO: Big John’s attacks on the Bill of Rights continue. As a central figure in the Obama spying scandal he assaulted the Fourth Amendment, and now he’s moving on the Second Amendment. Only 8 more to go big guy! https://t.co/UfGeadeZgQ #TCOT #MAGA #PJNET\n",
      "4890:  #ParklandShooting .@realDonaldTrump will offer #ThoughtsAndPrayers and NOTHING else. #NRA will say #ArmTeachers with semi-automatic weapons. What say you #MAGA? Can we have SOME reasonable controls that are designed to protect #OurChildren?? 2nd Amendment is not a SUICIDE PACT!\n",
      "8133:  #ORpol #republican/shock jock\"Rep. Bill Post, R-Keizer...posted...phone numbers and home addresses of three organizers...to ban sales of assault weapons in Oregon.\"https://t.co/SrnevzOxbF \"The Oregon Legislature and Oregonians deserve more than shock talk.\"https://t.co/65YuP9OmFC https://t.co/Qv6PZSh01t\n",
      "2516:  @sallygally27 How many have to die? pass gun reform legislation,  have the #GOP get an education,  follow the law, dont support lies, treason, conspiracy,  and impeach those who work with a foreign power\n",
      "7041:  @NPProPia @t0lerantparad0x @LauraLoomer @davidhogg111 Really? Every time a wacko kills a few people, the #LEFT wants to ban #GUNS. Guns don't kill, people do. Gun laws and purchasing procedures are already in place. How about removing #MentalHealth from under HIPA so it reflects with @ATFHQ #MAGA\n",
      "6816:  Don't miss this. \n",
      "\n",
      "The Executive Director of @NRA, @ChrisCoxNRA, says after meeting with @POTUS that neither Trump nor Pence \"want gun control\".\n",
      "\n",
      "Who owns whom? I think we know.\n",
      "\n",
      "Trump and Pence answer to a different master, and the master just sold them out. https://t.co/LmfdK18UpW\n",
      "\n",
      "dem-lead\n",
      "\n",
      "1586:  Passing common sense gun legislation has never been a priority of a GOP controlled Congress, despite its support from voters. We must do better. I am proud to be endorsed by  @NewtownAction.  https://t.co/luSThoWIbj\n",
      "8698:  Reports today that the state of Florida failed to properly update the background check database that's used to keep mentally ill from buying a gun. That’s unacceptable. I am calling on DOJ to provide the funding needed to get this fixed ASAP. \n",
      "\n",
      "https://t.co/9zYjKD8SuF https://t.co/XNwhLXjFkN\n",
      "2711:  Father of Newtown victim speaks up for son at Senate hearing on Dianne's assault weapons ban. http://t.co/l1YKvhp0AL #theydeserveavote\n",
      "4461:  There was another tragic shooting yesterday. As we pray for the victims and their families, we must adopt common-sense gun laws to stop this violence.\n",
      "8605:  Proud to be one of these candidates committed to commonsense gun safety laws. As a combat veteran, and a parent, I’m reaching across communities to talk solutions. It’s why I’ve been endorsed by @Bradybuzz and named a gun sense candidate by @MomsDemand Action. #TX21 #NoNRAMoney https://t.co/ehHAVtfPd8\n",
      "7639:  It is inspiring to see so many young people raising their voices to #EndGunViolence! I am proud to march with @MFOLSeattle today &amp; demand that Congress take action on gun control BEFORE the next tragedy. We can’t sit silently by any longer. #MarchForOurLives #MFOLseattle https://t.co/SqAZabwHIM\n",
      "6950:  As a mother of three young children, I refuse to accept a government that has decided the lives of my kids are unimportant. If I'm elected you better believe I'll be a strong proponent of sane gun control laws\n",
      "#CA45 #FlipTheHouse #GunControl https://t.co/Q5ivnSOyrQ\n",
      "8501:  @Outdoorsman_33 @Kopser4Congress @MomsDemand @Bradybuzz @TX21HillCountry @txhcm @HCHerald @KUT @kerrville @Everytown @GiffordsCourage @JCPress @SpecNewsATX Thanks Gone Hunting, I'll use a more nuanced analogy going forward. That said, to continue the analogy, how to you propose to counterbalance the mass shootings that have been on a rise in our society over the last 25+ years.   (I have included that section below for reference) https://t.co/du6jaSfhes\n",
      "361:  Today, I'm thinking about the 49 loved ones ripped from their families and friends at #Pulse two years ago. We remember them, and we #HonorThemWithAction when we fight to prevent gun violence &amp; ensure that every LGBTQ+ person is safe to be who they are.\n",
      "4155:  We need action NOW. We shouldn’t need to worry about gun violence every time we go to a concert, nightclub or school.\n",
      "\n",
      "rep-lead\n",
      "\n",
      "3017:  Thanks to @WBUR for having me on to talk gun control, casinos, and the race for speaker of the house. Listen here: http://t.co/MosiFZ8lT9\n",
      "1266:  Mark Davis exposes the truth on Allred’s positions on the 2nd Amendment, as well as big gov single-payer health care. “I would support a single-payer health system.” “Would it be better had it (the 2nd Amendment) not been written? Of course.” Listen now! https://t.co/vRUszrpzKT\n",
      "8970:  @dan_doug @JustinAKrull @nerdymiscreant Universal background checks, banning bumpstocks, limits on magazines, limits on reciprocity until a federal licensing standard is developed, comprehensive and mandatory possession and use education, universal liability insurance\n",
      "394:  #NationalFlipFlopDay is a great day to remind #OH13 of @TimRyan's flip flops on:\n",
      "• Taxes\n",
      "• Immigration\n",
      "• Trade\n",
      "• The 2nd Amendment\n",
      "• Abortion\n",
      "• @NancyPelosi, etc...\n",
      "We need a congressman who has the same values and beliefs at home as he does in DC...not one who flip flops. https://t.co/NJzPp0jbxh\n",
      "4009:  I support the second amendment and will protect it as Governor of Virginia. https://t.co/lz7JfuHvHF\n",
      "1419:  We had a great reception on the doors in Hoyt Lakes! Had wonderful discussions with voters about my support for mining, the sanctity of life and the Second Amendment. https://t.co/WXf50J072X\n",
      "1907:  Gun control doesn't work. Criminals don't obey the law, only law-abiding citizens. #mepolitics\n",
      "4492:  I support Attorney General Jeff Sessions' review of our gun background check system to ensure that fugitive criminals cannot buy guns. https://t.co/UQktINgEz6\n",
      "4170:  @EliWoody8 We consistently support the 2nd Amendment in Maine, even by popular vote at the ballot box. And we are also ranked among the safest states.\n",
      "3788:  I am pro-2nd Amendment and will only vote and write legislation that upholds our right to bear arms.  #gunvote\n",
      "\n"
     ]
    }
   ],
   "source": [
    "print_samples_all_groups(wr)"
   ]
  }
 ],
 "metadata": {
  "kernelspec": {
   "display_name": "Python 3",
   "language": "python",
   "name": "python3"
  },
  "language_info": {
   "codemirror_mode": {
    "name": "ipython",
    "version": 3
   },
   "file_extension": ".py",
   "mimetype": "text/x-python",
   "name": "python",
   "nbconvert_exporter": "python",
   "pygments_lexer": "ipython3",
   "version": "3.6.3"
  }
 },
 "nbformat": 4,
 "nbformat_minor": 2
}
