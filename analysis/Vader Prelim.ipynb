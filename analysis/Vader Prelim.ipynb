{
 "cells": [
  {
   "cell_type": "markdown",
   "metadata": {},
   "source": [
    "# Vader"
   ]
  },
  {
   "cell_type": "code",
   "execution_count": 1,
   "metadata": {
    "collapsed": true
   },
   "outputs": [],
   "source": [
    "# Uncomment and run this cell if the relative imports are not working\n",
    "import sys\n",
    "sys.path.append('..')"
   ]
  },
  {
   "cell_type": "code",
   "execution_count": 2,
   "metadata": {
    "collapsed": true
   },
   "outputs": [],
   "source": [
    "%matplotlib inline\n",
    "\n",
    "from utils.db_client import DBClient\n",
    "from utils.vader import VADER_Analyzer\n",
    "import pandas as pd\n",
    "import numpy as np\n",
    "import seaborn as sns\n",
    "import matplotlib.pyplot as plt"
   ]
  },
  {
   "cell_type": "code",
   "execution_count": 3,
   "metadata": {
    "collapsed": true
   },
   "outputs": [],
   "source": [
    "topics = ['civil_rights', 'courts', 'criminal_justice', 'drugs', \n",
    "          'econ_inequality', 'econ_jobs', 'education', 'environment', \n",
    "          'foreign_policy', 'governance', 'guns', 'health', 'immigration', \n",
    "          'puerto_rico', 'rural', 'russia', 'shutdown', 'social_security', \n",
    "          'taxes', 'technology', 'women_rights']\n"
   ]
  },
  {
   "cell_type": "code",
   "execution_count": 4,
   "metadata": {
    "collapsed": true
   },
   "outputs": [],
   "source": [
    "def run_vader(topic):\n",
    "    v = VADER_Analyzer(topic)\n",
    "    v.get_data()\n",
    "    v.run_vader()\n",
    "    v.outcome_by_group()\n",
    "    v.results_for_plotting()\n",
    "    v.plot()\n",
    "    return v"
   ]
  },
  {
   "cell_type": "code",
   "execution_count": 5,
   "metadata": {
    "collapsed": true
   },
   "outputs": [],
   "source": [
    "def print_samples(vader_analyzer, group):\n",
    "    for index, value in vader_analyzer.df[vader_analyzer.df.group == group].sample(10)[\"tweet_text_raw\"].iteritems():\n",
    "        print(f\"{index}: \", value)"
   ]
  },
  {
   "cell_type": "code",
   "execution_count": 6,
   "metadata": {
    "collapsed": true
   },
   "outputs": [],
   "source": [
    "def print_samples_all_groups(vader_analyzer):\n",
    "    groups = ['dem-base', 'rep-base', 'dem-lead', 'rep-lead']\n",
    "    for group in groups:\n",
    "        print(group)\n",
    "        print(\"\")\n",
    "        print_samples(vader_analyzer, group)\n",
    "        print(\"\")"
   ]
  },
  {
   "cell_type": "markdown",
   "metadata": {},
   "source": [
    "## Vader by Topic"
   ]
  },
  {
   "cell_type": "markdown",
   "metadata": {},
   "source": [
    "### Civil Rights"
   ]
  },
  {
   "cell_type": "code",
   "execution_count": 9,
   "metadata": {},
   "outputs": [
    {
     "name": "stdout",
     "output_type": "stream",
     "text": [
      "I'm trying\n",
      "Connected to political tweets DB\n"
     ]
    },
    {
     "data": {
      "image/png": "[encoded data removed]",
      "text/plain": [
       "<Figure size 432x288 with 1 Axes>"
      ]
     },
     "metadata": {
      "needs_background": "light"
     },
     "output_type": "display_data"
    }
   ],
   "source": [
    "cr = run_vader(\"civil_rights\")"
   ]
  },
  {
   "cell_type": "code",
   "execution_count": 10,
   "metadata": {},
   "outputs": [
    {
     "name": "stdout",
     "output_type": "stream",
     "text": [
      "dem-base\n",
      "\n",
      "6128:  Don't be fooled—Trump's new\n",
      "\"conscience and religious freedom division of the office for civil rights at the Department of Health and Human Services\" is about discriminating against the #LGBTQ community and taking rights away from women.\n",
      "https://t.co/QBRTz3np4t\n",
      "5237:  Republicans are partying right after they voted to end health care coverage for millions of working people. https://t.co/1kMOgDRtZ3\n",
      "5301:  We lost an all time hero today. A fearless leader in civil rights, on the environment, and always for El Paso. https://t.co/lxNT818liJ\n",
      "210:  We need #SCOTUS to protect \n",
      "\n",
      "Labor Rights \n",
      "Voting Rights\n",
      "Women’s Reproductive Rights\n",
      "And to remind @POTUS\n",
      "\n",
      "NO ONE is above the Law. https://t.co/Ldppx6bNDQ\n",
      "7462:  Every American should have the freedom to love who they love without being treated differently. I’m proud to be a part the #NoH8 campaign. On this #DayOfSilence we stand up for justice &amp; equality. Join in my commitment to the LGBTQ community &amp; equal rights for all North Dakotans\n",
      "2132:  .@taylorswift13, thank you for supporting our campaign &amp; for using your platform to encourage young voters to head to the polls. Voting is one of the most important rights enshrined in our constitution. I encourage everyone to exercise their right to vote.\n",
      "https://t.co/zsyXNwbQOi\n",
      "352:  Thrilled to have the support of @EqualityNewYork, especially as we celebrate #ROCpride this week! I'm proud to stand as an ally to the LGBTQ+ community and will work every day to continue tearing down barriers that stand in the way of equal rights for all. https://t.co/tz38GFxMOq https://t.co/fEg0z0UbDr\n",
      "7465:  Texas had the lowest voter turnout in the nation during the 2010 and 2014 midterms. That's by design as our state has made it harder to vote and continued to disenfranchise certain Texans. Comes at the expense of our civil rights and Democracy as a whole.\n",
      "https://t.co/vLelIurT44\n",
      "5198:  .@USUN @nikkihaley From Tehran to Caracas to Chechnya, the US must speak out against all human rights abuses around the world https://t.co/PneUsCA7QV\n",
      "7987:  ...ensuring that we view medically accurate information and health care as a human right, not a third rail. Too much is at stake. Every person deserves the dignity of a compassionate, informed health care provider and the right to critical information...\n",
      "\n",
      "rep-base\n",
      "\n",
      "4818:  Some see greatness in not doing something, but greatness is by people that do. \n",
      "Why Kaepernick is right not to vote https://t.co/4nGkVMcFpa\n",
      "4087:  Outdated #NDAA fails to protect human rights &amp; taxpayer money. Check out my statement about why we need to #StopNDAA: http://t.co/kZBlCnwyc8\n",
      "5021:  #TomPrice will roll back progress on ACA, worsen opioid epidemic, &amp; destabilize our health system. He is the wrong choice for @HHS.\n",
      "914:  @AliBakirdan we have to stop considering this a free speech issue.  These are basic crimes on the books which internet companies are somehow immune from.\n",
      "6150:  Free speech is still a constitutional right.\n",
      "\n",
      "America’s kids need to learn that it’s healthy to disagree and debate. I believe that’s what makes us uniquely American!\n",
      "\n",
      "There should be free speech on college campuses: https://t.co/YPdteOB1Fv\n",
      "244:  ICYMI @MinotDailyNews: @EPA should continue former Administrator @ScottPruittOK’s legacy of rolling back regulations on energy and agriculture that have been harmful to ND.\n",
      "https://t.co/6sQY6VZPbd\n",
      "4179:  Today is #NationalVoterRegistrationDay! Register by the Oct 6 deadline to exercise your right to vote: http://t.co/fabLzQcxM8 #tx23\n",
      "3665:  We can let pornography slide. \n",
      "Just not a free press. https://t.co/N3y25xfJR5\n",
      "5863:  A vibrant and diverse economy encourages business growth, which stimulates job creation and helps to close the affordability gap seen by families from Carpinteria to San Miguel. By rolling back job-killing regulations in Washington, industries can return to the Central Coast. https://t.co/aiOLSv4TWe\n",
      "8026:  By upholding Ohio’s voter registration purge policy, the Supreme Court has paved the way for efforts to deprive Americans across the country of their right to vote. https://t.co/hMzGLJqsbL https://t.co/XsLZruoSPB\n",
      "\n",
      "dem-lead\n",
      "\n",
      "3551:  @business India is an oppressed &amp; poor country, huge population mostly poor, not enough resources, no human rights, epidemic of rape &amp; sexual attacks normalized! and a very bad track record of torture of minorities! Yet spending billions on nuclear and non nuclear arms! #DEMOCRATS #hrw\n",
      "449:  The Constitution DOES NOT guarantee equal rights for men and women. This is why we need the Equal Rights Amendment. #ERA and a #BlueWave in November \n",
      "https://t.co/mJA96zLImo\n",
      "2983:  The pool of potential voters in this country is FAR MORE LEFT, in every state, than people who do end up voting. A lot of this is thanks to voter suppression. If you are any kind of leftist, that's the battle you need to win before any program you imagine can be put into place https://t.co/FlmwTc8xZY\n",
      "765:  THIS is what #metoo gets you #DNC #Resist #Resistance #FBR #BlueWave2018 #DNC2018 #BlueWave #FBRParty #FollowBackResistance #Midterms #MidtermElections2018 #democrats #MondayMotivation #GOP #republicans #MAGA #Trump #KeithEllison @SenKirstenG @alfranken #14thAmendment DUE PROCESS https://t.co/HVLQ6mSfNk\n",
      "1755:  You know ....I am almost expecting \"Presidential Alerts\" to be going off all fday long on election day to cause panic and voter suppression ......\n",
      "#Resist Apathy and remember #NovemberIsComing https://t.co/XJv4FYCwAA\n",
      "3527:  Gerrymandering. Voter suppression. Why do people vote for a party that doesn't believe in democracy?\n",
      "\n",
      "\"The notion that elections count only when our side wins is nothing short of a repudiation of democracy.\"\n",
      "  --Lawrence Douglas\n",
      "\n",
      "#QOTD #RESIST\n",
      "https://t.co/wQuT60GuzA https://t.co/iToPgDWWhf\n",
      "7676:  #Democrats governed Confederate states. Southern Democrats backed slavery, Jim Crow laws, and founded the Ku Klux Klan. #Democrat legislators, governors, and mayors fought for segregation and opposed #CivilRights Act and voting rights for blacks. #Lincoln was a #Republican. https://t.co/U8d1KP5BIY\n",
      "1846:  Join Team \"My Body. My Right.\" \n",
      "\n",
      "Vote #prochoice this November.\n",
      "\n",
      "#RoeWarriorWed https://t.co/pDPEQVjpd6\n",
      "6947:  Seems a prime example of \"Free Speech\" for everybody except if they disagree with #Democrats &gt;California High School Teacher On Leave After Questioning School Shooting Walkout https://t.co/sus1BWYX9V\n",
      "494:  It isn't FAKE because it's critical of you or you don't like it &amp; it didn't 'morph' YOU started calling the media the Enemy of the People which is dangerous on so many levels, but since YOU don't believe in a FREE PRESS you wouldn't understand that #Resist #Trump #TrumpsAmerica https://t.co/iFJVoxHcrE\n",
      "\n",
      "rep-lead\n",
      "\n",
      "3481:  #realDonaldTrump Regime Voter  Suppression: Over a thousand absentee ballots destroyed in controversial North Carolina House race.\n",
      "\n",
      "@SenCoryGardner and @RepDLamborn endorse The #GOP Lifestyle\n",
      "\n",
      "https://t.co/J2alA3RvVi\n",
      "1896:  Jared #Kushner &amp; #Trump are bff with &amp; financially benefitting from Mohammed bin Salman who ordered the gruesome torture &amp; death of a WaPo columnist. \n",
      "\n",
      "This should be chilling for every American who supports free speech &amp; freedom. \n",
      "\n",
      "Where is our Congress? Scared. Again.\n",
      "6743:  #fascists turn out to crush free speech of #College Republicans they don't like. https://t.co/ynEeq2nUUt #highered #HigherEducation #tcot #FreeSpeech #AltLeft #CollegeRepublicans #Conservatives #Trump #PatriotPrayer\n",
      "7038:  The raw reality of liberal progressives who constantly claim how they respect and stand up for women and their equal rights... This deviant clown “persistently pursued subordinates for sex”.  #Hypocrisy #LiberalismIsAMentalDisorder #Libtards #PBS #MAGA https://t.co/gK0tQyGsTr\n",
      "6531:  @hredriders @snuamgiatr @BarackObama How does “gun safety” stop a mentally ill person from buying an assault rifle, that #trump made easy for him to do btw w/ the regulation he rolled back a year ago, &amp; use it to kill children?\n",
      "1705:  @SenatorCollins #MAGA🇺🇸\n",
      "Freedom and Due Process Prevails  \n",
      "Thank you Senator Collins\n",
      "Speech here:\n",
      "https://t.co/iLQHSeAv8V\n",
      "7432:  WHY is okay for Hillary Clinton to be gushing over a KKK leader? Who FILIBUSTERED the 1964 Civil Rights Act? Who said the N word on live TV in 2001? Who Hillary called her mentor and relied on his advice &amp; counsel? This makes me sick and should make you sick too.  #MAGA  #QAnon https://t.co/frm7abADSB\n",
      "1438:  It’s time Twitter is regulated for their bias against conservatives and their anti-@realDonaldTrump meddling and messaging. This media house is has taken it upon itself to regulate free speech and is hurting our democracy.  #MAGA\n",
      "2337:  @GOP @realDonaldTrump Trump's #MAGA facists white nationalists are using Putin's tactics to try to win through intimidation, violence, terrorism  and assasination.\n",
      "GOP lying, cheating, stealing, voter suppression &amp; gerrymandering not enough anymore.\n",
      "6290:  @kurteichenwald It may work because it provides electoral cover to #GOP by riling base in conjunction with gerrymandering and voter suppression\n",
      "\n"
     ]
    }
   ],
   "source": [
    "print_samples_all_groups(cr)"
   ]
  },
  {
   "cell_type": "markdown",
   "metadata": {},
   "source": [
    "### Courts"
   ]
  },
  {
   "cell_type": "code",
   "execution_count": 11,
   "metadata": {},
   "outputs": [
    {
     "name": "stdout",
     "output_type": "stream",
     "text": [
      "I'm trying\n",
      "Connected to political tweets DB\n"
     ]
    },
    {
     "data": {
      "image/png": "[encoded data removed]",
      "text/plain": [
       "<Figure size 432x288 with 1 Axes>"
      ]
     },
     "metadata": {
      "needs_background": "light"
     },
     "output_type": "display_data"
    }
   ],
   "source": [
    "courts = run_vader(\"courts\")"
   ]
  },
  {
   "cell_type": "code",
   "execution_count": 12,
   "metadata": {},
   "outputs": [
    {
     "name": "stdout",
     "output_type": "stream",
     "text": [
      "dem-base\n",
      "\n",
      "6889:  Too often, individuals with disabilities are pushed to the margins of their communities or struggling to get by.\n",
      "\n",
      "The Supreme Court's powerful Olmstead decision—reached 19 years ago today—ensures Americans with disabilities receive care in the most integrated setting possible.\n",
      "2397:  It took immense courage for Dr. Ford to come forward with her story, all the while knowing exactly how Republicans in Congress and Trump would treat her. Sadly, her fears—and the fears that so many other women experience—materialized.\n",
      "732:  Republicans want Brett Kavanaugh on the Supreme Court when their lawsuit to end coverage for pre-existing conditions comes before #SCOTUS.\n",
      " \n",
      "#WhatsAtStake? The coverage that helps Marnie’s daughter thrive while growing up with Down Syndrome. Watch⬇️ https://t.co/gxGg3V3H3h\n",
      "3610:  Thank you, @SenAmyKlobuchar, for your strong leadership in last week's hearing for Supreme Court nominee, Brett Kavanaugh. Your poise, dignity, and determination was powerful, you make Minnesota proud. https://t.co/17LOleTcAL\n",
      "1107:  My statement on the Senate Judiciary Committee announcing dates for the Supreme Court confirmation hearing for Judge Brett Kavanaugh: https://t.co/5poIRybHJ8\n",
      "4362:  Another originalist Justice on the Supreme Court. Another promise kept. Congratulations, Justice Kavanaugh.\n",
      "\n",
      "Thank you @POTUS @realDonaldTrump and Senate leadership for your outstanding work.\n",
      "1783:  The stage is set. @SCOTUS could decide the constitutionality and legality of President Trump’s many cruel and reckless immigration policies. Civil and human rights hang in the balance with this Supreme Court vacancy. #ImmigrantsAtStake  #LatinosAtStake\n",
      "1518:  This process has had practically no transparency from the start. What are Republicans and the Trump administration trying to hide? Proud of my Democratic colleagues on the Judiciary Committee for showing leadership.\n",
      "6835:  This is fantastic news! Next up: Michigan's Supreme Court then the ballot. It's time to put PEOPLE first! \n",
      "\n",
      "https://t.co/LfatuLFusO\n",
      "630:  I continue to believe the Senate Judiciary Committee should hold oversight hearings regarding the Administration’s policy that resulted in separating children from their parents and on its ongoing reunification efforts. -Joe\n",
      "\n",
      "rep-base\n",
      "\n",
      "5770:  To Nassau Supreme Court to swear in Terry Murphy as District Court Judge.\n",
      "726:  Judge Brett Kavanaugh is another incredible pick for the Supreme Court by @POTUS. Conservatives can be confident that he’ll defend our great Constitution. Help me congratulate Judge Kavanaugh by signing this form now! https://t.co/cFTvBacdD0\n",
      "762:  Supreme Court Nominee's Catholic Faith Plays Major Role in His Life - ENN 2018-07-10 https://t.co/XIWSWJ3RZB\n",
      "6130:  Thank you to my fellow African American Justices of the #NC Supreme Court for your important contribution to our state's history. https://t.co/Rjcq72uaf4\n",
      "6833:  The Supreme Court’s ruling on Monday was a lost opportunity to reaffirm the civil rights of millions of people in this country. #PrideMonth is a time to continue our fight against homophobia and transphobia in the spirit of love and equality. #OpenToAll\n",
      "\n",
      "https://t.co/ASmRJp5nOo\n",
      "4835:  The man who stood beside Brett Kavanaugh, @LindseyGrahamSC! https://t.co/ulR7wWleP5\n",
      "5354:  My statement on today's Supreme Court Voter Rights Act decision http://t.co/V1msebP8Ag  #gasen #gapol\n",
      "683:  I will work with President @realDonaldTrump and my fellow Senators to approve Judge Brett Kavanaugh. Join me in supporting Judge Kavanaugh’s nomination to the Supreme Court. #KavanaughSCOTUS #SCOTUS #SupremeCourt #MAGA #MSSEN #Mississippi\n",
      "4411:  I’m pleased the Senate voted to confirm Judge Kavanaugh. I’m certain his background and juris prudence will prove him to be a strong Justice for our great country.\n",
      "6622:  .@clairecmc, quit playing politics with our national security. You’ve voted to confirm Pompeo before. We need a Secretary of State in place. https://t.co/3X7ZsyPBSV\n",
      "\n",
      "dem-lead\n",
      "\n",
      "2733:  #Resist #fucktrump: \"The Closer You Look, the Worse Brett Kavanaugh’s Relationship with Mark Judge Appears\" https://t.co/ooFvhKiHV4\n",
      "3725:  @realDonaldTrump So now you attack the victim? You are a real man! Dr. Ford is a very brave woman. #Resistance #WhyWomenDontReport  #FBR\n",
      "#MushroomDick\n",
      "309:  @KurtSchlichter We did have our say at the ballot box.  We said corrupt #Democrats sucked.  We said we want a more conservative supreme court.\n",
      "5070:  almost like the Russians have something on trump.\n",
      "*Bye bye racist. trumps court nominee loses\n",
      "-Gym Jordan takes his caucus to the shower\n",
      "*Going to be a great holiday season\n",
      "#Resistance #Criminaltrump #Indivisible\n",
      "1762:  Senators now have to risk jail time to release documents that should be part of the public record?  We are moving exponentially faster towards an autocracy each and every day. @GOP you may get taxes &amp; a Supreme Court justice or two but is it worth the country? #resist #democracy\n",
      "6898:  @gregolear His vote on Citizens United has nearly destroyed the country. It certainly has crippled it.\n",
      "\n",
      "Clarence Thomas is the worst supreme court justice this country could have. Purely opportunistic. But the GOP has their boy on the Supreme Court. Sad. Just ask Anita. \n",
      "\n",
      "#Resist\n",
      "303:  @DanScavino @realDonaldTrump Hmm.. like how many votes are needed for a Senate confirmation of a Supreme Court Nominee?   Is that the rule are speaking of??\n",
      "\n",
      "#TrumpLies #Impeach45 #TrumpRussia #MAGA #Resist #MoronInChief\n",
      "1204:  Brett Kavanaugh Chose Corporations Over the Public in a Major #NetNeutrality Fight \n",
      "\n",
      "#Resist #RESISTANCE https://t.co/Sqen09keII via @aclu\n",
      "2301:  As a woman I am truly disgusted by Dr Ford's lies and #democrats shenanigans  \n",
      "\n",
      "Is it true you wrote the same letter about Judge Gorsuch? \n",
      "\n",
      "It's time for Juanita Broaddrick and Karen Monahan to be heard also #MeToo\n",
      "#Confirm #Kavanaugh #KeithEllison #BillClinton\n",
      "4692:  After an emotional rollercoaster of #resistance and the aftermath of Dr. Christine Blasey Ford's courageous testimony, it's hard to pick myself back up to fight. How do you build your #ActivismResilience? \n",
      "\n",
      "Here's what worked for me: https://t.co/4IUh47OLTS @the_wing #sisterhood https://t.co/0lnA2zvv9l\n",
      "\n",
      "rep-lead\n",
      "\n",
      "3681:  The Sovereignty of God and the Brett Kavanaugh Hearings #TCOT #MAGA https://t.co/ysETNhkRVl\n",
      "2471:  @ChuckGrassley Please Mr. Grassley if she makes another demand do not fall for it continue with the vote for Judge Kavanaugh, americans are sick of the democrat games this is all political keep up the good work!! #MAGA\n",
      "2769:  Christine Blasey Ford has four people to corroborate her claims against Kavanaugh - USA TODAY it’s hilarious the the #GOP (party that brags about morals/ethics/religion) wants to rush a nomination on a accused sexual predator.  Way to take high road GOP.   https://t.co/5P0Dij5j7s\n",
      "3503:  This is @JonTester’s record when it comes to Supreme Court Justices …. He ONLY backs Obama’s extreme liberal anti-#2A judges. #MAGA #mtsen #mtpol https://t.co/sqRgnJovps\n",
      "2884:  My thoughts and prayers are with Dr. Ford today.  Your bravery does not go unnoticed. Neither does the corruption within the #GOP . #NoKavanaughConfirmation\n",
      "4880:  #Trump Says #Pelosi Subpoena Threat Illegal - Vows to Take Battle to Supreme Court. #Midterms2018 #VoteDemsOUT2018 #MAGA  https://t.co/wN3OYyX5m2 via @gatewaypundit\n",
      "2636:  🇺🇸Noel Francisco, the Conservative Supreme Court Litigator Who Could Take Over Oversight of Mueller Investigation🇺🇸 @indywars @TrueliesQNN @ScotchJLK @st8blegenius @intheMatrixxx @PatriotsSoapbox @BWDeadcat @LisaMei62 @RealEyeTheSpy #WWG1WGA #Q #KAG https://t.co/5dA1nSUFs5 https://t.co/n4CSsSbPCS\n",
      "4067:  #KavanaughVote not just for Supreme Court Judge, it's for DUE PROCESS &amp; Ucan't #TRUMP THAT! #WalkAway NEW #KAG Vid\n",
      "https://t.co/knG5o6lROT\n",
      "4855:  NEWS-Pakistan \n",
      "Violent Religious Protests Erupt As Supreme Court Clears Christian Blasphemy\n",
      "#foxandfriends,#FoxNews,#msnbc,#cnn,#maga,#QAnon,#BBCNews,\n",
      "#Reuters,@Jerusalem_Post @STcom #morningJoe\n",
      "https://t.co/ncusoxMaoO\n",
      "2012:  A very good question about Supreme Court nominee Brett Kavanaugh:\n",
      "RT @thenapier https://t.co/5KAxQVvDsD\n",
      "\n"
     ]
    }
   ],
   "source": [
    "print_samples_all_groups(courts)"
   ]
  },
  {
   "cell_type": "markdown",
   "metadata": {},
   "source": [
    "### Criminal Justice"
   ]
  },
  {
   "cell_type": "code",
   "execution_count": 13,
   "metadata": {},
   "outputs": [
    {
     "name": "stdout",
     "output_type": "stream",
     "text": [
      "I'm trying\n",
      "Connected to political tweets DB\n"
     ]
    },
    {
     "data": {
      "image/png": "[encoded data removed]",
      "text/plain": [
       "<Figure size 432x288 with 1 Axes>"
      ]
     },
     "metadata": {
      "needs_background": "light"
     },
     "output_type": "display_data"
    }
   ],
   "source": [
    "cj = run_vader(\"criminal_justice\")"
   ]
  },
  {
   "cell_type": "code",
   "execution_count": 14,
   "metadata": {},
   "outputs": [
    {
     "name": "stdout",
     "output_type": "stream",
     "text": [
      "dem-base\n",
      "\n",
      "571:  @RepJasonLewis #SAFEJusticeAct implements successful reforms from states &amp; restores accountability, fairness, &amp; rationality to the criminal justice system\n",
      "101:  Flaccavento, local leaders talk about criminal justice reform https://t.co/jDBPqbUY6I\n",
      "667:  This week's #SundayIssue: Reforming Criminal Justice. https://t.co/d6HbKWHJ70\n",
      "523:  I just finished mtg with #thelinksinc and we had a great discussion about voting rights, criminal justice reform &amp; health disparities. https://t.co/EYApW2Xgi8\n",
      "574:  Honored to serve on a panel on Behavioral Health and the Front End of the Criminal Justice System @CSGJC #50StatePublicSafety Summit. Important work, look forward to continuing the work in Arkansas. https://t.co/SsRGWkWjh8\n",
      "42:  Hard pass. Working with and validating the Koch brothers on immigration and criminal justice reform while they are supporting some of the most heinous politicians and policies is not a win for America. https://t.co/ion1k0IX42\n",
      "428:  We're leading the way on finding bipartisan solutions for criminal justice reform.  http://t.co/Xm5LLb08zU\n",
      "514:  The criminal justice reforms through our Consent Decree &amp; complementary efforts by @BaltimorePolice must mark only the beginning of progress https://t.co/9zIOXB8H7I\n",
      "432:  It was good to see WVian Camai Mazzulla, who is in DC today for Criminal Justice Reform Capitol Hill Day. #AllRise15 http://t.co/3kTkt4CzCM\n",
      "332:  I also said to reporters today that I was pleased to see the Senate pass the bipartisan criminal justice reform bill, the #FirstStepAct. I hope the House can take action on this important legislation this week.\n",
      "\n",
      "rep-base\n",
      "\n",
      "25:  Weymouth Police Officer Michael Chesna, 42, was a graduate of Weymouth High School Class of 1994, studied criminal justice at Northeastern, a Veteran of Iraq and Afghanistan, and a Weymouth officer for 6 years.  Our deepest condolences to his wife and two daughters. https://t.co/PTSNVl4QN4\n",
      "391:  Pew public safety team tells @SDGovDaugaard the SD criminal justice initiative is best they've seen. #smartoncrime http://t.co/tLvzaFnqHE\n",
      "366:  Glad to be present for the signing of the historic First Step Act, and proud to have worked to keep our communities safe and our justice system fair. https://t.co/GZjFcncSRG\n",
      "178:  The fact that we have evidence just laying around in labs that could be used to bring criminals to justice is flat out wrong. President Trump signed my critical bill helping right this wrong and give law enforcement the resources they need. https://t.co/TIjjbzhGGP #NVsen\n",
      "398:  Thank you to Asm @JonesSawyer and Sen @HollyJMitchell for joining to discuss reforming our criminal justice system. http://t.co/jGLpMxMGwD\n",
      "789:  Glad to be working across party lines for criminal justice reform in #MN02. In just the last three decades we've added some 2000 crimes to the books and federal imprisonment rate has jumped over 500%. This 'overcriminalization' puts everyone in jeopardy. https://t.co/eLqjtFSkbm\n",
      "114:  .@SenWhitehouse attacked the very legitimacy of the Supreme Court, accusing the justices of being little more than politicians in robes. His attempt to politicize our justice system is deeply damaging to one of our most respected institutions https://t.co/IjAYKNyOqQ @DanYorkeShow\n",
      "280:  I have long supported criminal justice reform. I believe in reducing mandatory minimum sentences for non-violent drug offenders, and providing greater opportunities for offenders to be rehabilitated.\n",
      "382:  Gov. Deal wants review of juvenile justice system http://t.co/XEE8pNSL #gapol #gagop\n",
      "277:  Our ally Canada must stand strong and extradite her to the United States, where she will face something China does not have: a fair, impartial justice system. --&gt; https://t.co/jyqqaCxgNo\n",
      "\n",
      "dem-lead\n",
      "\n",
      "67:  I’d love to see these players supported by other players. Police brutality and a racist criminal justice system ruin American lives. We should all take action to bring about change #TakeAKnee #resist #blacklivesmatter https://t.co/NY3uYJn1r3\n",
      "231:  An acting AG to constrain the Mueller investigation. A judge who believes the President is above the law. This is beyond political parties. This is criminal.\n",
      "\n",
      "\"...our justice system may be broken beyond recognition.\"\n",
      "  --Sally Q. Yates\n",
      "\n",
      "#QOTD #RESIST\n",
      "https://t.co/wQuT60GuzA https://t.co/eVOxdNaMJT\n",
      "705:  @CNN Would the  agenda that Pimpleboy and Traitortrump have in common is the Make Russia Great Again agenda?\n",
      "No agenda is worth selling out our justice system\n",
      "#bluewave\n",
      "Is coming\n",
      "376:  Only reason Republicans passed criminal justice reform caller because more white people going to prison because of drugs especially opioids. They are robbing,burglarizing,and killing people for drug money. @cspanwj #ResignTrump #Resistance #BlueWave2020 #QAnon #Trump2020\n",
      "829:  Every day, Trump regularly berates &amp; bullies politicians or reg people.  He undermines the rule of law &amp; gaslights the Justice system. He regular says/tweets vile/racist/xenophobic remarks abt immigrants. #Resistance\n",
      "\n",
      "The left loses its cool - POLITICO  https://t.co/RkiVMVfN4p\n",
      "266:  This is hideous. This is a clear example of how our justice system is based on the fundamental truth of “guilty till proven rich”.  It’s nauseating! https://t.co/LYhAaaN1AW\n",
      "73:  #Police, #Sessions slam #ElizabethWarren for calling criminal justice system racist https://t.co/QhTkh1xhxz #FoxNews The new Antifa spokesperson. Any violence  against #LawEnforcement #Cops, she can share in the blame #Walkaway from  Progressive Radical #Democrats &amp;  Anarchists\n",
      "831:  @mjfree RETWEET if you believe @realDonaldTrump doesn't belong in America. He doesn't stand for American values and doesn't believe in or support our Constitution and American Justice System. RETWEET if you want him to leave America and take his crime syndicate with him. #Resist #Basta\n",
      "702:  @RWPUSA @CNNPolitics Any Congressman that does not protect Mueller by inaction is choosing to protect a very apparent traitor.  Let the Justice System WORK!  #Resist #THERESISTANCE\n",
      "706:  Republicans are thumbing their nose at the “rule of law” because they don’t agree with the out come. NO one is above the law, not even @realDonaldTrump Our Justice System must be protected,respected and obeyed. #BlueWave2018  https://t.co/WN3Fzp2iDj\n",
      "\n",
      "rep-lead\n",
      "\n",
      "715:  @GOP @SenateMajLdr @SenateGOP @SenateDems @JudicialWatch @TheJusticeDept @RepMattGaetz @foxandfriends @seanhannity @JaySekulow @SaraCarterDC @DevinNunes @BobGoodlatte6  This Justice System is CORRUPT! Liberal Judges don't follow RULE OF LAW/CONSTITUTION! https://t.co/0NRnCMCD9N\n",
      "192:  VOTE GOP the rights you save are your own. Look at how the democRATS removed presumed innocence at the Kavanaugh hearings. Our justice system is doomed if they get control of the House. https://t.co/LaUpXq55CW\n",
      "803:  Analysis: #Trump’s commutation of Alice Johnson’s sentence should not overshadow his administration’s criminal justice agenda https://t.co/sSWovoSXZU (via@washingtonpost)\n",
      "804:  Have you ever heard of the suffrage movement. This has already been adjudicated and legislated. Women have had the right to vote for quite a long time now. In America everyone has rights and that's why we have a Justice system and a BILL OF. RIGHTS. #KEEPAMERICAGREAT2020 #MAGA https://t.co/zWqeZmAFAr\n",
      "660:  @Kaepernick7 speaks/kneels against abuse in policing and the criminal justice system and #MAGA &amp; @GOP brand him disrespectful and un-American. Trump and the @NRA disrespect the thoughts and actions of police &amp; FBI and #MAGA cosigns it....What could it be? https://t.co/2qogVyFXA7\n",
      "669:  I keep saying where is the ACTION, Session needs to get off the pot or resign. I am tired of this two tier justice system (OR LACK THERE OF) that allows the wealth or elite to skate free in the same situation where you and I would be in JAIL. No wonder we have so much CORRUPTION https://t.co/YnVExWmQJ1\n",
      "816:  @realDonaldTrump @jeffsessions Sessions won’t do anything.  He’s one of the enemies of a One Tier Justice System.  Wray was embarrassing in his press conference yesterday.    Rosenstein runs the @DOJ #FireSessions #FireWray #FireRosenstein #MAGA2020 #MAGA https://t.co/mj4Zu7KMMw\n",
      "263:  Unbelievable true ztory6of a 2 tier justice system that will bring a landslide of emotions. He was a Clinton crony\n",
      "#MAGA\n",
      "\n",
      "https://t.co/FOWI2w5CoZ\n",
      "736:  @Truntemus73 What matters in our country, USA, right now, is a deep state, corrupt justice system. We are draining it, sludge and all! #MAGA #Trump\n",
      "761:  Nothing happens to leftists. We have a two-tiered justice system. Police defending themselves had O's AG all over them -- media, too. But now that we have real crooks, and at a fed level? No biggie. https://t.co/0cBluwd8OU\n",
      "\n"
     ]
    }
   ],
   "source": [
    "print_samples_all_groups(cj)"
   ]
  },
  {
   "cell_type": "markdown",
   "metadata": {},
   "source": [
    "### Drugs"
   ]
  },
  {
   "cell_type": "code",
   "execution_count": 15,
   "metadata": {},
   "outputs": [
    {
     "name": "stdout",
     "output_type": "stream",
     "text": [
      "I'm trying\n",
      "Connected to political tweets DB\n"
     ]
    },
    {
     "data": {
      "image/png": "[encoded data removed]",
      "text/plain": [
       "<Figure size 432x288 with 1 Axes>"
      ]
     },
     "metadata": {
      "needs_background": "light"
     },
     "output_type": "display_data"
    }
   ],
   "source": [
    "drugs = run_vader(\"drugs\")"
   ]
  },
  {
   "cell_type": "code",
   "execution_count": 16,
   "metadata": {},
   "outputs": [
    {
     "name": "stdout",
     "output_type": "stream",
     "text": [
      "dem-base\n",
      "\n",
      "991:  More than 900,000 lbs. of prescription drugs have been taken off our streets this year thanks to programs like National Take Back Day. Do your part on October 27, visit https://t.co/qZM5b1pyzK for more info and to find take back locations near you. #DEATakeBack\n",
      "1960:  Toured the future home of the Bristol Lifestyle Recovery Center this AM. It will offer critical resources to fight the opioid epidemic. https://t.co/2Ce4mpsxrz\n",
      "576:  Here is my answer on healthcare.\n",
      "\n",
      "Universal affordable and accessible healthcare for everyone.\n",
      "\n",
      "We can accomplish this by:\n",
      "\n",
      "1. Giving everyone the choice to opt into Medicare. \n",
      "2. Give Medicare the power to negotiate drug prices with big pharma. https://t.co/dEJ7d4LdNA\n",
      "2387:  Today is an opportunity to get educated on this issue &amp; dispose of prescription drugs in a safe and responsible way. https://t.co/y5OppfuhEK\n",
      "3278:  Healthcare, prescrip drugs price gouging, education, common sense gun reforms, jobs, infrastructure, SS, fair &amp; equitable tax relief, you never doing your job. This is what #AZ05 is talking about. In Nov this is what I'll be working on around the clock. https://t.co/ejZPpOfK4J https://t.co/O3l0SMcZep\n",
      "901:  The pharmaceutical companies use their lobbying power to get absurd amounts of money out of our taxpayers. I think we’ve got the tools, if we’re willing to stand up to them to get something like this done, to significantly lower drug prices in the U.S.\n",
      "https://t.co/yPDRVY8wKm\n",
      "2696:  Just as we called on tobacco companies to testify about what they knew and when they knew it, we must demand that drug companies testify under oath about their knowledge of opioids’ addictiveness.\n",
      "1992:  Must Read: Revolt Against Sky-High Drug Prices Prompts a Pioneer to Cash Out - @joewalkerWSJ https://t.co/U0QxDoU4Ky\n",
      "2880:  Rising Cost of Healthcare\n",
      "Health insurance should be affordable &amp; accessible for all families. I support Medicare X: lowers cost of coverage by allowing people to buy into Medicare. Combat rising drug prices: I would work to allow Medicare to negotiate directly w/drug companies.\n",
      "3635:  It's written on the wall in our campaign headquarters. It's something me and my team live by. It symbolizes one of the reasons I got into politics. \n",
      "\n",
      "Big Pharma can go to hell.\n",
      "\n",
      "rep-base\n",
      "\n",
      "3628:  Rather than keeping the lines of communication open w/@realDonaldTrump to grow jobs, help our veterans, and solve the opioid epidemic, #NH01 Dems are slamming the door in his face.\n",
      "\n",
      "Read more here: https://t.co/qIE4CvaKNX #nhpolitics \n",
      "\n",
      "https://t.co/C48e6pTibI\n",
      "1079:  “Massachusetts needs a Senator 100% focused on our state. Whether it is standing up for our fishermen, having the backs of our police, supporting our businesses or fighting against the opioid epidemic, I will put #MassachusettsFirst not last.” \n",
      "\n",
      "https://t.co/doYdXOVEAD  #mapoli https://t.co/Pjf9WLRKal\n",
      "2965:  The bipartisan spending package made the single largest investment ever to fight the opioid epidemic that is ravaging our nation. We successfully worked to get language included that targeted part of the funds to states like WV where the problem is especially hard-hitting. https://t.co/Q2DWlrsv49\n",
      "1172:  I'm working to make sure health care and prescription drugs are affordable for seniors. In addition to continuing to fund Medicare, I'm looking for other ways to cut government waste and out-of-control spending in order to pass the savings on to seniors. https://t.co/B89eCsmsq1\n",
      "2396:  The Missouri AG is investigating companies involved in the opioid crisis. It’s time to confront this problem. https://t.co/MiHCVOdMw3\n",
      "3210:  Today’s the day, National Prescription Take Back Day! Did you know, last #TakeBackDay the DEA collected 912,305 pounds of prescription drugs, more than the weight of three 757 Boeing Airplanes! To find a participating location near you go to https://t.co/W0lyJRZpoP https://t.co/7KUi6PLRRJ\n",
      "0:  Upstate will not be forgotten under my watch, I promise. Repairing the decaying infrastructure across Upstate NY will be one of my 1st priorities! I was with Save The Michaels @stmotw in Buffalo to fight the growing opioid crisis in May, and will be back to Buffalo in July. https://t.co/DSvHBb4uhL\n",
      "674:  In 2016, an estimated 4,728 Floridians succumbed due to drug overdose,+across our country, an average of 115 people a day are dying due to opioid-related causes. Today, the House approved legislation to continue addressing the opioid crisis that's hurting families across the US. https://t.co/9YJEC48CLd\n",
      "798:  JUST IN 🚨 @realdonaldtrump has signed 2 bills I cosponsored to stop secret “gag clauses” and make sure patients know the lowest price available for prescription drugs. These laws will increase transparency and give Nebraskans more control over their health care choices.\n",
      "2722:  Bipartisan budget bill not perfect but necessary to fund our troops and the war against Islamic terrorists as well as hurricane disaster aid for Florida, veterans health care and opioid epidemic. #sayfie\n",
      "\n",
      "dem-lead\n",
      "\n",
      "1313:  Sign now: Support the bold progressive proposal to lower Rx drug prices https://t.co/pW18giu3GS via @CREDOMobile #resist cc @RoKhanna @SenSanders\n",
      "177:  @MarshaBlackburn @MarshaBlackburn, start each tweet with, “my pals at big pharma say/said...” that’s who you really represent. #BlueWave #ByeFelicia #gop #russia #Basta #ImpeachTrump #HillaryClinton #drugpushing #marsha\n",
      "1504:  Sign now: @JanSchakowsky and @SenWarren are out to break Big Pharma monopolies https://t.co/ZaR177Ssbo via @CREDOMobile #resist\n",
      "1291:  Sign now: Support the bold progressive proposal to lower Rx drug prices https://t.co/swhoZKBIyw via @CREDOMobile #resist cc @RoKhanna @SenSanders\n",
      "1431:  Sign now: @JanSchakowsky and @SenWarren are out to break Big Pharma monopolies https://t.co/UlKQICh4ox via @CREDOMobile #resist\n",
      "1305:  Sign now: Support the bold progressive proposal to lower Rx drug prices https://t.co/m5cQ4p1YmC via @CREDOMobile #resist cc @RoKhanna @SenSanders\n",
      "420:  Pretty hard to get New Jersey to vote for a big Pharma who makes millions upon millions of dollars off of the medication for cancer patients. #VoteBlue https://t.co/YlsaSRN7Yb\n",
      "1485:  Sign now: @JanSchakowsky and @SenWarren are out to break Big Pharma monopolies https://t.co/JgXyCnSbsW via @CREDOMobile #resist\n",
      "1464:  Sign now: @JanSchakowsky and @SenWarren are out to break Big Pharma monopolies https://t.co/e3JpI9CkW7 via @CREDOMobile #resist\n",
      "299:  #impeachtrump,#resist, \n",
      "This is about the Fake Opioid Crisis.\n",
      "It isn't about Trump.\n",
      "Maybe we aren't getting all the news we need.\n",
      "There is a need for more news than just Trump. https://t.co/JxGY1rOczQ\n",
      "\n",
      "rep-lead\n",
      "\n",
      "2811:  @Patrici82841064 I haven't kept up with this, what's going on? I can't wait until those of us on Medicare get a fair shake. The no-bid clause Sen.#BillyTauzin put in the part D bill right before he went as an exec for big pharma has really screwed a lot of people. Millions w/o buying power! #MAGA\n",
      "3313:  Weak. Very mediocre #Trump plan.\n",
      "\n",
      "Trump plan for drug prices won't include direct negotiations: https://t.co/NydkaZAkJm (from @AP)\n",
      "816:  Lower Drug Prices to Come? (VIDEO) https://t.co/J3m6ysWZq8 \n",
      "\n",
      "@anyaparampil @TrinityfChavez \n",
      "\n",
      "#Legislation #DrugPrice #Trump #GagClauses https://t.co/myyL9npjOw\n",
      "2673:  Don't be fooled into making pain-patients suffer in a misguided attempt at fighting the \"Opioid Crisis\" \"The Myth of an Opioid Prescription Crisis\" https://t.co/0pzJg0020o via @CatoInstitute #MAGA #opioidcrisis\n",
      "3495:  #Trump Says: ....We had Repeal &amp; Replace done (and the saving to our country of one trillion dollars) except for one person, but it is getting done anyway. Individual Mandate is gone and great, less expensive plans will be announced this month. Drug prices coming down &amp; Righ…\n",
      "1241:  \"Did you hear that the Trump Administration has saved Americans $26 billion on prescription drugs? Probably not....\"\n",
      "https://t.co/849CDZPNLE\n",
      "#Qanon  #MAGA #WWG1WGA @POTUS\n",
      "3097:  Doctors suggested cancer patients could take less of an expensive drug—so pharma tripled the cost https://t.co/qxPjlrOV9e #MAGA BIG PHARMA IS UNCONSCIONABLE.\n",
      "3351:  Same old game - #Congress trying to bumrush big pharma bill before #Trump gets in https://t.co/XTDDbMWQde\n",
      "3057:  \"... #Trump and #Republicans gave huge tax cuts to big drug  companies, big oil, and other corporations, but corporations are giving  back little—if anything—to working families.\"\n",
      "2683:  #MAGA ThegreatAwakening Big Pharma at their best legal crystal or legal cocaine depends on which drug is used... https://t.co/joTrnclYmO\n",
      "\n"
     ]
    }
   ],
   "source": [
    "print_samples_all_groups(drugs)"
   ]
  },
  {
   "cell_type": "markdown",
   "metadata": {},
   "source": [
    "### Economic Inequality"
   ]
  },
  {
   "cell_type": "code",
   "execution_count": 17,
   "metadata": {},
   "outputs": [
    {
     "name": "stdout",
     "output_type": "stream",
     "text": [
      "I'm trying\n",
      "Connected to political tweets DB\n"
     ]
    },
    {
     "data": {
      "image/png": "[encoded data removed]",
      "text/plain": [
       "<Figure size 432x288 with 1 Axes>"
      ]
     },
     "metadata": {
      "needs_background": "light"
     },
     "output_type": "display_data"
    }
   ],
   "source": [
    "ei = run_vader(\"econ_inequality\")"
   ]
  },
  {
   "cell_type": "code",
   "execution_count": 18,
   "metadata": {},
   "outputs": [
    {
     "name": "stdout",
     "output_type": "stream",
     "text": [
      "dem-base\n",
      "\n",
      "2146:  It’s been 55 years since the Equal Pay Act became law, yet women across Montana know there’s more to do to make equal pay a reality. Women deserve equal pay for equal work, and that’s why I’ll keep fighting to pass the Paycheck Fairness Act. #mtpol #mtsen https://t.co/ALkn1LyhI1\n",
      "2164:  #NetNeutrality means consumers — not big corporations— choose what websites and applications we see online. Today, the @FCC’s repeal of #NetNeutrality goes into effect, but the fight for a free and open internet continues in the House. #SaveTheInternet.\n",
      "114:  If we want to help people then we need to reverse the tax cuts for the big corporations, and permanently cut taxes for working people. The Brownback/Estes Tax Plan will destroy our national economy, just like it destroyed the Kansas economy. \n",
      "#ksleg #ks04\n",
      "\n",
      "https://t.co/9KQnJwxk4v\n",
      "1135:  U.S. #JobsReport shows 287,000 new jobs. Let’s continue this progress, expanding economic opportunity for all. https://t.co/TAzrXEDrFs\n",
      "2074:  The homelessness crisis in our state and nation is a crisis we can’t turn a blind eye to. I was proud to work with @UticaMissionMV to secure nearly $14 million in state funds for new, safe affordable housing on West St. in #Utica and to be present today at the grand opening. https://t.co/ixvMFRtcye\n",
      "301:  Great to be here in Orlando with workers and labor leaders enjoying their delightful #LaborDay Picnic at Lake Eola! Our workers are the backbone of our economy and they should be able to earn a living wage for their hard work. – BN https://t.co/KzBIJoVj7a\n",
      "1888:  Today marks how far into the year women must work to earn what men do, it’s EQUAL PAY DAY! Women are still earning on average .78 for every dollar that men make for the same job. Black women make .64 &amp; Hispanic women make .56\n",
      "We need to fix this. \n",
      "#EqualPayDay #April4Congress https://t.co/62ButzkqUE\n",
      "365:  Yes, our socialist agenda of affordable healthcare people don’t have to worry about constantly losing, equitable access to education no matter someone’s income, and a living wage for 40 hours for work. \n",
      "\n",
      "Thanks for helping us spread our message of economic justice! https://t.co/8Nn4LVOybi\n",
      "725:  Reminder: A majority of Americans support the “Progressive” agenda of a living wage, fair taxation, universal health care, equal pay, medical marijuana, combating corruption and mass incarceration and voter suppression, etc. - the list goes on. \n",
      "\n",
      "“Progressive” is mainstream.\n",
      "2118:  I thank Darren Babcock of @BontonFarms for raising important issues we must address in order to break the cycle of poverty, including expanding access to nutritious foods, affordable housing, and transportation as well as prison and sentencing reform.\n",
      "\n",
      "rep-base\n",
      "\n",
      "441:  Thanks to the @SpringdaleCofC for stopping by my DC office! I enjoyed engaging on policy issues and sharing @housebudgetGOP insights. I always appreciate discussing ways we can better serve our community and grow economic opportunity. #AR3 https://t.co/8wj5zcogQK\n",
      "100:  Thank you @OC_Biz_Council for your support! Fighting for policies that bring jobs and economic opportunities to Orange County and to keep America's economy on the right track will always be a top priority of mine! #CA45 #TeamWalters\n",
      "https://t.co/ih3tBs2pDT\n",
      "1086:  Happening Now: At @WCCWilsonNC discussing the importance of equal economic opportunities for women. #JobsandJustice https://t.co/XngoUAOsQ5\n",
      "1607:  Our conservative outsider message, centered on national security and economic opportunity, is resonating across Michigan. &gt;&gt; https://t.co/3HVRDsChtl  🦅 #LetsFly #MISen #TeamJohnJames https://t.co/z3NIgUyMmc\n",
      "1338:  Glad to have the opportunity to speak w so many #Texans about expanding trade &amp; economic opportunities for #TX https://t.co/NEiFyt9ShI https://t.co/YeHe1N5Aur\n",
      "958:  IUOE Local 15: “No one will work harder than Kathleen to defend &amp; empower workers &amp; create economic opportunity in #NY04.” VOTE TOMORROW!!!\n",
      "256:  @ASFried You think big government and big corporations are opposed to each other when in reality they are in bed with each other.\n",
      "611:  Latinas make just 53 cents on average for every dollar a white, non-Hispanic man makes for the same job. Time for equal pay for equal work for nuestras esposas, hijas, madres, abuelas, y todas las Latinas! #LatinaEqualPayDay https://t.co/vjBGmjnJLN\n",
      "1041:  Listening to @HUDgov talk about opportunities for affordable housing and economic development. http://t.co/HR0YLOxwMC\n",
      "955:  Walker: \"I hope Bonnie always gets paid as much as Clyde\". #nc06 #nc6debate Walker will protect equal pay b/c it is right\n",
      "\n",
      "dem-lead\n",
      "\n",
      "629:  @203nanny @realDonaldTrump Living wage? Who plans to raise a family with an entry level job? You want more money? Start your own business and stop telling me how much I should pay my employees #VoteBlue\n",
      "270:  Republicans are waging a war of greed and fear. Greed for the wealthy, and fear for the uneducated. And the rest of us get the shaft. #voteBlue for Democrats who stand for civil rights, affordable healthcare for all, a living wage for all .. Not for bigotry and income inequality https://t.co/xbJKjDupQJ\n",
      "119:  Go get ‘em @RepCartwright &amp; #PA08 @DemsWork4USA It’s time we show the @HouseGOP &amp; @SenateGOP the door &amp; restore decency &amp; integrity in Washington. #SCPOTUS @realdonaldtrump has demonstrated that he’s all for big corporations &amp; the 1% &amp; against the working &amp; middle class! #LieGate https://t.co/OcPNZ0HADW\n",
      "324:  Force billionaires to pay a living wage https://t.co/iE6GeBYXTj via @CREDOMobile #resist\n",
      "306:  Why don’t you support equal pay for women? @IvankaTrump #Resistance #EqualityforAll https://t.co/z7Sqyl1n9F\n",
      "683:  @WhiteHouse @IvankaTrump How wonderful. She never had least interest in US workers or technologies. Her only focus, making cheap knock offs of established fashions. Everything made in Asian sweatshops . Must be eye opening for her to discover people actually trying to earn a living wage. #resist https://t.co/m8h5u3RwkQ\n",
      "1682:  @Saccone4PA18 doesn't care if your local grocer goes out of business. A puppet to corporations he's fine with the proposed cut to food stamps being replaced by boxed government canned goods. This after giving big corporations tax cut\n",
      "#RobThePoortoFeedtheRich \n",
      "#Pa18  \n",
      "#Bluewave https://t.co/MtjWMFuYtQ\n",
      "2202:  @frautuck @mcbee_sherry @ron_diggity @sahluwal Andrea, I am encouraged by your responses &amp; your cry for the #Resistance! We have an opportunity to reevaluate our country &amp; make real change. We can right wrongs that have been ignored by the GOP (guns, civil rights, equal pay for women, gerrymandering, etc). I stand with you!\n",
      "1662:  🚨Scott Brewer (D) throws his 🎩 into the ring!🚨\n",
      "Alabama State House District 33\n",
      "▶️Follow @Brewer4Alhouse\n",
      "US Navy Vet fighting for\n",
      "🔹Vets\n",
      "🔹Education\n",
      "🔹Living wage\n",
      "🔹Affordable health care\n",
      "Donate 👇🏼\n",
      "\n",
      "#AtTheStateHouseToo #ALDems #ThursdayThoughts 🤔 #BlueWave2018 #FlipItBlue https://t.co/1Pgg4U9uvc\n",
      "294:  Force billionaires to pay a living wage https://t.co/vXACaa82tR via @CREDOMobile #resist\n",
      "\n",
      "rep-lead\n",
      "\n",
      "1619:  85% of all the wealth created in the USA lat year went to the top few percent That’s why Bernie Marcus is worth 5.7 billion. That and he could pay his staff a living wage. https://t.co/AsTt1uT9sG\n",
      "2033:  Iran is like Cuba in the sense that most nations, UNLIKE America, don’t put values over economic opportunities! But, in the case of Iran, these morally bankrupt, secular, Leftist nations would build Iran up, &amp; then expect the US to protect them later from Iranian aggression! #KAG https://t.co/43Slc28ULy\n",
      "395:  If people could belong to a union, and earn a decent living, both parents wouldn’t have to work.\n",
      "\n",
      "If the wealthy, and big corporations paid taxes, you could provide subsidized childcare.\n",
      "\n",
      "Poor people often don’t make enough to take advantage of a tax credit.\n",
      "\n",
      "#tcot #maga https://t.co/cdtnyc6Mie\n",
      "1763:  HUGELY important sign of #MAGA progress. The U6=Participation Rate reflects rising optimism that people feel they can actually find a job if they start pounding the pavement again. During Obama era, many gave up all hope of finding a living wage job, so they simply quit trying. https://t.co/sMAPFsBb9c\n",
      "2112:  @realDonaldTrump I dont promote movies on here let alone ones of big corporations but if you really want to know wat trump is doing watch Black Panther when the villian takes over the government those same tactics #trump is using to take over ours.  support FBI to end this tyrant\n",
      "2073:  #MAGA #TrumpTrain #Trump #TrumpPence #Trump2020  A huge win for big corporations on top of their huge tax cuts... so much for the forgotten man.. but hey at least you can be a racist asshole in public now #Winning https://t.co/b07fD3XxTX\n",
      "2047:  Amazon was going to have a building creating 7,000 jobs (still might), but doubtful if they have to pay $500 or more per person employed. I thought creating jobs helped with a homeless problem. Not some 'affordable housing' bs that those without a job ... CAN'T BUY!    #MAGA\n",
      "263:  All this talk of raising minimum wage and “living wage”. \n",
      "I just seen a gas station in suburban Georgia pays $17/hr plus bonuses. \n",
      "Thanks @realDonaldTrump #MAGA https://t.co/OiJpoxo8bl\n",
      "1659:  This ad was even worse then the \"84 Lumber\" ad from last year that sympathized with illegal aliens crossing the US border. Super Bowl airs T-Mobile ‘equal pay’ ad, rejects #PleaseStand ad as too political - https://t.co/nefExTuBeg - @washtimes #maga #tcot\n",
      "2088:  #MAGAs need to wake up and realize #GOP doesnt want people to have Rights, Healthcare or a Living Wage. They worry most about Bankers @RepFrenchHill and #Corporations They prove it Every Day. @AFLCIO @UAW @ArkansasBlog #VoteBlue https://t.co/pfETv4kkZO\n",
      "\n"
     ]
    }
   ],
   "source": [
    "print_samples_all_groups(ei)"
   ]
  },
  {
   "cell_type": "markdown",
   "metadata": {},
   "source": [
    "### Economy/Jobs"
   ]
  },
  {
   "cell_type": "code",
   "execution_count": 19,
   "metadata": {},
   "outputs": [
    {
     "name": "stdout",
     "output_type": "stream",
     "text": [
      "I'm trying\n",
      "Connected to political tweets DB\n"
     ]
    },
    {
     "data": {
      "image/png": "[encoded data removed]",
      "text/plain": [
       "<Figure size 432x288 with 1 Axes>"
      ]
     },
     "metadata": {
      "needs_background": "light"
     },
     "output_type": "display_data"
    }
   ],
   "source": [
    "ej = run_vader(\"econ_jobs\")"
   ]
  },
  {
   "cell_type": "code",
   "execution_count": 20,
   "metadata": {},
   "outputs": [
    {
     "name": "stdout",
     "output_type": "stream",
     "text": [
      "dem-base\n",
      "\n",
      "10413:  Will vote no on #CRomnibus as drafted. Special interest giveaways, weakening wall street regs &amp; empowering rich donors a no go with me.\n",
      "2791:  TEAM MCMURRAY: fundraises at picnics, has been visiting every inch of NY27 since it was freezing outside, is fighting for working Americans\n",
      "\n",
      "TEAM COLLINS: Backed him, praised him, took selfies with him, raised cash for him, still won’t throw him out, think they own your vote\n",
      "16467:  Proud to stand up for working Americans &amp; fight against rolling back long-standing labor laws. https://t.co/rcJyEaCRih\n",
      "4196:  As a woman in manufacturing, I know that if we want to lead and win the future, we need policymakers who understand the value of human work.\n",
      "\n",
      "I'm running to be the champion for Michigan's middle class. I'd be honored to have your vote.\n",
      "\n",
      "Join us: https://t.co/oJlHk5vmkq https://t.co/t9wa5TIJ3T\n",
      "13545:  Proud to push for real improvements to the #ACA to make it work for American families #ProtectOurCare https://t.co/sgKF0yGZEo\n",
      "4264:  The only way we stand up and defeat organized money is with organized people.\n",
      "\n",
      "I've worked as a union organizer. I know what it takes to build power here in the community. Because when working people work together, there's nothing we can't do. \n",
      "https://t.co/zZO5sUyIln\n",
      "4088:  He supports Right To Work. He has said he would vote for RTW legislation. I would vote against it.\n",
      "\n",
      "I support the right of unions to organize and to collective bargaining. I also support prevailing wage policies. Unions made the middle class; defending unions defends workers. https://t.co/EG2kyHWbXg\n",
      "9876:  FACT: The increase in women in the workforce since the 1970's has grown our economy by 13.5%. #FamiliesSucceed http://t.co/2GlouIDGyT\n",
      "11622:  It’s National #SmallBusinessWeek. Did you know that\n",
      "@GeorgiaGov houses over 860,000 small businesses that contribute to our\n",
      "economy?\n",
      "13019:  Tax cuts for the wealthy do not pay for themselves, do not create jobs, and do not \"trickle down.\" https://t.co/pk2uxQBOPa\n",
      "\n",
      "rep-base\n",
      "\n",
      "7844:  Do you think someone like Gov. Chris Christie would do a good job as vice president? http://t.co/1HI2djgx http://t.co/wBiPx60P\n",
      "3968:  This just in: According to the September #JobsReport released this morning, unemployment hit its lowest point in almost 50 years — yet another sign that our pro-growth policies are helping American workers &amp; our economy. #BetterOffNow More here: https://t.co/BGwSqSh2or https://t.co/4SAU7qXCZA\n",
      "10883:  House Republicans have passed a pay raise for our troops. It’s outrageous Senate Democrats are blocking this. http://t.co/a6DTNTf6QN\n",
      "19822:  I will continue to work with the @POTUS to grow our economy and create more jobs in #Mississippi. Show your support for my re-election campaign today ➡️ https://t.co/OZwwmgQaY4 #MSSEN https://t.co/LNz3dPe9mD\n",
      "16982:  Our agenda continues to do great things for ALL American citizens. Companies around the world and here at home continue to see the #TaxCutsandJobsAct as a reason to invest in American workers again! #MAGA https://t.co/T1D6GT8RP4\n",
      "10156:  After a great start the Aardvarks fell a little short on the last game. Good job boys, Coach Dad is very proud! Off to Ally's soccer game.\n",
      "1968:  .@SenWarren also met with an executive from a big bank (CEO of JP Morgan and Chase) in a private meeting in Washington. Warren can now count herself amongst the politicians who listen when Wall Street donors make their interests heard.  #mapoli #masen #masen2018 #magop https://t.co/3Ou288x9WL\n",
      "20545:  📢 The unemployment rate has fallen to 3.9% - the lowest since December of 2000!  https://t.co/F8srvCYJlO\n",
      "3925:  We’ve kept our promises to grow the economy and create more job opportunities. People in Eastern Washington are #BetterOffNow. https://t.co/k9e7er7P48\n",
      "14599:  @MarenerDolly @realDonaldTrump Absolutely!  As someone who personally earns about $30k a year, like most middle class people, I am looking forward to a tax cut.\n",
      "\n",
      "dem-lead\n",
      "\n",
      "20196:  Hi.  Can I get a cite or link to this Wall Street Journal article because I can't find it... https://t.co/lilcJbXo1o\n",
      "5254:  HEADS UP #MILLENIALS : If you don’t #VOTE &amp; allow @GOP to continue w gutting HEALTHCARE/SS/MEDICARE -your reality will be taking care of your parents. Hope u have a good job &amp; plenty of room. #VOTEBlue 🌊 #midterms https://t.co/QLJI6M5y5g\n",
      "6665:  @funder #LockUpAllTrumpCabinet \n",
      "\n",
      "Medical emergency took my bill money 2 months ago. Can't afford to fix heater or brakes on my van.\n",
      "\n",
      "I make barely over minimum wage &amp; live paycheck to paycheck. 1 emergency wiped  me out. Pls help \n",
      "\n",
      "#Resist\n",
      "#TrumpCrimeFamily\n",
      "https://t.co/om7TBRMBDc\n",
      "286:  Is left wing hating to see a POTUS who devides vs builds?\n",
      "Is left wing realizing that trade wars are lose lose?\n",
      "Is left wing anti bulling?\n",
      "Is left wing expecting a truthful compassionate POTUS?\n",
      "Is left wing mean appreciating the press? \n",
      "Guess I'm left and YES I HATE HIM\n",
      "#Resist\n",
      "20058:  @NFIB @realDonaldTrump Did U get PAID 2 SAY THIS? Citizens know what #TaxScamBill did! They hurt low/middle class families so companies, corporation &amp; wealthy could have big tax breaks! They changed tax codes 2 remove deductions 4 home based businesses! I bet Yr conservative Org is happy! #BlueWave⏲️\n",
      "17320:  Bernie sold out a long time ago. He got paid off by Hildabeast to not make a fuss about the nomination. @POTUS \n",
      "#ReleaseTheMemo \n",
      "#OBAMAGATE https://t.co/l67NQIo444\n",
      "220:  @realDonaldTrump Why I #RESIST\n",
      "\n",
      "Tax Scam Bill\n",
      "Net Neutrality\n",
      "Trade Wars\n",
      "Pre-Existing Conditions\n",
      "Space Force\n",
      "March For Our Lives\n",
      "No Tolerance ICE\n",
      "Paris Agreement\n",
      "Artic/Offshore Drilling\n",
      "CFPB\n",
      "Dodd Frank\n",
      "Medical Marijuana\n",
      "StandWithPP\n",
      "Iran Deal\n",
      "Military Parade\n",
      "Trans Ban\n",
      "Wall\n",
      "SCOTUS\n",
      "MeToo\n",
      "Taxes\n",
      "Russia\n",
      "18009:  @GOP It's obvious you don't give a damn about human beings unless they're in the 1%. Stop trying to kill the poor and middle class to support your #TaxScam . Also, we paid our whole working lives for Social Security and Medicare! Screw you for trying to steal it! https://t.co/cyy5Q8SJY2\n",
      "6834:  WSJ in a panic over 'raging bull' Trump as stock market collapses and Mattis flees https://t.co/MgrxiT62Ui #Treason @realDonaldTrump #GOPRussia #FBR #TrumpRussia #Mueller #Resist #MAGA #VoteBlue #tcot #ccot #Patriot #AmericaFirst\n",
      "20502:  @votevets @KevinMNicholson @SenatorBaldwin @KevinMNicholson's comments are hurtful and offensive. Defending the Constitution and protecting the American people doesn't belong to conservatives, it belongs to Americans. You just spit on us. #Veteran #LGBT #Democrat #Resist\n",
      "\n",
      "rep-lead\n",
      "\n",
      "7083:  @realDonaldTrump Hey haters, remember when you and MSM were complaining that Trump trade war would never bring China, Mexico or Canada to the table. Guess you were wrong.\n",
      "\n",
      "#MAGA #WINNING USA\n",
      "\n",
      "The good thing, you benefit for being wrong\n",
      " Just like the rest of us.\n",
      "21193:  Good job by @SpeakerRyan @SenateMajLdr &amp; the GOP to harm US workers. https://t.co/KzjDu2DKNL\n",
      "2401:  Cutting tax revenue AND federal employee pay raises is next level #maga Lets build some fighter jets!!!!!!! https://t.co/FhVxURo738\n",
      "3571:  That’s why I cannot condemn this man! He’s the ONLY sentenced; ALL others (white males) walking around and still getting paid!😡 https://t.co/vXE9Bpa4so\n",
      "4007:  Straightening his tie awww that's beautiful. Yep good job ! You have to enjoy the moment and good for pictures they immortalize memories https://t.co/IbFQQTyyWb\n",
      "5232:  Erik Paulson, Jason Lewis, Jim Hagedorn and Pete Stauber are #MAGAts. They are my losers and never get the job done. We don’t need any of them in Congress for the hateful #MAGAtAgenda. They have my Weak Endorsement! #VoteOutGOP #TrumpsLosers https://t.co/UFNn1ZbUbi\n",
      "21990:  And Odumbass said we had the lowest unemployment rate in 50 years.. lol. I’ve got a bridge I’d like to sell you.. https://t.co/3x61QOZoLd\n",
      "5495:  @g_rollo790 @NBCNews I'm middle class and President Trumps tax break which Democrats including @SherrodBrown voted AGAINST gets me at least $20 more a week...which is a lot when you are middle class. I and all my co workers are voting straight RED! #VoteRed\n",
      "6372:  Wall Street opens flat ahead of Trump-Xi trade meeting https://t.co/74q7Mw6nYx https://t.co/GA5oXyiqcm #news #breaking #trump\n",
      "19205:  funny as heck that so many fair weather conservatives got so unglued when @realDonaldTrump signed to omni.  He just funded the wall, the draining of the swamp, the military (gets a pay raise), these fair weather conservs are acting like liberals.  so sad. so shallow. #maga #ccot https://t.co/WGSgyfrSiW\n",
      "\n"
     ]
    }
   ],
   "source": [
    "print_samples_all_groups(ej)"
   ]
  },
  {
   "cell_type": "markdown",
   "metadata": {},
   "source": [
    "### Education"
   ]
  },
  {
   "cell_type": "code",
   "execution_count": 21,
   "metadata": {},
   "outputs": [
    {
     "name": "stdout",
     "output_type": "stream",
     "text": [
      "I'm trying\n",
      "Connected to political tweets DB\n"
     ]
    },
    {
     "data": {
      "image/png": "[encoded data removed]",
      "text/plain": [
       "<Figure size 432x288 with 1 Axes>"
      ]
     },
     "metadata": {
      "needs_background": "light"
     },
     "output_type": "display_data"
    }
   ],
   "source": [
    "edu = run_vader(\"education\")"
   ]
  },
  {
   "cell_type": "code",
   "execution_count": 22,
   "metadata": {},
   "outputs": [
    {
     "name": "stdout",
     "output_type": "stream",
     "text": [
      "dem-base\n",
      "\n",
      "99:  An entire generation is struggling with the weight of student loan debt—making it much harder for them to start businesses, buy homes, &amp; contribute to their families &amp; communities.\n",
      "\n",
      "That doesn't just hurt them—it hurts our economy. We must do better.\n",
      "\n",
      "https://t.co/pqoj8m5Wx1\n",
      "2802:  The burden of student loans shackles the futures of America’s brightest. Let’s pass #BankOnStudents &amp; allow young people to refinance loans.\n",
      "1692:  UHPA Pres: \"deep understanding of higher education issues\" http://t.co/vCORb5Ym #HiSen\n",
      "1149:  The growing cost of higher ed is hurting students across #MN01. I heard that message loud and clear from @gustavus students yesterday. As a millennial w/ student loan debt, this is personal. Congress must work to ensure post-secondary education is affordable for everyone. https://t.co/OOEtDydrTY\n",
      "2314:  So pleased to welcome students from Pekin High School in Tazewell County to the U.S. Capitol today! http://t.co/KVdM72u44D\n",
      "1911:  Welcoming high school students from Aberdeen to my DC office! All from military families here to learn about govt http://t.co/zfvlAAKt\n",
      "629:  So much fun chatting w barber shop patrons in Central Islip! We talked student loans, after school activities, the role of money in politics &amp; more. Thanks to the folks at The Original Barbershop, Los Profesionales &amp; Knockout Barbershop for letting me interrupt your hair cuts! https://t.co/pGGQfUH9xJ\n",
      "5375:  2/3 seeking to undermine public education at every turn. These ideologues seek to increase unaccountable charter schools and vouchers, subsidize private religious schools, remove civil rights and due process protections for minorities and students with disabilities,\n",
      "894:  Stopped by the North Park Community Market today! Great to meet many Mather High School volunteers. https://t.co/GduDjR3lJs\n",
      "2706:  Congrats to El Monte Union High School District, a 2015 US Dept. of Ed Green Ribbon School! @usedgov http://t.co/ucqDTnR1SY #EarthDay\n",
      "\n",
      "rep-base\n",
      "\n",
      "3864:  Enjoyed discussing politics w/ the bright minds of the future at White Oak High School in #TX01! What an intelligent senior class! https://t.co/JMBFcmtV34\n",
      "3115:  Congrats to Wyoming Indian High School class of 2016.  https://t.co/OnJ7QZKhY7\n",
      "1722:  Congratulations to Barbara Williams from Buena High School on becoming the 2012 Cochise County Teacher of the... http://t.co/jAshXpTd\n",
      "6120:  Hey @CantonRepdotcom, have you heard about @BeelieveInc? \n",
      "\n",
      "They are a student-run business from North Canton Hoover High School that just won 1st place #JACompanyoftheYear at the Junior Achievement National Student Leadership Summit in DC. Congrats! https://t.co/NtZU0cGJI7\n",
      "2289:  Thanks to Johnstown High School for the creative welcome last week! Great to visit w/our talented students @GJSDnews http://t.co/vE3b1G2L6T\n",
      "2106:  ...for achieving the JAG “five of five” distinction.You set a great example for high schools both in SC &amp; nationwide. Congrats! #sctweets\n",
      "2719:  This afternoon I visited Nelson County High School to congratulate Jacob Price, the overall winner… https://t.co/j3SML9vZDM\n",
      "4452:  The #TrumpBudget takes from Medicaid, student loans, and #SNAP—while refusing to ask millionaires &amp; corporations to pay their fair share (New Trump budget graphic)\n",
      "1405:  As a parent of a UW student, I understand first-hand how the rising cost of higher education in our state impacts families. As your Senator I will work to make college more affordable and more accessible. Return your ballot tomorrow! #waelex #WAsen #highered https://t.co/vFrgTXdCKx\n",
      "2875:  Pleased to join Lux Middle School students &amp; veterans at annual Veterans Day program. https://t.co/9TCGEqzW7E\n",
      "\n",
      "dem-lead\n",
      "\n",
      "4501:  @Nelba_MG We just had a major school shooting at our local high school.  My friends’  kids had to walk over their dead friends. The current government is complicit as is the NRA. What will it take to stop this ? No more thought and prayers. We must take action and #resist every day.\n",
      "1466:  High school boys give apparent Nazi salute in Prom photo https://t.co/IaysMXrAeP via @abc7chicago #MondayMotivation #Trump #TrumpRussia #TrumpLiesMatter #BlueWave #ImpeachTrump #FBR #p2\n",
      "5711:  Supplemental posting from Author &amp; Web Pastor Paul J. Bern; How to walk away from your student loans https://t.co/AEfIv6TSUw #resist #badlenders #revolt https://t.co/kQXp2brm0x\n",
      "5403:  25-Year-Old Textbooks and Holes in the Ceiling: Inside America’s Public Schools https://t.co/clDXLGhjBi #BlueWave #TheResistance #FlipItBlue\n",
      "5910:  So they claim to be pro life unless you're an immigrant child seeking refuge, a middle or high school student or a POC. Hypocrisy and double standards have become so 2018. So has #Resistance\n",
      "1445:  @thqueenofonlyme Bonjour the unroll you asked for: Thread by @C_Stroop: \"1. On the Christian Right, this is known as “presuppositionalism.” In my high school AP biology class (yes, really)—a cl […]\" #EmptyThePews #Resist https://t.co/sfevCQUCkW\n",
      "See you soon. 🤖\n",
      "739:  @Becca26020993 @pixburghgrrl @HiddenHairPuzz @MaxineSykes @bjcreigh I was in high school when this happened. I was appalled at the time and I am still appalled today. Let's hope things play out better for Mrs. Ford. #StopKavanaugh #VoteThemOut #VOTE #resist #wakeupAmerica #muellertime #stillwithher\n",
      "4705:  @joshfoxfilm Dear Pissed-Off High School Kids: Walk out.\n",
      "Take the punishment.\n",
      "Three days at home decreases your chances of being slaughtered at school.\n",
      "#RESIST #GunControlNow\n",
      "4588:  These forward thinking bright high school students WILL change the political world we now are living in! #neveragain #BlueWave2018 https://t.co/MUWBHR2pcg\n",
      "6136:  It’s gonna to be a tall order.\n",
      "We have to stop these insane deportations\n",
      "restore/protect healthcare\n",
      "begin to save the environment\n",
      "protect workers, public education, &amp; the judiciary\n",
      "restore our standing in the world, to start.\n",
      "But it can all be done just, #VOTE 4 #Democrats\n",
      "\n",
      "rep-lead\n",
      "\n",
      "4517:  😀🙉🤗  #Magazine #Radar :  Multiple Deaths  In Florida High School Shooting, Suspect In Custody | Radar Online, please click here for details. #Magazine #Celeb #News #Today #Maga  https://t.co/fkze83BKn4\n",
      "5498:  My High Honors Public School Educated HS son told me that China is not a Communist Country. I have been in a bad mood ever since. #Trump we must do something about Public Education &amp; the lies being taught.\n",
      "922:  @darhar981 @LeahR77 @VDHanson I believe #JudgeBrettKavanaugh. \n",
      "Regarding all the 'drinking' smears - I'm more concerned with Brett Kavanaugh's professional resume post High School &amp; University, for the right price dirt can be dug up and/or fabricated on anyone... #ConfirmKavanaughNow #MAGA\n",
      "5850:  Disinformation campaign up and running minutes after Santa Fe Texas High School shooting. Making out the boy was member of Antifa. Horrible #MAGA #FakeNews\n",
      "1518:  House Democrats Know Pelosi’s Got Their High School Yearbooks..  #TheStory #Hannity #MAGA\n",
      "5684:  Sure my president is a Twitter bully. And I love it we need to get more puppies 4 MSM like CNN in MSNBC and their commentators. Thank you Melania for trying 2 stop bullying in elementary junior high and High School https://t.co/VRxNsbBCEU\n",
      "5390:  This needs to change folks!!  Look at how 'pig' boy turned out from our current public education system.  Parents..... PAY ATTENTION!  STAND UP FOR BALANCED, TRUTHFUL EDUCATION! #MAGA https://t.co/Pej1VH4ruA\n",
      "4523:  @realDonaldTrump #MAGA #POTUS #Fakenews #schoolshooting I got a question what the hell is a 19 year old doing in high school At 18  I was humping a machine gun in Vietnam 🇻🇳\n",
      "1283:  @korndawggg @tl_higgins @ABC WHEN THE #MSM CALLS #TRUMP SUPPORTERS \"UNEDUCATED\", \n",
      "IT'S CODE FOR THEIR HIGHER EDUCATION FAILED TO \"INDOCTRINATE\" US!!! #MAGABOSS\n",
      "1584:  In a 13-1 vote, the Marjory Stoneman Douglas High School Public Safety Commission urged the Florida Legislature to allow teachers who volunteer, and  undergo background checks and training, to carry firearms. #MAGA #2A\n",
      "https://t.co/2k0ncJ9WHO\n",
      "\n"
     ]
    }
   ],
   "source": [
    "print_samples_all_groups(edu)"
   ]
  },
  {
   "cell_type": "markdown",
   "metadata": {},
   "source": [
    "### Environment"
   ]
  },
  {
   "cell_type": "code",
   "execution_count": 23,
   "metadata": {},
   "outputs": [
    {
     "name": "stdout",
     "output_type": "stream",
     "text": [
      "I'm trying\n",
      "Connected to political tweets DB\n"
     ]
    },
    {
     "data": {
      "image/png": "[encoded data removed]",
      "text/plain": [
       "<Figure size 432x288 with 1 Axes>"
      ]
     },
     "metadata": {
      "needs_background": "light"
     },
     "output_type": "display_data"
    }
   ],
   "source": [
    "env = run_vader(\"environment\")"
   ]
  },
  {
   "cell_type": "code",
   "execution_count": 24,
   "metadata": {},
   "outputs": [
    {
     "name": "stdout",
     "output_type": "stream",
     "text": [
      "dem-base\n",
      "\n",
      "3413:  ICYMI: I spoke w/ @mainecalling about Syria, Climate Change, @PPMEAF, &amp; more. Check out my interview: https://t.co/71l0bfcLRX #mepolitics\n",
      "661:  Our precious resources and public lands should not be sacrificed for corporate profits.\n",
      "I will protect Arizona's natural resources and work for sensible management of our #PublicLands. \n",
      "From @CenterForBioDiv: https://t.co/aHuLFWRVM5\n",
      "\n",
      "#Brill4PublicLands #Vote4Brill https://t.co/QtuWJU7M74\n",
      "5743:  Long Islanders will fight to protect our environment, even when @EPAScottPruitt won't! https://t.co/TLKzJPPFNg\n",
      "3877:  #Zinke’s recommendations could jeopardize boundaries of public lands. We must stand against this proposal.\n",
      "https://t.co/qDeHrNSLA8\n",
      "5340:  I’m honored to announce that Solana Beach City Councilmember Peter Zahn is the latest local elected official to endorse our campaign!\n",
      "\n",
      "As founder of the United States Green Chamber of Commerce, Peter has played an important role in clean energy advocacy.  https://t.co/f0wYjabWxc\n",
      "1112:  Thank you so much for your support. Our public lands are precious and must be protected. https://t.co/G4zRrybRrK\n",
      "4438:  @CaptainsLog2O18 @AynRandPaulRyan @AdamParkhomenko @1IronMan2018 @1Jedi_Rey @exoticgamora @StormResist @TheSWPrincess @KidCasteel @LunaLuvgood2017 @OriginalJLP @ScarletAvengers @1WarMachine @2HawkEye2018 @JCTheResistance @CMDR_Paylor @DavidYankovich @ybbkaren @porpentina2017 @EzraBridger2018 @Elastigirl2018 @morethanmySLE @PinkRavenRoth @SDIndivisible @TrinityResists @ProudResister @WomanResistorNC @TuscaloosaDems @tizzywoman @ezralevin @realRogueLeader @Nataliew1020 @wesley_jordan @DeepInTheHills @Clara_Resists @KudzuFrannie @AHamiltonSpirit @SnowBiAuthor @SusanGlamMom @AgentHillResist @DanaScottLO @BryanDawsonUSA @Doctor12Resists @DonnaNoble10th @natasharesists @NickFury2018 @CaptJaneway2017 @BatmanResist I've been involved with clean energy legislation for about a decade.  Should I be so honored to serve, I hope to serve on House Energy and Commerce as well as Natural Resources, and would use my position on those committees to advance sustainability and clean energy deployment.\n",
      "2693:  Visitors to HI's national parks spent $340 million last year. The #GOPBudget would delay or cancel improvements http://t.co/ZDoAjS0iPt\n",
      "824:  Nevada is home to stunning natural beauty. On #NationalPublicLandsDay, we recommit to fighting every day to ensure our public lands are protected and remain accessible for generations to come. https://t.co/MY0eZUPoNk\n",
      "4865:  @350 action and @billmckibben endorsed our campaign! I am running hard, and as a lifelong environmentalist, I believe we must act swiftly to combat climate change  Can you chip in $5 right now? https://t.co/6dfGjw9VOq #nmpol https://t.co/n3DlnaruMP\n",
      "\n",
      "rep-base\n",
      "\n",
      "421:  California (+ OR, WA, AK)  fires causing US climate change; with higher temperatures and more severe rainfall/flooding https://t.co/S8cNEwwwcc\n",
      "4371:  Evil fossil fuels…... https://t.co/KGhZEi3xNl\n",
      "2597:  Great mtg today w local renewable energy companies today. These businesses are creating jobs through new technologies http://t.co/SaadFn2oHK\n",
      "2920:  Celebrate the 100th anniversary year of the National Park Service by visiting our parks this #NationalParkWeek for free! #FindYourPark\n",
      "3275:  Climate-change is not an #AlternativeFact. I will fight to hold Pruitt accountable and protect our environment. https://t.co/udJBgbX7sP\n",
      "3960:  Proud to be honored as a #CleanEnergyChampion today. Eastern Washington depends on clean, renewable energy and I’m proud to support it. https://t.co/O9G7vYWfPd\n",
      "2431:  President Obama is expected to propose more regulations and red tape through the EPA to combat \"climate change\" in... http://t.co/cy6YOxIzE3\n",
      "3126:  Donald Trump Still Thinks Climate Change Is 'A Bunch Of Bunk' - The Huffington Post - US  #ClimateAction  https://t.co/ezhB0x50ay\n",
      "4414:  More positive economic news for Wyoming and the country. Our fossil fuels are national treasures crucial to powering our economy. https://t.co/0JXoCjYU0I\n",
      "2715:  They burn fossil fuels for steam at night and cloudy days. They fry thousands of birds. They cost way more than... http://t.co/MJPRsTqM0L\n",
      "\n",
      "dem-lead\n",
      "\n",
      "5504:  Trump's new NASA head: Humans contributing in 'major way' to climate change | #Resist ,#Resistance ,#DumpTrump,#NotMyPresident  https://t.co/b5qv34feiX\n",
      "1330:  .@jontester took the lead when Park County businesses and residents asked the Montana congressional delegation to protect public lands in Paradise Valley from potential large-scale gold mining. #TW #BLUEWAVE https://t.co/rNMjKPQe3m #mtpol #mtsen\n",
      "2075:  National embarrassment that is our president’s continued unwillingness to accept global scientific consensus on climate change requires that Dems nominate a person who makes this issue a centerpiece of their governing agenda. #ClimateChange #Democrats  https://t.co/UP1ZMNV3uQ\n",
      "5726:  @WhiteHouse Yes, you did. Trump can waive his almighty pen and cancel it just like he’s done with countless programs like protecting National Park lands, for example. This is a big lie. #Resist #FreeTheChildren\n",
      "1670:  Olympic National Park \n",
      "#findyourpark #resist #saveourparks\n",
      "https://t.co/RzRMD5osXF\n",
      "2244:  This is really heartbreaking! Instead of hunting people online, \"Progressive\" regressive #Resistance should be speak up for peace. None of them really care about poisonous #Geoengineering, climate change and world safety. https://t.co/LvfC9uB0Up\n",
      "2196:  I want my kids to inherit a world that is free from climate change. \n",
      "\n",
      "#FBRParty\n",
      "#FollowBackResistance\n",
      "\n",
      "Will follow back #Resisters and retweet often! \n",
      "\n",
      "Please do any:\n",
      "1 Like\n",
      "2 Retweet\n",
      "3 Follow\n",
      "4 Reply\n",
      "\n",
      "#BlueWave #Resist\n",
      "1337:  I have hiked and climbed many of our public lands... the @GOP wants to take those areas away from us.   They don't care about nature, endangered species, or anything else that doesn't make the 1% money.  #VoteBlue https://t.co/VT8TNKvttZ\n",
      "4898:  #Veterans and #Disabled it's your fault! Ryan Zinke blames free visits for veterans, disabled in push to raise fees at national parks https://t.co/NFRXxBsLOy #VetsResistSquadron #VetsAgainstTrump #Resist\n",
      "1742:  @realDonaldTrump It’s climate change, stupid! #resign #resist #Impeach45\n",
      "\n",
      "rep-lead\n",
      "\n",
      "594:  Canada standing firm on the issue of climate change. https://t.co/7OTl0QtXcL\n",
      "4752:  '#Trump #Forest' hits a million trees in bid to fight climate change: Euractiv https://t.co/qUDc7akcap\n",
      "1366:  @youthvgov Exciting &amp; important news is this year’s Nobel Prize in Economics to Romer &amp; Nordhaus which shows that a carbon tax can effectively address climate change. It’s astoundingly hopeful news. #GOP &amp; #TRUMP need to get with the #ClimateAction program! https://t.co/YmY65DRZTW\n",
      "5523:  Clean energy's record job growth shows it's not the job killer that conservatives claim https://t.co/6eZ3AlcJvs #FBR #TrumpRussia #Mueller #Resist #MAGA #2A #1A #GOP #tcot #ccot #Patriot #AmericaFirst\n",
      "2231:  CLIMATE CHANGE IS REAL,\n",
      "CLIMATE CHANGED HUGE BEFORE MANKIND!\n",
      "Catastrophic Volcanoes Blamed for Earth's Biggest Extinction \n",
      "#MTP,@ChuckTodd,#msnbc,#maga,#QAnon,@annenbcnews\n",
      "https://t.co/fzmnWdt81t via @LiveScience\n",
      "528:  @HouseGOP What the hell are you talking about?\n",
      "8 yr high in 30 yr mortgage rates\n",
      "5 yr high deficit\n",
      "4 yr high inflation\n",
      "Farmers on welfare\n",
      "Military families on Food Stamps\n",
      "SocSec/Medicare CUT\n",
      "Job/Biz killing tariffs\n",
      "\n",
      "Cabinet/Admin STEALING from taxpayers\n",
      "Selling public lands to cronies\n",
      "#GOP\n",
      "492:  It's interesting that in a Campaign TV blurb, Oregon's \"republican\" (rino?) Candidate @KnuteBuehler quotes @HillaryClinton, saying \"Climate Change is Real!\"\n",
      "\n",
      "Hang on tight Oregon, the Trump Train is paying attention...\n",
      "\n",
      "#noKnowledgeAbsentGd #RAD #Rms1vs19to21 \n",
      "\n",
      "#MAGA #KAG https://t.co/scb1H3CkYP\n",
      "4712:  Reality of the end of Fossil Fuel Age setting in, #Trump or no Trump, #Pruitt or no Pruitt, #Perry or no Perry. The sugar high of US hydrocarbon extraction notwithstanding, the chairs are being put on the tables. https://t.co/7rpL27eSUJ\n",
      "757:  Confronting climate change will create millions of jobs.\n",
      "let's do it! #ClimateAction #climatechange #maga #CheeseburgerDay #changetheworld https://t.co/kS6DSCB35a\n",
      "4947:  @guardian Ask Trump, he knows better, that climate change is a product of fantasy \n",
      "#Trump \n",
      "#climatechange\n",
      "\n"
     ]
    }
   ],
   "source": [
    "print_samples_all_groups(env)"
   ]
  },
  {
   "cell_type": "markdown",
   "metadata": {},
   "source": [
    "### Foreign Policy"
   ]
  },
  {
   "cell_type": "code",
   "execution_count": 27,
   "metadata": {},
   "outputs": [
    {
     "name": "stdout",
     "output_type": "stream",
     "text": [
      "I'm trying\n",
      "Connected to political tweets DB\n"
     ]
    },
    {
     "data": {
      "image/png": "[encoded data removed]",
      "text/plain": [
       "<Figure size 432x288 with 1 Axes>"
      ]
     },
     "metadata": {
      "needs_background": "light"
     },
     "output_type": "display_data"
    }
   ],
   "source": [
    "fp = run_vader(\"foreign_policy\")"
   ]
  },
  {
   "cell_type": "code",
   "execution_count": 28,
   "metadata": {},
   "outputs": [
    {
     "name": "stdout",
     "output_type": "stream",
     "text": [
      "dem-base\n",
      "\n",
      "4397:  This is reprehensible, dangerous and puts millions of lives at risk. When will @RepGrothman &amp; #GOP electeds finally put national security over party &amp; say enough is enough? https://t.co/ZFs3oFXWRi\n",
      "3755:  @RepAnthonyBrown @Call_Me_Dutch @FBI While GOP rescinded funds for project, a fully consolidated @FBI HQ is a matter of national security–thanks @Call_Me_Dutch for your support.\n",
      "4259:  .@realDonaldTrump's lawyer is now describing Michael Flynn, Trump's Former National Security Advisor, as \"an Obama Administration Official.\"\n",
      "\n",
      "They know they're in trouble.\n",
      "https://t.co/BPvptq0PTO\n",
      "4257:  Michael Flynn, a former senior Trump White House official—who was responsible for matters of NATIONAL SECURITY—has pleaded guilty to a felony while in office. \n",
      "\n",
      "It's essential that this investigation continue. We must protect our democracy.\n",
      "1831:  The veracity of #ClimateChange should no longer be up for debate.  Our national security, our economic prosperity, and millions of lives depend on our willingness to address this global crisis. https://t.co/08SWkZ3TVd\n",
      "5517:  I intend to press Director Pompeo on how he views America's role in the world. I want to know whether he recognizes the role of the State Department in promoting human rights and democracy around the world, and how that strengthens U.S. national security here at home.\n",
      "1710:  Proud to join this group of veterans who will use our military experience to fight for climate change, cybersecurity, immigration reform and other key issues affecting our national security. \n",
      "\n",
      "https://t.co/ST2EZrnoM9\n",
      "1513:  Now, President Trump is removing his own Attorney General in order to install a lapdog who will do what he has called for repeatedly- end or hamstring an independent investigation that is vital to our national security.\n",
      "7501:  The President may not talk about human rights abuses in North Korea, but I was glad to meet w/ @NEDemocracy #DemAward winners Unification Media Group &amp; @TJWGSeoul today who are doing incredible work to ensure we don’t neglect the staggering abuses Kim Jong-un is perpetrating. https://t.co/tlFFGbd2kP\n",
      "4699:  If Republicans want to show the American people they aren’t engaging in a partisan witch hunt or blatantly seeking to protect the President by discrediting our national security agencies, they ought to allow Democrats’ memo to be released as well. 3/3\n",
      "\n",
      "rep-base\n",
      "\n",
      "3159:  Don't miss America's First District Job Fair tomorrow, 9am-12pm in Hampton http://bit.ly/kefCtf #4jobs #jobs\n",
      "2722:  Discussing the Middle East and the Obama Administration's negotiations w/ Iran with Bill from Newaygo #TTH http://t.co/EVQ8XlN5fT\n",
      "2830:  Our national security policies are naive, our presence is weak, and our border isn't secure. It's time to change. https://t.co/0dyoMUXBI1\n",
      "5876:  Let the trolls begin! This is .@RepMarkTakano aide. \n",
      "His boss hired two Awan brothers, voted for the Iran deal, voted three times this year for gov shutdown, voted against Kate's law and voted against the Thin Blue line act. \n",
      "#TakeAHikeTakano\n",
      "Donate at: \n",
      "https://t.co/nLUvnsV9KM https://t.co/skYVu1XKAA\n",
      "5870:  I’ll be on .@RiskRewardFBN .@FoxBusiness at 5pm ET to talk about the latest foreign policy news of the day! .@LizMacDonaldFOX and I are set to touch on #Syria, #China, #NorthKorea, and more, so don’t miss it! https://t.co/zQFZFlvcUo\n",
      "3775:  Proud to invest to defend @realDonaldTrump America First policies, fight insiders, defeat Debbie Stabenow.  #misen  https://t.co/gTycxOJ6gg\n",
      "4012:  . @POTUS is right, we must crush radical Islamic terrorism in the Middle East &amp; around the world. Like if you stand with President Trump. https://t.co/1mMgwlNSAL\n",
      "787:  Where does Chris Murphy stand on John Kerry’s  ‘Resistance Diplomacy’ with State-Sponsor-of-Terrorism Iran? We have only one foreign policy and one President, and that is @realDonaldTrump.  @CTGOP @NRSC  https://t.co/bwzF1IV8Ey\n",
      "4266:  President Trump’s wins dealing with the foreign policy challenges posed by North Korea may not delight the editorial board of the NYTimes or wimpy Obama administration, but he has demonstrated success at continuing to pressure Kim Jong Un. #wiright #maga https://t.co/rInBT7PRx4\n",
      "2795:  READ my column in today's Tampa Tribune: Iran Deal jeopardizes the security of the United States and the world... http://t.co/JV8HoUfcVg\n",
      "\n",
      "dem-lead\n",
      "\n",
      "5392:  @realDonaldTrump @Ohio4Trump2020 How about those sanctions on Russia? America First?\n",
      "  #ImpeachTrump #VoteThemOut #TrumpLies #Resist #Resign #UniteBlue #TrumpTrain #MAGA #ImWithHer #MeToo #TrumpTaxScam #GOPTaxScam #ClimateChange #Jobs #NoBanNoWall https://t.co/hd0t4Yj4gp\n",
      "4744:  #SOTU @realDonaldTrump America is no different from North Korea. Do you not think holding someone in #Gitmo without  formal charges or a trial not equate to the atrocities of the North Korean regime? #GETREAL #hypocrites #trumprussia #Resistance\n",
      "1489:  @HillaryClinton Why I #RESIST\n",
      "\n",
      "Tax Scam Bill\n",
      "Social Security\n",
      "Net Neutrality\n",
      "Trade Wars\n",
      "Pre-Existing Conditions\n",
      "SCOTUS\n",
      "Russia\n",
      "March For Our Lives\n",
      "No Tolerance ICE\n",
      "Environment\n",
      "Paris Agreement\n",
      "Artic/Offshore Drilling\n",
      "CFPB\n",
      "Dodd Frank\n",
      "Medical Marijuana\n",
      "StandWithPP\n",
      "Iran Deal\n",
      "Trans Ban\n",
      "MeToo\n",
      "Taxes\n",
      "7245:  Paging Dr. Freud. Dr. Freud, you're needed at 1211 Avenue Of The Americas, soon to be rechristened (h/t to @Franklin_Graham and ilk) Avenue Of America First (ain't that right, @seanhannity?) https://t.co/0OHff0PYsB\n",
      "5273:  This NRA debate &amp; Twitter purge are backfiring on the left!\n",
      "I'm racking up new followers like never before!\n",
      "Our America First movement is massive &amp; growing stronger by day!\n",
      "\n",
      "#CNNSOTU #Democrats #SundayMorning #1A #MeetThePress #Trump #MolonLabe #maga #TrumpTrain #2A #AmericaFirst https://t.co/eEz59dxFuF\n",
      "5277:  @mitchellreports The answer is no. Money first, I mean America first, is what the guy who occupies the white house wants. He won't mess with #Putin because he is weak and simply not smart. His advisors are the worst on the planet. #WorstCaseScenario\n",
      "\n",
      "#Resist\n",
      "4656:  @Eliza_4_God @Thomas1774Paine @realDonaldTrump Yes the Constitution clearly says there shouldn't be separate branches of government &amp; the leader should direct the justice department/police to who he wants them to arrest.\n",
      "Oh wait, that's North Korea.\n",
      "#MAGAts\n",
      "#MAGAtraitors\n",
      "#MAGAtrash\n",
      "#TheResistance\n",
      "#Resist\n",
      "#ThisIsNotNormal\n",
      "1784:  The same woman who oversaw the American kidnapping, detainment, &amp; torture programs in the Middle East?  What has she possibly gotsta say? https://t.co/7JEe8v7euU\n",
      "4715:  I live in America so all I got was the #SOTU from an #orangelunatic tonight and not the gorgeous #SuperBlueBloodMoon #BlueMoon(I'd have to be in Asia, Middle East, South America 😝)\n",
      "\n",
      "#StateoftheUnion #RESIST #Resistance #TrumpRussia #BlueWave2018 #BlueWave\n",
      "622:  Antiwar protestors are too busy supporting the #resistance and protesting against Trump, to notice US arm sales to Saudi Arabia are funding #YemenGenocide. https://t.co/hlia59RALb\n",
      "\n",
      "rep-lead\n",
      "\n",
      "6697:  @realDonaldTrump America First! #MAGA !!\n",
      "So now we're helping China, sending more troops over seas, paying NoKo not to go nuclear.\n",
      "But of course you broke the Iran deal, so all our allies can't rust us anymore. Remind me #MAGAts how this is making us great again?\n",
      "6999:  #Stocks close lower after President #Trump cancels North Korea summit https://t.co/IAtnvG3vZf\n",
      "2187:  Money RULES foreign policy. #MerryChristmas #MondayThoughts #TrumpResign #TrumpShutdown #Trump #ResignTrump #MAGA #QAnon #QanonPosts #KAG #Resist #Resisters @The_Trump_Train @realDonaldTrump @GOP #MadamSecretary https://t.co/i8obbmT6AJ\n",
      "916:  Hillary and Make America First Responders and local officials, and there remains of a #MAGA Rally! Tickets: https://t.co/Lvm4pNJ4yr\n",
      "5045:  Vote America First. Maintain American values! #MAGA Monday. https://t.co/L5mfR4vIA6\n",
      "6121:  Donald Trump&amp;#39;s next move on North Korea, Iran, Ronny Jackson? ... - https://t.co/c9zXu3EaVf - #USPolitics #trump #potus #Midterms2018\n",
      "5434:  🛑 Daily Caller News 🛑 \n",
      "\n",
      "👉 Geraldo Gears Up For Trump’s Upcoming North Korea Talks: ‘We Can’t Lose’ \n",
      "\n",
      "https://t.co/uZyCle0LnE\n",
      "\n",
      " #MAGA 🇺🇸 ￼￼#2A #Prolife\n",
      "6636:  Watch what happened at 24:05 in America First Council's broadcast: President Trump Rally in Elkhart, Indiana #TRUMP… https://t.co/RlqhjJnKyv\n",
      "739:  North Korea claims NHS and Sony hack suspect 'doesn't exist' #BBC #Trump #health #Democrat #MAGA https://t.co/wxdOQWtNnA\n",
      "6673:  North Korea to hold ‘ceremony’ dismantling nuclear test site ahead of Trump's summit with Kim https://t.co/VPExQv3596 #MAGA #Winning #QAnon @RealDonaldTrump\n",
      "\n"
     ]
    }
   ],
   "source": [
    "print_samples_all_groups(fp)"
   ]
  },
  {
   "cell_type": "markdown",
   "metadata": {},
   "source": [
    "### Governance"
   ]
  },
  {
   "cell_type": "code",
   "execution_count": 29,
   "metadata": {},
   "outputs": [
    {
     "name": "stdout",
     "output_type": "stream",
     "text": [
      "I'm trying\n",
      "Connected to political tweets DB\n"
     ]
    },
    {
     "data": {
      "image/png": "[encoded data removed]",
      "text/plain": [
       "<Figure size 432x288 with 1 Axes>"
      ]
     },
     "metadata": {
      "needs_background": "light"
     },
     "output_type": "display_data"
    }
   ],
   "source": [
    "gov = run_vader(\"governance\")"
   ]
  },
  {
   "cell_type": "code",
   "execution_count": 30,
   "metadata": {},
   "outputs": [
    {
     "name": "stdout",
     "output_type": "stream",
     "text": [
      "dem-base\n",
      "\n",
      "4048:  I'm proud to be endorsed by @StopBigMoney. In Congress, I'll fight to get dark money out of politics &amp; return power to the people. #FL07\n",
      "4396:  Big money Koch network bought the Republican party, some judges, and brainwashed many of their voters. See how it's a threat to democracy: https://t.co/0UubsKGnwK\n",
      "4265:  Trump's EO on voter fraud is just the latest voter suppression tactic from his administration - read my statement\n",
      "https://t.co/yPBN6jS2Zc\n",
      "1087:  In my ER, I see this all too often. Driven by greed, Big Pharma makes lifesaving medications too expensive. Insurance companies barely cover medical costs. Then they pay off politicians with donations and dark money so Congress puts their interests first. https://t.co/qUBjHt5fAw\n",
      "6802:  May 7 is the deadline to register to vote in the June 5th Democratic Primary. Working together, we can make sure working Mississippians are put ahead of special interests. https://t.co/mBDn2IhUTH\n",
      "1250:  Thank you for being here &amp; @StopBigMoney for hosting us. ECU is doing meaningful, important work &amp; it’s an example of a membership org sustained by thousands rallying behind a cause they believe in.  That’s how our democracy &amp; campaign finance are supposed to work. #ForThePeople\n",
      "4487:  .@CASenateDems eliminated dark money from CA campaigns. #CADiscloseAct \n",
      "allows voters to make better informed decisions based on honest info https://t.co/9co3UjONpy\n",
      "237:  Dark money makes our political system less transparent and less accountable. I’m proud to again sponsor the DISCLOSE Act and support measures to make our political process more transparent. https://t.co/5Xe9fxGmRi\n",
      "1564:  I'm running for congress because I want to represent you - not special interests like big pharma. We don't need a $4 billion bailout for pharmaceutical companies, we need universal affordable and accessible healthcare for everyone. \n",
      "\n",
      "https://t.co/sN753LevsZ\n",
      "2233:  Tonight we caught @PeteStauber flat-footed on the budget deficit created by the Republican tax giveaway. Pete couldn't name one cut, and thats a sure sign he's a rubber stamp for Washington special interests who want to cut Social Security &amp; Medicare #MN08 https://t.co/d9VL34LXCy\n",
      "\n",
      "rep-base\n",
      "\n",
      "2577:  @mark_alberts @TheRightMelissa Ho HO HO...SHE DID BREAK FEDERAL LAW\n",
      "3942:  Visit my mobile office hours next week for assistance with any issues regarding the federal government: https://t.co/fTRe4aPitx\n",
      "3604:  Do you know where our federal government spends all our money? Make sure you do! http://t.co/XMKSybMMtc\n",
      "5669:  Americans are supporting the tangible benefits of getting the federal government out of the way of our producers and creators. Congratulations to my @NRCC colleagues @RepSteveStivers @MimiWaltersCA for a successful January! https://t.co/SdRtkl6V1g\n",
      "4693:  @joelpollak hey man. I'd like to submit an op-ed to you guys regarding the need for congressional term limits. Where can I submit?\n",
      "3695:  Yet another example of horrendous federal government overreach: FDA taking steps to ban wood-aged cheeses.\n",
      "\n",
      "http://t.co/hd2uw0i3Vi\n",
      "7161:  Washington is completely unaccountable to the people, and it’s time we truly drained the swamp. #DrainTheSwamp #wiright #wisen https://t.co/nhlwH9izOV\n",
      "4620:  Analysis of campaign donations shows on 23% of Ron Kind's donations come from individual donors. Does he serve us or big money interests? https://t.co/xbj5FxnPGP\n",
      "5242:  The federal government may no longer be prosecuting Bob Menendez, but we the people have found him guilty of an even worse crime: failure to represent the people of New Jersey. Celebrate now, but you’re still fired, @SenatorMenendez.\n",
      "4779:  Maxine Waters Says Her Opponent Omar Navarro Is Divisive For Bringing Sheriff Joe Arpaio To California's 43rd District. Please support the campaign of a century and help drain the swamp. #VoteOmarNavarro2018 #ITSON #CD43\n",
      "\n",
      "Donate Today! https://t.co/3DpgAzzfio https://t.co/pAz6DvXzbc\n",
      "\n",
      "dem-lead\n",
      "\n",
      "1815:  @TwitterMoments supreme court judge should have term limit, this one wrong decision is going to last for decades ...not fair!! #voteblue in November\n",
      "1809:  So #POTUS said he’s draining the swamp but he forgot to mention he’s filling it back up... I guess he’s making the swamp great again... #POTUS45 #DrainTheSwamp #PresidentTrump #CancelKavanaugh  #VoteThemOut #VoteBlueNoMatterWho #VoteThemAllOut #NovemberIsComing\n",
      "6519:  Congressional District Tx-11 avg household income is less than $50,000.... The #GOPTaxScam benefits the top 1% of the wealthiest in our nation and special interest. Not the people of our great #Tx11!\n",
      "#ElectALeederToTheHouse #BlueWave2018 #LeederForTx11 #FlipItBlue2018 https://t.co/YyKZUWkoFZ\n",
      "5136:  Sure There's No Voter Fraud? It's MASSIVE nation wide &amp; #DEMOCRATS know it &amp; actually encourage it WE Must Have VOTER ID or Our Elections are Meaningless #DNC #GOP #CCOT #TCOT #TLOT #PJNET #REPUBLICAN #DOJ #FBI #CONGRESS #SENATE #SWAMP #ILLEGALS https://t.co/SVceItVF5D\n",
      "731:  @RepJuanVargas Stop letting your party leaders at the @DCCC and @DNC take money from wealthy donors to go against the will of the people. That is not democracy, it is greed and it is evil. The American people need better, affordable healthcare #bluewave https://t.co/7YRweyS7H2\n",
      "2636:  Dallas peeps Please keep this going!  They say we don’t need term limits because we can vote them out Pete has been in office 20 yrs Vote for .@ColinAllredTX for a change! https://t.co/qTzovr2nNq\n",
      "5610:  @nyjerrykane @RepDanDonovan We are not bots. No fake outrage here. We are constituents who are going to vote him out for not doing a damn thing for anyone but the special interests who line his pocket. Watch &amp; see. #TeamOmar🌊 #BlueWave2018 #RESIST https://t.co/U5IkpGvcI7\n",
      "6726:  I believe that election was 100% voter fraud. https://t.co/YMQSWDcYou\n",
      "1224:  That last line says it all. \"Denham breaks his promises because he puts his special interest donors and party bosses ahead of us\". @JeffDenham is corrupt! I'm voting for the young guy, @joshua_harder. People, don't vote against your self interests. https://t.co/ahQu0HNBpA\n",
      "1133:  @realDonaldTrump If you think this is draining the swamp and winning, you need a new dictionary. #resist #LiarInChief\n",
      "\n",
      "rep-lead\n",
      "\n",
      "6199:  TRUMP + USMC + Sheriffs = Drain the SWAMP https://t.co/dxu706OjxO\n",
      "5143:  @realDonaldTrump Time to arrest all Governors who signed Bills for Sanctuary cities. Federal Law stomps state laws. Law and order. #MAGA\n",
      "6000:  @mcspocky @thepoliticalcat Ah - the old \"if Trump lost\" argument!\n",
      "\n",
      "When in truth, if it weren't for voter fraud, the #GOP wouldn't win the elections they do!\n",
      "#Gerrymandering\n",
      "2966:  Good luck with that, worthless, republicans need to grow a pair and I vestergate voter fraud #MAGA https://t.co/dBvOBttvhj\n",
      "1375:  This may be the most consequential news story of the year if it leads to disclosing all the dark money donors sponsoring all those slimy #GOP political ads. https://t.co/W8c9DQYkCq\n",
      "5257:  @JoeNBC Lol😂R u serious @JoeNBC ... Gowdy's a HUGE Trump supporter &amp; I can assure u he's all for DRAINING THE SWAMP🐉at the corrupt FBI &amp; DOJ👹#MAGA🇺🇸\n",
      "1388:  @Ar_Chroi @themarketswork @IngrahamAngle Don’t Let the Deep State Evil Cabal Win\n",
      "\n",
      "VOTE THIS ELECTION DAY\n",
      "Tuesday, Nov 6, 2018\n",
      "\n",
      "Elect a #MAGA Congress\n",
      "Vote \"To Make America Great Again!”\n",
      "\n",
      "Ronald Reagan:\n",
      "\"It's Hard To Drain The Swamp\n",
      "When You're Up to Your Armpits\n",
      "In Alligators\" [and Scum, Cockroaches, and Snakes Too!]\n",
      "6645:  Only an idiot believes that Trump is draining the swamp. His entire cabinet is irresponsible and unqualified and in most cases unethical and criminal. https://t.co/guPgkZ8eNM\n",
      "2048:  Beto has taken money from out of touch elite Hollywood. \n",
      "\n",
      "Beto does not care about every day hard-working Texans.\n",
      "\n",
      "Vote. Ted Cruz #MAGA \n",
      "\n",
      "#TexasDebate https://t.co/dZuwgqctay\n",
      "5484:  @RepMattGaetz @thehill Thank you @RepMattGaetz \n",
      "Must change FEDERAL LAW \n",
      "\n",
      "Marijuana relaxes muscles &amp; allows me to avoid taking Xanax.. that really drugs me! Hospital disposed mine at admission citing reason as federal law \n",
      "Can't Replace It =&gt; \n",
      "100% Disabled from MS \n",
      "@realDonaldTrump @POTUS #MAGA 🇺🇸\n",
      "\n"
     ]
    }
   ],
   "source": [
    "print_samples_all_groups(gov)"
   ]
  },
  {
   "cell_type": "markdown",
   "metadata": {},
   "source": [
    "### Guns"
   ]
  },
  {
   "cell_type": "code",
   "execution_count": 31,
   "metadata": {},
   "outputs": [
    {
     "name": "stdout",
     "output_type": "stream",
     "text": [
      "I'm trying\n",
      "Connected to political tweets DB\n"
     ]
    },
    {
     "data": {
      "image/png": "[encoded data removed]",
      "text/plain": [
       "<Figure size 432x288 with 1 Axes>"
      ]
     },
     "metadata": {
      "needs_background": "light"
     },
     "output_type": "display_data"
    }
   ],
   "source": [
    "guns = run_vader(\"guns\")"
   ]
  },
  {
   "cell_type": "code",
   "execution_count": 32,
   "metadata": {},
   "outputs": [
    {
     "name": "stdout",
     "output_type": "stream",
     "text": [
      "dem-base\n",
      "\n",
      "1033:  There are common sense solutions to curbing gun violence. But instead of advocating for reforms that would save lives, @LeahVukmir is following the lead of her NRA donors. Shameful. #wisen #wbadebate https://t.co/D1C2bdCdSG\n",
      "3881:  94% of Americans (93% of gun owners) want background checks on every gun sale. Retweet if you do too.\n",
      "4472:  1. Universal background checks on EVERY GUN TRANSFER\n",
      "2. Ensure that every gun owner with minors in the home has guns secured from children with trigger locks at a minimum\n",
      "\n",
      "#ProLife #gunsense #guns #GunControlNow\n",
      "5791:  I wear this \"F\" grade as a badge of honor. I'm proud to stand up for gun safety &amp; against the NRA's dangerous agenda. #EnoughIsEnough https://t.co/pH8k6xXxc3\n",
      "5942:  @Donald_Booker We stand with the vast majority of Americans and gun owners in our support of a ban on assault weapons and common-sense background checks - along with a focus on strengthening families, education, healthcare, and communities so that all Americans have what it takes to thrive.\n",
      "4897:  Three of the 10 deadliest shootings in modern US history have been in the past five months. This is a heartbreaking, horrifying, and inexcusable statistic. We MUST ban assault weapons &amp; large capacity magazines. We MUST close background check loopholes. #GunReformNow\n",
      "776:  Beyond grateful to Linda Beigel for inviting me to the movie premiere of Parkland: Inside Building 12. I promise to keep fighting for common sense gun reform, for her son Scott, &amp; for the thousands of senseless victims of gun violence. Let’s work together to solve this issue! https://t.co/6aZtztKd6S\n",
      "1845:  Keep fighting popular, common-sense strong gun safety laws &amp; NRA will continue to alienate the American people, lose members, see funding dry up &amp; lose political battles. \n",
      "\n",
      "We are demanding action to make Americans safer and we won’t stop until we win. https://t.co/DsvEVaSE3L\n",
      "4090:  1,700+ mass shootings since the tragic shooting at #SandyHook elementary in 2012 – time to #HonorWithAction and pass strong, commonsense gun safety standards. https://t.co/CCAO4u4B4k\n",
      "2039:  Jon fights misguided regulations that would trample Montanans' 2nd Amendment rights:  http://t.co/A9By0Sqe\n",
      "\n",
      "rep-base\n",
      "\n",
      "4102:  Five years later, we remember the children and victims we lost at #SandyHook. We must all commit to ending gun violence and preventing more of these senseless tragedies. #Enough https://t.co/ZXGFTjkGwR\n",
      "3477:  Says the liberal who is for gun control. Gun control and gun free zones kill. https://t.co/gyRzvFHFKV\n",
      "6170:  I am so proud of these young people from #MarjoryStonemanDouglas for taking a stand on sensible gun control measures &amp; staying  #MSDStrong! https://t.co/qv13bi3NYW\n",
      "2711:  I'm a strong supporter of the 2nd Amendment. #MTpol #MTgov #Teletownhall\n",
      "2305:  Our 2nd Amendment rights continue to be eroded by activist judges &amp; liberal elected officials. We need to fight back! http://t.co/NVrtMIqrJC\n",
      "7394:  I fully support the Second Amendment and will stand against anyone who wants to repeal it. Unlike attacks in the past, the left is now openly calling for a full repeal of the Second Amendment. https://t.co/1qRb63PXyr\n",
      "2626:  If you missed today's town hall on immigration, 2nd Amendment, #ObamaCare, #DoddFrank, &amp; more, watch it here: https://t.co/bIQetZGA08\n",
      "2840:  We are fortunate to have people like Senator Chris Murphy willing to take a stand for gun safety. https://t.co/dOcOC2qkcg #IL10\n",
      "9009:  Awesome crowd of hundreds of people at today’s 2nd Amendment rally in Weirton.  Now off to Dee Jay’s for some of the best ribs you’ll ever find.  #wvsen https://t.co/qA6bPihUli\n",
      "2611:  Tell Bob Dold to stop talking about this and start VOTING on this---&gt;U.S. Gun Law Loophole Is 'Insane' https://t.co/Ogjj03FPAB via @nbcnews\n",
      "\n",
      "dem-lead\n",
      "\n",
      "1317:  We had a assault weapons ban for 10 years these type of shooting and crime went up in all most all 50 states it does not work a armed society is a safe and polite society guns are not the problem mental health is the problem https://t.co/i2W4mmGb88\n",
      "1100:  PROOF Claire McCaskill (MO-D) is AGAINST The 2nd Amendment - Informing Missouri Voters for you @clairecmc 😈#GunControl #firearms #MOSen #McCaskill #Senate #Midterm2018 #JoshHawley #Senator #2ndAmendment #SecondAmendment #PROJECTVERITAS #Democrats \n",
      "VIDEO:\n",
      "https://t.co/4E1dBkzpGl\n",
      "7116:  The NRA used to listen to members and used to back reasonable gun control.  @NRA https://t.co/PuTd3315d8\n",
      "7670:  @ProgressDems hello Progressive. I’m Approaching gun reform from a heartfelt artistic standpoint. Parkland shooting victim Hip Hop song from the heart. https://t.co/IvPJqz68a0 lets all work together! #neveragain #MarchForOurLives #resist #TheResistance\n",
      "8157:  This is a most obvious step in improving gun safety. https://t.co/R2LS3qWRwL\n",
      "8582:  Had no idea my birthday fell on #WorldTurtleDay. But ya know, slow and steady wins the race. #Resist #Indivisible Need lots of slow and steady turtles registering voters! That's how we win the race. 🇺🇸Same for gun reform #MomsDemand https://t.co/AFOuYzutgS\n",
      "6462:  https://t.co/o9WTL93RZG #BoycottNRA @jpw643 #RESIST #BREAKING #REVOLT 2nd Amendment #Oscars #WomensHistoryMonth #GoBlue #TheBachelor James Ivory #ThisWeek #FireKushnerNOW Gary Oldman #academyawards2018 Common Kobe #getout Inclusion Rider Shape of Water #FBR Sam Nunberg #Bachelor https://t.co/cpQrdstgjz\n",
      "8475:  Much tighter gun laws are a necessity , yes? Get representatives that will act in OUR behalf, NOW! Vote with #BlueWave &amp; recall &amp; replace where We can make it possible NOW! https://t.co/eXh3ZolBkC\n",
      "4566:  C'mon #republicans #MAGA #TrumpTrain #DrainTheSwamp Someone explain how YOU think it is OK to allow mass shootings at schools, concerts, churches movie theaters &amp; more . But #abortion is murdering a life. Please come forth and explain it to me cause it makes no sense #Resist\n",
      "1463:  @EmmaFrostResist \n",
      "Followed \n",
      "I will #Vote for Health Care \n",
      "I will #Vote for Immigration Reform\n",
      "I will #Vote for LGBTQ Rights\n",
      "I will #Vote for Gun Control\n",
      "I will #Vote to protect a woman’s right to choose\n",
      "I will #Vote for my #Sisters \n",
      "I will #VoteBlueToSaveAmerica 11-6 \n",
      "#Resist https://t.co/ajrLGSaDaL\n",
      "\n",
      "rep-lead\n",
      "\n",
      "7705:  An Open Letter to David Hogg\n",
      "\n",
      "https://t.co/QnPKWjN6Na #2A #GunSense #GunControl #MAGA #MAGA2018 #TCOT #UniteBlue #BlockTheHogg: @DavidHogg111\n",
      "\n",
      "What heretofore non-existent “gun” law do you think would’ve prevented Nikolas Cruz from rampaging through the halls of your school? https://t.co/1aRBTTuVAw\n",
      "4240:  @realDonaldTrump  11 USA school shootings in 23 days.  More than ANY other country.  #GOP #nra #republican\n",
      "6635:  @realDonaldTrump Hey #Trump!! We all know you won't do shit about gun control. The NRA has prob threatened you with #Impeachment !! \n",
      "\n",
      "You ARE afraid of the NRA!! COWARD!!\n",
      "\n",
      "#maga #msnbc #NBC #FoxNews\n",
      "5262:  Stop going on vacation and fix gun laws, angry #Florida students tell #Trump - video https://t.co/oEAs6vU5UI #FloridaShooting\n",
      "6441:  IndivisibleTeam: RT IndivisiblePIA: Mar 4th #Peoria IL Student Protest 2 End Gun Violence called out NRA endorsed RepLaHood #NeverAgain #EnoughIsEnough #2018isHere IndivisiblePIA IndivisibleIL IndivisibleTeam https://t.co/kR8fV7JolA https://t.co/eW1qHtU6K5 #trump\n",
      "5517:  @FoxNews @FBI Better background checks, not banning guns\n",
      "\n",
      "#Trump #MAGA #NeverAgain https://t.co/vFebCiJTLB\n",
      "4483:  @SenateMajLdr @POTUS 👍 2nd Amendment! These events are NOT because of guns. Stop that line before it even starts. \n",
      "👍🇺🇸 #MAGA\n",
      "1744:  @cnni Everyone who voted no on 1639 needs to sign this. Every patriot in every state with gun control, needs to sign this. Every gun owner across the country needs to sign this. We need this to get into the millions. \n",
      "\n",
      "https://t.co/sKjcujQAsZ\n",
      "\n",
      "#2A @realDonaldTrump #America #USA #MAGA\n",
      "5394:  @realDonaldTrump Make the police, mental health officials, FBI, and schools follow EXISTING laws on guns. No new gun control! Mentally ill people should be off the streets and out of our communities. #GOP #TeaParty #Trump2020\n",
      "893:  @PhilipRucker @jdawsey1 @feliciasonmez #Trump INSENSITIVITY  towards victims of ANY trauma is considerably disconcerting:\n",
      "-Sexual Assaults \n",
      "-Fallen soldiers spouses and parents\n",
      "-Hurricane victims\n",
      "-Racial attacks\n",
      "-Immigrants\n",
      "-Poor \n",
      "-Black police shootings\n",
      "-School shootings\n",
      "\n",
      "THIS man is NOT worthy to be President\n",
      "\n"
     ]
    }
   ],
   "source": [
    "print_samples_all_groups(guns)"
   ]
  },
  {
   "cell_type": "markdown",
   "metadata": {},
   "source": [
    "### Health"
   ]
  },
  {
   "cell_type": "code",
   "execution_count": 33,
   "metadata": {},
   "outputs": [
    {
     "name": "stdout",
     "output_type": "stream",
     "text": [
      "I'm trying\n",
      "Connected to political tweets DB\n"
     ]
    },
    {
     "data": {
      "image/png": "[encoded data removed]",
      "text/plain": [
       "<Figure size 432x288 with 1 Axes>"
      ]
     },
     "metadata": {
      "needs_background": "light"
     },
     "output_type": "display_data"
    }
   ],
   "source": [
    "health = run_vader(\"health\")"
   ]
  },
  {
   "cell_type": "code",
   "execution_count": 34,
   "metadata": {},
   "outputs": [
    {
     "name": "stdout",
     "output_type": "stream",
     "text": [
      "dem-base\n",
      "\n",
      "4175:  I appreciate the opportunity to talk about my priorities for our district in The Bulletin. It's time for leaders in Congress to provide better access to affordable health care, build strong partnerships for good-paying jobs, and invest in our education. https://t.co/q4CL3KtU4l\n",
      "14598:  #GrahamCassidy means being a woman is once again a \"pre-existing condition\" - we won't stand for this! Women deserve better than #Trumpcare https://t.co/H3MvCPvDOX\n",
      "1568:  Access to health care, community-based services, and strong Medicaid and Medicare programs are how to support the one in four American adults with a disability as reported by the CDC: https://t.co/6MMJH6HxGz\n",
      "1115:  A packed house in Putnam Co on stop #2 of #TakeBackWVTour.\n",
      "\n",
      "Health care. Opioids. Social security. Veterans. Jobs. Clean water. Coal. All topics that came up.\n",
      "\n",
      "One thing is clear: people have had enough of Washington politicians. Time to put people first! #LetsGo #WV02 #wvpol https://t.co/SUTYEjHf2B\n",
      "11309:  The Republican health care plan: less health care for you, bigger salaries for health care CEOs. Republican priorities!\n",
      "14005:  It’s simple: Health care is a right, not a privilege. https://t.co/sGgpj7acvN\n",
      "4419:  51% of #MN02 residents under 65 have a pre-existing condition. Republicans tried to take away their protections and move us backward on healthcare. #tptAlmanac\n",
      "2350:  Thank you President Obama for supporting Medicare for All. \n",
      "\n",
      "His support takes us another step toward ensuring that no one in the richest country in the history of the world has to forego health care because they cannot afford it. https://t.co/LK449oQ4ai\n",
      "16961:  Lifetime coverage limits for HEALTH CARE?  \n",
      "\n",
      "This administration keeps finding new, irrational ways to ruin people's lives.\n",
      "\n",
      "It's clearer now than ever: taking our government back is truly a matter of life and death. #FlipIN09 https://t.co/Je6gKuIaTs\n",
      "10365:  &amp; to deliver mental health care in a way that meets the unique needs of servicemembers and veterans… -Joe\n",
      "\n",
      "rep-base\n",
      "\n",
      "8380:  Just posted pictures from my recent 7th District health care tour w/ @RepTomPrice. Click here, to view---&gt; http://t.co/WVXI1BHCtX #sctweets\n",
      "16021:  While Republicans in Congress have been solely focused on tax giveaways for the super rich, the future of Community Health Centers across America hangs in the balance. We must act now to fund this program.  https://t.co/xgevcAYdd1\n",
      "7736:  http://twitpic.com/71n9m - At The Vets Committee helping pass a bill to improve veterans health care by advance funding the VA.\n",
      "8102:  Just introduced a resolution urging Congress to be fiscally responsible when reforming health care.\n",
      "\n",
      "http://tinyurl.com/fiscalsenators\n",
      "1906:  It is truly unfortunate that liberal Joe Manchin is playing politics with the health care of West Virginians and continues to obstruct President Trump's efforts to repeal and replace the disaster of Obamacare and its high premiums. #WVsen\n",
      "11232:  We need healthcare version of popular Gekko - 15 mins could save you 15%+ on health insurance bought across state lines #repealobamacare\n",
      "18012:  Thanks to the folks at the Phelps Memorial Health Center in Holdrege for the tour this afternoon. What a wonderful patient-focused facility for central Nebraska! #OnTheRoadinNE #LoveNE https://t.co/8RMbFmOWeZ\n",
      "13057:  It's time to repeal Obamacare &amp; give Americans more health care choices, not fewer and lower the cost of premiums. https://t.co/nbdGF1vnxy\n",
      "9682:  Last week was National Health Center Week, and on Friday I visited the East Liverpool Community Health Center. http://t.co/WQ7k77JiNT\n",
      "10195:  Today I called on the President to demand open health care negotiations. Copy of my letter to the President: http://bit.ly/7esk2F #tcot #hcr\n",
      "\n",
      "dem-lead\n",
      "\n",
      "6164:  Many of these seem to me to be within the margin of error.  Save your health care, decrease infant mortality and  #VoteBlue https://t.co/4OwN9YLDiD\n",
      "4628:  THIS!  WAKE UP PEOPLE! #VoteBlue if you want to keep your social security, Medicare and Medicaid. https://t.co/LLrYZvRtDa\n",
      "7286:  Defend the Affordable Care Act in the Lame Duck https://t.co/itMFkySjpV via @CREDOMobile #resist\n",
      "6300:  MIKE ESPY can turn Congress around and make it work FOR Mississippians. TODAY'S VOTE IS TOMORROW'S AGENDA. ESPY could be THE SWING VOTE for your Soc Sec, Medicare and Medicaid. SWING YOUR VOTE TO ESPY! VOTE - no matter what it takes! https://t.co/Yw0k9xDYDv\n",
      "7417:  Wow, #loonyliz has legs again. #Democrats are an embarrassment to mental health. https://t.co/Qg7EER1mni\n",
      "1625:  @RepAndreCarson Stop letting your party leaders at the @DCCC and @DNC take money from wealthy donors to go against the will of the people. That is not democracy, it is greed and it is evil. The American people need better, affordable healthcare #bluewave https://t.co/7YRweyS7H2\n",
      "18403:  WATCH AND RT\n",
      "\n",
      "THERE IS REALLY NO REASON TO HAVE TO\n",
      "\n",
      "DO THIS FOR SO MANY PEOPLE IN ONE\n",
      "\n",
      "STATE\n",
      "\n",
      "WE NEED HEALTH CARE\n",
      "\n",
      "LETS CO OP STATE AND FEDERAL FOR\n",
      "\n",
      "FREE MEDICAL CARE FOR ALL\n",
      "\n",
      "IT CAN BE DONE\n",
      "\n",
      "IT SHOULD BE DONE\n",
      "\n",
      "VOTE FOR PEOPLE WHO DO WHAT\n",
      "\n",
      "THE PEOPLE WANT AND NEED\n",
      "\n",
      "GOP GOT TO GO https://t.co/qORvKrzNaP\n",
      "7151:  Judge’s decision to declare #Obamacare unconstitutional presents an opportunity for our divided government to pass #healthcare reform to protect people with #PreExistingConditions &amp; lower health care costs. Time for #Democrats &amp; #Republicans to work towards a #bipartisan solution\n",
      "6334:  @nprpolitics Female Democratic candidates care about things that matter to us. Heath care, Medicare expansion, control over their own bodies, protections for preexisting conditions, LGBTQ rights, gun reform, minorities rights and not locking up kids in cages. It’s not rocket science.#VoteBlue\n",
      "17316:  We need to start a conversation. EVERYONE HAS TO COME TOGETHER NOW! It's not just gun reform or mental health reform. It's BOTH GUN and MENTAL HEALTH reform. Let's all come together, both parties and solve this once and for all! #EnoughIsEnough #republican #democrats\n",
      "\n",
      "rep-lead\n",
      "\n",
      "18185:  Wonder why there's a mental health crisis? Maybe it's because liberal nutjobs like this guy are providing mental health care. https://t.co/w8AHY6KSYs\n",
      "6019:  @Senate_Fund Rosen is NOT even really from Nevada, Look at where her campaign support comes from.  Heller has lived in Nevada for decades and knows what Nevadan's need.  Also, the FACT is, he DOES and IS supporting coverage of Preexisting Conditions.  #MAGA\n",
      "17174:  Comments from #GOP representatives certainly demonstrate that if anybody needs mental health care it’s them.\n",
      "\n",
      "#GunContolNow\n",
      "#FloridaShooting\n",
      "#NRAPuppets\n",
      "17970:  Mental health crisis is growing rapidly in the US. BIGLY. https://t.co/yPM8Cl6qUk\n",
      "17461:  @oldusarmyvet @Pink_About_it Oh my God I hope these families make a great stand #MAGA and get some mental health checks in with getting accessibility to guns. Hell, after all the WARNING SIGNS AND MULTITUDE OF CALLS ABOUT THIS KID...How was he able to keep his guns. This smells awfully fishy. #Democrats\n",
      "17311:  This is NOT a gun issue and it's NOT a mental health issue, labeling it as such makes it a political hot potato, this is about school safety, surely neither party can object to securing the entrances... Cruz never would have gotten into a courthouse like that.\n",
      "\n",
      "#MAGA #POTUS #2a\n",
      "17369:  @Independent America's 'gun problem' is also a mental one! A country run by gun lobbyists, who blame regular school shootings, on the mental health of the shooters: And not the availability of automatic weapons! #guns #GunReformNow #trump #schoolshooting #Americans https://t.co/NLwLvMgKcO\n",
      "17083:  @realdonaldtrump  CUTTING BACK what matters to REAL PEOPLE #Trump wants to overhaul America’s safety net with giant cuts to housing, food stamps and health care  SAD!   https://t.co/DVFa0RFQyL\n",
      "17047:  @RepMarkMeadows The #GOP #Tax #Scam is #crumbs because majority of #money goes to billionaires, shareholders &amp; corporations permanently while regular #Americans get tiny &amp; temporary tax cut with no affordable healthcare #Propaganda\n",
      "17375:  @SpeakerRyan Do you have one of these maps for people who have lost health insurance #maga #heathcare #medicaid\n",
      "\n"
     ]
    }
   ],
   "source": [
    "print_samples_all_groups(health)"
   ]
  },
  {
   "cell_type": "markdown",
   "metadata": {},
   "source": [
    "### Immigration"
   ]
  },
  {
   "cell_type": "code",
   "execution_count": 35,
   "metadata": {},
   "outputs": [
    {
     "name": "stdout",
     "output_type": "stream",
     "text": [
      "I'm trying\n",
      "Connected to political tweets DB\n"
     ]
    },
    {
     "data": {
      "image/png": "[encoded data removed]",
      "text/plain": [
       "<Figure size 432x288 with 1 Axes>"
      ]
     },
     "metadata": {
      "needs_background": "light"
     },
     "output_type": "display_data"
    }
   ],
   "source": [
    "imm = run_vader(\"immigration\")"
   ]
  },
  {
   "cell_type": "code",
   "execution_count": 36,
   "metadata": {},
   "outputs": [
    {
     "name": "stdout",
     "output_type": "stream",
     "text": [
      "dem-base\n",
      "\n",
      "9352:  @VP @realDonaldTrump Contrary to @VP Pence’s rhetoric today, eliminating environmental safeguards &amp; implementing bigoted, discriminatory immigration policies makes America weaker, not greater.\n",
      "12088:  Make plans now to join us for Mothers March at 4p today. We will not stop until every child separated is reunited w their Mother/Family.  #FamilesBelongTogether #NoBabyJails #familiesincarceration https://t.co/pugbLWVXR7\n",
      "10798:  I've called on the Trump Administration to immediately end its inhumane policy of separating children from their parents at the border. This policy has traumatized children who are fleeing extreme violence. #FamiliesBelongTogether\n",
      "5751:  Hosted an immigration reform roundtable discussion in Beaverton. U.S. House needs to act on comprehensive bill soon. http://t.co/YOxTIhLpRg\n",
      "10481:  Separating families doesn't act as a deterrent, it's devastating for children and it cuts at the moral heart of who we are as a country. The Trump administration could stop this tomorrow if they wanted to.\n",
      "https://t.co/fgx8JNCXzh\n",
      "7546:  Appalled by this report that Trump wants to waste $18 billion of taxpayer money on an ill-considered border wall. As the top Democrat on DHS Approps, I urge the administration to join us in funding real solutions to keep Americans safe. The wall isn’t a solution, it’s a slogan. https://t.co/eoSCLZbcJO\n",
      "9777:  Speaking at #SB54 #OptOut hearing in YUCAIPA: No #SanctuaryState for criminal illegal aliens!  Godspeed https://t.co/JxERyfhvZM\n",
      "4578:  A shutdown has real consequences. The President shouldn't be playing games with our government over funding for a senseless border wall that does nothing to improve border security or address immigration reform.\n",
      "3889:  I had a productive conversation with @MariaBartiromo this morning about the critical need for border security. As a sovereign nation, America must define and defend its borders. It's time to #BuildTheWall. https://t.co/qshjL5CocT https://t.co/UGFPz0E1qs\n",
      "4839:  At midnight, President Trump decided to shut down the government over his demand for a medieval border wall. Hundreds of thousands of federal employees - more than 8,000 in Illinois - will go without a paycheck over the holidays. This is senseless and cruel.\n",
      "\n",
      "rep-base\n",
      "\n",
      "10589:  I have supported @POTUS’s programs more than any other member of the Senate. I will continue to support our President to grow our economy, secure our borders, and keep Americans safe. https://t.co/GxZYGIiK7j\n",
      "8095:  BORDER SECURITY!!! Thank you ICE. #SOTU  #AmericaFirst\n",
      "7353:  The border wall prototypes in San Diego are ready for inspection. Tune into The Daily Ledger tonight at 8pm ET &amp; we’ll give you the rundown! https://t.co/c7DEhjCMuf\n",
      "4570:  The House will soon attempt a bill that helps hurricane victims and adds border security.  If it passes, then it is back to the Senate to avoid a shutdown.\n",
      "3291:  I am asking for your vote to keep our state red. A vote for me is a vote to cut taxes, secure our border, and support our military. https://t.co/giuVyv38ZE\n",
      "6097:  @PITA444 @RepMattSalmon I joined Rep. Salmon's letter to House Appropriations asking that funding for illegal immigrant IDs be blocked.\n",
      "6803:  RETWEET to stand with @USAGSessions and #TeamCorey and punish sanctuary cities #TakeBackVA\n",
      "https://t.co/bJ7FbPBdkS\n",
      "1695:  I call on the Pima County Supervisors who rejected funding to secure our border to resign immediately and I call on Tom O'Halleran to denounce this horrible decision. Democrats want an illegal invasion! #AZ01 #FlipAZ01 https://t.co/Yzs7Z14iDe\n",
      "7187:  @realDonaldTrump's border wall, immigration plans re-emerge at top of national debate https://t.co/3wyXvhb0xV @FoxNews #txlege @POTUS\n",
      "9538:  Border security is national security.\n",
      "\n",
      "Take a stand for REAL border security: https://t.co/Y9LBZyp1IC https://t.co/q3Ze21k6Nk\n",
      "\n",
      "dem-lead\n",
      "\n",
      "4927:  #ObamaLegacy #BlueWave2018 @chuckschumer what? Are you guys real? This video confirms what the country already knew...u were for border security until POTUS was, then u changed? Not a good look for the Dems.. Looks like u want to keep this country divided. https://t.co/gwdxWTyhGX\n",
      "1763:  A US Border Patrol agent is a serial killer\n",
      "\n",
      "#resist #resistance #Trump #EthnicCleansing #HumanRightsViolations #TrumpCrimes #TrumpCamps #TrumpConcentrationCamps #ChildInternmentCamps https://t.co/GajbGJDsqw\n",
      "3514:  #ElectionFraud Expert: Brenda Snipes Allowed Illegal Aliens &amp; Felons to Vote; Illegally Destroyed Ballots\n",
      "\n",
      "https://t.co/OQXlDtY5IM #LockHerUp #MAGA #TCOT #WinBlue #UniteBlue\n",
      "\n",
      "In 2017, Snipes ADMITTED - in COURT - that her office had allowed non-citizens &amp; felons to vote\n",
      "3821:  @POTUS: \"#Democrats have become the party of open borders and crime because if you have #openborders you have crime OK?\" \"Since I took office #ICE has arrested over 230,000 aliens with criminal records!\" https://t.co/kSqYs5YnoF\n",
      "4525:  @marcorubio is asking why democrats are mad about a billions of dollars project that he admits “won’t stop illegal immigration”. If I was this bad at my job, I’d be fired. #bluewave #comingforyourseat https://t.co/wqOmzZ9dni\n",
      "7789:  Now the #Democrats have sanctuary cities for the criminals. Which makes them accomplices. https://t.co/zAtC6X0Pk1\n",
      "10892:  DHS: Nearly 2,000 Children Separated From Adults At Border In 6 Weeks https://t.co/ZGQIoS4ZU0 // cartoon by @JRDuquette https://t.co/g4nCLRsqJj #Immigrants\n",
      "269:  @Ocasio2018 @CynthiaNixon Illegal Immigrants hurt America.  People need to come in legally. https://t.co/k276XoErFA\n",
      "4916:  #MAGA #WWG1WGA #QAnon\n",
      "Walls Do Not Divide US[A] ... Hypocrisy Does. - ~Q\n",
      "\n",
      "Hypocrisy of All the Dem's. Voting FOR Barriers and Border Security and NOW Just because it is Trumps agenda ALSO .... they are #RESIST https://t.co/4X0rNl6TuC\n",
      "919:  No wonder we r so in debt.  The world wants to come here to live &amp; expect taxpayers to support them &amp; their families.  #Democrats open Border crowd Something is wrong w this picture.  Trump has it right #AmericaFirst #QAnon #Veterans ##WednesdayWisdom #Women https://t.co/ykF8GODmKI\n",
      "\n",
      "rep-lead\n",
      "\n",
      "10096:  (Civil Rights Commissioner: Halt DACA Amnesty Talk Until Border Wall is Secured, Legal Immigration is Cut) has been published on https://t.co/MTiwsmbQK8 - The Alternative, To Alternative Media. - https://t.co/FMairdtzja #maga\n",
      "1099:  @sean_spicier I guess one slipped into the big city.\n",
      "\n",
      "That’s why we need to build the wall!\n",
      "\n",
      "We need to keep #trump #maga nazis out of NYC. Build that wall!\n",
      "4660:  Border Wall GoFundMe Page Update: Rival Fundraiser for Trump Wall Ladders Raises More Than $24K in One Day #Indivisible #Democrats #Progressives #Independents #TheResistance #Resist #BlueWave2020 #IndividualNumber1 #MAGA #MakeAmericaGreatAgain \n",
      " https://t.co/DMdmu0ObM2\n",
      "10079:  No one said they were.\n",
      "Quit lying. #MAGA and help build the wall that you wanted just a few short years ago. https://t.co/dpGaP7QnxV\n",
      "5034:  @donaldtrumpforc @ncar999 Build that Wall boss!!!!\n",
      "#MAGA\n",
      "3534:  #Trump supporting #troops means prancing away when drafted, insulting #veterans for votes, bickering with Myeshia Johnson about KIA #SgtLaDavidJohnson's name, &amp; using troops as props--lying to divide our country, on #WhyWeTakeAKnee and at our southern border.\n",
      "1159:  it's the Republicans that have REFUSED to fully fund the Wall.  \n",
      "it's the Republicans that refused to Ban Sanctuary cities\n",
      "it's the Republicans TRUMP BEGGED to stop the last caravan into US, they REFUSED \n",
      "we must FIX the R Party then attack Democrats https://t.co/gFMREWutHZ\n",
      "9364:  I too am disappointed with @POTUS Signing this bill because it does NOTHING about The border wall, NOTHING about ending chain migration and NOTHING about ending The Visa Lottery!  Whatever happened to \" America FIRST\" ??? https://t.co/tj5IPSrXGk\n",
      "1700:  @Twitter If you enter the USA illegally with utter disregard for our laws YES, you are absolutely an Illegal alien. #MAGA #Trump 2020\n",
      "7848:  Haha, amazing. I love President Trump. Build the Wall. #MAGA https://t.co/mDl81APG0a\n",
      "\n"
     ]
    }
   ],
   "source": [
    "print_samples_all_groups(imm)"
   ]
  },
  {
   "cell_type": "markdown",
   "metadata": {},
   "source": [
    "### Puerto Rico"
   ]
  },
  {
   "cell_type": "code",
   "execution_count": 41,
   "metadata": {},
   "outputs": [
    {
     "name": "stdout",
     "output_type": "stream",
     "text": [
      "I'm trying\n",
      "Connected to political tweets DB\n"
     ]
    },
    {
     "data": {
      "image/png": "[encoded data removed]",
      "text/plain": [
       "<Figure size 432x288 with 1 Axes>"
      ]
     },
     "metadata": {
      "needs_background": "light"
     },
     "output_type": "display_data"
    }
   ],
   "source": [
    "pr = run_vader(\"puerto_rico\")"
   ]
  },
  {
   "cell_type": "code",
   "execution_count": 42,
   "metadata": {},
   "outputs": [
    {
     "name": "stdout",
     "output_type": "stream",
     "text": [
      "dem-base\n",
      "\n",
      "290:  #tbt to when the White House tried to stop me and other lawmakers from going to Puerto Rico to assess Hurricane damage for ourselves (we didn't believe the administration's rosy picture).  I figured out how to go anyway &amp; got these pics. That's how you #StandWithPuertoRico https://t.co/DJMfJrOJbJ\n",
      "1518:  A new estimate puts Hurricane Maria's death toll at more than 4,000 Americans, and counting, as #PuertoRico's hospitals still struggle to rebuild. Unacceptable. They need ongoing aid. I call on my colleagues and @POTUS to join me in committing to more. https://t.co/zPQCuWi78T\n",
      "672:  Keeping the people of Puerto Rico, US Virgin Islands and all in the path of #Hurricane #Irma in my prayers. https://t.co/phKYbD2wfn\n",
      "1165:  This short-term sham ignores important priorities for New Jersey like funding for the opioid crisis and community health centers, deserts hardworking American Dreamers, hurts our military readiness, and abandons disaster-stricken communities in Puerto Rico, Texas, and California.\n",
      "1122:  Here is your reminder that our fellow American citizens in Puerto Rico and the U.S. Virgin Islands have suffered through the holidays without power, water, or refrigeration. They cannot wait any longer—Congress must act quickly to give them the funding needed to rebuild.\n",
      "1452:  New study reported 4600 deaths from Hurricane Maria, most from interrupted medical care + failing infrastructure. This is the greatest loss of American lives in the Trump Admin, and Jim Jordan voted against relief funds. JJ is complicit in this suffering + betraying our values.\n",
      "1066:  @justicedems @Residente Gracias por su apoyo @Residente ✊🏽 \n",
      "\n",
      "Eres una inspiración- oí lo que dijiste el año pasado en el Bronx con Bernie Sanders. Ahora estoy postulándome para Congreso en Nueva York y luchando por Puerto Rico 🇵🇷\n",
      "1160:  Enough is enough. Republicans must compromise. It's time to stand up for Dreamers, working families and Puerto Rico.\n",
      "https://t.co/SaV9MZMgnr https://t.co/RUkacUnvY8\n",
      "772:  #PuertoRico needs targeted aid to rebuild. Urging Republican leaders to help us act today and rebuild Puerto Rico https://t.co/fQujY3tpcJ https://t.co/ZjfaoHgFEP\n",
      "1495:  Here in Kissimmee at Willer's Supermarket with former governor of Puerto Rico, Gov. Rosselló, talking with the local Puerto Rican community about why it's been so difficult to get them the help they need here in Florida and on the island. I'll never stop pushing. https://t.co/01Vl4KZwLn\n",
      "\n",
      "rep-base\n",
      "\n",
      "807:  The 1st Congressional District of Georgia and our military are taking the lead to aid Puerto Rico. Let's show our... https://t.co/rRPNjVwa9i\n",
      "755:  As Texans continue to recover from Harvey's devastation, we stand with our friends in Florida and Puerto Rico.\n",
      "594:  Rep Barletta has warned us about fraudulent doc rings. Feds just busted one in 15 states and Puerto Rico. http://t.co/kFFvjYaX #PA11 #NEPA\n",
      "1473:  Thank you. Together, we will continue to help Puerto Rico recover from Maria. Florida stands with Puerto Rico. https://t.co/jH24o7x5lR\n",
      "577:  Es un orgullo y honor trabajar con mi familia Boricua en el Congreso 🇺🇸🇵🇷 Que viva Puerto Rico! https://t.co/U1KL7Ai0tn\n",
      "644:  Great article! #UTpol\n",
      "Meet Rob Bishop, the man who might have saved Puerto Rico https://t.co/737VRVqc4p\n",
      "1489:  After 50 yrs in office, helping Puerto Rico is another area Bill Nelson has no record to stand on. He blames the federal government for not treating Puerto Rico fairly but has been a fixture of the federal government for decades. He's done nothing, but now he's up for re-election\n",
      "667:  Irma now category 5 storm. Florida in state of emergency, Puerto Rico braces for landfall. Pls stay safe &amp; prepared: https://t.co/r2MTKfq3Rj https://t.co/Jx8AihA6Vs\n",
      "147:  This new death toll is not just a tragic reminder of how the Trump administration failed Puerto Rico -- it’s evidence of how mismanaged the aid to the island was. \n",
      "\n",
      "Just this month, I cosponsored a bill to improve standards for counting fatalities. This cannot happen again. https://t.co/oHG3UirxSN\n",
      "768:  I am proud my office assisted in getting Mike Cassidy the medical attention he needed during Hurricane Maria. https://t.co/tYOEEMp4tA\n",
      "\n",
      "dem-lead\n",
      "\n",
      "530:  @WhiteHouse And no troops to help AMERICANS in Puerto Rico? This administration is a disgrace. #BlueWave2018\n",
      "1215:  Puerto Rico almost killed me; but US inaction is killing what makes America truly great. https://t.co/gsleM7nb7r #resist #theresistance #resistance #impeach #VoteBlue2018 #UniteBlue2018 #BlueWave2018\n",
      "1434:  Harvard study estimates thousands died in Puerto Rico due to Hurricane Maria. #PuertoRico #Resist ✊🏽🇵🇷 https://t.co/WaPRIOh7uW\n",
      "294:  @realDonaldTrump more people died in Hurricane Maria than died on 9/11 &amp; this idiot in #Crazytown calls it a success.Maybe in #Trumplandia, where he seems to be most of the time, this is a success but to REAL Americans it is total failure. #AlternativeFacts #Resist #VoteBlue2018 #ImpeachTrump2019 https://t.co/hNGwkJX7F2\n",
      "590:  @EdKrassen @Dave_Hile How about Flint, MI continuing to need water? Puerto Rico? Bueller, Bueller? #ResignTrump #Resist #TrumpShutDown\n",
      "479:  @realDonaldTrump How many died in Puerto Rico again? \n",
      "Try NOT being YOU for a day and chanel someone more mature and credible. K?\n",
      "You're wretched at Presidenting. \n",
      "#TheResistance  #VoteBlue\n",
      "251:  The first order of business for the #bluewave House had damn well better be investigations into the federal response to Hurricane Maria.\n",
      "160:  BREAKING NEWS: Trump says he did a fantastic job in Puerto Rico. The numbers were way better than Katrina. Way higher, the President added. #AlternativeFacts #PuertoRico #Trump #MAGA #Resist https://t.co/sIkGxBCa7g\n",
      "136:  @BrianKarem @CNN Puerto Rico Deserves Better and the Truth \n",
      "\n",
      "Intelligent and informed people know the official number is fake like we know the inauguration was small\n",
      "#PuertoRico #TuesdayThoughts #TuesdayMotivation #tuesday #massachusetts #Resistance #washingtondc #immigration #womensmarch #parent https://t.co/39GnktkKVD\n",
      "593:  @treasonstickers @pamkanarr Give it to Puerto Rico!\n",
      "#TheResistance \n",
      "#FBR\n",
      "#TheBlueWave \n",
      "#StrongerTogether\n",
      "#GunReformNow\n",
      "#MarchForOurLives⁠ ⁠  \n",
      "#EnoughisEnough\n",
      "#ParklandStrong\n",
      "#VoteBlue\n",
      "\n",
      "rep-lead\n",
      "\n",
      "1552:  @realDonaldTrump I spent 6 months feeding our finest &amp; evacuees #TentCity #Chalmette #Katrina NOT a F/T job. I just go when I'm needed Last yr I was at 3 sites in TX &amp; 2 in Puerto Rico What a difference 12 yrs makes. So much waste bureaucracy I saw 1st hand Hint consolidate &amp; utilize ask me #MAGA\n",
      "1235:  This is a great idea @realDonaldTrump I’m so glad that you thought of it instead of that silly Obama. Hillary would totally not have a parade in Puerto Rico. Let’s do it! #MAGA https://t.co/clLDYCt5eM\n",
      "1218:  @CNN Why not do an investigation into the corruption within Puerto Rico politics to understand how their infrastructure was so pathetic? I bet millionaires were made through corruption &amp; payoffs.  #MAGA\n",
      "171:  @1usavoice @BillboTex @SamAzevedo2 Obama put children in cages REMEMBER\n",
      "\n",
      "Under Obama Puerto Rico was effectively because of its OWN government a third world country BEFORE #Trump was #POTUS REMEMBER\n",
      "\n",
      "Russia hacked HRC Emails while Obama was POTUS REMEMBER\n",
      "217:  He says Puerto Rico where 3000+ human lives were lost due to his administration's failure to provide aid,was a success: he fist bumps and laughs on his way to a 9/11 memorial,he's completely neglected the people in Flint Michigan,they still don't have access to clean water #Trump\n",
      "196:  @MicahWillarthy @CliffShep @Jesusteejus @toriphoenix_ @djiggerz @jfrisbyXIIV @GeminijlwWilson @Scavino45 @PressSec @realDonaldTrump @POTUS @WhiteHouse 🇺🇸 🇵🇷\n",
      "\n",
      "Puerto Rican \"citizenship\" existed before the U.S. takeover of the islands of Puerto Rico and continued afterwards. Its affirmative standing was also recognized before and after the creation of the Commonwealth of Puerto Rico in 1952.\n",
      "\n",
      "#MAGA 🇺🇸\n",
      "\n",
      "😎👍\n",
      "1221:  And American citizens in Puerto Rico languish without power and clean water and school shootings continue and not ONE word from POTUS. Shame. https://t.co/bC1qS4PbKK\n",
      "1399:  #Trump’s has failed to support #PuertoRico\n",
      "\n",
      "🌺 We can continue to support  PuertoRico! 🇵🇷 \n",
      "\n",
      "Donate to Hurricane Maria Community Recovery Fund\n",
      "https://t.co/8IO4HxnnFP\n",
      "\n",
      "https://t.co/lrGAoPBvDI https://t.co/mjla29nXQH\n",
      "115:  @EdKrassen #Trump thinks the taxes of the hard working American people are his bank account! No #MilitaryParade! What happened to infrastructure? Are there not floods, fires, Puerto Rico and Flint?\n",
      "222:  @realDonaldTrump This is what it means to be a narcissistic snowflake ❄\n",
      "\n",
      "#Trump rushes to give himself an A+ for Puerto Rico\n",
      "\n",
      "Trump picks a fight with San Juan mayor for Criticizing him.\n",
      "\n",
      "#ICE takes $10mil from #FEMA\n",
      "\n",
      "Death toll hits 3000 and he calls her incompetent.\n",
      "\n",
      " #WednesdayWisdom #Resist\n",
      "\n"
     ]
    }
   ],
   "source": [
    "print_samples_all_groups(pr)"
   ]
  },
  {
   "cell_type": "markdown",
   "metadata": {},
   "source": [
    "### Rural"
   ]
  },
  {
   "cell_type": "code",
   "execution_count": 45,
   "metadata": {},
   "outputs": [
    {
     "name": "stdout",
     "output_type": "stream",
     "text": [
      "I'm trying\n",
      "Connected to political tweets DB\n"
     ]
    },
    {
     "data": {
      "image/png": "[encoded data removed]",
      "text/plain": [
       "<Figure size 432x288 with 1 Axes>"
      ]
     },
     "metadata": {
      "needs_background": "light"
     },
     "output_type": "display_data"
    }
   ],
   "source": [
    "rural = run_vader(\"rural\")"
   ]
  },
  {
   "cell_type": "code",
   "execution_count": 46,
   "metadata": {},
   "outputs": [
    {
     "name": "stdout",
     "output_type": "stream",
     "text": [
      "dem-base\n",
      "\n",
      "1002:  I had a great afternoon listening to the @ILFarmBureau and Whiteside County farmers about what needs to be in the new Farm Bill. https://t.co/BI5CG1X8Ga\n",
      "931:  Internet is a necessity yet big cable still ignoring rural communities. State/Feds need to hold them accountable: https://t.co/lhWfI2sR19\n",
      "256:  WATCH: Joe has been listening to Hoosier anti-hunger groups about what can be done to eliminate hunger in Indiana. Here are some of the ways Joe successfully pushed to end food insecurity in the 2018 Senate-passed Farm Bill. #HungerActionMonth https://t.co/xhlrfZAxR7\n",
      "27:  Joe successfully included in the Senate-passed Farm Bill a provision that would increase export opportunities for Hoosier farmers. https://t.co/Ptxg2BgLtI\n",
      "736:  King amendment is reason enough to vote no on the Farm Bill. Unconscionable interference in state protections. http://t.co/ltKrPW3deS\n",
      "379:  Thanks to the #Hubbardston Council on Aging for organizing last night’s candidates forum - a great opportunity to hear from residents about the needs of rural communities. #mapoli https://t.co/S8dJ6jaG0m\n",
      "906:  This plan eliminates the rural water &amp; wastewater loan program- the only way that some rural communities in PA have access to clean water.\n",
      "1396:  Speaking on floor tonight w/ @SEEC members about harmful impacts of partisan farm bill on environment &amp; conservation. Tune in at 8:45, https://t.co/SpcWShCBLa #mepolitics\n",
      "1464:  Today I sat down with the @gfherald Editorial Board, where I had the opportunity to talk about pocketbook issues facing North Dakota families, farmers, and ranchers.                            https://t.co/daThbQoCMy\n",
      "1273:  Agriculture is the heart &amp; soul of ND’s economy. An unnecessary, reckless trade war threatens the livelihood of our farmers &amp; ranchers. I’ll continue fighting for a smart, sensible trade policy that supports our economy &amp; holds China accountable. Read more in the @gfherald: https://t.co/BnddYg9PN6\n",
      "\n",
      "rep-base\n",
      "\n",
      "746:  I voted against the Farm Bill because it will cut $8 billion from food assistance over the next ten years. http://t.co/WPUJzwqgpf\n",
      "935:  Great meeting with some of Missouri's electric co-ops to discuss their work &amp; the importance of broadband access in our rural communities. https://t.co/eHifVYZ3FV\n",
      "1275:  Last week, the House Agriculture Committee introduced legislation for the 2018 Farm Bill (https://t.co/s4KZVO5Ixk). Here are the proposed changes to the Supplemental Nutrition Assistance Program (SNAP). https://t.co/QXd5ctfEOx via @WSJOpinion\n",
      "823:  Our farmers &amp; ranchers work incredibly hard to keep our nation fed. We thank them this National #AgDay! https://t.co/cr5Lk3ayV9\n",
      "223:  Great meeting with @AZFB today. We discussed the top issues that Arizona’s farmers and ranchers are facing. #AZfarmers #AZranchers #Ag #AZAgriculture https://t.co/gvv4du0hAh\n",
      "514:  Proud to stand with the farmers and ranchers of #TX17 and our country by helping pass the Farm Bill. They help to nourish our nation and deserve the stability this legislation ensures.\n",
      "\n",
      "https://t.co/7IbDsiRRlQ\n",
      "1397:  Communities across the country benefit from #SNAP, including many in #NC01 and North Carolina.\n",
      "\n",
      "I cannot support a Farm Bill that will drastically cut these benefits. https://t.co/YHmMzGM9c9\n",
      "486:  The House just passed one of the biggest corporate welfare bills, the so-called farm bill. 800+ pages, $800+ billion. The vote was 369-47. I voted no.\n",
      "285:  Free trade is good for Texas, for farmers and ranchers, and for Texas businesses. #TXSenateDebate #TXSen #KeepTexasRed\n",
      "491:  Today the House of Representatives answered farmers and ranchers call to action and passed the 2018 Farm Bill. https://t.co/qBTvXRsc1P\n",
      "\n",
      "dem-lead\n",
      "\n",
      "484:  @connorobrienNH Led by Chair Pete Sessions (R Tx) the GOP House Rules Committee slipped the resolution banning the 115th Congress from debating US role in MBS' #YemenCantWait war into the popular Farm Bill. The Committee has 9 Rs vs only 4 Ds. @SpeakerRyan supports this subterfuge.\n",
      "#Resist\n",
      "173:  @LeahVukmir Our rural areas need hospitals, a fair market to trade with fair prices. I’m afraid that Vukmir’s tariffs only destroy small farmers and rural communities. Say no to the trickle down fiasco. #wispolitics @indivisiblewi06 @spudlover #BlueWave2018 @WisconsinStrong\n",
      "1535:  Hey Resisters! This is my 1st FBR party! Blue living in a red rural community. Almost gave up, then I found YOU! \n",
      "#RightSideOfHistory\n",
      "Resist, Stand up &amp; Fight.                    \n",
      "1. Like.\n",
      "2. Retweet.\n",
      "3. Follow.\n",
      "4. I'll follow back  \n",
      "#Resisters\n",
      "#BlueWave2018 \n",
      "#FBR \n",
      "#FBRParty\n",
      "1357:  ‼ Urgent - Devastating legislation that would harm #animals across the US could pass the House soon. ‼\n",
      "\n",
      "Take action TODAY and urge your Representative to oppose Rep. King's amendment to the 2018 Farm Bill: https://t.co/PhxCyRMTiD\n",
      "\n",
      "#animalrights #animalcruelty #resist https://t.co/5GCwwroOUx\n",
      "1294:  House Agriculture Committee Advances Farm Bill Attacking Environment, Endangered Species. #wildlife #environment #forests #animals #EndangeredSpecies #Resist https://t.co/0T7zXO4BnO\n",
      "540:  Trendy Hemp Compound CBD Set for Big Boost From U.S. Farm Bill #WW3, #Trump #Obama #Resist https://t.co/GmSH8JBD95\n",
      "476:  @ellievan65 #PaulRyan has proven to be a useless douche. Worst speaker ever. He’s resigning cause the job is too much for him, wimp. Just leave now. He’s completely abesent from Congress and Trump scares him. Farm bill is a scam.  #Resist\n",
      "537:  Trump posts video of himself singing in overalls ahead of farm bill signing #Resist #ResistTrump #FuckTrump https://t.co/ey7kIkOK37\n",
      "421:  .@BGOV Wall Funding, Taxes, Farm Bill: What to Watch in the Lame Duck https://t.co/uUkcWB2E53 @NOgnanovich #Healthcare #LameDuck #Congress #Democrats #Republicans #FederalBudget #Committees\n",
      "543:  @realDonaldTrump You claim the farm bill will help farmers - you completely screwed any soybean farmers ! \n",
      "#TrumpResign #TrumpShutdown #Resist \n",
      "China’s US soybean imports drop to zero for first time since trade war with Trump erupted (link: https://t.co/N1SGOgYHPY) https://t.co/N1SGOgYHPY\n",
      "\n",
      "rep-lead\n",
      "\n",
      "471:  RT JxhnBinder: Non-college educated white men, white evangelical Christians, and Americans living in rural communities are the most supportive of shutting down the government to fund a border wall. https://t.co/HVj1HwBvT5 #MAGA\n",
      "1118:  I just listed: 'Ting Hsien: A North China Rural Community', for 9.99 via @amazon https://t.co/eH4k6NRR1F #WhatToRead #BookLovers Brady Apple Amazon #GoodReads #SuperBowl Academic Books #PrimeBooks FBI #Happy #Trump natalie wood\n",
      "544:  Grocery News: President Trump signs farm bill into law Feedstuffs  https://t.co/PrIy9aBl1P via SN_news  #farmbill #Trump https://t.co/Csick3ITFW\n",
      "1101:  #Trump\n",
      "#Foodstamps\n",
      "Trump’s 2018 Farm Bill: ‘Work Is Pathway to Self-Sufficiency’ for Food Stamp Recipients\n",
      "https://t.co/6WavAk1jWf\n",
      "1410:  Tomorrow, the House will vote on a strong Farm Bill, which includes work requirements. We must support our Nation’s great farmers! #MAGA\n",
      "1520:  @RealDonad_Trump You're such a pathetic weakling, a sorry excuse for a man. That's right you're not a real man. Real men don't lock up children, they don't separate them from their parents, and they don't starve them (farm bill).  We won't forget. #VoteThemOut #VoteBlueNoMatterWho @GOP #GOP\n",
      "528:  I uploaded a new episode, \"Murdock: Trump Should Use Farm Bill to Force Wall Funding\", on #spreaker #congress #funding #immigration #trump #wall https://t.co/SJNVB73tP1\n",
      "1441:  Love the fetus. Hate the child. Makes sense. O SNAP. The farm bill didn’t pass because Dems couldn’t vote for the rider attacking the Supplemental Nutrition Assistance Program4kids (SNAP).  #MAGA SCAM #VoteBlue2018 #HandsOffSNAP #TrumpCrimeFamily https://t.co/1XcSHHAvLz\n",
      "262:  $HIPH BREAKING NEWS: 2018 Farm Bill About to Pass – Legalization of Hemp and CBD could grow consumer market to $22 Billion #trader #CBD #MAGA #trading #investor #finances\n",
      "\n",
      "Read More: https://t.co/KicQCBnlnI https://t.co/Uw7z1emZvO\n",
      "1246:  What's the future hold for #Nebraska and #Iowa farmers, ranchers caught in the #trade and #tariff fight between #Trump and #China? \n",
      "\n",
      "From staff and wire reports: \n",
      "\n",
      "https://t.co/eTBql0Wax3\n",
      "\n"
     ]
    }
   ],
   "source": [
    "print_samples_all_groups(rural)"
   ]
  },
  {
   "cell_type": "markdown",
   "metadata": {},
   "source": [
    "### Russia"
   ]
  },
  {
   "cell_type": "code",
   "execution_count": 47,
   "metadata": {},
   "outputs": [
    {
     "name": "stdout",
     "output_type": "stream",
     "text": [
      "I'm trying\n",
      "Connected to political tweets DB\n"
     ]
    },
    {
     "data": {
      "image/png": "[encoded data removed]",
      "text/plain": [
       "<Figure size 432x288 with 1 Axes>"
      ]
     },
     "metadata": {
      "needs_background": "light"
     },
     "output_type": "display_data"
    }
   ],
   "source": [
    "russia = run_vader(\"russia\")"
   ]
  },
  {
   "cell_type": "code",
   "execution_count": 48,
   "metadata": {},
   "outputs": [
    {
     "name": "stdout",
     "output_type": "stream",
     "text": [
      "dem-base\n",
      "\n",
      "726:  Protecting the Mueller investigation has bipartisan support, yet Republican leadership will not work with us to get this passed. We must preserve the integrity of this investigation. It’s not about politics - it’s about the future of our democracy. https://t.co/Nws9XqTodf\n",
      "1091:  @TruNewsNet @POTUS Feel free to call me names because I'm cool like that. But in less than a year, Special Counsel Mueller has two guilty pleas, two agreements to cooperate, and two indictments. #FactsMatter\n",
      "462:  Rod #Rosenstein shouldn’t be fired or forced to resign for doing his job. Who would be next: #Mueller? That’s why Congress needs to pass the Special Counsel Independence and Integrity Act, but the House majority won’t bring it up for a vote. https://t.co/Fh2NouhRkN\n",
      "1122:  This is why I am so committed to upholding the independence of the Special Counsel, the integrity of the Justice Department, and the law: Trump Ordered Mueller Fired, but Backed Off When White House Counsel Threatened to Quit via @NYTimes https://t.co/kqpLolc1Ua\n",
      "1579:  GOP cannot stay silent as @RealDonaldTrump considers firing Special Counsel Mueller. I urge House Republicans to take up the Special Counsel Independence Protection Act (H.R. 3654) NOW to ensure the integrity of the Mueller investigation. #mepolitics https://t.co/1KnaoEmRYi https://t.co/IQMf0D2q2m\n",
      "1055:  George Papadopoulos. Paul Manafort. Rick Gates. Now Michael Flynn... The American people deserve the full truth about what happened, and that means allowing the Special Counsel &amp; congressional investigations to continue unimpeded. https://t.co/IdqLKALzly\n",
      "927:  Another Must Read on yesterday's witch hunt: \"GOP’s First Hearing On ‘Baby Parts’ Quickly Goes Off The Rails.\" https://t.co/eTGzcuawaS\n",
      "1057:  This is just the latest example of a Trump official breaching the sacred trust of the American people. Special Counsel Mueller has led this investigation with integrity &amp; a commitment to justice. He must be continue the investigation, wherever it may lead. https://t.co/GwDm0ADLyj\n",
      "1050:  Attorney General Sessions should appoint a special counsel to investigate how the infamous Russian Dossier was created and why President Obama’s FBI was involved\n",
      "https://t.co/zDAOChrb1K\n",
      "548:  Congress must pass legislation to protect Special Counsel Mueller’s investigation, demand that Acting AG Whitaker recuse himself from overseeing the probe based on his previous statements and only confirm a new attorney general who vows to protect Mueller's investigation.\n",
      "\n",
      "rep-base\n",
      "\n",
      "1096:  \"You and I both know the odds are nothing. If I thought it was likely, I'd be there no question. I hesitate in part because of my gut sense and concern that there's no big there there.\" -FBI's Peter Strzok on joining Mueller investigation. https://t.co/rGBIr8IhlY\n",
      "984:  That said, if a special counsel is what it will take for us to move on to actually do the people's work - so be it. 2/3\n",
      "910:  Very concerned with IRS actions. Political, ideological &amp; religious witch hunts have no place in our democracy. http://t.co/rEyZm7MjB4\n",
      "998:  Deputy AG Rosenstein must fend off efforts by Trump WH to limit the scope of Special Counsel investigation. https://t.co/V0eFIWZgFc\n",
      "303:  As I predicted, even the claims against @realDonaldTrump of campaign finance violations are a big #NothingBurger in this continuing witch hunt.\n",
      "\n",
      "He used his own money, not campaign money.\n",
      "\n",
      "@TrumpGirlStrong @VetsForTrump @TrumpStudents \n",
      "\n",
      "https://t.co/m0V4HjpttC\n",
      "783:  I’m glad you are, Mr. President. Because based on what I’ve seen from *some* in House GOP leadership, we aren’t focused, prepared or determined enough to effectively defend the presidency against this absurd Witch Hunt. https://t.co/ZclYJ5QfP0\n",
      "2000:  Participating in a press conference NOW re: a 12 page resolution detailing misconduct at highest level of DOJ/FBI &amp; call for the appointment of a 2nd Special Counsel. WATCH: https://t.co/wABHoVXpA1\n",
      "201:  TIME FOR ADAM SCHIFF &amp; THE DEMOCRATS TO COME CLEAN!!! This phony Witch Hunt and Obstruction is getting very old! The day has come for all of you, USA hating Leftist to start reorganizing your hurting-broken Democrat party now!!!\n",
      "@RepAdamSchiff @POTUS @VP \n",
      "https://t.co/RYq2ZaubuO https://t.co/MadsgDai7y\n",
      "911:  You're truthful with the #IRS, and deserve the truth in return. Just voted for a special counsel to investigate IRS targeting of #taxpayers\n",
      "1855:  In order for these questions to be answered, this investigation must be protected. Congress should pass the Special Counsel Independence and Integrity Act first thing when we reconvene. There is too much at stake. #FollowTheFacts https://t.co/fxpYnIPpZB\n",
      "\n",
      "dem-lead\n",
      "\n",
      "666:  “Dear Santa, I want a new puppy, a chemistry set, and an open Mueller investigation for solstice.”\n",
      "\n",
      "718\n",
      "\n",
      "... days to the 2020 election.\n",
      "\n",
      "We’ve got our work cut out for us. You in?\n",
      "\n",
      "🌊\n",
      "#Blue2020\n",
      "🌊 \n",
      "#Resist\n",
      "🌊 \n",
      "#ProtectMueller\n",
      "🌊 https://t.co/9ZjOHFVJqa\n",
      "517:  What will be the biggest shock on Wednesday following the election? Democrats failure to make big gains in the House or the news from the Mueller investigation? #Midterms2018 #Novembersurprise\n",
      "#Muellerinvestigation \n",
      "#Democrats\n",
      "1430:  @bodebliss54 @jpw643 #onemorevote #tuesdaythoughts WITCH HUNT Wages Rubio #BoycottNRA @jpw643 #BBCeleb Schiff #RESIST Kevin Smith #NunesMustResign #BREAKING Never Went #REVOLT One By One END THE NRA Manafort #trump #UFCOrlando #UnrigTheSystem Germany #Resistance #CNNSOTU #MorningJoe Supreme Court https://t.co/cL3V3Tf6Xr\n",
      "901:  @realDonaldTrump @JesseBWatters What a load of bullshit. The republican committee didn't even bother to issue a report on the matter...that's how much they found. Talk about your witch hunts. In any event, Trump....you're going down. Tick-tock m'f'er.\n",
      "\n",
      "#TrumpResign #Resist\n",
      "1226:  @realDonaldTrump If it's a witch hunt. Get ready to be indicted WITCH. #GangstaWhiteHouse #Resistance\n",
      "684:  the mueller investigation is like the bit in harry potter where dumbledore leaves hogwarts in order to find the horcruxes, in that trump left a bit of his soul (the pee tape) in several different objects (russia) and dumbledore (robert mueller) is going to have to find it #resist\n",
      "221:  Think #Trump projecting himself on to others. Not Mueller, but Trump who is like Sen. Joe McCarthy's Red Scare witch hunt. McCarthy's chief counsel was later NY mafia fixer Roy Cohn, who mentored YOUNG Trump as Trump lawyer. #FBR #Dems #BlueWave #independent https://t.co/XyLomrewjl\n",
      "1438:  Witch Hunt! T-Shirt\n",
      "BUY HERE👉https://t.co/cb05Bdu9Gc\n",
      "#impeachtrump #resist #MuellerTime https://t.co/fBGfD3VRln\n",
      "667:  @JohnCornyn Nothing you do will get Dems to work w/you. They will #resist new AG nominee &amp; ask him/her to #recuse him/herself from special counsel probe. I can't believe you told Politico a nominee would likely “relieve a lot of the controversy.” #wrong \n",
      "\n",
      "@realDonaldTrump\n",
      "79:  The truth will prevail! \n",
      "US Special Counsel Mueller will find @realDonaldTrump guilty of: \n",
      "👉🏼Conspiracy \n",
      "👉🏼Treason \n",
      "👉🏼Collusion \n",
      "👉🏼Money Laundering \n",
      "👉🏼Obstruction of justice \n",
      "👉🏼Emoluments Clause \n",
      "👉🏼Kleptocracy \n",
      "👉🏼Undermines DOJ\n",
      "👉🏼Human Rights Violator https://t.co/AlztjsGlaz\n",
      "\n",
      "rep-lead\n",
      "\n",
      "1248:  @realDonaldTrump #trump tries 2use the #NunezHoaxMemo 2 discredit the Mueller investigation\n",
      "#WeTrustTheFBI\n",
      "#WeTrustTheFBI\n",
      "#WeTrustTheFBI\n",
      "#WeTrustTheFBI\n",
      "#InMuellerWeTrust\n",
      "#InMuellerWeTrust\n",
      "#InMuellerWeTrust\n",
      "#InMuellerWeTrust\n",
      "#InMuellerWeTrust\n",
      "\n",
      "Mueller will incarcerate the #TrumpCrimeFamily https://t.co/6y4BLYPitF\n",
      "1208:  The Russia Collussion has been a 'witch hunt' from day one, the witch #CrookedHillary.\n",
      "\n",
      "#MAGA and #LockHerUp #LockThemAllUp \n",
      "#ObamaGate \n",
      "\n",
      "Is #GITMO time!!!\n",
      "1316:  @realDonaldTrump The horrible liberal Witch Hunt is now after great Friend and American Ally @IsraeliPM Bibi @netanyahu! Charges are PHONY product of usual Fake News media, SAD! So unfair to a Great Leader and even better Man! /s #Netanyahu #MAGA\n",
      "466:  A Paid Witch Hunt by a Right wing #Evangelical in disguise? Saving #Kavanaugh and #Trump  ?? https://t.co/tpSOVxRU7O\n",
      "251:  BEST WITCH HUNT. EVER #MAGA #FUCKTRUMP #IMPEACHTHEPRESIDENT https://t.co/5vHV9FRAI3\n",
      "1827:  next i'm waiting on local magistrate's telling Doj and State Dept what they can do. \n",
      "WE know Sessions is \"Deep State\" and Trump won't fire him as long as witch hunt is going on.   Republican Voters don't have the BALLS to replace every R Ass Wipe in DC right now. https://t.co/7G8W5Nv36S\n",
      "238:  For a \"hoax\" and \"witch hunt,\" the Republican-led Russia investigation has led to an awful lot of guilty pleas.\n",
      "\n",
      "#resist #trump #trumprussia #manafort #CohenPleaDeal\n",
      "895:  https://t.co/6YpoP35EWS\n",
      "I’ve had my doubts. Benghazi hearings; too easy on the hildabeast. These kind of comments on Mueller investigations. 🧐 NOT @TGowdySC too! 😣😖😫🤯🤬 @IPOT1776 @LisaMei62 #MAGA #WWG1WGA\n",
      "1414:  So the next time a special counsel is appointed under a #dem administration, they'll be totally fine with a staff full of #GOP, right? Right? No problem at all? Perfectly ok with it? https://t.co/gVxjZkJEjt  #differentRules #doubleStandards\n",
      "604:  Ha! A #ProtectMueller hashtag from The Left because The Constitution isn't.\n",
      "\n",
      "And evidence initially explained by @marklevinshow said that the Special Counsel is unconstitutional.\n",
      "\n",
      "So why the Special Counsel? Protect Mueller from what? #FireMueller.\n",
      "\n",
      "#MAGA\n",
      "\n"
     ]
    }
   ],
   "source": [
    "print_samples_all_groups(russia)"
   ]
  },
  {
   "cell_type": "markdown",
   "metadata": {},
   "source": [
    "### Shutdown"
   ]
  },
  {
   "cell_type": "code",
   "execution_count": 51,
   "metadata": {},
   "outputs": [
    {
     "name": "stdout",
     "output_type": "stream",
     "text": [
      "I'm trying\n",
      "Connected to political tweets DB\n"
     ]
    },
    {
     "data": {
      "image/png": "[encoded data removed]",
      "text/plain": [
       "<Figure size 432x288 with 1 Axes>"
      ]
     },
     "metadata": {
      "needs_background": "light"
     },
     "output_type": "display_data"
    }
   ],
   "source": [
    "sd = run_vader(\"shutdown\")"
   ]
  },
  {
   "cell_type": "code",
   "execution_count": 52,
   "metadata": {},
   "outputs": [
    {
     "name": "stdout",
     "output_type": "stream",
     "text": [
      "dem-base\n",
      "\n",
      "952:  Trump just signed the budget bill ending the government shutdown.\n",
      "487:  Obstructing House Votes To Defund Obamacare, Sets Up Government Shutdown http://t.co/JaX6SEqnkA via @HuffPostPol #uniteblue #cape2congress\n",
      "17:  I look forward to joining @HARRISFAULKNER on @OutnumberedOT today at 1:30 pm ET/10:30 am PT to deliver an update on the #CaliforniaWildfires, particularly the #CarrFire and #RiverFire, and to discuss the President's tweets about forcing a government shutdown over his border wall.\n",
      "294:  A reminder of what @realDonaldTrump\n",
      "said on national TV last week:\n",
      "\n",
      "\"I am proud to shut down the government … I will take the mantle. I will be the one to shut it down.\"\n",
      "\n",
      "#TrumpShutdown https://t.co/o1bYTRuZkX\n",
      "7:  Pro tip on who’s responsible if government shuts down this fall:\n",
      "  (a) Republicans control House\n",
      "  (b) Republicans control Senate \n",
      "  (c) Republican President just told \n",
      "        you he wants to shut down the \n",
      "        government in the fall\n",
      "362:  The U.S. Senate adjourned yesterday, meaning the government shutdown will at the very least last through the holidays, requiring some of our most important federal workers around the holiday season -- including at TSA and CBP -- to work without pay. (1/3) https://t.co/f0DpSpGt0K\n",
      "42:  Congressman McClintock is talking in depth about the devastation of the government shutdown... that he voted for. #TeamMorse #CA04 #MariposaDebate\n",
      "158:  .@realDonaldTrump made it clear that he will be “proud” to shut the government down over his bigoted, ineffective, &amp; expensive border wall. A majority of Americans do not support a wall, let alone a shutdown. Pres. Trump &amp; the GOP need to do their jobs &amp; fund the government NOW.\n",
      "564:  Tea Party: Bring on a government shutdown  - http://bit.ly/hWwRM3 #cnn\n",
      "612:  Donald Trump is threatening to shut down the government if American taxpayers don't fund an absurd wall he promised Mexico would pay for.\n",
      "\n",
      "rep-base\n",
      "\n",
      "637:  The real Christmas scrooges are the Dems who are playing politics instead of governing... I have to urge my colleagues on the left against a Government shutdown, Tantrums and obstructions are no way to govern #naughtylist\n",
      "984:  YES! @realDonaldTrump is keeping his promises! \n",
      "\n",
      "@timkaine SHUT down the government for illegal aliens putting them before YOU! https://t.co/asLsWiTZVH\n",
      "737:  Democrats own the government shutdown. 100% their fault. #GovernmentShutdown\n",
      "242:  Last night @HouseGOP passed a bill requiring Senate Democrats to make a decision – do they want to keep our government open &amp; secure our border or shut down our government down at the expense of the safety &amp; security of our country? This is an easy choice. https://t.co/rPOQuvCR5B\n",
      "554:  Listening to Speaker Boehner at a lunch in DC. Very strong - goal is not to shut down government; goal is to cut spending.\n",
      "528:  Here's @newsday column on my government shutdown stance: http://t.co/krSC8q0nvY\n",
      "917:  Tonight, I was once again faced with decision between a CR and a government shutdown. I voted to keep government operating and full-year, FY18 funding for the Department of Defense. https://t.co/941wnylOmB\n",
      "271:  The American people gave us a clear mandate: secure the border and build the wall. @SenSchumer &amp; Democrats have a decision to make: shut down the government or put party politics aside &amp; work with us to defend America’s borders. #SchumerShutdown https://t.co/DjvzIlOzdT\n",
      "718:  Career politicians are failing us as partisan liberals in the U.S. Senate have proven that they would rather shut the government down than agree to compromise. #nhpolitics #nh1 https://t.co/ckb2sf2n5F\n",
      "325:  I will never be in favor of a government shutdown. @HouseGOP took action to prevent a shutdown over #BorderSecurity &amp; it is a shame the Senate did not follow suit. As Members of Congress, we have a responsibility to fund the government &amp; we also have a duty to protect...\n",
      "\n",
      "dem-lead\n",
      "\n",
      "116:  @bennyjohnson @benshapiro @NancyPelosi got her crowds confused. “Christmas at home, Holidays in public”. She is a spineless moron whose only interest is #resist. @realDonaldTrump, Shut down the government, keep paying our military &amp; #BuildTheWallNow.Libs are anti American, pandering 4 illegal votes. #maga\n",
      "202:  The @freedomcaucus is trying to persuade the weak lame ducks and the weak @POTUS to reject the #CR and shut down the government. \n",
      "\n",
      "Time to dial ☎️\n",
      "\n",
      "US representatives 202-225-3121\n",
      "US senators 202-224-3121\n",
      "\n",
      "This is how we #Resist \n",
      "#ConstantVigilance https://t.co/BkruTvsGZ7\n",
      "155:  @realDonaldTrump You don't have the guts to shut down the government.\n",
      "\n",
      "You won't do it.\n",
      "\n",
      "All of the Dems say you're too chicken shit. \n",
      "\n",
      "Prove us wrong.\n",
      "\n",
      "#TraitorTrump #VoteThemOut #treasonturd #mushroomdick #yetipubes #raga\n",
      "900:  #McConnell: #Democrats Won't Shut Down Government Over #Illegal Aliens Again https://t.co/xo1gNc2Lyq\n",
      "259:  Nancy Pelosi fact checks Donald Trump on his government shutdown, sets his pants on fire https://t.co/mgdEfExwbW #TrumpResign @realDonaldTrump #GOPRussia #FBR #TrumpRussia #Mueller #Resist #MAGA #VoteBlue #tcot #ccot #Patriot #AmericaFirst\n",
      "111:  #DonaldTrump threatens to shut down the government if he doesn't get the wall.\n",
      "\n",
      "The shutdown date is Dec. 21st. ... 4 days before Christmas.\n",
      "\n",
      "In the last shutdown, 850,000 people were furloughed WITHOUT PAY.\n",
      "\n",
      "If it happens, watch #Trump blame the #Democrats.\n",
      "\n",
      "#p2 #news #politics\n",
      "77:  @NancyPelosi @realDonaldTrump #Notonepenny for the #wall of shame, #Trump &amp; #CorruptGOP still control majority if they shut down the government they will own it and in January #Democrats will gain control of the House and will manage to reopen making him look like the jackass he is\n",
      "98:  #Resist #Resisttrump #traitor \"Wall Street pulls back after Trump's government shutdown threat\" - https://t.co/43VyH7E19j\n",
      "376:  If something is not done about Trump and his shutdown there probably be a Netflix documentery called \"2 and a half years : the longest government shutdown\" within 10-15 years. #MAGA #Resist\n",
      "385:  The only thing worse than @realDonaldTrump shutting down the government over the ridiculous wall would be the #democrats  giving in.\n",
      "\n",
      "rep-lead\n",
      "\n",
      "395:  End of Government Shutdown May Depend on the Definition of ‘Wall’ #MAGA #METOO #GunWall https://t.co/NyPzuxHd6l\n",
      "369:  The government shutdown could drag into 2019 as Trump keeps pushing for border wall funds. Loosing confidence in the #DEALPRESIDENT!!!  Stock market crumbling #TRUMP’S #BEARMARKET  https://t.co/C8r6aoHIHH\n",
      "292:  Partial government shutdown set to arrive at midnight - NBC News\n",
      "\n",
      "#TrumpsShutdown #GOP #NoWall  https://t.co/vmzEpaHXsY\n",
      "99:  #Conservative columnist reveals why Trump 'already lost' the government shutdown battle   #women #Children #WomenForTrump #Evangelicals #AmericanWoman #Christians #Resistance #Church #Police #TEACHers #MAGA  #TrumpTrain #TrumpRussia #Veterans #RepublicanParty #GOP #Republicans https://t.co/dyte6OEr8E\n",
      "966:  @realDonaldTrump Shut the government down. Don’t fall for the trap Ryan and McConnell have set before you. They want Dems to win in mid term. Keep your promises to #MAGA Love you\n",
      "961:  More\n",
      "Rand Paul Starts A Mini Government Shutdown Tolerant Liberals Attack\n",
      "\n",
      "READ OUR STORY HERE https://t.co/XYyWukXnHO\n",
      "\n",
      "#RandPaulShutdown #RandPaul #shutdown2018 #MAGA #QAnon #Americans #Obamagate #Trump #TrumpTrain #ObamaKnew  #LiberalLogic #deficit #deficits https://t.co/EkHPShSQNu\n",
      "347:  Then why are you shutting down the government and denying hundreds of thousands of Americans their pay checks over the Christmas period? \n",
      "#TrumpResign #MAGA https://t.co/q8uhgNLe6p\n",
      "915:  @realDonaldTrump @EJDionne-  “If we have a government shutdown, we will now know who is responsible: \"President Donald #Trump on Tuesday called for a government shutdown if Congress is unable to pass what he considers adequate border-security measures.\" @politico\n",
      "In politics, clarity is helpful.”\n",
      "131:  Trump Threatens to Shut Down Government over Border Wall \n",
      "#Trump\n",
      "https://t.co/spW4V6BXQN\n",
      "212:  #Trump said he'd be \"proud to shut down the government\" if he doesn't get $5 Billion for his #BorderWall. This morning, he rejected the bi-partisan funding CR &amp; is, of course, blaming everyone but himself.\n",
      "#ShutDownGovernment\n",
      "https://t.co/9q1Ul2FogX\n",
      "\n"
     ]
    }
   ],
   "source": [
    "print_samples_all_groups(sd)"
   ]
  },
  {
   "cell_type": "markdown",
   "metadata": {},
   "source": [
    "### Social Security"
   ]
  },
  {
   "cell_type": "code",
   "execution_count": 53,
   "metadata": {},
   "outputs": [
    {
     "name": "stdout",
     "output_type": "stream",
     "text": [
      "I'm trying\n",
      "Connected to political tweets DB\n"
     ]
    },
    {
     "data": {
      "image/png": "[encoded data removed]",
      "text/plain": [
       "<Figure size 432x288 with 1 Axes>"
      ]
     },
     "metadata": {
      "needs_background": "light"
     },
     "output_type": "display_data"
    }
   ],
   "source": [
    "ss = run_vader(\"social_security\")"
   ]
  },
  {
   "cell_type": "code",
   "execution_count": 54,
   "metadata": {},
   "outputs": [
    {
     "name": "stdout",
     "output_type": "stream",
     "text": [
      "dem-base\n",
      "\n",
      "2326:  \"Save Medicare, Medicaid and Social Security without cuts. Have to do it.\" \n",
      "–Donald Trump, June 16, 2015 https://t.co/pv9xKY8qJp\n",
      "2123:  As your representative, I will work to ensure Social Security &amp; Medicare continue to be fully funded and will oppose reduction to benefits.\n",
      "475:  @AARPMaine @JournalTribune @SenatorBrakey @SenAngusKing @AARPadvocates @RoamtheDomes Great question! Our plan is to meaningfully expand Social Security (stop taxation on SS income and end the pension offset) and Medicare (halve the cost of prescription drugs and eliminate the need for secondary private insurance).\n",
      "6:  Proud to join with @SenSanders in putting forward a solution to reduce Social Security wait lines for individuals with disabilities and stop Social Security field office closures. Read more here ⬇️ https://t.co/8PVD5eeDil\n",
      "2327:  After months of closure, Social Security office @ 3438 E Southcross has finally reopened.  Thx to Toni Moorhouse advocating for Southside.\n",
      "2728:  Curbelo voted with DT &amp; the Rep Congress for a tax bill that cuts taxes for the wealthy &amp; big corporations. To pay for this bill, Congress will have to cut benefits like Social Security &amp; Medicare or pass a trillion dollar debt to our children. #FL26 https://t.co/DLsskBIemT\n",
      "772:  After passing a $2 trillion tax cut for big corporations and the wealthiest Americans, Republicans are going to try to cut Social Security, Medicare, and Medicaid. You can bet I'll continue to fight against these cuts that hurt middle-class families.\n",
      "https://t.co/ldJctWemlz\n",
      "321:  Roger Williams -a career politician who only seems interested in taking people’s healthcare away and cutting social security and Medicare -refuses to do his job and hold the president accountable for his crimes. In the real world, when people don’t do their job, they are fired.”\n",
      "522:  Watch out crooks. Here we come—jobs, fairness, wages, social security, the American Dream.\n",
      "\n",
      "https://t.co/iT3UuPFuOt\n",
      "243:  President Roosevelt signed the Social Security Act into law 83 years ago today. Folks in Washington are talking about cutting Social Security and Medicare. It’s pretty simple to me: you earned your Social Security, and nobody should take it away. https://t.co/VV0qkxHwxD\n",
      "\n",
      "rep-base\n",
      "\n",
      "184:  On this day in 1935, President Franklin D. Roosevelt signs into law the Social Security Act. read more... https://t.co/8PD04WrMeh via @History. FDR commended Congress on what he considered to be a “patriotic” act. YOUR THOUGHTS about Social Security, then and now? #ElectPhilKurtz\n",
      "387:  Ronald Reagan on Social Security https://t.co/sZp9YfHhgk via @YouTube\n",
      "1535:  One of my top priorities is to preserve and strengthen Social Security and Medicare for our seniors. That’s why I’m fighting to improve these key programs to make sure they remain dependable for future generations. https://t.co/tbP3ne6aGa https://t.co/22ooEP3Kav\n",
      "1746:  Whether it's creating jobs, promoting innovative healthcare, protecting social security and our Great Lakes and more I’ll always be there for you. Your help voting, volunteering, and contributing made this WIN possible. THANK YOU!\n",
      "2041:  Dems' solution to social security: \"inventing\" money out of thin air &amp; pretending it doesn't have to be paid back http://t.co/gDyxkXd7Qf\n",
      "305:  All Medicare beneficiaries in FL will receive a new Medicare card in the coming weeks.  The new cards will use a randomly-assigned Medicare number instead of a beneficiary’s Social Security Number – this guards against identity theft.  Learn more below. https://t.co/JUCiJPYgFn\n",
      "238:  83 years ago President Roosevelt signed the #SocialSecurity Act into law, which now impacts the lives of millions of Americans. I remain committed to protecting these benefits promised to  seniors &amp; will work to strengthen Social Security for future generations.\n",
      "2158:  We can preserve and protect Social Security, but only by doing it the right way. Today I discussed my solutions with seniors at Las Ventanas https://t.co/XqaIOYsImZ\n",
      "2899:  J-1 has no prevailing wage requirement, employers can pay the visa  holders lower wages than those U.S. workers earn in similar occupations . Employers are exempt  from paying the Social Security, Medicare, federal and state  unemployment taxes on J-1visa holders.\n",
      "141:  Last week, I visited Northern Broome Community Center and spoke with seniors about challenges like affordable housing and healthcare. I’ve been a leading voice for strengthening Medicare and Social Security. I’ll continue to fight for seniors in Congress.\n",
      "https://t.co/on5DqxRGnn\n",
      "\n",
      "dem-lead\n",
      "\n",
      "1731:  I'm glad that .@realDonaldTrump focused on the caravan &amp; illegal immigrants. He was playing to his #MAGA base but failed to realize that most ppl are much more concerned about healthcare &amp; Social security #VOTE #VoteBlueToSaveAmerica #Resist #Trump #VoteDem\n",
      "1015:  VERY SIMPLE  IF WANT A SECURE SOCIAL SECURITY AND MEDICARE FUTURE  YOU WILL PUT ASIDE ALL THE IDEOLOGICAL NONSENSE ,VOTE A STRAIGHT BLUE TICKET ACROSS THE BOARD ! \n",
      "TO VOTE A GOP GANGSTER TICKET ,YOU WILL DESERVE WHAT THEY HAVE IN MIND FOR YOU AND YOURS,YOURSELF,MOTHER,FATHER,KIDS https://t.co/TtLhBmpMSQ\n",
      "1639:  @MorriseyWV @DonaldJTrumpJr #VOTEBLUE to save social security &amp; Medicare! 💙💙💙 https://t.co/8S6M6HOVqj\n",
      "1215:  @TheRickyDavila Republicans are coming for your Social security &amp; Medical insurance, if you or your child have a pre-existing condition, this is the most important election for you to make sure and vote. #Vote #VoteBlue\n",
      "1053:  He stole his dad's fortune, now watch him steal your dad's. @realDonaldTrump Don theCon implores you to #VoteThemOut\n",
      "#bluewave before they run their deficits to $2 trillion or cut your paid-in social security. https://t.co/N0drYKvzND\n",
      "2828:  Republicans in Congress are planning major cuts to Medicare, Medicaid and Social Security. Sign the petition now to say #NoCuts: https://t.co/M2HnKrb8CU @CREDOMobile #p2 #resist #HandsOff\n",
      "1200:  Trump's pick is unfit to lead the Social Security Administration https://t.co/VDFfVzoUnh via @CREDOMobile #resist\n",
      "1185:  #Resist #VetsResistSquadron #TheResistance #WeThePeople @votevets @iava All My Brothers MUST Remember that the Republican Maj has Rejected 12 Bills that would help Veterans ! I Belive McConnell will not stop at Cutting Scoial Security , Medicare &amp; Medicaid he will COME AFTER VETS\n",
      "1658:  @BenJealous #VoteDem\n",
      "Republicans are still trying to kill eveyone's healthcare / social security / medicare so they can get richer! #GOPVotingBlue\n",
      "#VoteBlue #VoteDem\n",
      "https://t.co/5xGJooZxS4\n",
      "1829:  After instituting a $1.5 trillion tax cut Senate Majority Leader Mitch McConnell said Tuesday that the only way to lower the record-high federal deficit would be to cut programs like Medicare, Medicaid and Social Security.\n",
      "#VoteBlue \n",
      "#VoteThemOut\n",
      "\n",
      "rep-lead\n",
      "\n",
      "2868:  TEACHERS CAN'T USE SOCIAL SECURITY #TRUMP #AMERICAFIRST #DRAINTHESWAMP  \n",
      "https://t.co/a9br0NXvWn\n",
      "1660:  #TedCruzIsEvil #Beto #VoteBlueToSaveAmerica #RepublicansAreDangerous #Republicans #GOP #Trump #TrumpIsDangerous - yeah Ted Cruz needs all y'all to vote so he can CUT your Social Security &amp; Medicare Benefits. That's what a Red Congress will do if You don't VOTE BLUE!! #VoteBeto https://t.co/YGaJE2UTaz\n",
      "334:  @AshaRangappa_ I take it that you haven't tried to explain this to a #Trump supporter who relies on his/her social security check to buy food and pay bills each month.\n",
      "415:  @Bevleslie1 @BillyBaldwin I saw so many older folks with 4O1ks under 25k.  They will be totally screwed if #GOP messes with Social Security and medicare.  A lot of ppl invested in employer stock of now-gone companies, and planned on pensions, retiree insurance that didn't happen.\n",
      "1045:  @DHStokyo #MAGA \n",
      "@SenMajLdr is coming after your social security. Tell them Senator that what they paid into is really an entitlement. And the @GOP keeps borrowing money from that pot and not paying it back.\n",
      "2629:  Cutting Social Security benefits to fund tax cuts for billionaires is stealing from most Americans. Literally. #Trump #HandsOff https://t.co/FRm5hQ808q\n",
      "2554:  First President smoking a joint, as a foreign student, then deny he's a foreigner, with social security from state never lived in, with cut to the credit-rating of the United States, to violate the War Powers Act, held in contempt for illegally obstructing oil drilling. https://t.co/QeBsZc7FzR\n",
      "512:  @mitchellvii @thehill “The challenge for GOP candidates is that most voters believe that the GOP wants to cut back [Social Security and Medicare] in order to provide tax breaks for corporations and the wealthy.”\n",
      "https://t.co/uElvzujxgu \n",
      "\n",
      "TheHill did not conduct the study, Goofy. RNC did. \n",
      "\n",
      "@Hoglitosis https://t.co/vUFDnRZNSb\n",
      "3015:  #MAGA Social Security is next. https://t.co/KyVmcoDdQE\n",
      "1102:  That was true till the 90's when Congress figured out they could 'borrow' from Social Security in order to have more money to spend. https://t.co/9sBLK1zTz9\n",
      "\n"
     ]
    }
   ],
   "source": [
    "print_samples_all_groups(ss)"
   ]
  },
  {
   "cell_type": "markdown",
   "metadata": {},
   "source": [
    "### Taxes"
   ]
  },
  {
   "cell_type": "code",
   "execution_count": 55,
   "metadata": {},
   "outputs": [
    {
     "name": "stdout",
     "output_type": "stream",
     "text": [
      "I'm trying\n",
      "Connected to political tweets DB\n"
     ]
    },
    {
     "data": {
      "image/png": "[encoded data removed]",
      "text/plain": [
       "<Figure size 432x288 with 1 Axes>"
      ]
     },
     "metadata": {
      "needs_background": "light"
     },
     "output_type": "display_data"
    }
   ],
   "source": [
    "tax = run_vader(\"taxes\")"
   ]
  },
  {
   "cell_type": "code",
   "execution_count": 56,
   "metadata": {},
   "outputs": [
    {
     "name": "stdout",
     "output_type": "stream",
     "text": [
      "dem-base\n",
      "\n",
      "13442:  Ugly. Combatting this agenda of tax cuts for the top, program cuts for everyone else is why we run. Lives are at stake. \n",
      "\n",
      "https://t.co/dOolVFNn6x\n",
      "633:  We won’t allow @realDonaldTrump to pay for the @GOP tax scam with Californians’ hard-earned money. Fighting to protect #CA taxpayers in the #CAleg Senate Education Committee this morning. #SCA23 #SB227 https://t.co/mmiLioyEFy\n",
      "8403:  The #GOPTaxPlan that just passed out of the Senate Finance Committee had a new deduction for #BigOil—a $4 billion tax break for oil companies in the U.S. — &amp; other loopholes Republicans failed to close\n",
      "7417:  Talking about how to stop the GOP’s tax break for the 1% in Racine today https://t.co/RKIi1r8Dds\n",
      "7124:  HOGWASH! The OK political ruling class (who have God's unlisted phone #) say we can't raise taxes because state taxes at TOO HIGH.\n",
      "6643:  I passed a bill thru the House to modernize the Small Biz Admin's Microloan program &amp; I'm fighting to cut taxes for small + new businesses. https://t.co/NmanAUN5hc\n",
      "6140:  .@SenateGOP’s #Trumpcare isn’t a health care bill. It takes insurance away from millions to fund a massive tax cut for the wealthy. https://t.co/Gt9P9K2Xel\n",
      "6984:  I’m against deep tax cuts for Donald and Pete. These cuts hang Texans out to dry. Join my fight. Sign up at https://t.co/R7dxSrFf57 https://t.co/gN7JMFrY7I\n",
      "7904:  How many times do we have to defeat Republicans' efforts to take health insurance away from millions to give tax breaks to the top 1%? Apparently once more. https://t.co/yFakWQAIfN\n",
      "7403:  @TrueFactsStated @JamesThompsonKS @MorganForMI @Scholten4Iowa @Kotick4Congress @MikeLevinCA @LisaMandelblatt @dana_balter Trump &amp; GOP have been scrambling all yr 2pass trillions in tax cuts for folks like Trump at expense of hardworking Americans! #GOPTaxPlan\n",
      "\n",
      "rep-base\n",
      "\n",
      "4476:  @BloombergNews says Obama-Hochul plan will raise taxes on majority of small businesses.  Will crush job creation. http://t.co/cj8zszlq #ny27\n",
      "11683:  Contrary to Sherrod Brown and Nancy Pelosi's belief that tax cuts for hardworking Americans are crumbs, some of Hollywood's elite grasp what tax reform means for America. Bill Murray recently declared the tax cuts \"fantastic.\"\n",
      "\n",
      "Read on @FoxNews here: https://t.co/gAOP2Dm216 https://t.co/wS7OFFHss4\n",
      "785:  .@SenWhitehouse's radical health care agenda will raise taxes on the middle-class, bankrupt our government, and put doctors and hospitals out of business. Rhode Islanders need real solutions for affordable health care. https://t.co/r2vZ5Hm1aR @GoLocalProv\n",
      "11490:  Nevada small businesses couldn't wait any longer for tax cuts. Our bill provides the much-needed break you deserve.\n",
      "\n",
      "#TaxCutsandJobsAct #nvsen #SmallBiz https://t.co/X4AWia7viG\n",
      "9792:  This tax reform bill is a huge victory for middle class families across Texas, and the country. https://t.co/CGdupdtYBa\n",
      "9487:  I intend 2 vote no on tax bill. Due 2 pressure of several members like me, bill was improved, but not enough for a significant # of my constituents.\n",
      "9351:  Tax cuts for Scrooge McDuck? It's time to dispel the myths about tax reform, especially when it comes to small business owners. MORE--&gt;https://t.co/wv1GNMqVYX @thehill https://t.co/PePtAIFsit\n",
      "5435:  It is time for a tax code built for growth. Our bold tax reform Blueprint delivers one. Learn more and get engaged. https://t.co/D9rLgBiUHt\n",
      "12184:  Enjoyed speaking with members of the Riverside County Building Industry Association today about tax reform and infrastructure. https://t.co/8R6DZ0bVIv\n",
      "4523:  The GOP Tax Plan: Middle Class Tax Hikes and Millionaire Tax Breaks http://t.co/npVYYcLx\n",
      "\n",
      "dem-lead\n",
      "\n",
      "10658:  @realDonaldTrump Maybe while you’re in SWITZERLAND, you will experience a country where corporate tax cuts aren’t just given to the RICH! Do us all a favor and RESIGN! 35% approval rating degenerate. #resist\n",
      "11847:  Ohio ✂️ 17k good-paying state &amp; local government jobs during the last administration. Public school funding is⬇️over a BILLION $ a year compared to pre-recession numbers. Tax cuts for the 1% - @BrettPransky  #OH77 #BrettOutTheVote\n",
      "#BlueWave2018 🌊 #TW https://t.co/A2VfdpQR6j\n",
      "3907:  This is what #TaxReform did. GOP knew this would happen. Public companies have fiduciary responsibility to shareholders not American citizens. #Resist #SpeakUp Tax cut triggers $437 billion explosion of stock buybacks  - CNNMoney\n",
      "\n",
      " https://t.co/8l3lmbwmWU via @CNNMoney\n",
      "14173:  @realDonaldTrump @POTUS @Varneyco You're Repulsive Republican tax scam didn't do a dammmm thing for us ordinary people...you and your rich friends and giant corporations got billions of dollars $$$...stop with the lies and spin... you maybe able to brainwash a few..but this tax scam will soon be stew! #BlueWave\n",
      "13844:  @TheDemocrats plan to win elections for the next generation:\n",
      "\n",
      "State they want to raise your taxes  ✅\n",
      "Defend Hamas ✅\n",
      "Defend MS-13 ✅\n",
      "Side with Tyrants over America ✅\n",
      "Start a \"War on Women\" ✅\n",
      "\n",
      "#BlueWave https://t.co/bXXF9mEywb\n",
      "482:  if we lose the house we may lose potus are you willing to allow that to happen do you want to go back to how it was? They want your tax cuts back they want you penalized for not having insurance of their choice not yours BETTER GET OUT THE VOTE IN THESE LOCAL ELECTIONS PEOPLE https://t.co/3Xo5lJGgbP\n",
      "3238:  @PressSec @realDonaldTrump 🤣🤣 What policies!? The tax cut ballooned the deficit! No tax cut for the middle and lower class! All lies and deception! Tarrifs are going to cripple the economy! #NotMyPresident #VoteBlue\n",
      "653:  I would LOVE to hear from the fiscal conservatives and the \"party of personal responsibility\" on this. #GOPTaxScam #Resist \n",
      "\n",
      "Federal deficit jumps 20% after tax cuts, spending bill https://t.co/kSLSuDKBz3\n",
      "3958:  @AmericaNewsroom Question. Was it worth it?\n",
      "\n",
      "PROMISING TAX BREAKS FOR MIDDLE CLASS?\n",
      "Then pillaging country by giving the breaks to big corporations.\n",
      "All while knowing they would NOT put it back into the economy!\n",
      "\n",
      "#KARMA “Whatever you give to life, it gives you back.”\n",
      "\n",
      "#Resist\n",
      "3607:  Democrats can and must subpoena and release Trump's tax returns https://t.co/eAReLnO1ej via @CREDOMobile #resist\n",
      "\n",
      "rep-lead\n",
      "\n",
      "2752:  @RepCheri @RepLaHood 👉@RepCheri  voted against #Illinois low &amp; middle income working families &amp; cutting costs on Healthcare \n",
      "👉 Republicans results:\n",
      "👉Lower Taxes 👇 https://t.co/u0FqRV1uKX\n",
      "👉Booming Economy\n",
      "👉More Jobs &amp; Higher Wages.\n",
      "👉Lowest Unemployment Rate  #MAGA November vote for #JobsNotMobs\n",
      "10911:  Wherein I talk about the corporate tax cut, bonuses, and am generally indebted to @DanielJHemel's insights. https://t.co/4J1Bhwlwtb\n",
      "11079:  @realDonaldTrump Thanks for the tax cut Mr President!! It is much appreciated!!! Keep charging! #maga\n",
      "11891:  With the \"crumbs\" from the tax cuts, I'm averaging an additional $300 a paycheck.\n",
      "I don't care what Pelosi says. That money helps!\n",
      "Thank you President Trump!\n",
      "#MAGA \n",
      "@POTUS \n",
      "#TaxReform\n",
      "10808:  @UJulieWright @FishFunSun @Idclair @timmoore1973 @dowdyjackson @charley_ck14 @clbirds @PiconeKaren @JoeManchinWV @DNC Manchin voted NO on the tax cuts. With 9 months to go before election, he HAS to move to the middle if he any chance of being reelected in the very red state of WV. I used to like him, but he is a reliable Dem vote in the Senate. WV needs a #MAGA Senator!\n",
      "3125:  @realDonaldTrump Why not, it is not your money you keep throwing away, IT IS MINE! You don't pay taxes. Use your own $ for your ridiculous stunts #Caravan #TRUMP #taxpayer https://t.co/s4QdTaO9c5\n",
      "13681:  @mmerissa @POTUS #MAGA 🙄 So much for that tax break money.\n",
      "11786:  @TomSteyer 4.1% Unemployment\n",
      "3.3% GDP Growth\n",
      "Black Unemployment Record Low\n",
      "Tax Cuts\n",
      "2 Million Jobs Created\n",
      "Companies Reinvesting In America\n",
      "Millions Off Food Stamps\n",
      "50% Reduction In Illegals Crossing Border\n",
      "\n",
      "#PresidentsDay #MAGA https://t.co/7AwLf69Hgz\n",
      "11314:  Trump remarks on Tax Reform in Ohio @realDonaldTrump#MAGA https://t.co/weRMlTJtpi\n",
      "4197:  At least 90 percent of Americans will end up poorer thanks to Trump's tax cut.\n",
      "Hey, #MAGA, right?  Wrong.\n",
      "The Trump Tax Cut: Even Worse Than You’ve Heard\n",
      "Trump is doing for America what he did for his businesses: bankrupt them due to his incompetence.\n",
      "https://t.co/ShLh8BM4of\n",
      "\n"
     ]
    }
   ],
   "source": [
    "print_samples_all_groups(tax)"
   ]
  },
  {
   "cell_type": "markdown",
   "metadata": {},
   "source": [
    "### Technology"
   ]
  },
  {
   "cell_type": "code",
   "execution_count": 57,
   "metadata": {},
   "outputs": [
    {
     "name": "stdout",
     "output_type": "stream",
     "text": [
      "I'm trying\n",
      "Connected to political tweets DB\n"
     ]
    },
    {
     "data": {
      "image/png": "[encoded data removed]",
      "text/plain": [
       "<Figure size 432x288 with 1 Axes>"
      ]
     },
     "metadata": {
      "needs_background": "light"
     },
     "output_type": "display_data"
    }
   ],
   "source": [
    "tech = run_vader(\"technology\")"
   ]
  },
  {
   "cell_type": "code",
   "execution_count": 58,
   "metadata": {},
   "outputs": [
    {
     "name": "stdout",
     "output_type": "stream",
     "text": [
      "dem-base\n",
      "\n",
      "737:  #NetNeutrality ends today. Hopefully other states follow Washington's example in creating their own net neutrality laws to protect a free and open internet for all consumers.\n",
      "https://t.co/AjB1e8ErHf https://t.co/2O23Bj0DNT\n",
      "165:  Today is the #NetNeutrality Day of Action! Without #NetNeutrality rules, ISPs can block, throttle, or create fast and slow lanes on internet access. We must act NOW to restore the free and open internet. https://t.co/HYo5bA6MkC\n",
      "664:  We have 60 days to fight the end of net neutrality. It’s the basis of a free and open internet, and the foundation of a modern democracy. Congress should act swiftly to make it the law. Retweet if you agree.\n",
      "https://t.co/nOr2njLlOy\n",
      "604:  The fight for net neutrality is not over. We can overturn the FCC's disastrous decision but we need your help. https://t.co/jcCqHwrF82\n",
      "837:  The motion to proceed to S.J.Res.52, net neutrality, was agreed to by a vote of 52-47. The final vote will take place around 3:00pm. That means we have less than two hours left to convince one more Senator to help us #SaveTheInternet.\n",
      "610:  We only need ONE MORE VOTE to protect #NetNeutrality. Keep up the pressure to preserve your right to a free and open internet! https://t.co/nSQHxjdAsX\n",
      "390:  This is an important Op-Ed from a member of the FCC regarding #NetNeutality. \n",
      "Join us and help protect Net Neutrality\n",
      "https://t.co/QAtqZBTzDJ\n",
      "306:  #NetNeutrality protects innovators and small businesses in our community. We can't afford @FCC efforts to undermine the open internet. https://t.co/cfCGC9lWq2\n",
      "367:  #NetNeutrality is good for our economy and vital to our freedom of speech. I urge you to raise your voice on this. Do not let the FCC take away a free and open internet.\n",
      "266:  I support consumer privacy and net neutrality. I'll be voting against S J Res 34.\n",
      "\n",
      "rep-base\n",
      "\n",
      "294:  Ending Title II Net Neutrality protection is wrong. It is yet another attack on those attempting to bring about the beloved community.\n",
      "557:  Net neutrality has had the Internet abuzz. In case you missed it, I talked with @957WCRC last week about what it all means. https://t.co/W2NS6IWYsQ\n",
      "674:  Never has there been a more important time to guarantee that each voice can freely speak up and speak out. We cannot allow a few powerful companies to control what you see and do on the Internet. We must save #NetNeutrality to guarantee a free &amp; open internet for all #goodtrouble\n",
      "71:  The California legislature will vote as soon as TODAY on #SB822, the best state level #NetNeutrality bill in the country. Take action now to defend the open Internet: https://t.co/G6El5mLm1x via @IDLtweets\n",
      "248:  Today, the @FCC took historic action to protect a free and open Internet for generations yet unborn.\n",
      "582:  Senate bill to reverse net neutrality repeal gains 30th co-sponsor, ensuring floor vote https://t.co/3iaRxZvJl3\n",
      "890:  Yesterday I had the opportunity to discuss net neutrality, flood insurance, and fair housing with @ndrealtors. https://t.co/tybryP1VZw\n",
      "568:  \"The Trump Administration’s repeal of net neutrality only exacerbates the  monopoly many rural internet service providers have and heightens the  lack of access for farmers and rural residents.\" Whose side is Westerman on? https://t.co/KYbsihqfXt\n",
      "932:  Despite overwhelming public support, @FCC’s repeal of #NetNeutrality goes into effect today. The Senate has voted to #SaveTheInternet, and I’m supporting similar legislation here in the House. The fight for a free &amp; open internet continues!\n",
      "227:  We don't need more government regulations such as the proposed \"net neutrality\" rules.\n",
      "\n",
      "dem-lead\n",
      "\n",
      "162:  @realDonaldTrump Why I #RESIST\n",
      "\n",
      "Wall Street 1% Tax Cut\n",
      "Social Security\n",
      "Medicare\n",
      "Net Neutrality\n",
      "Trade Wars\n",
      "Pre-Existing Conditions\n",
      "SCOTUS\n",
      "March For Our Lives\n",
      "No Tolerance ICE\n",
      "Environment\n",
      "Paris Agreement\n",
      "Offshore Drilling\n",
      "CFPB\n",
      "Dodd Frank\n",
      "Medical Marijuana\n",
      "StandWithPP\n",
      "Iran Deal\n",
      "Trans Ban\n",
      "MeToo\n",
      "Taxes\n",
      "195:  @realDonaldTrump Why I #RESIST\n",
      "\n",
      "Wall Street 1% Tax Cut\n",
      "Social Security\n",
      "Medicare\n",
      "Net Neutrality\n",
      "Trade Wars\n",
      "Pre-Existing Conditions\n",
      "SCOTUS\n",
      "March For Our Lives\n",
      "No Tolerance ICE\n",
      "Environment\n",
      "Paris Agreement\n",
      "Offshore Drilling\n",
      "CFPB\n",
      "Dodd Frank\n",
      "Medical Marijuana\n",
      "StandWithPP\n",
      "Iran Deal\n",
      "Trans Ban\n",
      "MeToo\n",
      "Taxes\n",
      "99:  @realDonaldTrump Why I #RESIST\n",
      "\n",
      "Tax Scam Bill\n",
      "Net Neutrality\n",
      "Trade Wars\n",
      "Pre-Existing Conditions\n",
      "SCOTUS\n",
      "Russia\n",
      "March For Our Lives\n",
      "No Tolerance ICE\n",
      "Environment\n",
      "Paris Agreement\n",
      "Artic/Offshore Drilling\n",
      "CFPB\n",
      "Dodd Frank\n",
      "Medical Marijuana\n",
      "StandWithPP\n",
      "Iran Deal\n",
      "Military Parade\n",
      "Trans Ban\n",
      "MeToo\n",
      "Taxes\n",
      "150:  @MatthewACherry WHY I #RESIST TOO!\n",
      "Tax Scam Bill\n",
      "Net Neutrality\n",
      "Trade Wars\n",
      "Pre-Existing Conditions\n",
      "SCOTUS\n",
      "Russia\n",
      "March For Our Lives\n",
      "No Tolerance ICE\n",
      "Environment\n",
      "Paris Agreement\n",
      "Artic/Offshore Drilling\n",
      "CFPB\n",
      "Dodd Frank\n",
      "Medical Marijuana\n",
      "StandWithPP\n",
      "Iran Deal\n",
      "Military Parade\n",
      "Trans Ban\n",
      "MeToo\n",
      "Taxes\n",
      "755:  @SenDeanHeller Question Dean Heller. Will you vote for or against Net Neutrality on May 9th?\n",
      "Man up, take a public position because we're watching.\n",
      "#Resist #illegitimate #indictments #holster\n",
      "\n",
      "majedtannir @majedtanni\n",
      "120:  💥Save healthcare\n",
      "💥Protect Women’s, LGBTQ, POC &amp; Voting Rights\n",
      "💥Living wage for all citizens\n",
      "💥Protect Social Security. \n",
      "💥Protect our environment. \n",
      "💥Tax plans fair to ALL!\n",
      "💥Humane immigration policy. 💥Affordable Education\n",
      "💥Restore net neutrality\n",
      "💥End corruption\n",
      "#VoteBlue https://t.co/fTI8MJmuns\n",
      "178:  @realDonaldTrump Why I #RESIST\n",
      "\n",
      "Wall Street 1% Tax Cut\n",
      "Social Security\n",
      "Medicare\n",
      "Net Neutrality\n",
      "Trade Wars\n",
      "Pre-Existing Conditions\n",
      "SCOTUS\n",
      "March For Our Lives\n",
      "No Tolerance ICE\n",
      "Environment\n",
      "Paris Agreement\n",
      "Offshore Drilling\n",
      "CFPB\n",
      "Dodd Frank\n",
      "Medical Marijuana\n",
      "StandWithPP\n",
      "Iran Deal\n",
      "Trans Ban\n",
      "MeToo\n",
      "Taxes\n",
      "965:  Net Neutrality is dead officially dead.  But it doesn't have to be... #NetNeutrality #FCC #Trump #AjitPai #corruption #ATT #Verizon #Sprint #Comcast #resist #Congress #MondayMotivaton  https://t.co/5R1siOEKlq\n",
      "176:  @RepWilson SUPPORT THE NET NEUTRALITY REFORM IN CONGRESS RIGHT NOW. \n",
      "\n",
      "Local soFlos are pissed with the state of the internet. You are AMONG THE ONLY DEMOCRATS standing AGAINST saving Net Neutrality. \n",
      "\n",
      "Prove your not a comcast lapdog and avoid losing reelection. #mondayMorning #BlueWave\n",
      "40:  @realDonaldTrump Why I #RESIST\n",
      "\n",
      "Tax Scam Bill\n",
      "Net Neutrality\n",
      "Trade Wars\n",
      "Pre-Existing Conditions\n",
      "SCOTUS\n",
      "Russia\n",
      "March For Our Lives\n",
      "No Tolerance ICE\n",
      "Environment\n",
      "Paris Agreement\n",
      "Artic/Offshore Drilling\n",
      "CFPB\n",
      "Dodd Frank\n",
      "Medical Marijuana\n",
      "StandWithPP\n",
      "Iran Deal\n",
      "Military Parade\n",
      "Trans Ban\n",
      "MeToo\n",
      "Taxes\n",
      "\n",
      "rep-lead\n",
      "\n",
      "901:  @lukeprater @DebashriSG @thebax33 @RWPUSA How about keeping the man child in the whitehouse off the internet cause he seems to have nothing better to do and isn't mental ready for the big open internet. #NRAIsATerroristOrganization #trump\n",
      "186:  Much like the #Trump-Russia fraud perpetrated on the American people, looks like the net neutrality fraud involving FCC and Ajit Pai just might start unraveling. Can't come soon enough.\n",
      "\n",
      "#MAGA #Trump\n",
      "@realDonaldTrump\n",
      "https://t.co/UwVro364x2\n",
      "91:  https://t.co/y8BD8HAyr2 \n",
      "Kavanaugh defends his net neutrality dissent in Senate hearing    #MAGA #trump #Russiansanctions #Russia #cnbc #nbc #abc #maga #trump #PutinsPoodle #TraitorTrump #scotus #kavanaugh #citizensunited #NetNeutrality\n",
      "82:  California lawmakers vote to pass toughest net neutrality law in the nation https://t.co/MjsJxo7QdT #resist #notmypresident #mueller #trump #resistance #imwithher #impeachtrump #trumprussia #muellertime #midterms #votethemout #voteblue #voteblue2018 #elections #NetNeutrality #fcc\n",
      "645:  #MAGA Montana to FCC, big telecom: Bring on your net neutrality law suits, we're ready https://t.co/QQqdBLgNOJ @dailykos #MondayMotivation\n",
      "79:  BREAKING: NET NEUTRALITY BILL JUST PASSED IN CALIFORNIA ASSEMBLY.\n",
      "NOW TO THE SENATE. CALL YOUR SENATORS!\n",
      "@JoinTravisAllen @AllenVolunteers  #MAGA #NetNeutrality\n",
      "706:  Oh No Mr Bill, the Radical Marxist Silicon Valley Free Speech (net neutrality) Police are at it Again &amp; that #Democratic Run Russian Collusion Investigation is Checking Who Where Again? #REPUBLICAN #GOP #DNC #DEMS #CCOT #TCOT #TLOT #DOJ https://t.co/dgGtS2pNhp\n",
      "730:  Don't worry just #MAGA more power to corporations is a win!\n",
      "\n",
      "Net neutrality is officially dead. Now what? https://t.co/cNsYutObmL\n",
      "969:  @RepAdamSchiff Forget Net Neutrality, sign the Internet Bill of Rights. #MAGA #QANON\n",
      "648:  #MAGA Democratic Party Think Tank Quietly Fighting Push To Restore Net Neutrality Rules https://t.co/SSeBFKKxR5 @huffpost #WednesdayWisdom\n",
      "\n"
     ]
    }
   ],
   "source": [
    "print_samples_all_groups(tech)"
   ]
  },
  {
   "cell_type": "markdown",
   "metadata": {},
   "source": [
    "### Women's Rights"
   ]
  },
  {
   "cell_type": "code",
   "execution_count": 59,
   "metadata": {
    "scrolled": true
   },
   "outputs": [
    {
     "name": "stdout",
     "output_type": "stream",
     "text": [
      "I'm trying\n",
      "Connected to political tweets DB\n"
     ]
    },
    {
     "data": {
      "image/png": "[encoded data removed]",
      "text/plain": [
       "<Figure size 432x288 with 1 Axes>"
      ]
     },
     "metadata": {
      "needs_background": "light"
     },
     "output_type": "display_data"
    }
   ],
   "source": [
    "wr = run_vader(\"women_rights\")"
   ]
  },
  {
   "cell_type": "code",
   "execution_count": 60,
   "metadata": {},
   "outputs": [
    {
     "name": "stdout",
     "output_type": "stream",
     "text": [
      "dem-base\n",
      "\n",
      "2232:  I'm wearing red today to honor the commitments women have made to our workforce &amp; their contributions to society #DayWithoutWomen #IWD2017\n",
      "3116:  It's #PinkOut Day! @RepErikPaulsen voted for the #AHCA, which would have cut funding for Planned Parenthood - a provider of critical health services for women. I stand with @ppmn today and EVERY day. #StandWithPP\n",
      "511:  Today we celebrate Women’s Equality Day to mark the adoption of the 19th Amendment, which granted women the right to vote -- years after Montana’s Jeannette Rankin first held office. There’s still work to be done when it comes to equality, &amp; I’ll keep up the fight. #mtpol #mtsen\n",
      "3315:  With pockets of the veteran population experiencing food insecurity at unusually high rates, we must commit to doing everything we can to ensure no veteran goes hungry or is homeless after putting their life on the line for our country.  https://t.co/aGh8OIKulj\n",
      "2578:  A big thank you to the @NHCADSV and @603Amanda for their dedicated work to protect survivors of sexual and domestic violence. Our state is better off for your efforts. Learn more here: https://t.co/qqNbNf93tK #MeToo #NoMore #ShatteringTheSilence\n",
      "3502:  This is not who we are. \n",
      "\n",
      "Jeff Sessions has barred victims of domestic violence and gang violence from qualifying for asylum. This change to asylum law puts women and children in danger. https://t.co/Ck12XDa1fo\n",
      "2562:  If you care about women's rights, civil rights or worker's rights, you need to care about our courts. Must-read @NYTOpinion op-ed on #TrumpJudges: https://t.co/aitmoAgK4a\n",
      "444:  It took 52 years and a mother’s advice to ratify the 19th Amendment to the U.S. Constitution granting women the right to vote. \n",
      "\n",
      "We have 80 days to flip the House. \n",
      "Register, volunteer, canvass, Vote. #CA48\n",
      "\n",
      "https://t.co/TlAbFDhtRd\n",
      "\n",
      "https://t.co/FXY0hKCPEz\n",
      "1822:  I #StandWithPP for thousands of women and families in Illinois who rely on Planned Parenthood's life-saving health care services.\n",
      "1498:  On Memorial Day, Americans pause to remember the brave men and women that made the ultimate sacrifice protecting... http://t.co/pFB1AHfWPu\n",
      "\n",
      "rep-base\n",
      "\n",
      "940:  A woman's body should not be controlled by politicians. When I'm elected to Congress, I will fight to protect a woman's right to choose. I am proud to have the support of @VoteChoice.\n",
      "\n",
      "#RoeWarriorWed #RingIn2018 https://t.co/pDgNA7kizs\n",
      "2674:  It’s day 3 of the #SchumerShutdown, and I implore Senate Democrats to give up their selfish political act so our service men and women can make ends meet. https://t.co/WFESknau8c\n",
      "3176:  I join my fellow Americans in honoring and revering the life of a beloved First Lady, dedicated wife, mother, and grandmother, and a woman who has made an immense impact on our country. Karen and I offer our deepest condolences and hold the Bush family in our prayers.\n",
      "2987:  To my mother, my wife, my daughters, and all of the women who make our state and country great: #HappyInternationalWomensDay! https://t.co/E8TtzKkV16\n",
      "542:  Last night @NYGovCuomo called the law enforcement officers of Immigration &amp; Customs Enforcement @ICEgov “thugs”\n",
      "\n",
      "These officers put their lives on the line every day to arrest brutal criminal illegals walking out of his Sanctuary jails!\n",
      "\n",
      "@ChrisCuomo How do you defend this? https://t.co/bXbzRyXw2p\n",
      "1768:  #Onthisday in 1920, the 19th Amendment was ratified, giving women the right to vote. http://t.co/rgQLaiA78O\n",
      "993:  Hosted a roundtable today with members of the West Tennessee law enforcement community for our next Governor, @BillLeeTN . It is critical that we support these men and women who put their lives on the line every day to keep us safe. https://t.co/cq6Xfr5ENE\n",
      "625:  Due to the strength of Florence, an evacuation order has been issued for parts of Brunswick County, enforced tomorrow at daylight. If you live in Brunswick and do not follow this order, you are putting your life at risk. Information can be found below.\n",
      "https://t.co/U98vq9hxeH\n",
      "2630:  Every day, but especially today on #NationalLawEnforcementAppreciationDay, we thank the brave men and women in blue who put their lives on the line to keep our communities safe. https://t.co/BhANyQphNM\n",
      "1831:  On Wednesday, I voted against a spending bill that funds Planned Parenthood. #ProLife @TXRightToLife @TXAlliance4Life #txlege\n",
      "\n",
      "dem-lead\n",
      "\n",
      "119:  REAL fear of #DNC #DEMOCRATS #Feinstein #Durbin #CatholicBashers  demonizing Americans of faith like #Obama did #Clinging2rBibles re @realDonaldTrump #SCOTUS pick is 🚫 Roe v Wade It’s loss of what #LEFT thinks they own. #Judges #US #FBI #DOJ #ROSENSTEIN https://t.co/levqVv66zS\n",
      "1228:  ☝🏽Every purchase is a donation to Planned Parenthood☝🏽Pussy Hats for SALE &amp; Free Shipping (US only) #womensrights #metoo #resist #pussyhat #etsybuyer #hooak #nadiahandmade #protest #thisisnotokay #retweet https://t.co/kgA1fabcsB\n",
      "1216:  @JordanChariton @tomwatson Remember Jordan: All politics are local. You have to start from the bottom up. I'm a bit older than you. A lot of folks in your age group don't vote. Not voting is the height of privilege. Women made the #BlueWave happen. We worked hard &amp; we're just getting started. https://t.co/Mq1wOxSTD2\n",
      "623:  Dave Wasserman says a record number of women may win election to the House. But ONLY Democrats, while GOP, which is presently 86% WHITE MEN, will LOSE women. \n",
      "\n",
      "And GOP wants to control #womensrights?\n",
      "\n",
      "Plus Kavanaugh WILL overturn Roe V Wade\n",
      "#MTPDaily\n",
      "#BlueWave2018\n",
      "#VoteThemAllOut https://t.co/PIVX33kRaG\n",
      "3327:  @realDonaldTrump Is that the same bill you're ripping health care away from women in? Did you sneak in your BS cutting all federal funding to Planned Parenthood with this? Do you really think we're not watching? #BlueWave #TrumpLies\n",
      "2883:  Meanwhile, amidst all the domestic violence, this @POTUS, @WhiteHouse, @HouseGOP and @SenateGOP continue to suck. #Resist\n",
      "https://t.co/Tz4JgGeo3e\n",
      "400:  @Maggie_Klaus @SunflowerSoul71 @JoeBiden JoeB needs taking up knitting #PinkPussyHats 2 understand that he &amp; fellow guy #Democrats have not yet shown any fight in them 4 Hillary &amp; Women, makes #WarOnWomen fr within party as real as fr GOP.\n",
      "\n",
      "Get a grip. No one can pass over WOC &amp; #HRC; fences need mending, priority.\n",
      "2838:  Defund NPR, PBS and Planned Parenthood. Let liberals support their causes with their own money. @POTUS https://t.co/IMuvBeINPM\n",
      "374:  #Resist #fucktrump: \"Planned Parenthood Launches New Campaign To Derail The Kavanaugh Nomination\" https://t.co/OvfxVOOTs3\n",
      "1232:  ✨☝🏽Every purchase is a donation to Planned Parenthood Pussy Hats for SALE &amp; Free Shipping (US only) #womensrights #metoo #resist #pussyhat #etsybuyer #hooak #nadiahandmade #protest #thisisnotokay #retweet https://t.co/XAdx7AhWpU\n",
      "\n",
      "rep-lead\n",
      "\n",
      "2826:  #MAGA #Trump's aides insist he 'deplores' domestic violence, but when he speaks for himself he's deplorable https://t.co/B461bXhvGq @dailykos\n",
      "2895:  @OliverMcGee President Donald J. Trump!  He’s saving America from the liberals, Planned Parenthood, the swamp, illegal aliens, ISIS, violent gangs, opioid crisis, poverty and unemployment, fake news! 🇺🇸 #MAGA\n",
      "762:  Pro-lifers should watch new Roe v. Wade documentary despite its pro-abortion bias #HoseaInitiative #News #Life #Trump #God #Love #Truth #Maga @NCRegister  https://t.co/Yzh3q8SItQ\n",
      "3318:  New post: Bizarre: Planned Parenthood Holds ‘Fun’ Pie-Baking Contests https://t.co/5920ppT26Y #muller #news #politics #trump\n",
      "3398:  @LilaGraceRose @WalshFreedom @Savethe8thInfo Wow, much respect. Although I’m pro-life, I’m all for women having the right to choose... unfortunately abortion clinics here in the #USA are big business, especially in funding #Democrat leaders, who in turn mostly negatively impact minorities’ state of minds. #MAGA #Irish\n",
      "1329:  This is what would happen here if the Supreme Court repealed Roe vs Wade. #MAGA https://t.co/vFx3iPqFnv\n",
      "2923:  And Planned Parenthood receives Fed funding annually. They have donated over $125M to Democratic pacs/politics since 2001, over $16M of that was for the 2016 elections.  They don't need govt funding if they can afford to donate that much. END FUNDING PLANNED PARENTHOOD https://t.co/jDKwKyGzR4\n",
      "2761:  You Will Be Shocked When You Learn What Planned Parenthood Wants To Teach Preschoolers About https://t.co/Sst6NKYYYY #MAGA @realdonaldtrump\n",
      "2746:  .@realDonaldTrump #ShitHolePresident #RussiaGate #TrumpRussiaCollusion\n",
      "#GOPComplicit @GOP is governing for #Russians \n",
      "\n",
      "@FBI issues #graveconcerns about @HouseGOP memo that will put lives in danger.  #Trump doesn't care about these lives.  Why should we care about #Trump's life? https://t.co/E9yBTqbuoo\n",
      "3270:  @PPFA Is it 800 black babies aborted every day at Planned Parenthood?!  What kind of parental plan is that?!\n",
      "@colettey6 #MAGA\n",
      "\n"
     ]
    }
   ],
   "source": [
    "print_samples_all_groups(wr)"
   ]
  }
 ],
 "metadata": {
  "kernelspec": {
   "display_name": "Python 3",
   "language": "python",
   "name": "python3"
  },
  "language_info": {
   "codemirror_mode": {
    "name": "ipython",
    "version": 3
   },
   "file_extension": ".py",
   "mimetype": "text/x-python",
   "name": "python",
   "nbconvert_exporter": "python",
   "pygments_lexer": "ipython3",
   "version": "3.6.3"
  }
 },
 "nbformat": 4,
 "nbformat_minor": 2
}
