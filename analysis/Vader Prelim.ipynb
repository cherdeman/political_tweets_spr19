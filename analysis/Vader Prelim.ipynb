{
 "cells": [
  {
   "cell_type": "markdown",
   "metadata": {},
   "source": [
    "# Vader"
   ]
  },
  {
   "cell_type": "code",
   "execution_count": 1,
   "metadata": {
    "collapsed": true
   },
   "outputs": [],
   "source": [
    "# Uncomment and run this cell if the relative imports are not working\n",
    "import sys\n",
    "sys.path.append('..')"
   ]
  },
  {
   "cell_type": "code",
   "execution_count": 2,
   "metadata": {
    "collapsed": true
   },
   "outputs": [],
   "source": [
    "%matplotlib inline\n",
    "\n",
    "from utils.db_client import DBClient\n",
    "from utils.vader import VADER_Analyzer\n",
    "import pandas as pd\n",
    "import numpy as np\n",
    "import seaborn as sns\n",
    "import matplotlib.pyplot as plt"
   ]
  },
  {
   "cell_type": "code",
   "execution_count": 3,
   "metadata": {
    "collapsed": true
   },
   "outputs": [],
   "source": [
    "topics = ['civil_rights', 'courts', 'criminal_justice', 'drugs', \n",
    "          'econ_inequality', 'econ_jobs', 'education', 'environment', \n",
    "          'foreign_policy', 'governance', 'guns', 'health', 'immigration', \n",
    "          'puerto_rico', 'rural', 'russia', 'shutdown', 'social_security', \n",
    "          'taxes', 'technology', 'women_rights']\n"
   ]
  },
  {
   "cell_type": "code",
   "execution_count": 4,
   "metadata": {
    "collapsed": true
   },
   "outputs": [],
   "source": [
    "def run_vader(topic):\n",
    "    v = VADER_Analyzer(topic)\n",
    "    v.get_data()\n",
    "    v.run_vader()\n",
    "    v.outcome_by_group()\n",
    "    v.results_for_plotting()\n",
    "    v.plot()\n",
    "    return v"
   ]
  },
  {
   "cell_type": "code",
   "execution_count": 5,
   "metadata": {
    "collapsed": true
   },
   "outputs": [],
   "source": [
    "def print_samples(vader_analyzer, group):\n",
    "    for index, value in vader_analyzer.df[vader_analyzer.df.group == group].sample(10)[\"tweet_text_raw\"].iteritems():\n",
    "        print(f\"{index}: \", value)"
   ]
  },
  {
   "cell_type": "code",
   "execution_count": 6,
   "metadata": {
    "collapsed": true
   },
   "outputs": [],
   "source": [
    "def print_samples_all_groups(vader_analyzer):\n",
    "    groups = ['dem-base', 'rep-base', 'dem-lead', 'rep-lead']\n",
    "    for group in groups:\n",
    "        print(group)\n",
    "        print(\"\")\n",
    "        print_samples(vader_analyzer, group)\n",
    "        print(\"\")"
   ]
  },
  {
   "cell_type": "markdown",
   "metadata": {},
   "source": [
    "## Vader by Topic"
   ]
  },
  {
   "cell_type": "markdown",
   "metadata": {},
   "source": [
    "### Civil Rights"
   ]
  },
  {
   "cell_type": "code",
   "execution_count": 7,
   "metadata": {},
   "outputs": [
    {
     "name": "stdout",
     "output_type": "stream",
     "text": [
      "I'm trying\n",
      "Connected to political tweets DB\n"
     ]
    },
    {
     "data": {
      "image/png": "[encoded data removed]",
      "text/plain": [
       "<Figure size 432x288 with 1 Axes>"
      ]
     },
     "metadata": {
      "needs_background": "light"
     },
     "output_type": "display_data"
    }
   ],
   "source": [
    "cr = run_vader(\"civil_rights\")"
   ]
  },
  {
   "cell_type": "code",
   "execution_count": 8,
   "metadata": {},
   "outputs": [
    {
     "name": "stdout",
     "output_type": "stream",
     "text": [
      "dem-base\n",
      "\n",
      "3000:  @isee61 @DearAuntCrabby Voter suppression could be at the root of this.  They're relocating polling places and shutting down others in black and brown communities.  They're kicking folks off the rolls w/o cause and the AG isn't doing a thing.  I believe in the #BlueWave....I can't afford not to.\n",
      "8140:  @HouseGOP If only we didn't have a President who had to slander the free press and people who refuse to be \"personally loyal\". And if only House Republicans stood up to him.  #PresidentBlowhard #BlueWave\n",
      "1160:  @GOP @realDonaldTrump &amp; Cronies rolled back protections that require oil &amp; gas 2 clean up pollution they cause 2 much fossil fuel influence n US Govt threatening environment  Must #VoteGOPOut 2 get back 2 legislating 4 #WeThePeople #FlipItBlue #BlueWave2018 #GetOutAndVOTE\n",
      "4478:  @realDonaldTrump Yeah, and Israel is violating property and human rights with their wall and light war adornments. #ImpeachTrump #TrumpResign #resistance\n",
      "2839:  @CBSMiami @nikkifried @mattcaldwell_fl @DeFede Theres so much uproar, by MSM, bout a possible murder,yet in THIS COUNTRY, we KILL children born alive during abortion-&amp; #Democrats consistently vote AGAINST protecting the rights of that viable child! #Christians take NOTE! R we any better? VOTE REPUBLICAN\n",
      "2912:  Fight back against voter suppression and believe me there's always a way to make sure your vote is counted.#VoteBlue #Resist https://t.co/Z54TZeI1Xm\n",
      "2926:  Paging Baby Boomers, Gen Xers, Millennials, Gen Zers! Vote #November6th! Try voting early or absentee. Think health care, education, climate change, net neutrality, human rights, women's rights, gun control, Social Security, Medicare... #VoteBlue #FlipTheSenate #BeAVoter https://t.co/fqBHRGS06B\n",
      "1577:  Remember his war on the free press. #resist #bluewave\n",
      "\n",
      "Fury moves mountains. 11/6/18\n",
      "7409:  When Amnesty International deems you a threat to human rights @realDonaldTrump #thanksdotard #ResignNOW #resist https://t.co/Ibb1WsOzmu\n",
      "3239:  @BrianKempGA @matthew_gambill Brian Kemp is working overtime to disenfranchise eligible voters of color in of Georgia. He is breaking the law. President Carter has told him to resign. All Georgians deserve the right to vote. #VoteBlue vote for  @staceyabrams!\n",
      "https://t.co/GiAuRDPFg7\n",
      "\n",
      "rep-base\n",
      "\n",
      "6965:  Today was the first time I banned someone on my own side! He felt he was the ultimate arbiter of conservatism and attacked me for having my opinions while espousing free speech. The last thing we want is to waste energies on our own. #MAGA #conservative\n",
      "8393:  #WakeUpAmerica we must exercise our most precious right and vote in 2018 and 2020 supporting 1 of America's greatest presidents and #KAG https://t.co/8rnl1ZLJDo\n",
      "113:  “....#Trump admin has a range of conflicting strategic objectives....stabilize #Afghanistan, change #Pakistan’s foreign policy, roll back #Iranian influence in the region, contain #China....and promote #India as a net security provider.” - @ArifCRafiq  https://t.co/qQdfP484Vx\n",
      "2199:  Support free speech and retweet\n",
      "#Trump #MAGA\n",
      "#ConfirmKavanaugh\n",
      "#Infowars\n",
      "#InfowarsArmy\n",
      "#VAXXED\n",
      "#ReadTheBook\n",
      "#FreeJamesWoods\n",
      "#rogerstone\n",
      "#AlexJones\n",
      "#FreeSpeech @DonaldJTrumpJr\n",
      "@CplBart\n",
      "#SundayMorning\n",
      "\n",
      "https://t.co/rAt0z65DUW\n",
      "3920:  Smh.. Wait let me get this straight, you can literrally cause race wars , divide the whole nation , lead campaigns on hate and division, come in office roll back prison reform obama set in place , then throw a bone and be \"uniter and chief\"  😳🤔 https://t.co/s7YI61jm6k\n",
      "3442:  Ladies. I am a victim of sexual abuse as a child that I didn’t tell anyone about until my late 20s. I thought it was my fault and that I must have done something wrong. I feel your pain, but these radical Dems don’t care about your male family member’s due process. #VoteRed https://t.co/jyd2YUc2Sy\n",
      "1886:  The latest The Free Speech Daily! https://t.co/xtyWkN6qVH Thanks to @pundamaria @kataisa @Katadhin #freespeech #maga\n",
      "3986:  @steph93065 @realDonaldTrump I think that was a little jab at the Judge for claiming Acosta's 1A right was violated ..meanwhile it was the 5th  , Due Process ! As President  Trump said ..nobody respects the 1A more than myself ! LOL #MAGA\n",
      "7351:  @realDonaldTrump That's right! @TheDemocrats voted AGAINST tax cuts, jobs, rising wages and bonuses that are now making a positive difference for a great many American families! Democrats voted AGAINST!!!\n",
      "Now let's see how they spin that!\n",
      "#AmericaFirst #CitizensFirst #GOP2018 #Trump2020 #MAGA\n",
      "43:  @nowthisnews Isn’t this some out of control human right violation? 2018 USA. Fucking #maga\n",
      "\n",
      "dem-lead\n",
      "\n",
      "3144:  10 days before the election and residents in Riverside County still haven’t received their mail-in ballots. @RivCoDA seems we may have a voter suppression issue on our hands.\n",
      "6000:  Our founders knew a free press holds democracy together &amp; leaders accountable. Supporting journalists worldwide on #WorldPressFreedomDay\n",
      "8125:  With Trump making news every day, Pence has remained a quiet enabler—we must stay vigilant against his dangerous efforts to promote discrimination and roll back our efforts to promote marriage equality, healthcare for all, and protections in the workplace.\n",
      "https://t.co/3WD3I4uBkL\n",
      "5980:  Congress should be fighting for American families to have greater security, not rolling back protections Americans have come to enjoy.\n",
      "6708:  Instead of helping failed candidate Roy Moore, making sexist attack on my colleague @SenGillibrand, &amp; rolling back net neutrality, President should try new strategy for one day: Do no harm. That means coming out against tax bill that adds 1.5 tril in debt on backs of middle class\n",
      "2263:  America’s foreign policy ought to send the message that we value human rights. Learn more about my Reciprocal Access to #Tibet Act here: https://t.co/NcZay2OeeV\n",
      "5189:  Happy #WomensEqualityDay! \n",
      "\n",
      "95 years ago today, Women were granted the right to vote with the 19th Amendment to... http://t.co/qzFkJ1WFzs\n",
      "1366:  LBJ said it best when he proposed the VRA: “It is wrong – deadly wrong – to deny any of your fellow Americans the right to vote in this country.” Unfortunately, too many Republicans in Congress and state legislatures across the country don’t seem to agree.\n",
      "4684:  Voting rights are fundamental to the continuation of a democracy. That's why Pete co-sponsored the Voter Empowerment Act. #SOTU\n",
      "678:  There’s nothing more important than our right to vote. But 5 years after Shelby County v. Holder, that right is under attack because of gerrymandering, voter ID laws, voter purges and more. We need action to #RestoreTheVOTE https://t.co/FhzKrlrOfB\n",
      "\n",
      "rep-lead\n",
      "\n",
      "5261:  There is a systematic effort to discourage many people from voting: @NYTmag The new attack on Hispanic voting rights https://t.co/5Ul5kix2R7\n",
      "280:  Rolling back Title II #NetNeutrality regulations returns the internet back to the way it was: free, open, &amp; competitive. These guiding principles allowed the internet to become the greatest innovation in recent history. https://t.co/f5BRSRduwt\n",
      "288:  Free speech, as a value, is part of what makes America exceptional. Nowhere else in the world is this freedom protected like it is here. We must preserve and maintain a culture that fights against censorship.📰⬇️\n",
      "https://t.co/6Ip9QbXBKR\n",
      "5124:  Seizing the property of Americans without charging them with a crime has no place in a country founded on due process &amp; private property.\n",
      "3213:  Share a photo of you and your family and remind your friends why you think exercising your right to vote is important! Tag @StephanyForCO and 25 friends! Encourage them to do the same! https://t.co/TLoAu5vVoQ\n",
      "4720:  The Voting Rights Act of 1965 is one of the most effective pieces of legislation Congress has passed in the last 50 years.\n",
      "997:  H.R. 1861 was passed by voice today. The bill authorizes the Congressional Gold Medal award to Larry Doby in recognition of his achievements to American major league athletics, civil rights, and the military during WWII. I am proud to have cosponsored this piece of legislation. https://t.co/ZfL9auLjcM\n",
      "5749:  The House of Representatives just voted to roll back Obama's unconstitutional limitations to your 2nd amendment rights. #gunrights https://t.co/vgJrGJ7hne\n",
      "4272:  Thank you, Amb. @NikkiHaley, for your strong leadership at the United Nations. Our nation, and our allies, are better positioned to defend democracy and human rights across the globe because of your service. Congrats to Heather Nauert, a strong choice, on your nomination! https://t.co/UHwKvPRVSA\n",
      "7856:  You want to come here and live with freedom &amp; opportunities, well do it legally with due process and earn you status. \n",
      "          Follow the law, easy! 🇺🇸\n",
      "\n"
     ]
    }
   ],
   "source": [
    "print_samples_all_groups(cr)"
   ]
  },
  {
   "cell_type": "markdown",
   "metadata": {},
   "source": [
    "### Courts"
   ]
  },
  {
   "cell_type": "code",
   "execution_count": 9,
   "metadata": {},
   "outputs": [
    {
     "name": "stdout",
     "output_type": "stream",
     "text": [
      "I'm trying\n",
      "Connected to political tweets DB\n"
     ]
    },
    {
     "data": {
      "image/png": "[encoded data removed]",
      "text/plain": [
       "<Figure size 432x288 with 1 Axes>"
      ]
     },
     "metadata": {
      "needs_background": "light"
     },
     "output_type": "display_data"
    }
   ],
   "source": [
    "courts = run_vader(\"courts\")"
   ]
  },
  {
   "cell_type": "code",
   "execution_count": 10,
   "metadata": {},
   "outputs": [
    {
     "name": "stdout",
     "output_type": "stream",
     "text": [
      "dem-base\n",
      "\n",
      "2602:  Why delaying Dr. Ford's testimony may hurt #Democrats...@CBNNews Chief Political Correspondent David Brody @thebrodyfile is my guest today on the #CBNNewsDailyRundown #podcast #Kavanaugh #SenateJudiciaryCommittee https://t.co/vrPkCJzJa0\n",
      "323:  No hearings! If you are able to put your body on the line, be ready to disrupt this corrupt Republican administration from making any moves to sit a new Supreme Court judge. #MerrickGarland \n",
      "#Resist https://t.co/FeuS9Za01b\n",
      "5376:  Why progressives have to pay attention to judicial appointments on all courts: Supreme Court sides with Planned Parenthood, declines to take case https://t.co/30oOEhwxQy  #PlannedParenthood #MondayMorning #Resist #WomensRights\n",
      "3759:  @KellyannePolls @LindseyGrahamSC Such abject failure of the republicans on the Judiciary committee and @realDonaldTrump for allowing this nomination to continue. #VoteThemOut\n",
      "4112:  Real Christians want to #StopKavanaugh\n",
      "#CCOT #TheResistance #MAGA #Trump #FoxNews #Resist #ImpeachTrump \n",
      "\n",
      "A group representing 40 Christian denominations and 45 million church members demands the withdrawal of Brett Kavanaugh's nomination. https://t.co/B3vU0HZBO9\n",
      "4009:  Trump mocks Kavanaugh accuser Christine Blasey Ford #Resist #ResistTrump #Cult45 #FuckTrump https://t.co/OaqJpcqSS1\n",
      "3740:  @mliber102 😅😂🤣\n",
      "Pleez! It's called righteous indignation! \n",
      "He stands for our Constitution!  #Democrats are raping DUE PROCESS and #Kavanaugh is passionate in his defense of it!  EXACTLY! what is needed on the Supreme Court. \n",
      "#ConfirmKavanaughNow\n",
      "#SomeoneBeReadyToHandFeinsteinCaffeine\n",
      "2587:  @senjudiciary @ChuckGrassley @OrrinHatch you are revealed as heartless,political dinosaurs.The demand for Dr. Ford's written by tomorrow &amp; testimony Monday is disrespectful;there is no true need to rush,except for your gain.FBI must investigate. #TheResistance #Resistance #Resist\n",
      "4752:  @kylegriffin1 @orblueduck Angry as I am about Kavanaugh sham confirmation?\n",
      "\n",
      "☑️REGISTER to VOTE: https://t.co/Fmsrrgo8nO  \n",
      "and confirm that you're registered\n",
      "\n",
      "☑️Get out the VOTE: #GOTV \n",
      "\n",
      "☑️DONATE to Democratic candidates #GrabYourBallot\n",
      "\n",
      "☑️VOTE November 6 #VoteBlue\n",
      "\n",
      "https://t.co/fImoCXpYk5\n",
      "2508:  @ByronYork This is complete BS. #DrFord has had months to prepare. She is colluding with the #democrats to delay Judge Kavanaugh’s appointment while they cook up the next scam. #ConfirmJudgeKavanaughNow #ConfirmKavanaughNOW\n",
      "\n",
      "rep-base\n",
      "\n",
      "2070:  @NewYorker Why don’t you just go ahead and begin addressing him as Supreme Court Justice Kavanaugh. Thanks in advance. #maga\n",
      "3085:  It's all about stalling so #Kavanaugh will not be a sitting SC Judge come first week in October, so as to not be involved in the Supreme Court's next full term! And the #democrats KNOW THIS!!!\n",
      "#GOP had betted get to the vote!\n",
      "Because we'll be watching and voting. #WalkAway https://t.co/dBILsaQEFV\n",
      "6712:  @realDonaldTrump @POTUS Would you mind stating just ONE thing?   Besides the tax increase law in December and the Supreme Court indoctrination you haven’t signed ANYTHING....zero other laws....perhaps I’m missing something.   Will you please enlighten us?   I’m sure it will all fit in one tweet #maga\n",
      "2612:  WHY CHRISTINE BLASEY FORD’S HIGH SCHOOL YEARBOOKS WERE SCRUBBED\n",
      "\n",
      "#WalkAway #WalkAwayCampaign @mrtom2360 @TomBalek @unifyusa @DebbieCanWeTalk @Beylotte @MtnCOLady @AshevilleTeaPty #MAGA \n",
      "\n",
      "https://t.co/qDmwV1pwZT\n",
      "5373:  @CBSNews .. Key takeaway: #maga @realDonaldTrump 's conspiratorial, colluding &amp; treasonous  #Republicans in the Senate Judiciary Committee should be indicted for obstruction of justice.. including those in the House of Representatives. .\n",
      "\n",
      "#FFS .. https://t.co/JfnBvR976M\n",
      "5182:  U.S. Supreme Court Allows Children’s Climate Lawsuit to Proceed. Interesting,  #TRUMP tried to get this thrown out of court!!   #ClimateChange #GlobalWarming #Climate \n",
      "\n",
      "https://t.co/QjtwqPlI49 https://t.co/gjcR5jyunJ\n",
      "6827:  #MAGA #AmericaFirst Wisconsin Supreme Court election: Get Out and Vote Today for Michael Screnock. Do it! https://t.co/Qoq3F2wIny via @reddit\n",
      "2737:  I agree. If he could behave lil more presidential, lay off tweeting/commenting unimportant issues, we'll keep the House. Couldn't believe today's tweet re: Dr Ford! I wish Melania could rub off on our President#trump2020 https://t.co/7nZBOEbMYW\n",
      "3872:  .@SenFeinstein \n",
      ".@SenKamalaHarris \n",
      "\n",
      "After carefully evaluating this report, I'm sure you'll now change your minds and vote YES on Judge Kavanaugh's confirmation.\n",
      "\n",
      ".@realDonaldTrump \n",
      "#MAGA https://t.co/TBGmda7wKr\n",
      "6697:  @POTUS UH-OH,DACA folks r #HereToStay, thx2latst Supreme Court ruling!BRAIN-DEAD Trumpublican Party is going2get its head handed2itslf n NOV! #indict #impeach 44 1/4, our1stFAKE(Rusn-elctd) con man Pre$ #boycott @realDonaldTrump #Resist #Trump @CNN @MSNBC @BarackObama @SenSchumer\n",
      "\n",
      "dem-lead\n",
      "\n",
      "4004:  Letter to the editor &gt;&gt; Judge Kavanaugh's nomination is \"too important to be taken lightly, as Heller appears to be doing.\" #NVSen\n",
      "https://t.co/vENcTNl37q\n",
      "4911:  Today Senate Republicans are “plowing right through” with two controversial circuit court nominees who have worked to restrict voting rights and strip health coverage for those with pre-existing conditions.\n",
      "523:  I’m with @WhipHoyer @RepSchneider @CongressmanRaja and our public service #Union brothers and sisters discussing how we will move forward past the anti-worker #Janus decision at the Supreme Court. \n",
      "\n",
      "We’ll brief the press in a few minutes. \n",
      "\n",
      "Watch it LIVE: https://t.co/6MDTclSdbf https://t.co/H6zmIzBtjh\n",
      "6262:  We can’t have another justice who values corporate rights more than individual workers' rights. Gorsuch cannot be on the Supreme Court.\n",
      "4545:  We will keep up the incredible energy that has been building across this country by young people, by women, by good citizens who know in their hearts that America is better than this, and we deserve better than the likes of power hungry men like Donald Trump and Brett Kavanaugh.\n",
      "226:  The Supreme Court does not and should not exist as a political tool or, as Justice Breyer says, to \"obscure...the true value of protecting freedom of speech.” Yet here we are. Another attack on women’s rights. We must stand together and win in November. https://t.co/HLaxXTc20B\n",
      "536:  We cannot risk a Supreme Court that would put in jeopardy a woman's right to control her own body.\n",
      "\n",
      "Our job: mobilize Americans to demand the Senate must not vote on any potential Supreme Court justice until people have had a chance to make their voices heard in November. https://t.co/sdMgpzNGeQ\n",
      "5855:  A successful redistricting measure in Ohio will protect the right to vote, as will a Democratic Supreme Court in Pennsylvania.\n",
      "1825:  “If Brett Kavanaugh is confirmed, the gun industry will have new ammunition in their war to overturn commonsense laws aimed at protecting our children, keeping our streets safe, and stopping deadly firearms from falling into the wrong hands.”\n",
      "https://t.co/vFnEXPC3tC\n",
      "2000:  Yep. I think we should get out of the last century &amp; televise Supreme Court hearings. Audio tapes are good but when the Court is deciding people’s health care &amp; rights to marry &amp; vote, all should watch, not just people who can afford to come to D.C. &amp;be lucky enough to get a seat https://t.co/k7fpU5n5yS\n",
      "\n",
      "rep-lead\n",
      "\n",
      "3110:  Today, I was compelled by my duty to our country, the people of Mississippi, and as the first woman to represent our great state in Congress to speak in strong support of Judge Brett Kavanaugh. The confirmation process should NOT be wielded as a political weapon! https://t.co/TlojYBY9z0\n",
      "6240:  @SenTedCruz    I am available to be a witness, and give my testimonial in support of president Trump's Supreme Court Judge nominee.\n",
      "6905:  Mike Pompeo, President Trump's pick for Secretary of State, should be confirmed by the Senate as soon as possible. Playing political games with such an important position is not only petty, it puts America's safety and security at risk. I will vote to confirm! #Cindy2018 https://t.co/jYWfznKoZY\n",
      "679:  My statement on President Trump nominating Judge Brett Kavanaugh to the Supreme Court. https://t.co/97ysyV4G4N\n",
      "6231:  Here’s a behind the scenes look at my meeting with Supreme Court nominee Judge Gorsuch today. More photos and video to follow. https://t.co/0YJBPruaER\n",
      "6466:  By a vote of 7-2, the Supreme Court rightfully stepped in to block these lawless injunctions. Federal law is clear: @POTUS has wide constitutional &amp; statutory authority over immigration policy and the steps needed to protect national security. -&gt; https://t.co/YYpaEu80vs\n",
      "6936:  Sen Klobuchar voted NO on confirming Mr. Pompeo for Sec of State AND she voted NO for confirming Mr. Grenell for ambassador to Germany!  Chronic obstruction is NOT nice !\n",
      "667:  Congratulations to Judge Brett Kavanaugh on your nomination to the U.S. Supreme Court! We’re all excited to see you on the bench. #NDSen #SCOTUS https://t.co/leZ3JgZEOl\n",
      "2990:  The harassment advocated by Rep. Maxine Waters against her fellow members of Congress is beyond disgraceful.  \n",
      "\n",
      "The Senate Judiciary Committee is the place to have a meaningful discussion on whether Judge Kavanaugh should be confirmed to the United States Supreme Court.\n",
      "4375:  .@TimKaine &amp; his “energetic activists” are now mobbing Senate office buildings even though Judge Kavanaugh was cleared.\n",
      "\n",
      "But Kaine won’t #ReleaseTheNames of Senators whose sex assault claims were paid off w/taxpayer money!\n",
      "\n",
      "Aren’t we tired of the Clinton-Kaine double standard? https://t.co/kcSPx9kinH\n",
      "\n"
     ]
    }
   ],
   "source": [
    "print_samples_all_groups(courts)"
   ]
  },
  {
   "cell_type": "markdown",
   "metadata": {},
   "source": [
    "### Criminal Justice"
   ]
  },
  {
   "cell_type": "code",
   "execution_count": 11,
   "metadata": {},
   "outputs": [
    {
     "name": "stdout",
     "output_type": "stream",
     "text": [
      "I'm trying\n",
      "Connected to political tweets DB\n"
     ]
    },
    {
     "data": {
      "image/png": "[encoded data removed]",
      "text/plain": [
       "<Figure size 432x288 with 1 Axes>"
      ]
     },
     "metadata": {
      "needs_background": "light"
     },
     "output_type": "display_data"
    }
   ],
   "source": [
    "cj = run_vader(\"criminal_justice\")"
   ]
  },
  {
   "cell_type": "code",
   "execution_count": 12,
   "metadata": {},
   "outputs": [
    {
     "name": "stdout",
     "output_type": "stream",
     "text": [
      "dem-base\n",
      "\n",
      "321:  This is hideous. This is a clear example of how our justice system is based on the fundamental truth of “guilty till proven rich”.  It’s nauseating! https://t.co/LYhAaaN1AW\n",
      "238:  @FoxNews #Trump never institute criminal justice reform. His friends who own for-profit prisons won’t allow it.  #Trump puts out false narrative to distract us while he and cronies raid our country. Wake up! We are being fleeced by someone who doesn’t pay his share of taxes. #RESISTANCE https://t.co/j02E6ZHYRO\n",
      "776:  A justice system cannot function if the investigators face being fired by those they investigate.\n",
      "\n",
      "#resist #trump #trumprussia #mueller #SaturdayMorning\n",
      "757:  @RWPUSA @CNNPolitics Any Congressman that does not protect Mueller by inaction is choosing to protect a very apparent traitor.  Let the Justice System WORK!  #Resist #THERESISTANCE\n",
      "342:  @ScottHech @KMBoling Our justice system has been replaced with a \"Just Us\" system for #Piglionaires and prominent white folks.\n",
      "\n",
      "BTW: Does this clip show my age?\n",
      "\n",
      "https://t.co/TSc8AuI4OX\n",
      "\n",
      "#Resist\n",
      "166:  Sign for Real Criminal Justice Reform Now. Our brothers and sisters need us. #resist https://t.co/totbIfgHjm\n",
      "84:  @RepSwalwell @realDonaldTrump @McFaul If you can remove him over this, then surely you can do so in response to all of the other outrages? The man is destroying truth &amp; morality in Government, as well as blowing up the economy (thru' unsustainable tax cuts), the environment &amp; our justice system. ACT!! #Resist\n",
      "290:  @realDonaldTrump @realDonaldTrump \n",
      "Daily Reminder: Democrats won the House. Whitaker is anything but independent. How about you stop interfering with the integrity of our Justice System. Waiting on that report. Tick Tock.\n",
      "#Resist #NoOneIsAboveTheLaw #NotAboveTheLaw #Bye\n",
      "761:  Republicans are thumbing their nose at the “rule of law” because they don’t agree with the out come. NO one is above the law, not even @realDonaldTrump Our Justice System must be protected,respected and obeyed. #BlueWave2018  https://t.co/WN3Fzp2iDj\n",
      "282:  Get out and vote! #READ: “Five contests that could signal where we’re headed on climate change, criminal justice reform, financial reform, net neutrality, and militarism.” #VotingMatters #VoteThemOut2018 #VoteThemOut #NuestroVotoCuenta #MiFamiliaVota https://t.co/otOchvTDp3\n",
      "\n",
      "rep-base\n",
      "\n",
      "665:  #ReleaseTheMemo and lock these bastards up forever! Treason &amp; Sedition right in front of us. Enough with 2 tier justice system. #MAGA https://t.co/eQZmPLPNXH\n",
      "38:  @ElderLansing @feeonly77 @POTUS After this report,I’vegiven up #MAGA hope @realDonaldTrump I prayed their wasn’t going to b a 2 tier justice system &amp; u really were going 2 b able 2 #draintheswamp but today we saw the swamp is 2 deep &amp; runs the show.#lockthemup is done Sessions is a plant &amp;Mueller is President\n",
      "759:  @JudicialWatch enough is enough with the FBI DOJ &amp; #MUELLER This is NOT the wild west &amp; we've had enough of watching the 2 tiered justice system  (free pass for dems &amp; FBI  raids for the rest). What can we do? We must stop this madness! #EnoughIsEnough \n",
      "#MAGA\n",
      "#pray4POTUS\n",
      "383:  It's amazing and we have a 3 tier justice system! https://t.co/jSY6O4MKyR\n",
      "3:  @realDonaldTrump Restoring the lost years. Restoration. Manifestation &amp; Demonstration. EVERY House and Senate session is started by the chaplain with a prayer of FAITH. Our country &amp; justice system only works by FAITH.  #KAG #MAGA #MakeAmericaGreatAgain #KeepAmericaGreat #DEMANDRosenstein #Faith\n",
      "676:  Well, the #MAGA bots love you....returning to the justice system sounds ominous. What appointment is the odious Sessions appointing you to be odious in?\n",
      "\n",
      "I hope this is a two week notice and not an end of term type of thing. We're getting tired of that.\n",
      "\n",
      "Mueller will find you... https://t.co/lGOjE4A9Pw\n",
      "703:  @KamVTV @GenFlynn How about instead of a book they all go to jail so we can now proceed for real with #MAGA no more 2 tier justice system\n",
      "341:  @SenAngusKing \"Well if it was political, it did not work so who cares?\" comments CRAZY. Weaponized justice system not acceptable PERIOD. If do not get to bottom of it and hold accountable it is a danger to ALL ELECTIONS TO COME!\n",
      "#MAGA\n",
      "667:  Another #Trump fed judge nominee couldn't answer -  questions   re: whether he believed implicit racial bias exists in our criminal justice system!   #Racism  #racistGOP  #Hispanic #Blackexcellence  #Police #BlackTwitter https://t.co/11iw6LKQ7h\n",
      "780:  @MichaelWarchant @rjreslan @AriFleischer Better you should pass that request on to your fellow Floridian, #Trump. He's the one making a mockery of our criminal justice system and politicizing DoJ.\n",
      "\n",
      "dem-lead\n",
      "\n",
      "227:  Last year, I visited the Women’s Community Correctional Center in Oahu to learn about their transitional training programs. We need systemic reform to our criminal justice system, and to invest in programs that help with reducing recidivism and ending the cycle of incarceration. https://t.co/D9PhiqNthq\n",
      "635:  The International Cannabis Business Conference starts today on Kauai! Check out my interview with @sfgate on the Ending Federal Marijuana Prohibition Act and what it means for healthcare, criminal justice reform, and businesses like those in Kauai today. https://t.co/rQZDhSi1Qq\n",
      "672:  The Trafficking Survivors Relief Act is a common sense criminal justice reform. The current system puts survivors at risk of suffering further abuse, trauma, and recidivism by charging them for non-violent crimes they were forced to commit. We must empower recoveries instead.\n",
      "387:  I also said to reporters today that I was pleased to see the Senate pass the bipartisan criminal justice reform bill, the #FirstStepAct. I hope the House can take action on this important legislation this week.\n",
      "280:  Irresponsible tax policy also partly explains why we have the 2nd highest prison rate in the world. If we properly funded our justice system, it wouldn't need to rely on high arrest rates to generate revenue streams from bonds, court fees, assessments. We're investing in crime. https://t.co/OLTxpgU6I4\n",
      "391:  Thanks to @DickDurbin @SenMikeLee @JohnCornyn @CoryBooker @ChuckGrassley @SenFeinstein for leadership on criminal justice reform bill. Thoroughly enjoyed watching Sen Grassley in his festive red holiday sweater fight off Sen Cotton’s amendments on the senate floor last night.\n",
      "476:  Looking forward to being on w/ @fredastukes today at 4 p.m. to discuss police shootings &amp; criminal justice reform:http://t.co/nsJljRDshd\n",
      "41:  One of the reasons I want to go to Congress in 2018. I demand an investigation into the agents who complied up to the people who ordered this torture, and there should be charges and criminal justice for these torturers. #mccallforall #FamiliesBelongTogether #resist https://t.co/W56U3nQZuw\n",
      "248:  In many states across the country, you’re not only voting for candidates, but ISSUES as well.\n",
      "\n",
      "Ohio: You have a unique opportunity help end mass incarceration and advance criminal justice reform.\n",
      "\n",
      "Learn more ⬇️ https://t.co/IXwipQ9BGW\n",
      "552:  We’re long overdue for criminal justice reform. Our system is broken and unsustainable. We’ve got to take action on this now.\n",
      "\n",
      "rep-lead\n",
      "\n",
      "271:  “I am so thankful for our police keeping us safe. I am deeply disappointed Warren has continued her war on the criminal justice system.” Warren today said “We have a criminal justice system that destroys lives, that tears communities apart…”\n",
      "\n",
      "https://t.co/hZXg3d3S9N  #mapoli https://t.co/5pTY61uI0T\n",
      "109:  .@SenWarren’s blanket statements on the criminal justice system are more proof that she cannot lead in a positive way.  She is only looking for headlines.  I stand with law enforcement.  https://t.co/BUfgslX0Tr  #mapoli #masen #masen2018 #magop\n",
      "435:  Bi-partisan legislation passed:\n",
      "✔️ Farm Bill\n",
      "✔️ Tax Cuts Bill\n",
      "✔️ Criminal Justice Reform\n",
      "My official #KY1 stats: https://t.co/smsXjOUvbT\n",
      "568:  Happy to support this bill. Big opportunity to help get kids in the juvenile justice system to a better place #mn02 https://t.co/UlEgSU99yO\n",
      "542:  I am confident our justice system will bring his killer to justice. (2/)\n",
      "599:  Calling into @VickiMcKenna’s show on @1310WIBA at 3:15pm to talk criminal justice &amp; health care reform. #wiright https://t.co/IuNdPlV4om\n",
      "298:  When the left tries to label me, my Republican colleagues &amp; @POTUS as racist (LOL) - I hope they will pause for a minute to recognize that we, Republicans, are the ones pushing for criminal justice &amp; prison reform to provide 2nd chances to those who have served time in prison! https://t.co/rmC4ElMxmD\n",
      "164:  *^*Vote GEOFF DIEHL Sept 4!***\n",
      "\n",
      "“@SenWarren should retract her statement calling the criminal justice system racist. How could she throw our police officers under the bus like that? They put their lives on the line to keep us safe.” \n",
      "\n",
      "https://t.co/DZNxzlreJr  #mapoli #masen\n",
      "598:  @MCmuckraker Thanks for asking. We discussed criminal justice reform &amp; unfair sentencing, ending civil asset forfeiture, and stopping corporate welfare.\n",
      "139:  Our justice system is working. No one is above the law. https://t.co/o4pfQY210q\n",
      "\n"
     ]
    }
   ],
   "source": [
    "print_samples_all_groups(cj)"
   ]
  },
  {
   "cell_type": "markdown",
   "metadata": {},
   "source": [
    "### Drugs"
   ]
  },
  {
   "cell_type": "code",
   "execution_count": 13,
   "metadata": {},
   "outputs": [
    {
     "name": "stdout",
     "output_type": "stream",
     "text": [
      "I'm trying\n",
      "Connected to political tweets DB\n"
     ]
    },
    {
     "data": {
      "image/png": "[encoded data removed]",
      "text/plain": [
       "<Figure size 432x288 with 1 Axes>"
      ]
     },
     "metadata": {
      "needs_background": "light"
     },
     "output_type": "display_data"
    }
   ],
   "source": [
    "drugs = run_vader(\"drugs\")"
   ]
  },
  {
   "cell_type": "code",
   "execution_count": 14,
   "metadata": {},
   "outputs": [
    {
     "name": "stdout",
     "output_type": "stream",
     "text": [
      "dem-base\n",
      "\n",
      "252:  #impeachtrump,#resist, \n",
      "This is about the Fake Opioid Crisis.\n",
      "It isn't about Trump.\n",
      "Maybe we aren't getting all the news we need.\n",
      "There is a need for more news than just Trump. https://t.co/JxGY1rOczQ\n",
      "1411:  @goodoldcatchy The Trump Administration has also failed to fill the positions of DEA Director &amp; Drug Czar...that's how serious he is about the opioid crisis.\n",
      "#opioidcrisis #Resistance #Resist #VoteBlue2018\n",
      "1503:  🤡🚨 this has been Sessions mission for decades so I’m not surprised. This is why a Republican President deemed him too racist to be a judge. This is not about an opioid crisis this is about them trying to execute as many black and brown people as possible. #Resist blue🌊 https://t.co/gqtukRfoQD\n",
      "1663:  May we be so lucky. It looks like Dr. #RonnyJackson is #DoctorFeelGood in more ways then just reportedly dispensing uppers &amp; downers like candy. The #CandyMan knows what it takes to make #Trump feel good. Just what we need with the opioid  crisis killing our vets,. https://t.co/F5bAv50DoW\n",
      "1345:  Bernie Sanders wants pharma CEOs to testify on opioid crisis\n",
      "\n",
      "NO UNITY If DNC Keeps 'ANY' SUPERDELEGATES\n",
      "#BERNIE2020\n",
      "#p2 #PDA #1u #OurRevolution #ctl #uniteblue #resist #theResistance #resistance #COpolitics #COpols #COleg\n",
      "https://t.co/NsKMSAx2y5\n",
      "1538:  @MichaelAvenatti @potus negotiating noko denulearization, fighting The opioid epidemic, building the economy, protecting americans.. U R busy trying 2 get justice 4 a whore that gave him a blowjob over decade ago 😏you're not fooling anyone JUST another pathetic attempt at your stupid #resistance\n",
      "1390:  @tedlieu @SpeakerRyan You might be nice and cozy in your California district, but any Democrat from a conservative/battleground constituency who calls for #GunControlNow will only hinder the #BlueWave. \n",
      "\n",
      "Save more ppl with healthcare and real opioid crisis solutions than with gun control.\n",
      "1700:  Obama DEA Caused A ‘Raging Inferno Of Tragic Destruction’ By Mishandling The Opioid Crisis, West Virginia AG Says. https://t.co/ayVhryszmh\n",
      "#MAGA #Resist #DestroyingAmericaFromWithin\n",
      "1339:  So I hear that during the #SOTU trump talked about the opioid epidemic for a sec or two..was 'sympathetic'..this crisis does not need sympathy..if there was an 'empathetic' cell in your body you would know what 2 do..but we see what your cells are made from &amp; soon, iron. #resist\n",
      "1450:  @Havok_2018 And why it’s so important to figure out why Americans voted for him. \n",
      "\n",
      "Our electorate is in bad shape in many ways and we have to start thinking about ALL of us. \n",
      "\n",
      "The opioid crisis, income inequality, affordable health care.  All connected. \n",
      "\n",
      "#Resist\n",
      "\n",
      "rep-base\n",
      "\n",
      "1325:  FACT CHECK\n",
      "\n",
      "#Trump Has Done VIRTUALLY NOTHING to Combat the Opioid Epidemic\n",
      "\n",
      "WHERE IS THE MONEY?\n",
      " https://t.co/EZRWyf6HQk\n",
      "1341:  The Opiod Crisis Is A \"TOP\" Priority To #BuildTheWall. We Support You @ericbolling 🙏🇺🇸 #MAGA #AmericaFirst - WATCH: Eric Bolling Talks About His Son’s Death, And The Opioid Crisis https://t.co/4tdn0dpDUH by #fightbyfaith\n",
      "1535:  @realDonaldTrump \n",
      "Sir I believe you when you say you want to fight the opioid crisis and to you I ask why not legalize cannabis or at the very least medical cannabis? Doing so would more than likely decrease those dependent on opioids by half. Also would like to thank you #MAGA !\n",
      "1452:  @realDonaldTrump @realDonaldTrump @WhiteHouse @SenateGOP @HouseGOP @SenateMajLdr @SpeakerRyan @GOP\n",
      "\n",
      "Jump In Overdoses Shows Opioid Epidemic Has Worsened.\n",
      "#Trump &amp; the #GOP refuse to face Big Pharma Opioid Pushers killing us for profit!\n",
      "\n",
      "#TrumpCrimeFaily\n",
      "#RIPGOP\n",
      "#RIPAmerica\n",
      "https://t.co/TcceqOZkHg\n",
      "1393:  \"While paying lip service to the nation’s opioid crisis, the administration shows its priorities by asking for more money for Trump’s quixotic border wall than to actually address opioids.\" @Alternet https://t.co/2yMVFeALT1 #OpiCrisis18 #opioids #drugwar #warondrugs #Trump\n",
      "1488:  #PRECISELY \n",
      "@DEMOCRATS @SenateDems @LibDems \n",
      "FIGHT THE WALL -they don’t care.\n",
      "\n",
      "During a speech about new efforts to fight the opioid crisis on Monday, @POTUS once again called for a border wall, citing “90% of the heroin in America comes from our southern border.” #MAGA #45 🦁 https://t.co/nTRwXkGi1O\n",
      "524:  WATCH: President Trump posthumously pardons boxer Jack Johnson https://t.co/tKIiyggorv via @YouTube #MAGA all the way. Thank You Trump for caring about this issue and about the opioid epidemic &amp; working on prison reform, for the better. No other President before u has done this. https://t.co/uVYjkUYc98\n",
      "1378:  #Trump appointed Kellyanne Conway to lead the efforts against the Opioid crisis? And of course it's not going... https://t.co/DGLdNsm2ro\n",
      "686:  [(4/4) Dems r mostly 2 blame 4 t collective American Citizen Opioid Epidemic massacre, as a result of NOT being 4 #BorderSecurityWithTheWall. They own this, they were 4 it b4, but not now. Meanwhile, (#DavidBowie’s) ‘#TheYoungAmerican[’s] keep dying] #MAGA https://t.co/lQqQxCs5gD https://t.co/1Zk9IpBFaU\n",
      "1342:  This is one of our biggest issues -- the opioid crisis in Tennessee could be helped by legalizing cannabis in Tennessee. https://t.co/DSx9fskj6s\n",
      "\n",
      "dem-lead\n",
      "\n",
      "1405:  I sat down with Norwalk police, first responders, doctors, and patients to talk about how we can continue to fight the opioid epidemic in Connecticut. I fought to help secure $6 billion in emergency funding to address this crisis. https://t.co/tEXpHBTIwG\n",
      "307:  I met a self-professed “staunch Republican” this weekend who‘s #TeamBredesen because of the role my predecessor Blackburn played in making it harder for the DEA to fight the opioid crisis. $700,000 later, she doesn’t deserve a promotion. \n",
      "\n",
      "Time for something new here in #TN7. https://t.co/4uW5CiYeLc\n",
      "1350:  These are the priorities Democrats are fighting for:\n",
      "-Funding for the opioid epidemic\n",
      "-More funding for our veterans\n",
      "-Community Health Centers\n",
      "-Money for disaster relief\n",
      "-Protecting Pensions\n",
      "-#ProtectDreamers \n",
      "All of these ideas are bipartisan. Why no action? #DoYourJob\n",
      "87:  Check out my latest newsletter to learn about a new law that will give veterans better care, dozens of bills passed in the House to combat the opioid crisis, and an Oregon small business that is benefiting from tax reform &gt;&gt; https://t.co/MgcCf1UrlU\n",
      "646:  One thing that was absolutely clear on this visit is that the Medicaid expansion included in #ACA has been essential to fighting the opioid epidemic. If we let Republicans gut that law I helped write, we'll leave vulnerable NJans behind. That’s not something I will stand for. https://t.co/39yXMu3MUL\n",
      "993:  Fentanyl is making the opioid epidemic even worse. We need work in Congress &amp; with law enforcement to stem this tide https://t.co/ulfLUhJ9jv\n",
      "216:  Joe helped craft the Senate Farm Bill as a member of the Ag Committee and it passed the Senate in June with broad bipartisan support. Joe’s provisions would improve risk management, conservation, and export promotion programs; help fight opioid abuse; and address food insecurity. https://t.co/DZAT8mf0no\n",
      "1366:  Proud to have Becky Savage from Granger in Washington to share her family’s story and advocate for a more robust response to the opioid epidemic. Her work inspires me and is saving lives. We know it’s going to take all of us working together to end the opioid epidemic. – Joe https://t.co/1xcONHvLBi\n",
      "1102:  I will join @bpshow tomorrow morning at 8:30 am ET to discuss the opioid crisis, the #CAWildfires, tax reform, and the GOP budget.\n",
      "696:  Watch Joe talk about his efforts this year to address the opioid epidemic in Indiana. https://t.co/bKjiFGQY9v\n",
      "\n",
      "rep-lead\n",
      "\n",
      "1370:  Drug trafficking and the opioid crisis are devastating American families. We must crack down on this issue, which is why I’m working hard on the Synthetics Trafficking and Overdose Prevention Act. It's up to us to take action against this crisis. https://t.co/jSyK05deSt\n",
      "1359:  Great hearing from substance abuse prevention professionals from Harrison and Ohio Counties. Thank you for all you do to help fight the opioid epidemic. https://t.co/ShFQusotpP\n",
      "251:  Today on #OTR @SenWarren was misleading on opioids.   She voted against $12 million to help Massachusetts fight opioid addiction. @mariastephanos #mapoli #masen #masen2018 #magop\n",
      "485:  Thank you, again, to the GreenRibbonClub for hosting a forum to raise awareness of the opioid crisis, increase in suicide rate, and eliminating the stigma of mental illness.  Keep fighting to raise awareness and we will prevail! https://t.co/eFFYVlwQDj\n",
      "1465:  Today I introduced the Treating Barriers to Prosperity Act to fight the opioid epidemic through workforce development. Read more: https://t.co/1uQwTRWjfJ\n",
      "1216:  #ThisYear My colleague @RepMarkMeadows &amp; I joined @Varneyco on @FoxBusiness to introduce our bill to fight the #OpioidEpidemic - the Opioid Abuse Deterrence, Research, and Recovery Act. Watch the segment here: https://t.co/D3EV8kYuGV #OHGov\n",
      "1205:  Today, I held a bipartisan hearing on opioid related employment challenges many Americans face around the country. Congress must work together to find solutions. \n",
      "\n",
      "We're working on a way forward out of the opioid crisis, and onto the road to recovery. https://t.co/gnO37wONYS\n",
      "1105:  Tune in now to watch @HouseCommerce hearing on federal efforts to combat the opioid epidemic. https://t.co/SMMDwATjwL\n",
      "573:  .@POTUS just signed #HR6 into law. For those combating opioid abuse in our communities, this law delivers more resources to the front lines of the battle. We're not done yet, and to end this scourge, we need to keep working together. https://t.co/mVRAeFtaWU https://t.co/oqpUxiVSon\n",
      "1049:  How is Ohio doing? The opioid epidemic is devastating Ohio with no real solutions from Columbus career politicians #ThanksColumbusCartel https://t.co/gk8VHSbjZf\n",
      "\n"
     ]
    }
   ],
   "source": [
    "print_samples_all_groups(drugs)"
   ]
  },
  {
   "cell_type": "markdown",
   "metadata": {},
   "source": [
    "### Economic Inequality"
   ]
  },
  {
   "cell_type": "code",
   "execution_count": 15,
   "metadata": {},
   "outputs": [
    {
     "name": "stdout",
     "output_type": "stream",
     "text": [
      "I'm trying\n",
      "Connected to political tweets DB\n"
     ]
    },
    {
     "data": {
      "image/png": "[encoded data removed]",
      "text/plain": [
       "<Figure size 432x288 with 1 Axes>"
      ]
     },
     "metadata": {
      "needs_background": "light"
     },
     "output_type": "display_data"
    }
   ],
   "source": [
    "ei = run_vader(\"econ_inequality\")"
   ]
  },
  {
   "cell_type": "code",
   "execution_count": 16,
   "metadata": {},
   "outputs": [
    {
     "name": "stdout",
     "output_type": "stream",
     "text": [
      "dem-base\n",
      "\n",
      "1777:  Joan Greene will decrease the AZ and national poverty rate with quality/affordable education, healthcare for all, living wages, support for social programs, and by investing in infrastructure.\n",
      "\n",
      "#AZ05 #WinBlue #BlueWave2018 https://t.co/r1QTTnocYQ\n",
      "783:  There are already reports that Amazon is exacerbating affordable housing in New York and Virginia\n",
      "\n",
      "#UniteBlue #Resistance #DemForce #politics thinkprogress https://t.co/fjSTwYcskC\n",
      "601:  @tedcruz is AGAINST equal pay. @BetoORourke  is FOR equal pay. This is a no-brainer! VOTE FOR BETO! #BlueWave2018 https://t.co/GxNlIwM36d\n",
      "762:  Let's be the country we want to live in, the country that has affordable healthcare, a living wage, a clean environment, voting rights, fair elections, sensible taxes. To make it happen, #VoteDem #VoteBlue End the trump/GOP created nightmare.\n",
      "646:  In addition to the Republican boycotts already in progress on women's health,  POC, children, ERA. climate change, human rights, healthcare, social security, education, a living wage...\n",
      "#VOTEBLUE\n",
      "#November6 https://t.co/CcqmFCPLU1\n",
      "843:  @waltsimsjr @realDonaldTrump That's before we learned that big corporations supporting #Democrats were buying off their own stock to intentionally \"crash\" the market. These people will do whatever they can to bring @POTUS down. Their hatred ripples into the country and her people...and they don't give a damn\n",
      "622:  I was calling #Democrats today, &amp; one man told me somewhat apologetically, that he could not volunteer because HE WAS WORKING 4 JOBS.\n",
      "\n",
      "He was looking for candidates who supported a LIVING WAGE. https://t.co/jihsYFAZoC\n",
      "669:  Nevada women still make 81 cents to every dollar a man averages. Equal pay for equal work is essential, @RosenforNevada knows that ensuring women have the tools to fight for equality will make our families and our country stronger. #TW #BLUEWAVE #NVSen https://t.co/c6pzR13cBO\n",
      "1948:  Louisiana continues to fail. Guess Louisiana politicians figure they are immune from the #Bluewave  #lalege \"Minimum wage hike, equal pay bills fail in Louisiana Senate\" https://t.co/mXRgUjMfe1\n",
      "1914:  GOP Inc. adding language to giant omnibus spending bill that would create the world of Orwellian Big Brother where big corporations, unsupported nation states, police authorities would have access to all your information without your knowledge, permission or compensation, #Resist https://t.co/BoPzjdEV0Z\n",
      "\n",
      "rep-base\n",
      "\n",
      "30:  @economics 🚨Those Americans who Voted For Donald J. #Trump, Mike #Pence, and for #Republicans in Congress, VOTED TO:\n",
      "\n",
      "1. Give the SUPER RICH and BIG CORPORATIONS a $1.5 TRILLION Tax Cut.\n",
      "\n",
      "2. To make it EASIER for BIG CORPORATIONS to commit Trillions of Dollars in White Collar Crime.\n",
      "1892:  Automation is the greatest threat to jobs nowadays, but the solution isn't fight automation. Incentive jobs that can't be automated, the ones that require thinking.\n",
      "\n",
      "Invest in education and small business so people don't have to beg for living wages while flipping burgers. https://t.co/mQqoII8JHC\n",
      "725:  What us wrong with #Texas How can you go for Cruz over O'Rourke #BeAVoter for democracy, for healthcare, for living wage, for women's rights, for ending rampant #GOP corruption &amp; hateful rhetoric fomenting violence #VoteBetoForTexas #FlipTheSenate to get the truth abt Russia\n",
      "1770:  Look at your state, #CA - a complete travesty, ZERO affordable housing, record highs in homelessness, #CA is a model of failure that puts on display the full impact of a flawed #Socialist #Globalist mindset that is consuming the #DemocratParty .. exactly why they flock to #Trump\n",
      "1805:  @realDonaldTrump @SpeakerRyan We need to feel the same love as Big corporations! #SaveH2B and allow us to grow #MAGA https://t.co/KYwlOly0tp\n",
      "1788:  Important: #Trump is attacking almost everything the government does to protect #consumers from being ripped off by big corporations. Exhibit A: \"neutering of @CFPB\" https://t.co/BeLLL1kF5D\n",
      "1768:  @realDonaldTrump This is how you MAGA?\n",
      "#NameCalling #Bully\n",
      "All you do is:\n",
      "#MAGA 4 The White Man\n",
      "#MAGA 4 Big Corporation\n",
      "#MAGA 4 Billionaires \n",
      "\n",
      "What about #WeThePeople ? Whose looking out for us?\n",
      "2105:  One of those problems the #GOP super-majority of the North Carolina General Assembly doesn't want solved because big corporations aren't doing it. https://t.co/HMEPze50FE\n",
      "18:  The real reason \"liberal\" celebrities hate the #MAGA movement.:  With low unemployment &amp; immigration reform, they will have to start paying their nannies, cooks, gardeners &amp; toilet cleaners a living wage.  (And to keep some of their unsavory &amp; illegal proclivities hidden.)\n",
      "554:  @kanyewest No we actually don’t build factories in America, cause we would have to pay a living wage, and then the fat cat owners would have to charge people lots o money, and no one will pay for said thing made in the factory, cause really you like cheap things made in China.#maga\n",
      "\n",
      "dem-lead\n",
      "\n",
      "1383:  After more than 15 years of their real wages declining, contract airport workers at Dulles and Reagan National will be paid a living wage! https://t.co/n1Bbc9gggo\n",
      "1758:  This wasn't \"tax legislation\" for everyday Americans. \n",
      "\n",
      "This was a tax scam that only benefits the @GOP's wealthy donors, big corporations, and the 1%. https://t.co/EUtDPBC4hl\n",
      "960:  Women deserve equal pay for equal work. Thanks to Lilly Ledbetter for joining today’s hearing, ‘When Women Succeed, America Succeeds.’\n",
      "1189:  It's past time women receive equal pay for equal work. On the anniv. of the #LillyLedbetter Fair Pay Act, we’re still fighting for fairness.\n",
      "1302:  Proud to have helped secure a $30 million grant from @HUD that will allow Denver to build more affordable housing. https://t.co/FXeaEFkadP\n",
      "1522:  Women deserve equal pay for equal work. Women’s equality isn't identity politics; it's the backbone of econ growth. https://t.co/pEisoO2L1g\n",
      "556:  If Scotland can demand that Amazon get off corporate welfare and pay its workers a living wage, then so can the United States. https://t.co/5WLeiyfmF7\n",
      "1406:  Heartbreaking that Trump fails to recognize either the moral imperative or economic opportunity in addressing climate change.\n",
      "1092:  Matsui Statement on Equal Pay Day: http://t.co/ru9j4Ez\n",
      "1665:  Vote on the tax bill soon. I'll be voting no because this bill hurts the people we should be helping - the middle class - and helps those who are not hurting – big corporations. Thanks for all the calls! #GOPTaxScam \n",
      "\n",
      "https://t.co/rC7MWrYjmF\n",
      "\n",
      "rep-lead\n",
      "\n",
      "213:  The CTE bill also contained my legislation, the New HOPE Act, to help states address burdensome occupational licensing requirements that too often are a barrier to economic opportunity.\n",
      "1320:  Divesting authority from 1 director to a 5 member board will help ensure American families have access to economic opportunity. (2/2)\n",
      "572:  My opponent’s attacks are desperate and false. No doubt I support equal pay and working moms. I’m a husband and father of four daughters. How could I not? #NJ11 https://t.co/Ia5S6rzLjT\n",
      "1483:  We need your help spreading our message of economic opportunity and national security. Join us. Every dollar counts. https://t.co/Kq1TxuJ7JK https://t.co/BgmfZJPDrA\n",
      "2047:  My bill, the SIT-REP Act, passed favorably out of the Veterans Affairs Economic Opportunity Subcommittee today.  This important bill will ensure Veterans are not penalized for bureaucratic delays that may occur when they access their GI benefits in order to pursue an education. https://t.co/qeRmlksoeR\n",
      "679:  Great to join with @LISCMaurice for new op-ed in @thehill: #OpportunityZones \"a game-changing tax program can spur economic opportunity for all\" https://t.co/KdnV6UzBaO\n",
      "1910:  $25 Billion if managed properly can easily build us 130,000 new units of affordable housing. We are in this housing crisis because of poor government management. Nothing else. https://t.co/TJMfPzGufZ\n",
      "980:  I believe in equal pay for equal work. But according to Pres. Obama's logic, women at the White House make 88 cents for every $1 a man makes\n",
      "1874:  We're FIRED UP to join the STRONG patriots of the @MacombGOP, this evening at 7 pm ET, to share our conservative-outsider message focused on national security and economic opportunity for ALL Michiganders! 🦅🇺🇸 #LetsFlyMI #TeamJohnJames #MISen https://t.co/ThlJvDJ7HC\n",
      "1062:  I will work to fight for women so they get access to equal pay for equal work #AZ02\n",
      "\n"
     ]
    }
   ],
   "source": [
    "print_samples_all_groups(ei)"
   ]
  },
  {
   "cell_type": "markdown",
   "metadata": {},
   "source": [
    "### Economy/Jobs"
   ]
  },
  {
   "cell_type": "code",
   "execution_count": 17,
   "metadata": {},
   "outputs": [
    {
     "name": "stdout",
     "output_type": "stream",
     "text": [
      "I'm trying\n",
      "Connected to political tweets DB\n"
     ]
    },
    {
     "data": {
      "image/png": "[encoded data removed]",
      "text/plain": [
       "<Figure size 432x288 with 1 Axes>"
      ]
     },
     "metadata": {
      "needs_background": "light"
     },
     "output_type": "display_data"
    }
   ],
   "source": [
    "ej = run_vader(\"econ_jobs\")"
   ]
  },
  {
   "cell_type": "code",
   "execution_count": 18,
   "metadata": {},
   "outputs": [
    {
     "name": "stdout",
     "output_type": "stream",
     "text": [
      "dem-base\n",
      "\n",
      "8075:  Will Wall Street dump Trump? Please join us in the #Resistance https://t.co/MecO7346tO\n",
      "3545:  #Trump, who wanted to spend $92M on a parade in his honor &amp; wants $26B for a Wall in his honor, now wants to scrap a pay raise for civilian federal workers, saying the nation's budget couldn't support it. #Resist #MAGA https://t.co/4fkn5xHd9W\n",
      "5469:  Remember what was accomplished by the Obama Admin? Don't forget the healthy economy! The 35%+ increase in the stock market. Low mortgage rates. Health care! Democrats RULE! \n",
      "\n",
      "@GOP is the party of lying and denying. #VoteThemOut2018 #VoteThemOutNov6th #VoteThemAllOut #VoteThemOut https://t.co/fEJ0pylyJx\n",
      "3178:  Hey fellow resisters! Please follow the love of my life, @DamonFillman. He’s the best guy I know and fights for workers rights everyday by representing a teachers Union. Thank you! #FBRParty #UnionStrong #Resistance\n",
      "3029:  Expose hypocrisy: Trump wants to let Wall Street exploit troops https://t.co/Dm3cIHo6zJ via @CREDOMobile #resist #TrumpParade\n",
      "7173:  NOT A #WhichHunt!\n",
      "PROTECT #MUELLER!\n",
      "\n",
      "#MuellerProbe has worked!\n",
      "3 people sentenced to prison\n",
      "1 person convicted at trial \n",
      "6 people pleaded guilty\n",
      "35 people &amp; entities charged\n",
      "91 criminal counts\n",
      "#KINGTRUMP #DumpKingTrump #WhichHunt #Russia #ExGOP #ExGOPer #GOP #RESIST #MSNBC #FOX https://t.co/45bDfUPDqm\n",
      "6279:  A Democratic majority will fight #ForThePeople:\n",
      "● Lowering health care costs and prescription drug prices;\n",
      "● Increasing pay through strong economic growth by rebuilding America;\n",
      "● Cleaning up corruption to make Washington work for the American people.\n",
      "#VoteBlue #TakeItBack https://t.co/engvAo0Vrt\n",
      "17885:  AFTER STARTING A TRADE WAR THAT WILL INCREASE THE COSTS OF 1000s OF PRODUCTS - #Trump WILL NOW SHAME OUR COUNTRY IN THE EYES OF THE ENTIRE WORLD! HE'S A NO-NOTHING FOOL! WE WILL TAKE OUR COUNTRY BACK!  @SpeakerRyan @SenateMajLdr @Morning_Joe #MorningJoe #TheResistance #Resist https://t.co/qwLoIYWkYi\n",
      "1247:  America’s right-wing: idiocy and hate.\n",
      "\n",
      "1. Asylum is 100% illegal\n",
      "2. Immigrants, both legal and illegal, grow the economy and jobs. This is why the US grew much faster than Europe after WWII.\n",
      "\n",
      "#FamiliesBelongTogether #BlueWave https://t.co/HOe9wRjdEl\n",
      "8193:  trump.... whether he is there or not...charging taxpayers to pay for his party, while government workers won't be getting a pay check is so.....\n",
      "trump.\n",
      "#Resist\n",
      "#TrumpShutdown \n",
      "#TrumpResign https://t.co/iDNXX70CU9\n",
      "\n",
      "rep-base\n",
      "\n",
      "20434:  @realDonaldTrump @USTradeRep Looking forward to the positive results for the working middle class #MAGA https://t.co/afWSTjWYgj\n",
      "20499:  And creating more jobs in healthcare and mental health as we lose the environmental beauty and cleanliness which can keep us healthy in body and spirit.\n",
      "Yeah, #MAGA. https://t.co/babZRv47H4\n",
      "5074:  @LauraLoomer @realDonaldTrump I love President Trump too!♥️Good Job, Laura👍🏼 #MAGA🇺🇸\n",
      "6366:  Erik Paulson, Jason Lewis, Jim Hagedorn and Pete Stauber are #MAGAts. They are my losers and never get the job done. We don’t need any of them in Congress for the hateful #MAGAtAgenda. They have my Weak Endorsement! #VoteOutGOP #TrumpsLosers https://t.co/UFNn1ZbUbi\n",
      "4521:  41% REALLY!! Who sold you that crap? Obama? Get a job pay taxes you owe and don’t leach off the rest! That way When us deplorables get fed up you’ll all ready be employed! Vote Red 2018 #MAGA https://t.co/yLsmYNODOE\n",
      "3852:  @DanaPerino @SenSasse @SenSasse made a wonderful point with that yesterday. As did @LindseyGrahamSC: if you want to pick (activist) judges, win elections. To win, they need a real platform, with policies that work for the American people. That's how Trump won #MAGA\n",
      "7247:  Retail disappointments, energy decline hit Wall Street https://t.co/4LDZ4uqdPj https://t.co/GA5oXyiqcm #news #breaking #trump https://t.co/eLGZidlKqJ\n",
      "20933:  I started a new job,  which I absolutely LOVE, helping ppl with substance abuse disorder and the homeless community,  but I don't get much time on Twitter bc I've also been moving.. But I will be making time bc ppl need to know that #QAnon is REAL &amp; #Trump is SAVING THE WORLD\n",
      "17971:  $1000 is not crumbs. \n",
      "At least @potus realizes that Jobs, raises, tax cuts and bonuses are important to the middle class. \n",
      "#AmericaFirst\n",
      "#ReleaseTheMemo https://t.co/NIMZBHpqMR\n",
      "3430:  The Kids Are Dying Across the Country and the President is Cheering About Tax Cuts and How High the Stock Market Is #Trump #Opioids #OpioidCrisis #Republicans #Congress #Midterms #MidtermElections #Narcan #WallStreet #TaxCuts\n",
      "\n",
      "dem-lead\n",
      "\n",
      "5113:  🚨 BREAKING 🚨\n",
      "\n",
      "US Unemployment rate drops to 3.7%, the lowest in nearly 50 years. RT to spread the news! https://t.co/4SPdHqdDN7\n",
      "10180:  On #CitizenshipDay, let’s work to get #CIR done. #Timeisnow to fix broken #immigration system, keep families together &amp; grow our economy.\n",
      "1048:  Almost 1.6 million people work in industries targeted by this trade war. Ranching and farming communities of the Texas panhandle are hit especially hard including 44% of jobs in Parmer County. These new trade policies are already threatening our state. \n",
      "https://t.co/llu4SX7Tsa\n",
      "14553:  Working in secret to gut health care for working Americans &amp; children insults our democracy. We represent the people &amp; must listen to them.\n",
      "16668:  While Americans were sleeping last night, Senate Republicans passed a massive tax cut for the rich paid for by a tax hike on the middle class. https://t.co/dasUjtIHgo\n",
      "15457:  I joined @CoryBooker &amp; a bipartisan delegation to fund a new NJ Portal Bridge. We need high-quality infrastructure to grow our economy. https://t.co/qG2SkKamKI\n",
      "2701:  \"Making his fourth campaign stop in Longview, O’Rourke said America faces choices in its investments — in early childhood learning, a higher minimum wage, health care and teacher pay.\" https://t.co/U6Ugodg4WK\n",
      "11995:  Disappointed in #TPA vote. Any trade deal should create jobs, treat US workers fairly, &amp; give working families a voice. #StopFastTrack #TPP\n",
      "2862:  It's been nearly a decade since the minimum wage was raised. That's why I'm all in on the #FightFor15 – it's time to give hardworking Nevadans a raise.\n",
      "https://t.co/P19YdLYbA2\n",
      "13366:  Recently shared my story of running a small business at @SBA_NewEngland event. Here's the long-story-short video https://t.co/AO4Y0R0mvA https://t.co/btHi6Uznnt\n",
      "\n",
      "rep-lead\n",
      "\n",
      "15142:  Last night, I introduced my Wall Street reform bill on the House Floor. Watch my speech here: https://t.co/mAKOIj0HrH\n",
      "3306:  “America's 30 million small businesses are the engines of our economy, one that's been turbocharged under President Trump.” #SmallBusiness #TrumpEconomy https://t.co/skMV3Kqm07\n",
      "2821:  Honored to receive @NAWBONational’s endorsement. As Chairman of the Small Business Committee, I’ve worked with business owners across the nation on policies that will help their businesses grow &amp; prosper. I will continue these efforts in the next Congress.\n",
      "https://t.co/IRk4reYgwm https://t.co/d3A0w6Eqie\n",
      "6557:  I appreciate Majority Whip @SteveScalise returning to Charlotte to spend some time with our campaign heading into the final weekend before the election. He also made time to meet with some business leaders at a luncheon with the @cltchamber https://t.co/IWDlfeoQiF\n",
      "17456:  What a great day! I’m running for Congress to make sure the people of the 5th District of Texas are represented  WELL by the best conservative leader that knows how to create jobs, stand firm on first principles, &amp; mentor others in our liberty values. Thank you, friends. #TX05\n",
      "11539:  Round Rock keeps on creating more and more jobs! I'm so proud of our community's strong economy. http://t.co/Ooe0Ttjtfu\n",
      "14958:  I'll never stop working to eliminate burdensome red tape that hurts small businesses and our local economy. https://t.co/EmxBCU3ugb\n",
      "9098:  This week the House will vote to #StoptheTaxHike on small businesses. To view this week's full floor schedule visit: http://t.co/kYik09af\n",
      "14171:  http://twitpic.com/5i96sb Taking a tour of NCR in Columbus.  They make state of the art ATM machines and are bringing new jobs to the area\n",
      "597:  Trump is not giving lip service to America First. I support fair trade practices including tariffs and a level playing field for our great NC and American workers! - R https://t.co/kyN3fqmmKh\n",
      "\n"
     ]
    }
   ],
   "source": [
    "print_samples_all_groups(ej)"
   ]
  },
  {
   "cell_type": "markdown",
   "metadata": {},
   "source": [
    "### Education"
   ]
  },
  {
   "cell_type": "code",
   "execution_count": 19,
   "metadata": {},
   "outputs": [
    {
     "name": "stdout",
     "output_type": "stream",
     "text": [
      "I'm trying\n",
      "Connected to political tweets DB\n"
     ]
    },
    {
     "data": {
      "image/png": "[encoded data removed]",
      "text/plain": [
       "<Figure size 432x288 with 1 Axes>"
      ]
     },
     "metadata": {
      "needs_background": "light"
     },
     "output_type": "display_data"
    }
   ],
   "source": [
    "edu = run_vader(\"education\")"
   ]
  },
  {
   "cell_type": "code",
   "execution_count": 20,
   "metadata": {},
   "outputs": [
    {
     "name": "stdout",
     "output_type": "stream",
     "text": [
      "dem-base\n",
      "\n",
      "152:  At least it got out of there parents basement, maybe they get a job and pay there student loans https://t.co/mXN6VQSlMg\n",
      "936:  @NickPonticello I'm First Nations, an immigrant, a starving artist, a U.S. Marine, I can't afford health insurance, I have massive student loan debt and understand that words mean things. #resist #Drumpf\n",
      "240:  #LebronJames #LebronJamesschool #Akron #Ohio #KingJames #NBA @NBA I Promise Ohio Public School #VetsResistSquadron #VetsAgainstTrump #VetsRESIST #FBRparty #FBRSaturday #FollowBackRESISTANCE #RESIST #ProtectMueller #ProtectOurVotes #SaturdayNight #Saturdaynightlive #Sunday https://t.co/N6wdsOlrxH\n",
      "953:  He is a product of the public school system. Have Pity on him. He doesn’t know any better. #Teachers #education #democrats https://t.co/9bwL1Q3NxI\n",
      "2763:  #ItsPersonal\n",
      "\n",
      "If your voting for #DemocRATs giving free college tuition to illegal aliens while your still making payments on your student loans!\n",
      "571:  I’m giving 💰 to this guy bc I want him to represent ME in the IN State House! @SamFor72 Sam Charbonneau is ready to support public schools, close the gender pay gap &amp; much more. MEET YOUR CANDIDATES! At the very least LEARN ABOUT THEM! https://t.co/Sh1LYXbMql #Resist #Voteblue https://t.co/oz7Fa6BOB9\n",
      "823:  AADC MO Chair Minyi attended @STLYoungDems @AAAFund endorsing @cortvo event last night. Cort will protect healthcare for everyone, invest public education, strengthen the economy in MO. Cort will be your Voice in DC! Missourians deserve better #Cort4Congress #MO02 #VoteBlue https://t.co/7uGHaOtAMW\n",
      "667:  My Arizona early voting mail-in ballot came today. In the next hours, I will be voting to preserve women's rights, LGBTQ rights, healthcare, Social Security, our environment, our public schools. But that won't mean I'm done. I'll still be working. This is too important. #VoteBlue https://t.co/H95S6bXWZs\n",
      "489:  If you like having public schools and libraries, if you believe in the work of the police and fire brigades, if you support the branches of the military, if you like having safe roads and airports, then you my friend are socialist. Just saying. #BlueWave #SocialGood #Progressives\n",
      "699:  With Bold new investments by the government, coupled w/ states reinvesting in higher education &amp; colleges holding the line on costs, @TinaSmithMN @SenatorHeitkamp @NelsonForSenate will ensure ALL Americans will be prepared for the future. #TW #VOTEBLUE https://t.co/3gGKyzXXPr\n",
      "\n",
      "rep-base\n",
      "\n",
      "2309:  President Trump did not attend public school. #Trump #impeach\n",
      "2793:  @AlbertsonB2 @sgadarian There's already a shortage of teachers. This barbaric #NRA hatched concept to arm teachers will only serve to accelerate the crisis in recruitment. \n",
      "\n",
      "Coupled w school privatization schemes peddled by #Dems &amp; #GOP a bipartisan agenda against  public school professionals is clear.\n",
      "2507:  @realDonaldTrump @realDonaldTrump , just remember, most of these Hillary trolls r severally handicapped in their thinking (PUBLIC EDUCATION) and suffer from SEVERE MENTAL DISORDER. Just read the comments. #LiberalismIsAMentalDisorder\n",
      "#BuildTheWallNow\n",
      " #COVFEFE  #Maga #RedWaveRising2018 #Trump2020 https://t.co/T7sBCiAs8A\n",
      "2171:  https://t.co/UcxIQz49vU: Buying Choices: Internationalisation in Higher Education: Europea... https://t.co/qHTokSiomu via @amazon #JanBooks #PrimeBooks #Reading #WhatToRead #SuperBowl Brady #WednesdayWisdom #GlobalShipping Russia #Happy Academic Books #Trump\n",
      "2270:  #Texas Pastor: School District Told Us To Remove Cross From Sanctuary\n",
      "\n",
      " https://t.co/6Gm95LCWwR #MAGA #TCOT #WinBlue #UniteBlue #CCOT\n",
      "\n",
      "a group of atheists, agnostics &amp; free-thinkers complained about public school system using a building that belongs to Christian church!\n",
      "2261:  @Chris_Camp33 @FoxNews @PolkCoSheriff Which of Trump's friends will get the contract $$$$ for providing Guns to ALL the public schools in the country &amp; ALL the Churches &amp; All the fast food joints. GET REAL! The great #GOP Cash Grab continues!\n",
      "2149:  Florida lawmakers consider bill requiring public schools to display 'In God We Trust' #TCOT #MAGA https://t.co/dkp7dFFueY\n",
      "2368:  Can you believe this BS! HS/Grade School 'KIDS' walking out of school, PROTESTING! WTF! This is what Liberalism &amp; the #AFT have done to public schools! https://t.co/38VWQ6Nexg #MAGA #NRA #cnn #msnbc #foxnews #nytimes #washingtonpost #2ndAmendment #gunrights #florida #politico https://t.co/VKfsnAMecd\n",
      "2211:  The \"Teaching for Change\" website makes it clear that the goal is to push its collectivist, racist, Marxist-laden lessons on the 50 million K-12 public school children all day and year-round.\n",
      "\n",
      "https://t.co/DES8YewnqI #MAGA #TCOT #WinBlue #BlackLiesMatter @nhsmarxists @EHSMarxists https://t.co/M4NTnUdABq\n",
      "335:  I remember learning about The Tuskegee Airmen in school. A happy lil tale.\n",
      "\n",
      "But I had to learn about The Tuskegee Experiment on my own, years later. Not so nice.\n",
      "\n",
      "That’s the American Public Education System in a nutshell: Conditioning and propaganda.\n",
      "\n",
      "#MAGA #WhenWasThat?\n",
      "\n",
      "dem-lead\n",
      "\n",
      "573:  We’ve got our first debate on Saturday in Missoula, and I’m looking forward to hearing @MattRosendale try to defend his stance on removing federal funding for higher education while we’re on a college campus. https://t.co/W6zx0mUGEP #mtpol #mtsen\n",
      "2547:  Our teachers and students deserve real investment in public education. No more cuts. No more decaying textbooks and crumbling classrooms. It’s time to invest in schools and pay teachers for the work they do.\n",
      "1173:  @washumom Thanks for writing -- I'm working to stop the student loan rate increase http://t.co/PJavsxpw3s\n",
      "1109:  Kyrillos says he wants to make student loans affordable. Yet he supports budget proposals that cut funding for higher education.\n",
      "2680:  I’m a proud @UCBerkeley Golden Bear! Excited to celebrate #CollegeSigningDay with students at @ElRanchoHS on their commitment to pursue higher education. \n",
      "\n",
      "With a solid education, anything you dream is possible. #CA38👩‍🎓👨‍🎓 https://t.co/MJYQ24iVYy\n",
      "462:  As a proud graduate of Palm Beach County public schools, I know that we can prepare the next generation for success. But Congress has to do its part.\n",
      "569:  It was a pleasure to sit down with New Mexico High School Principal of the Year, Dr. Warman Hall, to discuss the importance of public education and the needs of New Mexico's educators, students, and schools. https://t.co/eNjTRiFwbv\n",
      "637:  Our current federal student loan system is overly complex and burdensome. Student loans are the biggest purchases new students will make. Therefore, making the loan system as clear as possible is a responsibility. We have an opportunity to fix this.\n",
      "\n",
      "https://t.co/gB1T8dm66d\n",
      "1332:  I intro'd this bill yesterday to end auto-default on student loans. http://t.co/dsRAx2thkY\n",
      "744:  Rep. Dean: We need free community college, and interest student free student loans -- no one should be burdened by so much debt, and the federal government should not profit from that debt.\n",
      "\n",
      "rep-lead\n",
      "\n",
      "1170:  FACT: Only the House passed a long-term solution to keep student loan rates from doubling. #DontDoubleMyRate http://t.co/dK1KZzXTNw\n",
      "1096:  Congressman Carson Focuses in on Higher Education, Introduces Legislation &amp; Announces Higher Ed Congressional Caucus http://t.co/zSNHrNM4\n",
      "679:  We need to let teachers teach with minimal government interference and enable Central Texas to continue leading in higher education and career and technical education programs. To help our campaign, please visit https://t.co/SAmSVqdhmX. https://t.co/ZvKVY3k9kk\n",
      "1592:  Thanks to everyone who made it out to last night's Carbon County Higher Education Center Forum, our 22nd candidate debate this year. https://t.co/DUc8SwguGz\n",
      "2599:  Many of Ridley-Lowell’s students used federal student loans and grants. This online factsheet provides information on obtaining official transcripts, options for discharging #studentloans or contacting #studentloan servicers.\n",
      "https://t.co/dA3OjJoVuf\n",
      "1298:  Talking to teachers and administrators with West Plains Public Schools, home of the Zizzers! #MO8 http://t.co/QycDlkoTze\n",
      "121:  The proposal to scrap merit-based admissions at several NYC public schools smacks of racial profiling &amp; is another example of career politicians taking their constituents for granted. Gifted students deserve to realize their full potential, period. https://t.co/ePKYzmQBwE\n",
      "2391:  Listen- We can’t afford to shortchange our students.  The fact that Secretary of Education Betsy DeVos is unable to answer basic questions about public education is a sad reminder that she is unqualified to oversee the country’s public education system. https://t.co/iAuInZ7p0E\n",
      "10:  .@NASorg:“The National Association of Scholars is pleased to see the introduction of the Stop Higher Education Espionage &amp; Theft Act of 2018, sponsored by Sen. Ted Cruz. This bill would address the problem of Chinese government-funded Confucius Institutes” https://t.co/qeFBwRfid6\n",
      "13:  My 529 Student Opportunity Amendment expanded tax-free 529 savings for Texas families for religious, private, and public school educational expenses. One of the achievements in the GOP tax cuts I’m most proud of. #529Day https://t.co/QpK6Ja1U3N\n",
      "\n"
     ]
    }
   ],
   "source": [
    "print_samples_all_groups(edu)"
   ]
  },
  {
   "cell_type": "markdown",
   "metadata": {},
   "source": [
    "### Environment"
   ]
  },
  {
   "cell_type": "code",
   "execution_count": 21,
   "metadata": {},
   "outputs": [
    {
     "name": "stdout",
     "output_type": "stream",
     "text": [
      "I'm trying\n",
      "Connected to political tweets DB\n"
     ]
    },
    {
     "data": {
      "image/png": "[encoded data removed]",
      "text/plain": [
       "<Figure size 432x288 with 1 Axes>"
      ]
     },
     "metadata": {
      "needs_background": "light"
     },
     "output_type": "display_data"
    }
   ],
   "source": [
    "env = run_vader(\"environment\")"
   ]
  },
  {
   "cell_type": "code",
   "execution_count": 22,
   "metadata": {},
   "outputs": [
    {
     "name": "stdout",
     "output_type": "stream",
     "text": [
      "dem-base\n",
      "\n",
      "760:  #Resist: Ask Congress to protect vulnerable people from climate change https://t.co/Os7EJvM3N5\n",
      "1057:  @RonaldKlain Omg. What a world we would be in. No Bush. Earlier termination of OBL.\n",
      "Much more advanced solutions for climate change / global warming...\n",
      "The world I love to imagine, pine for?\n",
      "If Bobby Kennedy would have won the Presidency in 1968.\n",
      "We The People would BE the POWER. #Resist @GOP\n",
      "818:  Act Now: Tell Congress a NAFTA Replacement Must End Job Outsourcing and Protect the Environment! https://t.co/iDpF8Rfup9  #BlueWave #VoteBlue #TheResistance #Resist #Resistance #VoteBlue2018 #BlueWave2018 #DemForce #conservation #BlueTsunami #BlueTsunami2018\n",
      "1045:  Damn @GOP likes to rape everything, including our public lands.\n",
      "#VoteThemOut \n",
      "#VoteBlueToSaveAmerica https://t.co/pH9LjbEe3q\n",
      "1535:  The @billingsgazette calls @jontester, \"A champion for U.S. veterans, agriculture producers, affordable health care, accessible public lands and the First Amendment.\"\"https://t.co/PYIjeMRHH5 #TW #BLUEWAVE #mtpol #mtsen\n",
      "5602:  How much money have you taken from the fossil fuel polluters again? https://t.co/RJwkREoTtb\n",
      "67:  Bryce Canyon National Park \n",
      "#findyourpark #resist #saveourparks\n",
      "https://t.co/9Ggp2frIJ3\n",
      "2333:  Capitol Reef National Park \n",
      "#findyourpark #resist #saveourparks\n",
      "https://t.co/Xyfsv7dD5S\n",
      "2276:  @Nativeesoul @saisjo1_saisjo Owls are beautiful. We need to keep them safe and #StayBlue to save National Parks and Wildlife. #Resist\n",
      "2365:  @POTUS It's time for your denying to stop &amp; take IMMEDIATE CLIMATE CHANGE ACTION! SATURN IS LOSING HER RINGS FFS IF THATS NOT A MESSAGE...IDK WHAT ELSE IS!!! \n",
      "\n",
      "NASA says Saturn is losing its rings, and they will be gone in 300 million years https://t.co/yyfaBJfPyv\n",
      "\n",
      "#Resist\n",
      "\n",
      "rep-base\n",
      "\n",
      "2308:  @Samantha__V__ @p1gsfly @ShepRose What a hypocrite u r not to mention spreading lies.Don’t know what kind of bible u read ,filled with hate. #Trump spent $100 M to save this country donating his salary to National parks, Veterans Cemetery&amp;Vets small businesses.U should take ur nose out of ur fake bible.\n",
      "748:  @HouseGOP What the hell are you talking about?\n",
      "8 yr high in 30 yr mortgage rates\n",
      "5 yr high deficit\n",
      "4 yr high inflation\n",
      "Farmers on welfare\n",
      "Military families on Food Stamps\n",
      "SocSec/Medicare CUT\n",
      "Job/Biz killing tariffs\n",
      "\n",
      "Cabinet/Admin STEALING from taxpayers\n",
      "Selling public lands to cronies\n",
      "#GOP\n",
      "5266:  WARNING!  America's public lands and parks being sold to private corporations... (1/2)\n",
      "Put #AmericaFirst and #VoteBlue2018 to #DrainTheSwamp of #PutinsPuppet and #MAGA \n",
      "Hold the #GOP #Congress accountable and #VoteThemOut2018\n",
      "https://t.co/nyfPAz6NfR\n",
      "4795:  Trump shared his thoughts on climate change, and surprise, they’re dumb\n",
      "https://t.co/YLFCiExWOu\n",
      "\n",
      "https://t.co/LybCj5AK3F\n",
      "\n",
      "#climatechange #climateFool #trump\n",
      "4860:  @MegaSocialist @christi36766871 @laura_stietz @Paul59Myhre @realDonaldTrump And Trump attacking the public health of Americans... putting the interests of polluters before your health. But Trump supporters don't seem to care how many Americans are hurt. #MAGA\n",
      "Clean energy is the future for jobs, but coal lobby doesn't want it #DrainTheSwamp\n",
      "1444:  Trump &amp; his allies were put on defensive by another climate change enhanced hurricane &amp; an ominous UN report.\n",
      "But US is ruled by people willing to endanger civilization for the sake of profits for their fossil-fuel friends.\n",
      "#MAGA #MakeAmericaGreatAgain\n",
      "https://t.co/McPhlM4Sfr\n",
      "2014:  @CatoInstitute How about a post on the detrimental effects of climate change? https://t.co/wNFfJLqklB #gop#maga\n",
      "2346:  @DildyDan @ItsMeCathi The #GOP now embrace neo-nazi’s, white nationalist, kkk, and racists.  Hard to believe they once run as the law and order party.  It’s now lock up migrant kids, give tax breaks to rich, steal our health care, deny climate change, loot our national treasures, on and on..\n",
      "2168:  🌬#Trump, who thinks he knows everything about everything, knows nothing.\n",
      "Rather than support CLEAN RENEWABLE♻️ENERGY Sources &amp; getting countries like CHINA &amp; INDIA onboard he doesn’t. He wants out dated RUSSIAN/CHINA COAL!\n",
      "\n",
      "Keep ATTACKING🌏#MOTHEREARTH,eventually she’ll SLAP YOU https://t.co/SDKeU7uVGx\n",
      "656:  @realDonaldTrump Says the #Republican who has ordered government agencies to never mention climate change, the one who has attacked the #FBI , #DOJ and #RobertMueller not to mention those who receive death threats for telling the truth about you.  #Trump is the censorship Queen 👸.\n",
      "\n",
      "dem-lead\n",
      "\n",
      "1578:  Climate change is real. There is no denying that fact. Kimberly is a Climate Reality Leader. She's... https://t.co/UKRcvSW0zj\n",
      "98:  The U.S. experienced its warmest May on record. The temperature nationwide was 5.2° above normal and parts of the U.S. saw record extremes for dryness, temperature, and record rainfall here in Florida. These aren't outliers — this is climate change. https://t.co/raN2Zxa4IH\n",
      "3552:  We can combat climate change at the local level. @joshfoxfilm\n",
      "and I are talking about how: https://t.co/rxYkpnvL8D\n",
      "5748:  I'm glad that Jim Bridenstine has come to realize the truth: climate change is real and humans are a major contributing factor. https://t.co/kCXN3Phq0E\n",
      "4990:  Had a great time participating in the Don't Spray Me environmental forum in West Chester today! Climate change is real, and we need to take action now to mitigate its impact. #PA06 https://t.co/z2pkxWOKrO\n",
      "5664:  Budgets are about priorities. The @GOP's priority is clear: racking up massive deficits and cutting access to healthcare to pay for its #TaxScam for the rich. My priorities: education, infrastructure, equality, climate change &amp; quality healthcare for all.\n",
      "https://t.co/ukyHWlgt21\n",
      "4237:  Then endorse AND FIGHT for the Off Fossil Fuels for a Better Future Act #HR3671. \n",
      "\n",
      "Convince your DEM buddies.\n",
      "\n",
      "100% Clean Renewable Energy. https://t.co/xdt0D130R6\n",
      "3827:  Let's say it all together now: Climate Change is Real! Climate Change is Real! Climate Change is Real! Climate Change is Real!\n",
      "276:  Our military considers climate change to be a significant threat to our national security — a clear and present danger to our country and our planet.\n",
      "\n",
      "So who are you going to believe?  Science and our military?  Or the Koch Brothers and corrupt Scott Pruitt?\n",
      "398:  .@HouseGOP cannot keep burying their heads in the sand – climate change is real. And Congress must act before it’s too late. https://t.co/FnoaZ0sY4p\n",
      "\n",
      "rep-lead\n",
      "\n",
      "3580:  Repeal of CPP: 120k premature deaths.   Trump is about to undo Obama's legacy on climate change https://t.co/fgL9JD0Sii # via @HuffPostPol\n",
      "2832:  A trailhead in Denali National Park in Alaska cost $98,670. #scarynumbers http://t.co/1PjnJnIueE\n",
      "2972:  Climate change is real. @POTUS #CleanPowerPlan means #CleanAir4Kids and clean jobs for workers. I’ll defend @EPA in Congress. #ActOnClimate\n",
      "1038:  @RepPaulTonko Indeed Our National Parks are a Great American Treasure that is why you are not fit to be a Congressman because under O’s Admin you were willing to surrender our parks to U.N. control citing they belong to the world. Control of American soil = FREEDOM YOU ARE NO PATRIOT. #VoteRed https://t.co/VZIK5ThOWx\n",
      "959:  Experts say investing in renewable energy and ending the burning of coal will reduce it significantly. The sooner we all recognize the urgency and elect officials who will work toward clean energy sources, the better. #GAPol #RenewableEnergy\n",
      "3348:  These trees will help us clean up our air here in Provo and encourage a more diverse bird population.\n",
      "4298:  If not for the United State's chokehold on Puerto Rico, we would see Costa Rican-style renewable energy transformation powering PR's electrical grid. We would see Cuban-style sustainable agriculture transforming food production. https://t.co/VtbPQLurE0\n",
      "2787:  The TU published my op-ed on Sunday discussing high gasoline prices and our need to develop clean energy solutions... http://fb.me/JTXvtIqh\n",
      "3140:  Celebrate the 100th anniversary year of the National Park Service by visiting our parks this #NationalParkWeek for free! #FindYourPark\n",
      "2954:  Was honored to receive @NPCA’s Friend of the National Parks Award. Proud to be a #ParkChamp! http://t.co/RTc7zFz03F\n",
      "\n"
     ]
    }
   ],
   "source": [
    "print_samples_all_groups(env)"
   ]
  },
  {
   "cell_type": "markdown",
   "metadata": {},
   "source": [
    "### Foreign Policy"
   ]
  },
  {
   "cell_type": "code",
   "execution_count": 23,
   "metadata": {},
   "outputs": [
    {
     "name": "stdout",
     "output_type": "stream",
     "text": [
      "I'm trying\n",
      "Connected to political tweets DB\n"
     ]
    },
    {
     "data": {
      "image/png": "[encoded data removed]",
      "text/plain": [
       "<Figure size 432x288 with 1 Axes>"
      ]
     },
     "metadata": {
      "needs_background": "light"
     },
     "output_type": "display_data"
    }
   ],
   "source": [
    "fp = run_vader(\"foreign_policy\")"
   ]
  },
  {
   "cell_type": "code",
   "execution_count": 24,
   "metadata": {},
   "outputs": [
    {
     "name": "stdout",
     "output_type": "stream",
     "text": [
      "dem-base\n",
      "\n",
      "1968:  @realDonaldTrump Why I #RESIST\n",
      "\n",
      "Tax Scam Bill\n",
      "Net Neutrality\n",
      "Trade Wars\n",
      "Pre-Existing Conditions\n",
      "SCOTUS\n",
      "Russia\n",
      "March For Our Lives\n",
      "No Tolerance ICE\n",
      "Environment\n",
      "Paris Agreement\n",
      "Artic/Offshore Drilling\n",
      "CFPB\n",
      "Dodd Frank\n",
      "Medical Marijuana\n",
      "StandWithPP\n",
      "Iran Deal\n",
      "Military Parade\n",
      "Trans Ban\n",
      "MeToo\n",
      "Taxes\n",
      "2901:  @realDonaldTrump #Democrats support chaos and anger \n",
      "#Democrats support drug trafficking \n",
      "#Democrats support sex trafficking \n",
      "#Democrats support human trafficking \n",
      "#Democrats support illegal immigration \n",
      "#Democrats support open borders \n",
      "#Democrats fail National Security \n",
      "\n",
      "#MAGA\n",
      "1797:  On Sept. 7, 2017, @realDonaldTrump said \"During my trip to Saudi Arabia, I spoke to the leaders of more than 50 Arab &amp; Muslim nations about the need to confront our shared enemies.\" (thread)\n",
      "\n",
      "#resist #trump #JamalKhashoggi\n",
      "1103:  @HouseGOP Who are you guys trying to kid? Better care for Veterans? Liars!! Ensure national security?? What nation are you referring to??? Russia? #VoteBlue #ImpeachTrump\n",
      "1865:  @foxandfriends It’s not ok for Saudi Arabia to kill an American and chop them up in little pieces...or is it? #Jamal_Khashoggi #JamalKhashoggiDisappeared #JamalKhoshoggi #VoteBlue #VoteBlueNoMatterWho #VoteBlueAndBringAFriend https://t.co/xfPYC6JXdZ\n",
      "7611:  @RafalutionXVI @LonemasterWho07 @BrandonG1987 @realDonaldTrump ..hey, stoopid…remember what the prior administration did to to get the Iran deal…and you thought this was a good idea?…it did wonders for our international image, didn’t it?..who got rolled here?.. https://t.co/fzh971zduh #resist #moron\n",
      "6932:  In Russia, they are Protesting Putin.\n",
      "\n",
      "In the US...@realDonaldTrump is Twittering his nonsense...aka attacking the Government institutions and members\n",
      "\n",
      "In France @EmmanuelMacron is making sure that our May 12th Iran Deal doesn't fall apart. \n",
      "\n",
      "#Resist\n",
      "2088:  @RedTRaccoon LISTEN to Capt. Sully Sullenberger (Republican) about our national security &amp; our urgent civic responsibility for country over party.\n",
      "LISTEN to AARP Advocates saying vote out GOP Congress,\n",
      "VOTE DEMOCRAT NOW PLEASE EVERYONE.\n",
      "#VoteBlue #VoteBlueToSaveAmerica #PreExistingConditions https://t.co/4m1HUEvHrH\n",
      "1998:  America (with \"outside\" help) elected a racist, fascist hatemonger. America has a chance to do better on November 6th. #bluewave Fox host grills Trump chief: How do women and babies 'threaten national security'? https://t.co/HBMOZV9MJG\n",
      "2140:  WTF?\n",
      "And so many republicans voted for this corrupt potus for so-called “national security” reasons. This potus is the greatest national security threat of my lifetime. #Democrats &amp; #Republicans need to repair our role in the world despite him. #usa https://t.co/tyaZ953YYu\n",
      "\n",
      "rep-base\n",
      "\n",
      "2371:  In last desperate move @gop wants.CLOSED-DOOR testimony from former #thejusticedept officials. Secret so #gop can make up own #alternativefacts like @potus lovers in North Korea, Russia #potus dangerous #treasonoustrump #saudicoverup #ImpeachTrump #Impeach45 #nytimes #usatoday\n",
      "5870:  Why don't we bring home members of our military currently overseas &amp; let them protect OUR schools instead of the schools in Iraq, Afghanistan, South Korea, Japan, &amp; Germany? Those countries don't want us anyways. @realDonaldTrump preaches America First, prove it! #NeverAgain #GOP\n",
      "7315:  @RyanAFournier Hey #MAGA, time for a history lesson on terrorism:\n",
      "- 15 of 9/11 attackers were from Saudi Arabia\n",
      "- Osama bin Ladin was from Saudi Arabia\n",
      "- Saudi Arabia funded al-Qaeda\n",
      "- ISIS are Suni Muslims, the official religion of Saudi Arabia\n",
      "- breaking Iran deal helps Saudi Arabia and ISIS\n",
      "2675:  @jaketapper #SyriaWithdrawal\n",
      "This is a pro-#Trump, #ScrewUSA move. He gives #Ergodan, #Putin what they want, and asks Ergodan to lay off #MSB, don’t release evidence of #Khashoggi killing. Trump protects interest in Istanbul, Moscow, and Saudi Arabia. Trump is a #Traitor.\n",
      "#ThursdayThoughts\n",
      "350:  Easily the most kick ass president since JFK!!! And has his haters/Dems siding with ISIS, MS-13, illegal immigrants, a recession, higher taxes, Euro-trash socialists, North Korea, Iran, pussy Trudeau, etc. Love this dude!!! @LexandTerry #Trump https://t.co/Q7NzTPERGH\n",
      "1861:  America First: The #MAGA Manifesto by @ThyConsigliori explains the elements present in the principles put forward by @realDonaldTrump.  You need this book to understand why to #VoteRedToSaveAmerica learn about this great book and how to get it here:\n",
      "https://t.co/epq6E6NTWE\n",
      "5271:  Merece la pena echarle un ojo a las viñetas del #DoctorSeuss en los años '40. Fíjense lo que opina del \"America First\" décadas antes de que lo usara #Trump en su campaña. https://t.co/224Mf59XfU https://t.co/rn8RMrcMED\n",
      "249:  Does foreign policy of #Trump’s administration signal return to another #Monroe Doctrine ? https://t.co/i5nJ59Uw2E\n",
      "5681:  @TheView @SherriEShepherd You seriously consider not standing at a football game and not standing for the North Korea team the same thing?\n",
      "You women are a complete disgrace, especially hate filled Joy.  Meghan is the only sane woman on the show.  #MAGA\n",
      "1974:  Jason, can you tell me what policies you disagree with? Let’s make this productive rather than just name calling?   Are you against + changes in North Korea? Against jobs? Against rule of law?  #QAnon #MAGA https://t.co/KqbYUjGQUY\n",
      "\n",
      "dem-lead\n",
      "\n",
      "996:  Job creation, bolstering national security, diversifying the economy of North Central and North East Florida - this is what we are doing. This week, I was proud to lead the first annual... https://t.co/91g6O1NXfS\n",
      "3782:  U.S. aid to Israel, only 0.5% of national security expenditures - best investment in U.S. security #MOU\n",
      "3060:  After her role in spreading misinformation about the #Benghazi terrorist attacks, Susan Rice is not fit to be National Security Advisor.\n",
      "3395:  Thanks to @whatcomdems for letting me say hello, update on Iran deal and talk  #votingrights @wcyd\n",
      "1466:  Our approach to foreign policy shouldn’t be “America does whatever it wants.” \n",
      "\n",
      "It should be, “How do we build up our world, our allies, struggling nations?” \n",
      "\n",
      "“How do we create peace?”\n",
      "\n",
      "“How do we avoid violence?”\n",
      "\n",
      "Humanitarian foreign policy is the morally correct policy.\n",
      "1675:  We have to transition our economy to run on 100% renewable energy, produced right here in the United States. Our national security depends on it.\n",
      "https://t.co/uQwdxq3YOM\n",
      "4245:  So today, Donald Trump signed a $110 billion Arms Deal with Saudi Arabia. The Military Industrial Complex wins... https://t.co/B9G3fMM3YG\n",
      "829:  It took Trump 24 hours to reject  Putin’s request to interrogate an American ambassador and public servant @McFaul. That’s 24 hours too long and an absolute betrayal of America’s national security. #Impeach45\n",
      "2406:  Proud to work w/ @RosLehtinen in sending letter to @USAIDMarkGreen urging him to prioritize gender equality &amp; women &amp; girls’ empowerment in @USAID's work around the world. Support of these goals will strengthen our partner countries &amp; US national security. https://t.co/dTixvBNvts https://t.co/98Py3abgqx\n",
      "6906:  This isn’t “putting America first.” Forcing 50,000 legal residents out of the U.S. undermines our communities, weakens our workforce, and rips apart families who have been here for decades.  It’s just mean-spirited racism. https://t.co/M5BfRDgR1z\n",
      "\n",
      "rep-lead\n",
      "\n",
      "4992:  .@POTUS's strategy addresses often-neglected sections of national security including stronger border security. https://t.co/HVAV1jueO7\n",
      "790:  President Trump’s attempt to walk back the dangerous, disgraceful &amp; damaging show of his Blame America First policy embarrasses our nation even further. After watching the President cower in front of Putin, the American people now deserve to know what Trump will do now.\n",
      "2320:  One of the many things I'm thankful for this year is that the @POTUS has doubled down on the U.S. partnership with our strongest ally in the Middle East, Israel! I published this back in May 2017 after @realDonaldTrump visited #Israel \n",
      "\n",
      "@jdgreenblatt45\n",
      "\n",
      "https://t.co/EiWwQ9YB6X\n",
      "3264:  The Senate should stop playing politics with our national security and pass the House DHS bill.\n",
      "7381:  @PutABridgeOnIt @realDonaldTrump Thanks for your great interest in my campaign. It's the Iran deal, by the way. Obama obligated the US to hand over huge sums of money to a regime dead set on possessing nuclear weapons w/no intent to keep its promise. It's a danger to our nation &amp; I'll never support such a deal.\n",
      "3589:  The Obama Admin’s wait &amp; see foreign policy strategy hasn't kept us safe. Need a strong approach to address threats. https://t.co/mS6lUbL5lF\n",
      "6018:  Speaking at America First DC https://t.co/Vg9oUSFB6V\n",
      "4438:  Proud to vote in support of national security funding bill to take care of our veterans, restore our military &amp; provide border wall funding. https://t.co/HUssAXe2Ln\n",
      "3844:  Hillary Clinton brings with her a dangerous record on national security and a lifetime of scandals and lies. https://t.co/6m8phT1FrP\n",
      "7346:  Israel is our greatest friend and ally in the Middle East, a country whose history and culture are at the center of our civilization. Now the U.S. Embassy officially and proudly stands in its capital, the great holy city of Jerusalem.\n",
      "\n"
     ]
    }
   ],
   "source": [
    "print_samples_all_groups(fp)"
   ]
  },
  {
   "cell_type": "markdown",
   "metadata": {},
   "source": [
    "### Governance"
   ]
  },
  {
   "cell_type": "code",
   "execution_count": 25,
   "metadata": {},
   "outputs": [
    {
     "name": "stdout",
     "output_type": "stream",
     "text": [
      "I'm trying\n",
      "Connected to political tweets DB\n"
     ]
    },
    {
     "data": {
      "image/png": "[encoded data removed]",
      "text/plain": [
       "<Figure size 432x288 with 1 Axes>"
      ]
     },
     "metadata": {
      "needs_background": "light"
     },
     "output_type": "display_data"
    }
   ],
   "source": [
    "gov = run_vader(\"governance\")"
   ]
  },
  {
   "cell_type": "code",
   "execution_count": 26,
   "metadata": {},
   "outputs": [
    {
     "name": "stdout",
     "output_type": "stream",
     "text": [
      "dem-base\n",
      "\n",
      "2258:  @abc13houston Teddy Is begging his big money donors like the groveling coward that his is. It's pathetic.  #BetoforSenate #VOTEBLUE https://t.co/HbH05w5wdD\n",
      "5840:  It takes money to run a successful campaign against a strong incumbent! If you want #TedCruz out and a good guy in Congress, consider donating to his campaign.  We need a win here in #Texas, this is an important win for #Democrats! And imp. to get him out!  RT https://t.co/l04f1YC0QW\n",
      "5697:  @VP @CIA Asshat, if you really cared about the safety and security of the American people, you would support #GunControlNow rather than taking money from the @NRA to ignore #GunViolence. Your lies are getting old and tired. A #BlueWave is coming.\n",
      "5343:  @chillyjenn @TeaPainUSA Even Nixon's lawyer's offices weren't raided. Lordy, please let there be tapes, and emails, and tax fraud, and campaign finance violations, and and and. Trump isn't worth it. Cohen's gonna flip. The subject's about to become the target.\n",
      "\n",
      "#RegisterToVote 💙\n",
      "#BlueWave2018 🌊\n",
      "5365:  @SenFeinstein For all our disgust w/the current corrupt Trump Regime &amp; its Congressional Republican enablers, we will be equally disgusted if Democrats back down from real reforms to wealth inequality, campaign finance, the tax code, &amp; our nation's healthcare system when #BlueWave2018 arrives.\n",
      "425:  (1/3)\n",
      "(to the tune of “Acorn Brown”)\n",
      "He’s lost children, babies too\n",
      "Then throws tantrums, right on cue.\n",
      "Makes up claims of voter fraud,\n",
      "Increases enemies abroad.\n",
      "Impeach.\n",
      "Impeach\n",
      "Impeeeach him!\n",
      "\n",
      "#resist #satire #parody\n",
      "1840:  @Helenhs @SenatorCollins Didn't she also pledge years ago to only serve 2 terms as a Senator because she supported term limits? \n",
      "\n",
      "Her bio should read:\n",
      "Susan Collins: Full of shit since 1997!\n",
      "\n",
      "#VoteThemOut\n",
      "2645:  #Midterms2018 are a complete fraud with rank voter suppression and voter fraud by the #Democrats and #Q has the proof and I suggest so does @realDonaldTrump #MAGA\n",
      "978:  I think rite about now Putin is wondering to himself Why the Hell did we pick such a frickin MORON to do our bidding for us, Shitski ! @realDonaldTrump @RudyGiuliani #MAGA The DOJ is draining the Swamp one RAT at a time. #Resistance\n",
      "1767:  @tedcruz You're a tool. And you have blood on your hands. You took money from #NRADomesticTerrorists\n",
      "It doesnt have anything to do with protecting an amndmnt...you're just a greedy pig.\n",
      "#LoseCruz #LyinTed #BetoForTexas #BetoForSenate #BlueWave2018 #betomania\n",
      "\n",
      "rep-base\n",
      "\n",
      "3091:  Boy, that's the truth. Term limits would be great. #MAGA https://t.co/eWLMZAH498\n",
      "4603:  .... continue to \"Drain the Swamp\"  ! https://t.co/8LFAl6yZaC\n",
      "50:  @GOPChairwoman And the #GOP vetted their donors and only took money from angels.  Climbing up on that high horse won’t fly.  Nice try tho. \n",
      "BTW you backed Moore, you have less than ZERO room to talk. \n",
      "#MAGA\n",
      "2813:  I hope she takes all his money for abuse and donates it to the 2020 campaign for Donald Trump. Then we can watch his head spin and vomit pea soup. https://t.co/mL8ZColKTs\n",
      "4742:  @KamalaHarris Let's be clear they are taking money away from actual hardworking american taxpayers which you are not one of and neither are they they take 160,000,000,000 from schools hospitals LE social programs for actual Americans infrastructure military sorry but #ImmigrationReform #MAGA\n",
      "59:  @realDonaldTrump I thought you wanted to drain the swamp? Fire Jeff Sessions already. Reason Incompetence #MAGA\n",
      "1385:  @mama_seedy How can Hillary say she is for woman when she takes money from countries that stone them to death?  #HillaryForPrison #TrumpTrain #MAGA #TRUMP\n",
      "2530:  @realDonaldTrump Even your own voter fraud investigation failed to find anything significant.  Stop lying.  If the GOP gets owned its just par for the course.  And also you. \n",
      "Because you're trash and this is a referendum on your ass. #MAGA\n",
      "1487:  As @realDonaldTrump promised he is draining that swamp! And living in a swamp! I know how hard that is. #snakesontheplain #MAGA #AmericaFirst https://t.co/YLiRRs4deQ\n",
      "2750:  This is the only way we will get term limits https://t.co/C7D3M26x0Z\n",
      "\n",
      "dem-lead\n",
      "\n",
      "4138:  @ezralevin I'm committed to file, co-sponsor, and vote for as many bills as possible that end the corrupting influence of secret, special interest money in our elections and political process. \n",
      "\n",
      "That's what got us here. We have an opportunity to end it in 2018.\n",
      "2327:  Tune in now for the #NY22 debate on @SPECNewsCNY! This district needs an honest independent voice who will stand up for the folks in Upstate New York, not the big corporations and special interests. Tonight's debate makes it very clear who's fit to represent this district\n",
      "5045:  I do not take campaign contributions from the NRA.  I will never take campaign contributions from the NRA. I don’t take ANY corporate PAC contributions because I don't believe that we should make policy based on which corporations give us money.  It’s just that simple.\n",
      "1527:  We’re putting the ‘public’ back in public service this Monday with @StopBigMoney! Join us to rally for a Congress that serves people, not special interests. https://t.co/AVAUeCdodj\n",
      "791:  Betsy DeVos is supposed to be working for our students, not special interests. But right now, it’s the other way around. \n",
      "\n",
      "Let's remind her where her priorities should lie:\n",
      "\n",
      "https://t.co/6wU4dq6Y5x\n",
      "669:  We’ve already seen the influence of dark money on our elections, the federal courts and the Supreme Court. Now, tax-exempt organizations will no longer have to disclose their donors, making it even easier for foreign actors and special interests to buy influence with dark money. https://t.co/0FPiZedSL9\n",
      "1620:  While I fight to shine a light on dark money &amp; am endorsed by @StopBigMoney, @MattRosendale is endorsed by Citizens United. He supported the decision that lets corporations spend unlimited sums in our elections &amp; would put their interests first. #mtpol \n",
      "https://t.co/Nk2Dj5mDCg\n",
      "302:  Earlier this year, this grassroots team helped outraise Randy Hultgren &amp; his army of corporate PACs. Let's do it again. The amount we raise by Saturday night’s quarterly filing deadline will go public—make sure your support is on the record! https://t.co/3OeCL9YOVL\n",
      "3537:  Trump claims 'serious voter fraud' in Virginia, but state ally says no 'mass scale' fraud https://t.co/2SZA71bb7F via @richmonddotcom\n",
      "1015:  Follow my money and it leads to #IL16. \n",
      "\n",
      "Chip in $5 right now if you support getting big money and outside influences out of our elections and government.  \n",
      "\n",
      "https://t.co/8PJ8AgjDo5\n",
      "\n",
      "#AccessibleActiveAccountable #GoodGovernance https://t.co/OA1L05ijby\n",
      "\n",
      "rep-lead\n",
      "\n",
      "136:  Make no mistake is right: the Republicans passed a tax bill for their special interest friends, blew a $1.5 trillion hole in the deficit, and plan to pay for it by cutting Social Security and Medicare. In Congress, I will stand with our seniors and I will protect these programs. https://t.co/2L2Gjha4rF\n",
      "3296:  @DirigoBlue So you admit that MCEA fails in it's intended goal to get outside money out of politics? #mepolitics\n",
      "5373:  Apparently—though nearly all of us can agree that campaign finance is out of control—the only way SOME news outlets will cover you is if you’re contributing to the notion that only the wealthiest Americans deserve a say in our nation’s government.\n",
      "795:  I'm honored to receive @MOFarmBureau's endorsement of my U.S. Senate campaign. Our farmers deserve a Senator who will fight for them, who will support them and our way of life, not the big money special interests. And that’s exactly what I intend to do. #MOSen\n",
      "1283:  Republicans &amp; their special interest cronies use their positions to enrich themselves &amp; their friends at the expense of America’s working families. Dems are fighting #ForThePeople to ensure Washington works for everyone, not just the wealthy and well-connected.\n",
      "3875:  When we said repeal Ocare, crackdown on illegal immigration, and drain the swamp - we meant it. #ALSEN #VASen https://t.co/uPEXXpFpTU\n",
      "1066:  ICYMI: My campaign recently released our first TV ad of 2018, detailing my pledge to shake up Washington and drain the swamp. Like and share if you're with me! https://t.co/rwrauHTK9e\n",
      "2321:  I will represent our District, NOT special interest! VOTE Kimberlin Brown Pelzer🗳🇺🇸 #TeamKimberlin https://t.co/qQNPPjPi7E\n",
      "3282:  Not a dime from special interests or lobbyists. We don't need them. We did this with the power of the grassroots. http://t.co/18p0v1MwKw\n",
      "82:  @TiffanyBond @SenAngusKing There needs to be oversight when funds are sent from DC to states for projects.  \n",
      "\n",
      "But I’m saying Washington DC shouldn’t take the money from us in the first place and then we can fund the projects ourselves. \n",
      "\n",
      "Then Washington DC wouldn’t need to oversee us.\n",
      "\n"
     ]
    }
   ],
   "source": [
    "print_samples_all_groups(gov)"
   ]
  },
  {
   "cell_type": "markdown",
   "metadata": {},
   "source": [
    "### Guns"
   ]
  },
  {
   "cell_type": "code",
   "execution_count": 27,
   "metadata": {},
   "outputs": [
    {
     "name": "stdout",
     "output_type": "stream",
     "text": [
      "I'm trying\n",
      "Connected to political tweets DB\n"
     ]
    },
    {
     "data": {
      "image/png": "[encoded data removed]",
      "text/plain": [
       "<Figure size 432x288 with 1 Axes>"
      ]
     },
     "metadata": {
      "needs_background": "light"
     },
     "output_type": "display_data"
    }
   ],
   "source": [
    "guns = run_vader(\"guns\")"
   ]
  },
  {
   "cell_type": "code",
   "execution_count": 28,
   "metadata": {},
   "outputs": [
    {
     "name": "stdout",
     "output_type": "stream",
     "text": [
      "dem-base\n",
      "\n",
      "7426:  @SpeakerRyan We continue to lose brave children to gun violence.  This is a symptom of weak leaders who are beholden to the NRA.  That’s why we’ll work to vote you out of Office.  #BlueWave2018  #NeverAgain #ExpectUs\n",
      "6917:  https://t.co/o9WTL93RZG  #BoycottNRA @jpw643 #RESIST #BREAKING #REVOLTNow #SDLive 2nd Amendment #Oscars #WomensHistoryMonth #SheDecides #UFC222 #GoBlue Phil #TriggerAConservativeIn2Words #TriggerATrumperIn4words #politicsnation #SundayFunday #ThisWeek #FireKushnerNOW Brooklyn BBQ https://t.co/F5Jra3BKk0\n",
      "6998:  @_CFJ_ @hrt6017 @UnmaskedGotti @LearJetter @The____Guardian @truebeachbabe @LeisureHuman @AMPerRage @LeahRBoss @Redneck4Christ_ @DallasChick1967 @GOP_RN @hotpepperpot @GoldStarMomTX55 @tomseward @FreedomChild3 @csham21 @trisha513 @Patrioticgirl86 @steffie_steff @Imirish69 @RedRising11 @BossHoggUSMC @KrisParonto @GregAbbott_TX @Ford @TexasGOP @NRA This is absolutely true! Gun control stems from Jim Crow laws and racist #Democrats\n",
      "8667:  Have any of the #Democrats seen the news today about all of the murders in the past week in #Chicago? Are they going to address the high murder rate in a high gun control area? Doesn't sound like much gun control to me, criminals are protected by democrats.\n",
      "#DemocratsHateAmerica https://t.co/rGyxeuREas\n",
      "4817:  @realDonaldTrump @JohnKasich @WestervillePD I agree that this was a terrible tragedy, but why hasn't trump addressed any of the 14 school shootings that have occurred in 2018?  @POTUS @WhiteHouse @PressSec @KellyannePolls #Resist #TheResistance #FakePOTUS  🇺🇸🇺🇸🇺🇸\n",
      "7086:  #Resist: Ban Assault Weapons. #banassaultweapons https://t.co/NKvjarxjWX https://t.co/bfYtxugZTK\n",
      "1922:  So, a mass shootings in Führer's America is a political momentum stopper. \n",
      "\n",
      "It's not a tragedy or a loss of life. It's a momentum stopper. \n",
      "\n",
      "How about on #November6 th we show these lying fascist asshats what a true momentum stopper looks like.\n",
      "\n",
      "#VoteBlue\n",
      "#VoteDem \n",
      "#VOTE\n",
      "7037:  Porn stars, tariffs, North Korea...\n",
      "\n",
      "That's the top news on every major news site. I had to dig to find anything about #Parkland or assault weapons.\n",
      "\n",
      "Welcome to America. Dozens at a time can die from guns...wait, but porn.\n",
      "\n",
      "#Resist #NorthKorea #KimJongUn #StormyDaniels #tariffs\n",
      "796:  It’s been 176 days since the Marjory Stoneman Douglas School Massacre. \n",
      "\n",
      "The media has stayed silent and covered it up.\n",
      "\n",
      "Congress hasn’t talked about stopping gun violence.\n",
      "\n",
      "We must keep talking. \n",
      "\n",
      "#resist #MSDStrong\n",
      "243:  #VoicesOfParkland #NeverAgain #MSDStrong #MarchForOurLives #NoNRA #BanAssaultWeapons #StricterGunLaws #TheRevolution #TheResistance #Resist #VoteBlue #texas #HowManyMoreHaveToDie #ENOUGH \n",
      "#EnoughIsEnough \n",
      "GOP=NRA\n",
      "#BloodMoney \n",
      "Remembering ALL the CHILDREN killed by gun violence.💔\n",
      "\n",
      "rep-base\n",
      "\n",
      "8289:  NO SOCIAL SCIENTISTS IN HOLLYWOOD,THAT'S 4 SURE! \"This Country Star Has Officially Come Out Against The 2nd Amendment\"- https://t.co/E1sD2WSHZ0  #MAGA @POTUS  #TeaParty #Republican #Independent #Latino #Black #2A #LBGT #Student #Christian #ccot #Woman #Military #democrat\n",
      "5317:  @donlemon says “How do you know gun laws won’t work we’ve never tried it” Also @donlemon “A wall won’t work” How do you know that? We’ve “never tried it” Idiot. #CNNFAKENEWS #MAGA #ParklandSchoolShooting\n",
      "8726:  Australia's Restrictive Gun Laws Are Working Nearly As Well As Chicago's https://t.co/HERqtNy6Qh  #nra #2a #QAnon #maga\n",
      "6251:  OUR VIEW: On gun control, President Trump almost sounds woke https://t.co/Ok3V8kidBU via @USATopinion #tcot #maga #2a #nra\n",
      "6742:  #MAGA #TeamTrump @TeamTrump \n",
      "You wrongfully worried Obama was coming for your guns.  Trump is flat out said so.  Look up \"due process.\"\n",
      "\n",
      "We warned you.\n",
      "\n",
      "@TheDemocrats aren't against the 2nd Amendment.  We just want #GunSafety for all. https://t.co/LEH5DTrdLO\n",
      "1860:  But we have #GOP pols like Pete Sessions, Ted Cruz, Ken Paxton, Greg Abbott, Pete Olson, + who tout their #NRA \"A\" or \"A+\" grade. \n",
      "To change the course of #America's acts of mass shootings, choose #GunSenseCandidate(s). Know their NRA grade b/f voting. \n",
      "#MarchForOurLives https://t.co/5swvI6FCg7\n",
      "5349:  @thehill #Trump &amp; #Gun lobby care about profits not the 2nd Amendment. Money is running our political system - Mammon. \"You cannot serve God and mammon.\" ~Matthew 6:24\n",
      "5280:  @creolenurse @leah_levell @PARISDENNARD Proud of her and Paris for supporting our president and #2A conservatives. Her dad @Bruce_LeVell  was one of Trump's first supporters from Georgia. We must defend the 2nd amendment! #MAGA\n",
      "6502:  #CCOT Knee-jerk reactions for gun control are not \"common sense\" #StonemanDouglas #cnn #Independents #schoolshooting #politics #GunControl #students #MAGA #TrumpTrain #SchoolShootings #FoxNews #history #education .@BetsyDeVosED .@usedgov #NRA #GunRights #education #NTA #NDNz #ndn https://t.co/zse4DzxhTY\n",
      "8604:  Grrrr🤬accidentally tweeted wrong article. My apologies! This is the one...#MAGA Proud Trump supporter ✅🇺🇸🙋🏼‍♀️\n",
      "\n",
      "Trump at NRA Convention: 2nd Amendment 'Will Never Be Under Siege' While I'm President https://t.co/pYeuSWFiJs\n",
      "\n",
      "dem-lead\n",
      "\n",
      "3184:  Support President’s executive actions to stop gun violence? Survey → https://t.co/Tm0r2Dhrsn https://t.co/3SPN2k8nbz\n",
      "7316:  In addition to opposing commonsense gun safety reform, the Trump administration wants to spend $13.2 million to make it EASIER to buy machine guns and silencers in the name of \"reducing violent crime.\" That’s madness! https://t.co/Z0iAXUIPCb\n",
      "4711:  A ghost gun is a firearm without serial numbers. There are websites &amp; businesses that allow you to buy the gun parts themselves and make your own gun, legally bypass background checks and registration regulations.  This, to me, is a terrifying thought.\n",
      "4431:  If we’re going to change our nation's gun laws and get weapons of war off our streets, we need to keep talking about the carnage caused by assault weapons. We need to keep talking about the lives lost. #BanAssaultWeapons\n",
      "2433:  So while the President protects the interests of the millionaire manufacturers of guns, he has done nothing to significantly protect our children, or any one else, from gun violence. \n",
      "\n",
      "Since that day at Sandy Hook in 2012, over 1,900 mass shootings have happened across the US.\n",
      "141:  Let's turn America orange for gun violence awareness this #WearOrange weekend, June 1-3. Visit: https://t.co/qkUD2Dv06q https://t.co/wFLOBxsv3r\n",
      "2512:  American students shouldn’t have to live in fear. The NRA shouldn’t have a veto on stronger gun safety laws. \n",
      "\n",
      "In 2018, we stood up.  In 2019, we will grow stronger. \n",
      "\n",
      "#keepkidssafe #msdstrong\n",
      "\n",
      "https://t.co/7QsnuuA9rJ\n",
      "5270:  The United States has averaged a school shooting every 2.5 days in 2018. There have been 239 school shootings since Sandy Hook.\n",
      "\n",
      "These aren't \"gaps,\" @SpeakerRyan. This is a broken system.\n",
      "https://t.co/z9940OYFbS\n",
      "47:  Grace and I were honored to join community leaders in DeLand to talk about health care, education, commonsense gun safety legislation, and what's at stake this election. The @VolusiaDemParty is fired up! https://t.co/SnKrSQSTKa\n",
      "3346:  Thank you to Senator Chris Murphy and @SenateDems for demanding a vote on gun safety legislation. Let's get this done! #NotOneMore #Enough\n",
      "\n",
      "rep-lead\n",
      "\n",
      "3977:  I will protect and work hard to preserve the 2nd Amendment for all Virginians. I have the @NRA’s approval! https://t.co/NOKCncPTbA\n",
      "4540:  Today, I was proud to vote for the Concealed Carry Reciprocity Act that ensures law-abiding citizens’ Second Amendment rights do not end at state lines. It also allows residents with a concealed carry license to travel between states without worrying about conflicting laws. https://t.co/duZf4UGMPX\n",
      "3354:  @hippazoid universal background checks. So how is that talking point different from what is done today? how would that have stopped Orlando\n",
      "2652:  In one month the NRA has gained 250,000 new memberships. Americans, keep protecting your Second Amendment rights!... http://t.co/w0G9AggB\n",
      "7725:  Marched in Harrisburg today with over a thousand others. Amazing to see and hear the students leading this movement, inspiring change that many said was impossible.  \"No more silence. End gun violence.\" \n",
      "#MarchForOurLives \n",
      "#VetsForGunReform https://t.co/6UCH1HRHw9\n",
      "6959:  There is only one common thread across the gun violence epidemic in America – guns. Attempting to address this problem without addressing – or even acknowledging – that fact is missing the point. #NeverAgain\n",
      "3517:  .@HouseDemocrats are asking for two simple votes: background checks &amp; #NoFlyNoBuy legislation. Watch my speech here: https://t.co/9hjxKDmSsm\n",
      "9075:  The time to act is now — not tomorrow or next week — because if we keep talking about this without any actions then we are going to hear about another school shooting. And that’s something that no American should have to life with. @DailyCaller @TheDC_Opinion #SchoolSafety https://t.co/z3cQZanTy5\n",
      "7153:  This is from a proactive high school in my district. Preventing mass shootings won't come from just one solution, it will come from many solutions. We all must be part of solving this problem. I am so proud of the example these kids are setting. https://t.co/bl47Ys883B\n",
      "3198:  Our Founding Fathers had it right. When it comes to the Second Amendment—the Constitution is clear.\n",
      "RT if you agree. https://t.co/VDNj5xySl7\n",
      "\n"
     ]
    }
   ],
   "source": [
    "print_samples_all_groups(guns)"
   ]
  },
  {
   "cell_type": "markdown",
   "metadata": {},
   "source": [
    "### Health"
   ]
  },
  {
   "cell_type": "code",
   "execution_count": 29,
   "metadata": {},
   "outputs": [
    {
     "name": "stdout",
     "output_type": "stream",
     "text": [
      "I'm trying\n",
      "Connected to political tweets DB\n"
     ]
    },
    {
     "data": {
      "image/png": "[encoded data removed]",
      "text/plain": [
       "<Figure size 432x288 with 1 Axes>"
      ]
     },
     "metadata": {
      "needs_background": "light"
     },
     "output_type": "display_data"
    }
   ],
   "source": [
    "health = run_vader(\"health\")"
   ]
  },
  {
   "cell_type": "code",
   "execution_count": 30,
   "metadata": {},
   "outputs": [
    {
     "name": "stdout",
     "output_type": "stream",
     "text": [
      "dem-base\n",
      "\n",
      "7624:  @espyforsenate @2HawkEye2018 Two days for voting day ! Guys be ready #VoteThemOut ! Make sure you keep your Health Care , we lost it on Florida . White, Bkack, Latinos , all lost .\n",
      "1594:  @realDonaldTrump Why I #RESIST\n",
      "\n",
      "Tax Scam Bill\n",
      "Net Neutrality\n",
      "Trade Wars\n",
      "Pre-Existing Conditions\n",
      "Space Force\n",
      "March For Our Lives\n",
      "No Tolerance ICE\n",
      "Paris Agreement\n",
      "Artic/Offshore Drilling\n",
      "CFPB\n",
      "Dodd Frank\n",
      "Medical Marijuana\n",
      "StandWithPP\n",
      "Iran Deal\n",
      "Military Parade\n",
      "Trans Ban\n",
      "Wall\n",
      "SCOTUS\n",
      "MeToo\n",
      "Taxes\n",
      "Russia\n",
      "4045:  @tedcruz You are opposed to increase on minimum wage, against health care for all and agsinst equal rights for women, so yeah, NO! #VoteThemOut2018 #Vote #VoteBlue #FliptheSenate #NoToTedCruz\n",
      "8335:  @SenSanders Health Care is NOT a Right; it is a Privilege!\n",
      "LIFE is a Right! But look at how U Destroy the Right 2 Life!\n",
      "#OCare is 2 Blame 4 the Ppl uninsured because they cant afford Premiums!\n",
      "Amers are NOT STUPID!\n",
      "#Democrats took away our CHOICES!\n",
      "We deserve a Free Market; NOT Govt Control!\n",
      "19215:  Trump has named his personal doctor as veterans secretary, but it's a sneaky attempt to privatize the VA and put corporate vultures between veterans and their health care. Sign the petition to block and #resist Ronny Jackson: https://t.co/O63ra9YamB via @CREDOMobile #p2\n",
      "4004:  Midterms are getting closer. Remember this- large tax breaks for the wealthy, separating kids from parents, praises Putin &amp; insults our allies, tariffs that hurt farmers, small businesses, consumers, wants to cut Medicare, SS, Medicaid. How can anybody vote Republican ? #BlueWave\n",
      "6962:  #BeAVoter &amp; #VoteBlue\n",
      "To #EndGunViolence\n",
      "To #SaveDemocracy\n",
      "To stop the Koch bros, Dark $ from looting  &amp;  pillaging of our democracy\n",
      "To fight against greed\n",
      "To protect medicare &amp; pre-existing conditions\n",
      "So we can have #EqualityForAll   https://t.co/KRFrRqfAAI\n",
      "4127:  I sure hope all those great Texans will support the candidates that are standing up for building our infrastructure instead of tearing it down with huge tax cuts that benefit the wealthiest.  And will not lie like Mr. Trump has on providing health care.  Vote Democratic for Truth https://t.co/qHomCBwhzS\n",
      "462:  @Shareblue @LeChatNoire4 @FLGovScott is a preexisting condition... What a spineless freak with a face only his mommy could love. \n",
      "\n",
      "#BlueWave2018\n",
      "17967:  I WOULD HAVE TO SAY BY THE LOOKS OF HER, HER PUSSY WAS NO DOUBT A NIGHTMARE FOR SOME OF THE GUYS SHE HAS BEEN WITH‼️ THOSE GUYS NOW NEED MENTAL HEALTH REHAB‼️GET A LIFE YOU DUMB A** BI*CH‼️🐷💩🤡 https://t.co/obghBF4CRS\n",
      "\n",
      "rep-base\n",
      "\n",
      "3035:  Wrong again @elizabethforma\n",
      "America wants @realDonaldTrump 2 #MAGA #MASA they want strong economy good paying jobs safe neighbourhoods\n",
      "healthy health care\n",
      "Celebrate &amp; protect Marriage the nuclear family\n",
      "#ManWomanBabies\n",
      "God &amp; Christmas trees\n",
      "stop butchering babies 60 million👪🔩 https://t.co/fqLT5IrtGu\n",
      "18305:  Thing is @DLoesch says this shit but damn whenever folks even talk about basic changes the @NRA, #conservatives whine! HELL #TRUMP SIGNED A LAW MAKING IT EASIER FOR PEOPLE WITH MENTAL HEALTH ISSUES TO BUY #GUNS! The #NRA is all talk. \n",
      "\n",
      " #StudentsStandUp #CNNTownHall\n",
      "17960:  @RepMarkMeadows The #GOP #Tax #Scam is #crumbs because majority of #money goes to billionaires, shareholders &amp; corporations permanently while regular #Americans get tiny &amp; temporary tax cut with no affordable healthcare #Propaganda\n",
      "7379:  Might it not be prudent to focus first on the cost, access, &amp; quality of healthcare before we worry about expanding insurance?\n",
      "\n",
      "#ElectionsHaveConsequences\n",
      "#ThursdayThoughts\n",
      "#MAGA\n",
      "18117:  @GOP #GOP is guilty of killing Americans.They don't represent you and any who votes for them is a fucking idiot. They took away your health care and are killing your kids and you. They have destroyed everything that keeps you safe. They are the enemy. You are the enemy.\n",
      "718:  Mental health is a serious problem &amp;  here's hoping @iamfonda finds the institutional care he desperately needs &amp; soon. The real disgust for me is that at least 694 brainless hate filled losers clicked 'like'. We must do better. We must solve problems.  Ignore the hate. #MAGA https://t.co/NIPYpm7Lsq\n",
      "18283:  @Oprah America's 'gun problem' is also a mental one! A country run by gun lobbyists, who blame regular school shootings, on the mental health of the shooters: And not the availability of automatic weapons! #guns #GunReformNow #trump #schoolshooting #Americans https://t.co/liuU19hIVk\n",
      "5012:  @WhiteHouse economic advisor Larry Kudlow admitted that the the administration will propose cuts to Medicare, Medicaid, and Social Security next year in order to address the growing deficit. This came because of cut in taxes to the wealthiest. How stupid are #MAGA #TRUMP really\n",
      "19128:  But they would make the determination that your frequent colds shows a preexisting condition for you. Now you tell me how a person who is dying is going to be able to fight that.\n",
      "\n",
      "https://t.co/qTyvx3ooKs #Trump #CultureWar #ClassWar https://t.co/qTyvx3ooKs\n",
      "3314:  If I cross the border illegally 2 Mexico,\n",
      "would their gov help me with food stamps,free housing,free health care?\n",
      "\n",
      "I’d also demand that they support my family.\n",
      "After they provide me w assistance, I would call their president a pos, burn their flag &amp;call them racist.#MAGA https://t.co/1QhRTlisZr\n",
      "\n",
      "dem-lead\n",
      "\n",
      "18357:  Fascinating discussion regarding mental health and violence. https://t.co/fCsR7ssOyV\n",
      "11632:  A reminder to my colleagues about the Affordable Care Act: https://t.co/MZSvdjA9wr\n",
      "12581:  Those who understand health care best—doctors, nurses, the hospitals, AARP, @ConsumersUnion, are united in rejecting #TrumpCare\n",
      "11671:  Repealing #ACA would rob millions of hard working families the money they need for their health insurance. Let's improve ACA, not repeal it.\n",
      "5071:  We need a new approach - one that puts the ppl of #TX12 first. I’m running bc it’s time we have a rep. willing to fight for all of us, for our right to quality, affordable health care, for policies that protect workers &amp; expand the middle class, and for our children’s future. https://t.co/lLiyngHyZK\n",
      "19737:  President is right, America deserves an up or down vote on health care now\n",
      "6381:  @LindseyGrahamSC let's RE-focus, shall we?\n",
      "#1 Affordable Healthcare\n",
      "#2 Livable Wages\n",
      "#3 Educating our children for tomorrow's jobs\n",
      "#4 Environmental concerns\n",
      "\n",
      "That's what WE here in SC want to talk about!!\n",
      "We are so over @realDonaldTrump shiny objects. Aren't you? https://t.co/Rsi9xiWngq\n",
      "16777:  Illinoisans: The deadline to sign up for health insurance that starts on Jan 1 is this Friday, 12/15. Visit https://t.co/rW86Mg65fH and sign up before it’s too late. #GetCovered https://t.co/jPeiv3tLc5\n",
      "1132:  When we repeal last year’s tax handouts to billionaires, we of course won’t need to cut Social Security, Medicare and Medicaid as Congress claimed they must.\n",
      "5108:  U.S. health insurance has become a profiteering level profit center, while many Americans literally die due to financial hardships. \n",
      "The United States is the only industrialized country in the world that isn’t providing a basic level of health care for its people.\n",
      "#MedicareForAll https://t.co/wgBrGcoeRu\n",
      "\n",
      "rep-lead\n",
      "\n",
      "6183:  Awesome stop in Elkhorn encouraging our volunteers who are going door to door sharing our positive message of economic prosperity, quality health care and secure borders! 🇺🇸 #wisconsinway #wisen https://t.co/4UNIUBP4bI\n",
      "11906:  Thank you @RepJohnConyers for your support of my bill (HR 372) to repeal the antitrust exemptions for health insurance companies.\n",
      "5914:  I enjoyed visiting North Tampa Behavioral Health in Wesley Chapel.  It is one of the local providers of mental health and substance abuse treatment in our community.  We discussed additional needs that exist as we remove barriers to accessing treatment.  #fightaddiction https://t.co/tAwflbhghn\n",
      "3955:  They first voted in Congress to strip healthcare away from Americans with pre-existing conditions. \n",
      "\n",
      "Now, they're suing in court to take away those very same protections! #StayWoke #ProtectOurCare https://t.co/xtbcAOO5y9\n",
      "11242:  Senate Democrats reject for 3rd time Zika funding. Put political games above public health threat. @HouseCommerce  https://t.co/ZLw8CdbArZ\n",
      "10675:  We don't need new gun laws. We need better mental health screening. http://t.co/H0POOPimwj? #txlege\n",
      "10016:  #ar4 MT @RobyBrock: #arpx #arsen . @AR_Election Central: Pryor, Cotton Mix It Up On Health Care Rulings http://t.co/5Fg9nNQ4DS\n",
      "13093:  Under #AHCA insurance companies are banned from turning ppl away bc they are sick or have a preexisting condition\n",
      "8456:  Here's an extra $5 billion until we get the health care thing figured out....Can anyone point us in the direction... http://bit.ly/bBJImw\n",
      "13504:  TOMORROW: House to vote on my bill to stop fraud in distribution of health care tax credits &amp; protect taxpayer $ ➡️ https://t.co/dO95QYXA6S\n",
      "\n"
     ]
    }
   ],
   "source": [
    "print_samples_all_groups(health)"
   ]
  },
  {
   "cell_type": "markdown",
   "metadata": {},
   "source": [
    "### Immigration"
   ]
  },
  {
   "cell_type": "code",
   "execution_count": 31,
   "metadata": {},
   "outputs": [
    {
     "name": "stdout",
     "output_type": "stream",
     "text": [
      "I'm trying\n",
      "Connected to political tweets DB\n"
     ]
    },
    {
     "data": {
      "image/png": "[encoded data removed]",
      "text/plain": [
       "<Figure size 432x288 with 1 Axes>"
      ]
     },
     "metadata": {
      "needs_background": "light"
     },
     "output_type": "display_data"
    }
   ],
   "source": [
    "imm = run_vader(\"immigration\")"
   ]
  },
  {
   "cell_type": "code",
   "execution_count": 32,
   "metadata": {},
   "outputs": [
    {
     "name": "stdout",
     "output_type": "stream",
     "text": [
      "dem-base\n",
      "\n",
      "5656:  The guts to stop the dead peoples vote and the illegal immigrant vote would be a good start. If you know it is going on and do nothing about it you are complicate with the corruption. https://t.co/3kDGa690EX\n",
      "1185:  @shawnclewis @nfib_ca @NFIB Shame on @NFIB and the nativism on display today. Separating families is not American, let alone moral. You continue to clap for #TrumpBabySnatcher and #TrumpTradeWar. Whose self-interest are you lobbying for? #Putin? No thank-you. #NoShame #NFIB #resist\n",
      "7575:  @realDonaldTrump now Border Security or Wall \"thing\" you stated MEXICO WOULD BUILD THE WALL, this is ur political nightmare of your own making, u got 3 offers from #TeamPelosi as you had #gop control, pls stop the #TrumpTemperTantrum ! #TrumpShutdown #Resist https://t.co/QSphCfKDYs\n",
      "5073:  @realDonaldTrump You are an embarrassment to our country and everything we stand for. The caravan is nothing like you are spewing. Asylum seekers are not criminals. Also, they won’t arrive at the border to seek asylum LEGALLY for months. What a waste of resources. #BLUEWAVE #VOTEYOURVALUES https://t.co/lptBqw07xU\n",
      "7453:  @owlsbhoo @realDonaldTrump Your fellow federal workers living along the southern border lives are being DESTROYED by #illegalImmigration\n",
      "#democrats 2busy in #Hawaii to make deal 2keep ALL #Americans SAFE\n",
      "@POTUS IS AT @WhiteHouse READY &amp;WAITING 2MAKE A DEAL!\n",
      "@NancyPelosi DOESN’T CARE\n",
      "https://t.co/qyEfQeJ9hE\n",
      "384:  Sanctuary city! #democrats, https://t.co/zN2FGFKrso\n",
      "3379:  THE ONLY ONE THAT CAN SAY THAT SLOGAN &amp; IT IS TRUE IS @realDonaldTrump .. #PromisesMadePromisesKept = ONLY BY PRESIDENT TRUMP!!! THE DEMOCRATS CAN ONLY LIE, CHEAT &amp; CORRUPT THIS COUNTRY BY OPEN BORDERS &amp; OBSTRUCTION OF JUSTICES ON THE STREETS.  U ARE NO LONGER SAFE WITH DEMOCRATS https://t.co/ohwZvmZ6oh\n",
      "6855:  @realDonaldTrump Open Borders = New Voters #Democrats\n",
      "7014:  Hey @SenSchumer @NancyPelosi &amp; the rest of you #Democrats guess what ! @realDonaldTrump listened to Americans when we said that Border security is important! https://t.co/izGIXkTBaX\n",
      "7366:  This is what #Democrats @DNC  are shutting down our government for  🤮\n",
      "2 Illegal Alien Killers in #California in 1 Month Protected by #SanctuaryState @KamalaHarris @RepBera @SenFeinstein @AdamSchiff @tedlieu \n",
      "@GavinNewsom - YOU PEOPLE ARE CRIMINALS TOO https://t.co/o7frzGQKi9\n",
      "\n",
      "rep-base\n",
      "\n",
      "7311:  Please share this video to everyone you can!  It is the #truth of what is going on with illegal immigrants flooding across our border.  Very Emotional! #MAGA #KAG #BuildThatWallNOW #FundTheDamnWallNOW #AmericanCitizensBeforeIllegals\n",
      " \n",
      "https://t.co/EQ1pLHGnOg https://t.co/pfLKMBAEWs\n",
      "3549:  Paul Allen donated $100K to help Republicans keep control of US House https://t.co/JcejQz4vt5\n",
      "HE KNOW #POTUS ISN'T\n",
      "MICRO SOFT ON ILLEGAL ALIEN CRIME NOR CRIME IN GENERAL!\n",
      "#Sunday #Trump #Congress #MAGA\n",
      "1243:  They're siding with illegal immigrants and child sex traffickers.  They don't care about the children.  Schumer literally just said he \"would rather keep the focus on Trump\" than pass a bill to fix this problem.  Wake UP Liberals! #tcot #p2 #maga https://t.co/B1xWL5mGF0\n",
      "10361:  Mexican-American judge that #Trump attacked could hear case on border wall - https://t.co/sBHa2CZtJN\n",
      "\n",
      "Top 100 Stories On The Web https://t.co/17W7QGUMFa\n",
      "4213:  What’s at stake this November if dems regain power (@HillaryClinton’s wish): \n",
      "\n",
      "Repeal the American flag and anthem. \n",
      "Honor MS-13 with congressional medals. \n",
      "Stuff SCOTUS with deranged leftists. \n",
      "Open border and dissolve ICE.\n",
      "\n",
      "#VoteGOP\n",
      "#MAGA #tucker #hannity #dobbs\n",
      "7567:  @EcoDevGuru @englemanmike1 @danojano We changed it to getting out of the Paris Accord. Saved us a ton of cash. We could build a wall around all the borders 🤔 #MAGA\n",
      "9839:  These sanctuary cities are quickly becoming the lipstick on the pig that's beginning to turn America against the dreamers.... https://t.co/DO4lMq5zNO\n",
      "4177:  You’re so correct 🇺🇸 The wall would not only pay for itself, but we would have excess for every year to come, after one year. Instead of more taxes on the voters’ ballets, let’s build the wall. #Trump 🇺🇸 https://t.co/ukt3TsqcOY\n",
      "4378:  We have only won the battle, we still need to win the war.\n",
      "\n",
      "What Democrats want.....\n",
      "\n",
      "Abolish Ice\n",
      "Impeach 45\n",
      "Open Borders\n",
      "Increase Taxes\n",
      "Resist \n",
      "Gun Grab\n",
      "Obstruct\n",
      "\n",
      "#MAGA\n",
      "#StayMad\n",
      "#2ndAmendment \n",
      "#Trump \n",
      "#BuildTheWall \n",
      "#RedWaveRising\n",
      "#USA\n",
      "#Q\n",
      "#BuildTheWall https://t.co/fakRPNukFJ\n",
      "1266:  Stand your ground Mr President! @realDonaldTrump We are with you! Our county hangs in the balance. You give in to this and we essentially have an open border to anyone who drags a child here.#MAGA\n",
      "\n",
      "dem-lead\n",
      "\n",
      "11986:  @AynRandPaulRyan @BlueWaveCS @StormResist @CaptainsLog2O18 @phillip_woodham @fenrir_71 @NHWolf75 @Phillybred13 @Goss30Goss @alt_4nTrade @morethanmySLE @ProudResister @lifeisfluff_44 @JCTheResistance @ctiss @katieboue @pleasesaveour @chillibeanboy @rob_bennett @AUdebm @SJW_Resistor @MaxChgo123 @plunderbund @wesley_jordan @My_Eyes__Only14 @debbiesideris @alt_localgov @1Jedi_Rey @TopRopeTravis @eorlins @lena_eisen @ekcj1234 @ChocoHarveyMilk @DonnaNoble10th @BonnieNorthGP @Alyssa_Milano @NormDGuerreIndy @SpockResists @tarastrong @MaverickofKain @senatorshoshana @ClareWHarris @KierstenWarren @TeelaResists @katkel_sc We need a clean Dream Act now. We need comprehensive immigration reform. I know we can do it in a way that is humane, just, and reflects our values - we just need Representatives willing to come to the table. I would be working for answers. #\n",
      "3003:  I went to the border in June to investigate President Trump’s awful, heartless family separation policy that tore thousands of children from their parents.\n",
      "\n",
      "Senator Heller didn’t, and now he and his dark money allies are ATTACKING me for that visit. Nevada deserves better.\n",
      "3622:  This is unacceptable. Our country cannot fix the urgent crisis of family separation at the border by deciding to keep immigrant families detained indefinitely. Children do not belong in jails, period. https://t.co/pLs7FhI67G\n",
      "4092:  My Grandfather served in WWII, my father in Vietnam, and I served for 10 years.\n",
      "\n",
      "After my good fortune, my wife &amp; I decided our purpose was to serve others from our community. I believe in access to healthcare, education, humane immigration reform, &amp; equal opportunities for all. https://t.co/6D9roP8Gib\n",
      "4950:  It’s time to end the partisan bickering that has characterized this issue. If handled correctly, what we see now as a threat could become the 1st step in a bipartisan effort at immigration reform. Read my op-ed on how to protect our borders without partisan pandering ⬇️ https://t.co/J7jWrxzGD7\n",
      "6514:  These is bipartisan consensus on funding 97% of government, but that’s being held hostage by one issue: the President’s costly, ineffective, &amp; unpopular border wall. Read more here: https://t.co/vi5rWAeHPx\n",
      "5150:  We must have a secure border, there’s no doubt about it. But the President is fear mongering and trying to distract voters from the issues by sending American troops to the border a week before the election. #NY24Debate\n",
      "2845:  I think we can all agree, no matter our political beliefs, that children should:\n",
      "1. NOT be separated from parents\n",
      "2. NOT be locked up &amp; forced to sleep on concrete floors\n",
      "3. NOT be put before a judge, alone, for deportation hearings\n",
      "4. NOT be given drugs!\n",
      "https://t.co/93alPwo7XG\n",
      "10692:  This compromise shows Americans what Congress can get done when we work in a bipartisan way. I’m glad we could work through these complicated issues in a constructive way in order to secure our border &amp; solve difficult immigration issues that I think both sides can support. https://t.co/P6PeeYKxaN\n",
      "838:  This is despicable. Families seeking asylum at our borders should not be separated - these children need their parents. We need to stop this inhumane practice now. https://t.co/PobNIkXB0Q\n",
      "\n",
      "rep-lead\n",
      "\n",
      "7701:  The White House may have forgotten Border Patrol Agent Brian Terry, but we haven't. Americans deserve answers. http://t.co/z6L6q4Js #tx17\n",
      "2657:  We have to secure our borders, defund sanctuary cities and defend our law enforcement. In fact, we should take the money from sanctuary cities and give it to ICE &gt;&gt; https://t.co/v9bgp9h7Ug &lt;&lt; 🇺🇸 @FoxNews @IngrahamAngle @jasoninthehouse #LetsFlyMI #TeamJohnJames #MISen https://t.co/cysyti14wT\n",
      "8494:  Congress must listen to the American public &amp; refocus immigration policy on the needs of American citizens. https://t.co/u1EhdK84Af\n",
      "6714:  \"House approves bill to avert government shutdown and fund border wall\"\n",
      "\n",
      "#DoWhatWeSaid\n",
      "\n",
      "https://t.co/piwpjg4m0L\n",
      "9221:  Introduced border security legislation with @JohnCornyn, @SenRonJohnson and @SenThomTillis today. https://t.co/gklvQrjpBu\n",
      "5931:  @RealBPhil Is it on funding border security?  Healthcare Freedom?  Balanced budget?  Reviewing the AUMF / strengthening military?\n",
      "2335:  After calling out @SenWarren for holding a pro illegal immigration rally in Boston instead of participating in the Braintree parade, Warren's office scrambled to set up a last second photo op in Braintree.  #mapoli #masen #masen2018 #magop \n",
      "\n",
      "https://t.co/p6WpsZOg9N\n",
      "2815:  Securing our border is a Law and Order issue—NOT an issue about race or nationality. Our border patrol agents work to keep our border secure so that our families can sleep safely at night. #CA24 https://t.co/cIbD5fkLa9\n",
      "11123:  Congressman Hunter and former Congressman Hunter discussing the border wall prototypes with @POTUS https://t.co/twv54JIYOm\n",
      "2858:  Yesterday at @senjudiciary, I questioned federal officials on the rise of reported illegal immigration in the US, the dangers children face trying to cross the border illegally &amp; the consequences of catch &amp; release practices that hamper enforcement. --&gt; https://t.co/K2Yy65GQRL\n",
      "\n"
     ]
    }
   ],
   "source": [
    "print_samples_all_groups(imm)"
   ]
  },
  {
   "cell_type": "markdown",
   "metadata": {},
   "source": [
    "### Pharma"
   ]
  },
  {
   "cell_type": "code",
   "execution_count": 49,
   "metadata": {},
   "outputs": [
    {
     "name": "stdout",
     "output_type": "stream",
     "text": [
      "I'm trying\n",
      "Connected to political tweets DB\n"
     ]
    },
    {
     "data": {
      "image/png": "[encoded data removed]",
      "text/plain": [
       "<Figure size 432x288 with 1 Axes>"
      ]
     },
     "metadata": {
      "needs_background": "light"
     },
     "output_type": "display_data"
    }
   ],
   "source": [
    "pharma = run_vader(\"pharma\")"
   ]
  },
  {
   "cell_type": "code",
   "execution_count": 50,
   "metadata": {},
   "outputs": [
    {
     "name": "stdout",
     "output_type": "stream",
     "text": [
      "dem-base\n",
      "\n",
      "1032:  Add your name: Donald Trump lied. Big Pharma just announced price hikes. https://t.co/4f2tcB1miF via @CREDOMobile #resist\n",
      "832:  Support the bold progressive proposal to lower Rx drug prices https://t.co/hh3EchoLax via @CREDOMobile #resist cc @RoKhanna @SenSanders\n",
      "355:  @tcdinges @PatrickEugene9 @SenatorMenendez @BobHugin So it's okay with you that Hugin, as Chairman &amp; CEO of a drug company  made 140 million by increasing the cost of a life saving medication for cancer patients by 165% as long as he wasn't indicted for it? If Menendez is so guilty, why did DA drop the case? #VoteBlue #NoHugin\n",
      "889:  Support the bold progressive proposal to lower Rx drug prices https://t.co/4SQnEpQjdz via @CREDOMobile #resist cc @RoKhanna @SenSanders\n",
      "1718:  @Thatquantum1 @DrewMcGrathArt @ClarkHutchinso2 @FoxNews C’mon. Drugs can kill and big pharma has role. But people don’t stock up on drugs then AMUSH LARGE CROWDS AND KILL PPL WITH PILLS!!! #RESIST #CadetBoneSpurs #DonTheCon\n",
      "1043:  Add your name: Donald Trump lied. Big Pharma just announced price hikes. https://t.co/aQDutYQ47f via @CREDOMobile #resist\n",
      "1011:  Act now: Break up Big Pharma monopolies on generic drugs https://t.co/hICWoG9D3x via @CREDOMobile #resist\n",
      "865:  Support the bold progressive proposal to lower Rx drug prices https://t.co/pTYgxLE4U6 via @CREDOMobile #resist cc @RoKhanna @SenSanders\n",
      "1020:  Sign now: @JanSchakowsky and @SenWarren are out to break Big Pharma monopolies https://t.co/PYnVTiudMz via @CREDOMobile #resist\n",
      "813:  Add your name: Support the bold progressive proposal to lower Rx drug prices https://t.co/EXigmZEADr via @CREDOMobile #resist cc @RoKhanna @SenSanders\n",
      "\n",
      "rep-base\n",
      "\n",
      "1601:  Your sickness is their profit margin. Does that make you as angry as it makes me? \n",
      "The time has come when we can no longer afford this charade. A special rotection unit needs to be established for medical innovators. \n",
      "Big Pharma is a serious threat. https://t.co/2NLHMviRAy\n",
      "910:  @BarackObama tried to get to big pharma. #Resist #GlobalCitizen #MondayMotivaton #MondayMood #MAGA #TheResistance #TrumpExpress2020 #FBRparty #Resisters #QAnon #TakeItBack #TrumpRussia @realDonaldTrump @The_Trump_Train #KAG #Resisting #Resign https://t.co/kF0w1bxVls\n",
      "610:  3 easy fixes to Social Security &amp; Medicare #GOP doesn't want you to know about https://t.co/N3HcjzCJjT via @RBReich\n",
      "1) Raise cap ( $128,400 ) on income subject to Social Security payroll taxes ( no brainer )\n",
      "2) Have gov use bargaining power to negotiate lower drug prices ( yes )\n",
      "791:  READ THIS! 👀 😱😱😱#MAGA #CCOT #CloserNation @thebestcloser Former pharma executive who joined HHS to help lower drug prices found bludgeoned to death in D.C. … ruled “suicide” https://t.co/DDgfavyEq0\n",
      "1581:  Unifying speech? Who wouldn't unifying with lowest black &amp; Hispanic unemployment, low drug prices, defeating #ISIS, excellent economic growth, strong borders &amp; fair immigration?  #SOTU?#StateOfTheUnion #Trump #MAGA\n",
      "1555:  Trump is railing against drug companies that gouge patients in an introduction of his new HHS secretary: a guy who gouged patients at Eli Lilly #populism #heartland #MAGA #TCOT\n",
      "1557:  @realDonaldTrump @HHSGov You promised repeatedly that he'll bring drug prices down but as a big pharma exec he oversaw price increases.  That said, maybe he can provide you with a drug to help cure your rampant ignorance.  \n",
      "#trump #fakepresident #AlexAzar #HHS #BigPharma\n",
      "59:  #MAGA  ... @DevinNunes \n",
      "\n",
      "Cutback on the over medicating of prescription drugs that you have been doing since getting to Congress AND stop the obstruction of justice.\n",
      "Your sentencing for Criminal Foreign Espionage Conspiracy #CFEC will be shorter\n",
      "#TrumpRussiaNRA https://t.co/rJajwtyvNM\n",
      "1693:  @realDonaldTrump  can you please stop allowing non medical professionals to make law on prescription drugs!!! Everyone knows the epidemic is heroin and illegal Fentanyl #MAGA please help\n",
      "529:  But #Kanye isn’t done monologuing he’s also talking about sleep deprivation, IQ tests, Freud, Tesla, big pharma, factories, hydrogen powered ✈️, SNL, liberals, jobs, China, cheating, criminality. And then #Trump gave him one solid 👅 and the press conference ended. #KanyeWest\n",
      "\n",
      "dem-lead\n",
      "\n",
      "636:  When it comes to healthcare, we can all agree on the goal: We need affordable healthcare that is accessible to everyone and we need to bring down the outrageous cost of prescription drugs.\n",
      "1354:  At drug price hearing today, Rs chided Ds for harping on secret ACA repeal meetings. Then they all ditched for a secret ACA repeal meeting. https://t.co/02LiL3y8Ng\n",
      "1517:  For flooding our streets w/#opioids, McKesson got a slap on the wrist.  We need to stand up to Big Pharma, even if @SenOrrinHatch can’t.\n",
      "\n",
      "https://t.co/K0gP30Vyef\n",
      "1180:  @RBReich Big Pharma is shameless! And to think, they spend more on advertising than on R &amp; D!\n",
      "1774:  (1/2) Tomorrow is National Prescription Drug Take Back Day, when everyone is encouraged to turn in their unused prescription drugs at designated drop-off points across the country! I encourage you to take advantage of this responsible way to dispose of unused medications. https://t.co/CdKVArR6bh\n",
      "379:  #PharmaBro Martin Skreli has a fan. This drug co CEO thinks gouging people is a “moral requirement” &amp; wants to raise the price of a drug 4 urinary tract infections by 400%. Talk about sick\n",
      " \n",
      "Another reason we need a Dem House to fight 4 lower drug prices\n",
      " \n",
      "https://t.co/4K8qOBJ9nr\n",
      "714:  Greedy Big Pharma CEO @BobHugin talks a big game about transparency, but can't walk the walk. #NJSen\n",
      "1720:  There’s a “Caravan” of snowbirds heading north!!! Since most are carrying copious amounts of prescription drugs, I’m thinking #POTUS should send troops to the Florida/Georgia border! 😉\n",
      "\n",
      "If you’re heading north this weekend, I-75 is a virtual parking lot all the way 2 Gainesville\n",
      "1181:  Glad to hear @POTUS mention the battle against prescription drug abuse -- gateway to #heroin #SOTU\n",
      "304:  There are some straightforward ways to start dealing with the costs in Medicare that won't amount to rationing or compromising the quality of care. This is most evident with drug prices. We pay several times more than other countries for the same drugs from the same manufacturers https://t.co/XjiQ6jY08l\n",
      "\n",
      "rep-lead\n",
      "\n",
      "1784:  Remember! Tomorrow is National Prescription Drug #TakeBackDay! You can help to keep Northeast FL safe simply by disposing of your old/unused prescription drugs: https://t.co/aOEWfErb8d https://t.co/b3YnzdHjc1\n",
      "391:  NEWS: The #Senate just passed the Patient Right to Know Drug Prices Act. I’m cosponsoring this bill that would stop “gag clauses.” These secret contracts prevent pharmacists from informing patients that they could pay less for a prescription. More: https://t.co/lDRRIYscBs\n",
      "1320:  Proud to author a bill on #TaxDay to provide Wisconsinites relief on prescription drugs &amp; other goods. https://t.co/yvdzYHrHqB #wiright\n",
      "317:  @WebMD This is why my campaign website points out there are TWO LAWS CONGRESS  COULD USE TO LOWER DRUG PRICES. If I win--which I doubt since I'm 3rd  party and get few donations--I would submit the bills to committee and  NEVER SHUT UP. https://t.co/toVZSLoKoS\n",
      "1414:  Special thanks to Dave Hopkins, KASPER Prog. Mgr., for speaking to the Rx Drug Abuse Caucus about Ky's prescription drug monitoring program.\n",
      "548:  Rising prescription drug prices place an unacceptable burden on Southwest Florida’s seniors. I’m fighting back by introducing the Drug Price Transparency Act in Congress. It’s long past time to right this wrong.\n",
      "https://t.co/TDDLba0ce6\n",
      "1086:  9 in 10 seniors w/ retiree benefits will lose their retiree prescription drug coverage through their employer under #Obamacare. #fullrepeal\n",
      "690:  .@senatorcarper has received $550,000 in donations from Big Pharma. Delawareans deserve a Senator who is not bought and sold. #RetireCarper #VoteRobArlett\n",
      "924:  Democrats have a concrete plan to save working families money by fighting ridiculous prescription drug price increases. Read our plan #ForThePeople: https://t.co/7elhp07uIH\n",
      "1357:  Productive phone call with @SGottliebFDA. I look forward to working together to tackle the issue of high prescription drug prices. https://t.co/QB2m1mX5DY\n",
      "\n"
     ]
    }
   ],
   "source": [
    "print_samples_all_groups(pharma)"
   ]
  },
  {
   "cell_type": "markdown",
   "metadata": {},
   "source": [
    "### Puerto Rico"
   ]
  },
  {
   "cell_type": "code",
   "execution_count": 33,
   "metadata": {},
   "outputs": [
    {
     "name": "stdout",
     "output_type": "stream",
     "text": [
      "I'm trying\n",
      "Connected to political tweets DB\n"
     ]
    },
    {
     "data": {
      "image/png": "[encoded data removed]",
      "text/plain": [
       "<Figure size 432x288 with 1 Axes>"
      ]
     },
     "metadata": {
      "needs_background": "light"
     },
     "output_type": "display_data"
    }
   ],
   "source": [
    "pr = run_vader(\"puerto_rico\")"
   ]
  },
  {
   "cell_type": "code",
   "execution_count": 34,
   "metadata": {},
   "outputs": [
    {
     "name": "stdout",
     "output_type": "stream",
     "text": [
      "dem-base\n",
      "\n",
      "540:  @WhiteHouse @fema The fact is you morons made the Americans in Puerto Rico wait. You've failed\n",
      "\n",
      "#VoteBlue #VoteThemOut https://t.co/sqZiPf0kVC\n",
      "316:  Remember...NYT Op-Ed writer who is supposedly saving us from Trump’s worst impulses, did nothing about 2000 children being taken from their parents at the border or the ridiculousness of Puerto Rico, the Tax Reform Act, or tariffs.  #trumpisMentallyill #BlueWave #Progressives\n",
      "686:  Let's help the Democrats' future in the senate by making\n",
      "Puerto Rico and DC into states with voting senators as soon as possible\n",
      "maybe Guam as well\n",
      "\n",
      "They should not be colonies\n",
      "A few new mainly blue states will help the Greed over People party get used to the reality of numbers https://t.co/nlTdg1tPTq\n",
      "663:  \"In the HOR, there are 237 #Republicans (including 1 Delegate &amp; the Resident Commissioner of Puerto Rico), 197 #Democrats (including 4 Delegates), &amp; 7 vacant seats. The Senate has 51 Republicans, 47 Democrats, &amp; 2 Independents, who both caucus with the Democrats.\"~#Internet\n",
      "#Vote\n",
      "216:  Signatures needed: Stop Wall Street vultures from exploiting Puerto Rico. Pass debt relief now. https://t.co/9C7TFV4x5Q via @CREDOMobile #resist\n",
      "238:  Stop Wall Street vultures from exploiting Puerto Rico. Pass debt relief now. https://t.co/cpmHhDunkW via @CREDOMobile #resist\n",
      "290:  So Trump throwing paper towels at the crowd during his 1 visit to Puerto Rico didn't help them?? \n",
      "#ImpeachTrump\n",
      "#LiarInChief\n",
      "#BlueWave\n",
      "#Resist\n",
      "San Juan mayor says the Trump administration killed thousands through neglect during Hurricane Maria @CNNPolitics https://t.co/KbcmiuqUd9\n",
      "463:  A year later, looking back at Trump’s tossing of paper towels in Puerto Rico. - he is a vile narcissist #staysafe #voteblue  https://t.co/VV4b4T00PM https://t.co/58lfK7WdOJ\n",
      "168:  @GOP and @DNC NEED TO STOP THE REPAINTING OF AIR FORCE ONE!!!  3BILLION DOLLARS FOR THE PAINT JOB BUT NO MONEY FOR HEALTHCARE, SCHOOLS, PUERTO RICO, HURRICANE KATRINA AND SANDY VICTIMS, REFUGEE SANCTUARY CHILDREN! #resist #impeach #coupdetat #traitortrump\n",
      "696:  @realDonaldTrump So the homeless in Puerto Rico don’t matter since the caravan! #Democrats\n",
      "\n",
      "rep-base\n",
      "\n",
      "1506:  @SenWarren @SenMarkey @fema Let’s just cut 2 the chase.\n",
      "\n",
      "@realDonaldTrump’s #MAGA is just code 4 Make America White Again.\n",
      "\n",
      "Everything he has said &amp; done confirms that he is the #WhiteSupremacistInChief.\n",
      "\n",
      "ICE raids &amp; Puerto Rico neglect amounts 2 ethnic cleansing &amp; slow genocide.\n",
      "\n",
      "#Trump\n",
      "#TrumpIsNewHitler\n",
      "442:  RT realDonaldTrump \"RT LouDobbs: #FakeNews- The Hurricane Maria death tolls have been inflated &amp; President realDonaldTrump was right to call out organizations who threw out science and statistics to try to discredit his administration. #MAGA #TrumpTr… https://t.co/QES156pAW9\"\n",
      "635:  @realDonaldTrump Maybe you go help the folks in Puerto Rico #maga #fatpresident\n",
      "117:  #Trump has the resources and will to do this but he let Puerto Rico die\n",
      "1312:  4 mos after Hurricane Maria, about 450,000 of 1.5 million electricity customers in Puerto Rico still have no service.\n",
      "\n",
      "1,500,000 Americans, no power, 4mos\n",
      "\n",
      "In other news, Air Force One to be retrofitted with a new refrigerator, at a cost of nearly $24 million\n",
      "\n",
      "$24,000,000\n",
      "\n",
      "#MAGA https://t.co/nVpEdpqarm\n",
      "286:  Hurricane Maria: Puerto Rico mayor derides Trump actions #Trump #Political #Whitehouse #News https://t.co/epSzXXfpzc\n",
      "119:  That's what the #GOP and their supporters will be remembered for -  genocide (don't ever forget Puerto Rico) and crimes against humanity, too many to list here. https://t.co/2b4nMt40b5\n",
      "267:  Study estimates Puerto Rico deaths from Hurricane Maria at nearly 3,000 https://t.co/cSoTmQi5zN https://t.co/GA5oXyiqcm #news #breaking #trump https://t.co/165r9aE3HP\n",
      "288:  .@realDonaldTrump Hearing you lie and blame Puerto Rico for unnecessary death is sickening. You have no conscience. #MAGA IS BULLSHIT, SHE was great before you got your little hands on her.  #WednesdayWisdom #TrumpLiesMatter #VoteBlue2018\n",
      "1317:  Many Puerto Ricans adrift in US hotels after Hurricane Maria - https://t.co/TTi6WGQEKt #news #politics #trump #whitehouse\n",
      "\n",
      "dem-lead\n",
      "\n",
      "42:  Rick Scott just said: \"I don't know what I would do differently\" in Puerto Rico. REALLY? Nine months after the hurricane and people still do not have electricity, water, and jobs! Rick Scott does not understand that people are hurting and in need. https://t.co/H0k9RsO1Di\n",
      "954:  #FEMA is bungling Puerto Rico disaster because they can't get drivers! Just put drivers in trucks.\n",
      "1137:  The urgent need in Puerto Rico to quickly restore power, repair homes and ensure the availability of safe drinking water can't be overstated https://t.co/33PSSqtFRw\n",
      "1201:  Together, @HispanicCaucus Chair @RepLujanGrisham and I sent a letter to  @SenateMajLdr &amp; @SpeakerRyan expressing our outrage that the #GOPTaxScam treats Puerto Rico as an afterthought. It must be amended to help NOT destroy the Island’s economy! https://t.co/djtCBKqe7o\n",
      "1199:  This video is from Yabucoa in Puerto Rico - my hometown where Maria made landfall - not two days or two weeks after Maria hit - but this Saturday. There are still people standing in line for food &amp; water!  #Shameful @nytimes @ElNuevoDia @DavidBegnaud https://t.co/KpQQiJsx5m\n",
      "497:  Trump says Puerto Rico death toll a hoax. Scott says he wouldn’t do anything different in Puerto Rico than Trump. Two people you can’t trust: Scott and Trump. Watch this: https://t.co/Oo4guCHjmr\n",
      "881:  Thoughts &amp;  prayers for Puerto Rico are not enough. The people there need a bill this week that provides water, power, &amp; material assistance\n",
      "725:  My thanks to @Lin_Manuel for your ongoing work to inspire and represent Puerto Rico. You are always finding ways to give back. https://t.co/eAJsJImog4\n",
      "874:  Our fellow Americans need and deserve our help in Puerto Rico. https://t.co/DUInWa19Hb\n",
      "486:  As I close out another year, thought I’d share one of my fav pics taken two months ago aboard a helicopter to assess recovery efforts in Puerto Rico &amp; USVI after Hurricane Maria. Many many amazing experiences &amp; memories. Look forward to what this new year of life brings. #bday https://t.co/HSuQb8gDBF\n",
      "\n",
      "rep-lead\n",
      "\n",
      "166:  A new economic report finds no positive case for waiving the Jones Act in Puerto Rico. Instead, #JonesAct carriers, like those at @JAXPORT, ensure a high level of supply chain efficiency, saving Puerto Rico $92 million annually. https://t.co/zMbaV4u1xD\n",
      "729:  Ann and I are deeply grateful to @LuisFortuno51, his wife, &amp; the people of Puerto Rico for their support &amp; help in winning today’s primary\n",
      "91:  I’ll keep fighting every day to help the families of Puerto Rico fully recover from Hurricane Maria. https://t.co/NegCdFoT5Z\n",
      "404:  I disagree with @POTUS– an independent study said thousands were lost and Gov. Rosselló agreed. I've been to Puerto Rico 7 times &amp; saw devastation firsthand. The loss of any life is tragic; the extent of lives lost as a result of Maria is heart wrenching. I'll continue to help PR\n",
      "564:  It’s imperative that we do all we can to support the people, local officials, and federal authorities on the island. When I am elected Senator, ensuring the people of Puerto Rico get the federal assistance they need will be one of my top priorities.\n",
      "563:  Nearly 3,000 people have died since the Category 4 hurricane made landfall, and many more continue to struggle as they try to resume a life of normalcy. While the recovery has progressed, Puerto Rico still faces many challenges.\n",
      "1558:  Puerto Rico needs a long-term solution! CMS must address lower federal matching rates for Medicaid that island receives – a disparity that will be even more problematic as #HurricaneSeason2018 approaches. @Pwr4PuertoRico @HispanicCaucus @HispanicFed @latinojustice https://t.co/Q1EwPyXYic\n",
      "823:  My prayers are with the people of the USVI, Puerto Rico, &amp; all those in the path of #HurricaneMaria. Please stay safe in the hours ahead.\n",
      "730:  Does the Puerto Rico victory for @MittRomney indicate his ability to gain the Hispanic vote? #election2012 http://t.co/bdu626UK\n",
      "646:  Yesterday, I spent the day with   @RepJenniffer Gonzalez-Colon traveling across the state discussing issues that effect the people of Puerto Rico and New Jerseyans alike. I’m honored to have earned her support, and I’m working hard to earn yours. https://t.co/tlVbX93mSA\n",
      "\n"
     ]
    }
   ],
   "source": [
    "print_samples_all_groups(pr)"
   ]
  },
  {
   "cell_type": "markdown",
   "metadata": {},
   "source": [
    "### Rural"
   ]
  },
  {
   "cell_type": "code",
   "execution_count": 35,
   "metadata": {},
   "outputs": [
    {
     "name": "stdout",
     "output_type": "stream",
     "text": [
      "I'm trying\n",
      "Connected to political tweets DB\n"
     ]
    },
    {
     "data": {
      "image/png": "[encoded data removed]",
      "text/plain": [
       "<Figure size 432x288 with 1 Axes>"
      ]
     },
     "metadata": {
      "needs_background": "light"
     },
     "output_type": "display_data"
    }
   ],
   "source": [
    "rural = run_vader(\"rural\")"
   ]
  },
  {
   "cell_type": "code",
   "execution_count": 36,
   "metadata": {},
   "outputs": [
    {
     "name": "stdout",
     "output_type": "stream",
     "text": [
      "dem-base\n",
      "\n",
      "88:  Hey Resisters! This is my 1st FBR party! Blue living in a red rural community. Almost gave up, then I found YOU! \n",
      "#RightSideOfHistory\n",
      "Resist, Stand up &amp; Fight.                    \n",
      "1. Like.\n",
      "2. Retweet.\n",
      "3. Follow.\n",
      "4. I'll follow back  \n",
      "#Resisters\n",
      "#BlueWave2018 \n",
      "#FBR \n",
      "#FBRParty\n",
      "639:  Trump posts video of himself singing in overalls ahead of farm bill signing #Resist #ResistTrump #FuckTrump https://t.co/ey7kIkOK37\n",
      "645:  @realDonaldTrump You claim the farm bill will help farmers - you completely screwed any soybean farmers ! \n",
      "#TrumpResign #TrumpShutdown #Resist \n",
      "China’s US soybean imports drop to zero for first time since trade war with Trump erupted (link: https://t.co/N1SGOgYHPY) https://t.co/N1SGOgYHPY\n",
      "618:  @SenJohnHoeven Your terrible tax gift to the rich slashes the budget for good things like farm bills and farmer subsidies.  #Resist . Emergency relief, schools, roads, bridges, law enforcement, etc and the national debt all require those taxes. My rent never gets lower. You're a thief. I vote.\n",
      "322:  I know it is probably unfair to place all of the burden on you but I have little choice. I live in Ky. @RepJohnYarmuth Would you pls begin working on a bill to reverse this farm bill.  I hope to send you some assistance in November. TY. #Vote #VoteBlue #VoteBlue2018 https://t.co/cUIyLgcPRc\n",
      "586:  @connorobrienNH Led by Chair Pete Sessions (R Tx) the GOP House Rules Committee slipped the resolution banning the 115th Congress from debating US role in MBS' #YemenCantWait war into the popular Farm Bill. The Committee has 9 Rs vs only 4 Ds. @SpeakerRyan supports this subterfuge.\n",
      "#Resist\n",
      "642:  Trendy Hemp Compound CBD Set for Big Boost From U.S. Farm Bill #WW3, #Trump #Obama #Resist https://t.co/GmSH8JBD95\n",
      "523:  .@BGOV Wall Funding, Taxes, Farm Bill: What to Watch in the Lame Duck https://t.co/uUkcWB2E53 @NOgnanovich #Healthcare #LameDuck #Congress #Democrats #Republicans #FederalBudget #Committees\n",
      "1536:  House GOP limping to Election Day as farm bill implodes #Resist #FuckTrump https://t.co/9RcUz28Ijy\n",
      "437:  @dallasnews \"Kids are hungry, farmers are struggling, rural communities are suffering, and this is his focus?\" Olson campaign manager Kolby Monnig. \n",
      "\n",
      "hear hear, Kolby.\n",
      "Sid can't deal with living in the 21st century &amp; the pressing issues facing Texas ag community. \n",
      "   \n",
      "#VoteBlue\n",
      "#KimOlson\n",
      "\n",
      "rep-base\n",
      "\n",
      "1348:  What's the future hold for #Nebraska and #Iowa farmers, ranchers caught in the #trade and #tariff fight between #Trump and #China? \n",
      "\n",
      "From staff and wire reports: \n",
      "\n",
      "https://t.co/eTBql0Wax3\n",
      "573:  RT JxhnBinder: Non-college educated white men, white evangelical Christians, and Americans living in rural communities are the most supportive of shutting down the government to fund a border wall. https://t.co/HVj1HwBvT5 #MAGA\n",
      "75:  House passes farm bill including work requirements for food stamp recipients #Welfare #WakeUpAmerica #QAnon #MAGA https://t.co/F2JW1WyqNB\n",
      "1220:  I just listed: 'Ting Hsien: A North China Rural Community', for 9.99 via @amazon https://t.co/eH4k6NRR1F #WhatToRead #BookLovers Brady Apple Amazon #GoodReads #SuperBowl Academic Books #PrimeBooks FBI #Happy #Trump natalie wood\n",
      "646:  Grocery News: President Trump signs farm bill into law Feedstuffs  https://t.co/PrIy9aBl1P via SN_news  #farmbill #Trump https://t.co/Csick3ITFW\n",
      "601:  RT reason: Congress just passed a cronyist, bloated, and expensive farm bill. But at least it legalized industrial hemp?   ¯\\_(ツ)_/¯ https://t.co/AxVXL04djA #MAGA #donaldtrump #WalkAway #WalkAwayFromDemocrats\n",
      "1543:  Love the fetus. Hate the child. Makes sense. O SNAP. The farm bill didn’t pass because Dems couldn’t vote for the rider attacking the Supplemental Nutrition Assistance Program4kids (SNAP).  #MAGA SCAM #VoteBlue2018 #HandsOffSNAP #TrumpCrimeFamily https://t.co/1XcSHHAvLz\n",
      "630:  I uploaded a new episode, \"Murdock: Trump Should Use Farm Bill to Force Wall Funding\", on #spreaker #congress #funding #immigration #trump #wall https://t.co/SJNVB73tP1\n",
      "1204:  #Trump's 2018 Farm Bill: 'Work Is Pathway to Self-Sufficiency' for #FoodStamp Recipients\n",
      "https://t.co/r1bNIBPokA\n",
      "Hey, look a work requirement for #Welfare.\n",
      "Just like #Reagen and #Clinton passed, but disappeared over time.\n",
      "Need to look at the whole @axios. https://t.co/LE9LpECIZY\n",
      "372:  @realDonaldTrump Farm Bill will destroy China. \n",
      "\n",
      "We import Hemp from China. US farmers are not allowed to grow! \n",
      "\n",
      "Farm Bill legalizes Hemp Farming in America again! \n",
      "\n",
      "#MAGA!\n",
      "\n",
      "dem-lead\n",
      "\n",
      "777:  Jon meets with #ag workers in Great Falls to discuss priorities for the 2012 Farm Bill  http://bit.ly/hiCiTf  http://bit.ly/hsfYcS\n",
      "703:  .@Stabenow: USDA had 11 different definitions for \"rural.\" Senate Farm Bill streamlined it to 1 to improve rural development.\n",
      "551:  The proposed Renewable Fuel Standards released this week are helpful, but they are meaningless if the EPA continues to grant refinery waivers to multi-billion-dollar oil companies. These waivers hurt our farmers, biofuel producers and rural communities.\n",
      "1213:  It’s time to send new leadership to Washington that fights for rural communities like ours. Read my reaction to #SOTU here: https://t.co/ni9lnQaGCg\n",
      "1347:  Good morning. Here's another informative article about the struggles our rural communities and their hospitals face.\n",
      "\n",
      "People shouldn't be forced to choose between getting the care they need and \"making do\". Health care is a right, not a privilege. \n",
      "\n",
      "https://t.co/2lbgeXPAlb\n",
      "399:  The Senate-passed Farm Bill makes important investments in the future of ag, including a Joe-led provision to reauthorize and update the New Era Rural Technology Program to help community colleges fund efforts to develop a workforce trained in precision agriculture management. https://t.co/KOcrMs4Epm\n",
      "375:  House Ag Farm Bill Conferee Highlight: Rep. Ted Yoho (FL-03) https://t.co/DImd4i8LMQ\n",
      "1281:  The #FarmBill will be the biggest climate change bill we consider this year. We need a FOOD &amp; Farm bill that will help farmers invest in regenerative farming practices to provide more value with less environmental disruption and carbon pollution. #FixTheFarmBill https://t.co/0IwxGKeyck\n",
      "253:  This is a great example of building the partnerships to create economic development while keeping rural Oregonians safe and healthy. Let’s work for better access to broadband and better healthcare legislation that works for our rural communities. https://t.co/pegVGmj2WQ\n",
      "1277:  #ICYMI: Joe was in Montgomery County where he met with local conservationists, sportsmen, and folks from @DucksUnlimited to talk about conservation and technical assistance programs in the Farm Bill. https://t.co/GBFXzA4GpM\n",
      "\n",
      "rep-lead\n",
      "\n",
      "1181:  Excited to have President Trump in Tennessee today speaking to the #AFBF18 convention! Supporting our farmers is key to lifting up the 6th District’s rural communities and bringing prosperity to more Tennesseans. #TN6\n",
      "5:  We can and must pass both the farm bill and immigration fixes, but it was not helpful to tie them together. #NE02\n",
      "\n",
      "https://t.co/qzjv7kOOuS\n",
      "76:  On behalf of our farmers and families, I would like to thank Chair @ConawayTX11 for his leadership on the Farm Bill, and for his commitment to protecting the dignity of work.\n",
      "935:  One of the best economic opportunities for our rural communities is telecommuting. #MTpol #MTgov #Teletownhall\n",
      "449:  Glad to spend the morning visiting the Western Sugar Co-Op and hosting an Ag roundtable in Billings. Ag is #1 and I’ll always stand with our farmers and ranchers! #MontanaFirst #MAGA #mtpol #mtsen https://t.co/0AEQKyeIV2\n",
      "890:  I was happy to vote for Secure Rural Schools today and keep our promise to rural communities. http://t.co/KJhgitXXoK\n",
      "1118:  This morning I met with representatives from the @AmForestFndn from the Snowy Oak Tree Farm in Pierpont. We had a great discussion regarding the reauthorization of the Farm Bill that is coming up next year. I always love hearing about AFF's conservation efforts in our district. https://t.co/sA8BoCycSj\n",
      "95:  We have seven million more jobs open than we have people on unemployment. It’s the right time to get people trained. That’s why I’m proud to support the just-passed Farm Bill, which will get folks back to work! https://t.co/Ypy9tlaxhu\n",
      "763:  Discussing the farm bill right now with Joel Heitkamp on @790KFGO. Listen live here: http://t.co/fRdxuk0luC\n",
      "635:  Watch POTUS Farm Bill Signing LIVE: https://t.co/6pxtrph9vV\n",
      "\n"
     ]
    }
   ],
   "source": [
    "print_samples_all_groups(rural)"
   ]
  },
  {
   "cell_type": "markdown",
   "metadata": {},
   "source": [
    "### Russia"
   ]
  },
  {
   "cell_type": "code",
   "execution_count": 37,
   "metadata": {},
   "outputs": [
    {
     "name": "stdout",
     "output_type": "stream",
     "text": [
      "I'm trying\n",
      "Connected to political tweets DB\n"
     ]
    },
    {
     "data": {
      "image/png": "[encoded data removed]",
      "text/plain": [
       "<Figure size 432x288 with 1 Axes>"
      ]
     },
     "metadata": {
      "needs_background": "light"
     },
     "output_type": "display_data"
    }
   ],
   "source": [
    "russia = run_vader(\"russia\")"
   ]
  },
  {
   "cell_type": "code",
   "execution_count": 38,
   "metadata": {},
   "outputs": [
    {
     "name": "stdout",
     "output_type": "stream",
     "text": [
      "dem-base\n",
      "\n",
      "651:  Didn't I tell you tRUMP will NEVER face any charges  from the Mueller investigation? Once Noel Francisco takes over the Attorney General position, he will dismiss Mueller and all investigations. SMFH. #RESIST #REVOLT\n",
      "109:  Don't have a photo, but I truly hate Kelly Anne Conway. She is truly an evil witch. Let the witch hunt burn her at the stake. https://t.co/vUwL2JND9s\n",
      "104:  @NunesCurt Maybe all the binding spells incanted by REAL witches have helped the trump clowns (who refer to the truth as a 'witch hunt') meet justice? #bindingSpells #resist #MAGAts #BlueTsunami #LockThemUp\n",
      "1583:  https://t.co/o9WTL93RZG  Sessions in July #Walmart #ThisIsUs WITCH HUNT Wages Rubio #BoycottNRA @jpw643 #BBCeleb Schiff #RESIST Trump's Russian Hope Hicks #BREAKING #REVOLT One By One END THE NRA Manafort Dick's Sporting Goods Ring #SDLive Dalton High School #q #TheXfiles #LivePD https://t.co/kGVwW8O4oF\n",
      "491:  Trump launches new White House 'witch hunt' to identify aides that talked to mean Bob Woodward https://t.co/h6tVkyxwt5 #Asshole #Trump #LockHimUp #p2 #USA #Democrats #VOTE #VoteBlue #VoteBlue2018 #BlueWave\n",
      "231:  @Unpersuaded112 @Lynnevere Demand ALL Russian Visa's be revoked and ALL Russians given 24 hrs to leave USA, remaining Russians arrested as Spies - Increase Russia sanctions- complete travel ban to/from Russia until after Mueller Investigation complete  #ImpeachTrump #Resistance @realDonaldTrump #RuleOfLaw\n",
      "616:  Everyone getting nervous about silence from the Special Counsel, here's a heads up.\n",
      "\n",
      "He's holding out til we win at least one house of Congress, and then it's going to rain hellfire.\n",
      "\n",
      "Better vote.\n",
      "\n",
      "#BlueWave2018\n",
      "116:  Time for a WITCH HUNT #FBR party style!!  A tsunami, #StrongerTogether ,  #resist time to connect #fbr time to voice collective opinions  #BlueWave .  Strength in numbers.  1. Like  2. Follow  3. Retweet   🧙‍♀️4. I'll follow back🧙‍♀️ #1Voice @1VoiceForMe https://t.co/JOCh55muJ4\n",
      "314:  A reminder that a special counsel can not impeach or indict Trump. Mueller can only report to Congress. It will be up to them to impeach and/or indict. The coming midterms are crucial. #VOTE #Resist\n",
      "1758:  @ProudResister YEP. First thing I thought .....here he goes again attempting to influence witnesses again. Like Mueller isn't paying attention. 🤣@FBIWFO @TheJusticeDept   Rod Rosenstein Deputy Attorney General &amp; Special Counsel Robert Mueller #Resistance #TheResistance #Resist #VoteThemOut\n",
      "\n",
      "rep-base\n",
      "\n",
      "1530:  him to be his #AttorneyGeneral had he known Jeff would buckle at the knees at the first hint of conflict. Jeff where is the 2nd special Counsel that 20+ senators have asked you to implement for months and months? They felt you #Incapable of handling it thus the request. #MAGA https://t.co/Cn4Lw6JkJ5\n",
      "1882:  If Hilary was elected president would there be a special counsel Investigation into her deleting her emails and destroying hard drives 🤔🤔🤔 #MAGA #witchhunt #Trump\n",
      "1343:  Absofreakinlutely.  We also want to see how much money was pissed away on the witch hunt. https://t.co/q73wjbhSjI\n",
      "605:  The good guys are cooking up a perfect storm for November.  Backlash against the Kavanaugh witch hunt, ongoing spy gate revelations, Kanye leading the fight for black voters, and a resurgent economy.\n",
      "@RealJamesWoods @neeberton #maga @ChrisEvans\n",
      "1908:  This really show Mueller’s investigation is a “Witch Hunt!” https://t.co/GOQke2HTlE\n",
      "1601:  #trump when will we the people or the majority stand up for our man and demand congress stop this witch hunt.\n",
      "345:  @realDonaldTrump Also, change the rules in the history of the Rigged Witch Hunt would never have been hurt by these clowns and losers!\n",
      "#MAGA\n",
      "1659:  @Comey Would rather hear from an INDEPENDENT VOICE. Like the OIG Report or the next Special Counsel. Hope you like orange. #MAGA\n",
      "948:  #Comey told lawmakers that he and special counsel #Mueller are “NOT FRIENDS IN A SOCIAL SENSE”\n",
      "\n",
      "DISMISSING #Trump’s BOGUS ASSERTION that the ousted bureau chief is “Best Friends” with the leader of the #RussiaProbe\n",
      "\n",
      "FAKE CLAIM for WEAK MINDED #MAGA\n",
      "\n",
      "#MOG https://t.co/N1JIJG2Ky4\n",
      "1452:  ANOTHER name for the 2nd special counsel to investigate. Another orange jumpsuit please. #MAGA #hannity @dbongino  https://t.co/nSbUmhhYWZ\n",
      "\n",
      "dem-lead\n",
      "\n",
      "1307:  @LucasESchaefer @RepRWilliams @HouseIntelComm @POTUS The #NunesMemo is meant to undermine Mueller investigation &amp; distract from Trump's refusal to enact sanctions against Russia yesterday. \n",
      "\n",
      "Why is @RepRWilliams suborning America's interest to Russia's? Why is he actively *endangering the lives of FBI field agents*?\n",
      "2149:  Special Counsel Mueller must be allowed to follow the facts and the law wherever they lead without interference or delay. Rod Rosenstein must protect the Special Counsel investigation as he promised Congress.\n",
      "142:  Today on the Floor, House Dems are voting against another partisan attempt by @HouseGOP to undermine Special Counsel Mueller’s investigation. The House is also voting on passage of the Fiscal Year 2019 funding bill for @DeptofDefense. https://t.co/iI8CvMe8QH\n",
      "1141:  Paging Special Counsel Robert Mueller... https://t.co/7dIAQ6x6Gc\n",
      "929:  I’m joining @wolfblitzer on @CNNSitRoom at 5 PM ET/2 PM PT to discuss some breaking news regarding the Mueller investigation. I hope you can tune in!\n",
      "279:  Rosenstein will not be impeached. \n",
      "\n",
      "My Republican colleagues want to get rid of Rosenstein because they want to stop the Mueller investigation, but we won’t let that happen. \n",
      "\n",
      "We will #ProtectRosenstein because justice trumps politics.\n",
      "1354:  I've read the #NunesMemo and here's what I learned from it: four federal judges found FOUR separate findings of probable cause against Page. The conclusion I get from the memo is that we should let the Mueller investigation continue. #RemoveNunes https://t.co/57eeYKO3Y7\n",
      "1355:  After praising the release of the partisan #memo, Mr. Fitzpatrick – himself a former #FBI agent – calls for “bad actors” within the FBI to be named publicly and punished. Naming and shaming FBI agents because of a partisan witch hunt is un-American. #NunesMemo #PA08 #MemoDay\n",
      "1221:  Special Counsel Bob Mueller is working to uncover the truth. The American people need to know the truth. Special Counsel Mueller and the team he's leading must be able to complete their investigation. https://t.co/FJzT8D48AS\n",
      "1714:  My full interview with @CNN @CNNSitRoom @wolfblitzer on @realDonaldTrump’s attacks on #Mueller &amp; why we need to protect the Special Counsel at all costs as our country heads towards constitutional crisis. https://t.co/Q1543wVprP\n",
      "\n",
      "rep-lead\n",
      "\n",
      "2047:  No, Adam. What’s corrosive to our democracy is your year long witch hunt against our @POTUS \n",
      "What’s corrosive to our democracy is your sowing of doubt into the minds of the American people about the legitimacy of President Trump. \n",
      "\n",
      "Abundant falsehoods? \n",
      "Look in the mirror. https://t.co/oNraA0M8DZ\n",
      "1187:  I fully support AG @JeffSessions if he appoints a special counsel to investigate the Clinton Foundation’s role in Uranium One sale. https://t.co/6NkuNvpUwQ\n",
      "1120:  Read my statement on the appointment of Special Counsel, Robert Mueller here: https://t.co/gx7g14zLcS\n",
      "1719:  Every member of Congress should be speaking up to protect Special Counsel Mueller’s investigation. He must be allowed to do his job without fear of an unjust removal spurred by partisan motivation. https://t.co/exbVpP46if\n",
      "364:  Hilarious! One of the biggest obstructionists in Congress is talking about putting country over party. Adam, When will you start putting your constituents ahead of your Russian witch hunt? I will represent my community-something you failed to do. \n",
      "\n",
      "https://t.co/5TltNk33Pl https://t.co/JIK8lG9nRU\n",
      "817:  @Jim_Jordan @nytimes How is it that and a non-Third World country Rosenstein was over the Mueller investigation when he in fact should’ve been a subject of the investigation??????\n",
      "1185:  Tune in to the @IngrahamAngle at 9CST. I'll be discussing the need for a special counsel to investigate #UraniumOne #FusionGPS and the #ClintonFoundation\n",
      "2098:  .@realDonaldTrump has spent the last year systematically undermining Special Counsel Mueller’s investigation. Constitutional crisis? Hear what @RepRaskin has to say about what it means for our democracy. https://t.co/5QoZOuJovv\n",
      "2016:  Judge issues 1st beat down to Comey for his witch hunt against the Predident. Proud of Judge Elliott.\n",
      "1856:  About to call into Tom Roten show. Talking #Facebook #Syria and Special Counsel. @800_WVHU @TomRoten\n",
      "\n"
     ]
    }
   ],
   "source": [
    "print_samples_all_groups(russia)"
   ]
  },
  {
   "cell_type": "markdown",
   "metadata": {},
   "source": [
    "### Shutdown"
   ]
  },
  {
   "cell_type": "code",
   "execution_count": 39,
   "metadata": {},
   "outputs": [
    {
     "name": "stdout",
     "output_type": "stream",
     "text": [
      "I'm trying\n",
      "Connected to political tweets DB\n"
     ]
    },
    {
     "data": {
      "image/png": "[encoded data removed]",
      "text/plain": [
       "<Figure size 432x288 with 1 Axes>"
      ]
     },
     "metadata": {
      "needs_background": "light"
     },
     "output_type": "display_data"
    }
   ],
   "source": [
    "sd = run_vader(\"shutdown\")"
   ]
  },
  {
   "cell_type": "code",
   "execution_count": 40,
   "metadata": {},
   "outputs": [
    {
     "name": "stdout",
     "output_type": "stream",
     "text": [
      "dem-base\n",
      "\n",
      "68:  LUCY McBATH/GA:\n",
      "What makes this an amazing #BlueWave is: Seat was held by (R)s since the 70s: Tom Price and father of the R-caused government shutdowns: Newt \"GIN-GRINCH.\"\n",
      "\n",
      "SINCE THE 1970s! Remind your (R) uncle my mantra that NO (R) has won a 1st Term Pop Vote since 1988!\n",
      "271:  Yep.  House Republicans did their part.\n",
      "If #democrats in the senate vote it down, they shut the government down.\n",
      "\n",
      "#SchumerShutdown\n",
      "#DemocratShutdown\n",
      "#BuildTheWall\n",
      "#MAGA https://t.co/V36SlTK7Rs\n",
      "430:  So let me get this straight, we have a government shutdown &amp; the incoming speaker of the house, #NancyPelosi is in Hawaii? As an #IndependentVoter I find this repulsive. #Democrats never seem to learn, and continue to have hideous leadership who do nothing but obstruct.\n",
      "\n",
      "#msnbc https://t.co/2VsuRd2Iwc\n",
      "931:  #BREAKINGNEWS &gt;&gt;&gt; #Senate #Democrats learned their lesson and didn't hold the country hostage to #DACA and passed a long-term budget deal. Now . . . will the House Democrats shut the government down?\n",
      "118:  Shut down the government if Dems do not agree to funding the wall https://t.co/tKa1nV4puT\n",
      "190:  White House closer to partial shutdown with wall demand\n",
      "\n",
      "Shutting down the government to \"protect border security\" makes total sense! Especially seeing that one of the 17 agencies that will shut down would be @DHSgov #TrumpShutdown #FBR #Resist \n",
      "\n",
      "https://t.co/FswaF9Pl3h\n",
      "32:  @realDonaldTrump OK please please please please please shut down the government please please please please please please thank you. #BlueWave\n",
      "210:  The @freedomcaucus is trying to persuade the weak lame ducks and the weak @POTUS to reject the #CR and shut down the government. \n",
      "\n",
      "Time to dial ☎️\n",
      "\n",
      "US representatives 202-225-3121\n",
      "US senators 202-224-3121\n",
      "\n",
      "This is how we #Resist \n",
      "#ConstantVigilance https://t.co/BkruTvsGZ7\n",
      "917:  Trump threatens another government shutdown over immigration.\n",
      "Let's make this clear, this will be the fault of 45. It's disgusting to use human life's as a shield for his racist wall!\n",
      "#Resist\n",
      "#Demforce https://t.co/tjbiN15zT6\n",
      "927:  Trump Just Screwed Republicans Bigly By Wanting Another Government Shutdown https://t.co/TBd3t6vP1U https://t.co/yMF5oUY2iw\n",
      "\n",
      "— #Resist (ZaibatsuNews) February 7, 2018\n",
      "\n",
      "rep-base\n",
      "\n",
      "288:  Dollar regains strength as government shutdown fears weigh on financial markets https://t.co/yAPG5hnyT2\n",
      "\n",
      "#ShutDownGoverment #Trump #Nasdaq #Eagles #Dodgers #Forex #ForexSignals #DayTrading #CSCO #SPY #RealEstate #DXY #Euro\n",
      "928:  @realDonaldTrump Please call off the military parade. We cannot afford it. We should be funding programs within our communities and the CDC.  The government shutdown is looming. This is not good for America. #MAGA\n",
      "161:  Nancy Pelosi Hints She’ll Shut Down Government Forever to Stop Trump From Building the Border Wall… https://t.co/uYfFEJ7Htw  #Trump #MAGA\n",
      "72:  Government shutdown if no funds for border wall: Trump\n",
      "#Government #Trump #socialnewsxyz\n",
      "https://t.co/WmV1gRaOKp https://t.co/WmV1gRaOKp\n",
      "301:  @realDonaldTrump #MAGA=$hit \"I am proud to shut down the government for border security,\" Trump told the Democratic leaders. \"I will take the mantle. I will shut it down, I'm not going to blame you for it.\" - DT, last wk.\n",
      "950:  WOW and it's only February. According to @Wikipedia \"2018 was the second year in American history to have more than one partial federal government shutdown in one year.\" #trump #shutdown #potus https://t.co/oxAZaZNkFA\n",
      "198:  @ECMcLaughlin @j_mueckler @NancyPelosi You are dreaming. Trump will never cave. He doesn't need to shut down the government. Think military budget...... #BuildTheWall #MAGA #CryinChuck\n",
      "912:  Trump threatens government shutdown if Congress doesn&amp;#39;t fix immigration laws - https://t.co/oj7yoHqpc4 - #USPolitics #trump #potus\n",
      "137:  Be proud about shutting down the government for border security, Donald. We, your base, support you. Only a wall will help stem the illegal invasion.\n",
      "#trump #maga #kag #gop #potus #dems\n",
      "#seanhannity #tuckercarlsontonight #ingrahamangle #wattersworld #resist #realdonaldtrump\n",
      "988:  Our Republican \"leaders\" are our enemy! Please @realDonaldTrump veto the massive omni-bill of pork!! I'd rather shut down the government then have that bill pass!!! https://t.co/v4WSxUpOCP\n",
      "\n",
      "dem-lead\n",
      "\n",
      "216:  Pouting over a wall he promised to make Mexico pay for, the POTUS decides to shut down the government mere days before the holidays. Nothing says Merry Christmas or America First more than laying off thousands of employees.\n",
      "\n",
      "#petulant \n",
      "\n",
      "https://t.co/UcyupRS3ry\n",
      "698:  Last night, I voted to keep the government open &amp; extend Child Health Insurance for 6 years for 4,516 kids in DESCHUTES COUNTY who rely on the program. Will Senate Democrats put partisan politics over these kids &amp; shut down the government? #SchumerShutdown\n",
      "705:  Last night, I voted to keep the government open &amp; extend Child Health Insurance for 6 years for 1,935 kids in UMATILLA COUNTY who rely on the program. Will Senate Democrats put partisan politics over these kids &amp; shut down the government? #SchumerShutdown\n",
      "398:  President Trump’s senseless government shutdown continues. Hundreds of thousands of federal employees remain without pay - during the holidays - because of his reckless demand for a medieval border wall. This will end when the President and Republicans want it to.\n",
      "938:  Republicans need to stop:\n",
      "\n",
      "-playing games with Dreamers’ lives\n",
      "-threatening to shut down our government\n",
      "-putting our economic and national security at risk\n",
      "\n",
      "Enough is enough!\n",
      "960:  Trump just signed the budget bill ending the government shutdown.\n",
      "826:  When the Republican Party controls the White House, the U.S. Senate, &amp; the U.S. House of Representatives, only a failed leader would dare use the worn excuse that the minority party is to blame for the government shutdown. https://t.co/QQ8YGajHXJ\n",
      "432:  I joined @hardball last night for a discussion on the border wall and the government shutdown. You can watch our full discussion below: https://t.co/yGNCaa1SY6\n",
      "783:  I’m on the Senate floor now explaining why we are here, in a government shutdown: because President Trump and the Republicans continue to ignore their responsibility to govern.  \n",
      "\n",
      "Watch live here: https://t.co/x87BhFnet2\n",
      "498:  Stop Tea Party Republicans from shutting down our government. Voice your opinion with me - http://t.co/65Cdph6LhA http://t.co/wvKxr3bLvj\n",
      "\n",
      "rep-lead\n",
      "\n",
      "546:  I’m about to go on with Jon-David Wells to talk about the government shutdown. Tune in to 660AM or listen live: http://t.co/HpzoKXHXAE\n",
      "214:  Glad to hear the President will not sign the spending bill passed by the Senate last night.  It's about time he forced Congress to do their job.  This isn't about shutting down the government.  75% funded thru Sept.  It's about a Congress that just kicks the can down the road.\n",
      "924:  Tonight the House voted to fund our military, give our troops a much deserved pay raise, and prevent another government shutdown. I hope Senate Democrats will get on board without delay. https://t.co/6QGlIu3Tze\n",
      "660:  I’m sick and tired of watching Republicans toy with the idea of shutting down government. That’s not going to help ANYONE in my district.\n",
      "795:  We must do our job, and when we don’t, we should feel the consequences just like any other American would. Until this government shutdown is over, I am having my paycheck withheld—to then donate it to charity. I urge my colleagues to do the same. https://t.co/AZNjoavzXG\n",
      "807:  I have requested that my pay be withheld until an appropriations agreement has taken effect and this government shutdown is over. https://t.co/2WbjuXdYUY\n",
      "881:  With his vote to shut down the government, Jon Tester put illegal immigrants over Montana kids and our military families. Plain and simple. He needs replaced. #mtpol #mtsen  \n",
      "\n",
      "https://t.co/ROr4nVDyWb\n",
      "4:  #TuesdayThoughts @GovMurphy's plans to hike $1.7 billion in new taxes on hard-working New Jerseyans are threatening a government shutdown. His tax hikes would hurt our state's economy and make New Jersey more unaffordable. https://t.co/yv16JyvB7N\n",
      "992:  YES! @realDonaldTrump is keeping his promises! \n",
      "\n",
      "@timkaine SHUT down the government for illegal aliens putting them before YOU! https://t.co/asLsWiTZVH\n",
      "492:  Should President Obama shut down the government in order to save funding for #ObamaCare? Vote at http://t.co/Uxn0uxXepp.\n",
      "\n"
     ]
    }
   ],
   "source": [
    "print_samples_all_groups(sd)"
   ]
  },
  {
   "cell_type": "markdown",
   "metadata": {},
   "source": [
    "### Social Security"
   ]
  },
  {
   "cell_type": "code",
   "execution_count": 41,
   "metadata": {},
   "outputs": [
    {
     "name": "stdout",
     "output_type": "stream",
     "text": [
      "I'm trying\n",
      "Connected to political tweets DB\n"
     ]
    },
    {
     "data": {
      "image/png": "[encoded data removed]",
      "text/plain": [
       "<Figure size 432x288 with 1 Axes>"
      ]
     },
     "metadata": {
      "needs_background": "light"
     },
     "output_type": "display_data"
    }
   ],
   "source": [
    "ss = run_vader(\"social_security\")"
   ]
  },
  {
   "cell_type": "code",
   "execution_count": 42,
   "metadata": {},
   "outputs": [
    {
     "name": "stdout",
     "output_type": "stream",
     "text": [
      "dem-base\n",
      "\n",
      "988:  Trump's pick is unfit to lead the Social Security Administration https://t.co/6DUIbEZUVQ via @CREDOMobile #resist\n",
      "1937:  Ummm, taking money out of Social Security and Medicare to pay for a stupid wall that Trump promised Mexico would pay for is completely un-American and un-patriotic. #YouShouldBeAshamed #VoteBlue #BlueWave2020 https://t.co/buQq5rsoil\n",
      "1057:  Resistance needed: Trump's pick is unfit to lead the Social Security Administration https://t.co/hw8oMqk7Pg via @CREDOMobile #resist\n",
      "1225:  @SenatorHeitkamp Hello AMERICA,\n",
      "Republicans have promised to CUT/GUT SOCIAL SECURITY AND MEDICARE programs to pay for their billionaire tax cuts if they remain in Congress!\n",
      "\n",
      "VOTE DEMOCRATS ON NOVEMBER 6TH OR LOSE YOUR SOCIAL SECURITY AND MEDICARE.\n",
      "\n",
      "#TrumpTaxScam\n",
      " #VoteBlue\n",
      "#VoteBlueToSaveAmerica https://t.co/xRbuvPsZk5\n",
      "1379:  @steph93065 @NancyPelosi @realDonaldTrump The “immigration issue” is nothing but a “trumped-up lie!” The biggest issue in this country is most certainly the attack on healthcare coverage &amp; now Social Security! Don’t be fooled by the lies &amp; deception! @CNNPolitics @donlemon @CuomoPrimeTime @maddow  #Resistance\n",
      "1306:  Seniors - I usually tell people to choose the side of the greater good, but this time, we are part of the greater good. #voteblue before our hard earned Social Security benefits disappear! #4seniorsurvival https://t.co/CQ9drWopLz\n",
      "1708:  He wants to take your healthcare \n",
      "And your social security too \n",
      "and once he’s got all of that \n",
      "its out in the desert for you\n",
      "\n",
      "So you better get out\n",
      "You better vote blue\n",
      "Kick the GOP out\n",
      "It’s what’s best for you https://t.co/y8ySrM4ouM\n",
      "724:  @nathan_jbn @GrassrootsSpeak @DogginTrump @GOP We need to start a huge #voteblue campaign especially with senior citizens. They are unaware of what is going on with the sexual assault but also with the Republicans trying to take away their social security and Medicare. If we can get them on our side and vote blue. WOW\n",
      "1976:  @colfer36 @sue_meadows11 @GaryWalters66 @brideofJC @atillathehun412 @alanw157 @arkiegal411 @FollowRabbtHols @jenniferlsee @kaci150 @OscarTheMAGA @SALUTETRUMP @mysterypatriot7 @briantopping66 @Longj201081Long @rwnb519 @silver_fox9 @SinaiGail9 @209acesheepdog @wStoneSolid @midnightrider46 @KenGrimes9 @DFBHarvard @Klein2Eric @gasmanjeff1977 @NavMan_CanDo @Chrisconsrv1776 @martenbagger @ScottRickhoff @moej4242 @mick_parisi @Autisticated @delictum @Christi4Trump @lolly7777 @Cali_Tracii @hlpryor @RyderLong2 @DallasBrownin16 @mark_selby723 @hicorystick @HanifeLong @H59266271 @pcal4HIM @DonBrow18532250 @WillOfThePeopl5 @_realBlackTrump @TheBeaSmith @deplorablegirrl @TerriNewman79 Trump’s daily corruption:\n",
      "\n",
      "Trump's New Jersey golf club accused of giving fake green cards, Social Security numbers to undocumented employees \n",
      "\n",
      "#maga #kag #resist \n",
      "https://t.co/Z7xCwRXdDF\n",
      "91:  while everyone was focused on the children crooked tRunt/GOP repuk cult quietly voted to reduce Social Security and Medicare #resistance #BlueWaveComing2018\n",
      "\n",
      "rep-base\n",
      "\n",
      "2696:  I've taken your Medicare and Social Security money and given it to rich people. Paul Ryan says it's OK. We just have to kill Medicare and Social Security! #ProblemSolved #Winning #MAGA  https://t.co/kZflEFrXUr\n",
      "33:  @LouisHorvath7 @realDonaldTrump So u support those whove lied about every war since they killed JFK? Those whove passed trade deals 2 send our jobs overseas? Those whove looted our social security? Those whove left America 20tril in debt?\n",
      "\n",
      "Youve chosen the side of the enemy!\n",
      "\n",
      "I stand with America First. #MAGA\n",
      "3095:  @realDonaldTrump The @POTUS has spent $158Million on trips to his Resorts for Golf in 15 Months. President Obama only $98Million on Family Travel in 8 Years. That's Ur HealthC, Medicaid, Medicare, Social Security &amp; Ur Taxes he's spending #MAGA . Chump change to spend on investigation abt Treason.\n",
      "97:  $1.5T tax giveaway to corporations paid for by cutting social security &amp; medicare. Gee, who DIDN'T see this coming?  Oh that's right, all of those \"children of the corn\" dummies in their red #maga ballcaps.  Do they feel conned YET? What WILL it take for them to snap out of it? https://t.co/W7ddUJEmCF\n",
      "1195:  The Future Of Social Security, Medicare and Medicaid Is On Midterm Ballot  #SocialSecurity #Medicare #Medicaid #2018elections #PaulRyan #GOP #Congress #GovernmentSpending #socialsafetynet #right-wingagenda https://t.co/5zotvYDOgp\n",
      "428:  @washingtonpost The only #Trump supporters in play is the 65+ y/o retirees who believed his LIES about not harming Medicare or Social Security. His \"base\" as they call it consists of mostly White Supremacists &amp; R/W Nationalists. That won't change.\n",
      "1307:  I support #Democrat in #TN04 @PhilBredesen  @Mariah4Congress @KarlFDean  because they will save Social Security, Medicare/Medicaid, Obamacare, for your parents, you, and your children. There's no debate, McConnell says if Republicans get their way our elders and sick will die. https://t.co/jT9PTWx8Hz\n",
      "1371:  #MAGA G-O-Pians,  If you only talk, breathe, bounce thoughts or live with Stupid, you can't be anything but Stupid! Thus, Stupid can't recognize Stupid. \n",
      "\n",
      "Conclusion:  MAGAt's Stuck On Stupid!  \n",
      "\n",
      "Helping rich get richer?\n",
      "Willing to let them take social security $\n",
      "\n",
      "@CitizensFedUp\n",
      "1417:  #TN02 If you vote 4 @TimBurchett U are giving the #GOP 1 more \"YES\" Vote in their effort to Cut Social Security, Medicare, Medicaid &amp; protection 4 preexisting conditions. Vote 4 @Hoyos4Congress Renee will #ProtectOurCare https://t.co/i0J9RSjzs3\n",
      "425:  Social Security and Medicare because we had to work and contribute for 47+ years to get the benefits as opposed to illegals contributing ZERO and getting free stuff day one!\n",
      "#MAGA #WalkAway https://t.co/WCFrYKw0JL\n",
      "\n",
      "dem-lead\n",
      "\n",
      "2723:  @RepHuizenga Come on Brian “Boomer” Patrick, tell the whole story. These one time deals are offset by minimal temporary decreases in taxes of everyday workers and massive cuts for the rich and big corporations. And how will these folks fare when you cut Medicare and Social Security? 1/2\n",
      "1236:  This was always their plan. Tax breaks for the rich, paid for by cutting Medicare and Social Security. \n",
      "\n",
      "It's time to restore checks and balances to Washington. \n",
      "\n",
      "https://t.co/MP3MfsIx5i\n",
      "2369:  If you need help with issues from Social Security, Medicare or VA benefits to passports, my office is here to help 916 635-0505\n",
      "2143:  I've introduced legislation so that all married couples receive their Social Security benefits no matter where they live. #MarriageEquality\n",
      "2091:  Proud to be endorsed by the Nonpartisan National Committee to Preserve Social Security and Medicare http://tinyurl.com/32yyej9 #ma10 #mapoli\n",
      "458:  It’s great to be back in Somerton, and I enjoyed meeting with seniors at the Somerton Senior Center and discussing my commitment to strengthening Social Security and Medicare-not just for today-but for generations to come.  #AZ03 https://t.co/YW1CN475qj\n",
      "2388:  Trump’s breaking another campaign promise, this time on Social Security. Sign your name to protect Social Security: https://t.co/R2EEFdw1EX\n",
      "712:  .@SpeakerRyan's handpicked replacement, @BryanSteilforWI, thinks it's ok to give a $1.5 trillion tax cut to the rich, but won't promise not to make cuts to Social Security or Medicare.\n",
      "\n",
      "There's always enough money to help them, but never enough to help us. https://t.co/4NAbPbyhBz\n",
      "206:  @KapPustolov This is badass! Would love to get many of these for our other platform points too! \n",
      "• Lowering federal taxes\n",
      "• Increasing social security\n",
      "• Medicare for all - single payer\n",
      "• Full legal status for all immigrants\n",
      "• Cancellation of student debt\n",
      "• No corporate money in politics\n",
      "1507:  Medicare, Medicaid, &amp; Social Security are headed for the chopping block. That's not fiscal responsibility. It's certainly not a tax plan that works for the middle class &amp; low-income people most in need of relief. It's time we elect a Representative who will fight for our families https://t.co/TFOw5DhTDl\n",
      "\n",
      "rep-lead\n",
      "\n",
      "2824:  At Strachota Senior Citizens Center in Pine Bluff, @McQueen4USRep appreciated the  wisdom and experience shared by seniors and veterans who have concerns  about healthcare, social security, and veteran's affairs. #McQueen2018 https://t.co/UoUzsMRIDj\n",
      "34:  @ASFried @AP So, your solution is more taxes?\n",
      "\n",
      "Here is the long-term tax rate that would be required for families earning $400k+\n",
      "\n",
      "78% to finance Social Security (90% counting state &amp; FICA)\n",
      "\n",
      "190% to finance Social Security Medicare (202% counting state &amp; FICA)\n",
      "2552:  Holding a Tele-Town Hall @ 2 pm ET today to talk about protecting Social Security & Medicare. Time could change due to votes. #tn03 #tn #cha\n",
      "2008:  Obama's Payroll Tax Plan Risks The Future Of Social Security... http://t.co/XnVIPOpw  #tcot #RedIN #IN02\n",
      "967:  STEP 1: Balloon the deficit with trillion-dollar tax cuts for the wealthy \n",
      "\n",
      "STEP 2: Complain about a looming fiscal crisis that can only be solved by cutting \"entitlements\" \n",
      "\n",
      "STEP 3: Cut Medicaid, Medicare, Social Security\n",
      "\n",
      "Rinse and repeat.\n",
      "https://t.co/mrRDgROLsY\n",
      "2165:  Our office will host a Social Security Resource Fair on Thursday, October 9th from 10-11 am at our office on Parma: http://t.co/tieXhl5YQj\n",
      "1623:  When Scott Perry says he's protecting Social Security &amp; Medicare, simply put: that's false. https://t.co/sqgzWNaYTp https://t.co/V7MLo6y3jy\n",
      "283:  Our first TV ad starts airing tomorrow. It’s about who I am and what I want to do in Congress. I’ll protect access to health care, defend Social Security, and fight to end the rigged economy. Share our ad and join our campaign to change our country. https://t.co/eGdLLe1tLU\n",
      "2110:  Thanks to the @SocialSecurity experts who spoke at the Social Security Seminars in #PauldingCounty and #FloydCounty. http://t.co/TnsTB3xMY2\n",
      "2246:  Ohio teachers, police officers, firefighters deserve fair Social Security benefits: https://t.co/rKN55DlRpb\n",
      "\n"
     ]
    }
   ],
   "source": [
    "print_samples_all_groups(ss)"
   ]
  },
  {
   "cell_type": "markdown",
   "metadata": {},
   "source": [
    "### Taxes"
   ]
  },
  {
   "cell_type": "code",
   "execution_count": 43,
   "metadata": {},
   "outputs": [
    {
     "name": "stdout",
     "output_type": "stream",
     "text": [
      "I'm trying\n",
      "Connected to political tweets DB\n"
     ]
    },
    {
     "data": {
      "image/png": "[encoded data removed]",
      "text/plain": [
       "<Figure size 432x288 with 1 Axes>"
      ]
     },
     "metadata": {
      "needs_background": "light"
     },
     "output_type": "display_data"
    }
   ],
   "source": [
    "tax = run_vader(\"taxes\")"
   ]
  },
  {
   "cell_type": "code",
   "execution_count": 44,
   "metadata": {},
   "outputs": [
    {
     "name": "stdout",
     "output_type": "stream",
     "text": [
      "dem-base\n",
      "\n",
      "2113:  @dumptrump33 @BeverlyFolkers @BetoORourke And @SenTedCruz wants to throw you pennies in your tax cuts whilst giving billions away to his benefactors, the top 1%. NOT JUST ONCE BUT HAVE A SECOND GO AT IT. #BetoForTexas #Resist #Resistance #FBR #FBRResistance #BlueWave2018 #Vote #VoteBlue\n",
      "4112:  Add your name: Democrats can and must subpoena and release Trump's tax returns https://t.co/SFwHKeA1yY via @CREDOMobile #resist https://t.co/SFwHKeA1yY via @CREDOMobile #resist\n",
      "4541:  @SF_Parisien The country is NOT doing so well.\n",
      "\n",
      "Pay attention to anyone but @FoxNews and you'll see the Truth.\n",
      "\n",
      "Tax Cuts - nope, didnt work.\n",
      "The Wall - never going to happen\n",
      "He's had total power in DC and cant get his agenda to pass - because he's clueless &amp; incompetant as POTUS.\n",
      "\n",
      "#Resist\n",
      "3432:  @DinoRossiWA @DrKimSchrier Rossi’s Rich donors got a 3 Mil tax break, \n",
      "We got NONE\n",
      "So, \n",
      "Average tax payer got a $2k tax break. \n",
      "\n",
      "See how that number works? \n",
      "\n",
      "#GOP only works for wealthiest &amp; Corporations \n",
      "\n",
      "We need a gov that works for Everyone! \n",
      "\n",
      "#VoteBlue\n",
      "2900:  @SenWarren @senatemajldr @senatemajldr McConnell is such a disgusting liar! The trillion dollar deficit is a direct result of tax breaks for corporations &amp; the rich &amp; now wants to cut Medicare, Medicaid &amp; Soc Sec! The @GOP doesn’t care about typical Americans! #VoteBlue!\n",
      "4352:  @realDonaldTrump @USTreasury @stevenmnuchin1 Speaking of treasury and MONEY; Just before the #midtermelections YOU promised a big tax cut for the \"middle class\" that was coming in November, but now that the elections are over you haven't mentioned it. WHY NOT? What happened to it? #AnotherTrumpLIE #VoteBlue 🌊🇺🇸\n",
      "3029:  @SRuhle  Growth with no taxes doesn't work. Look at Kansas. They have exceeded the amount of tax they can cut from those that benefit and can afford to pay them. Now they want to subsidize the wealthy with your retirement and healthcare. #Resist #FoxNews\n",
      "13831:  Rubio is now flipping on Trump in an effort to garner votes to save himself, others will try the same. If you voted for that tax scam, you need to go. #BlueWave https://t.co/AuyM7ABJG7\n",
      "3383:  So stocks are negative on the year so much for the tax cuts helping out there.  All we got is almost a trillion dollars deficit and let some rich people keep more of their money.  Vote them out! #BlueWave https://t.co/lokfZn2snf\n",
      "12912:  @SenateDems @SenJeffMerkley Why did 🐘 Reps/Senators so quickly pass a Tax Reform (Scam) Bill that 55% of Americans disapprove?\n",
      "https://t.co/DmkE5mSnZ1… Why not let the CBO Score it first? Why not? Because the 1%’ers (their Donors) all LOVE IT! Nobody else really matters much, do they? #BlueWave2018 🇺🇸 https://t.co/LvL7qcud91\n",
      "\n",
      "rep-base\n",
      "\n",
      "11580:  United States Will Hit Debt Limit Sooner Than Expected Because of Tax Cuts - #MAGA morons!  @realDonaldTrump / @SpeakerRyan / @SenateMajLdr / @stevenmnuchin1  https://t.co/eAvILxb7gW\n",
      "11510:  The secretive family that has reaped billions from America's rising drug addiction — and deaths. (They also gained from #Trump tax cut) https://t.co/q1i5YMUKVD #SOTU\n",
      "4452:  Trump promised voters that MEXICO would pay for his wall, right?\n",
      "\n",
      "#ICYMI\n",
      "Republican @jameslankford claims it's “not excessive” for US taxpayers to pay $5 *BILLION* for Trump's wall..\n",
      "\n",
      "Pay-Go?\n",
      "#GOP pushing to slash SOCIAL SECURITY to pay for #GOP tax cuts to Greedy One Percent\n",
      "12254:  Dear #trump supporters:\n",
      "This is where YOU &amp; ME pay for our tax cuts. I repeat, this is where YOU &amp; ME pay for our tax cuts\n",
      "#MAGA\n",
      "#GOPTaxScam https://t.co/9pgcsgzWpD\n",
      "12479:  JPMorgan raises profit goal on lower taxes, higher rates https://t.co/wzwplNcMeR #klout #maga\n",
      "1627:  Because of the reduced revenues (tax cut to rich and businesses), the Nat'l Debt increased $1Trillion+, sooo NO PAY INCREASE for Fed workers. (But Trump wanted a parade to compete w France - RIGHT!)\n",
      "https://t.co/TFMWUG9R5w …\n",
      "Tired of \"winning\"?  #MAGA @Education4Libs\n",
      "13952:  As tax cut messaging evaporates, the #GOP candidates for 2018 must go against Trump (&amp; alienate independents) or go against Mueller (&amp; alienate Trumpers).\n",
      "\n",
      "They’re stuck between a schmuck &amp; a hard disgrace.\n",
      "\n",
      "@ThePlumLineGS: https://t.co/im3lKcWv33\n",
      "12:  So much winning right, #MAGA? Trump’s tax cuts didn’t benefit American workers, just made rich companies richer  https://t.co/vdpkRINiqt\n",
      "11387:  Exxon Mobil to invest $50 billion in US over 5 years, citing tax reform https://t.co/zL4D06H0O7\n",
      "4:  @bountyofbeads2 But hooray for the tax cuts, right #MAGA nuts? Yeah, so much winning.\n",
      "\n",
      "dem-lead\n",
      "\n",
      "8347:  FACT CHECK: Who will see tax cuts under the #GOPTaxScam? The wealthiest Americans and corporations. \n",
      "\n",
      "Who will see a tax increase? 36 million middle class families. https://t.co/OYbYjK312R\n",
      "4697:  Billionaires’ buddies in Congress passed tax cuts for the wealthy &amp; now want to cut Social Security &amp; Medicare. Let’s cut congressional pensions! Just do it!!\n",
      "11519:  The #GOPTaxScam is exactly that, a scam. In Congress, I will fight to overturn the#GOP tax cuts for corporations and the very wealthy that were paid for by tax increases on middle-class families #SOTU #TrumpSellsOut https://t.co/nALLGtqYvT\n",
      "1870:  The GOP is dead-set on digging another $2 trillion hole that will do nothing but hurt hard-working Americans.  \n",
      "\n",
      "We need tax reform that works #ForThePeople, not just the rich.\n",
      "https://t.co/RioQ9pTJ9S\n",
      "8826:  A reminder: Senate Republicans are trying to pass a tax bill that will leave millions of Americans uninsured and raise insurance prices, all so that they can slash taxes for billionaires and big corporations. \n",
      "\n",
      "It’s up to all of us to speak out and stop it.\n",
      "3480:  Obama chides GOP for lies, mocks Trump’s middle-class tax cut proposal https://t.co/Q42xFI9LIh\n",
      "8336:  It's simple: If you want to give a middle-class tax cut, give it to the middle class directly. #TaxReform\n",
      "5788:  25 percent of taxpayers fail to claim the EITC tax credit. Check if you qualify at https://t.co/nio8HFam66\n",
      "6628:  It's unlikely Special Counsel Mueller will be reviewing #TrumpTaxReturns, tax law expert George Yin told me today.\n",
      "\n",
      "#CongressMustRequest https://t.co/z3BG67ZIpV\n",
      "2701:  While the #GOPTaxScam raised taxes on middle class Californians, large corporations have been having a heyday at the expense of #CA45 families. #ItsAPayoff https://t.co/ddURnKftx9\n",
      "\n",
      "rep-lead\n",
      "\n",
      "8:  .@SusieLeeNV still complaining about your tax cut. Says there’s no “real middle class tax relief.” Would repeal, if elected. But unemployment is lowest in many years &amp; millions received bonuses &amp; raises. Like Pelosi, “Socialite Susie” is clueless about working families. #NV03 https://t.co/nYjOZLrG4A\n",
      "13052:  \"Nevadans will see more than just short-term bonuses and raises. The benefits of tax reform will reverberate throughout the economy for years to come.\" https://t.co/VHR9YgAqqy #taxreform\n",
      "8966:  Bring down the rates. Everyone should see a tax cut! https://t.co/bTxnX8uLtD\n",
      "13463:  Holds true more than ever as Democrats like Jacky Rosen are gearing up to repeal your tax cut... \n",
      "\n",
      "#TaxDay #TaxReform https://t.co/plkbFiBIGi\n",
      "6175:  Term limits. Balanced budgets. Lower taxes. Family values. South Carolina. That's what I'll fight for. #TeamNorman #SCpol #SCtweets\n",
      "9040:  My letter to @SenRonJohnson and @SenatorBaldwin on tax reform https://t.co/ARt1tlM6Q2\n",
      "6986:  7 Ideas for Tax Reform https://t.co/hgEadPcGHI #TXSen\n",
      "3503:  I plan to fight to reduce government waste, a balanced budget and consistent tax cuts. There is no reason that we cannot have it all. It just takes a little more work and some 3 dimensional thinking. Help me to help us, Vote Brumbles. 🇺🇸\n",
      "https://t.co/uqaeJNu54l\n",
      "12757:  This morning I had the opportunity to address the @EasternLakeCty at their Legislative Breakfast. We discussed a wide variety of topics in Congress right now like tax reform, immigration, opioids, the great lakes and the budget. Thank you to everyone who came to this great event! https://t.co/mCp7MEE4wV\n",
      "8054:  ICYMI The day after the Tax Cuts &amp; Jobs Act was released, I spoke with @BloombergRadio about the #taxreform framework aimed at cutting taxes for the middle class and aiding small businesses. Listen here: https://t.co/uD4uiOPY84 #OHGov\n",
      "\n"
     ]
    }
   ],
   "source": [
    "print_samples_all_groups(tax)"
   ]
  },
  {
   "cell_type": "markdown",
   "metadata": {},
   "source": [
    "### Technology"
   ]
  },
  {
   "cell_type": "code",
   "execution_count": 45,
   "metadata": {},
   "outputs": [
    {
     "name": "stdout",
     "output_type": "stream",
     "text": [
      "I'm trying\n",
      "Connected to political tweets DB\n"
     ]
    },
    {
     "data": {
      "image/png": "[encoded data removed]",
      "text/plain": [
       "<Figure size 432x288 with 1 Axes>"
      ]
     },
     "metadata": {
      "needs_background": "light"
     },
     "output_type": "display_data"
    }
   ],
   "source": [
    "tech = run_vader(\"technology\")"
   ]
  },
  {
   "cell_type": "code",
   "execution_count": 46,
   "metadata": {},
   "outputs": [
    {
     "name": "stdout",
     "output_type": "stream",
     "text": [
      "dem-base\n",
      "\n",
      "158:  @realDonaldTrump Why I #RESIST\n",
      "\n",
      "Tax Scam Bill\n",
      "Net Neutrality\n",
      "Trade Wars\n",
      "Pre-Existing Conditions\n",
      "SCOTUS\n",
      "Russia\n",
      "March For Our Lives\n",
      "No Tolerance ICE\n",
      "Environment\n",
      "Paris Agreement\n",
      "Artic/Offshore Drilling\n",
      "CFPB\n",
      "Dodd Frank\n",
      "Medical Marijuana\n",
      "StandWithPP\n",
      "Iran Deal\n",
      "Military Parade\n",
      "Trans Ban\n",
      "MeToo\n",
      "Taxes\n",
      "835:  Day 458 – The Week Ahead\n",
      "Things to watch for this week:\n",
      "\"Net Neutrality officially ends today. Will Republicans ever live up to their own words and join Democrats in legislation to save Net Neutrality from the big Telecoms?\" #NY19 #Resist\n",
      "\n",
      "Read full post:\n",
      "https://t.co/rA82j8jQR1 https://t.co/V5IT23qP1Z\n",
      "194:  @realDonaldTrump Why I #RESIST\n",
      "\n",
      "Tax Scam Bill\n",
      "Net Neutrality\n",
      "Trade Wars\n",
      "Pre-Existing Conditions\n",
      "SCOTUS\n",
      "Russia\n",
      "March For Our Lives\n",
      "No Tolerance ICE\n",
      "Environment\n",
      "Paris Agreement\n",
      "Artic/Offshore Drilling\n",
      "CFPB\n",
      "Dodd Frank\n",
      "Medical Marijuana\n",
      "StandWithPP\n",
      "Iran Deal\n",
      "Military Parade\n",
      "Trans Ban\n",
      "MeToo\n",
      "Taxes\n",
      "290:  @realDonaldTrump Why I #RESIST\n",
      "\n",
      "Wall Street 1% Tax Cut\n",
      "Social Security\n",
      "Medicare\n",
      "Net Neutrality\n",
      "Trade Wars\n",
      "Pre-Existing Conditions\n",
      "SCOTUS\n",
      "March For Our Lives\n",
      "No Tolerance ICE\n",
      "Environment\n",
      "Paris Agreement\n",
      "Offshore Drilling\n",
      "CFPB\n",
      "Dodd Frank\n",
      "Medical Marijuana\n",
      "StandWithPP\n",
      "Iran Deal\n",
      "Trans Ban\n",
      "MeToo\n",
      "Taxes\n",
      "266:  @realDonaldTrump Why I #RESIST\n",
      "\n",
      "Wall Street 1% Tax Cut\n",
      "Social Security\n",
      "Medicare\n",
      "Net Neutrality\n",
      "Trade Wars\n",
      "Pre-Existing Conditions\n",
      "SCOTUS\n",
      "March For Our Lives\n",
      "No Tolerance ICE\n",
      "Environment\n",
      "Paris Agreement\n",
      "Offshore Drilling\n",
      "CFPB\n",
      "Dodd Frank\n",
      "Medical Marijuana\n",
      "StandWithPP\n",
      "Iran Deal\n",
      "Trans Ban\n",
      "MeToo\n",
      "Taxes\n",
      "825:  @MikeDiaz285 @ceejchris82 @BetoORourke And the Grade A Drama Queen Award goes to........ Michael Diaz for his anti net neutrality rant in defence of Ted Cruz. Well earded! #BlueTsunami2018 #BlueWaveComing2018 #BlueWave #BlueTsunami https://t.co/2Vev7FTmhj\n",
      "137:  @realDonaldTrump Why I #RESIST\n",
      "\n",
      "Tax Scam Bill\n",
      "Net Neutrality\n",
      "Trade Wars\n",
      "Pre-Existing Conditions\n",
      "Space Force\n",
      "March For Our Lives\n",
      "No Tolerance ICE\n",
      "Paris Agreement\n",
      "Artic/Offshore Drilling\n",
      "CFPB\n",
      "Dodd Frank\n",
      "Medical Marijuana\n",
      "StandWithPP\n",
      "Iran Deal\n",
      "Military Parade\n",
      "Trans Ban\n",
      "Wall\n",
      "SCOTUS\n",
      "MeToo\n",
      "Taxes\n",
      "Russia\n",
      "147:  @realDonaldTrump Why I #RESIST\n",
      "\n",
      "Tax Scam Bill\n",
      "Net Neutrality\n",
      "Trade Wars\n",
      "Pre-Existing Conditions\n",
      "SCOTUS\n",
      "Russia\n",
      "March For Our Lives\n",
      "No Tolerance ICE\n",
      "Environment\n",
      "Paris Agreement\n",
      "Artic/Offshore Drilling\n",
      "CFPB\n",
      "Dodd Frank\n",
      "Medical Marijuana\n",
      "StandWithPP\n",
      "Iran Deal\n",
      "Military Parade\n",
      "Trans Ban\n",
      "MeToo\n",
      "Taxes\n",
      "258:  @realDonaldTrump @marcorubio Why I #RESIST\n",
      "\n",
      "Wall Street 1% Tax Cut\n",
      "Social Security\n",
      "Medicare\n",
      "Net Neutrality\n",
      "Trade Wars\n",
      "Pre-Existing Conditions\n",
      "SCOTUS\n",
      "March For Our Lives\n",
      "No Tolerance ICE\n",
      "Environment\n",
      "Paris Agreement\n",
      "Offshore Drilling\n",
      "CFPB\n",
      "Dodd Frank\n",
      "Medical Marijuana\n",
      "StandWithPP\n",
      "Iran Deal\n",
      "Trans Ban\n",
      "MeToo\n",
      "Taxes\n",
      "236:  @realDonaldTrump Why I #RESIST\n",
      "\n",
      "Tax Scam Bill\n",
      "Net Neutrality\n",
      "Trade Wars\n",
      "Pre-Existing Conditions\n",
      "SCOTUS\n",
      "Russia\n",
      "March For Our Lives\n",
      "No Tolerance ICE\n",
      "Environment\n",
      "Paris Agreement\n",
      "Artic/Offshore Drilling\n",
      "CFPB\n",
      "Dodd Frank\n",
      "Medical Marijuana\n",
      "StandWithPP\n",
      "Iran Deal\n",
      "Military Parade\n",
      "Trans Ban\n",
      "MeToo\n",
      "Taxes\n",
      "\n",
      "rep-base\n",
      "\n",
      "18:  One more attack of freedom! #Republicans #GOP #ProfitBeforePeople The end of net neutrality is here  - CNNMoney https://t.co/UzSuJetn7Y\n",
      "813:  @SenateMajLdr Why don't you work on SAVING NET NEUTRALITY?  AMERICA want's is SAVED!!!  #MAGA #NetNeutrality\n",
      "213:  Justice Department Files Net Neutrality Lawsuit Against the State of California.\n",
      "Thank you @jeffsessions\n",
      "@TheJusticeDept @HouseDemocrats @HouseGOP @POTUS @VP @FCC \n",
      "#Restist with #truth\n",
      "#WETHEPEOPLE #Qanon #1A #USA #MAGA\n",
      " https://t.co/3FyUAHU30M\n",
      "185:  BREAKING: NET NEUTRALITY BILL JUST PASSED IN CALIFORNIA ASSEMBLY.\n",
      "NOW TO THE SENATE. CALL YOUR SENATORS!\n",
      "@JoinTravisAllen @AllenVolunteers  #MAGA #NetNeutrality\n",
      "197:  https://t.co/y8BD8HAyr2 \n",
      "Kavanaugh defends his net neutrality dissent in Senate hearing    #MAGA #trump #Russiansanctions #Russia #cnbc #nbc #abc #maga #trump #PutinsPoodle #TraitorTrump #scotus #kavanaugh #citizensunited #NetNeutrality\n",
      "252:  @LouDobbs @DonaldJTrumpJr @RepMattGaetz @realDonaldTrump Trump is my God. I pray Republicans will win! Because who needs Net Neutrality. Who needs a habitable environment or regulations on wall street. And only the liberals would want to end all our illegal offensive wars that's costing americans billions and billions of dollars!#MAGA\n",
      "96:  Net Neutrality Lie Reminder: #Netflix Fakes Service Slowdowns – and Blames ISPs: I was contacted a… https://t.co/6QBUDeBZsv  #Trump #MAGA\n",
      "752:  @ppi Net neutrality (Government control of the Internet), a solution looking for a problem. \n",
      "Thank god we have a President who loves to cut unnecessary regulations.\n",
      "#MAGA\n",
      "762:  This crafty tactic may let states get around the FCC on net neutrality https://t.co/WtNkS3hY14 #NetNeutraility #NetNeutrality #FCC #NY #NJ #FreeInternet #trump #resign #resist #notmypresident #impeach #resistance #impeachtrump #NetNeutralty #tech #technews #business #businessnews\n",
      "63:  @RepAdamSchiff Forget Net Neutrality, sign the Internet Bill of Rights. #MAGA #QANON\n",
      "\n",
      "dem-lead\n",
      "\n",
      "819:  \"Congressional candidates like Texan Laura Moser—who wrote a primer on net neutrality as part of her bid for a GOP-held seat that Democrats are aiming to flip—have already campaigned aggressively on the issue.\"\n",
      "\n",
      "#TX07\n",
      "#NetNeutrality \n",
      "https://t.co/hnPEptgKP2\n",
      "381:  ICYMI: “The @FCC’s shortsighted decision to roll back net neutrality protections harms both businesses &amp; consumers.” https://t.co/lhoqa3e6a2\n",
      "848:  We’re only 1 vote away from stopping the repeal of #NetNeutrality in the Senate. @SenMarkey joined @SenTinaSmith &amp; me in MN today to talk about how ending #NetNeutrality hurts consumers, small businesses &amp; rural communities. We’ll keep fighting for a free &amp; open internet.\n",
      "31:  Today, the @FCC’s repeal of #NetNeutrality goes into effect, but the fight for a free and open internet continues. The Senate has already voted to #SaveTheInternet. I’m proud to support similar #NetNeutrality legislation in the House. https://t.co/w3DfG8NP6m\n",
      "593:  #NetNeutrality protects us from corporate censorship of information online. The @FCC must not roll back this rule. We demand an equal, open internet.\n",
      "999:  I stand w/ @Peters4Michigan  and @stabenow! If the House won’t save Net Neutrality we need a new House!  https://t.co/9U6hWpHtFb\n",
      "432:  Net neutrality means that everyone has the same access to the same information — that the internet remains free from corporate control.\n",
      "1006:  I hope our colleagues in the House will understand that getting exorbitant internet fees from cable providers is not the direction the American people want to go. They want to see an open internet that continues to allow so much of the economy to flourish.\n",
      "https://t.co/zy4Qwuck9f\n",
      "931:  The @FCC announced that #NetNeutrality ends on June 11 unless we stop it. In the 21st century, access to a free and open internet is a right not a privilege. \n",
      "\n",
      "I’m fighting for #NetNeutrality to protect that right. RT if you agree. https://t.co/J2UnwgbDHl\n",
      "94:  One month after the Senate passed a bill to protect net neutrality, the House of representatives has still failed to act. Join me in calling on House Republican leaders to allow a vote on #netneutrality https://t.co/dbRgKNWWiG\n",
      "\n",
      "rep-lead\n",
      "\n",
      "209:  ICYMI:\n",
      "Rise of 5G Lessens the Case for Net Neutrality\n",
      "https://t.co/7XReCOBFCT\n",
      "630:  Snowflake, believing online propaganda: \"OMG w/o net neutrality, the Internet is gone!\" Informed observer: \"You know, the FCC issued that rule in 2015. The Internet grew up wonderfully free from govt regulation &amp; this restores the status quo ante.\"  Snowflake: \"Uh, never mind...\"\n",
      "663:  Net neutrality has had the Internet abuzz. In case you missed it, I talked with @957WCRC last week about what it all means. https://t.co/W2NS6IWYsQ\n",
      "343:  President Obama’s support for #NetNeutrality is a welcome step to protect free + open internet: http://t.co/Rc2mjoVoFb\n",
      "47:  The @FCC took away a free and open Internet. The Senate has voted to #SaveTheInternet. I’m supporting the same legislation here in the House that will bring #NetNeutrality back. https://t.co/TTTRwgzZeh\n",
      "112:  It's only been 24 days since the repeal of #NetNeutrality and we are continuing to see the backlash reverberate across the country. In a letter to Congress, over 1000 veterans are advocating for the restoration of net neutrality via a CRA resolution. https://t.co/3ekqtEt2as\n",
      "920:  Senate Democrats have forced a vote on a bill to turn back the FCC's repeal of net neutrality. The vote is scheduled for tomorrow.\n",
      "Please call your senators and let them know this attack on our internet is not acceptable. #SaveNetNeutrality #GAPol\n",
      "\n",
      "https://t.co/OUrf9oXOBV\n",
      "659:  .@HammillHimself Luke, I know Hollywood can be confusing, but it was Vader who supported govt power over everything said &amp; done on the Internet. That's why giant corps (Google, Facebook, Netflix) supported the FCC power grab of net neutrality. Reject the dark side:  Free the net! https://t.co/nARkMvIEYk\n",
      "361:  Question about net neutrality - Rep. Flores: \"I support a free internet and oppose the net neutrality plan that the FCC has come up with.\"\n",
      "310:  Democrats send emails every week attacking  @AjitPaiFCC for ending \"net neutrality\". They fail to mention that this gave us higher speeds, lower costs.  Dishonest, hidden Democrat taxes like this hurt poor, millennials most, make everything more expensive. https://t.co/RMAzX7SWdR https://t.co/4gcpKxLGqT\n",
      "\n"
     ]
    }
   ],
   "source": [
    "print_samples_all_groups(tech)"
   ]
  },
  {
   "cell_type": "markdown",
   "metadata": {},
   "source": [
    "### Women's Rights"
   ]
  },
  {
   "cell_type": "code",
   "execution_count": 47,
   "metadata": {
    "scrolled": true
   },
   "outputs": [
    {
     "name": "stdout",
     "output_type": "stream",
     "text": [
      "I'm trying\n",
      "Connected to political tweets DB\n"
     ]
    },
    {
     "data": {
      "image/png": "[encoded data removed]",
      "text/plain": [
       "<Figure size 432x288 with 1 Axes>"
      ]
     },
     "metadata": {
      "needs_background": "light"
     },
     "output_type": "display_data"
    }
   ],
   "source": [
    "wr = run_vader(\"women_rights\")"
   ]
  },
  {
   "cell_type": "code",
   "execution_count": 48,
   "metadata": {},
   "outputs": [
    {
     "name": "stdout",
     "output_type": "stream",
     "text": [
      "dem-base\n",
      "\n",
      "1209:  Crusty old white men that lear at women, disrespect women and make sure that their wives are doormats. https://t.co/GAme2NlNt5\n",
      "157:  DEMOCRAT PARTY and PLANNED PARENTHOOD Volunteer Joins #Resist Movement…Gets Arrested For THREATENING TO KILL US Congressman’s Small Children https://t.co/sM8MIlZFNB via @100percFEDUP\n",
      "1450:  🏷💗Get your Pussyhats before they sell out!! Every purchase is a donation to Planned Parenthood #womensrights #metoo #resist #pussyhat #etsybuyer #hooak #nadiahandmade #thisisnotokay #retweet #pussyhatproject #womenswave #democrat #republican #vote https://t.co/kgA1fabcsB\n",
      "1398:  I designed these shirts  @teespring because SO I’m tired of all the daily shit trump puts us through. I wear it to RESIST! 50% of sales goes to Planned Parenthood.\n",
      "\n",
      "https://t.co/yyx3q1ODBH  \n",
      "\n",
      "#protectmuller  #RakeAmericaGreatAgain  #Resist #Resistance #IvankasEmails #TrumpLies https://t.co/ArRsbKP1l2\n",
      "3359:  A portion of the proceeds of the purchase of this shirt goes to Planned Parenthood. @PPFA #ERA #VoteBlue2018 #Resistance #BlueWave #FBR #MeToo #TimesUp \n",
      "https://t.co/mSXTqN0Be7\n",
      "555:  Let me get this straight #repugs okay with paying trump &amp; his properties for him to golf (which only serves him) BUT aren’t okay with women’s rights, helping homeless vets &amp; most horrific separating illegal immigrants families. We NEED to win in November #bluewave #letsgobluewave\n",
      "1079:  2) AND I talked to her about how #Democrats have been playing minority’s for SO long and gave he proof. \n",
      "#CivilRightsActOf1868 \n",
      "#Republican! \n",
      "\n",
      "@PPFA #EthnicCleansing ! \n",
      "Askd the question “where do you see planned parenthood?”\n",
      "She answered “In BLACK and poor neighborhoods!” \n",
      "TALK!\n",
      "234:  @EyeOnFreedom @dcexaminer They care about GOP chronic lies &amp; know they can’t trust any ultra conservative SCOTUS they will pick? \n",
      "\n",
      "@GOP are famous for lying, corruption &amp; ensuring women’s rights are not protected by our laws.\n",
      "\n",
      "It’s time Americans took control of our government &amp; #VoteGOPOut\n",
      "#BlueWave2018\n",
      "173:  Kennedy’s retirement and ensuing #SCOTUS shakeup means everyone who cares about civil rights at all should be very worried. Roe v. Wade, Voting Rights Act, marriage equality, etc etc etc are all now back in play. VOTE IN NOVEMBER! #BlueWave2018\n",
      "654:  @insipid42 @LeonardPittsJr1 Come to my neck of the woods where they have always been out in force. Since the election I've stepped up &amp; joined 3 Dem organizations &amp; regularly attend mtgs. Joined local NAACP. Donated to candidates,  ACLU, #msdstrong &amp; Planned Parenthood. We must #Resist\n",
      "\n",
      "rep-base\n",
      "\n",
      "1279:  The ability to tell your own story, in words or images, is already a victory, already a revolt.\" Rebecca Solnit, Men Explain Things to Me\n",
      "The #GOP wants to erase women, to make trivial their needs, their desires, their innate humanity. Don't let them.\n",
      "#VOTE\n",
      "11:  @POTUS's #Bible sez: Thou shalt feel free to womanize, lie, cheat, steal, glut, lust, covet and sloth as long as thou doth also F**k over Planned Parenthood #TheBible #MAGA #2Corinthians hee-haw #ProLife #TrumpTrain choo choo (photo: @FullFrontalSamB) https://t.co/IiqIvjllhv\n",
      "916:  In case you don't know, abortion groups Planned Parenthood and NARAL are behind the #Kavanaugh protests and support for his lying accuser. Planned Parenthood gets TAXPAYER money #tcot #ccot #tlo #TeaParty #GOP #Trump https://t.co/h71BSKDVum\n",
      "3262:  @HuffPostPol It seems 2 me Trumps base &amp;  Christian base r more concern in getting what Trump promised, at the expense of woman &amp; woman rights. They enable him 2 treat woman like meat by continuing to support him &amp; calling the victims lairs\n",
      "\n",
      "#StormyDaniels\n",
      "#TimesUp\n",
      "#metoo\n",
      "#woman\n",
      "#GOP\n",
      "#America\n",
      "1429:  💖Every purchase is a donation to Planned Parenthood Pussy Hats for SALE &amp; Free Shipping (US only) #womensrights #metoo #resist #pussyhat #etsybuyer #hooak #nadiahandmade #thisisnotokay #retweet #pussyhatproject #womenswave #democrat #republican #vote https://t.co/xUCovBCD4T\n",
      "908:  @DNC \n",
      "@RNC \n",
      "@SenGillibrand \n",
      "@SenFeinstein \n",
      "@maziehirono \n",
      "@RepMaxineWaters \n",
      "@KamalaHarris \n",
      "@elizabethforma \n",
      "@keithellison \n",
      "@CoryBooker \n",
      "No Justice No peace\n",
      "Women have Rights,too\n",
      "#WalkAwayFromDemocrats2018 that support domestic violence against Women.\n",
      "VOTE #MAGA in November https://t.co/PWEHwCZnuM\n",
      "2987:  Q: Why won’t #Trump say he opposes domestic violence directly?\n",
      "\n",
      "#SHSanders: Those are his words. It’s my job to speak for the President. \n",
      "\n",
      "Ew. EW.\n",
      "\n",
      "#Briefing\n",
      "1041:  They screamed Kavanaugh would change Roe v Wade. They screamed about him in front of wife &amp;kids. They found a woman willing 2lie about a grope, attack, rape. He got to fight back &amp; defend himself. \n",
      "No evidence shows he hurt women. So it must be his temperament. The left is a scam https://t.co/UdIUjMdLa7\n",
      "3541:  @realDonaldTrump Thank you for being Pro-Life. Thank you for defunding Planned Parenthood. Thank you for being the people's President. #MAGA\n",
      "1327:  @Elyse3_2 @michaeljknowles @Acosta I have and did. I don't know what angle you have been looking at but the woman makes great efforts to avoiding touching him so please keep making shit up https://t.co/jvIOdT1bPE\n",
      "\n",
      "dem-lead\n",
      "\n",
      "153:  “Lucy is a strong supporter of women’s rights and will work for paid family leave... [and] knows that voting rights is one of our most important tools to fighting for civil rights for all Americans.” Thank you @theAWParty for your endorsement! I won't let you down. https://t.co/9q4UhJAnb3\n",
      "2822:  Didn’t you unnecessarily end the #DACA program in September? Didn’t you put the lives and futures of over 800,000 #dreamers and their families in limbo? Any #TrumpShutdown is the product of your actions. https://t.co/AmLTkd7x3F\n",
      "3403:  7/ Victims of #domesticabuse are 5x more likely to be killed if their abuser owns a firearm, &amp; domestic violence assaults involving a gun are 12x more likely to end in death than assaults with other weapons or physical harm. #NRAConvention \n",
      "\n",
      "https://t.co/JvbFTYyTRL\n",
      "1137:  In order to stand up for survivors of domestic violence, the Senate needs to reauthorize the Violence Against Women Act and pass commonsense gun laws to keep guns out of the hands of domestic abusers.\n",
      "2427:  80% of Planned Parenthood patients make less than $18,000 per year. We can’t cut off the most vulnerable women in our society. #StandWithPP\n",
      "3111:  “Women make only 80 cents on the dollar compared to men –African American women make only 63 cents and Latinas make only 54 cents. Our country must do better!” - Sol Flores #IL04 #thefutureisfemale https://t.co/sFWMDolNZr\n",
      "1009:  October is Domestic Violence Awareness Month – we must raise women's voices and demand accountability. We can continue to do this by reauthorizing the Violence Against Women Act, which provides resources for sexual assault and domestic violence survivors.  #DVAM2018 https://t.co/hqb5xnEQQW\n",
      "747:  Brett Kavanaugh can evade our questions on Roe all he likes, but he can’t dodge his own words in this email. Make no mistake, Roe v. Wade can be “settled law” today and overturned tomorrow. #WhatsAtStake https://t.co/pVgrCwC641\n",
      "527:  If Black women make 63 cents for every $1 a white, non-Hispanic man makes, imagine the difference in number of years it takes to retire, save for college, and pay off loans. This is not just a day-to-day problem, this disparity has a life-long impact. #BlackWomensEqualPay https://t.co/qZW3dsODVz\n",
      "1112:  Women make up 51% of the population. Imagine if we made up 51% of Congress?\n",
      "\n",
      "rep-lead\n",
      "\n",
      "1761:  Recent revelations of Planned Parenthood’s #abortion quotas are horrifying. I’m demanding answers. http://t.co/DB8Y2uVAFr #ProLife\n",
      "1720:  Let's celebrate @womensday and the progress women are making #WOWLDN What are the most important areas progress still needs to be made?\n",
      "406:  I’m not afraid to stand up to Planned Parenthood and their assault on human life. We must do all that we can to protect these precious lives and I’m proud to have @marjoriesba standing with me in the fight to protect the unborn. \n",
      "https://t.co/5eYxjhLsOH\n",
      "3458:  This #NationalPoliceWeek, we honor the courage &amp; selfless service of the men &amp; women in uniform who daily put their lives on the line to protect public safety, &amp; we remember those officers who made the ultimate sacrifice in the line of duty. #BackTheBlue #PoliceWeek https://t.co/RsIoOFWsSw\n",
      "1649:  In Indiana, women make $0.75 for every $1 earned by their male counterparts - lower than the nat'l avg. We must stand up for #equalpay.\n",
      "2700:  Thank you to our Intel/military community for putting your lives on the line for justice. #Benghazi https://t.co/TnfXnSe1On\n",
      "1937:  The 19th amendment is 95! Glad to celebrate amending our Constitution to ensure women have the right to vote. #thisdayinhistory\n",
      "2598:  In 1920, the 19th Amendment was ratified, granting women the right to vote. Happy #WomensEqualityDay! https://t.co/njo3bX6F6U\n",
      "199:  Could Roe v. Wade Be Overturned? https://t.co/4UpwToDE3c\n",
      "2224:  .@stlcountypd Officer Snyder was a hero who put his own life on the line to protect our families #STLCountyStrong https://t.co/14kIiYKPia\n",
      "\n"
     ]
    }
   ],
   "source": [
    "print_samples_all_groups(wr)"
   ]
  }
 ],
 "metadata": {
  "kernelspec": {
   "display_name": "Python 3",
   "language": "python",
   "name": "python3"
  },
  "language_info": {
   "codemirror_mode": {
    "name": "ipython",
    "version": 3
   },
   "file_extension": ".py",
   "mimetype": "text/x-python",
   "name": "python",
   "nbconvert_exporter": "python",
   "pygments_lexer": "ipython3",
   "version": "3.6.3"
  }
 },
 "nbformat": 4,
 "nbformat_minor": 2
}
