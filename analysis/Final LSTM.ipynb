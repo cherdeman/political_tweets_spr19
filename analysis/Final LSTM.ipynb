{
 "cells": [
  {
   "cell_type": "code",
   "execution_count": 1,
   "metadata": {},
   "outputs": [],
   "source": [
    "import sys\n",
    "sys.path.append(\"..\")"
   ]
  },
  {
   "cell_type": "code",
   "execution_count": 41,
   "metadata": {},
   "outputs": [],
   "source": [
    "import ast\n",
    "import time\n",
    "import pandas as pd\n",
    "import numpy as np\n",
    "import csv\n",
    "\n",
    "import torch\n",
    "import torch\n",
    "import torch.nn as nn\n",
    "import torch.nn.functional as F\n",
    "import torch.optim as optim\n",
    "\n",
    "torch.manual_seed(1)\n",
    "\n",
    "import gensim\n",
    "import torchtext\n",
    "from torchtext import data\n",
    "from torchtext import vocab\n",
    "from gensim import corpora, models\n",
    "\n",
    "import matplotlib.pyplot as plt\n",
    "import seaborn as sns\n",
    "\n",
    "from utils.db_client import DBClient\n",
    "from sklearn.feature_extraction.text import TfidfVectorizer"
   ]
  },
  {
   "cell_type": "code",
   "execution_count": 3,
   "metadata": {},
   "outputs": [
    {
     "name": "stdout",
     "output_type": "stream",
     "text": [
      "I'm trying\n",
      "Connected to political tweets DB\n"
     ]
    }
   ],
   "source": [
    "# Make DB Connection\n",
    "db = DBClient(secrets_path='../configs/db_secrets.json')"
   ]
  },
  {
   "cell_type": "markdown",
   "metadata": {},
   "source": [
    "### Model definition and tuning"
   ]
  },
  {
   "cell_type": "code",
   "execution_count": 10,
   "metadata": {},
   "outputs": [],
   "source": [
    "# Load data\n",
    "examples = db.read(\"select tweet_text_clean, label from staging.train_twitter140 order by Random() limit 100000\")"
   ]
  },
  {
   "cell_type": "code",
   "execution_count": 11,
   "metadata": {},
   "outputs": [],
   "source": [
    "# Define Fields\n",
    "txt_field = data.Field(sequential=True, \n",
    "                       include_lengths=True, \n",
    "                       use_vocab=True)\n",
    "label_field = data.Field(sequential=False, \n",
    "                         use_vocab=False, \n",
    "                         pad_token=None, \n",
    "                         unk_token=None)\n",
    "train_val_fields = [\n",
    "    ('SentimentText', txt_field), # process it as text\n",
    "    ('Sentiment', label_field) # process it as label\n",
    "]\n",
    "\n",
    "# Convert text ecamples to Example datatype\n",
    "examples = [data.Example.fromlist(((ast.literal_eval(example[0])), example[1]), train_val_fields) for example in examples]\n",
    "\n",
    "# Create dataset\n",
    "dataset = data.Dataset(examples, train_val_fields)"
   ]
  },
  {
   "cell_type": "code",
   "execution_count": 13,
   "metadata": {},
   "outputs": [],
   "source": [
    "MAX_VOCAB_SIZE = 25000\n",
    "\n",
    "# Make vocab for text and label fields\n",
    "txt_field.build_vocab(dataset,\n",
    "                      max_size = MAX_VOCAB_SIZE, \n",
    "                      vectors = vocab.Vectors('glove.twitter.27B.50d.txt', '../model/glove.twitter.27B/'))\n",
    "label_field.build_vocab(dataset)\n",
    "\n",
    "pretrained_embeddings = txt_field.vocab.vectors\n",
    "\n",
    "# Make train/val/test splits\n",
    "train_data, test_data, valid_data = dataset.split([0.7, 0.2, 0.1])"
   ]
  },
  {
   "cell_type": "code",
   "execution_count": 15,
   "metadata": {},
   "outputs": [
    {
     "data": {
      "text/plain": [
       "25002"
      ]
     },
     "execution_count": 15,
     "metadata": {},
     "output_type": "execute_result"
    }
   ],
   "source": [
    "len(txt_field.vocab.itos)"
   ]
  },
  {
   "cell_type": "code",
   "execution_count": 16,
   "metadata": {
    "scrolled": true
   },
   "outputs": [
    {
     "name": "stdout",
     "output_type": "stream",
     "text": [
      "Number of training examples: 70000\n",
      "Number of validation examples: 20000\n",
      "Number of testing examples: 10000\n"
     ]
    }
   ],
   "source": [
    "print(f'Number of training examples: {len(train_data)}')\n",
    "print(f'Number of validation examples: {len(valid_data)}')\n",
    "print(f'Number of testing examples: {len(test_data)}')"
   ]
  },
  {
   "cell_type": "code",
   "execution_count": 130,
   "metadata": {},
   "outputs": [
    {
     "data": {
      "text/plain": [
       "70000"
      ]
     },
     "execution_count": 130,
     "metadata": {},
     "output_type": "execute_result"
    }
   ],
   "source": [
    "len(train_data.examples)"
   ]
  },
  {
   "cell_type": "code",
   "execution_count": 17,
   "metadata": {},
   "outputs": [],
   "source": [
    "# Make data iterators\n",
    "BATCH_SIZE = 64\n",
    "\n",
    "train_iterator, valid_iterator, test_iterator = data.BucketIterator.splits((train_data, valid_data, test_data), \n",
    "                                                          batch_sizes = (BATCH_SIZE, BATCH_SIZE, BATCH_SIZE),\n",
    "                                                                        sort_key = lambda x: len(x.SentimentText),\n",
    "                                                                        sort_within_batch=True,\n",
    "                                                                        repeat = False)"
   ]
  },
  {
   "cell_type": "code",
   "execution_count": 18,
   "metadata": {},
   "outputs": [],
   "source": [
    "class LSTM(nn.Module):\n",
    "    def __init__(self, vocab_size, embedding_dim, hidden_dim, output_dim, n_layers, dropout, pad_idx):#, optimizer, criterion):\n",
    "        \n",
    "        super().__init__()\n",
    "        \n",
    "        self.embedding = nn.Embedding(vocab_size, embedding_dim, padding_idx = pad_idx)\n",
    "        self.embedding_dim = embedding_dim\n",
    "        self.pad_idx = pad_idx\n",
    "        self.rnn = nn.LSTM(embedding_dim, \n",
    "                           hidden_dim, \n",
    "                           num_layers=n_layers, \n",
    "                           #bidirectional=bidirectional, \n",
    "                           dropout=dropout)\n",
    "        \n",
    "        self.fc = nn.Linear(hidden_dim * 2, output_dim)\n",
    "        \n",
    "        self.dropout = nn.Dropout(dropout)\n",
    "        \n",
    "        self.optimizer = None #optimizer #optim.Adam(model.parameters())\n",
    "        self.criterion = None #criterion #nn.BCEWithLogitsLoss()\n",
    "        \n",
    "    \n",
    "    def set_pretrained_weights(self, pretrained_embeddings, txt_field):\n",
    "        self.embedding.weight.data.copy_(pretrained_embeddings)\n",
    "\n",
    "        UNK_IDX = txt_field.vocab.stoi[txt_field.unk_token]\n",
    "\n",
    "        self.embedding.weight.data[UNK_IDX] = torch.zeros(self.embedding_dim)\n",
    "        self.embedding.weight.data[self.pad_idx] = torch.zeros(self.embedding_dim)\n",
    "    \n",
    "    def forward(self, text, text_lengths):\n",
    "        \n",
    "        #text = [sent len, batch size]\n",
    "        \n",
    "        embedded = self.dropout(self.embedding(text))\n",
    "        \n",
    "        #embedded = [sent len, batch size, emb dim]\n",
    "        \n",
    "        #pack sequence\n",
    "        packed_embedded = nn.utils.rnn.pack_padded_sequence(embedded, text_lengths)\n",
    "        \n",
    "        packed_output, (hidden, cell) = self.rnn(packed_embedded)\n",
    "        \n",
    "        #unpack sequence\n",
    "        output, output_lengths = nn.utils.rnn.pad_packed_sequence(packed_output)\n",
    "\n",
    "        #output = [sent len, batch size, hid dim * num directions]\n",
    "        #output over padding tokens are zero tensors\n",
    "        \n",
    "        #hidden = [num layers * num directions, batch size, hid dim]\n",
    "        #cell = [num layers * num directions, batch size, hid dim]\n",
    "        \n",
    "        #concat the final forward (hidden[-2,:,:]) and backward (hidden[-1,:,:]) hidden layers\n",
    "        #and apply dropout\n",
    "        \n",
    "        hidden = self.dropout(torch.cat((hidden[-2,:,:], hidden[-1,:,:]), dim = 1))\n",
    "                \n",
    "        #hidden = [batch size, hid dim * num directions]\n",
    "            \n",
    "        return self.fc(hidden.squeeze(0))\n",
    "    \n",
    "    def binary_accuracy(self, preds, y):\n",
    "        \"\"\"\n",
    "        Returns accuracy per batch, i.e. if you get 8/10 right, this returns 0.8, NOT 8\n",
    "        \"\"\"\n",
    "\n",
    "        #round predictions to the closest integer\n",
    "        rounded_preds = torch.round(torch.sigmoid(preds))\n",
    "        correct = (rounded_preds == y).float() #convert into float for division \n",
    "        acc = correct.sum() / len(correct)\n",
    "        return acc\n",
    "    \n",
    "    def train_epoch(self, iterator):\n",
    "        epoch_loss = 0\n",
    "        epoch_acc = 0\n",
    "\n",
    "        self.train()\n",
    "        optimizer = self.optimizer\n",
    "        for batch in iterator:\n",
    "            if len(batch) == BATCH_SIZE:\n",
    "            \n",
    "                optimizer.zero_grad()\n",
    "\n",
    "                text, text_lengths = batch.SentimentText\n",
    "                predictions = self.forward(text, text_lengths).squeeze(1)\n",
    "                loss = self.criterion(predictions, batch.Sentiment.float())\n",
    "\n",
    "                acc = self.binary_accuracy(predictions, batch.Sentiment.float())\n",
    "\n",
    "                loss.backward()\n",
    "\n",
    "                optimizer.step()\n",
    "\n",
    "                epoch_loss += loss.item()\n",
    "                epoch_acc += acc.item()\n",
    "\n",
    "        return epoch_loss / len(iterator), epoch_acc / len(iterator)\n",
    "\n",
    "    def evaluate(self, iterator):\n",
    "\n",
    "        epoch_loss = 0\n",
    "        epoch_acc = 0\n",
    "\n",
    "        model.eval()\n",
    "\n",
    "        with torch.no_grad():\n",
    "\n",
    "            for batch in iterator:\n",
    "                if len(batch) == BATCH_SIZE:\n",
    "\n",
    "                    text, text_lengths = batch.SentimentText\n",
    "\n",
    "                    predictions = self.forward(text, text_lengths).squeeze(1)\n",
    "\n",
    "                    loss = self.criterion(predictions, batch.Sentiment.float())\n",
    "\n",
    "                    acc = self.binary_accuracy(predictions, batch.Sentiment.float())\n",
    "\n",
    "                    epoch_loss += loss.item()\n",
    "                    epoch_acc += acc.item()\n",
    "\n",
    "        return epoch_loss / len(iterator), epoch_acc / len(iterator)\n",
    "    \n",
    "    def sentiment_political(self, iterator):\n",
    "        \n",
    "        sentiment_df = None\n",
    "\n",
    "        with torch.no_grad():\n",
    "            batch_no = 0\n",
    "\n",
    "            for batch in iterator:\n",
    "                if len(batch) == BATCH_SIZE:\n",
    "\n",
    "                    text, text_lengths = batch.SentimentText\n",
    "\n",
    "                    predictions = self.forward(text, text_lengths).squeeze(1)\n",
    "                    \n",
    "                    preds = torch.sigmoid(predictions)\n",
    "                    \n",
    "                    pred_arr = preds.numpy()\n",
    "                    id_arr = batch.Id.numpy()\n",
    "                    pred_class_arr = torch.round(preds).numpy()\n",
    "                    \n",
    "                    if batch_no == 0:\n",
    "                        sentiment_df = pd.DataFrame({\"tweet_id\": id_arr, \n",
    "                                                     \"prediction_raw\": pred_arr, \n",
    "                                                     \"prediction_class\": pred_class_arr})\n",
    "                    else:\n",
    "                        sentiment_df = pd.concat([sentiment_df, pd.DataFrame({\"tweet_id\": id_arr, \n",
    "                                                     \"prediction_raw\": pred_arr, \n",
    "                                                     \"prediction_class\": pred_class_arr})])\n",
    "                    batch_no += 1\n",
    "            \n",
    "        return sentiment_df\n",
    "    \n",
    "    def epoch_time(self, start_time, end_time):\n",
    "        elapsed_time = end_time - start_time\n",
    "        elapsed_mins = int(elapsed_time / 60)\n",
    "        elapsed_secs = int(elapsed_time - (elapsed_mins * 60))\n",
    "        return elapsed_mins, elapsed_secs"
   ]
  },
  {
   "cell_type": "code",
   "execution_count": 133,
   "metadata": {},
   "outputs": [],
   "source": [
    "def epoch_training(N_EPOCHS, model, train_iterator, valid_iterator):\n",
    "    best_valid_loss = float('inf')\n",
    "\n",
    "    for epoch in range(N_EPOCHS):\n",
    "\n",
    "        start_time = time.time()\n",
    "\n",
    "        train_loss, train_acc = model.train_epoch(train_iterator)\n",
    "        valid_loss, valid_acc = model.evaluate(valid_iterator)\n",
    "\n",
    "        end_time = time.time()\n",
    "\n",
    "        epoch_mins, epoch_secs = model.epoch_time(start_time, end_time)\n",
    "\n",
    "        if valid_loss < best_valid_loss:\n",
    "            best_valid_loss = valid_loss\n",
    "            torch.save(model.state_dict(), 'tut2-model.pt')\n",
    "\n",
    "        print(f'Epoch: {epoch+1:02} | Epoch Time: {epoch_mins}m {epoch_secs}s')\n",
    "        print(f'\\tTrain Loss: {train_loss:.3f} | Train Acc: {train_acc*100:.2f}%')\n",
    "        print(f'\\t Val. Loss: {valid_loss:.3f} |  Val. Acc: {valid_acc*100:.2f}%')\n",
    "        \n",
    "    return model"
   ]
  },
  {
   "cell_type": "code",
   "execution_count": 134,
   "metadata": {},
   "outputs": [],
   "source": [
    "optimizers = [\"Adam\", \"Adagrad\"]\n",
    "criterions = [\"BCEWithLogitsLoss\"] \n",
    "learning_rates = [0.01, 0.001]\n",
    "epochs = [5, 25] \n",
    "weight_decay = [0, 0.01]"
   ]
  },
  {
   "cell_type": "code",
   "execution_count": null,
   "metadata": {},
   "outputs": [],
   "source": [
    "INPUT_DIM = len(txt_field.vocab)\n",
    "EMBEDDING_DIM = 50\n",
    "HIDDEN_DIM = 256\n",
    "OUTPUT_DIM = 1\n",
    "N_LAYERS = 2\n",
    "DROPOUT = 0.5\n",
    "PAD_IDX = txt_field.vocab.stoi[txt_field.pad_token]\n",
    "\n",
    "\n",
    "best_model_tuple = None\n",
    "best_accuracy = -1\n",
    "for optimizer in optimizers:\n",
    "    # Make a new model at the start\n",
    "    model = LSTM(INPUT_DIM, \n",
    "                EMBEDDING_DIM, \n",
    "                HIDDEN_DIM, \n",
    "                OUTPUT_DIM, \n",
    "                N_LAYERS,\n",
    "                DROPOUT, \n",
    "                PAD_IDX)\n",
    "    model.set_pretrained_weights(pretrained_embeddings, txt_field)\n",
    "    for learning_rate in learning_rates:\n",
    "        for decay in weight_decay:\n",
    "            # Set OPTIMIZER\n",
    "            if optimizer == \"Adam\":\n",
    "                model.optimizer = optim.Adam(params = model.parameters(), lr = learning_rate, weight_decay = decay) \n",
    "            else: \n",
    "                model.optimizer = optim.Adagrad(params = model.parameters(), lr = learning_rate, weight_decay = decay)\n",
    "\n",
    "            for criterion in criterions:\n",
    "                # SET CRITERION\n",
    "                if criterion == \"BCEWithLogitsLoss\":\n",
    "                    model.criterion = nn.BCEWithLogitsLoss() \n",
    "                else: \n",
    "                    model.criterion = nn.NLLLoss()\n",
    "                \n",
    "                for epoch in epochs:\n",
    "                    model_name = \"-\".join([optimizer, str(learning_rate), str(decay), str(criterion), str(epoch)])\n",
    "\n",
    "                    print(f\"working on model {model_name}\")\n",
    "                    trained_model = epoch_training(epoch, model, train_iterator, valid_iterator)\n",
    "                    _, acc = trained_model.evaluate(valid_iterator)\n",
    "                    \n",
    "                    if acc > best_accuracy:\n",
    "                        best_accuracy = acc\n",
    "                        best_model_tuple = (model_name, trained_model)\n"
   ]
  },
  {
   "cell_type": "code",
   "execution_count": 137,
   "metadata": {},
   "outputs": [],
   "source": [
    "best_model_name = best_model_tuple[0]\n",
    "best_model = best_model_tuple[1]"
   ]
  },
  {
   "cell_type": "code",
   "execution_count": 138,
   "metadata": {},
   "outputs": [
    {
     "name": "stdout",
     "output_type": "stream",
     "text": [
      "Adam-0.001-0-BCEWithLogitsLoss-5\n"
     ]
    },
    {
     "data": {
      "text/plain": [
       "(0.4839125668546956, 0.7624402866242038)"
      ]
     },
     "execution_count": 138,
     "metadata": {},
     "output_type": "execute_result"
    }
   ],
   "source": [
    "print(best_model_name)\n",
    "best_model.evaluate(test_iterator)"
   ]
  },
  {
   "cell_type": "code",
   "execution_count": 139,
   "metadata": {},
   "outputs": [
    {
     "name": "stderr",
     "output_type": "stream",
     "text": [
      "/Users/alenastern/.virtualenvs/aml/lib/python3.7/site-packages/torch/serialization.py:251: UserWarning: Couldn't retrieve source code for container of type LSTM. It won't be checked for correctness upon loading.\n",
      "  \"type \" + obj.__name__ + \". It won't be checked \"\n"
     ]
    }
   ],
   "source": [
    "run_no = \"final\"\n",
    "torch.save(best_model.state_dict(), 'models_store/best_model_dict_{}_{}.pt'.format(best_model_name, run_no))\n",
    "torch.save(best_model, 'models_store/best_model_{}_{}.pt'.format(best_model_name, run_no))\n"
   ]
  },
  {
   "cell_type": "markdown",
   "metadata": {},
   "source": [
    "### Subject Analysis"
   ]
  },
  {
   "cell_type": "code",
   "execution_count": 19,
   "metadata": {},
   "outputs": [
    {
     "name": "stdout",
     "output_type": "stream",
     "text": [
      "select tweet_text_clean, tweet_id, tweet_text_raw, leadership, democrat, civil_rights, courts, criminal_justice, drugs, econ_inequality, econ_jobs, education, environment, foreign_policy, governance, guns, health, immigration, pharma, puerto_rico, rural, russia, shutdown, social_security, taxes, technology, women_rights from staging.master\n"
     ]
    }
   ],
   "source": [
    "# Load data\n",
    "num_tweets = 100000\n",
    "focus_topics = ['health', 'econ_jobs', 'immigration', 'taxes']\n",
    "all_topics = ['civil_rights', 'courts', 'criminal_justice', 'drugs', 'econ_inequality', 'econ_jobs', 'education',\n",
    "'environment', 'foreign_policy','governance', 'guns', 'health', 'immigration', 'pharma', 'puerto_rico', 'rural', \n",
    "'russia', 'shutdown', 'social_security', 'taxes', 'technology', 'women_rights']\n",
    "topics_str = ', '.join(all_topics)\n",
    "query_start = \"select tweet_text_clean, tweet_id, tweet_text_raw, leadership, democrat, {} from staging.master\".format(topics_str)\n",
    "\n",
    "query = query_start\n",
    "print(query)\n",
    "db.conn.rollback()\n",
    "examples_db = db.read(query)\n"
   ]
  },
  {
   "cell_type": "code",
   "execution_count": 20,
   "metadata": {},
   "outputs": [],
   "source": [
    "examples_train = [(example[0], example[1]) for example in examples_db]"
   ]
  },
  {
   "cell_type": "code",
   "execution_count": 21,
   "metadata": {},
   "outputs": [
    {
     "data": {
      "text/plain": [
       "(\"['side', 'need', 'learn', 'firearm', 'current', 'process', 'weve', 'get', 'keep', 'firearm', 'secure', 'minor', 'people', 'restrain', 'order', 'shouldnt', 'weapon', 'need', 'improve', 'current', 'background', 'check', 'system']\",\n",
       " '1000002839572353024')"
      ]
     },
     "execution_count": 21,
     "metadata": {},
     "output_type": "execute_result"
    }
   ],
   "source": [
    "examples_train[0]"
   ]
  },
  {
   "cell_type": "code",
   "execution_count": 22,
   "metadata": {},
   "outputs": [],
   "source": [
    "# Define Fields\n",
    "txt_field_eval = data.Field(sequential=True, \n",
    "                       include_lengths=True, \n",
    "                       use_vocab=True)\n",
    "\n",
    "txt_field_eval.vocab = txt_field.vocab\n",
    "id_field_eval = data.Field(sequential=False, \n",
    "                      use_vocab=False, \n",
    "                      pad_token=None, \n",
    "                      unk_token=None)\n",
    "\n",
    "eval_val_fields = [\n",
    "    ('SentimentText', txt_field_eval), # process it as text\n",
    "    ('Id', id_field_eval) # process it as id\n",
    "]\n",
    "\n",
    "\n",
    "# Convert text examples to Example datatype\n",
    "examples = [data.Example.fromlist(((ast.literal_eval(example[0])), example[1]), eval_val_fields) for example in examples_train]\n",
    "\n",
    "# Create dataset\n",
    "dataset = data.Dataset(examples, eval_val_fields)\n"
   ]
  },
  {
   "cell_type": "code",
   "execution_count": 23,
   "metadata": {},
   "outputs": [
    {
     "data": {
      "text/plain": [
       "tensor([[ 0.0000,  0.0000,  0.0000,  ...,  0.0000,  0.0000,  0.0000],\n",
       "        [ 0.0000,  0.0000,  0.0000,  ...,  0.0000,  0.0000,  0.0000],\n",
       "        [ 0.1259,  0.7006,  0.1237,  ...,  0.2219, -0.7194,  0.7646],\n",
       "        ...,\n",
       "        [ 0.0000,  0.0000,  0.0000,  ...,  0.0000,  0.0000,  0.0000],\n",
       "        [-0.3252, -0.9471, -0.0113,  ..., -0.4641, -0.5404, -0.6724],\n",
       "        [-0.1560, -0.3461, -0.6794,  ...,  0.2448, -0.2650, -0.4678]])"
      ]
     },
     "execution_count": 23,
     "metadata": {},
     "output_type": "execute_result"
    }
   ],
   "source": [
    "txt_field_eval.vocab.vectors"
   ]
  },
  {
   "cell_type": "code",
   "execution_count": 24,
   "metadata": {},
   "outputs": [
    {
     "data": {
      "text/plain": [
       "['side',\n",
       " 'need',\n",
       " 'learn',\n",
       " 'firearm',\n",
       " 'current',\n",
       " 'process',\n",
       " 'weve',\n",
       " 'get',\n",
       " 'keep',\n",
       " 'firearm',\n",
       " 'secure',\n",
       " 'minor',\n",
       " 'people',\n",
       " 'restrain',\n",
       " 'order',\n",
       " 'shouldnt',\n",
       " 'weapon',\n",
       " 'need',\n",
       " 'improve',\n",
       " 'current',\n",
       " 'background',\n",
       " 'check',\n",
       " 'system']"
      ]
     },
     "execution_count": 24,
     "metadata": {},
     "output_type": "execute_result"
    }
   ],
   "source": [
    "test_example = examples[0]\n",
    "test_example.SentimentText"
   ]
  },
  {
   "cell_type": "code",
   "execution_count": 25,
   "metadata": {},
   "outputs": [],
   "source": [
    "# Create Iterator\n",
    "BATCH_SIZE = 64\n",
    "\n",
    "eval_iterator = data.BucketIterator(dataset, \n",
    "                                           batch_size = BATCH_SIZE, \n",
    "                                           sort_key = lambda x: len(x.SentimentText),\n",
    "                                           sort_within_batch=True,\n",
    "                                           repeat = False)"
   ]
  },
  {
   "cell_type": "code",
   "execution_count": 26,
   "metadata": {},
   "outputs": [
    {
     "data": {
      "text/plain": [
       "LSTM(\n",
       "  (embedding): Embedding(25002, 50, padding_idx=1)\n",
       "  (rnn): LSTM(50, 256, num_layers=2, dropout=0.5)\n",
       "  (fc): Linear(in_features=512, out_features=1, bias=True)\n",
       "  (dropout): Dropout(p=0.5)\n",
       "  (criterion): BCEWithLogitsLoss()\n",
       ")"
      ]
     },
     "execution_count": 26,
     "metadata": {},
     "output_type": "execute_result"
    }
   ],
   "source": [
    "# load best model\n",
    "final_model = torch.load('models_store/best_model_Adam-0.001-0-BCEWithLogitsLoss-5_1.pt')\n",
    "final_model.eval()"
   ]
  },
  {
   "cell_type": "code",
   "execution_count": null,
   "metadata": {},
   "outputs": [],
   "source": [
    "# Calculate sentiment of each tweet\n",
    "sentiment_df = final_model.sentiment_political(eval_iterator)\n"
   ]
  },
  {
   "cell_type": "code",
   "execution_count": 29,
   "metadata": {},
   "outputs": [],
   "source": [
    "# Store political sentiment data\n",
    "run_no = 1\n",
    "sentiment_df.to_csv('models_store/political_sentiment_{}_{}.csv'.format(\"final_model_sentiment\", run_no))"
   ]
  },
  {
   "cell_type": "code",
   "execution_count": 30,
   "metadata": {},
   "outputs": [
    {
     "data": {
      "text/plain": [
       "prediction_class\n",
       "0.0    82912\n",
       "1.0    40224\n",
       "dtype: int64"
      ]
     },
     "execution_count": 30,
     "metadata": {},
     "output_type": "execute_result"
    }
   ],
   "source": [
    "# calculate number of positive and negative tweets\n",
    "sentiment_df.groupby('prediction_class').size()"
   ]
  },
  {
   "cell_type": "code",
   "execution_count": 31,
   "metadata": {},
   "outputs": [
    {
     "data": {
      "text/html": [
       "<div>\n",
       "<style scoped>\n",
       "    .dataframe tbody tr th:only-of-type {\n",
       "        vertical-align: middle;\n",
       "    }\n",
       "\n",
       "    .dataframe tbody tr th {\n",
       "        vertical-align: top;\n",
       "    }\n",
       "\n",
       "    .dataframe thead th {\n",
       "        text-align: right;\n",
       "    }\n",
       "</style>\n",
       "<table border=\"1\" class=\"dataframe\">\n",
       "  <thead>\n",
       "    <tr style=\"text-align: right;\">\n",
       "      <th></th>\n",
       "      <th>tweet_id</th>\n",
       "      <th>prediction_raw</th>\n",
       "      <th>prediction_class</th>\n",
       "    </tr>\n",
       "  </thead>\n",
       "  <tbody>\n",
       "    <tr>\n",
       "      <th>0</th>\n",
       "      <td>748542118600245248</td>\n",
       "      <td>0.925690</td>\n",
       "      <td>1.0</td>\n",
       "    </tr>\n",
       "    <tr>\n",
       "      <th>1</th>\n",
       "      <td>53084818254204929</td>\n",
       "      <td>0.006733</td>\n",
       "      <td>0.0</td>\n",
       "    </tr>\n",
       "    <tr>\n",
       "      <th>2</th>\n",
       "      <td>200238810968244224</td>\n",
       "      <td>0.017363</td>\n",
       "      <td>0.0</td>\n",
       "    </tr>\n",
       "    <tr>\n",
       "      <th>3</th>\n",
       "      <td>881947748521566208</td>\n",
       "      <td>0.249771</td>\n",
       "      <td>0.0</td>\n",
       "    </tr>\n",
       "    <tr>\n",
       "      <th>4</th>\n",
       "      <td>1047192005581967362</td>\n",
       "      <td>0.006855</td>\n",
       "      <td>0.0</td>\n",
       "    </tr>\n",
       "  </tbody>\n",
       "</table>\n",
       "</div>"
      ],
      "text/plain": [
       "              tweet_id  prediction_raw  prediction_class\n",
       "0   748542118600245248        0.925690               1.0\n",
       "1    53084818254204929        0.006733               0.0\n",
       "2   200238810968244224        0.017363               0.0\n",
       "3   881947748521566208        0.249771               0.0\n",
       "4  1047192005581967362        0.006855               0.0"
      ]
     },
     "execution_count": 31,
     "metadata": {},
     "output_type": "execute_result"
    }
   ],
   "source": [
    "sentiment_df['tweet_id'] = pd.to_numeric(sentiment_df['tweet_id'])\n",
    "sentiment_df.head()"
   ]
  },
  {
   "cell_type": "code",
   "execution_count": 32,
   "metadata": {},
   "outputs": [],
   "source": [
    "data_full = pd.DataFrame(examples_db, columns = ['tweet_text_clean', 'tweet_id', \n",
    "                                            'tweet_text_raw', 'leadership', 'democrat'] + all_topics )"
   ]
  },
  {
   "cell_type": "code",
   "execution_count": 33,
   "metadata": {},
   "outputs": [
    {
     "data": {
      "text/html": [
       "<div>\n",
       "<style scoped>\n",
       "    .dataframe tbody tr th:only-of-type {\n",
       "        vertical-align: middle;\n",
       "    }\n",
       "\n",
       "    .dataframe tbody tr th {\n",
       "        vertical-align: top;\n",
       "    }\n",
       "\n",
       "    .dataframe thead th {\n",
       "        text-align: right;\n",
       "    }\n",
       "</style>\n",
       "<table border=\"1\" class=\"dataframe\">\n",
       "  <thead>\n",
       "    <tr style=\"text-align: right;\">\n",
       "      <th></th>\n",
       "      <th>tweet_text_clean</th>\n",
       "      <th>tweet_id</th>\n",
       "      <th>tweet_text_raw</th>\n",
       "      <th>leadership</th>\n",
       "      <th>democrat</th>\n",
       "      <th>civil_rights</th>\n",
       "      <th>courts</th>\n",
       "      <th>criminal_justice</th>\n",
       "      <th>drugs</th>\n",
       "      <th>econ_inequality</th>\n",
       "      <th>...</th>\n",
       "      <th>immigration</th>\n",
       "      <th>pharma</th>\n",
       "      <th>puerto_rico</th>\n",
       "      <th>rural</th>\n",
       "      <th>russia</th>\n",
       "      <th>shutdown</th>\n",
       "      <th>social_security</th>\n",
       "      <th>taxes</th>\n",
       "      <th>technology</th>\n",
       "      <th>women_rights</th>\n",
       "    </tr>\n",
       "  </thead>\n",
       "  <tbody>\n",
       "    <tr>\n",
       "      <th>0</th>\n",
       "      <td>['side', 'need', 'learn', 'firearm', 'current'...</td>\n",
       "      <td>1000002839572353024</td>\n",
       "      <td>@amountainpass @MomsRising @redclaydems @georg...</td>\n",
       "      <td>True</td>\n",
       "      <td>True</td>\n",
       "      <td>False</td>\n",
       "      <td>False</td>\n",
       "      <td>False</td>\n",
       "      <td>False</td>\n",
       "      <td>False</td>\n",
       "      <td>...</td>\n",
       "      <td>False</td>\n",
       "      <td>False</td>\n",
       "      <td>False</td>\n",
       "      <td>False</td>\n",
       "      <td>False</td>\n",
       "      <td>False</td>\n",
       "      <td>False</td>\n",
       "      <td>False</td>\n",
       "      <td>False</td>\n",
       "      <td>False</td>\n",
       "    </tr>\n",
       "    <tr>\n",
       "      <th>1</th>\n",
       "      <td>['meeting', 'north', 'korea', 'cancel', 'north...</td>\n",
       "      <td>1000005238705844225</td>\n",
       "      <td>When the meeting with North Korea was cancelle...</td>\n",
       "      <td>True</td>\n",
       "      <td>False</td>\n",
       "      <td>False</td>\n",
       "      <td>False</td>\n",
       "      <td>False</td>\n",
       "      <td>False</td>\n",
       "      <td>False</td>\n",
       "      <td>...</td>\n",
       "      <td>False</td>\n",
       "      <td>False</td>\n",
       "      <td>False</td>\n",
       "      <td>False</td>\n",
       "      <td>False</td>\n",
       "      <td>False</td>\n",
       "      <td>False</td>\n",
       "      <td>False</td>\n",
       "      <td>False</td>\n",
       "      <td>False</td>\n",
       "    </tr>\n",
       "    <tr>\n",
       "      <th>2</th>\n",
       "      <td>['west', 'coast', 'attempt', 'literally', 'lim...</td>\n",
       "      <td>1000005833374265344</td>\n",
       "      <td>So the west coast has now attempted to literal...</td>\n",
       "      <td>False</td>\n",
       "      <td>True</td>\n",
       "      <td>False</td>\n",
       "      <td>False</td>\n",
       "      <td>False</td>\n",
       "      <td>False</td>\n",
       "      <td>False</td>\n",
       "      <td>...</td>\n",
       "      <td>False</td>\n",
       "      <td>False</td>\n",
       "      <td>False</td>\n",
       "      <td>False</td>\n",
       "      <td>False</td>\n",
       "      <td>False</td>\n",
       "      <td>False</td>\n",
       "      <td>False</td>\n",
       "      <td>False</td>\n",
       "      <td>False</td>\n",
       "    </tr>\n",
       "    <tr>\n",
       "      <th>3</th>\n",
       "      <td>['say', 'everyone', 'play', 'game', 'regard', ...</td>\n",
       "      <td>1000006346144731136</td>\n",
       "      <td>.@realDonaldTrump saying “everyone plays games...</td>\n",
       "      <td>False</td>\n",
       "      <td>False</td>\n",
       "      <td>False</td>\n",
       "      <td>False</td>\n",
       "      <td>False</td>\n",
       "      <td>False</td>\n",
       "      <td>False</td>\n",
       "      <td>...</td>\n",
       "      <td>False</td>\n",
       "      <td>False</td>\n",
       "      <td>False</td>\n",
       "      <td>False</td>\n",
       "      <td>False</td>\n",
       "      <td>False</td>\n",
       "      <td>False</td>\n",
       "      <td>False</td>\n",
       "      <td>False</td>\n",
       "      <td>False</td>\n",
       "    </tr>\n",
       "    <tr>\n",
       "      <th>4</th>\n",
       "      <td>['democrat', 'foreign', 'invader', 'godgiven',...</td>\n",
       "      <td>1000007055065911296</td>\n",
       "      <td>Democrats are foreign invaders on our God-give...</td>\n",
       "      <td>False</td>\n",
       "      <td>True</td>\n",
       "      <td>False</td>\n",
       "      <td>False</td>\n",
       "      <td>False</td>\n",
       "      <td>False</td>\n",
       "      <td>False</td>\n",
       "      <td>...</td>\n",
       "      <td>False</td>\n",
       "      <td>False</td>\n",
       "      <td>False</td>\n",
       "      <td>False</td>\n",
       "      <td>False</td>\n",
       "      <td>False</td>\n",
       "      <td>False</td>\n",
       "      <td>False</td>\n",
       "      <td>False</td>\n",
       "      <td>False</td>\n",
       "    </tr>\n",
       "  </tbody>\n",
       "</table>\n",
       "<p>5 rows × 27 columns</p>\n",
       "</div>"
      ],
      "text/plain": [
       "                                    tweet_text_clean             tweet_id  \\\n",
       "0  ['side', 'need', 'learn', 'firearm', 'current'...  1000002839572353024   \n",
       "1  ['meeting', 'north', 'korea', 'cancel', 'north...  1000005238705844225   \n",
       "2  ['west', 'coast', 'attempt', 'literally', 'lim...  1000005833374265344   \n",
       "3  ['say', 'everyone', 'play', 'game', 'regard', ...  1000006346144731136   \n",
       "4  ['democrat', 'foreign', 'invader', 'godgiven',...  1000007055065911296   \n",
       "\n",
       "                                      tweet_text_raw  leadership democrat  \\\n",
       "0  @amountainpass @MomsRising @redclaydems @georg...        True     True   \n",
       "1  When the meeting with North Korea was cancelle...        True    False   \n",
       "2  So the west coast has now attempted to literal...       False     True   \n",
       "3  .@realDonaldTrump saying “everyone plays games...       False    False   \n",
       "4  Democrats are foreign invaders on our God-give...       False     True   \n",
       "\n",
       "   civil_rights  courts  criminal_justice  drugs  econ_inequality  ...  \\\n",
       "0         False   False             False  False            False  ...   \n",
       "1         False   False             False  False            False  ...   \n",
       "2         False   False             False  False            False  ...   \n",
       "3         False   False             False  False            False  ...   \n",
       "4         False   False             False  False            False  ...   \n",
       "\n",
       "   immigration  pharma  puerto_rico  rural  russia  shutdown  social_security  \\\n",
       "0        False   False        False  False   False     False            False   \n",
       "1        False   False        False  False   False     False            False   \n",
       "2        False   False        False  False   False     False            False   \n",
       "3        False   False        False  False   False     False            False   \n",
       "4        False   False        False  False   False     False            False   \n",
       "\n",
       "   taxes  technology  women_rights  \n",
       "0  False       False         False  \n",
       "1  False       False         False  \n",
       "2  False       False         False  \n",
       "3  False       False         False  \n",
       "4  False       False         False  \n",
       "\n",
       "[5 rows x 27 columns]"
      ]
     },
     "execution_count": 33,
     "metadata": {},
     "output_type": "execute_result"
    }
   ],
   "source": [
    "data_full['tweet_id'] = pd.to_numeric(data_full['tweet_id'])\n",
    "data_full.head()"
   ]
  },
  {
   "cell_type": "markdown",
   "metadata": {},
   "source": [
    "### Plotting Results"
   ]
  },
  {
   "cell_type": "code",
   "execution_count": 34,
   "metadata": {},
   "outputs": [
    {
     "data": {
      "text/html": [
       "<div>\n",
       "<style scoped>\n",
       "    .dataframe tbody tr th:only-of-type {\n",
       "        vertical-align: middle;\n",
       "    }\n",
       "\n",
       "    .dataframe tbody tr th {\n",
       "        vertical-align: top;\n",
       "    }\n",
       "\n",
       "    .dataframe thead th {\n",
       "        text-align: right;\n",
       "    }\n",
       "</style>\n",
       "<table border=\"1\" class=\"dataframe\">\n",
       "  <thead>\n",
       "    <tr style=\"text-align: right;\">\n",
       "      <th></th>\n",
       "      <th>tweet_text_clean</th>\n",
       "      <th>tweet_id</th>\n",
       "      <th>tweet_text_raw</th>\n",
       "      <th>leadership</th>\n",
       "      <th>democrat</th>\n",
       "      <th>civil_rights</th>\n",
       "      <th>courts</th>\n",
       "      <th>criminal_justice</th>\n",
       "      <th>drugs</th>\n",
       "      <th>econ_inequality</th>\n",
       "      <th>...</th>\n",
       "      <th>russia</th>\n",
       "      <th>shutdown</th>\n",
       "      <th>social_security</th>\n",
       "      <th>taxes</th>\n",
       "      <th>technology</th>\n",
       "      <th>women_rights</th>\n",
       "      <th>prediction_raw</th>\n",
       "      <th>prediction_class</th>\n",
       "      <th>negative</th>\n",
       "      <th>positive</th>\n",
       "    </tr>\n",
       "  </thead>\n",
       "  <tbody>\n",
       "    <tr>\n",
       "      <th>0</th>\n",
       "      <td>['side', 'need', 'learn', 'firearm', 'current'...</td>\n",
       "      <td>1000002839572353024</td>\n",
       "      <td>@amountainpass @MomsRising @redclaydems @georg...</td>\n",
       "      <td>True</td>\n",
       "      <td>True</td>\n",
       "      <td>False</td>\n",
       "      <td>False</td>\n",
       "      <td>False</td>\n",
       "      <td>False</td>\n",
       "      <td>False</td>\n",
       "      <td>...</td>\n",
       "      <td>False</td>\n",
       "      <td>False</td>\n",
       "      <td>False</td>\n",
       "      <td>False</td>\n",
       "      <td>False</td>\n",
       "      <td>False</td>\n",
       "      <td>0.925292</td>\n",
       "      <td>1.0</td>\n",
       "      <td>0</td>\n",
       "      <td>1</td>\n",
       "    </tr>\n",
       "    <tr>\n",
       "      <th>1</th>\n",
       "      <td>['meeting', 'north', 'korea', 'cancel', 'north...</td>\n",
       "      <td>1000005238705844225</td>\n",
       "      <td>When the meeting with North Korea was cancelle...</td>\n",
       "      <td>True</td>\n",
       "      <td>False</td>\n",
       "      <td>False</td>\n",
       "      <td>False</td>\n",
       "      <td>False</td>\n",
       "      <td>False</td>\n",
       "      <td>False</td>\n",
       "      <td>...</td>\n",
       "      <td>False</td>\n",
       "      <td>False</td>\n",
       "      <td>False</td>\n",
       "      <td>False</td>\n",
       "      <td>False</td>\n",
       "      <td>False</td>\n",
       "      <td>0.049373</td>\n",
       "      <td>0.0</td>\n",
       "      <td>1</td>\n",
       "      <td>0</td>\n",
       "    </tr>\n",
       "    <tr>\n",
       "      <th>2</th>\n",
       "      <td>['west', 'coast', 'attempt', 'literally', 'lim...</td>\n",
       "      <td>1000005833374265344</td>\n",
       "      <td>So the west coast has now attempted to literal...</td>\n",
       "      <td>False</td>\n",
       "      <td>True</td>\n",
       "      <td>False</td>\n",
       "      <td>False</td>\n",
       "      <td>False</td>\n",
       "      <td>False</td>\n",
       "      <td>False</td>\n",
       "      <td>...</td>\n",
       "      <td>False</td>\n",
       "      <td>False</td>\n",
       "      <td>False</td>\n",
       "      <td>False</td>\n",
       "      <td>False</td>\n",
       "      <td>False</td>\n",
       "      <td>0.129591</td>\n",
       "      <td>0.0</td>\n",
       "      <td>1</td>\n",
       "      <td>0</td>\n",
       "    </tr>\n",
       "    <tr>\n",
       "      <th>3</th>\n",
       "      <td>['say', 'everyone', 'play', 'game', 'regard', ...</td>\n",
       "      <td>1000006346144731136</td>\n",
       "      <td>.@realDonaldTrump saying “everyone plays games...</td>\n",
       "      <td>False</td>\n",
       "      <td>False</td>\n",
       "      <td>False</td>\n",
       "      <td>False</td>\n",
       "      <td>False</td>\n",
       "      <td>False</td>\n",
       "      <td>False</td>\n",
       "      <td>...</td>\n",
       "      <td>False</td>\n",
       "      <td>False</td>\n",
       "      <td>False</td>\n",
       "      <td>False</td>\n",
       "      <td>False</td>\n",
       "      <td>False</td>\n",
       "      <td>0.983489</td>\n",
       "      <td>1.0</td>\n",
       "      <td>0</td>\n",
       "      <td>1</td>\n",
       "    </tr>\n",
       "    <tr>\n",
       "      <th>4</th>\n",
       "      <td>['democrat', 'foreign', 'invader', 'godgiven',...</td>\n",
       "      <td>1000007055065911296</td>\n",
       "      <td>Democrats are foreign invaders on our God-give...</td>\n",
       "      <td>False</td>\n",
       "      <td>True</td>\n",
       "      <td>False</td>\n",
       "      <td>False</td>\n",
       "      <td>False</td>\n",
       "      <td>False</td>\n",
       "      <td>False</td>\n",
       "      <td>...</td>\n",
       "      <td>False</td>\n",
       "      <td>False</td>\n",
       "      <td>False</td>\n",
       "      <td>False</td>\n",
       "      <td>False</td>\n",
       "      <td>False</td>\n",
       "      <td>0.011285</td>\n",
       "      <td>0.0</td>\n",
       "      <td>1</td>\n",
       "      <td>0</td>\n",
       "    </tr>\n",
       "  </tbody>\n",
       "</table>\n",
       "<p>5 rows × 31 columns</p>\n",
       "</div>"
      ],
      "text/plain": [
       "                                    tweet_text_clean             tweet_id  \\\n",
       "0  ['side', 'need', 'learn', 'firearm', 'current'...  1000002839572353024   \n",
       "1  ['meeting', 'north', 'korea', 'cancel', 'north...  1000005238705844225   \n",
       "2  ['west', 'coast', 'attempt', 'literally', 'lim...  1000005833374265344   \n",
       "3  ['say', 'everyone', 'play', 'game', 'regard', ...  1000006346144731136   \n",
       "4  ['democrat', 'foreign', 'invader', 'godgiven',...  1000007055065911296   \n",
       "\n",
       "                                      tweet_text_raw  leadership democrat  \\\n",
       "0  @amountainpass @MomsRising @redclaydems @georg...        True     True   \n",
       "1  When the meeting with North Korea was cancelle...        True    False   \n",
       "2  So the west coast has now attempted to literal...       False     True   \n",
       "3  .@realDonaldTrump saying “everyone plays games...       False    False   \n",
       "4  Democrats are foreign invaders on our God-give...       False     True   \n",
       "\n",
       "   civil_rights  courts  criminal_justice  drugs  econ_inequality  ...  \\\n",
       "0         False   False             False  False            False  ...   \n",
       "1         False   False             False  False            False  ...   \n",
       "2         False   False             False  False            False  ...   \n",
       "3         False   False             False  False            False  ...   \n",
       "4         False   False             False  False            False  ...   \n",
       "\n",
       "   russia  shutdown  social_security  taxes  technology  women_rights  \\\n",
       "0   False     False            False  False       False         False   \n",
       "1   False     False            False  False       False         False   \n",
       "2   False     False            False  False       False         False   \n",
       "3   False     False            False  False       False         False   \n",
       "4   False     False            False  False       False         False   \n",
       "\n",
       "   prediction_raw  prediction_class  negative  positive  \n",
       "0        0.925292               1.0         0         1  \n",
       "1        0.049373               0.0         1         0  \n",
       "2        0.129591               0.0         1         0  \n",
       "3        0.983489               1.0         0         1  \n",
       "4        0.011285               0.0         1         0  \n",
       "\n",
       "[5 rows x 31 columns]"
      ]
     },
     "execution_count": 34,
     "metadata": {},
     "output_type": "execute_result"
    }
   ],
   "source": [
    "pol_data = data_full.merge(sentiment_df, on = 'tweet_id')\n",
    "pol_data['negative'] = np.where((pol_data['prediction_class'] == 0), 1, 0)\n",
    "pol_data['positive'] = np.where((pol_data['prediction_class'] == 1), 1, 0)\n",
    "pol_data.head()"
   ]
  },
  {
   "cell_type": "code",
   "execution_count": 35,
   "metadata": {},
   "outputs": [],
   "source": [
    "pol_data.to_csv('pol_data_all.csv')"
   ]
  },
  {
   "cell_type": "code",
   "execution_count": 36,
   "metadata": {},
   "outputs": [],
   "source": [
    "choices = ['dem-lead', 'dem-base', 'rep-lead', 'rep-base']\n",
    "palette = {\"dem-base\": \"#a8b2ff\",\"dem-lead\": \"#0015bc\", \"rep-base\": \"#ff9d9d\", \"rep-lead\": \"#ff0000\", \"\": \"gray\"}\n"
   ]
  },
  {
   "cell_type": "code",
   "execution_count": 37,
   "metadata": {},
   "outputs": [],
   "source": [
    "def results_for_plotting(df):\n",
    "    # create group variable and reshape data for plotting\n",
    "    df['group'] = np.where((df['democrat']==True) & (df['leadership']==True), 'dem-lead', \n",
    "        np.where((df['democrat']==True) & (df['leadership']==False), 'dem-base',\n",
    "        np.where((df['democrat']==False) & (df['leadership']==True), 'rep-lead', \n",
    "        np.where((df['democrat']==False) & (df['leadership']==False), 'rep-base', \"\"))))\n",
    "\n",
    "    plotting = pd.melt(df[df['group'] != \"\"], id_vars = ['democrat', 'leadership', 'group', 'tweet_id', 'tweet_text_raw', 'tweet_text_clean', 'prediction_class', 'prediction_raw'])\n",
    "\n",
    "    return plotting\n",
    "    \n",
    "    "
   ]
  },
  {
   "cell_type": "code",
   "execution_count": 38,
   "metadata": {},
   "outputs": [],
   "source": [
    "def plot(plotting, palette, topic, neg_pos_only = True):\n",
    "    # create bar plot of sentiment by group\n",
    "    if neg_pos_only:\n",
    "        data = plotting[plotting['variable'].isin(['negative', 'positive'])]\n",
    "    else:\n",
    "        data = plotting\n",
    "    plt.figure(figsize = (6, 3.5))\n",
    "    sns_plot = sns.barplot(x='variable', y='value', hue='group', data=data, palette=palette)\n",
    "    sns_plot.figure.savefig(\"plots/{}.png\".format(topic))"
   ]
  },
  {
   "cell_type": "code",
   "execution_count": 40,
   "metadata": {},
   "outputs": [
    {
     "name": "stderr",
     "output_type": "stream",
     "text": [
      "/Users/alenastern/.virtualenvs/aml/lib/python3.7/site-packages/pandas/core/frame.py:3940: SettingWithCopyWarning: \n",
      "A value is trying to be set on a copy of a slice from a DataFrame\n",
      "\n",
      "See the caveats in the documentation: http://pandas.pydata.org/pandas-docs/stable/indexing.html#indexing-view-versus-copy\n",
      "  errors=errors)\n",
      "/Users/alenastern/.virtualenvs/aml/lib/python3.7/site-packages/ipykernel_launcher.py:5: SettingWithCopyWarning: \n",
      "A value is trying to be set on a copy of a slice from a DataFrame.\n",
      "Try using .loc[row_indexer,col_indexer] = value instead\n",
      "\n",
      "See the caveats in the documentation: http://pandas.pydata.org/pandas-docs/stable/indexing.html#indexing-view-versus-copy\n",
      "  \"\"\"\n",
      "/Users/alenastern/.virtualenvs/aml/lib/python3.7/site-packages/ipykernel_launcher.py:6: RuntimeWarning: More than 20 figures have been opened. Figures created through the pyplot interface (`matplotlib.pyplot.figure`) are retained until explicitly closed and may consume too much memory. (To control this warning, see the rcParam `figure.max_open_warning`).\n",
      "  \n"
     ]
    },
    {
     "data": {
      "image/png": "[encoded data removed]",
      "text/plain": [
       "<Figure size 432x252 with 1 Axes>"
      ]
     },
     "metadata": {
      "needs_background": "light"
     },
     "output_type": "display_data"
    },
    {
     "data": {
      "image/png": "[encoded data removed]",
      "text/plain": [
       "<Figure size 432x252 with 1 Axes>"
      ]
     },
     "metadata": {
      "needs_background": "light"
     },
     "output_type": "display_data"
    },
    {
     "data": {
      "image/png": "[encoded data removed]",
      "text/plain": [
       "<Figure size 432x252 with 1 Axes>"
      ]
     },
     "metadata": {
      "needs_background": "light"
     },
     "output_type": "display_data"
    },
    {
     "data": {
      "image/png": "[encoded data removed]",
      "text/plain": [
       "<Figure size 432x252 with 1 Axes>"
      ]
     },
     "metadata": {
      "needs_background": "light"
     },
     "output_type": "display_data"
    },
    {
     "data": {
      "image/png": "[encoded data removed]",
      "text/plain": [
       "<Figure size 432x252 with 1 Axes>"
      ]
     },
     "metadata": {
      "needs_background": "light"
     },
     "output_type": "display_data"
    },
    {
     "data": {
      "image/png": "[encoded data removed]",
      "text/plain": [
       "<Figure size 432x252 with 1 Axes>"
      ]
     },
     "metadata": {
      "needs_background": "light"
     },
     "output_type": "display_data"
    },
    {
     "data": {
      "image/png": "[encoded data removed]",
      "text/plain": [
       "<Figure size 432x252 with 1 Axes>"
      ]
     },
     "metadata": {
      "needs_background": "light"
     },
     "output_type": "display_data"
    },
    {
     "data": {
      "image/png": "[encoded data removed]",
      "text/plain": [
       "<Figure size 432x252 with 1 Axes>"
      ]
     },
     "metadata": {
      "needs_background": "light"
     },
     "output_type": "display_data"
    },
    {
     "data": {
      "image/png": "[encoded data removed]",
      "text/plain": [
       "<Figure size 432x252 with 1 Axes>"
      ]
     },
     "metadata": {
      "needs_background": "light"
     },
     "output_type": "display_data"
    },
    {
     "data": {
      "image/png": "[encoded data removed]",
      "text/plain": [
       "<Figure size 432x252 with 1 Axes>"
      ]
     },
     "metadata": {
      "needs_background": "light"
     },
     "output_type": "display_data"
    },
    {
     "data": {
      "image/png": "[encoded data removed]",
      "text/plain": [
       "<Figure size 432x252 with 1 Axes>"
      ]
     },
     "metadata": {
      "needs_background": "light"
     },
     "output_type": "display_data"
    },
    {
     "data": {
      "image/png": "[encoded data removed]",
      "text/plain": [
       "<Figure size 432x252 with 1 Axes>"
      ]
     },
     "metadata": {
      "needs_background": "light"
     },
     "output_type": "display_data"
    },
    {
     "data": {
      "image/png": "[encoded data removed]",
      "text/plain": [
       "<Figure size 432x252 with 1 Axes>"
      ]
     },
     "metadata": {
      "needs_background": "light"
     },
     "output_type": "display_data"
    },
    {
     "data": {
      "image/png": "[encoded data removed]",
      "text/plain": [
       "<Figure size 432x252 with 1 Axes>"
      ]
     },
     "metadata": {
      "needs_background": "light"
     },
     "output_type": "display_data"
    },
    {
     "data": {
      "image/png": "[encoded data removed]",
      "text/plain": [
       "<Figure size 432x252 with 1 Axes>"
      ]
     },
     "metadata": {
      "needs_background": "light"
     },
     "output_type": "display_data"
    },
    {
     "data": {
      "image/png": "[encoded data removed]",
      "text/plain": [
       "<Figure size 432x252 with 1 Axes>"
      ]
     },
     "metadata": {
      "needs_background": "light"
     },
     "output_type": "display_data"
    },
    {
     "data": {
      "image/png": "[encoded data removed]",
      "text/plain": [
       "<Figure size 432x252 with 1 Axes>"
      ]
     },
     "metadata": {
      "needs_background": "light"
     },
     "output_type": "display_data"
    },
    {
     "data": {
      "image/png": "[encoded data removed]",
      "text/plain": [
       "<Figure size 432x252 with 1 Axes>"
      ]
     },
     "metadata": {
      "needs_background": "light"
     },
     "output_type": "display_data"
    },
    {
     "data": {
      "image/png": "[encoded data removed]",
      "text/plain": [
       "<Figure size 432x252 with 1 Axes>"
      ]
     },
     "metadata": {
      "needs_background": "light"
     },
     "output_type": "display_data"
    },
    {
     "data": {
      "image/png": "[encoded data removed]",
      "text/plain": [
       "<Figure size 432x252 with 1 Axes>"
      ]
     },
     "metadata": {
      "needs_background": "light"
     },
     "output_type": "display_data"
    },
    {
     "data": {
      "image/png": "[encoded data removed]",
      "text/plain": [
       "<Figure size 432x252 with 1 Axes>"
      ]
     },
     "metadata": {
      "needs_background": "light"
     },
     "output_type": "display_data"
    },
    {
     "data": {
      "image/png": "[encoded data removed]",
      "text/plain": [
       "<Figure size 432x252 with 1 Axes>"
      ]
     },
     "metadata": {
      "needs_background": "light"
     },
     "output_type": "display_data"
    }
   ],
   "source": [
    "# create plots for all topics \n",
    "for topic in all_topics:\n",
    "    topic_data = pol_data[pol_data[topic] == True]\n",
    "    topic_data.drop(all_topics, axis=1, inplace=True)\n",
    "    topic_data_plot = results_for_plotting(topic_data)\n",
    "    plot(topic_data_plot, palette, topic)\n",
    "    "
   ]
  },
  {
   "cell_type": "markdown",
   "metadata": {},
   "source": [
    "### Word Counts"
   ]
  },
  {
   "cell_type": "code",
   "execution_count": 122,
   "metadata": {},
   "outputs": [],
   "source": [
    "def word_counts(word_counts, num_words, word_dict):\n",
    "    # create word counts for printing\n",
    "    wc = []\n",
    "    for tup in word_counts[0:num_words]:\n",
    "        wc.append((word_dict[tup[0]], tup[1]))\n",
    "    return wc\n",
    "\n",
    "def print_word_counts(word_counts, num_words, word_dict):\n",
    "    # print wordcounts for viewing\n",
    "    for tup in word_counts[0:num_words]:\n",
    "        print(f\"{word_dict[tup[0]]}, {tup[1]} times\")\n",
    "\n",
    "def get_word_counts(bow_corpus):\n",
    "    # get word counts for corpus\n",
    "    counts = {}\n",
    "    for bow in bow_corpus:\n",
    "        for word in bow:\n",
    "            if word[0] not in counts.keys():\n",
    "                counts[word[0]] = 0\n",
    "            counts[word[0]] += word[1]\n",
    "    return [(k, counts[k]) for k in sorted(counts, key=counts.get, reverse=True)]\n",
    "\n",
    "def get_idf(bow_corpus):\n",
    "    # calculate IDF for corpus\n",
    "    doc_counts = {}\n",
    "    idf = {}\n",
    "    for bow in bow_corpus:\n",
    "        for word in bow:\n",
    "            if word[0] not in doc_counts:\n",
    "                doc_counts[word[0]] = 0\n",
    "            doc_counts[word[0]] += 1\n",
    "    for key, value in doc_counts.items():\n",
    "        idf[key] = 1/value\n",
    "    \n",
    "    return idf \n",
    "            "
   ]
  },
  {
   "cell_type": "code",
   "execution_count": 80,
   "metadata": {},
   "outputs": [],
   "source": [
    "# create group variable to calculate summary statistics\n",
    "pol_data['tweet_text_clean'] = pol_data['tweet_text_clean'].apply(lambda x: ast.literal_eval(x))\n",
    "df = pol_data\n",
    "df['group'] = np.where((df['democrat']==True) & (df['leadership']==True), 'dem-lead', \n",
    "     np.where((df['democrat']==True) & (df['leadership']==False), 'dem-base',\n",
    "     np.where((df['democrat']==False) & (df['leadership']==True), 'rep-lead', \n",
    "    np.where((df['democrat']==False) & (df['leadership']==False), 'rep-base', \"\"))))"
   ]
  },
  {
   "cell_type": "code",
   "execution_count": 110,
   "metadata": {},
   "outputs": [
    {
     "data": {
      "text/html": [
       "<div>\n",
       "<style scoped>\n",
       "    .dataframe tbody tr th:only-of-type {\n",
       "        vertical-align: middle;\n",
       "    }\n",
       "\n",
       "    .dataframe tbody tr th {\n",
       "        vertical-align: top;\n",
       "    }\n",
       "\n",
       "    .dataframe thead th {\n",
       "        text-align: right;\n",
       "    }\n",
       "</style>\n",
       "<table border=\"1\" class=\"dataframe\">\n",
       "  <thead>\n",
       "    <tr style=\"text-align: right;\">\n",
       "      <th></th>\n",
       "      <th>prediction_class</th>\n",
       "    </tr>\n",
       "    <tr>\n",
       "      <th>group</th>\n",
       "      <th></th>\n",
       "    </tr>\n",
       "  </thead>\n",
       "  <tbody>\n",
       "    <tr>\n",
       "      <th></th>\n",
       "      <td>0.358358</td>\n",
       "    </tr>\n",
       "    <tr>\n",
       "      <th>dem-base</th>\n",
       "      <td>0.258022</td>\n",
       "    </tr>\n",
       "    <tr>\n",
       "      <th>dem-lead</th>\n",
       "      <td>0.339750</td>\n",
       "    </tr>\n",
       "    <tr>\n",
       "      <th>rep-base</th>\n",
       "      <td>0.288852</td>\n",
       "    </tr>\n",
       "    <tr>\n",
       "      <th>rep-lead</th>\n",
       "      <td>0.358325</td>\n",
       "    </tr>\n",
       "  </tbody>\n",
       "</table>\n",
       "</div>"
      ],
      "text/plain": [
       "          prediction_class\n",
       "group                     \n",
       "                  0.358358\n",
       "dem-base          0.258022\n",
       "dem-lead          0.339750\n",
       "rep-base          0.288852\n",
       "rep-lead          0.358325"
      ]
     },
     "execution_count": 110,
     "metadata": {},
     "output_type": "execute_result"
    }
   ],
   "source": [
    "# Calculate summary stats by group, group = \"\" is third party tweets\n",
    "df['prediction_class'] = pd.to_numeric(df['prediction_class'])\n",
    "df[['group', 'prediction_class']].groupby(['group']).mean()"
   ]
  },
  {
   "cell_type": "code",
   "execution_count": 123,
   "metadata": {},
   "outputs": [],
   "source": [
    "# calculate IDF for vocabulary\n",
    "word_dict = corpora.Dictionary(pol_data['tweet_text_clean'])\n",
    "bow_corpus = [word_dict.doc2bow(doc) for  doc in pol_data['tweet_text_clean']]\n",
    "idf = get_idf(bow_corpus)"
   ]
  },
  {
   "cell_type": "code",
   "execution_count": 128,
   "metadata": {},
   "outputs": [],
   "source": [
    "# Calculate top TF-IDF words by topic-group\n",
    "with open('tf_idf_topic_group.csv', 'w', newline='') as csvfile:\n",
    "    writer = csv.writer(csvfile, delimiter=',')\n",
    "    writer.writerow(['Topic', 'Group', 'Class', 'Word', 'Count'])\n",
    "    for topic in all_topics:\n",
    "        #wd[topic] = {}\n",
    "        for group in ['dem-lead', 'dem-base', 'rep-lead', 'rep-base']:\n",
    "            for pred_class in [0, 1]:\n",
    "                topic_group_data = df[(df[topic] == True) & (df['group'] == group) \n",
    "                                      & (df['prediction_class'] == pred_class)]\n",
    "                word_dict = corpora.Dictionary(topic_group_data['tweet_text_clean'])\n",
    "                bow_corpus = [word_dict.doc2bow(doc) for  doc in topic_group_data['tweet_text_clean']]\n",
    "                wc = get_word_counts(bow_corpus)\n",
    "                tf_idf = {}\n",
    "                for tup in wc:\n",
    "                    tf_idf[tup[0]] = tup[1] *idf[tup[0]]\n",
    "                tf_idf_sort = [(k, tf_idf[k]) for k in sorted(tf_idf, key=tf_idf.get, reverse=True)]\n",
    "                for tfidf_tup in tf_idf_sort[0:10]:\n",
    "                    writer.writerow([topic, group, pred_class, word_dict[tfidf_tup[0]], tfidf_tup[1]])\n",
    "            "
   ]
  },
  {
   "cell_type": "code",
   "execution_count": 261,
   "metadata": {},
   "outputs": [
    {
     "name": "stderr",
     "output_type": "stream",
     "text": [
      "/Users/alenastern/.virtualenvs/aml/lib/python3.7/site-packages/ipykernel_launcher.py:13: SettingWithCopyWarning: \n",
      "A value is trying to be set on a copy of a slice from a DataFrame.\n",
      "Try using .loc[row_indexer,col_indexer] = value instead\n",
      "\n",
      "See the caveats in the documentation: http://pandas.pydata.org/pandas-docs/stable/indexing.html#indexing-view-versus-copy\n",
      "  del sys.path[0]\n"
     ]
    }
   ],
   "source": [
    "# Calculate top frequency words by group\n",
    "with open('top_words_topic_group.csv', 'w', newline='') as csvfile:\n",
    "    writer = csv.writer(csvfile, delimiter=',')\n",
    "    writer.writerow(['Topic', 'Group', 'Class', 'Word', 'Count'])\n",
    "    for topic in topics:\n",
    "        #wd[topic] = {}\n",
    "        for group in ['dem-lead', 'dem-base', 'rep-lead', 'rep-base']:\n",
    "            for pred_class in [0, 1]:\n",
    "                topic_group_data = df[(df[topic] == True) & (df['group'] == group) \n",
    "                                      & (df['prediction_class'] == pred_class)]\n",
    "                topic_group_data['tweet_text_clean'] = topic_group_data['tweet_text_clean'].apply(lambda x: ast.literal_eval(x))\n",
    "                word_dict = corpora.Dictionary(topic_group_data['tweet_text_clean'])\n",
    "                bow_corpus = [word_dict.doc2bow(doc) for  doc in topic_group_data['tweet_text_clean']]\n",
    "                wc = get_word_counts(bow_corpus)\n",
    "                #wd[topic][group] = word_counts(wc, 10, word_dict)\n",
    "                for tup in wc[0:10]:\n",
    "                    writer.writerow([topic, group, pred_class, word_dict[tup[0]], tup[1]])"
   ]
  },
  {
   "cell_type": "code",
   "execution_count": 124,
   "metadata": {},
   "outputs": [],
   "source": [
    "# Calculate summary statistics by topic-group\n",
    "with open('sum_stat_group.csv', 'w', newline='') as csvfile:\n",
    "    writer = csv.writer(csvfile, delimiter=',')\n",
    "    writer.writerow(['Topic', 'Group','Mean_Class','Std'])\n",
    "    for topic in all_topics:\n",
    "        for group in ['dem-lead', 'dem-base', 'rep-lead', 'rep-base']:\n",
    "            topic_group_data = df[(df[topic] == True) & (df['group'] == group)]\n",
    "            mean_class = topic_group_data['prediction_class'].mean()\n",
    "            std = topic_group_data['prediction_raw'].std(axis=0)\n",
    "            writer.writerow([topic, group, mean_class, std])"
   ]
  },
  {
   "cell_type": "code",
   "execution_count": 93,
   "metadata": {},
   "outputs": [],
   "source": [
    "# calculate summary statistics \n",
    "sum_stat = pd.read_csv('sum_stat_group.csv')"
   ]
  },
  {
   "cell_type": "code",
   "execution_count": 94,
   "metadata": {},
   "outputs": [
    {
     "data": {
      "text/html": [
       "<div>\n",
       "<style scoped>\n",
       "    .dataframe tbody tr th:only-of-type {\n",
       "        vertical-align: middle;\n",
       "    }\n",
       "\n",
       "    .dataframe tbody tr th {\n",
       "        vertical-align: top;\n",
       "    }\n",
       "\n",
       "    .dataframe thead th {\n",
       "        text-align: right;\n",
       "    }\n",
       "</style>\n",
       "<table border=\"1\" class=\"dataframe\">\n",
       "  <thead>\n",
       "    <tr style=\"text-align: right;\">\n",
       "      <th></th>\n",
       "      <th>Topic</th>\n",
       "      <th>Group</th>\n",
       "      <th>Mean_Class</th>\n",
       "      <th>Std</th>\n",
       "    </tr>\n",
       "  </thead>\n",
       "  <tbody>\n",
       "    <tr>\n",
       "      <th>0</th>\n",
       "      <td>civil_rights</td>\n",
       "      <td>dem-lead</td>\n",
       "      <td>0.411296</td>\n",
       "      <td>0.383365</td>\n",
       "    </tr>\n",
       "    <tr>\n",
       "      <th>1</th>\n",
       "      <td>civil_rights</td>\n",
       "      <td>dem-base</td>\n",
       "      <td>0.309549</td>\n",
       "      <td>0.341997</td>\n",
       "    </tr>\n",
       "    <tr>\n",
       "      <th>2</th>\n",
       "      <td>civil_rights</td>\n",
       "      <td>rep-lead</td>\n",
       "      <td>0.464189</td>\n",
       "      <td>0.375719</td>\n",
       "    </tr>\n",
       "    <tr>\n",
       "      <th>3</th>\n",
       "      <td>civil_rights</td>\n",
       "      <td>rep-base</td>\n",
       "      <td>0.343348</td>\n",
       "      <td>0.357537</td>\n",
       "    </tr>\n",
       "    <tr>\n",
       "      <th>4</th>\n",
       "      <td>courts</td>\n",
       "      <td>dem-lead</td>\n",
       "      <td>0.315536</td>\n",
       "      <td>0.357186</td>\n",
       "    </tr>\n",
       "  </tbody>\n",
       "</table>\n",
       "</div>"
      ],
      "text/plain": [
       "          Topic     Group  Mean_Class       Std\n",
       "0  civil_rights  dem-lead    0.411296  0.383365\n",
       "1  civil_rights  dem-base    0.309549  0.341997\n",
       "2  civil_rights  rep-lead    0.464189  0.375719\n",
       "3  civil_rights  rep-base    0.343348  0.357537\n",
       "4        courts  dem-lead    0.315536  0.357186"
      ]
     },
     "execution_count": 94,
     "metadata": {},
     "output_type": "execute_result"
    }
   ],
   "source": [
    "sum_stat.head()"
   ]
  },
  {
   "cell_type": "code",
   "execution_count": 96,
   "metadata": {},
   "outputs": [],
   "source": [
    "# reformat summary statistics for paper\n",
    "sum_stat = sum_stat.pivot(index='Topic', columns='Group', values=['Mean_Class', 'Std'])"
   ]
  },
  {
   "cell_type": "code",
   "execution_count": 99,
   "metadata": {},
   "outputs": [],
   "source": [
    "sum_stat.to_csv('sum_stat_group_paper.csv')"
   ]
  }
 ],
 "metadata": {
  "kernelspec": {
   "display_name": "Python 3",
   "language": "python",
   "name": "python3"
  },
  "language_info": {
   "codemirror_mode": {
    "name": "ipython",
    "version": 3
   },
   "file_extension": ".py",
   "mimetype": "text/x-python",
   "name": "python",
   "nbconvert_exporter": "python",
   "pygments_lexer": "ipython3",
   "version": "3.7.3"
  }
 },
 "nbformat": 4,
 "nbformat_minor": 2
}
